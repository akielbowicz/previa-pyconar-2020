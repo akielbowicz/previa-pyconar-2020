{
 "cells": [
  {
   "cell_type": "markdown",
   "metadata": {},
   "source": [
    "# Introduccion al uso de Jupyter y Python"
   ]
  },
  {
   "cell_type": "markdown",
   "metadata": {},
   "source": [
    "# Prueba del ambiente\n",
    "\n",
    "Para saber si tienen todo bien instalado y listo para trabajar, abran el siguiente cuaderno\n",
    "[test](test/test.ipynb)\n",
    "\n",
    "Y denle click a `Kernel -> Restart Kernell and Run All Cells...`\n",
    "\n",
    "<img src=\"../imagenes/ejecutar_notebook.png\" style=\"height:500px\">"
   ]
  },
  {
   "cell_type": "markdown",
   "metadata": {},
   "source": [
    "Si ven un grafico, todo funciona correctamente. Si no, falta ejecutar algo o instalar."
   ]
  },
  {
   "cell_type": "markdown",
   "metadata": {},
   "source": [
    "### Aqui un par de opciones\n",
    "\n",
    "#### En JupyterLab\n",
    "\n",
    "Comprobar que tienen las extensiones habilitadas\n",
    "\n",
    "\n",
    "<img src=\"../imagenes/extensiones.png\" style=\"height:500px\">\n",
    "<!-- ![extensiones](../imagenes/extensiones.png) -->"
   ]
  },
  {
   "cell_type": "markdown",
   "metadata": {},
   "source": [
    "### Si todo funciona bien, podemos comenzar\n",
    "\n",
    "- [Uso de Jupyter](uso_de_jupyter.ipynb)"
   ]
  }
 ],
 "metadata": {
  "kernelspec": {
   "display_name": "Python 3",
   "language": "python",
   "name": "python3"
  },
  "language_info": {
   "codemirror_mode": {
    "name": "ipython",
    "version": 3
   },
   "file_extension": ".py",
   "mimetype": "text/x-python",
   "name": "python",
   "nbconvert_exporter": "python",
   "pygments_lexer": "ipython3",
   "version": "3.8.6"
  }
 },
 "nbformat": 4,
 "nbformat_minor": 4
}

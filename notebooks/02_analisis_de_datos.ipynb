{
 "cells": [
  {
   "cell_type": "markdown",
   "metadata": {},
   "source": [
    "# Como realizar el analisis de datos en Jupyter "
   ]
  },
  {
   "cell_type": "markdown",
   "metadata": {},
   "source": [
    "[PyCon Ar en PyVideo.org](https://pyvideo.org/events/pycon-ar-2011.html)"
   ]
  },
  {
   "cell_type": "markdown",
   "metadata": {},
   "source": [
    "- Explorar los datos"
   ]
  },
  {
   "cell_type": "code",
   "execution_count": 19,
   "metadata": {},
   "outputs": [],
   "source": [
    "import pathlib\n",
    "\n",
    "carpeta_datos = pathlib.Path('./datos')"
   ]
  },
  {
   "cell_type": "code",
   "execution_count": 33,
   "metadata": {},
   "outputs": [],
   "source": [
    "archivos = [ elemento for elemento in carpeta_datos.glob('*/videos/*.json') ]"
   ]
  },
  {
   "cell_type": "code",
   "execution_count": 34,
   "metadata": {},
   "outputs": [
    {
     "data": {
      "text/plain": [
       "237"
      ]
     },
     "execution_count": 34,
     "metadata": {},
     "output_type": "execute_result"
    }
   ],
   "source": [
    "len(archivos)"
   ]
  },
  {
   "cell_type": "code",
   "execution_count": 35,
   "metadata": {},
   "outputs": [
    {
     "data": {
      "text/plain": [
       "{'.json'}"
      ]
     },
     "execution_count": 35,
     "metadata": {},
     "output_type": "execute_result"
    }
   ],
   "source": [
    "{archivo.suffix for archivo in archivos }"
   ]
  },
  {
   "cell_type": "code",
   "execution_count": 31,
   "metadata": {},
   "outputs": [
    {
     "data": {
      "text/plain": [
       "''"
      ]
     },
     "execution_count": 31,
     "metadata": {},
     "output_type": "execute_result"
    }
   ],
   "source": [
    "archivos[0].suffix"
   ]
  },
  {
   "cell_type": "markdown",
   "metadata": {},
   "source": [
    "- Importar los datos con pandas"
   ]
  },
  {
   "cell_type": "code",
   "execution_count": 36,
   "metadata": {},
   "outputs": [],
   "source": [
    "import pandas"
   ]
  },
  {
   "cell_type": "code",
   "execution_count": 58,
   "metadata": {},
   "outputs": [],
   "source": [
    "def safe_df(archivo):\n",
    "    try:\n",
    "        df = pandas.read_json(archivo,typ='series')\n",
    "    except ValueError as err:\n",
    "        df = pandas.DataFrame()\n",
    "        print('Fallo al cargar: ', archivo)\n",
    "    return df"
   ]
  },
  {
   "cell_type": "code",
   "execution_count": 59,
   "metadata": {},
   "outputs": [],
   "source": [
    "series = [ safe_df(archivo) for archivo in archivos ]"
   ]
  },
  {
   "cell_type": "code",
   "execution_count": 69,
   "metadata": {},
   "outputs": [],
   "source": [
    "df = pandas.concat(series,axis=1).T"
   ]
  },
  {
   "cell_type": "code",
   "execution_count": 73,
   "metadata": {},
   "outputs": [],
   "source": [
    "speakers = df.speakers.explode()"
   ]
  },
  {
   "cell_type": "code",
   "execution_count": 82,
   "metadata": {},
   "outputs": [],
   "source": [
    "import bqplot.pyplot as plt\n",
    "\n",
    "pandas.set_option('plotting.backend', 'bqplot.pyplot')"
   ]
  },
  {
   "cell_type": "code",
   "execution_count": 83,
   "metadata": {},
   "outputs": [
    {
     "data": {
      "application/vnd.jupyter.widget-view+json": {
       "model_id": "eb9e8fa8891d414d8dc6bfa0a17a7c17",
       "version_major": 2,
       "version_minor": 0
      },
      "text/plain": [
       "VBox(children=(Figure(axes=[Axis(scale=LinearScale(), side='bottom'), Axis(orientation='vertical', scale=Linea…"
      ]
     },
     "metadata": {},
     "output_type": "display_data"
    }
   ],
   "source": [
    "df.speakers.apply(len).sort_values().plot()\n",
    "plt.show()"
   ]
  },
  {
   "cell_type": "code",
   "execution_count": 127,
   "metadata": {},
   "outputs": [],
   "source": [
    "import bqplot"
   ]
  },
  {
   "cell_type": "code",
   "execution_count": 136,
   "metadata": {},
   "outputs": [
    {
     "data": {
      "application/vnd.jupyter.widget-view+json": {
       "model_id": "29090e92a4464cf98fa5a678a1b85cba",
       "version_major": 2,
       "version_minor": 0
      },
      "text/plain": [
       "VBox(children=(Figure(axes=[Axis(orientation='vertical', scale=OrdinalScale()), Axis(scale=LinearScale())], fi…"
      ]
     },
     "metadata": {},
     "output_type": "display_data"
    }
   ],
   "source": [
    "x=df.speakers.explode().value_counts()\n",
    "x =  x[x>1]\n",
    "plt.figure()\n",
    "plt.scales(scales={'x':bqplot.OrdinalScale(),'y':plt.LinearScale()})\n",
    "bar = plt.bar(x.index,x.values,orientation='horizontal')\n",
    "plt.show()"
   ]
  },
  {
   "cell_type": "code",
   "execution_count": 130,
   "metadata": {},
   "outputs": [
    {
     "data": {
      "text/plain": [
       "Scatter(colors=['steelblue'], interactions={'hover': 'tooltip'}, scales={'x': OrdinalScale(), 'y': LinearScale()}, scales_metadata={'x': {'orientation': 'horizontal', 'dimension': 'x'}, 'y': {'orientation': 'vertical', 'dimension': 'y'}, 'color': {'dimension': 'color'}, 'size': {'dimension': 'size'}, 'opacity': {'dimension': 'opacity'}, 'rotation': {'dimension': 'rotation'}, 'skew': {'dimension': 'skew'}}, tooltip_style={'opacity': 0.9}, x=array(['Various speakers', 'Facundo Batista', 'Juan Pedro Fisanotti',\n",
       "       'Roberto Alsina', 'Claudio Freire', 'Damián Avila',\n",
       "       'Hugo Ruscitti', 'Alejandro J. Cura', 'Various Speakers',\n",
       "       'Diego Sarmentero', 'Natalia Bidart', 'Martin Alderete',\n",
       "       'Rafael Carrascosa', 'Gabriel Genellina', 'Ricardo Kirkner',\n",
       "       'Martín Gaitán', 'Alejandro Cura', 'Manuel Quiñones',\n",
       "       'Diego Cañizares', 'Massimo Di Pierro', 'Craig Kerstiens',\n",
       "       'Luciano Rossi', 'Ariel Rossanigo', 'Andrea Gavana',\n",
       "       'Nicolás Demarchi', 'Felipe Lerena', 'Daniel F. Moisset',\n",
       "       'Matías Bordese', 'Berenice Larsen Pereyra', 'Brett Cannon',\n",
       "       'Javier Mansilla', 'Sebastián Marró',\n",
       "       'Emiliano Dalla Verde Marcozzi', 'Manuel Kaufmann', 'Sofía Denner',\n",
       "       'Pedro Ignacio Guridi', 'Christophe Pettus', 'Ezequiel Gutesman',\n",
       "       'Brandon Rhodes', 'Javier Der Derian', 'Wesley Chun',\n",
       "       'Luciano Serruya Aloisi', 'Carol Willing', 'Cynthia Monastirsky',\n",
       "       'Vinicius Feitosa Pacheco', 'María Andrea Vignau',\n",
       "       'Sebastian Brachi', 'Martin Volpe', 'Ramiro Morales',\n",
       "       'Sebastián Kennedy', 'Andrés Riancho', 'Joaquín Sorianello',\n",
       "       'David Litvak Bruno', 'Leonardo Lazzaro', 'Paola Katherine',\n",
       "       'Nicolas Quiroz', 'Flor Novidelsky', 'Fernando Schapachnik',\n",
       "       'Juan Manuel Schillaci', 'Silvestre Huens', 'Joaquin Sorianello',\n",
       "       'Dino Viehland', 'Emilio Crudele', 'Juan Manuel Santos',\n",
       "       'Federico Martinez y Santiago Avendaño', 'Estefania Miguel',\n",
       "       'Sofia Martin', 'Ariel Farkas', 'Alfonso de la Guarda Reyes',\n",
       "       'Federico Brest', 'Lucía García Itzigsohn', 'A. Garassino',\n",
       "       'Miguel Felipe Duarte', 'Dave Weil', 'dax', 'Matias Barriento',\n",
       "       'Angel J. Lopez', 'Tomas Zulberti', 'Valeria Rocha',\n",
       "       'Juan Carlos Abdala', 'Johanna Caterina Faliero', 'D. Nohales',\n",
       "       'Carlos de la Torre', 'Leonardo Morales', 'Martín Miranda',\n",
       "       'Aylen Bombelli', 'Hernan Wilkinson', 'Martin Riva',\n",
       "       'Tati Al-Chueyr', 'Daniel Espinoza', 'Martin Ribelotta',\n",
       "       'Lucio Delelis', 'Diego Diez', 'Ana Laura Almada', 'Sofía Martin',\n",
       "       'Juan Pablo Giménez', 'Martin Elias Costa', 'N. Demarchi',\n",
       "       'Gustavo Garcia Craia', 'Manuel de la Peña', 'Javier Derderyan',\n",
       "       'Valentín Spurchisi', 'Sebastian Bassi', 'Jose Morales',\n",
       "       'Celia Cintas', 'Pablo Cruz Casas', 'Augusto Coto',\n",
       "       'Carolina Maristany', 'Sergio Schvezov', 'Angel Freire',\n",
       "       'Laureano Kloss', 'Alexis Jawtuschenko', 'L. Torre',\n",
       "       'Juan Bagnera', 'Diego Mascialino', 'Mariano Guerra',\n",
       "       'Damian Avila', 'Cecilia Jarne', 'Ignacio Heredia', 'Erico Ándrei',\n",
       "       'Ana Velez Rueda', 'Maciej Fijalkowski', 'Ana Almada',\n",
       "       'Diego G. Cañizares', 'David Garoz', 'Alan Runyan',\n",
       "       'Eduardo Casarero', 'Juan E. D.', 'Mariano Reingart',\n",
       "       'Héctor Sanchez Gonzalo Odiard', 'Javyer Der Derian',\n",
       "       'Emanuel Sartor', 'Franco Mariluis', 'Alejandro Pereira',\n",
       "       'Alejandro Garcia', 'Erico Andrei', 'Adriana Aiassa',\n",
       "       'Pablo Alcain', 'Robert M Lefkowitz', 'Matias Lang',\n",
       "       'Fernando Masanori', 'Matias Bordese', 'German Bourdin',\n",
       "       'Alejandro Zamora Fonseca', 'Angel Lopez', 'Simon Willison',\n",
       "       'M. Quiñones', 'Mário Sérgio', 'Francisco Capdevila',\n",
       "       'Carlos Matías de la Torre', 'Leandro Ucciferri',\n",
       "       'Marcelo Fernández', 'Matias Varela', 'Ángel Medinilla',\n",
       "       'Jim Fulton', 'Mariela Osete', 'Katherine Jenkins',\n",
       "       'Nahuel Lascano', 'Diego Ramirez', 'Franco Nicolas Bellomo',\n",
       "       'Andrés Snitcofsky', 'Mariano Lambir', 'Rodrigo Lugones',\n",
       "       'Graciela Molina', 'Ignacio Fiorentino',\n",
       "       'Federico Gonzalez (FedeG)', 'Jeannette Torrez',\n",
       "       'Victoria Martinez de la Cruz', 'Thiago Avelino', 'Álvaro Justen',\n",
       "       'Alexis Ferreyra', 'Juan Bautista Cabral', 'Yonatan Romero',\n",
       "       'Javier Ayres', 'Pablo Toledo Margalef'], dtype=object), y=array([31,  7,  5,  5,  5,  4,  4,  3,  3,  3,  3,  3,  3,  3,  2,  2,  2,\n",
       "        2,  2,  2,  2,  2,  2,  2,  2,  2,  2,  2,  2,  2,  2,  2,  2,  2,\n",
       "        2,  2,  2,  1,  1,  1,  1,  1,  1,  1,  1,  1,  1,  1,  1,  1,  1,\n",
       "        1,  1,  1,  1,  1,  1,  1,  1,  1,  1,  1,  1,  1,  1,  1,  1,  1,\n",
       "        1,  1,  1,  1,  1,  1,  1,  1,  1,  1,  1,  1,  1,  1,  1,  1,  1,\n",
       "        1,  1,  1,  1,  1,  1,  1,  1,  1,  1,  1,  1,  1,  1,  1,  1,  1,\n",
       "        1,  1,  1,  1,  1,  1,  1,  1,  1,  1,  1,  1,  1,  1,  1,  1,  1,\n",
       "        1,  1,  1,  1,  1,  1,  1,  1,  1,  1,  1,  1,  1,  1,  1,  1,  1,\n",
       "        1,  1,  1,  1,  1,  1,  1,  1,  1,  1,  1,  1,  1,  1,  1,  1,  1,\n",
       "        1,  1,  1,  1,  1,  1,  1,  1,  1,  1,  1,  1,  1,  1,  1,  1,  1,\n",
       "        1,  1,  1,  1,  1], dtype=int64))"
      ]
     },
     "execution_count": 130,
     "metadata": {},
     "output_type": "execute_result"
    }
   ],
   "source": []
  },
  {
   "cell_type": "markdown",
   "metadata": {},
   "source": [
    "- Realizar graficos"
   ]
  }
 ],
 "metadata": {
  "kernelspec": {
   "display_name": "Python 3",
   "language": "python",
   "name": "python3"
  },
  "language_info": {
   "codemirror_mode": {
    "name": "ipython",
    "version": 3
   },
   "file_extension": ".py",
   "mimetype": "text/x-python",
   "name": "python",
   "nbconvert_exporter": "python",
   "pygments_lexer": "ipython3",
   "version": "3.8.6"
  },
  "widgets": {
   "application/vnd.jupyter.widget-state+json": {
    "state": {
     "007528f904ca45b6abf7afb5967a907e": {
      "model_module": "bqplot",
      "model_module_version": "^0.5.18",
      "model_name": "LinearScaleModel",
      "state": {
       "_model_module_version": "^0.5.18",
       "_view_module_version": "^0.5.18",
       "stabilized": false
      }
     },
     "00d966f730594248bf7e79b5f3887474": {
      "model_module": "@jupyter-widgets/base",
      "model_module_version": "1.2.0",
      "model_name": "LayoutModel",
      "state": {}
     },
     "01c4c514054243eab667bc5b8f4f8a3c": {
      "model_module": "@jupyter-widgets/controls",
      "model_module_version": "1.5.0",
      "model_name": "VBoxModel",
      "state": {
       "children": [
        "IPY_MODEL_880a7ada5d084533aad4e328de1a25f9",
        "IPY_MODEL_e4b99e94a075477d93d79ba89bfcd6c9"
       ],
       "layout": "IPY_MODEL_c50c133829b94c9ba5ddf9eb4c83f6de"
      }
     },
     "02855af31865445fb176ac5e9cec80b2": {
      "model_module": "bqplot",
      "model_module_version": "^0.5.18",
      "model_name": "AxisModel",
      "state": {
       "_model_module_version": "^0.5.18",
       "_view_module_version": "^0.5.18",
       "orientation": "vertical",
       "scale": "IPY_MODEL_a232819f00ab4668b64f3574c8d5c9f7",
       "side": "left",
       "tick_values": null
      }
     },
     "034c2d14b4ae427ba71543e4e8916742": {
      "model_module": "bqplot",
      "model_module_version": "^0.5.18",
      "model_name": "LinearScaleModel",
      "state": {
       "_model_module_version": "^0.5.18",
       "_view_module_version": "^0.5.18",
       "allow_padding": false,
       "max": 1,
       "min": 0,
       "stabilized": false
      }
     },
     "04be6c932b81417bb0f6e2819bb44ba1": {
      "model_module": "bqplot",
      "model_module_version": "^0.5.18",
      "model_name": "LinearScaleModel",
      "state": {
       "_model_module_version": "^0.5.18",
       "_view_module_version": "^0.5.18",
       "stabilized": false
      }
     },
     "054729a2681b427cbae3c1b88bbb5d81": {
      "model_module": "@jupyter-widgets/base",
      "model_module_version": "1.2.0",
      "model_name": "LayoutModel",
      "state": {}
     },
     "0577346d0582472194489b86f6f169f7": {
      "model_module": "bqplot",
      "model_module_version": "^0.5.18",
      "model_name": "LinearScaleModel",
      "state": {
       "_model_module_version": "^0.5.18",
       "_view_module_version": "^0.5.18",
       "allow_padding": false,
       "max": 1,
       "min": 0,
       "stabilized": false
      }
     },
     "06fc3e340b064fd6a864587e0cf0dd44": {
      "model_module": "bqplot",
      "model_module_version": "^0.5.18",
      "model_name": "LinearScaleModel",
      "state": {
       "_model_module_version": "^0.5.18",
       "_view_module_version": "^0.5.18",
       "stabilized": false
      }
     },
     "0818b2d78011430db3c6c53b15ac8a08": {
      "model_module": "@jupyter-widgets/base",
      "model_module_version": "1.2.0",
      "model_name": "LayoutModel",
      "state": {}
     },
     "0869017a92af4904b61edd988ad747d8": {
      "model_module": "bqplot",
      "model_module_version": "^0.5.18",
      "model_name": "LinearScaleModel",
      "state": {
       "_model_module_version": "^0.5.18",
       "_view_module_version": "^0.5.18",
       "stabilized": false
      }
     },
     "093897374ab64ea5ae098dd4d43563a2": {
      "model_module": "bqplot",
      "model_module_version": "^0.5.18",
      "model_name": "LinearScaleModel",
      "state": {
       "_model_module_version": "^0.5.18",
       "_view_module_version": "^0.5.18",
       "allow_padding": false,
       "max": 1,
       "min": 0,
       "stabilized": false
      }
     },
     "09a1ce0232304723844de9db9832cae7": {
      "model_module": "bqplot",
      "model_module_version": "^0.5.18",
      "model_name": "LinearScaleModel",
      "state": {
       "_model_module_version": "^0.5.18",
       "_view_module_version": "^0.5.18",
       "allow_padding": false,
       "max": 1,
       "min": 0,
       "stabilized": false
      }
     },
     "09aed5cce6eb4743b29a365f67f4ee19": {
      "model_module": "bqplot",
      "model_module_version": "^0.5.18",
      "model_name": "LinearScaleModel",
      "state": {
       "_model_module_version": "^0.5.18",
       "_view_module_version": "^0.5.18",
       "stabilized": false
      }
     },
     "0a6218086510431585d2c7762b068c7e": {
      "model_module": "@jupyter-widgets/base",
      "model_module_version": "1.2.0",
      "model_name": "LayoutModel",
      "state": {}
     },
     "0b1493fe7a18481d956f69fef4ee80cf": {
      "model_module": "@jupyter-widgets/base",
      "model_module_version": "1.2.0",
      "model_name": "LayoutModel",
      "state": {}
     },
     "0d35b3d425c4483fa4f4692b4bb7a170": {
      "model_module": "bqplot",
      "model_module_version": "^0.5.18",
      "model_name": "LinearScaleModel",
      "state": {
       "_model_module_version": "^0.5.18",
       "_view_module_version": "^0.5.18",
       "allow_padding": false,
       "max": 1,
       "min": 0,
       "stabilized": false
      }
     },
     "0f0d73466f924b469f54272af2eb544c": {
      "model_module": "bqplot",
      "model_module_version": "^0.5.18",
      "model_name": "LinearScaleModel",
      "state": {
       "_model_module_version": "^0.5.18",
       "_view_module_version": "^0.5.18",
       "allow_padding": false,
       "max": 1,
       "min": 0,
       "stabilized": false
      }
     },
     "0f5e6a083560418f9fcc94b97ec080c8": {
      "model_module": "bqplot",
      "model_module_version": "^0.5.18",
      "model_name": "AxisModel",
      "state": {
       "_model_module_version": "^0.5.18",
       "_view_module_version": "^0.5.18",
       "scale": "IPY_MODEL_bb18642b348643f1826fa0bb0a7d3d40",
       "side": "bottom",
       "tick_values": null
      }
     },
     "0fe4325663ca4225a3790a2c0f3c6bc4": {
      "buffers": [
       {
        "data": "HwAAAAcAAAAFAAAABQAAAAUAAAAEAAAABAAAAAMAAAADAAAAAwAAAAMAAAADAAAAAwAAAAMAAAACAAAAAgAAAAIAAAACAAAAAgAAAAIAAAACAAAAAgAAAAIAAAACAAAAAgAAAAIAAAACAAAAAgAAAAIAAAACAAAAAgAAAAIAAAACAAAAAgAAAAIAAAACAAAAAgAAAAEAAAABAAAAAQAAAAEAAAABAAAAAQAAAAEAAAABAAAAAQAAAAEAAAABAAAAAQAAAAEAAAABAAAAAQAAAAEAAAABAAAAAQAAAAEAAAABAAAAAQAAAAEAAAABAAAAAQAAAAEAAAABAAAAAQAAAAEAAAABAAAAAQAAAAEAAAABAAAAAQAAAAEAAAABAAAAAQAAAAEAAAABAAAAAQAAAAEAAAABAAAAAQAAAAEAAAABAAAAAQAAAAEAAAABAAAAAQAAAAEAAAABAAAAAQAAAAEAAAABAAAAAQAAAAEAAAABAAAAAQAAAAEAAAABAAAAAQAAAAEAAAABAAAAAQAAAAEAAAABAAAAAQAAAAEAAAABAAAAAQAAAAEAAAABAAAAAQAAAAEAAAABAAAAAQAAAAEAAAABAAAAAQAAAAEAAAABAAAAAQAAAAEAAAABAAAAAQAAAAEAAAABAAAAAQAAAAEAAAABAAAAAQAAAAEAAAABAAAAAQAAAAEAAAABAAAAAQAAAAEAAAABAAAAAQAAAAEAAAABAAAAAQAAAAEAAAABAAAAAQAAAAEAAAABAAAAAQAAAAEAAAABAAAAAQAAAAEAAAABAAAAAQAAAAEAAAABAAAAAQAAAAEAAAABAAAAAQAAAAEAAAABAAAAAQAAAAEAAAABAAAAAQAAAAEAAAABAAAAAQAAAAEAAAABAAAAAQAAAAEAAAABAAAAAQAAAAEAAAABAAAAAQAAAA==",
        "encoding": "base64",
        "path": [
         "y",
         "value"
        ]
       }
      ],
      "model_module": "bqplot",
      "model_module_version": "^0.5.18",
      "model_name": "ScatterModel",
      "state": {
       "_model_module_version": "^0.5.18",
       "_view_module_version": "^0.5.18",
       "default_opacities": {
        "dtype": "float64",
        "shape": [
         1
        ],
        "type": null,
        "value": {}
       },
       "label_display_horizontal_offset": 0,
       "label_display_vertical_offset": 0,
       "names": null,
       "scales": {
        "x": "IPY_MODEL_bb18642b348643f1826fa0bb0a7d3d40",
        "y": "IPY_MODEL_71ef62f5174a48288ce47fe5efd107e2"
       },
       "scales_metadata": {
        "color": {
         "dimension": "color"
        },
        "opacity": {
         "dimension": "opacity"
        },
        "rotation": {
         "dimension": "rotation"
        },
        "size": {
         "dimension": "size"
        },
        "skew": {
         "dimension": "skew"
        },
        "x": {
         "dimension": "x",
         "orientation": "horizontal"
        },
        "y": {
         "dimension": "y",
         "orientation": "vertical"
        }
       },
       "x": [
        "Various speakers",
        "Facundo Batista",
        "Juan Pedro Fisanotti",
        "Roberto Alsina",
        "Claudio Freire",
        "Damián Avila",
        "Hugo Ruscitti",
        "Alejandro J. Cura",
        "Various Speakers",
        "Diego Sarmentero",
        "Natalia Bidart",
        "Martin Alderete",
        "Rafael Carrascosa",
        "Gabriel Genellina",
        "Ricardo Kirkner",
        "Martín Gaitán",
        "Alejandro Cura",
        "Manuel Quiñones",
        "Diego Cañizares",
        "Massimo Di Pierro",
        "Craig Kerstiens",
        "Luciano Rossi",
        "Ariel Rossanigo",
        "Andrea Gavana",
        "Nicolás Demarchi",
        "Felipe Lerena",
        "Daniel F. Moisset",
        "Matías Bordese",
        "Berenice Larsen Pereyra",
        "Brett Cannon",
        "Javier Mansilla",
        "Sebastián Marró",
        "Emiliano Dalla Verde Marcozzi",
        "Manuel Kaufmann",
        "Sofía Denner",
        "Pedro Ignacio Guridi",
        "Christophe Pettus",
        "Ezequiel Gutesman",
        "Brandon Rhodes",
        "Javier Der Derian",
        "Wesley Chun",
        "Luciano Serruya Aloisi",
        "Carol Willing",
        "Cynthia Monastirsky",
        "Vinicius Feitosa Pacheco",
        "María Andrea Vignau",
        "Sebastian Brachi",
        "Martin Volpe",
        "Ramiro Morales",
        "Sebastián Kennedy",
        "Andrés Riancho",
        "Joaquín Sorianello",
        "David Litvak Bruno",
        "Leonardo Lazzaro",
        "Paola Katherine",
        "Nicolas Quiroz",
        "Flor Novidelsky",
        "Fernando Schapachnik",
        "Juan Manuel Schillaci",
        "Silvestre Huens",
        "Joaquin Sorianello",
        "Dino Viehland",
        "Emilio Crudele",
        "Juan Manuel Santos",
        "Federico Martinez y Santiago Avendaño",
        "Estefania Miguel",
        "Sofia Martin",
        "Ariel Farkas",
        "Alfonso de la Guarda Reyes",
        "Federico Brest",
        "Lucía García Itzigsohn",
        "A. Garassino",
        "Miguel Felipe Duarte",
        "Dave Weil",
        "dax",
        "Matias Barriento",
        "Angel J. Lopez",
        "Tomas Zulberti",
        "Valeria Rocha",
        "Juan Carlos Abdala",
        "Johanna Caterina Faliero",
        "D. Nohales",
        "Carlos de la Torre",
        "Leonardo Morales",
        "Martín Miranda",
        "Aylen Bombelli",
        "Hernan Wilkinson",
        "Martin Riva",
        "Tati Al-Chueyr",
        "Daniel Espinoza",
        "Martin Ribelotta",
        "Lucio Delelis",
        "Diego Diez",
        "Ana Laura Almada",
        "Sofía Martin",
        "Juan Pablo Giménez",
        "Martin Elias Costa",
        "N. Demarchi",
        "Gustavo Garcia Craia",
        "Manuel de la Peña",
        "Javier Derderyan",
        "Valentín Spurchisi",
        "Sebastian Bassi",
        "Jose Morales",
        "Celia Cintas",
        "Pablo Cruz Casas",
        "Augusto Coto",
        "Carolina Maristany",
        "Sergio Schvezov",
        "Angel Freire",
        "Laureano Kloss",
        "Alexis Jawtuschenko",
        "L. Torre",
        "Juan Bagnera",
        "Diego Mascialino",
        "Mariano Guerra",
        "Damian Avila",
        "Cecilia Jarne",
        "Ignacio Heredia",
        "Erico Ándrei",
        "Ana Velez Rueda",
        "Maciej Fijalkowski",
        "Ana Almada",
        "Diego G. Cañizares",
        "David Garoz",
        "Alan Runyan",
        "Eduardo Casarero",
        "Juan E. D.",
        "Mariano Reingart",
        "Héctor Sanchez Gonzalo Odiard",
        "Javyer Der Derian",
        "Emanuel Sartor",
        "Franco Mariluis",
        "Alejandro Pereira",
        "Alejandro Garcia",
        "Erico Andrei",
        "Adriana Aiassa",
        "Pablo Alcain",
        "Robert M Lefkowitz",
        "Matias Lang",
        "Fernando Masanori",
        "Matias Bordese",
        "German Bourdin",
        "Alejandro Zamora Fonseca",
        "Angel Lopez",
        "Simon Willison",
        "M. Quiñones",
        "Mário Sérgio",
        "Francisco Capdevila",
        "Carlos Matías de la Torre",
        "Leandro Ucciferri",
        "Marcelo Fernández",
        "Matias Varela",
        "Ángel Medinilla",
        "Jim Fulton",
        "Mariela Osete",
        "Katherine Jenkins",
        "Nahuel Lascano",
        "Diego Ramirez",
        "Franco Nicolas Bellomo",
        "Andrés Snitcofsky",
        "Mariano Lambir",
        "Rodrigo Lugones",
        "Graciela Molina",
        "Ignacio Fiorentino",
        "Federico Gonzalez (FedeG)",
        "Jeannette Torrez",
        "Victoria Martinez de la Cruz",
        "Thiago Avelino",
        "Álvaro Justen",
        "Alexis Ferreyra",
        "Juan Bautista Cabral",
        "Yonatan Romero",
        "Javier Ayres",
        "Pablo Toledo Margalef"
       ],
       "y": {
        "dtype": "int32",
        "shape": [
         175
        ],
        "type": null
       }
      }
     },
     "10ccda5699d0401082ca3cea52088692": {
      "buffers": [
       {
        "data": "HwAAAAcAAAAFAAAABQAAAAUAAAAEAAAABAAAAAMAAAADAAAAAwAAAAMAAAADAAAAAwAAAAMAAAACAAAAAgAAAAIAAAACAAAAAgAAAAIAAAACAAAAAgAAAAIAAAACAAAAAgAAAAIAAAACAAAAAgAAAAIAAAACAAAAAgAAAAIAAAACAAAAAgAAAAIAAAACAAAAAgAAAAEAAAABAAAAAQAAAAEAAAABAAAAAQAAAAEAAAABAAAAAQAAAAEAAAABAAAAAQAAAAEAAAABAAAAAQAAAAEAAAABAAAAAQAAAAEAAAABAAAAAQAAAAEAAAABAAAAAQAAAAEAAAABAAAAAQAAAAEAAAABAAAAAQAAAAEAAAABAAAAAQAAAAEAAAABAAAAAQAAAAEAAAABAAAAAQAAAAEAAAABAAAAAQAAAAEAAAABAAAAAQAAAAEAAAABAAAAAQAAAAEAAAABAAAAAQAAAAEAAAABAAAAAQAAAAEAAAABAAAAAQAAAAEAAAABAAAAAQAAAAEAAAABAAAAAQAAAAEAAAABAAAAAQAAAAEAAAABAAAAAQAAAAEAAAABAAAAAQAAAAEAAAABAAAAAQAAAAEAAAABAAAAAQAAAAEAAAABAAAAAQAAAAEAAAABAAAAAQAAAAEAAAABAAAAAQAAAAEAAAABAAAAAQAAAAEAAAABAAAAAQAAAAEAAAABAAAAAQAAAAEAAAABAAAAAQAAAAEAAAABAAAAAQAAAAEAAAABAAAAAQAAAAEAAAABAAAAAQAAAAEAAAABAAAAAQAAAAEAAAABAAAAAQAAAAEAAAABAAAAAQAAAAEAAAABAAAAAQAAAAEAAAABAAAAAQAAAAEAAAABAAAAAQAAAAEAAAABAAAAAQAAAAEAAAABAAAAAQAAAAEAAAABAAAAAQAAAAEAAAABAAAAAQAAAA==",
        "encoding": "base64",
        "path": [
         "y",
         "value"
        ]
       }
      ],
      "model_module": "bqplot",
      "model_module_version": "^0.5.18",
      "model_name": "ScatterModel",
      "state": {
       "_model_module_version": "^0.5.18",
       "_view_module_version": "^0.5.18",
       "default_opacities": {
        "dtype": "float64",
        "shape": [
         1
        ],
        "type": null,
        "value": {}
       },
       "label_display_horizontal_offset": 0,
       "label_display_vertical_offset": 0,
       "names": null,
       "scales": {
        "x": "IPY_MODEL_a166a6180a7547f5bdddd2df0420ef13",
        "y": "IPY_MODEL_0869017a92af4904b61edd988ad747d8"
       },
       "scales_metadata": {
        "color": {
         "dimension": "color"
        },
        "opacity": {
         "dimension": "opacity"
        },
        "rotation": {
         "dimension": "rotation"
        },
        "size": {
         "dimension": "size"
        },
        "skew": {
         "dimension": "skew"
        },
        "x": {
         "dimension": "x",
         "orientation": "horizontal"
        },
        "y": {
         "dimension": "y",
         "orientation": "vertical"
        }
       },
       "x": [
        "Various speakers",
        "Facundo Batista",
        "Juan Pedro Fisanotti",
        "Roberto Alsina",
        "Claudio Freire",
        "Damián Avila",
        "Hugo Ruscitti",
        "Alejandro J. Cura",
        "Various Speakers",
        "Diego Sarmentero",
        "Natalia Bidart",
        "Martin Alderete",
        "Rafael Carrascosa",
        "Gabriel Genellina",
        "Ricardo Kirkner",
        "Martín Gaitán",
        "Alejandro Cura",
        "Manuel Quiñones",
        "Diego Cañizares",
        "Massimo Di Pierro",
        "Craig Kerstiens",
        "Luciano Rossi",
        "Ariel Rossanigo",
        "Andrea Gavana",
        "Nicolás Demarchi",
        "Felipe Lerena",
        "Daniel F. Moisset",
        "Matías Bordese",
        "Berenice Larsen Pereyra",
        "Brett Cannon",
        "Javier Mansilla",
        "Sebastián Marró",
        "Emiliano Dalla Verde Marcozzi",
        "Manuel Kaufmann",
        "Sofía Denner",
        "Pedro Ignacio Guridi",
        "Christophe Pettus",
        "Ezequiel Gutesman",
        "Brandon Rhodes",
        "Javier Der Derian",
        "Wesley Chun",
        "Luciano Serruya Aloisi",
        "Carol Willing",
        "Cynthia Monastirsky",
        "Vinicius Feitosa Pacheco",
        "María Andrea Vignau",
        "Sebastian Brachi",
        "Martin Volpe",
        "Ramiro Morales",
        "Sebastián Kennedy",
        "Andrés Riancho",
        "Joaquín Sorianello",
        "David Litvak Bruno",
        "Leonardo Lazzaro",
        "Paola Katherine",
        "Nicolas Quiroz",
        "Flor Novidelsky",
        "Fernando Schapachnik",
        "Juan Manuel Schillaci",
        "Silvestre Huens",
        "Joaquin Sorianello",
        "Dino Viehland",
        "Emilio Crudele",
        "Juan Manuel Santos",
        "Federico Martinez y Santiago Avendaño",
        "Estefania Miguel",
        "Sofia Martin",
        "Ariel Farkas",
        "Alfonso de la Guarda Reyes",
        "Federico Brest",
        "Lucía García Itzigsohn",
        "A. Garassino",
        "Miguel Felipe Duarte",
        "Dave Weil",
        "dax",
        "Matias Barriento",
        "Angel J. Lopez",
        "Tomas Zulberti",
        "Valeria Rocha",
        "Juan Carlos Abdala",
        "Johanna Caterina Faliero",
        "D. Nohales",
        "Carlos de la Torre",
        "Leonardo Morales",
        "Martín Miranda",
        "Aylen Bombelli",
        "Hernan Wilkinson",
        "Martin Riva",
        "Tati Al-Chueyr",
        "Daniel Espinoza",
        "Martin Ribelotta",
        "Lucio Delelis",
        "Diego Diez",
        "Ana Laura Almada",
        "Sofía Martin",
        "Juan Pablo Giménez",
        "Martin Elias Costa",
        "N. Demarchi",
        "Gustavo Garcia Craia",
        "Manuel de la Peña",
        "Javier Derderyan",
        "Valentín Spurchisi",
        "Sebastian Bassi",
        "Jose Morales",
        "Celia Cintas",
        "Pablo Cruz Casas",
        "Augusto Coto",
        "Carolina Maristany",
        "Sergio Schvezov",
        "Angel Freire",
        "Laureano Kloss",
        "Alexis Jawtuschenko",
        "L. Torre",
        "Juan Bagnera",
        "Diego Mascialino",
        "Mariano Guerra",
        "Damian Avila",
        "Cecilia Jarne",
        "Ignacio Heredia",
        "Erico Ándrei",
        "Ana Velez Rueda",
        "Maciej Fijalkowski",
        "Ana Almada",
        "Diego G. Cañizares",
        "David Garoz",
        "Alan Runyan",
        "Eduardo Casarero",
        "Juan E. D.",
        "Mariano Reingart",
        "Héctor Sanchez Gonzalo Odiard",
        "Javyer Der Derian",
        "Emanuel Sartor",
        "Franco Mariluis",
        "Alejandro Pereira",
        "Alejandro Garcia",
        "Erico Andrei",
        "Adriana Aiassa",
        "Pablo Alcain",
        "Robert M Lefkowitz",
        "Matias Lang",
        "Fernando Masanori",
        "Matias Bordese",
        "German Bourdin",
        "Alejandro Zamora Fonseca",
        "Angel Lopez",
        "Simon Willison",
        "M. Quiñones",
        "Mário Sérgio",
        "Francisco Capdevila",
        "Carlos Matías de la Torre",
        "Leandro Ucciferri",
        "Marcelo Fernández",
        "Matias Varela",
        "Ángel Medinilla",
        "Jim Fulton",
        "Mariela Osete",
        "Katherine Jenkins",
        "Nahuel Lascano",
        "Diego Ramirez",
        "Franco Nicolas Bellomo",
        "Andrés Snitcofsky",
        "Mariano Lambir",
        "Rodrigo Lugones",
        "Graciela Molina",
        "Ignacio Fiorentino",
        "Federico Gonzalez (FedeG)",
        "Jeannette Torrez",
        "Victoria Martinez de la Cruz",
        "Thiago Avelino",
        "Álvaro Justen",
        "Alexis Ferreyra",
        "Juan Bautista Cabral",
        "Yonatan Romero",
        "Javier Ayres",
        "Pablo Toledo Margalef"
       ],
       "y": {
        "dtype": "int32",
        "shape": [
         175
        ],
        "type": null
       }
      }
     },
     "12c151223eb04b1fa1f7506182540023": {
      "model_module": "bqplot",
      "model_module_version": "^0.5.18",
      "model_name": "LinearScaleModel",
      "state": {
       "_model_module_version": "^0.5.18",
       "_view_module_version": "^0.5.18",
       "allow_padding": false,
       "max": 1,
       "min": 0,
       "stabilized": false
      }
     },
     "141febdc874048caa5d04a69f8cc026d": {
      "model_module": "bqplot",
      "model_module_version": "^0.5.18",
      "model_name": "AxisModel",
      "state": {
       "_model_module_version": "^0.5.18",
       "_view_module_version": "^0.5.18",
       "orientation": "vertical",
       "scale": "IPY_MODEL_d24ef0c5878e42c094ca66e7d9913a94",
       "side": "left",
       "tick_values": null
      }
     },
     "1622501b3c3b4845a533a14690f0fc48": {
      "model_module": "bqplot",
      "model_module_version": "^0.5.18",
      "model_name": "LinearScaleModel",
      "state": {
       "_model_module_version": "^0.5.18",
       "_view_module_version": "^0.5.18",
       "allow_padding": false,
       "max": 1,
       "min": 0,
       "stabilized": false
      }
     },
     "16ab222b2a1643e897b0a3b7cd34e2d7": {
      "model_module": "bqplot",
      "model_module_version": "^0.5.18",
      "model_name": "ToolbarModel",
      "state": {
       "_model_module_version": "^0.5.18",
       "_view_module_version": "^0.5.18",
       "figure": "IPY_MODEL_61bb2be06b6649568d3198f3d5c55d81",
       "layout": "IPY_MODEL_656089ce1a3d4f2cba768c1f7df795e2"
      }
     },
     "16e1321823744663b492c60078686ab2": {
      "model_module": "bqplot",
      "model_module_version": "^0.5.18",
      "model_name": "AxisModel",
      "state": {
       "_model_module_version": "^0.5.18",
       "_view_module_version": "^0.5.18",
       "orientation": "vertical",
       "scale": "IPY_MODEL_7aac37f6a0d141b4b7034b0adc4243aa",
       "side": "left",
       "tick_values": null
      }
     },
     "17204048f70c45c5a716f19caea81165": {
      "model_module": "bqplot",
      "model_module_version": "^0.5.18",
      "model_name": "LinearScaleModel",
      "state": {
       "_model_module_version": "^0.5.18",
       "_view_module_version": "^0.5.18",
       "allow_padding": false,
       "max": 1,
       "min": 0,
       "stabilized": false
      }
     },
     "175fd6bb2f4a4043803ebfd7ba39db94": {
      "model_module": "@jupyter-widgets/base",
      "model_module_version": "1.2.0",
      "model_name": "LayoutModel",
      "state": {}
     },
     "17721899fc35406d8abe9da8c72d9823": {
      "model_module": "bqplot",
      "model_module_version": "^0.5.18",
      "model_name": "LinearScaleModel",
      "state": {
       "_model_module_version": "^0.5.18",
       "_view_module_version": "^0.5.18",
       "allow_padding": false,
       "max": 1,
       "min": 0,
       "stabilized": false
      }
     },
     "191295e65d394833b694d8b650972efa": {
      "model_module": "bqplot",
      "model_module_version": "^0.5.18",
      "model_name": "LinearScaleModel",
      "state": {
       "_model_module_version": "^0.5.18",
       "_view_module_version": "^0.5.18",
       "allow_padding": false,
       "max": 1,
       "min": 0,
       "stabilized": false
      }
     },
     "1a2f13c84da04d1e9e6ef43715c74f77": {
      "buffers": [
       {
        "data": "AAAAAAAAZUAAAAAAAAAUQAAAAAAAAPA/AAAAAAAAAAAAAAAAAAAAAAAAAAAAAAAAAAAAAAAAAAAAAAAAAAAAAAAAAAAAAAAAAAAAAAAA8D8=",
        "encoding": "base64",
        "path": [
         "count",
         "value"
        ]
       },
       {
        "data": "HwAAAAcAAAAFAAAABQAAAAUAAAAEAAAABAAAAAMAAAADAAAAAwAAAAMAAAADAAAAAwAAAAMAAAACAAAAAgAAAAIAAAACAAAAAgAAAAIAAAACAAAAAgAAAAIAAAACAAAAAgAAAAIAAAACAAAAAgAAAAIAAAACAAAAAgAAAAIAAAACAAAAAgAAAAIAAAACAAAAAgAAAAEAAAABAAAAAQAAAAEAAAABAAAAAQAAAAEAAAABAAAAAQAAAAEAAAABAAAAAQAAAAEAAAABAAAAAQAAAAEAAAABAAAAAQAAAAEAAAABAAAAAQAAAAEAAAABAAAAAQAAAAEAAAABAAAAAQAAAAEAAAABAAAAAQAAAAEAAAABAAAAAQAAAAEAAAABAAAAAQAAAAEAAAABAAAAAQAAAAEAAAABAAAAAQAAAAEAAAABAAAAAQAAAAEAAAABAAAAAQAAAAEAAAABAAAAAQAAAAEAAAABAAAAAQAAAAEAAAABAAAAAQAAAAEAAAABAAAAAQAAAAEAAAABAAAAAQAAAAEAAAABAAAAAQAAAAEAAAABAAAAAQAAAAEAAAABAAAAAQAAAAEAAAABAAAAAQAAAAEAAAABAAAAAQAAAAEAAAABAAAAAQAAAAEAAAABAAAAAQAAAAEAAAABAAAAAQAAAAEAAAABAAAAAQAAAAEAAAABAAAAAQAAAAEAAAABAAAAAQAAAAEAAAABAAAAAQAAAAEAAAABAAAAAQAAAAEAAAABAAAAAQAAAAEAAAABAAAAAQAAAAEAAAABAAAAAQAAAAEAAAABAAAAAQAAAAEAAAABAAAAAQAAAAEAAAABAAAAAQAAAAEAAAABAAAAAQAAAAEAAAABAAAAAQAAAAEAAAABAAAAAQAAAAEAAAABAAAAAQAAAAEAAAABAAAAAQAAAAEAAAABAAAAAQAAAA==",
        "encoding": "base64",
        "path": [
         "sample",
         "value"
        ]
       }
      ],
      "model_module": "bqplot",
      "model_module_version": "^0.5.18",
      "model_name": "HistModel",
      "state": {
       "_model_module_version": "^0.5.18",
       "_view_module_version": "^0.5.18",
       "count": {
        "dtype": "float64",
        "shape": [
         10
        ],
        "type": null
       },
       "midpoints": [
        2.5,
        5.5,
        8.5,
        11.5,
        14.5,
        17.5,
        20.5,
        23.5,
        26.5
       ],
       "sample": {
        "dtype": "int32",
        "shape": [
         175
        ],
        "type": null
       },
       "scales": {
        "count": "IPY_MODEL_09aed5cce6eb4743b29a365f67f4ee19",
        "sample": "IPY_MODEL_68e9830de15042bd87bc33c8ffa129fd"
       }
      }
     },
     "1b81e8d7747f4ade8732069e28ac2b79": {
      "buffers": [
       {
        "data": "AAAAAAEAAAACAAAAAwAAAAQAAAAFAAAABgAAAAcAAAAIAAAACQAAAAoAAAALAAAADAAAAA0AAAAOAAAADwAAABAAAAARAAAAEgAAABMAAAAUAAAAFQAAABYAAAAXAAAAGAAAABkAAAAaAAAAGwAAABwAAAAdAAAAHgAAAB8AAAAgAAAAIQAAACIAAAAjAAAAJAAAACUAAAAmAAAAJwAAACgAAAApAAAAKgAAACsAAAAsAAAALQAAAC4AAAAvAAAAMAAAADEAAAAyAAAAMwAAADQAAAA1AAAANgAAADcAAAA4AAAAOQAAADoAAAA7AAAAPAAAAD0AAAA+AAAAPwAAAEAAAABBAAAAQgAAAEMAAABEAAAARQAAAEYAAABHAAAASAAAAEkAAABKAAAASwAAAEwAAABNAAAATgAAAE8AAABQAAAAUQAAAFIAAABTAAAAVAAAAFUAAABWAAAAVwAAAFgAAABZAAAAWgAAAFsAAABcAAAAXQAAAF4AAABfAAAAYAAAAGEAAABiAAAAYwAAAGQAAABlAAAAZgAAAGcAAABoAAAAaQAAAGoAAABrAAAAbAAAAG0AAABuAAAAbwAAAHAAAABxAAAAcgAAAHMAAAB0AAAAdQAAAHYAAAB3AAAAeAAAAHkAAAB6AAAAewAAAHwAAAB9AAAAfgAAAH8AAACAAAAAgQAAAIIAAACDAAAAhAAAAIUAAACGAAAAhwAAAIgAAACJAAAAigAAAIsAAACMAAAAjQAAAI4AAACPAAAAkAAAAJEAAACSAAAAkwAAAJQAAACVAAAAlgAAAJcAAACYAAAAmQAAAJoAAACbAAAAnAAAAJ0AAACeAAAAnwAAAKAAAAChAAAAogAAAKMAAACkAAAApQAAAKYAAACnAAAAqAAAAKkAAACqAAAAqwAAAKwAAACtAAAArgAAAK8AAACwAAAAsQAAALIAAACzAAAAtAAAALUAAAC2AAAAtwAAALgAAAC5AAAAugAAALsAAAC8AAAAvQAAAL4AAAC/AAAAwAAAAMEAAADCAAAAwwAAAMQAAADFAAAAxgAAAMcAAADIAAAAyQAAAMoAAADLAAAAzAAAAM0AAADOAAAAzwAAANAAAADRAAAA0gAAANMAAADUAAAA1QAAANYAAADXAAAA2AAAANkAAADaAAAA2wAAANwAAADdAAAA3gAAAN8AAADgAAAA4QAAAOIAAADjAAAA5AAAAOUAAADmAAAA5wAAAOgAAADpAAAA6gAAAOsAAADsAAAA",
        "encoding": "base64",
        "path": [
         "x",
         "value"
        ]
       },
       {
        "data": "AAAAAAAAAAAAAAAAAAAAAAEAAAABAAAAAQAAAAEAAAABAAAAAQAAAAEAAAABAAAAAQAAAAEAAAABAAAAAQAAAAEAAAABAAAAAQAAAAEAAAABAAAAAQAAAAEAAAABAAAAAQAAAAEAAAABAAAAAQAAAAEAAAABAAAAAQAAAAEAAAABAAAAAQAAAAEAAAABAAAAAQAAAAEAAAABAAAAAQAAAAEAAAABAAAAAQAAAAEAAAABAAAAAQAAAAEAAAABAAAAAQAAAAEAAAABAAAAAQAAAAEAAAABAAAAAQAAAAEAAAABAAAAAQAAAAEAAAABAAAAAQAAAAEAAAABAAAAAQAAAAEAAAABAAAAAQAAAAEAAAABAAAAAQAAAAEAAAABAAAAAQAAAAEAAAABAAAAAQAAAAEAAAABAAAAAQAAAAEAAAABAAAAAQAAAAEAAAABAAAAAQAAAAEAAAABAAAAAQAAAAEAAAABAAAAAQAAAAEAAAABAAAAAQAAAAEAAAABAAAAAQAAAAEAAAABAAAAAQAAAAEAAAABAAAAAQAAAAEAAAABAAAAAQAAAAEAAAABAAAAAQAAAAEAAAABAAAAAQAAAAEAAAABAAAAAQAAAAEAAAABAAAAAQAAAAEAAAABAAAAAQAAAAEAAAABAAAAAQAAAAEAAAABAAAAAQAAAAEAAAABAAAAAQAAAAEAAAABAAAAAQAAAAEAAAABAAAAAQAAAAEAAAABAAAAAQAAAAEAAAABAAAAAQAAAAEAAAABAAAAAQAAAAEAAAABAAAAAQAAAAEAAAABAAAAAQAAAAEAAAABAAAAAQAAAAEAAAABAAAAAQAAAAEAAAABAAAAAQAAAAEAAAABAAAAAQAAAAEAAAABAAAAAQAAAAEAAAABAAAAAQAAAAEAAAABAAAAAQAAAAEAAAABAAAAAQAAAAEAAAABAAAAAQAAAAEAAAABAAAAAQAAAAEAAAABAAAAAQAAAAEAAAABAAAAAQAAAAEAAAABAAAAAQAAAAEAAAABAAAAAQAAAAEAAAABAAAAAQAAAAEAAAABAAAAAQAAAAEAAAABAAAAAQAAAAEAAAABAAAAAQAAAAEAAAABAAAAAQAAAAEAAAABAAAAAgAAAAIAAAACAAAAAgAAAAIAAAACAAAAAgAAAAIAAAACAAAAAgAAAAIAAAACAAAAAgAAAAIAAAACAAAAAgAAAAIAAAACAAAAAgAAAAIAAAACAAAAAgAAAAIAAAACAAAAAwAAAAQAAAAFAAAA",
        "encoding": "base64",
        "path": [
         "y",
         "value"
        ]
       }
      ],
      "model_module": "bqplot",
      "model_module_version": "^0.5.18",
      "model_name": "LinesModel",
      "state": {
       "_model_module_version": "^0.5.18",
       "_view_module_version": "^0.5.18",
       "fill_colors": [],
       "labels": [
        "C1"
       ],
       "scales": {
        "x": "IPY_MODEL_2a944ac647684872bc7fa22c4687c44d",
        "y": "IPY_MODEL_2f15896a9e124b9fb214f31f94c3fe97"
       },
       "x": {
        "dtype": "int32",
        "shape": [
         237
        ],
        "type": null
       },
       "y": {
        "dtype": "int32",
        "shape": [
         237
        ],
        "type": null
       }
      }
     },
     "1d940b78554a4735b6528573426b58bd": {
      "model_module": "bqplot",
      "model_module_version": "^0.5.18",
      "model_name": "FigureModel",
      "state": {
       "_model_module_version": "^0.5.18",
       "_view_module_version": "^0.5.18",
       "layout": "IPY_MODEL_9dae4c5b9ea6471b9d262a04f495d635",
       "scale_x": "IPY_MODEL_fe334c49a5db4c06857115d900334953",
       "scale_y": "IPY_MODEL_d6a59c34cad34940a8d7eb1015125f71"
      }
     },
     "1e69ff7724d848c796fc70640806acb6": {
      "model_module": "@jupyter-widgets/base",
      "model_module_version": "1.2.0",
      "model_name": "LayoutModel",
      "state": {}
     },
     "1e7935b688514bb29ece197063fca3c1": {
      "model_module": "bqplot",
      "model_module_version": "^0.5.18",
      "model_name": "ToolbarModel",
      "state": {
       "_model_module_version": "^0.5.18",
       "_view_module_version": "^0.5.18",
       "figure": "IPY_MODEL_6951721f3657455a897ca246360aebf2",
       "layout": "IPY_MODEL_74c623bb620e4e5ca06eef9148021d6d"
      }
     },
     "1f5c21cad4174148a5616bb3c8378ff4": {
      "model_module": "@jupyter-widgets/controls",
      "model_module_version": "1.5.0",
      "model_name": "VBoxModel",
      "state": {
       "children": [
        "IPY_MODEL_4003fba24cb74d96bb0bed4dfaa36454",
        "IPY_MODEL_bb9f4aa868aa4bec99848c3ce9145e24"
       ],
       "layout": "IPY_MODEL_689e981cebe64abf97c6fbf71d670b46"
      }
     },
     "20a49efb4dcb43f1a92e9b15dd77d413": {
      "model_module": "bqplot",
      "model_module_version": "^0.5.18",
      "model_name": "ToolbarModel",
      "state": {
       "_model_module_version": "^0.5.18",
       "_view_module_version": "^0.5.18",
       "figure": "IPY_MODEL_973c6750bbed4bdbbba32bc2acf0bf2f",
       "layout": "IPY_MODEL_94640aebe48543898508628047ceb36b"
      }
     },
     "223ac963b14649598dd6eb1f5c88995d": {
      "model_module": "bqplot",
      "model_module_version": "^0.5.18",
      "model_name": "LinearScaleModel",
      "state": {
       "_model_module_version": "^0.5.18",
       "_view_module_version": "^0.5.18",
       "allow_padding": false,
       "max": 1,
       "min": 0,
       "stabilized": false
      }
     },
     "22f76f4a9af549fe80b9cd1e26125f93": {
      "model_module": "bqplot",
      "model_module_version": "^0.5.18",
      "model_name": "FigureModel",
      "state": {
       "_model_module_version": "^0.5.18",
       "_view_module_version": "^0.5.18",
       "layout": "IPY_MODEL_9881848cb7db40369cf9ef74c1e640b2",
       "scale_x": "IPY_MODEL_fb4b1f97bbf9415c88afdc767d81789e",
       "scale_y": "IPY_MODEL_c665904bb65a44f98a67fdb9e7a058a6"
      }
     },
     "2300d64edf3245b59c0dd2941c38d93d": {
      "model_module": "bqplot",
      "model_module_version": "^0.5.18",
      "model_name": "AxisModel",
      "state": {
       "_model_module_version": "^0.5.18",
       "_view_module_version": "^0.5.18",
       "scale": "IPY_MODEL_04be6c932b81417bb0f6e2819bb44ba1",
       "side": "bottom",
       "tick_values": null
      }
     },
     "23e39d0b88954f57aa175a71c1665291": {
      "model_module": "bqplot",
      "model_module_version": "^0.5.18",
      "model_name": "AxisModel",
      "state": {
       "_model_module_version": "^0.5.18",
       "_view_module_version": "^0.5.18",
       "orientation": "vertical",
       "scale": "IPY_MODEL_b70c5d03388b4951b2251f431fff8cf7",
       "side": "left",
       "tick_values": null
      }
     },
     "248f09231fb24b6fab3a677ed34a605c": {
      "buffers": [
       {
        "data": "AAAAAAAAZUAAAAAAAAAUQAAAAAAAAPA/AAAAAAAAAAAAAAAAAAAAAAAAAAAAAAAAAAAAAAAAAAAAAAAAAAAAAAAAAAAAAAAAAAAAAAAA8D8=",
        "encoding": "base64",
        "path": [
         "count",
         "value"
        ]
       },
       {
        "data": "HwAAAAcAAAAFAAAABQAAAAUAAAAEAAAABAAAAAMAAAADAAAAAwAAAAMAAAADAAAAAwAAAAMAAAACAAAAAgAAAAIAAAACAAAAAgAAAAIAAAACAAAAAgAAAAIAAAACAAAAAgAAAAIAAAACAAAAAgAAAAIAAAACAAAAAgAAAAIAAAACAAAAAgAAAAIAAAACAAAAAgAAAAEAAAABAAAAAQAAAAEAAAABAAAAAQAAAAEAAAABAAAAAQAAAAEAAAABAAAAAQAAAAEAAAABAAAAAQAAAAEAAAABAAAAAQAAAAEAAAABAAAAAQAAAAEAAAABAAAAAQAAAAEAAAABAAAAAQAAAAEAAAABAAAAAQAAAAEAAAABAAAAAQAAAAEAAAABAAAAAQAAAAEAAAABAAAAAQAAAAEAAAABAAAAAQAAAAEAAAABAAAAAQAAAAEAAAABAAAAAQAAAAEAAAABAAAAAQAAAAEAAAABAAAAAQAAAAEAAAABAAAAAQAAAAEAAAABAAAAAQAAAAEAAAABAAAAAQAAAAEAAAABAAAAAQAAAAEAAAABAAAAAQAAAAEAAAABAAAAAQAAAAEAAAABAAAAAQAAAAEAAAABAAAAAQAAAAEAAAABAAAAAQAAAAEAAAABAAAAAQAAAAEAAAABAAAAAQAAAAEAAAABAAAAAQAAAAEAAAABAAAAAQAAAAEAAAABAAAAAQAAAAEAAAABAAAAAQAAAAEAAAABAAAAAQAAAAEAAAABAAAAAQAAAAEAAAABAAAAAQAAAAEAAAABAAAAAQAAAAEAAAABAAAAAQAAAAEAAAABAAAAAQAAAAEAAAABAAAAAQAAAAEAAAABAAAAAQAAAAEAAAABAAAAAQAAAAEAAAABAAAAAQAAAAEAAAABAAAAAQAAAAEAAAABAAAAAQAAAAEAAAABAAAAAQAAAA==",
        "encoding": "base64",
        "path": [
         "sample",
         "value"
        ]
       }
      ],
      "model_module": "bqplot",
      "model_module_version": "^0.5.18",
      "model_name": "HistModel",
      "state": {
       "_model_module_version": "^0.5.18",
       "_view_module_version": "^0.5.18",
       "count": {
        "dtype": "float64",
        "shape": [
         10
        ],
        "type": null
       },
       "midpoints": [
        2.5,
        5.5,
        8.5,
        11.5,
        14.5,
        17.5,
        20.5,
        23.5,
        26.5
       ],
       "sample": {
        "dtype": "int32",
        "shape": [
         175
        ],
        "type": null
       },
       "scales": {
        "count": "IPY_MODEL_06fc3e340b064fd6a864587e0cf0dd44",
        "sample": "IPY_MODEL_04be6c932b81417bb0f6e2819bb44ba1"
       }
      }
     },
     "252ae3e79b194e95bfe2177031613d13": {
      "model_module": "bqplot",
      "model_module_version": "^0.5.18",
      "model_name": "LinearScaleModel",
      "state": {
       "_model_module_version": "^0.5.18",
       "_view_module_version": "^0.5.18",
       "stabilized": false
      }
     },
     "278d7232300a4281a89a20529a97c346": {
      "model_module": "bqplot",
      "model_module_version": "^0.5.18",
      "model_name": "AxisModel",
      "state": {
       "_model_module_version": "^0.5.18",
       "_view_module_version": "^0.5.18",
       "scale": "IPY_MODEL_2a944ac647684872bc7fa22c4687c44d",
       "side": "bottom",
       "tick_values": null
      }
     },
     "28e43afe41a248aea319bcda695e368f": {
      "model_module": "bqplot",
      "model_module_version": "^0.5.18",
      "model_name": "FigureModel",
      "state": {
       "_model_module_version": "^0.5.18",
       "_view_module_version": "^0.5.18",
       "axes": [
        "IPY_MODEL_5c11f99877da4d2889b517faf4432a68",
        "IPY_MODEL_2a1a4d682a7d42339f0f01bcede56d8b"
       ],
       "layout": "IPY_MODEL_91ef7837efcb4720819ef2c93f32a9c9",
       "marks": [
        "IPY_MODEL_f2f950f505b44f20b13b7cc64b20629d"
       ],
       "scale_x": "IPY_MODEL_12c151223eb04b1fa1f7506182540023",
       "scale_y": "IPY_MODEL_2b894d4ee5aa4def8f95f47d6691e216"
      }
     },
     "29090e92a4464cf98fa5a678a1b85cba": {
      "model_module": "@jupyter-widgets/controls",
      "model_module_version": "1.5.0",
      "model_name": "VBoxModel",
      "state": {
       "children": [
        "IPY_MODEL_6951721f3657455a897ca246360aebf2",
        "IPY_MODEL_1e7935b688514bb29ece197063fca3c1"
       ],
       "layout": "IPY_MODEL_9c7171bf97684df5b5518b4639f228d8"
      }
     },
     "299d49eb83ba49f995f8b20e31fe59eb": {
      "model_module": "@jupyter-widgets/base",
      "model_module_version": "1.2.0",
      "model_name": "LayoutModel",
      "state": {}
     },
     "2a1a4d682a7d42339f0f01bcede56d8b": {
      "model_module": "bqplot",
      "model_module_version": "^0.5.18",
      "model_name": "AxisModel",
      "state": {
       "_model_module_version": "^0.5.18",
       "_view_module_version": "^0.5.18",
       "orientation": "vertical",
       "scale": "IPY_MODEL_2f8f6c2abca644cfa8770be19e2e799c",
       "side": "left",
       "tick_values": null
      }
     },
     "2a1d8bf6154a463aabf9f0e1a16ce5ca": {
      "model_module": "bqplot",
      "model_module_version": "^0.5.18",
      "model_name": "FigureModel",
      "state": {
       "_model_module_version": "^0.5.18",
       "_view_module_version": "^0.5.18",
       "axes": [
        "IPY_MODEL_ff549ea6002340cdaba305091ba71231",
        "IPY_MODEL_141febdc874048caa5d04a69f8cc026d"
       ],
       "layout": "IPY_MODEL_b5adb7d76b2640559f21ad4b8d37ad40",
       "marks": [
        "IPY_MODEL_5165dc1f2d9f4e02a366ef561e630346"
       ],
       "scale_x": "IPY_MODEL_8bcf3db5f2994e9cbc4f07cd31900c75",
       "scale_y": "IPY_MODEL_0d35b3d425c4483fa4f4692b4bb7a170"
      }
     },
     "2a3d398672524caa9412b4d1b93b7921": {
      "model_module": "bqplot",
      "model_module_version": "^0.5.18",
      "model_name": "AxisModel",
      "state": {
       "_model_module_version": "^0.5.18",
       "_view_module_version": "^0.5.18",
       "orientation": "vertical",
       "scale": "IPY_MODEL_500cb05e3f464fdbb21893c51bea1d62",
       "side": "left",
       "tick_values": null
      }
     },
     "2a41dde1d3f944a5a467ba25c0da6942": {
      "model_module": "bqplot",
      "model_module_version": "^0.5.18",
      "model_name": "ToolbarModel",
      "state": {
       "_model_module_version": "^0.5.18",
       "_view_module_version": "^0.5.18",
       "figure": "IPY_MODEL_6fa7e645415146548853750ce24b4034",
       "layout": "IPY_MODEL_6b8579de47004caaa9da87c79e1be9e6"
      }
     },
     "2a944ac647684872bc7fa22c4687c44d": {
      "model_module": "bqplot",
      "model_module_version": "^0.5.18",
      "model_name": "LinearScaleModel",
      "state": {
       "_model_module_version": "^0.5.18",
       "_view_module_version": "^0.5.18",
       "stabilized": false
      }
     },
     "2b894d4ee5aa4def8f95f47d6691e216": {
      "model_module": "bqplot",
      "model_module_version": "^0.5.18",
      "model_name": "LinearScaleModel",
      "state": {
       "_model_module_version": "^0.5.18",
       "_view_module_version": "^0.5.18",
       "allow_padding": false,
       "max": 1,
       "min": 0,
       "stabilized": false
      }
     },
     "2e0d015ba239424588277541698e8ab5": {
      "model_module": "bqplot",
      "model_module_version": "^0.5.18",
      "model_name": "LinearScaleModel",
      "state": {
       "_model_module_version": "^0.5.18",
       "_view_module_version": "^0.5.18",
       "allow_padding": false,
       "max": 1,
       "min": 0,
       "stabilized": false
      }
     },
     "2f15896a9e124b9fb214f31f94c3fe97": {
      "model_module": "bqplot",
      "model_module_version": "^0.5.18",
      "model_name": "LinearScaleModel",
      "state": {
       "_model_module_version": "^0.5.18",
       "_view_module_version": "^0.5.18",
       "stabilized": false
      }
     },
     "2f8f6c2abca644cfa8770be19e2e799c": {
      "model_module": "bqplot",
      "model_module_version": "^0.5.18",
      "model_name": "LinearScaleModel",
      "state": {
       "_model_module_version": "^0.5.18",
       "_view_module_version": "^0.5.18",
       "stabilized": false
      }
     },
     "30adb8ffeb5546bca0ed9890110424c3": {
      "model_module": "bqplot",
      "model_module_version": "^0.5.18",
      "model_name": "LinearScaleModel",
      "state": {
       "_model_module_version": "^0.5.18",
       "_view_module_version": "^0.5.18",
       "allow_padding": false,
       "max": 1,
       "min": 0,
       "stabilized": false
      }
     },
     "3129d10c6cd740b7ab7745bb6361896b": {
      "model_module": "@jupyter-widgets/base",
      "model_module_version": "1.2.0",
      "model_name": "LayoutModel",
      "state": {}
     },
     "31a8a5fb7b4141ee969638fa68b4b4b1": {
      "model_module": "@jupyter-widgets/base",
      "model_module_version": "1.2.0",
      "model_name": "LayoutModel",
      "state": {}
     },
     "32b92dd7d50748fb85c788fb0c514c3c": {
      "model_module": "bqplot",
      "model_module_version": "^0.5.18",
      "model_name": "LinearScaleModel",
      "state": {
       "_model_module_version": "^0.5.18",
       "_view_module_version": "^0.5.18",
       "allow_padding": false,
       "max": 1,
       "min": 0,
       "stabilized": false
      }
     },
     "360df4a4ead3476a8188d318461b5e19": {
      "model_module": "@jupyter-widgets/base",
      "model_module_version": "1.2.0",
      "model_name": "LayoutModel",
      "state": {}
     },
     "3692636908e4461898bde0987562b6fd": {
      "model_module": "bqplot",
      "model_module_version": "^0.5.18",
      "model_name": "LinearScaleModel",
      "state": {
       "_model_module_version": "^0.5.18",
       "_view_module_version": "^0.5.18",
       "allow_padding": false,
       "max": 1,
       "min": 0,
       "stabilized": false
      }
     },
     "39552743914e41ff9e580d57079affc1": {
      "buffers": [
       {
        "data": "HwAAAAcAAAAFAAAABQAAAAUAAAAEAAAABAAAAAMAAAADAAAAAwAAAAMAAAADAAAAAwAAAAMAAAACAAAAAgAAAAIAAAACAAAAAgAAAAIAAAACAAAAAgAAAAIAAAACAAAAAgAAAAIAAAACAAAAAgAAAAIAAAACAAAAAgAAAAIAAAACAAAAAgAAAAIAAAACAAAAAgAAAAEAAAABAAAAAQAAAAEAAAABAAAAAQAAAAEAAAABAAAAAQAAAAEAAAABAAAAAQAAAAEAAAABAAAAAQAAAAEAAAABAAAAAQAAAAEAAAABAAAAAQAAAAEAAAABAAAAAQAAAAEAAAABAAAAAQAAAAEAAAABAAAAAQAAAAEAAAABAAAAAQAAAAEAAAABAAAAAQAAAAEAAAABAAAAAQAAAAEAAAABAAAAAQAAAAEAAAABAAAAAQAAAAEAAAABAAAAAQAAAAEAAAABAAAAAQAAAAEAAAABAAAAAQAAAAEAAAABAAAAAQAAAAEAAAABAAAAAQAAAAEAAAABAAAAAQAAAAEAAAABAAAAAQAAAAEAAAABAAAAAQAAAAEAAAABAAAAAQAAAAEAAAABAAAAAQAAAAEAAAABAAAAAQAAAAEAAAABAAAAAQAAAAEAAAABAAAAAQAAAAEAAAABAAAAAQAAAAEAAAABAAAAAQAAAAEAAAABAAAAAQAAAAEAAAABAAAAAQAAAAEAAAABAAAAAQAAAAEAAAABAAAAAQAAAAEAAAABAAAAAQAAAAEAAAABAAAAAQAAAAEAAAABAAAAAQAAAAEAAAABAAAAAQAAAAEAAAABAAAAAQAAAAEAAAABAAAAAQAAAAEAAAABAAAAAQAAAAEAAAABAAAAAQAAAAEAAAABAAAAAQAAAAEAAAABAAAAAQAAAAEAAAABAAAAAQAAAAEAAAABAAAAAQAAAA==",
        "encoding": "base64",
        "path": [
         "x",
         "value"
        ]
       },
       {
        "data": "HwAAAAcAAAAFAAAABQAAAAUAAAAEAAAABAAAAAMAAAADAAAAAwAAAAMAAAADAAAAAwAAAAMAAAACAAAAAgAAAAIAAAACAAAAAgAAAAIAAAACAAAAAgAAAAIAAAACAAAAAgAAAAIAAAACAAAAAgAAAAIAAAACAAAAAgAAAAIAAAACAAAAAgAAAAIAAAACAAAAAgAAAAEAAAABAAAAAQAAAAEAAAABAAAAAQAAAAEAAAABAAAAAQAAAAEAAAABAAAAAQAAAAEAAAABAAAAAQAAAAEAAAABAAAAAQAAAAEAAAABAAAAAQAAAAEAAAABAAAAAQAAAAEAAAABAAAAAQAAAAEAAAABAAAAAQAAAAEAAAABAAAAAQAAAAEAAAABAAAAAQAAAAEAAAABAAAAAQAAAAEAAAABAAAAAQAAAAEAAAABAAAAAQAAAAEAAAABAAAAAQAAAAEAAAABAAAAAQAAAAEAAAABAAAAAQAAAAEAAAABAAAAAQAAAAEAAAABAAAAAQAAAAEAAAABAAAAAQAAAAEAAAABAAAAAQAAAAEAAAABAAAAAQAAAAEAAAABAAAAAQAAAAEAAAABAAAAAQAAAAEAAAABAAAAAQAAAAEAAAABAAAAAQAAAAEAAAABAAAAAQAAAAEAAAABAAAAAQAAAAEAAAABAAAAAQAAAAEAAAABAAAAAQAAAAEAAAABAAAAAQAAAAEAAAABAAAAAQAAAAEAAAABAAAAAQAAAAEAAAABAAAAAQAAAAEAAAABAAAAAQAAAAEAAAABAAAAAQAAAAEAAAABAAAAAQAAAAEAAAABAAAAAQAAAAEAAAABAAAAAQAAAAEAAAABAAAAAQAAAAEAAAABAAAAAQAAAAEAAAABAAAAAQAAAAEAAAABAAAAAQAAAAEAAAABAAAAAQAAAAEAAAABAAAAAQAAAA==",
        "encoding": "base64",
        "path": [
         "y",
         "value"
        ]
       }
      ],
      "model_module": "bqplot",
      "model_module_version": "^0.5.18",
      "model_name": "BarsModel",
      "state": {
       "_model_module_version": "^0.5.18",
       "_view_module_version": "^0.5.18",
       "label_font_style": {},
       "scales": {
        "x": "IPY_MODEL_abdfa114f274426ebbe577c1b504232a",
        "y": "IPY_MODEL_500cb05e3f464fdbb21893c51bea1d62"
       },
       "x": {
        "dtype": "int32",
        "shape": [
         175
        ],
        "type": null
       },
       "y": {
        "dtype": "int32",
        "shape": [
         175
        ],
        "type": null
       }
      }
     },
     "3c7509558ae044b58705ebc9ffcb1b6e": {
      "model_module": "bqplot",
      "model_module_version": "^0.5.18",
      "model_name": "FigureModel",
      "state": {
       "_model_module_version": "^0.5.18",
       "_view_module_version": "^0.5.18",
       "layout": "IPY_MODEL_9216a4f56d2c4bf1b5e3d5e9d6cdc513",
       "scale_x": "IPY_MODEL_17204048f70c45c5a716f19caea81165",
       "scale_y": "IPY_MODEL_d02f55bf9ee7483c983e4b88da02d9e4"
      }
     },
     "3eb6168c4b154d3caf6e2b7e1ce7e016": {
      "model_module": "bqplot",
      "model_module_version": "^0.5.18",
      "model_name": "FigureModel",
      "state": {
       "_model_module_version": "^0.5.18",
       "_view_module_version": "^0.5.18",
       "layout": "IPY_MODEL_92215d385a744580a400fb07b63f30bd",
       "scale_x": "IPY_MODEL_6614dbd3c82c4f77aff943d71de8c93e",
       "scale_y": "IPY_MODEL_f83ba0a814b248a6bbb5ecc014de31d3"
      }
     },
     "4003fba24cb74d96bb0bed4dfaa36454": {
      "model_module": "bqplot",
      "model_module_version": "^0.5.18",
      "model_name": "FigureModel",
      "state": {
       "_model_module_version": "^0.5.18",
       "_view_module_version": "^0.5.18",
       "axes": [
        "IPY_MODEL_791bfc2e1a324ea38a4ac301918e49f4",
        "IPY_MODEL_b0466d62846241d486b985f72fae2b71"
       ],
       "layout": "IPY_MODEL_a8ee4521aa234e68a3acb461311bafdb",
       "marks": [
        "IPY_MODEL_ad868c1cf5ac4fddaf9fef97c34a9b79",
        "IPY_MODEL_4e5d0539b1e9401a99c6b40f2bdf4dd6"
       ],
       "scale_x": "IPY_MODEL_7c7b0782a3914d34a0bf07ece360a573",
       "scale_y": "IPY_MODEL_6c694b17049d46ea95b3bc3ec3abb092"
      }
     },
     "40b5edd184f34cb58d2b5c5a84778781": {
      "model_module": "bqplot",
      "model_module_version": "^0.5.18",
      "model_name": "LinearScaleModel",
      "state": {
       "_model_module_version": "^0.5.18",
       "_view_module_version": "^0.5.18",
       "stabilized": false
      }
     },
     "4355ff96194a44b69bc7f96c5ce8873a": {
      "model_module": "@jupyter-widgets/controls",
      "model_module_version": "1.5.0",
      "model_name": "VBoxModel",
      "state": {
       "children": [
        "IPY_MODEL_61bb2be06b6649568d3198f3d5c55d81",
        "IPY_MODEL_16ab222b2a1643e897b0a3b7cd34e2d7"
       ],
       "layout": "IPY_MODEL_92f27bfbedc14312953c943efa5a6ae3"
      }
     },
     "4376bc778c00426eb4472027458bd0e7": {
      "model_module": "bqplot",
      "model_module_version": "^0.5.18",
      "model_name": "LinearScaleModel",
      "state": {
       "_model_module_version": "^0.5.18",
       "_view_module_version": "^0.5.18",
       "allow_padding": false,
       "max": 1,
       "min": 0,
       "stabilized": false
      }
     },
     "4653d05c32a5475fa5fffbbaae729e9a": {
      "model_module": "@jupyter-widgets/base",
      "model_module_version": "1.2.0",
      "model_name": "LayoutModel",
      "state": {}
     },
     "48d8be9176e243768c65ad36a9c4a431": {
      "model_module": "bqplot",
      "model_module_version": "^0.5.18",
      "model_name": "LinearScaleModel",
      "state": {
       "_model_module_version": "^0.5.18",
       "_view_module_version": "^0.5.18",
       "allow_padding": false,
       "max": 1,
       "min": 0,
       "stabilized": false
      }
     },
     "48fa36efa8ca4d4da1dc4b7e15e19d42": {
      "model_module": "bqplot",
      "model_module_version": "^0.5.18",
      "model_name": "LinearScaleModel",
      "state": {
       "_model_module_version": "^0.5.18",
       "_view_module_version": "^0.5.18",
       "allow_padding": false,
       "max": 1,
       "min": 0,
       "stabilized": false
      }
     },
     "4dc3d9ac883b4832b829389a3744ed58": {
      "model_module": "bqplot",
      "model_module_version": "^0.5.18",
      "model_name": "LinearScaleModel",
      "state": {
       "_model_module_version": "^0.5.18",
       "_view_module_version": "^0.5.18",
       "allow_padding": false,
       "max": 1,
       "min": 0,
       "stabilized": false
      }
     },
     "4e5d0539b1e9401a99c6b40f2bdf4dd6": {
      "buffers": [
       {
        "data": "AAAAAAEAAAACAAAAAwAAAAQAAAAFAAAABgAAAAcAAAAIAAAACQAAAAoAAAALAAAADAAAAA0AAAAOAAAADwAAABAAAAARAAAAEgAAABMAAAAUAAAAFQAAABYAAAAXAAAAGAAAABkAAAAaAAAAGwAAABwAAAAdAAAAHgAAAB8AAAAgAAAAIQAAACIAAAAjAAAAJAAAACUAAAAmAAAAJwAAACgAAAApAAAAKgAAACsAAAAsAAAALQAAAC4AAAAvAAAAMAAAADEAAAAyAAAAMwAAADQAAAA1AAAANgAAADcAAAA4AAAAOQAAADoAAAA7AAAAPAAAAD0AAAA+AAAAPwAAAEAAAABBAAAAQgAAAEMAAABEAAAARQAAAEYAAABHAAAASAAAAEkAAABKAAAASwAAAEwAAABNAAAATgAAAE8AAABQAAAAUQAAAFIAAABTAAAAVAAAAFUAAABWAAAAVwAAAFgAAABZAAAAWgAAAFsAAABcAAAAXQAAAF4AAABfAAAAYAAAAGEAAABiAAAAYwAAAGQAAABlAAAAZgAAAGcAAABoAAAAaQAAAGoAAABrAAAAbAAAAG0AAABuAAAAbwAAAHAAAABxAAAAcgAAAHMAAAB0AAAAdQAAAHYAAAB3AAAAeAAAAHkAAAB6AAAAewAAAHwAAAB9AAAAfgAAAH8AAACAAAAAgQAAAIIAAACDAAAAhAAAAIUAAACGAAAAhwAAAIgAAACJAAAAigAAAIsAAACMAAAAjQAAAI4AAACPAAAAkAAAAJEAAACSAAAAkwAAAJQAAACVAAAAlgAAAJcAAACYAAAAmQAAAJoAAACbAAAAnAAAAJ0AAACeAAAAnwAAAKAAAAChAAAAogAAAKMAAACkAAAApQAAAKYAAACnAAAAqAAAAKkAAACqAAAAqwAAAKwAAACtAAAArgAAAA==",
        "encoding": "base64",
        "path": [
         "x",
         "value"
        ]
       },
       {
        "data": "HwAAAAcAAAAFAAAABQAAAAUAAAAEAAAABAAAAAMAAAADAAAAAwAAAAMAAAADAAAAAwAAAAMAAAACAAAAAgAAAAIAAAACAAAAAgAAAAIAAAACAAAAAgAAAAIAAAACAAAAAgAAAAIAAAACAAAAAgAAAAIAAAACAAAAAgAAAAIAAAACAAAAAgAAAAIAAAACAAAAAgAAAAEAAAABAAAAAQAAAAEAAAABAAAAAQAAAAEAAAABAAAAAQAAAAEAAAABAAAAAQAAAAEAAAABAAAAAQAAAAEAAAABAAAAAQAAAAEAAAABAAAAAQAAAAEAAAABAAAAAQAAAAEAAAABAAAAAQAAAAEAAAABAAAAAQAAAAEAAAABAAAAAQAAAAEAAAABAAAAAQAAAAEAAAABAAAAAQAAAAEAAAABAAAAAQAAAAEAAAABAAAAAQAAAAEAAAABAAAAAQAAAAEAAAABAAAAAQAAAAEAAAABAAAAAQAAAAEAAAABAAAAAQAAAAEAAAABAAAAAQAAAAEAAAABAAAAAQAAAAEAAAABAAAAAQAAAAEAAAABAAAAAQAAAAEAAAABAAAAAQAAAAEAAAABAAAAAQAAAAEAAAABAAAAAQAAAAEAAAABAAAAAQAAAAEAAAABAAAAAQAAAAEAAAABAAAAAQAAAAEAAAABAAAAAQAAAAEAAAABAAAAAQAAAAEAAAABAAAAAQAAAAEAAAABAAAAAQAAAAEAAAABAAAAAQAAAAEAAAABAAAAAQAAAAEAAAABAAAAAQAAAAEAAAABAAAAAQAAAAEAAAABAAAAAQAAAAEAAAABAAAAAQAAAAEAAAABAAAAAQAAAAEAAAABAAAAAQAAAAEAAAABAAAAAQAAAAEAAAABAAAAAQAAAAEAAAABAAAAAQAAAAEAAAABAAAAAQAAAAEAAAABAAAAAQAAAA==",
        "encoding": "base64",
        "path": [
         "y",
         "value"
        ]
       }
      ],
      "model_module": "bqplot",
      "model_module_version": "^0.5.18",
      "model_name": "LinesModel",
      "state": {
       "_model_module_version": "^0.5.18",
       "_view_module_version": "^0.5.18",
       "fill_colors": [],
       "labels": [
        "C1"
       ],
       "scales": {
        "x": "IPY_MODEL_81633a34d3b94e5f9f06b8d6bfa768f4",
        "y": "IPY_MODEL_fd5b0305e35a4f57aa7ce7055ab656a0"
       },
       "x": {
        "dtype": "int32",
        "shape": [
         175
        ],
        "type": null
       },
       "y": {
        "dtype": "int32",
        "shape": [
         175
        ],
        "type": null
       }
      }
     },
     "4e85b41d501c400597059637eab1cc86": {
      "model_module": "@jupyter-widgets/base",
      "model_module_version": "1.2.0",
      "model_name": "LayoutModel",
      "state": {}
     },
     "500cb05e3f464fdbb21893c51bea1d62": {
      "model_module": "bqplot",
      "model_module_version": "^0.5.18",
      "model_name": "LinearScaleModel",
      "state": {
       "_model_module_version": "^0.5.18",
       "_view_module_version": "^0.5.18",
       "stabilized": false
      }
     },
     "506d21f27f2641ecbdd55e3faf2cf410": {
      "model_module": "bqplot",
      "model_module_version": "^0.5.18",
      "model_name": "LinearScaleModel",
      "state": {
       "_model_module_version": "^0.5.18",
       "_view_module_version": "^0.5.18",
       "allow_padding": false,
       "max": 1,
       "min": 0,
       "stabilized": false
      }
     },
     "50fbf221fcc14a9e988433709560d955": {
      "model_module": "bqplot",
      "model_module_version": "^0.5.18",
      "model_name": "LinearScaleModel",
      "state": {
       "_model_module_version": "^0.5.18",
       "_view_module_version": "^0.5.18",
       "allow_padding": false,
       "max": 1,
       "min": 0,
       "stabilized": false
      }
     },
     "5165dc1f2d9f4e02a366ef561e630346": {
      "buffers": [
       {
        "data": "HwAAAAcAAAAFAAAABQAAAAUAAAAEAAAABAAAAAMAAAADAAAAAwAAAAMAAAADAAAAAwAAAAMAAAACAAAAAgAAAAIAAAACAAAAAgAAAAIAAAACAAAAAgAAAAIAAAACAAAAAgAAAAIAAAACAAAAAgAAAAIAAAACAAAAAgAAAAIAAAACAAAAAgAAAAIAAAACAAAAAgAAAAEAAAABAAAAAQAAAAEAAAABAAAAAQAAAAEAAAABAAAAAQAAAAEAAAABAAAAAQAAAAEAAAABAAAAAQAAAAEAAAABAAAAAQAAAAEAAAABAAAAAQAAAAEAAAABAAAAAQAAAAEAAAABAAAAAQAAAAEAAAABAAAAAQAAAAEAAAABAAAAAQAAAAEAAAABAAAAAQAAAAEAAAABAAAAAQAAAAEAAAABAAAAAQAAAAEAAAABAAAAAQAAAAEAAAABAAAAAQAAAAEAAAABAAAAAQAAAAEAAAABAAAAAQAAAAEAAAABAAAAAQAAAAEAAAABAAAAAQAAAAEAAAABAAAAAQAAAAEAAAABAAAAAQAAAAEAAAABAAAAAQAAAAEAAAABAAAAAQAAAAEAAAABAAAAAQAAAAEAAAABAAAAAQAAAAEAAAABAAAAAQAAAAEAAAABAAAAAQAAAAEAAAABAAAAAQAAAAEAAAABAAAAAQAAAAEAAAABAAAAAQAAAAEAAAABAAAAAQAAAAEAAAABAAAAAQAAAAEAAAABAAAAAQAAAAEAAAABAAAAAQAAAAEAAAABAAAAAQAAAAEAAAABAAAAAQAAAAEAAAABAAAAAQAAAAEAAAABAAAAAQAAAAEAAAABAAAAAQAAAAEAAAABAAAAAQAAAAEAAAABAAAAAQAAAAEAAAABAAAAAQAAAAEAAAABAAAAAQAAAAEAAAABAAAAAQAAAAEAAAABAAAAAQAAAA==",
        "encoding": "base64",
        "path": [
         "y",
         "value"
        ]
       }
      ],
      "model_module": "bqplot",
      "model_module_version": "^0.5.18",
      "model_name": "ScatterModel",
      "state": {
       "_model_module_version": "^0.5.18",
       "_view_module_version": "^0.5.18",
       "default_opacities": {
        "dtype": "float64",
        "shape": [
         1
        ],
        "type": null,
        "value": {}
       },
       "label_display_horizontal_offset": 0,
       "label_display_vertical_offset": 0,
       "names": null,
       "scales": {
        "x": "IPY_MODEL_bc3cfa8f76b54cc1aa41456f42496496",
        "y": "IPY_MODEL_d24ef0c5878e42c094ca66e7d9913a94"
       },
       "scales_metadata": {
        "color": {
         "dimension": "color"
        },
        "opacity": {
         "dimension": "opacity"
        },
        "rotation": {
         "dimension": "rotation"
        },
        "size": {
         "dimension": "size"
        },
        "skew": {
         "dimension": "skew"
        },
        "x": {
         "dimension": "x",
         "orientation": "horizontal"
        },
        "y": {
         "dimension": "y",
         "orientation": "vertical"
        }
       },
       "x": [
        "Various speakers",
        "Facundo Batista",
        "Juan Pedro Fisanotti",
        "Roberto Alsina",
        "Claudio Freire",
        "Damián Avila",
        "Hugo Ruscitti",
        "Alejandro J. Cura",
        "Various Speakers",
        "Diego Sarmentero",
        "Natalia Bidart",
        "Martin Alderete",
        "Rafael Carrascosa",
        "Gabriel Genellina",
        "Ricardo Kirkner",
        "Martín Gaitán",
        "Alejandro Cura",
        "Manuel Quiñones",
        "Diego Cañizares",
        "Massimo Di Pierro",
        "Craig Kerstiens",
        "Luciano Rossi",
        "Ariel Rossanigo",
        "Andrea Gavana",
        "Nicolás Demarchi",
        "Felipe Lerena",
        "Daniel F. Moisset",
        "Matías Bordese",
        "Berenice Larsen Pereyra",
        "Brett Cannon",
        "Javier Mansilla",
        "Sebastián Marró",
        "Emiliano Dalla Verde Marcozzi",
        "Manuel Kaufmann",
        "Sofía Denner",
        "Pedro Ignacio Guridi",
        "Christophe Pettus",
        "Ezequiel Gutesman",
        "Brandon Rhodes",
        "Javier Der Derian",
        "Wesley Chun",
        "Luciano Serruya Aloisi",
        "Carol Willing",
        "Cynthia Monastirsky",
        "Vinicius Feitosa Pacheco",
        "María Andrea Vignau",
        "Sebastian Brachi",
        "Martin Volpe",
        "Ramiro Morales",
        "Sebastián Kennedy",
        "Andrés Riancho",
        "Joaquín Sorianello",
        "David Litvak Bruno",
        "Leonardo Lazzaro",
        "Paola Katherine",
        "Nicolas Quiroz",
        "Flor Novidelsky",
        "Fernando Schapachnik",
        "Juan Manuel Schillaci",
        "Silvestre Huens",
        "Joaquin Sorianello",
        "Dino Viehland",
        "Emilio Crudele",
        "Juan Manuel Santos",
        "Federico Martinez y Santiago Avendaño",
        "Estefania Miguel",
        "Sofia Martin",
        "Ariel Farkas",
        "Alfonso de la Guarda Reyes",
        "Federico Brest",
        "Lucía García Itzigsohn",
        "A. Garassino",
        "Miguel Felipe Duarte",
        "Dave Weil",
        "dax",
        "Matias Barriento",
        "Angel J. Lopez",
        "Tomas Zulberti",
        "Valeria Rocha",
        "Juan Carlos Abdala",
        "Johanna Caterina Faliero",
        "D. Nohales",
        "Carlos de la Torre",
        "Leonardo Morales",
        "Martín Miranda",
        "Aylen Bombelli",
        "Hernan Wilkinson",
        "Martin Riva",
        "Tati Al-Chueyr",
        "Daniel Espinoza",
        "Martin Ribelotta",
        "Lucio Delelis",
        "Diego Diez",
        "Ana Laura Almada",
        "Sofía Martin",
        "Juan Pablo Giménez",
        "Martin Elias Costa",
        "N. Demarchi",
        "Gustavo Garcia Craia",
        "Manuel de la Peña",
        "Javier Derderyan",
        "Valentín Spurchisi",
        "Sebastian Bassi",
        "Jose Morales",
        "Celia Cintas",
        "Pablo Cruz Casas",
        "Augusto Coto",
        "Carolina Maristany",
        "Sergio Schvezov",
        "Angel Freire",
        "Laureano Kloss",
        "Alexis Jawtuschenko",
        "L. Torre",
        "Juan Bagnera",
        "Diego Mascialino",
        "Mariano Guerra",
        "Damian Avila",
        "Cecilia Jarne",
        "Ignacio Heredia",
        "Erico Ándrei",
        "Ana Velez Rueda",
        "Maciej Fijalkowski",
        "Ana Almada",
        "Diego G. Cañizares",
        "David Garoz",
        "Alan Runyan",
        "Eduardo Casarero",
        "Juan E. D.",
        "Mariano Reingart",
        "Héctor Sanchez Gonzalo Odiard",
        "Javyer Der Derian",
        "Emanuel Sartor",
        "Franco Mariluis",
        "Alejandro Pereira",
        "Alejandro Garcia",
        "Erico Andrei",
        "Adriana Aiassa",
        "Pablo Alcain",
        "Robert M Lefkowitz",
        "Matias Lang",
        "Fernando Masanori",
        "Matias Bordese",
        "German Bourdin",
        "Alejandro Zamora Fonseca",
        "Angel Lopez",
        "Simon Willison",
        "M. Quiñones",
        "Mário Sérgio",
        "Francisco Capdevila",
        "Carlos Matías de la Torre",
        "Leandro Ucciferri",
        "Marcelo Fernández",
        "Matias Varela",
        "Ángel Medinilla",
        "Jim Fulton",
        "Mariela Osete",
        "Katherine Jenkins",
        "Nahuel Lascano",
        "Diego Ramirez",
        "Franco Nicolas Bellomo",
        "Andrés Snitcofsky",
        "Mariano Lambir",
        "Rodrigo Lugones",
        "Graciela Molina",
        "Ignacio Fiorentino",
        "Federico Gonzalez (FedeG)",
        "Jeannette Torrez",
        "Victoria Martinez de la Cruz",
        "Thiago Avelino",
        "Álvaro Justen",
        "Alexis Ferreyra",
        "Juan Bautista Cabral",
        "Yonatan Romero",
        "Javier Ayres",
        "Pablo Toledo Margalef"
       ],
       "y": {
        "dtype": "int32",
        "shape": [
         175
        ],
        "type": null
       }
      }
     },
     "56b8daf8204d4f2b8963797c68e0cc60": {
      "model_module": "bqplot",
      "model_module_version": "^0.5.18",
      "model_name": "LinearScaleModel",
      "state": {
       "_model_module_version": "^0.5.18",
       "_view_module_version": "^0.5.18",
       "stabilized": false
      }
     },
     "573e101fd7804c2dae3bed2c53d4a074": {
      "model_module": "bqplot",
      "model_module_version": "^0.5.18",
      "model_name": "LinearScaleModel",
      "state": {
       "_model_module_version": "^0.5.18",
       "_view_module_version": "^0.5.18",
       "allow_padding": false,
       "max": 1,
       "min": 0,
       "stabilized": false
      }
     },
     "5c11f99877da4d2889b517faf4432a68": {
      "model_module": "bqplot",
      "model_module_version": "^0.5.18",
      "model_name": "AxisModel",
      "state": {
       "_model_module_version": "^0.5.18",
       "_view_module_version": "^0.5.18",
       "scale": "IPY_MODEL_56b8daf8204d4f2b8963797c68e0cc60",
       "side": "bottom",
       "tick_values": null
      }
     },
     "5cee6dbd936845b7b87d9cab1969859e": {
      "model_module": "@jupyter-widgets/controls",
      "model_module_version": "1.5.0",
      "model_name": "VBoxModel",
      "state": {
       "children": [
        "IPY_MODEL_95f3b138af8143ec86a5a9274e37f991",
        "IPY_MODEL_80417e7a08ad465cacb22f9fa0eeebc2"
       ],
       "layout": "IPY_MODEL_f7c2c26cdb3a454bbc6a4527feb29087"
      }
     },
     "5fe26208d7fb423186ae03302671623d": {
      "buffers": [
       {
        "data": "AAAAAAEAAAACAAAAAwAAAAQAAAAFAAAABgAAAAcAAAAIAAAACQAAAAoAAAALAAAADAAAAA0AAAAOAAAADwAAABAAAAARAAAAEgAAABMAAAAUAAAAFQAAABYAAAAXAAAAGAAAABkAAAAaAAAAGwAAABwAAAAdAAAAHgAAAB8AAAAgAAAAIQAAACIAAAAjAAAAJAAAACUAAAAmAAAAJwAAACgAAAApAAAAKgAAACsAAAAsAAAALQAAAC4AAAAvAAAAMAAAADEAAAAyAAAAMwAAADQAAAA1AAAANgAAADcAAAA4AAAAOQAAADoAAAA7AAAAPAAAAD0AAAA+AAAAPwAAAEAAAABBAAAAQgAAAEMAAABEAAAARQAAAEYAAABHAAAASAAAAEkAAABKAAAASwAAAEwAAABNAAAATgAAAE8AAABQAAAAUQAAAFIAAABTAAAAVAAAAFUAAABWAAAAVwAAAFgAAABZAAAAWgAAAFsAAABcAAAAXQAAAF4AAABfAAAAYAAAAGEAAABiAAAAYwAAAGQAAABlAAAAZgAAAGcAAABoAAAAaQAAAGoAAABrAAAAbAAAAG0AAABuAAAAbwAAAHAAAABxAAAAcgAAAHMAAAB0AAAAdQAAAHYAAAB3AAAAeAAAAHkAAAB6AAAAewAAAHwAAAB9AAAAfgAAAH8AAACAAAAAgQAAAIIAAACDAAAAhAAAAIUAAACGAAAAhwAAAIgAAACJAAAAigAAAIsAAACMAAAAjQAAAI4AAACPAAAAkAAAAJEAAACSAAAAkwAAAJQAAACVAAAAlgAAAJcAAACYAAAAmQAAAJoAAACbAAAAnAAAAJ0AAACeAAAAnwAAAKAAAAChAAAAogAAAKMAAACkAAAApQAAAKYAAACnAAAAqAAAAKkAAACqAAAAqwAAAKwAAACtAAAArgAAAA==",
        "encoding": "base64",
        "path": [
         "x",
         "value"
        ]
       },
       {
        "data": "HwAAAAcAAAAFAAAABQAAAAUAAAAEAAAABAAAAAMAAAADAAAAAwAAAAMAAAADAAAAAwAAAAMAAAACAAAAAgAAAAIAAAACAAAAAgAAAAIAAAACAAAAAgAAAAIAAAACAAAAAgAAAAIAAAACAAAAAgAAAAIAAAACAAAAAgAAAAIAAAACAAAAAgAAAAIAAAACAAAAAgAAAAEAAAABAAAAAQAAAAEAAAABAAAAAQAAAAEAAAABAAAAAQAAAAEAAAABAAAAAQAAAAEAAAABAAAAAQAAAAEAAAABAAAAAQAAAAEAAAABAAAAAQAAAAEAAAABAAAAAQAAAAEAAAABAAAAAQAAAAEAAAABAAAAAQAAAAEAAAABAAAAAQAAAAEAAAABAAAAAQAAAAEAAAABAAAAAQAAAAEAAAABAAAAAQAAAAEAAAABAAAAAQAAAAEAAAABAAAAAQAAAAEAAAABAAAAAQAAAAEAAAABAAAAAQAAAAEAAAABAAAAAQAAAAEAAAABAAAAAQAAAAEAAAABAAAAAQAAAAEAAAABAAAAAQAAAAEAAAABAAAAAQAAAAEAAAABAAAAAQAAAAEAAAABAAAAAQAAAAEAAAABAAAAAQAAAAEAAAABAAAAAQAAAAEAAAABAAAAAQAAAAEAAAABAAAAAQAAAAEAAAABAAAAAQAAAAEAAAABAAAAAQAAAAEAAAABAAAAAQAAAAEAAAABAAAAAQAAAAEAAAABAAAAAQAAAAEAAAABAAAAAQAAAAEAAAABAAAAAQAAAAEAAAABAAAAAQAAAAEAAAABAAAAAQAAAAEAAAABAAAAAQAAAAEAAAABAAAAAQAAAAEAAAABAAAAAQAAAAEAAAABAAAAAQAAAAEAAAABAAAAAQAAAAEAAAABAAAAAQAAAAEAAAABAAAAAQAAAAEAAAABAAAAAQAAAA==",
        "encoding": "base64",
        "path": [
         "y",
         "value"
        ]
       }
      ],
      "model_module": "bqplot",
      "model_module_version": "^0.5.18",
      "model_name": "LinesModel",
      "state": {
       "_model_module_version": "^0.5.18",
       "_view_module_version": "^0.5.18",
       "fill_colors": [],
       "labels": [
        "C1"
       ],
       "scales": {
        "x": "IPY_MODEL_2a944ac647684872bc7fa22c4687c44d",
        "y": "IPY_MODEL_2f15896a9e124b9fb214f31f94c3fe97"
       },
       "x": {
        "dtype": "int32",
        "shape": [
         175
        ],
        "type": null
       },
       "y": {
        "dtype": "int32",
        "shape": [
         175
        ],
        "type": null
       }
      }
     },
     "61bb2be06b6649568d3198f3d5c55d81": {
      "model_module": "bqplot",
      "model_module_version": "^0.5.18",
      "model_name": "FigureModel",
      "state": {
       "_model_module_version": "^0.5.18",
       "_view_module_version": "^0.5.18",
       "axes": [
        "IPY_MODEL_23e39d0b88954f57aa175a71c1665291",
        "IPY_MODEL_e03dbbcf68794e41a95615cbd4f1aaed"
       ],
       "layout": "IPY_MODEL_1e69ff7724d848c796fc70640806acb6",
       "marks": [
        "IPY_MODEL_b36b896c64c94e68b19eccd2b1056900"
       ],
       "scale_x": "IPY_MODEL_ac6a844c954c40e5a3506c3f6683dabf",
       "scale_y": "IPY_MODEL_191295e65d394833b694d8b650972efa"
      }
     },
     "63c9f3d47e774bd7b35c0f6b19f54577": {
      "model_module": "bqplot",
      "model_module_version": "^0.5.18",
      "model_name": "ToolbarModel",
      "state": {
       "_model_module_version": "^0.5.18",
       "_view_module_version": "^0.5.18",
       "figure": "IPY_MODEL_28e43afe41a248aea319bcda695e368f",
       "layout": "IPY_MODEL_aed08846c8d5466890bacccc82941785"
      }
     },
     "656089ce1a3d4f2cba768c1f7df795e2": {
      "model_module": "@jupyter-widgets/base",
      "model_module_version": "1.2.0",
      "model_name": "LayoutModel",
      "state": {}
     },
     "6614dbd3c82c4f77aff943d71de8c93e": {
      "model_module": "bqplot",
      "model_module_version": "^0.5.18",
      "model_name": "LinearScaleModel",
      "state": {
       "_model_module_version": "^0.5.18",
       "_view_module_version": "^0.5.18",
       "allow_padding": false,
       "max": 1,
       "min": 0,
       "stabilized": false
      }
     },
     "66fde3f9f2464deebf681c9d055bddb6": {
      "model_module": "@jupyter-widgets/controls",
      "model_module_version": "1.5.0",
      "model_name": "VBoxModel",
      "state": {
       "children": [
        "IPY_MODEL_87a57f069a0247b392e8533389288c8f",
        "IPY_MODEL_f9c96e278c814976aa09f86ba2524639"
       ],
       "layout": "IPY_MODEL_0818b2d78011430db3c6c53b15ac8a08"
      }
     },
     "689e981cebe64abf97c6fbf71d670b46": {
      "model_module": "@jupyter-widgets/base",
      "model_module_version": "1.2.0",
      "model_name": "LayoutModel",
      "state": {}
     },
     "68e9830de15042bd87bc33c8ffa129fd": {
      "model_module": "bqplot",
      "model_module_version": "^0.5.18",
      "model_name": "LinearScaleModel",
      "state": {
       "_model_module_version": "^0.5.18",
       "_view_module_version": "^0.5.18",
       "stabilized": false
      }
     },
     "6951721f3657455a897ca246360aebf2": {
      "model_module": "bqplot",
      "model_module_version": "^0.5.18",
      "model_name": "FigureModel",
      "state": {
       "_model_module_version": "^0.5.18",
       "_view_module_version": "^0.5.18",
       "axes": [
        "IPY_MODEL_886ac1a21c954cd88a73d0a58ecc4ef2",
        "IPY_MODEL_c77f77b97acf4f8ca0e017c92e9d291f"
       ],
       "layout": "IPY_MODEL_a8973a22560f4305b88c5f733fa2eff5",
       "marks": [
        "IPY_MODEL_a088121fef234d3e9bbbbe176175770c"
       ],
       "scale_x": "IPY_MODEL_a0edc0683843438fac4d0c0720328b09",
       "scale_y": "IPY_MODEL_e0075863d1644303b0b38b883737c4aa"
      }
     },
     "6a347afd631c4789a7e6fb02c0da00f3": {
      "buffers": [
       {
        "data": "HwAAAAcAAAAFAAAABQAAAAUAAAAEAAAABAAAAAMAAAADAAAAAwAAAAMAAAADAAAAAwAAAAMAAAACAAAAAgAAAAIAAAACAAAAAgAAAAIAAAACAAAAAgAAAAIAAAACAAAAAgAAAAIAAAACAAAAAgAAAAIAAAACAAAAAgAAAAIAAAACAAAAAgAAAAIAAAACAAAAAgAAAA==",
        "encoding": "base64",
        "path": [
         "y",
         "value"
        ]
       }
      ],
      "model_module": "bqplot",
      "model_module_version": "^0.5.18",
      "model_name": "BarsModel",
      "state": {
       "_model_module_version": "^0.5.18",
       "_view_module_version": "^0.5.18",
       "label_font_style": {},
       "orientation": "horizontal",
       "scales": {
        "x": "IPY_MODEL_7aac37f6a0d141b4b7034b0adc4243aa",
        "y": "IPY_MODEL_252ae3e79b194e95bfe2177031613d13"
       },
       "scales_metadata": {
        "x": {
         "dimension": "x",
         "orientation": "vertical"
        },
        "y": {
         "dimension": "y",
         "orientation": "horizontal"
        }
       },
       "x": [
        "Various speakers",
        "Facundo Batista",
        "Juan Pedro Fisanotti",
        "Roberto Alsina",
        "Claudio Freire",
        "Damián Avila",
        "Hugo Ruscitti",
        "Alejandro J. Cura",
        "Various Speakers",
        "Diego Sarmentero",
        "Natalia Bidart",
        "Martin Alderete",
        "Rafael Carrascosa",
        "Gabriel Genellina",
        "Ricardo Kirkner",
        "Martín Gaitán",
        "Alejandro Cura",
        "Manuel Quiñones",
        "Diego Cañizares",
        "Massimo Di Pierro",
        "Craig Kerstiens",
        "Luciano Rossi",
        "Ariel Rossanigo",
        "Andrea Gavana",
        "Nicolás Demarchi",
        "Felipe Lerena",
        "Daniel F. Moisset",
        "Matías Bordese",
        "Berenice Larsen Pereyra",
        "Brett Cannon",
        "Javier Mansilla",
        "Sebastián Marró",
        "Emiliano Dalla Verde Marcozzi",
        "Manuel Kaufmann",
        "Sofía Denner",
        "Pedro Ignacio Guridi",
        "Christophe Pettus"
       ],
       "y": {
        "dtype": "int32",
        "shape": [
         37
        ],
        "type": null
       }
      }
     },
     "6a6435ae694443dfb30f9a6531073f38": {
      "model_module": "bqplot",
      "model_module_version": "^0.5.18",
      "model_name": "FigureModel",
      "state": {
       "_model_module_version": "^0.5.18",
       "_view_module_version": "^0.5.18",
       "layout": "IPY_MODEL_be747da23a8e4b9691b091b02ac4d329",
       "scale_x": "IPY_MODEL_506d21f27f2641ecbdd55e3faf2cf410",
       "scale_y": "IPY_MODEL_48fa36efa8ca4d4da1dc4b7e15e19d42"
      }
     },
     "6ad4832451da4263b223fc52da93e4ef": {
      "model_module": "bqplot",
      "model_module_version": "^0.5.18",
      "model_name": "AxisModel",
      "state": {
       "_model_module_version": "^0.5.18",
       "_view_module_version": "^0.5.18",
       "scale": "IPY_MODEL_68e9830de15042bd87bc33c8ffa129fd",
       "side": "bottom",
       "tick_values": null
      }
     },
     "6b0e7ffc49244d5eb9ebe64949de6a1b": {
      "model_module": "@jupyter-widgets/base",
      "model_module_version": "1.2.0",
      "model_name": "LayoutModel",
      "state": {}
     },
     "6b8579de47004caaa9da87c79e1be9e6": {
      "model_module": "@jupyter-widgets/base",
      "model_module_version": "1.2.0",
      "model_name": "LayoutModel",
      "state": {}
     },
     "6bf09a1f09c146279bd433bea4ca084e": {
      "model_module": "@jupyter-widgets/base",
      "model_module_version": "1.2.0",
      "model_name": "LayoutModel",
      "state": {}
     },
     "6c694b17049d46ea95b3bc3ec3abb092": {
      "model_module": "bqplot",
      "model_module_version": "^0.5.18",
      "model_name": "LinearScaleModel",
      "state": {
       "_model_module_version": "^0.5.18",
       "_view_module_version": "^0.5.18",
       "allow_padding": false,
       "max": 1,
       "min": 0,
       "stabilized": false
      }
     },
     "6e8b10ac9a984136b2cfe271323c2d8a": {
      "model_module": "bqplot",
      "model_module_version": "^0.5.18",
      "model_name": "LinearScaleModel",
      "state": {
       "_model_module_version": "^0.5.18",
       "_view_module_version": "^0.5.18",
       "stabilized": false
      }
     },
     "6ecf70db993c48c49e864dad3078339b": {
      "model_module": "@jupyter-widgets/base",
      "model_module_version": "1.2.0",
      "model_name": "LayoutModel",
      "state": {}
     },
     "6fa7e645415146548853750ce24b4034": {
      "model_module": "bqplot",
      "model_module_version": "^0.5.18",
      "model_name": "FigureModel",
      "state": {
       "_model_module_version": "^0.5.18",
       "_view_module_version": "^0.5.18",
       "axes": [
        "IPY_MODEL_0f5e6a083560418f9fcc94b97ec080c8",
        "IPY_MODEL_c2cfd83c9e5c4cd8a7e7295bc1a2c033"
       ],
       "layout": "IPY_MODEL_aa468c20b6494cb7b1216ad52f4aa6c8",
       "marks": [
        "IPY_MODEL_0fe4325663ca4225a3790a2c0f3c6bc4"
       ],
       "scale_x": "IPY_MODEL_17721899fc35406d8abe9da8c72d9823",
       "scale_y": "IPY_MODEL_b83730d50f5b432b831d7b5afeed19b1"
      }
     },
     "6fb5978195c44d48bbb3badb5ad6fd0e": {
      "model_module": "bqplot",
      "model_module_version": "^0.5.18",
      "model_name": "ToolbarModel",
      "state": {
       "_model_module_version": "^0.5.18",
       "_view_module_version": "^0.5.18",
       "figure": "IPY_MODEL_7d3fd1d80d5048b7abe8e3f2a1a26edd",
       "layout": "IPY_MODEL_c1eb9ce16e9547d5bcb2fb9c08d369b0"
      }
     },
     "6fd9116ba6a44b61b5dfe35ea4f94b09": {
      "model_module": "bqplot",
      "model_module_version": "^0.5.18",
      "model_name": "AxisModel",
      "state": {
       "_model_module_version": "^0.5.18",
       "_view_module_version": "^0.5.18",
       "scale": "IPY_MODEL_f8dc9081cb3743bd88192a85ef5853dd",
       "side": "bottom",
       "tick_values": null
      }
     },
     "71445f7d303f46cbac0fc04e165ef1d1": {
      "model_module": "@jupyter-widgets/base",
      "model_module_version": "1.2.0",
      "model_name": "LayoutModel",
      "state": {}
     },
     "71ef62f5174a48288ce47fe5efd107e2": {
      "model_module": "bqplot",
      "model_module_version": "^0.5.18",
      "model_name": "LinearScaleModel",
      "state": {
       "_model_module_version": "^0.5.18",
       "_view_module_version": "^0.5.18",
       "stabilized": false
      }
     },
     "721687e95c464b0983ca7525a74a8f70": {
      "model_module": "bqplot",
      "model_module_version": "^0.5.18",
      "model_name": "LinearScaleModel",
      "state": {
       "_model_module_version": "^0.5.18",
       "_view_module_version": "^0.5.18",
       "allow_padding": false,
       "max": 1,
       "min": 0,
       "stabilized": false
      }
     },
     "74c623bb620e4e5ca06eef9148021d6d": {
      "model_module": "@jupyter-widgets/base",
      "model_module_version": "1.2.0",
      "model_name": "LayoutModel",
      "state": {}
     },
     "76d06ec3ad6a4c018b925c53dd7bb594": {
      "model_module": "@jupyter-widgets/base",
      "model_module_version": "1.2.0",
      "model_name": "LayoutModel",
      "state": {}
     },
     "77f882b457fd4020a006a1793e2de64c": {
      "model_module": "@jupyter-widgets/base",
      "model_module_version": "1.2.0",
      "model_name": "LayoutModel",
      "state": {}
     },
     "78a82db8419b47608391e57e196cb47a": {
      "model_module": "bqplot",
      "model_module_version": "^0.5.18",
      "model_name": "AxisModel",
      "state": {
       "_model_module_version": "^0.5.18",
       "_view_module_version": "^0.5.18",
       "scale": "IPY_MODEL_b2290c1a11df4687a20d352185bd6b05",
       "side": "bottom",
       "tick_values": null
      }
     },
     "790064c95dc64b9da9e16f6c9e34df2e": {
      "model_module": "@jupyter-widgets/base",
      "model_module_version": "1.2.0",
      "model_name": "LayoutModel",
      "state": {}
     },
     "791bfc2e1a324ea38a4ac301918e49f4": {
      "model_module": "bqplot",
      "model_module_version": "^0.5.18",
      "model_name": "AxisModel",
      "state": {
       "_model_module_version": "^0.5.18",
       "_view_module_version": "^0.5.18",
       "scale": "IPY_MODEL_81633a34d3b94e5f9f06b8d6bfa768f4",
       "side": "bottom",
       "tick_values": null
      }
     },
     "79e58475e2c64581adeadfa40471b92b": {
      "model_module": "bqplot",
      "model_module_version": "^0.5.18",
      "model_name": "LinearScaleModel",
      "state": {
       "_model_module_version": "^0.5.18",
       "_view_module_version": "^0.5.18",
       "allow_padding": false,
       "max": 1,
       "min": 0,
       "stabilized": false
      }
     },
     "7a5a9606298e4ee5a5232575a2177816": {
      "model_module": "bqplot",
      "model_module_version": "^0.5.18",
      "model_name": "AxisModel",
      "state": {
       "_model_module_version": "^0.5.18",
       "_view_module_version": "^0.5.18",
       "scale": "IPY_MODEL_252ae3e79b194e95bfe2177031613d13",
       "side": "bottom",
       "tick_values": null
      }
     },
     "7aac37f6a0d141b4b7034b0adc4243aa": {
      "model_module": "bqplot",
      "model_module_version": "^0.5.18",
      "model_name": "OrdinalScaleModel",
      "state": {
       "_model_module_version": "^0.5.18",
       "_view_module_version": "^0.5.18"
      }
     },
     "7bdb19ab63c64f44b2979cd28fd92f7f": {
      "buffers": [
       {
        "data": "AAAAAAEAAAACAAAAAwAAAAQAAAAFAAAABgAAAAcAAAAIAAAACQAAAAoAAAALAAAADAAAAA0AAAAOAAAADwAAABAAAAARAAAAEgAAABMAAAAUAAAAFQAAABYAAAAXAAAAGAAAABkAAAAaAAAAGwAAABwAAAAdAAAAHgAAAB8AAAAgAAAAIQAAACIAAAAjAAAAJAAAACUAAAAmAAAAJwAAACgAAAApAAAAKgAAACsAAAAsAAAALQAAAC4AAAAvAAAAMAAAADEAAAAyAAAAMwAAADQAAAA1AAAANgAAADcAAAA4AAAAOQAAADoAAAA7AAAAPAAAAD0AAAA+AAAAPwAAAEAAAABBAAAAQgAAAEMAAABEAAAARQAAAEYAAABHAAAASAAAAEkAAABKAAAASwAAAEwAAABNAAAATgAAAE8AAABQAAAAUQAAAFIAAABTAAAAVAAAAFUAAABWAAAAVwAAAFgAAABZAAAAWgAAAFsAAABcAAAAXQAAAF4AAABfAAAAYAAAAGEAAABiAAAAYwAAAGQAAABlAAAAZgAAAGcAAABoAAAAaQAAAGoAAABrAAAAbAAAAG0AAABuAAAAbwAAAHAAAABxAAAAcgAAAHMAAAB0AAAAdQAAAHYAAAB3AAAAeAAAAHkAAAB6AAAAewAAAHwAAAB9AAAAfgAAAH8AAACAAAAAgQAAAIIAAACDAAAAhAAAAIUAAACGAAAAhwAAAIgAAACJAAAAigAAAIsAAACMAAAAjQAAAI4AAACPAAAAkAAAAJEAAACSAAAAkwAAAJQAAACVAAAAlgAAAJcAAACYAAAAmQAAAJoAAACbAAAAnAAAAJ0AAACeAAAAnwAAAKAAAAChAAAAogAAAKMAAACkAAAApQAAAKYAAACnAAAAqAAAAKkAAACqAAAAqwAAAKwAAACtAAAArgAAAA==",
        "encoding": "base64",
        "path": [
         "x",
         "value"
        ]
       },
       {
        "data": "HwAAAAcAAAAFAAAABQAAAAUAAAAEAAAABAAAAAMAAAADAAAAAwAAAAMAAAADAAAAAwAAAAMAAAACAAAAAgAAAAIAAAACAAAAAgAAAAIAAAACAAAAAgAAAAIAAAACAAAAAgAAAAIAAAACAAAAAgAAAAIAAAACAAAAAgAAAAIAAAACAAAAAgAAAAIAAAACAAAAAgAAAAEAAAABAAAAAQAAAAEAAAABAAAAAQAAAAEAAAABAAAAAQAAAAEAAAABAAAAAQAAAAEAAAABAAAAAQAAAAEAAAABAAAAAQAAAAEAAAABAAAAAQAAAAEAAAABAAAAAQAAAAEAAAABAAAAAQAAAAEAAAABAAAAAQAAAAEAAAABAAAAAQAAAAEAAAABAAAAAQAAAAEAAAABAAAAAQAAAAEAAAABAAAAAQAAAAEAAAABAAAAAQAAAAEAAAABAAAAAQAAAAEAAAABAAAAAQAAAAEAAAABAAAAAQAAAAEAAAABAAAAAQAAAAEAAAABAAAAAQAAAAEAAAABAAAAAQAAAAEAAAABAAAAAQAAAAEAAAABAAAAAQAAAAEAAAABAAAAAQAAAAEAAAABAAAAAQAAAAEAAAABAAAAAQAAAAEAAAABAAAAAQAAAAEAAAABAAAAAQAAAAEAAAABAAAAAQAAAAEAAAABAAAAAQAAAAEAAAABAAAAAQAAAAEAAAABAAAAAQAAAAEAAAABAAAAAQAAAAEAAAABAAAAAQAAAAEAAAABAAAAAQAAAAEAAAABAAAAAQAAAAEAAAABAAAAAQAAAAEAAAABAAAAAQAAAAEAAAABAAAAAQAAAAEAAAABAAAAAQAAAAEAAAABAAAAAQAAAAEAAAABAAAAAQAAAAEAAAABAAAAAQAAAAEAAAABAAAAAQAAAAEAAAABAAAAAQAAAAEAAAABAAAAAQAAAA==",
        "encoding": "base64",
        "path": [
         "y",
         "value"
        ]
       }
      ],
      "model_module": "bqplot",
      "model_module_version": "^0.5.18",
      "model_name": "LinesModel",
      "state": {
       "_model_module_version": "^0.5.18",
       "_view_module_version": "^0.5.18",
       "fill_colors": [],
       "labels": [
        "C1"
       ],
       "scales": {
        "x": "IPY_MODEL_2a944ac647684872bc7fa22c4687c44d",
        "y": "IPY_MODEL_2f15896a9e124b9fb214f31f94c3fe97"
       },
       "x": {
        "dtype": "int32",
        "shape": [
         175
        ],
        "type": null
       },
       "y": {
        "dtype": "int32",
        "shape": [
         175
        ],
        "type": null
       }
      }
     },
     "7c7b0782a3914d34a0bf07ece360a573": {
      "model_module": "bqplot",
      "model_module_version": "^0.5.18",
      "model_name": "LinearScaleModel",
      "state": {
       "_model_module_version": "^0.5.18",
       "_view_module_version": "^0.5.18",
       "allow_padding": false,
       "max": 1,
       "min": 0,
       "stabilized": false
      }
     },
     "7d3fd1d80d5048b7abe8e3f2a1a26edd": {
      "model_module": "bqplot",
      "model_module_version": "^0.5.18",
      "model_name": "FigureModel",
      "state": {
       "_model_module_version": "^0.5.18",
       "_view_module_version": "^0.5.18",
       "axes": [
        "IPY_MODEL_9d93fed10944418485c0282938d05bc6",
        "IPY_MODEL_9ee3bce74d264da79c73614732cca5f9"
       ],
       "layout": "IPY_MODEL_946aa5e687e24ec68ce97d4e65857f6f",
       "marks": [
        "IPY_MODEL_10ccda5699d0401082ca3cea52088692"
       ],
       "scale_x": "IPY_MODEL_c6b234d6c0094331957c89a19f8984d4",
       "scale_y": "IPY_MODEL_892bc75d01c84720b2941399172a6cb8"
      }
     },
     "7f2f4fb016d647c38183e32f06357038": {
      "model_module": "@jupyter-widgets/base",
      "model_module_version": "1.2.0",
      "model_name": "LayoutModel",
      "state": {}
     },
     "80417e7a08ad465cacb22f9fa0eeebc2": {
      "model_module": "bqplot",
      "model_module_version": "^0.5.18",
      "model_name": "ToolbarModel",
      "state": {
       "_model_module_version": "^0.5.18",
       "_view_module_version": "^0.5.18",
       "figure": "IPY_MODEL_95f3b138af8143ec86a5a9274e37f991",
       "layout": "IPY_MODEL_0a6218086510431585d2c7762b068c7e"
      }
     },
     "81633a34d3b94e5f9f06b8d6bfa768f4": {
      "model_module": "bqplot",
      "model_module_version": "^0.5.18",
      "model_name": "LinearScaleModel",
      "state": {
       "_model_module_version": "^0.5.18",
       "_view_module_version": "^0.5.18",
       "stabilized": false
      }
     },
     "8369804c718b4936a34f90d5fad339f8": {
      "model_module": "bqplot",
      "model_module_version": "^0.5.18",
      "model_name": "FigureModel",
      "state": {
       "_model_module_version": "^0.5.18",
       "_view_module_version": "^0.5.18",
       "layout": "IPY_MODEL_90b19b83707541f18691134a1e4b89a4",
       "scale_x": "IPY_MODEL_79e58475e2c64581adeadfa40471b92b",
       "scale_y": "IPY_MODEL_50fbf221fcc14a9e988433709560d955"
      }
     },
     "8456fdc22202416d94fdaf1a78bb0092": {
      "model_module": "@jupyter-widgets/base",
      "model_module_version": "1.2.0",
      "model_name": "LayoutModel",
      "state": {}
     },
     "87a57f069a0247b392e8533389288c8f": {
      "model_module": "bqplot",
      "model_module_version": "^0.5.18",
      "model_name": "FigureModel",
      "state": {
       "_model_module_version": "^0.5.18",
       "_view_module_version": "^0.5.18",
       "axes": [
        "IPY_MODEL_ab4aba0229114a50b1a8f3a6da8c7f8d",
        "IPY_MODEL_6ad4832451da4263b223fc52da93e4ef"
       ],
       "layout": "IPY_MODEL_0b1493fe7a18481d956f69fef4ee80cf",
       "marks": [
        "IPY_MODEL_1a2f13c84da04d1e9e6ef43715c74f77"
       ],
       "scale_x": "IPY_MODEL_0577346d0582472194489b86f6f169f7",
       "scale_y": "IPY_MODEL_223ac963b14649598dd6eb1f5c88995d"
      }
     },
     "87aeadc0f43a45bda302d7af87633190": {
      "model_module": "bqplot",
      "model_module_version": "^0.5.18",
      "model_name": "LinearScaleModel",
      "state": {
       "_model_module_version": "^0.5.18",
       "_view_module_version": "^0.5.18",
       "allow_padding": false,
       "max": 1,
       "min": 0,
       "stabilized": false
      }
     },
     "87f673bf704f4a0d925ae4001cc2d069": {
      "model_module": "bqplot",
      "model_module_version": "^0.5.18",
      "model_name": "LinearScaleModel",
      "state": {
       "_model_module_version": "^0.5.18",
       "_view_module_version": "^0.5.18",
       "allow_padding": false,
       "max": 1,
       "min": 0,
       "stabilized": false
      }
     },
     "880a7ada5d084533aad4e328de1a25f9": {
      "model_module": "bqplot",
      "model_module_version": "^0.5.18",
      "model_name": "FigureModel",
      "state": {
       "_model_module_version": "^0.5.18",
       "_view_module_version": "^0.5.18",
       "axes": [
        "IPY_MODEL_78a82db8419b47608391e57e196cb47a",
        "IPY_MODEL_02855af31865445fb176ac5e9cec80b2"
       ],
       "layout": "IPY_MODEL_aa01fd4f86994b629c1279fd95cbecba",
       "marks": [
        "IPY_MODEL_8a27215b8741460fbe5e03e58d244ac0"
       ],
       "scale_x": "IPY_MODEL_093897374ab64ea5ae098dd4d43563a2",
       "scale_y": "IPY_MODEL_b708ecaef61b46898b099a23782d4411"
      }
     },
     "886ac1a21c954cd88a73d0a58ecc4ef2": {
      "model_module": "bqplot",
      "model_module_version": "^0.5.18",
      "model_name": "AxisModel",
      "state": {
       "_model_module_version": "^0.5.18",
       "_view_module_version": "^0.5.18",
       "orientation": "vertical",
       "scale": "IPY_MODEL_e1304e8c8037415386c77589bd41f1ec",
       "side": "left",
       "tick_values": null
      }
     },
     "892bc75d01c84720b2941399172a6cb8": {
      "model_module": "bqplot",
      "model_module_version": "^0.5.18",
      "model_name": "LinearScaleModel",
      "state": {
       "_model_module_version": "^0.5.18",
       "_view_module_version": "^0.5.18",
       "allow_padding": false,
       "max": 1,
       "min": 0,
       "stabilized": false
      }
     },
     "8a1b830b36d24a8480ff9c28a945a043": {
      "model_module": "@jupyter-widgets/base",
      "model_module_version": "1.2.0",
      "model_name": "LayoutModel",
      "state": {}
     },
     "8a27215b8741460fbe5e03e58d244ac0": {
      "buffers": [
       {
        "data": "HwAAAAcAAAAFAAAABQAAAAUAAAAEAAAABAAAAAMAAAADAAAAAwAAAAMAAAADAAAAAwAAAAMAAAACAAAAAgAAAAIAAAACAAAAAgAAAAIAAAACAAAAAgAAAAIAAAACAAAAAgAAAAIAAAACAAAAAgAAAAIAAAACAAAAAgAAAAIAAAACAAAAAgAAAAIAAAACAAAAAgAAAAEAAAABAAAAAQAAAAEAAAABAAAAAQAAAAEAAAABAAAAAQAAAAEAAAABAAAAAQAAAAEAAAABAAAAAQAAAAEAAAABAAAAAQAAAAEAAAABAAAAAQAAAAEAAAABAAAAAQAAAAEAAAABAAAAAQAAAAEAAAABAAAAAQAAAAEAAAABAAAAAQAAAAEAAAABAAAAAQAAAAEAAAABAAAAAQAAAAEAAAABAAAAAQAAAAEAAAABAAAAAQAAAAEAAAABAAAAAQAAAAEAAAABAAAAAQAAAAEAAAABAAAAAQAAAAEAAAABAAAAAQAAAAEAAAABAAAAAQAAAAEAAAABAAAAAQAAAAEAAAABAAAAAQAAAAEAAAABAAAAAQAAAAEAAAABAAAAAQAAAAEAAAABAAAAAQAAAAEAAAABAAAAAQAAAAEAAAABAAAAAQAAAAEAAAABAAAAAQAAAAEAAAABAAAAAQAAAAEAAAABAAAAAQAAAAEAAAABAAAAAQAAAAEAAAABAAAAAQAAAAEAAAABAAAAAQAAAAEAAAABAAAAAQAAAAEAAAABAAAAAQAAAAEAAAABAAAAAQAAAAEAAAABAAAAAQAAAAEAAAABAAAAAQAAAAEAAAABAAAAAQAAAAEAAAABAAAAAQAAAAEAAAABAAAAAQAAAAEAAAABAAAAAQAAAAEAAAABAAAAAQAAAAEAAAABAAAAAQAAAAEAAAABAAAAAQAAAAEAAAABAAAAAQAAAA==",
        "encoding": "base64",
        "path": [
         "y",
         "value"
        ]
       }
      ],
      "model_module": "bqplot",
      "model_module_version": "^0.5.18",
      "model_name": "BarsModel",
      "state": {
       "_model_module_version": "^0.5.18",
       "_view_module_version": "^0.5.18",
       "label_font_style": {},
       "scales": {
        "x": "IPY_MODEL_b2290c1a11df4687a20d352185bd6b05",
        "y": "IPY_MODEL_a232819f00ab4668b64f3574c8d5c9f7"
       },
       "x": [
        "Various speakers",
        "Facundo Batista",
        "Juan Pedro Fisanotti",
        "Roberto Alsina",
        "Claudio Freire",
        "Damián Avila",
        "Hugo Ruscitti",
        "Alejandro J. Cura",
        "Various Speakers",
        "Diego Sarmentero",
        "Natalia Bidart",
        "Martin Alderete",
        "Rafael Carrascosa",
        "Gabriel Genellina",
        "Ricardo Kirkner",
        "Martín Gaitán",
        "Alejandro Cura",
        "Manuel Quiñones",
        "Diego Cañizares",
        "Massimo Di Pierro",
        "Craig Kerstiens",
        "Luciano Rossi",
        "Ariel Rossanigo",
        "Andrea Gavana",
        "Nicolás Demarchi",
        "Felipe Lerena",
        "Daniel F. Moisset",
        "Matías Bordese",
        "Berenice Larsen Pereyra",
        "Brett Cannon",
        "Javier Mansilla",
        "Sebastián Marró",
        "Emiliano Dalla Verde Marcozzi",
        "Manuel Kaufmann",
        "Sofía Denner",
        "Pedro Ignacio Guridi",
        "Christophe Pettus",
        "Ezequiel Gutesman",
        "Brandon Rhodes",
        "Javier Der Derian",
        "Wesley Chun",
        "Luciano Serruya Aloisi",
        "Carol Willing",
        "Cynthia Monastirsky",
        "Vinicius Feitosa Pacheco",
        "María Andrea Vignau",
        "Sebastian Brachi",
        "Martin Volpe",
        "Ramiro Morales",
        "Sebastián Kennedy",
        "Andrés Riancho",
        "Joaquín Sorianello",
        "David Litvak Bruno",
        "Leonardo Lazzaro",
        "Paola Katherine",
        "Nicolas Quiroz",
        "Flor Novidelsky",
        "Fernando Schapachnik",
        "Juan Manuel Schillaci",
        "Silvestre Huens",
        "Joaquin Sorianello",
        "Dino Viehland",
        "Emilio Crudele",
        "Juan Manuel Santos",
        "Federico Martinez y Santiago Avendaño",
        "Estefania Miguel",
        "Sofia Martin",
        "Ariel Farkas",
        "Alfonso de la Guarda Reyes",
        "Federico Brest",
        "Lucía García Itzigsohn",
        "A. Garassino",
        "Miguel Felipe Duarte",
        "Dave Weil",
        "dax",
        "Matias Barriento",
        "Angel J. Lopez",
        "Tomas Zulberti",
        "Valeria Rocha",
        "Juan Carlos Abdala",
        "Johanna Caterina Faliero",
        "D. Nohales",
        "Carlos de la Torre",
        "Leonardo Morales",
        "Martín Miranda",
        "Aylen Bombelli",
        "Hernan Wilkinson",
        "Martin Riva",
        "Tati Al-Chueyr",
        "Daniel Espinoza",
        "Martin Ribelotta",
        "Lucio Delelis",
        "Diego Diez",
        "Ana Laura Almada",
        "Sofía Martin",
        "Juan Pablo Giménez",
        "Martin Elias Costa",
        "N. Demarchi",
        "Gustavo Garcia Craia",
        "Manuel de la Peña",
        "Javier Derderyan",
        "Valentín Spurchisi",
        "Sebastian Bassi",
        "Jose Morales",
        "Celia Cintas",
        "Pablo Cruz Casas",
        "Augusto Coto",
        "Carolina Maristany",
        "Sergio Schvezov",
        "Angel Freire",
        "Laureano Kloss",
        "Alexis Jawtuschenko",
        "L. Torre",
        "Juan Bagnera",
        "Diego Mascialino",
        "Mariano Guerra",
        "Damian Avila",
        "Cecilia Jarne",
        "Ignacio Heredia",
        "Erico Ándrei",
        "Ana Velez Rueda",
        "Maciej Fijalkowski",
        "Ana Almada",
        "Diego G. Cañizares",
        "David Garoz",
        "Alan Runyan",
        "Eduardo Casarero",
        "Juan E. D.",
        "Mariano Reingart",
        "Héctor Sanchez Gonzalo Odiard",
        "Javyer Der Derian",
        "Emanuel Sartor",
        "Franco Mariluis",
        "Alejandro Pereira",
        "Alejandro Garcia",
        "Erico Andrei",
        "Adriana Aiassa",
        "Pablo Alcain",
        "Robert M Lefkowitz",
        "Matias Lang",
        "Fernando Masanori",
        "Matias Bordese",
        "German Bourdin",
        "Alejandro Zamora Fonseca",
        "Angel Lopez",
        "Simon Willison",
        "M. Quiñones",
        "Mário Sérgio",
        "Francisco Capdevila",
        "Carlos Matías de la Torre",
        "Leandro Ucciferri",
        "Marcelo Fernández",
        "Matias Varela",
        "Ángel Medinilla",
        "Jim Fulton",
        "Mariela Osete",
        "Katherine Jenkins",
        "Nahuel Lascano",
        "Diego Ramirez",
        "Franco Nicolas Bellomo",
        "Andrés Snitcofsky",
        "Mariano Lambir",
        "Rodrigo Lugones",
        "Graciela Molina",
        "Ignacio Fiorentino",
        "Federico Gonzalez (FedeG)",
        "Jeannette Torrez",
        "Victoria Martinez de la Cruz",
        "Thiago Avelino",
        "Álvaro Justen",
        "Alexis Ferreyra",
        "Juan Bautista Cabral",
        "Yonatan Romero",
        "Javier Ayres",
        "Pablo Toledo Margalef"
       ],
       "y": {
        "dtype": "int32",
        "shape": [
         175
        ],
        "type": null
       }
      }
     },
     "8a4c6bab8ea1480aa816982e2007f98c": {
      "model_module": "bqplot",
      "model_module_version": "^0.5.18",
      "model_name": "ToolbarModel",
      "state": {
       "_model_module_version": "^0.5.18",
       "_view_module_version": "^0.5.18",
       "figure": "IPY_MODEL_90418e9ec0014650ad847cbe5aa6f8d5",
       "layout": "IPY_MODEL_8a1b830b36d24a8480ff9c28a945a043"
      }
     },
     "8bcf3db5f2994e9cbc4f07cd31900c75": {
      "model_module": "bqplot",
      "model_module_version": "^0.5.18",
      "model_name": "LinearScaleModel",
      "state": {
       "_model_module_version": "^0.5.18",
       "_view_module_version": "^0.5.18",
       "allow_padding": false,
       "max": 1,
       "min": 0,
       "stabilized": false
      }
     },
     "90418e9ec0014650ad847cbe5aa6f8d5": {
      "model_module": "bqplot",
      "model_module_version": "^0.5.18",
      "model_name": "FigureModel",
      "state": {
       "_model_module_version": "^0.5.18",
       "_view_module_version": "^0.5.18",
       "axes": [
        "IPY_MODEL_278d7232300a4281a89a20529a97c346",
        "IPY_MODEL_f66dc8c67f9f439c855b47a6af9b0de0"
       ],
       "layout": "IPY_MODEL_3129d10c6cd740b7ab7745bb6361896b",
       "marks": [
        "IPY_MODEL_1b81e8d7747f4ade8732069e28ac2b79",
        "IPY_MODEL_e7aee2ee61984e13a008522026a495b8",
        "IPY_MODEL_5fe26208d7fb423186ae03302671623d",
        "IPY_MODEL_7bdb19ab63c64f44b2979cd28fd92f7f"
       ],
       "scale_x": "IPY_MODEL_0f0d73466f924b469f54272af2eb544c",
       "scale_y": "IPY_MODEL_1622501b3c3b4845a533a14690f0fc48"
      }
     },
     "90b19b83707541f18691134a1e4b89a4": {
      "model_module": "@jupyter-widgets/base",
      "model_module_version": "1.2.0",
      "model_name": "LayoutModel",
      "state": {}
     },
     "90f56d93e5af481c87b653c02d2fe201": {
      "model_module": "@jupyter-widgets/base",
      "model_module_version": "1.2.0",
      "model_name": "LayoutModel",
      "state": {}
     },
     "91ef7837efcb4720819ef2c93f32a9c9": {
      "model_module": "@jupyter-widgets/base",
      "model_module_version": "1.2.0",
      "model_name": "LayoutModel",
      "state": {}
     },
     "9216a4f56d2c4bf1b5e3d5e9d6cdc513": {
      "model_module": "@jupyter-widgets/base",
      "model_module_version": "1.2.0",
      "model_name": "LayoutModel",
      "state": {}
     },
     "92215d385a744580a400fb07b63f30bd": {
      "model_module": "@jupyter-widgets/base",
      "model_module_version": "1.2.0",
      "model_name": "LayoutModel",
      "state": {}
     },
     "92f27bfbedc14312953c943efa5a6ae3": {
      "model_module": "@jupyter-widgets/base",
      "model_module_version": "1.2.0",
      "model_name": "LayoutModel",
      "state": {}
     },
     "932b656c79ca4088aa4fd2f4519588d9": {
      "model_module": "bqplot",
      "model_module_version": "^0.5.18",
      "model_name": "FigureModel",
      "state": {
       "_model_module_version": "^0.5.18",
       "_view_module_version": "^0.5.18",
       "layout": "IPY_MODEL_77f882b457fd4020a006a1793e2de64c",
       "scale_x": "IPY_MODEL_2e0d015ba239424588277541698e8ab5",
       "scale_y": "IPY_MODEL_a26e140862e8415e965f824065a09080"
      }
     },
     "94640aebe48543898508628047ceb36b": {
      "model_module": "@jupyter-widgets/base",
      "model_module_version": "1.2.0",
      "model_name": "LayoutModel",
      "state": {}
     },
     "946aa5e687e24ec68ce97d4e65857f6f": {
      "model_module": "@jupyter-widgets/base",
      "model_module_version": "1.2.0",
      "model_name": "LayoutModel",
      "state": {}
     },
     "95f3b138af8143ec86a5a9274e37f991": {
      "model_module": "bqplot",
      "model_module_version": "^0.5.18",
      "model_name": "FigureModel",
      "state": {
       "_model_module_version": "^0.5.18",
       "_view_module_version": "^0.5.18",
       "axes": [
        "IPY_MODEL_6fd9116ba6a44b61b5dfe35ea4f94b09",
        "IPY_MODEL_c5ed0eab3d39475e8021248d51d2ce18"
       ],
       "layout": "IPY_MODEL_6bf09a1f09c146279bd433bea4ca084e",
       "marks": [
        "IPY_MODEL_9fbe7aec0d9748a2942f2fcef9e4b961"
       ],
       "scale_x": "IPY_MODEL_afa6a574170645b09147a86f2b3bb366",
       "scale_y": "IPY_MODEL_3692636908e4461898bde0987562b6fd"
      }
     },
     "96cd41360e554990999326d5e0b814e9": {
      "model_module": "@jupyter-widgets/base",
      "model_module_version": "1.2.0",
      "model_name": "LayoutModel",
      "state": {}
     },
     "973c6750bbed4bdbbba32bc2acf0bf2f": {
      "model_module": "bqplot",
      "model_module_version": "^0.5.18",
      "model_name": "FigureModel",
      "state": {
       "_model_module_version": "^0.5.18",
       "_view_module_version": "^0.5.18",
       "axes": [
        "IPY_MODEL_16e1321823744663b492c60078686ab2",
        "IPY_MODEL_7a5a9606298e4ee5a5232575a2177816"
       ],
       "layout": "IPY_MODEL_4653d05c32a5475fa5fffbbaae729e9a",
       "marks": [
        "IPY_MODEL_6a347afd631c4789a7e6fb02c0da00f3"
       ],
       "scale_x": "IPY_MODEL_721687e95c464b0983ca7525a74a8f70",
       "scale_y": "IPY_MODEL_e61422b0f6b0461c85f82b46b5216511"
      }
     },
     "9881848cb7db40369cf9ef74c1e640b2": {
      "model_module": "@jupyter-widgets/base",
      "model_module_version": "1.2.0",
      "model_name": "LayoutModel",
      "state": {}
     },
     "9c7171bf97684df5b5518b4639f228d8": {
      "model_module": "@jupyter-widgets/base",
      "model_module_version": "1.2.0",
      "model_name": "LayoutModel",
      "state": {}
     },
     "9d93fed10944418485c0282938d05bc6": {
      "model_module": "bqplot",
      "model_module_version": "^0.5.18",
      "model_name": "AxisModel",
      "state": {
       "_model_module_version": "^0.5.18",
       "_view_module_version": "^0.5.18",
       "scale": "IPY_MODEL_a166a6180a7547f5bdddd2df0420ef13",
       "side": "bottom",
       "tick_values": null
      }
     },
     "9dae4c5b9ea6471b9d262a04f495d635": {
      "model_module": "@jupyter-widgets/base",
      "model_module_version": "1.2.0",
      "model_name": "LayoutModel",
      "state": {}
     },
     "9ee3bce74d264da79c73614732cca5f9": {
      "model_module": "bqplot",
      "model_module_version": "^0.5.18",
      "model_name": "AxisModel",
      "state": {
       "_model_module_version": "^0.5.18",
       "_view_module_version": "^0.5.18",
       "orientation": "vertical",
       "scale": "IPY_MODEL_0869017a92af4904b61edd988ad747d8",
       "side": "left",
       "tick_values": null
      }
     },
     "9fbe7aec0d9748a2942f2fcef9e4b961": {
      "buffers": [
       {
        "data": "HwAAAAcAAAAFAAAABQAAAAUAAAAEAAAABAAAAAMAAAADAAAAAwAAAAMAAAADAAAAAwAAAAMAAAACAAAAAgAAAAIAAAACAAAAAgAAAAIAAAACAAAAAgAAAAIAAAACAAAAAgAAAAIAAAACAAAAAgAAAAIAAAACAAAAAgAAAAIAAAACAAAAAgAAAAIAAAACAAAAAgAAAAEAAAABAAAAAQAAAAEAAAABAAAAAQAAAAEAAAABAAAAAQAAAAEAAAABAAAAAQAAAAEAAAABAAAAAQAAAAEAAAABAAAAAQAAAAEAAAABAAAAAQAAAAEAAAABAAAAAQAAAAEAAAABAAAAAQAAAAEAAAABAAAAAQAAAAEAAAABAAAAAQAAAAEAAAABAAAAAQAAAAEAAAABAAAAAQAAAAEAAAABAAAAAQAAAAEAAAABAAAAAQAAAAEAAAABAAAAAQAAAAEAAAABAAAAAQAAAAEAAAABAAAAAQAAAAEAAAABAAAAAQAAAAEAAAABAAAAAQAAAAEAAAABAAAAAQAAAAEAAAABAAAAAQAAAAEAAAABAAAAAQAAAAEAAAABAAAAAQAAAAEAAAABAAAAAQAAAAEAAAABAAAAAQAAAAEAAAABAAAAAQAAAAEAAAABAAAAAQAAAAEAAAABAAAAAQAAAAEAAAABAAAAAQAAAAEAAAABAAAAAQAAAAEAAAABAAAAAQAAAAEAAAABAAAAAQAAAAEAAAABAAAAAQAAAAEAAAABAAAAAQAAAAEAAAABAAAAAQAAAAEAAAABAAAAAQAAAAEAAAABAAAAAQAAAAEAAAABAAAAAQAAAAEAAAABAAAAAQAAAAEAAAABAAAAAQAAAAEAAAABAAAAAQAAAAEAAAABAAAAAQAAAAEAAAABAAAAAQAAAAEAAAABAAAAAQAAAAEAAAABAAAAAQAAAA==",
        "encoding": "base64",
        "path": [
         "y",
         "value"
        ]
       }
      ],
      "model_module": "bqplot",
      "model_module_version": "^0.5.18",
      "model_name": "ScatterModel",
      "state": {
       "_model_module_version": "^0.5.18",
       "_view_module_version": "^0.5.18",
       "default_opacities": {
        "dtype": "float64",
        "shape": [
         1
        ],
        "type": null,
        "value": {}
       },
       "label_display_horizontal_offset": 0,
       "label_display_vertical_offset": 0,
       "names": null,
       "scales": {
        "x": "IPY_MODEL_f8dc9081cb3743bd88192a85ef5853dd",
        "y": "IPY_MODEL_007528f904ca45b6abf7afb5967a907e"
       },
       "scales_metadata": {
        "color": {
         "dimension": "color"
        },
        "opacity": {
         "dimension": "opacity"
        },
        "rotation": {
         "dimension": "rotation"
        },
        "size": {
         "dimension": "size"
        },
        "skew": {
         "dimension": "skew"
        },
        "x": {
         "dimension": "x",
         "orientation": "horizontal"
        },
        "y": {
         "dimension": "y",
         "orientation": "vertical"
        }
       },
       "x": [
        "Various speakers",
        "Facundo Batista",
        "Juan Pedro Fisanotti",
        "Roberto Alsina",
        "Claudio Freire",
        "Damián Avila",
        "Hugo Ruscitti",
        "Alejandro J. Cura",
        "Various Speakers",
        "Diego Sarmentero",
        "Natalia Bidart",
        "Martin Alderete",
        "Rafael Carrascosa",
        "Gabriel Genellina",
        "Ricardo Kirkner",
        "Martín Gaitán",
        "Alejandro Cura",
        "Manuel Quiñones",
        "Diego Cañizares",
        "Massimo Di Pierro",
        "Craig Kerstiens",
        "Luciano Rossi",
        "Ariel Rossanigo",
        "Andrea Gavana",
        "Nicolás Demarchi",
        "Felipe Lerena",
        "Daniel F. Moisset",
        "Matías Bordese",
        "Berenice Larsen Pereyra",
        "Brett Cannon",
        "Javier Mansilla",
        "Sebastián Marró",
        "Emiliano Dalla Verde Marcozzi",
        "Manuel Kaufmann",
        "Sofía Denner",
        "Pedro Ignacio Guridi",
        "Christophe Pettus",
        "Ezequiel Gutesman",
        "Brandon Rhodes",
        "Javier Der Derian",
        "Wesley Chun",
        "Luciano Serruya Aloisi",
        "Carol Willing",
        "Cynthia Monastirsky",
        "Vinicius Feitosa Pacheco",
        "María Andrea Vignau",
        "Sebastian Brachi",
        "Martin Volpe",
        "Ramiro Morales",
        "Sebastián Kennedy",
        "Andrés Riancho",
        "Joaquín Sorianello",
        "David Litvak Bruno",
        "Leonardo Lazzaro",
        "Paola Katherine",
        "Nicolas Quiroz",
        "Flor Novidelsky",
        "Fernando Schapachnik",
        "Juan Manuel Schillaci",
        "Silvestre Huens",
        "Joaquin Sorianello",
        "Dino Viehland",
        "Emilio Crudele",
        "Juan Manuel Santos",
        "Federico Martinez y Santiago Avendaño",
        "Estefania Miguel",
        "Sofia Martin",
        "Ariel Farkas",
        "Alfonso de la Guarda Reyes",
        "Federico Brest",
        "Lucía García Itzigsohn",
        "A. Garassino",
        "Miguel Felipe Duarte",
        "Dave Weil",
        "dax",
        "Matias Barriento",
        "Angel J. Lopez",
        "Tomas Zulberti",
        "Valeria Rocha",
        "Juan Carlos Abdala",
        "Johanna Caterina Faliero",
        "D. Nohales",
        "Carlos de la Torre",
        "Leonardo Morales",
        "Martín Miranda",
        "Aylen Bombelli",
        "Hernan Wilkinson",
        "Martin Riva",
        "Tati Al-Chueyr",
        "Daniel Espinoza",
        "Martin Ribelotta",
        "Lucio Delelis",
        "Diego Diez",
        "Ana Laura Almada",
        "Sofía Martin",
        "Juan Pablo Giménez",
        "Martin Elias Costa",
        "N. Demarchi",
        "Gustavo Garcia Craia",
        "Manuel de la Peña",
        "Javier Derderyan",
        "Valentín Spurchisi",
        "Sebastian Bassi",
        "Jose Morales",
        "Celia Cintas",
        "Pablo Cruz Casas",
        "Augusto Coto",
        "Carolina Maristany",
        "Sergio Schvezov",
        "Angel Freire",
        "Laureano Kloss",
        "Alexis Jawtuschenko",
        "L. Torre",
        "Juan Bagnera",
        "Diego Mascialino",
        "Mariano Guerra",
        "Damian Avila",
        "Cecilia Jarne",
        "Ignacio Heredia",
        "Erico Ándrei",
        "Ana Velez Rueda",
        "Maciej Fijalkowski",
        "Ana Almada",
        "Diego G. Cañizares",
        "David Garoz",
        "Alan Runyan",
        "Eduardo Casarero",
        "Juan E. D.",
        "Mariano Reingart",
        "Héctor Sanchez Gonzalo Odiard",
        "Javyer Der Derian",
        "Emanuel Sartor",
        "Franco Mariluis",
        "Alejandro Pereira",
        "Alejandro Garcia",
        "Erico Andrei",
        "Adriana Aiassa",
        "Pablo Alcain",
        "Robert M Lefkowitz",
        "Matias Lang",
        "Fernando Masanori",
        "Matias Bordese",
        "German Bourdin",
        "Alejandro Zamora Fonseca",
        "Angel Lopez",
        "Simon Willison",
        "M. Quiñones",
        "Mário Sérgio",
        "Francisco Capdevila",
        "Carlos Matías de la Torre",
        "Leandro Ucciferri",
        "Marcelo Fernández",
        "Matias Varela",
        "Ángel Medinilla",
        "Jim Fulton",
        "Mariela Osete",
        "Katherine Jenkins",
        "Nahuel Lascano",
        "Diego Ramirez",
        "Franco Nicolas Bellomo",
        "Andrés Snitcofsky",
        "Mariano Lambir",
        "Rodrigo Lugones",
        "Graciela Molina",
        "Ignacio Fiorentino",
        "Federico Gonzalez (FedeG)",
        "Jeannette Torrez",
        "Victoria Martinez de la Cruz",
        "Thiago Avelino",
        "Álvaro Justen",
        "Alexis Ferreyra",
        "Juan Bautista Cabral",
        "Yonatan Romero",
        "Javier Ayres",
        "Pablo Toledo Margalef"
       ],
       "y": {
        "dtype": "int32",
        "shape": [
         175
        ],
        "type": null
       }
      }
     },
     "a013e04bf54f4fe3a18263471bd5b84c": {
      "model_module": "@jupyter-widgets/controls",
      "model_module_version": "1.5.0",
      "model_name": "VBoxModel",
      "state": {
       "children": [
        "IPY_MODEL_7d3fd1d80d5048b7abe8e3f2a1a26edd",
        "IPY_MODEL_6fb5978195c44d48bbb3badb5ad6fd0e"
       ],
       "layout": "IPY_MODEL_f7e21426ae60493ab4658efcb401c48d"
      }
     },
     "a088121fef234d3e9bbbbe176175770c": {
      "buffers": [
       {
        "data": "HwAAAAcAAAAFAAAABQAAAAUAAAAEAAAABAAAAAMAAAADAAAAAwAAAAMAAAADAAAAAwAAAAMAAAACAAAAAgAAAAIAAAACAAAAAgAAAAIAAAACAAAAAgAAAAIAAAACAAAAAgAAAAIAAAACAAAAAgAAAAIAAAACAAAAAgAAAAIAAAACAAAAAgAAAAIAAAACAAAAAgAAAA==",
        "encoding": "base64",
        "path": [
         "y",
         "value"
        ]
       }
      ],
      "model_module": "bqplot",
      "model_module_version": "^0.5.18",
      "model_name": "BarsModel",
      "state": {
       "_model_module_version": "^0.5.18",
       "_view_module_version": "^0.5.18",
       "label_font_style": {},
       "orientation": "horizontal",
       "scales": {
        "x": "IPY_MODEL_e1304e8c8037415386c77589bd41f1ec",
        "y": "IPY_MODEL_40b5edd184f34cb58d2b5c5a84778781"
       },
       "scales_metadata": {
        "x": {
         "dimension": "x",
         "orientation": "vertical"
        },
        "y": {
         "dimension": "y",
         "orientation": "horizontal"
        }
       },
       "x": [
        "Various speakers",
        "Facundo Batista",
        "Juan Pedro Fisanotti",
        "Roberto Alsina",
        "Claudio Freire",
        "Damián Avila",
        "Hugo Ruscitti",
        "Alejandro J. Cura",
        "Various Speakers",
        "Diego Sarmentero",
        "Natalia Bidart",
        "Martin Alderete",
        "Rafael Carrascosa",
        "Gabriel Genellina",
        "Ricardo Kirkner",
        "Martín Gaitán",
        "Alejandro Cura",
        "Manuel Quiñones",
        "Diego Cañizares",
        "Massimo Di Pierro",
        "Craig Kerstiens",
        "Luciano Rossi",
        "Ariel Rossanigo",
        "Andrea Gavana",
        "Nicolás Demarchi",
        "Felipe Lerena",
        "Daniel F. Moisset",
        "Matías Bordese",
        "Berenice Larsen Pereyra",
        "Brett Cannon",
        "Javier Mansilla",
        "Sebastián Marró",
        "Emiliano Dalla Verde Marcozzi",
        "Manuel Kaufmann",
        "Sofía Denner",
        "Pedro Ignacio Guridi",
        "Christophe Pettus"
       ],
       "y": {
        "dtype": "int32",
        "shape": [
         37
        ],
        "type": null
       }
      }
     },
     "a0edc0683843438fac4d0c0720328b09": {
      "model_module": "bqplot",
      "model_module_version": "^0.5.18",
      "model_name": "LinearScaleModel",
      "state": {
       "_model_module_version": "^0.5.18",
       "_view_module_version": "^0.5.18",
       "allow_padding": false,
       "max": 1,
       "min": 0,
       "stabilized": false
      }
     },
     "a166a6180a7547f5bdddd2df0420ef13": {
      "model_module": "bqplot",
      "model_module_version": "^0.5.18",
      "model_name": "LinearScaleModel",
      "state": {
       "_model_module_version": "^0.5.18",
       "_view_module_version": "^0.5.18",
       "stabilized": false
      }
     },
     "a22aba98c4b74a72b232645698ae3651": {
      "model_module": "bqplot",
      "model_module_version": "^0.5.18",
      "model_name": "OrdinalScaleModel",
      "state": {
       "_model_module_version": "^0.5.18",
       "_view_module_version": "^0.5.18"
      }
     },
     "a232819f00ab4668b64f3574c8d5c9f7": {
      "model_module": "bqplot",
      "model_module_version": "^0.5.18",
      "model_name": "LinearScaleModel",
      "state": {
       "_model_module_version": "^0.5.18",
       "_view_module_version": "^0.5.18",
       "stabilized": false
      }
     },
     "a26e140862e8415e965f824065a09080": {
      "model_module": "bqplot",
      "model_module_version": "^0.5.18",
      "model_name": "LinearScaleModel",
      "state": {
       "_model_module_version": "^0.5.18",
       "_view_module_version": "^0.5.18",
       "allow_padding": false,
       "max": 1,
       "min": 0,
       "stabilized": false
      }
     },
     "a39de8fb17f74e18a8453c14e881c7b2": {
      "model_module": "bqplot",
      "model_module_version": "^0.5.18",
      "model_name": "LinearScaleModel",
      "state": {
       "_model_module_version": "^0.5.18",
       "_view_module_version": "^0.5.18",
       "allow_padding": false,
       "max": 1,
       "min": 0,
       "stabilized": false
      }
     },
     "a50432e482644302bbdc9998005bd4b8": {
      "model_module": "bqplot",
      "model_module_version": "^0.5.18",
      "model_name": "AxisModel",
      "state": {
       "_model_module_version": "^0.5.18",
       "_view_module_version": "^0.5.18",
       "scale": "IPY_MODEL_abdfa114f274426ebbe577c1b504232a",
       "side": "bottom",
       "tick_values": null
      }
     },
     "a8973a22560f4305b88c5f733fa2eff5": {
      "model_module": "@jupyter-widgets/base",
      "model_module_version": "1.2.0",
      "model_name": "LayoutModel",
      "state": {}
     },
     "a8d5646c024343a1b5dfa8e1659285ff": {
      "model_module": "bqplot",
      "model_module_version": "^0.5.18",
      "model_name": "FigureModel",
      "state": {
       "_model_module_version": "^0.5.18",
       "_view_module_version": "^0.5.18",
       "axes": [
        "IPY_MODEL_a50432e482644302bbdc9998005bd4b8",
        "IPY_MODEL_2a3d398672524caa9412b4d1b93b7921"
       ],
       "layout": "IPY_MODEL_ff4d262cb7af46ba94c0d96dd88cbbef",
       "marks": [
        "IPY_MODEL_39552743914e41ff9e580d57079affc1"
       ],
       "scale_x": "IPY_MODEL_ccd22c02ddc8409998fdc8a4a177cbab",
       "scale_y": "IPY_MODEL_32b92dd7d50748fb85c788fb0c514c3c"
      }
     },
     "a8ee4521aa234e68a3acb461311bafdb": {
      "model_module": "@jupyter-widgets/base",
      "model_module_version": "1.2.0",
      "model_name": "LayoutModel",
      "state": {}
     },
     "a92207bfcd0b47afba81669b8bf8437f": {
      "model_module": "bqplot",
      "model_module_version": "^0.5.18",
      "model_name": "LinearScaleModel",
      "state": {
       "_model_module_version": "^0.5.18",
       "_view_module_version": "^0.5.18",
       "stabilized": false
      }
     },
     "aa01fd4f86994b629c1279fd95cbecba": {
      "model_module": "@jupyter-widgets/base",
      "model_module_version": "1.2.0",
      "model_name": "LayoutModel",
      "state": {}
     },
     "aa468c20b6494cb7b1216ad52f4aa6c8": {
      "model_module": "@jupyter-widgets/base",
      "model_module_version": "1.2.0",
      "model_name": "LayoutModel",
      "state": {}
     },
     "aa849f7501164ee0bbdb2ecda54e69e0": {
      "model_module": "bqplot",
      "model_module_version": "^0.5.18",
      "model_name": "LinearScaleModel",
      "state": {
       "_model_module_version": "^0.5.18",
       "_view_module_version": "^0.5.18",
       "stabilized": false
      }
     },
     "aac39a92fa34442c8e379f7477d57d90": {
      "model_module": "bqplot",
      "model_module_version": "^0.5.18",
      "model_name": "FigureModel",
      "state": {
       "_model_module_version": "^0.5.18",
       "_view_module_version": "^0.5.18",
       "layout": "IPY_MODEL_4e85b41d501c400597059637eab1cc86",
       "scale_x": "IPY_MODEL_ad53cd1707d9465db7e1dccedd200d4e",
       "scale_y": "IPY_MODEL_4dc3d9ac883b4832b829389a3744ed58"
      }
     },
     "ab4aba0229114a50b1a8f3a6da8c7f8d": {
      "model_module": "bqplot",
      "model_module_version": "^0.5.18",
      "model_name": "AxisModel",
      "state": {
       "_model_module_version": "^0.5.18",
       "_view_module_version": "^0.5.18",
       "orientation": "vertical",
       "scale": "IPY_MODEL_09aed5cce6eb4743b29a365f67f4ee19",
       "side": "left",
       "tick_values": null
      }
     },
     "abdfa114f274426ebbe577c1b504232a": {
      "model_module": "bqplot",
      "model_module_version": "^0.5.18",
      "model_name": "LinearScaleModel",
      "state": {
       "_model_module_version": "^0.5.18",
       "_view_module_version": "^0.5.18",
       "stabilized": false
      }
     },
     "ac6a844c954c40e5a3506c3f6683dabf": {
      "model_module": "bqplot",
      "model_module_version": "^0.5.18",
      "model_name": "LinearScaleModel",
      "state": {
       "_model_module_version": "^0.5.18",
       "_view_module_version": "^0.5.18",
       "allow_padding": false,
       "max": 1,
       "min": 0,
       "stabilized": false
      }
     },
     "ad53cd1707d9465db7e1dccedd200d4e": {
      "model_module": "bqplot",
      "model_module_version": "^0.5.18",
      "model_name": "LinearScaleModel",
      "state": {
       "_model_module_version": "^0.5.18",
       "_view_module_version": "^0.5.18",
       "allow_padding": false,
       "max": 1,
       "min": 0,
       "stabilized": false
      }
     },
     "ad868c1cf5ac4fddaf9fef97c34a9b79": {
      "buffers": [
       {
        "data": "AAAAAAEAAAACAAAAAwAAAAQAAAAFAAAABgAAAAcAAAAIAAAACQAAAAoAAAALAAAADAAAAA0AAAAOAAAADwAAABAAAAARAAAAEgAAABMAAAAUAAAAFQAAABYAAAAXAAAAGAAAABkAAAAaAAAAGwAAABwAAAAdAAAAHgAAAB8AAAAgAAAAIQAAACIAAAAjAAAAJAAAACUAAAAmAAAAJwAAACgAAAApAAAAKgAAACsAAAAsAAAALQAAAC4AAAAvAAAAMAAAADEAAAAyAAAAMwAAADQAAAA1AAAANgAAADcAAAA4AAAAOQAAADoAAAA7AAAAPAAAAD0AAAA+AAAAPwAAAEAAAABBAAAAQgAAAEMAAABEAAAARQAAAEYAAABHAAAASAAAAEkAAABKAAAASwAAAEwAAABNAAAATgAAAE8AAABQAAAAUQAAAFIAAABTAAAAVAAAAFUAAABWAAAAVwAAAFgAAABZAAAAWgAAAFsAAABcAAAAXQAAAF4AAABfAAAAYAAAAGEAAABiAAAAYwAAAGQAAABlAAAAZgAAAGcAAABoAAAAaQAAAGoAAABrAAAAbAAAAG0AAABuAAAAbwAAAHAAAABxAAAAcgAAAHMAAAB0AAAAdQAAAHYAAAB3AAAAeAAAAHkAAAB6AAAAewAAAHwAAAB9AAAAfgAAAH8AAACAAAAAgQAAAIIAAACDAAAAhAAAAIUAAACGAAAAhwAAAIgAAACJAAAAigAAAIsAAACMAAAAjQAAAI4AAACPAAAAkAAAAJEAAACSAAAAkwAAAJQAAACVAAAAlgAAAJcAAACYAAAAmQAAAJoAAACbAAAAnAAAAJ0AAACeAAAAnwAAAKAAAAChAAAAogAAAKMAAACkAAAApQAAAKYAAACnAAAAqAAAAKkAAACqAAAAqwAAAKwAAACtAAAArgAAAA==",
        "encoding": "base64",
        "path": [
         "x",
         "value"
        ]
       },
       {
        "data": "HwAAAAcAAAAFAAAABQAAAAUAAAAEAAAABAAAAAMAAAADAAAAAwAAAAMAAAADAAAAAwAAAAMAAAACAAAAAgAAAAIAAAACAAAAAgAAAAIAAAACAAAAAgAAAAIAAAACAAAAAgAAAAIAAAACAAAAAgAAAAIAAAACAAAAAgAAAAIAAAACAAAAAgAAAAIAAAACAAAAAgAAAAEAAAABAAAAAQAAAAEAAAABAAAAAQAAAAEAAAABAAAAAQAAAAEAAAABAAAAAQAAAAEAAAABAAAAAQAAAAEAAAABAAAAAQAAAAEAAAABAAAAAQAAAAEAAAABAAAAAQAAAAEAAAABAAAAAQAAAAEAAAABAAAAAQAAAAEAAAABAAAAAQAAAAEAAAABAAAAAQAAAAEAAAABAAAAAQAAAAEAAAABAAAAAQAAAAEAAAABAAAAAQAAAAEAAAABAAAAAQAAAAEAAAABAAAAAQAAAAEAAAABAAAAAQAAAAEAAAABAAAAAQAAAAEAAAABAAAAAQAAAAEAAAABAAAAAQAAAAEAAAABAAAAAQAAAAEAAAABAAAAAQAAAAEAAAABAAAAAQAAAAEAAAABAAAAAQAAAAEAAAABAAAAAQAAAAEAAAABAAAAAQAAAAEAAAABAAAAAQAAAAEAAAABAAAAAQAAAAEAAAABAAAAAQAAAAEAAAABAAAAAQAAAAEAAAABAAAAAQAAAAEAAAABAAAAAQAAAAEAAAABAAAAAQAAAAEAAAABAAAAAQAAAAEAAAABAAAAAQAAAAEAAAABAAAAAQAAAAEAAAABAAAAAQAAAAEAAAABAAAAAQAAAAEAAAABAAAAAQAAAAEAAAABAAAAAQAAAAEAAAABAAAAAQAAAAEAAAABAAAAAQAAAAEAAAABAAAAAQAAAAEAAAABAAAAAQAAAAEAAAABAAAAAQAAAA==",
        "encoding": "base64",
        "path": [
         "y",
         "value"
        ]
       }
      ],
      "model_module": "bqplot",
      "model_module_version": "^0.5.18",
      "model_name": "LinesModel",
      "state": {
       "_model_module_version": "^0.5.18",
       "_view_module_version": "^0.5.18",
       "fill_colors": [],
       "labels": [
        "C1"
       ],
       "scales": {
        "x": "IPY_MODEL_81633a34d3b94e5f9f06b8d6bfa768f4",
        "y": "IPY_MODEL_fd5b0305e35a4f57aa7ce7055ab656a0"
       },
       "x": {
        "dtype": "int32",
        "shape": [
         175
        ],
        "type": null
       },
       "y": {
        "dtype": "int32",
        "shape": [
         175
        ],
        "type": null
       }
      }
     },
     "aed08846c8d5466890bacccc82941785": {
      "model_module": "@jupyter-widgets/base",
      "model_module_version": "1.2.0",
      "model_name": "LayoutModel",
      "state": {}
     },
     "afa6a574170645b09147a86f2b3bb366": {
      "model_module": "bqplot",
      "model_module_version": "^0.5.18",
      "model_name": "LinearScaleModel",
      "state": {
       "_model_module_version": "^0.5.18",
       "_view_module_version": "^0.5.18",
       "allow_padding": false,
       "max": 1,
       "min": 0,
       "stabilized": false
      }
     },
     "b0466d62846241d486b985f72fae2b71": {
      "model_module": "bqplot",
      "model_module_version": "^0.5.18",
      "model_name": "AxisModel",
      "state": {
       "_model_module_version": "^0.5.18",
       "_view_module_version": "^0.5.18",
       "orientation": "vertical",
       "scale": "IPY_MODEL_fd5b0305e35a4f57aa7ce7055ab656a0",
       "side": "left",
       "tick_values": null
      }
     },
     "b2290c1a11df4687a20d352185bd6b05": {
      "model_module": "bqplot",
      "model_module_version": "^0.5.18",
      "model_name": "OrdinalScaleModel",
      "state": {
       "_model_module_version": "^0.5.18",
       "_view_module_version": "^0.5.18"
      }
     },
     "b36b896c64c94e68b19eccd2b1056900": {
      "buffers": [
       {
        "data": "HwAAAAcAAAAFAAAABQAAAAUAAAAEAAAABAAAAAMAAAADAAAAAwAAAAMAAAADAAAAAwAAAAMAAAACAAAAAgAAAAIAAAACAAAAAgAAAAIAAAACAAAAAgAAAAIAAAACAAAAAgAAAAIAAAACAAAAAgAAAAIAAAACAAAAAgAAAAIAAAACAAAAAgAAAAIAAAACAAAAAgAAAAEAAAABAAAAAQAAAAEAAAABAAAAAQAAAAEAAAABAAAAAQAAAAEAAAABAAAAAQAAAAEAAAABAAAAAQAAAAEAAAABAAAAAQAAAAEAAAABAAAAAQAAAAEAAAABAAAAAQAAAAEAAAABAAAAAQAAAAEAAAABAAAAAQAAAAEAAAABAAAAAQAAAAEAAAABAAAAAQAAAAEAAAABAAAAAQAAAAEAAAABAAAAAQAAAAEAAAABAAAAAQAAAAEAAAABAAAAAQAAAAEAAAABAAAAAQAAAAEAAAABAAAAAQAAAAEAAAABAAAAAQAAAAEAAAABAAAAAQAAAAEAAAABAAAAAQAAAAEAAAABAAAAAQAAAAEAAAABAAAAAQAAAAEAAAABAAAAAQAAAAEAAAABAAAAAQAAAAEAAAABAAAAAQAAAAEAAAABAAAAAQAAAAEAAAABAAAAAQAAAAEAAAABAAAAAQAAAAEAAAABAAAAAQAAAAEAAAABAAAAAQAAAAEAAAABAAAAAQAAAAEAAAABAAAAAQAAAAEAAAABAAAAAQAAAAEAAAABAAAAAQAAAAEAAAABAAAAAQAAAAEAAAABAAAAAQAAAAEAAAABAAAAAQAAAAEAAAABAAAAAQAAAAEAAAABAAAAAQAAAAEAAAABAAAAAQAAAAEAAAABAAAAAQAAAAEAAAABAAAAAQAAAAEAAAABAAAAAQAAAAEAAAABAAAAAQAAAAEAAAABAAAAAQAAAA==",
        "encoding": "base64",
        "path": [
         "y",
         "value"
        ]
       }
      ],
      "model_module": "bqplot",
      "model_module_version": "^0.5.18",
      "model_name": "BarsModel",
      "state": {
       "_model_module_version": "^0.5.18",
       "_view_module_version": "^0.5.18",
       "label_font_style": {},
       "orientation": "horizontal",
       "scales": {
        "x": "IPY_MODEL_b70c5d03388b4951b2251f431fff8cf7",
        "y": "IPY_MODEL_aa849f7501164ee0bbdb2ecda54e69e0"
       },
       "scales_metadata": {
        "x": {
         "dimension": "x",
         "orientation": "vertical"
        },
        "y": {
         "dimension": "y",
         "orientation": "horizontal"
        }
       },
       "x": [
        "Various speakers",
        "Facundo Batista",
        "Juan Pedro Fisanotti",
        "Roberto Alsina",
        "Claudio Freire",
        "Damián Avila",
        "Hugo Ruscitti",
        "Alejandro J. Cura",
        "Various Speakers",
        "Diego Sarmentero",
        "Natalia Bidart",
        "Martin Alderete",
        "Rafael Carrascosa",
        "Gabriel Genellina",
        "Ricardo Kirkner",
        "Martín Gaitán",
        "Alejandro Cura",
        "Manuel Quiñones",
        "Diego Cañizares",
        "Massimo Di Pierro",
        "Craig Kerstiens",
        "Luciano Rossi",
        "Ariel Rossanigo",
        "Andrea Gavana",
        "Nicolás Demarchi",
        "Felipe Lerena",
        "Daniel F. Moisset",
        "Matías Bordese",
        "Berenice Larsen Pereyra",
        "Brett Cannon",
        "Javier Mansilla",
        "Sebastián Marró",
        "Emiliano Dalla Verde Marcozzi",
        "Manuel Kaufmann",
        "Sofía Denner",
        "Pedro Ignacio Guridi",
        "Christophe Pettus",
        "Ezequiel Gutesman",
        "Brandon Rhodes",
        "Javier Der Derian",
        "Wesley Chun",
        "Luciano Serruya Aloisi",
        "Carol Willing",
        "Cynthia Monastirsky",
        "Vinicius Feitosa Pacheco",
        "María Andrea Vignau",
        "Sebastian Brachi",
        "Martin Volpe",
        "Ramiro Morales",
        "Sebastián Kennedy",
        "Andrés Riancho",
        "Joaquín Sorianello",
        "David Litvak Bruno",
        "Leonardo Lazzaro",
        "Paola Katherine",
        "Nicolas Quiroz",
        "Flor Novidelsky",
        "Fernando Schapachnik",
        "Juan Manuel Schillaci",
        "Silvestre Huens",
        "Joaquin Sorianello",
        "Dino Viehland",
        "Emilio Crudele",
        "Juan Manuel Santos",
        "Federico Martinez y Santiago Avendaño",
        "Estefania Miguel",
        "Sofia Martin",
        "Ariel Farkas",
        "Alfonso de la Guarda Reyes",
        "Federico Brest",
        "Lucía García Itzigsohn",
        "A. Garassino",
        "Miguel Felipe Duarte",
        "Dave Weil",
        "dax",
        "Matias Barriento",
        "Angel J. Lopez",
        "Tomas Zulberti",
        "Valeria Rocha",
        "Juan Carlos Abdala",
        "Johanna Caterina Faliero",
        "D. Nohales",
        "Carlos de la Torre",
        "Leonardo Morales",
        "Martín Miranda",
        "Aylen Bombelli",
        "Hernan Wilkinson",
        "Martin Riva",
        "Tati Al-Chueyr",
        "Daniel Espinoza",
        "Martin Ribelotta",
        "Lucio Delelis",
        "Diego Diez",
        "Ana Laura Almada",
        "Sofía Martin",
        "Juan Pablo Giménez",
        "Martin Elias Costa",
        "N. Demarchi",
        "Gustavo Garcia Craia",
        "Manuel de la Peña",
        "Javier Derderyan",
        "Valentín Spurchisi",
        "Sebastian Bassi",
        "Jose Morales",
        "Celia Cintas",
        "Pablo Cruz Casas",
        "Augusto Coto",
        "Carolina Maristany",
        "Sergio Schvezov",
        "Angel Freire",
        "Laureano Kloss",
        "Alexis Jawtuschenko",
        "L. Torre",
        "Juan Bagnera",
        "Diego Mascialino",
        "Mariano Guerra",
        "Damian Avila",
        "Cecilia Jarne",
        "Ignacio Heredia",
        "Erico Ándrei",
        "Ana Velez Rueda",
        "Maciej Fijalkowski",
        "Ana Almada",
        "Diego G. Cañizares",
        "David Garoz",
        "Alan Runyan",
        "Eduardo Casarero",
        "Juan E. D.",
        "Mariano Reingart",
        "Héctor Sanchez Gonzalo Odiard",
        "Javyer Der Derian",
        "Emanuel Sartor",
        "Franco Mariluis",
        "Alejandro Pereira",
        "Alejandro Garcia",
        "Erico Andrei",
        "Adriana Aiassa",
        "Pablo Alcain",
        "Robert M Lefkowitz",
        "Matias Lang",
        "Fernando Masanori",
        "Matias Bordese",
        "German Bourdin",
        "Alejandro Zamora Fonseca",
        "Angel Lopez",
        "Simon Willison",
        "M. Quiñones",
        "Mário Sérgio",
        "Francisco Capdevila",
        "Carlos Matías de la Torre",
        "Leandro Ucciferri",
        "Marcelo Fernández",
        "Matias Varela",
        "Ángel Medinilla",
        "Jim Fulton",
        "Mariela Osete",
        "Katherine Jenkins",
        "Nahuel Lascano",
        "Diego Ramirez",
        "Franco Nicolas Bellomo",
        "Andrés Snitcofsky",
        "Mariano Lambir",
        "Rodrigo Lugones",
        "Graciela Molina",
        "Ignacio Fiorentino",
        "Federico Gonzalez (FedeG)",
        "Jeannette Torrez",
        "Victoria Martinez de la Cruz",
        "Thiago Avelino",
        "Álvaro Justen",
        "Alexis Ferreyra",
        "Juan Bautista Cabral",
        "Yonatan Romero",
        "Javier Ayres",
        "Pablo Toledo Margalef"
       ],
       "y": {
        "dtype": "int32",
        "shape": [
         175
        ],
        "type": null
       }
      }
     },
     "b589a390be924e049639c66635e8187e": {
      "model_module": "bqplot",
      "model_module_version": "^0.5.18",
      "model_name": "FigureModel",
      "state": {
       "_model_module_version": "^0.5.18",
       "_view_module_version": "^0.5.18",
       "axes": [
        "IPY_MODEL_ca4be53f245e42afb9a7eba503cd27b2",
        "IPY_MODEL_2300d64edf3245b59c0dd2941c38d93d"
       ],
       "layout": "IPY_MODEL_7f2f4fb016d647c38183e32f06357038",
       "marks": [
        "IPY_MODEL_248f09231fb24b6fab3a677ed34a605c"
       ],
       "scale_x": "IPY_MODEL_573e101fd7804c2dae3bed2c53d4a074",
       "scale_y": "IPY_MODEL_30adb8ffeb5546bca0ed9890110424c3"
      }
     },
     "b5adb7d76b2640559f21ad4b8d37ad40": {
      "model_module": "@jupyter-widgets/base",
      "model_module_version": "1.2.0",
      "model_name": "LayoutModel",
      "state": {}
     },
     "b6d82db987494094a0a2510ffb23e1aa": {
      "model_module": "bqplot",
      "model_module_version": "^0.5.18",
      "model_name": "FigureModel",
      "state": {
       "_model_module_version": "^0.5.18",
       "_view_module_version": "^0.5.18",
       "layout": "IPY_MODEL_d8f6e53e521d48d5bc735b853254b244",
       "scale_x": "IPY_MODEL_de7c0263c4b94de49a4e512fbc90a6d1",
       "scale_y": "IPY_MODEL_48d8be9176e243768c65ad36a9c4a431"
      }
     },
     "b708ecaef61b46898b099a23782d4411": {
      "model_module": "bqplot",
      "model_module_version": "^0.5.18",
      "model_name": "LinearScaleModel",
      "state": {
       "_model_module_version": "^0.5.18",
       "_view_module_version": "^0.5.18",
       "allow_padding": false,
       "max": 1,
       "min": 0,
       "stabilized": false
      }
     },
     "b70c5d03388b4951b2251f431fff8cf7": {
      "model_module": "bqplot",
      "model_module_version": "^0.5.18",
      "model_name": "OrdinalScaleModel",
      "state": {
       "_model_module_version": "^0.5.18",
       "_view_module_version": "^0.5.18"
      }
     },
     "b83730d50f5b432b831d7b5afeed19b1": {
      "model_module": "bqplot",
      "model_module_version": "^0.5.18",
      "model_name": "LinearScaleModel",
      "state": {
       "_model_module_version": "^0.5.18",
       "_view_module_version": "^0.5.18",
       "allow_padding": false,
       "max": 1,
       "min": 0,
       "stabilized": false
      }
     },
     "ba8c5e0398f04126a5e44ee6e19d471c": {
      "model_module": "bqplot",
      "model_module_version": "^0.5.18",
      "model_name": "LinearScaleModel",
      "state": {
       "_model_module_version": "^0.5.18",
       "_view_module_version": "^0.5.18",
       "stabilized": false
      }
     },
     "bb18642b348643f1826fa0bb0a7d3d40": {
      "model_module": "bqplot",
      "model_module_version": "^0.5.18",
      "model_name": "LinearScaleModel",
      "state": {
       "_model_module_version": "^0.5.18",
       "_view_module_version": "^0.5.18",
       "stabilized": false
      }
     },
     "bb9f4aa868aa4bec99848c3ce9145e24": {
      "model_module": "bqplot",
      "model_module_version": "^0.5.18",
      "model_name": "ToolbarModel",
      "state": {
       "_model_module_version": "^0.5.18",
       "_view_module_version": "^0.5.18",
       "figure": "IPY_MODEL_4003fba24cb74d96bb0bed4dfaa36454",
       "layout": "IPY_MODEL_dd412cb30bbf4eb8b8b3b46ae976d025"
      }
     },
     "bc274e07a3c74148b54fc5e632c5a00a": {
      "model_module": "@jupyter-widgets/controls",
      "model_module_version": "1.5.0",
      "model_name": "VBoxModel",
      "state": {
       "children": [
        "IPY_MODEL_2a1d8bf6154a463aabf9f0e1a16ce5ca",
        "IPY_MODEL_e857f094f39a437ebcc7ff73bb7394ae"
       ],
       "layout": "IPY_MODEL_f2a3951dfd8b48539ebd6754c41b4f5e"
      }
     },
     "bc3cfa8f76b54cc1aa41456f42496496": {
      "model_module": "bqplot",
      "model_module_version": "^0.5.18",
      "model_name": "OrdinalScaleModel",
      "state": {
       "_model_module_version": "^0.5.18",
       "_view_module_version": "^0.5.18"
      }
     },
     "be747da23a8e4b9691b091b02ac4d329": {
      "model_module": "@jupyter-widgets/base",
      "model_module_version": "1.2.0",
      "model_name": "LayoutModel",
      "state": {}
     },
     "c15ac9f30e8f4853a1e8652016f276b8": {
      "model_module": "@jupyter-widgets/controls",
      "model_module_version": "1.5.0",
      "model_name": "VBoxModel",
      "state": {
       "children": [
        "IPY_MODEL_6fa7e645415146548853750ce24b4034",
        "IPY_MODEL_2a41dde1d3f944a5a467ba25c0da6942"
       ],
       "layout": "IPY_MODEL_8456fdc22202416d94fdaf1a78bb0092"
      }
     },
     "c1eb9ce16e9547d5bcb2fb9c08d369b0": {
      "model_module": "@jupyter-widgets/base",
      "model_module_version": "1.2.0",
      "model_name": "LayoutModel",
      "state": {}
     },
     "c2cfd83c9e5c4cd8a7e7295bc1a2c033": {
      "model_module": "bqplot",
      "model_module_version": "^0.5.18",
      "model_name": "AxisModel",
      "state": {
       "_model_module_version": "^0.5.18",
       "_view_module_version": "^0.5.18",
       "orientation": "vertical",
       "scale": "IPY_MODEL_71ef62f5174a48288ce47fe5efd107e2",
       "side": "left",
       "tick_values": null
      }
     },
     "c46ac891dc5e41c4b1077abe9ab81a6b": {
      "model_module": "bqplot",
      "model_module_version": "^0.5.18",
      "model_name": "FigureModel",
      "state": {
       "_model_module_version": "^0.5.18",
       "_view_module_version": "^0.5.18",
       "layout": "IPY_MODEL_31a8a5fb7b4141ee969638fa68b4b4b1",
       "scale_x": "IPY_MODEL_d8d21cb6c97d413a8cd60ddce55e39c5",
       "scale_y": "IPY_MODEL_cf77c9286e624bf484a3261198d4c018"
      }
     },
     "c4c99372d4fe4c1fa7af2256ecc47d01": {
      "model_module": "bqplot",
      "model_module_version": "^0.5.18",
      "model_name": "FigureModel",
      "state": {
       "_model_module_version": "^0.5.18",
       "_view_module_version": "^0.5.18",
       "layout": "IPY_MODEL_299d49eb83ba49f995f8b20e31fe59eb",
       "scale_x": "IPY_MODEL_87f673bf704f4a0d925ae4001cc2d069",
       "scale_y": "IPY_MODEL_034c2d14b4ae427ba71543e4e8916742"
      }
     },
     "c50c133829b94c9ba5ddf9eb4c83f6de": {
      "model_module": "@jupyter-widgets/base",
      "model_module_version": "1.2.0",
      "model_name": "LayoutModel",
      "state": {}
     },
     "c5ed0eab3d39475e8021248d51d2ce18": {
      "model_module": "bqplot",
      "model_module_version": "^0.5.18",
      "model_name": "AxisModel",
      "state": {
       "_model_module_version": "^0.5.18",
       "_view_module_version": "^0.5.18",
       "orientation": "vertical",
       "scale": "IPY_MODEL_007528f904ca45b6abf7afb5967a907e",
       "side": "left",
       "tick_values": null
      }
     },
     "c665904bb65a44f98a67fdb9e7a058a6": {
      "model_module": "bqplot",
      "model_module_version": "^0.5.18",
      "model_name": "LinearScaleModel",
      "state": {
       "_model_module_version": "^0.5.18",
       "_view_module_version": "^0.5.18",
       "allow_padding": false,
       "max": 1,
       "min": 0,
       "stabilized": false
      }
     },
     "c6b234d6c0094331957c89a19f8984d4": {
      "model_module": "bqplot",
      "model_module_version": "^0.5.18",
      "model_name": "LinearScaleModel",
      "state": {
       "_model_module_version": "^0.5.18",
       "_view_module_version": "^0.5.18",
       "allow_padding": false,
       "max": 1,
       "min": 0,
       "stabilized": false
      }
     },
     "c77f77b97acf4f8ca0e017c92e9d291f": {
      "model_module": "bqplot",
      "model_module_version": "^0.5.18",
      "model_name": "AxisModel",
      "state": {
       "_model_module_version": "^0.5.18",
       "_view_module_version": "^0.5.18",
       "scale": "IPY_MODEL_40b5edd184f34cb58d2b5c5a84778781",
       "side": "bottom",
       "tick_values": null
      }
     },
     "ca4be53f245e42afb9a7eba503cd27b2": {
      "model_module": "bqplot",
      "model_module_version": "^0.5.18",
      "model_name": "AxisModel",
      "state": {
       "_model_module_version": "^0.5.18",
       "_view_module_version": "^0.5.18",
       "orientation": "vertical",
       "scale": "IPY_MODEL_06fc3e340b064fd6a864587e0cf0dd44",
       "side": "left",
       "tick_values": null
      }
     },
     "ccd22c02ddc8409998fdc8a4a177cbab": {
      "model_module": "bqplot",
      "model_module_version": "^0.5.18",
      "model_name": "LinearScaleModel",
      "state": {
       "_model_module_version": "^0.5.18",
       "_view_module_version": "^0.5.18",
       "allow_padding": false,
       "max": 1,
       "min": 0,
       "stabilized": false
      }
     },
     "ce0860e6fffb4f40bc89250097f7b075": {
      "model_module": "@jupyter-widgets/controls",
      "model_module_version": "1.5.0",
      "model_name": "VBoxModel",
      "state": {
       "children": [
        "IPY_MODEL_b589a390be924e049639c66635e8187e",
        "IPY_MODEL_e7ab3c664d41423bb74a9da791ee5641"
       ],
       "layout": "IPY_MODEL_360df4a4ead3476a8188d318461b5e19"
      }
     },
     "cf77c9286e624bf484a3261198d4c018": {
      "model_module": "bqplot",
      "model_module_version": "^0.5.18",
      "model_name": "LinearScaleModel",
      "state": {
       "_model_module_version": "^0.5.18",
       "_view_module_version": "^0.5.18",
       "allow_padding": false,
       "max": 1,
       "min": 0,
       "stabilized": false
      }
     },
     "d02f55bf9ee7483c983e4b88da02d9e4": {
      "model_module": "bqplot",
      "model_module_version": "^0.5.18",
      "model_name": "LinearScaleModel",
      "state": {
       "_model_module_version": "^0.5.18",
       "_view_module_version": "^0.5.18",
       "allow_padding": false,
       "max": 1,
       "min": 0,
       "stabilized": false
      }
     },
     "d24ef0c5878e42c094ca66e7d9913a94": {
      "model_module": "bqplot",
      "model_module_version": "^0.5.18",
      "model_name": "LinearScaleModel",
      "state": {
       "_model_module_version": "^0.5.18",
       "_view_module_version": "^0.5.18",
       "stabilized": false
      }
     },
     "d6a59c34cad34940a8d7eb1015125f71": {
      "model_module": "bqplot",
      "model_module_version": "^0.5.18",
      "model_name": "LinearScaleModel",
      "state": {
       "_model_module_version": "^0.5.18",
       "_view_module_version": "^0.5.18",
       "allow_padding": false,
       "max": 1,
       "min": 0,
       "stabilized": false
      }
     },
     "d8d21cb6c97d413a8cd60ddce55e39c5": {
      "model_module": "bqplot",
      "model_module_version": "^0.5.18",
      "model_name": "LinearScaleModel",
      "state": {
       "_model_module_version": "^0.5.18",
       "_view_module_version": "^0.5.18",
       "allow_padding": false,
       "max": 1,
       "min": 0,
       "stabilized": false
      }
     },
     "d8f6e53e521d48d5bc735b853254b244": {
      "model_module": "@jupyter-widgets/base",
      "model_module_version": "1.2.0",
      "model_name": "LayoutModel",
      "state": {}
     },
     "da0b2022b6464fef989627025f0bb615": {
      "model_module": "@jupyter-widgets/controls",
      "model_module_version": "1.5.0",
      "model_name": "VBoxModel",
      "state": {
       "children": [
        "IPY_MODEL_a8d5646c024343a1b5dfa8e1659285ff",
        "IPY_MODEL_f230cc903369460e96b41496c0b33810"
       ],
       "layout": "IPY_MODEL_90f56d93e5af481c87b653c02d2fe201"
      }
     },
     "db2b312947394d4082f858ce5b942a66": {
      "model_module": "bqplot",
      "model_module_version": "^0.5.18",
      "model_name": "FigureModel",
      "state": {
       "_model_module_version": "^0.5.18",
       "_view_module_version": "^0.5.18",
       "layout": "IPY_MODEL_175fd6bb2f4a4043803ebfd7ba39db94",
       "scale_x": "IPY_MODEL_f9a4c84cf8de4486b244647500ed29c2",
       "scale_y": "IPY_MODEL_4376bc778c00426eb4472027458bd0e7"
      }
     },
     "dc4598f6626b4d70a5ba8bdf8aa0065e": {
      "model_module": "bqplot",
      "model_module_version": "^0.5.18",
      "model_name": "OrdinalScaleModel",
      "state": {
       "_model_module_version": "^0.5.18",
       "_view_module_version": "^0.5.18"
      }
     },
     "dd412cb30bbf4eb8b8b3b46ae976d025": {
      "model_module": "@jupyter-widgets/base",
      "model_module_version": "1.2.0",
      "model_name": "LayoutModel",
      "state": {}
     },
     "de7c0263c4b94de49a4e512fbc90a6d1": {
      "model_module": "bqplot",
      "model_module_version": "^0.5.18",
      "model_name": "LinearScaleModel",
      "state": {
       "_model_module_version": "^0.5.18",
       "_view_module_version": "^0.5.18",
       "allow_padding": false,
       "max": 1,
       "min": 0,
       "stabilized": false
      }
     },
     "e0075863d1644303b0b38b883737c4aa": {
      "model_module": "bqplot",
      "model_module_version": "^0.5.18",
      "model_name": "LinearScaleModel",
      "state": {
       "_model_module_version": "^0.5.18",
       "_view_module_version": "^0.5.18",
       "allow_padding": false,
       "max": 1,
       "min": 0,
       "stabilized": false
      }
     },
     "e03dbbcf68794e41a95615cbd4f1aaed": {
      "model_module": "bqplot",
      "model_module_version": "^0.5.18",
      "model_name": "AxisModel",
      "state": {
       "_model_module_version": "^0.5.18",
       "_view_module_version": "^0.5.18",
       "scale": "IPY_MODEL_aa849f7501164ee0bbdb2ecda54e69e0",
       "side": "bottom",
       "tick_values": null
      }
     },
     "e1304e8c8037415386c77589bd41f1ec": {
      "model_module": "bqplot",
      "model_module_version": "^0.5.18",
      "model_name": "OrdinalScaleModel",
      "state": {
       "_model_module_version": "^0.5.18",
       "_view_module_version": "^0.5.18"
      }
     },
     "e4b99e94a075477d93d79ba89bfcd6c9": {
      "model_module": "bqplot",
      "model_module_version": "^0.5.18",
      "model_name": "ToolbarModel",
      "state": {
       "_model_module_version": "^0.5.18",
       "_view_module_version": "^0.5.18",
       "figure": "IPY_MODEL_880a7ada5d084533aad4e328de1a25f9",
       "layout": "IPY_MODEL_fbfdac5dcb1d48b1b9381576c4f0c11e"
      }
     },
     "e55b0e37ba524be39780af4e3c05ea09": {
      "model_module": "bqplot",
      "model_module_version": "^0.5.18",
      "model_name": "LinearScaleModel",
      "state": {
       "_model_module_version": "^0.5.18",
       "_view_module_version": "^0.5.18",
       "allow_padding": false,
       "max": 1,
       "min": 0,
       "stabilized": false
      }
     },
     "e61422b0f6b0461c85f82b46b5216511": {
      "model_module": "bqplot",
      "model_module_version": "^0.5.18",
      "model_name": "LinearScaleModel",
      "state": {
       "_model_module_version": "^0.5.18",
       "_view_module_version": "^0.5.18",
       "allow_padding": false,
       "max": 1,
       "min": 0,
       "stabilized": false
      }
     },
     "e7ab3c664d41423bb74a9da791ee5641": {
      "model_module": "bqplot",
      "model_module_version": "^0.5.18",
      "model_name": "ToolbarModel",
      "state": {
       "_model_module_version": "^0.5.18",
       "_view_module_version": "^0.5.18",
       "figure": "IPY_MODEL_b589a390be924e049639c66635e8187e",
       "layout": "IPY_MODEL_6b0e7ffc49244d5eb9ebe64949de6a1b"
      }
     },
     "e7aee2ee61984e13a008522026a495b8": {
      "buffers": [
       {
        "data": "AAAAAAEAAAACAAAAAwAAAAQAAAAFAAAABgAAAAcAAAAIAAAACQAAAAoAAAALAAAADAAAAA0AAAAOAAAADwAAABAAAAARAAAAEgAAABMAAAAUAAAAFQAAABYAAAAXAAAAGAAAABkAAAAaAAAAGwAAABwAAAAdAAAAHgAAAB8AAAAgAAAAIQAAACIAAAAjAAAAJAAAACUAAAAmAAAAJwAAACgAAAApAAAAKgAAACsAAAAsAAAALQAAAC4AAAAvAAAAMAAAADEAAAAyAAAAMwAAADQAAAA1AAAANgAAADcAAAA4AAAAOQAAADoAAAA7AAAAPAAAAD0AAAA+AAAAPwAAAEAAAABBAAAAQgAAAEMAAABEAAAARQAAAEYAAABHAAAASAAAAEkAAABKAAAASwAAAEwAAABNAAAATgAAAE8AAABQAAAAUQAAAFIAAABTAAAAVAAAAFUAAABWAAAAVwAAAFgAAABZAAAAWgAAAFsAAABcAAAAXQAAAF4AAABfAAAAYAAAAGEAAABiAAAAYwAAAGQAAABlAAAAZgAAAGcAAABoAAAAaQAAAGoAAABrAAAAbAAAAG0AAABuAAAAbwAAAHAAAABxAAAAcgAAAHMAAAB0AAAAdQAAAHYAAAB3AAAAeAAAAHkAAAB6AAAAewAAAHwAAAB9AAAAfgAAAH8AAACAAAAAgQAAAIIAAACDAAAAhAAAAIUAAACGAAAAhwAAAIgAAACJAAAAigAAAIsAAACMAAAAjQAAAI4AAACPAAAAkAAAAJEAAACSAAAAkwAAAJQAAACVAAAAlgAAAJcAAACYAAAAmQAAAJoAAACbAAAAnAAAAJ0AAACeAAAAnwAAAKAAAAChAAAAogAAAKMAAACkAAAApQAAAKYAAACnAAAAqAAAAKkAAACqAAAAqwAAAKwAAACtAAAArgAAAK8AAACwAAAAsQAAALIAAACzAAAAtAAAALUAAAC2AAAAtwAAALgAAAC5AAAAugAAALsAAAC8AAAAvQAAAL4AAAC/AAAAwAAAAMEAAADCAAAAwwAAAMQAAADFAAAAxgAAAMcAAADIAAAAyQAAAMoAAADLAAAAzAAAAM0AAADOAAAAzwAAANAAAADRAAAA0gAAANMAAADUAAAA1QAAANYAAADXAAAA2AAAANkAAADaAAAA2wAAANwAAADdAAAA3gAAAN8AAADgAAAA4QAAAOIAAADjAAAA5AAAAOUAAADmAAAA5wAAAOgAAADpAAAA6gAAAOsAAADsAAAA",
        "encoding": "base64",
        "path": [
         "x",
         "value"
        ]
       },
       {
        "data": "AAAAAAAAAAAAAAAAAAAAAAEAAAABAAAAAQAAAAEAAAABAAAAAQAAAAEAAAABAAAAAQAAAAEAAAABAAAAAQAAAAEAAAABAAAAAQAAAAEAAAABAAAAAQAAAAEAAAABAAAAAQAAAAEAAAABAAAAAQAAAAEAAAABAAAAAQAAAAEAAAABAAAAAQAAAAEAAAABAAAAAQAAAAEAAAABAAAAAQAAAAEAAAABAAAAAQAAAAEAAAABAAAAAQAAAAEAAAABAAAAAQAAAAEAAAABAAAAAQAAAAEAAAABAAAAAQAAAAEAAAABAAAAAQAAAAEAAAABAAAAAQAAAAEAAAABAAAAAQAAAAEAAAABAAAAAQAAAAEAAAABAAAAAQAAAAEAAAABAAAAAQAAAAEAAAABAAAAAQAAAAEAAAABAAAAAQAAAAEAAAABAAAAAQAAAAEAAAABAAAAAQAAAAEAAAABAAAAAQAAAAEAAAABAAAAAQAAAAEAAAABAAAAAQAAAAEAAAABAAAAAQAAAAEAAAABAAAAAQAAAAEAAAABAAAAAQAAAAEAAAABAAAAAQAAAAEAAAABAAAAAQAAAAEAAAABAAAAAQAAAAEAAAABAAAAAQAAAAEAAAABAAAAAQAAAAEAAAABAAAAAQAAAAEAAAABAAAAAQAAAAEAAAABAAAAAQAAAAEAAAABAAAAAQAAAAEAAAABAAAAAQAAAAEAAAABAAAAAQAAAAEAAAABAAAAAQAAAAEAAAABAAAAAQAAAAEAAAABAAAAAQAAAAEAAAABAAAAAQAAAAEAAAABAAAAAQAAAAEAAAABAAAAAQAAAAEAAAABAAAAAQAAAAEAAAABAAAAAQAAAAEAAAABAAAAAQAAAAEAAAABAAAAAQAAAAEAAAABAAAAAQAAAAEAAAABAAAAAQAAAAEAAAABAAAAAQAAAAEAAAABAAAAAQAAAAEAAAABAAAAAQAAAAEAAAABAAAAAQAAAAEAAAABAAAAAQAAAAEAAAABAAAAAQAAAAEAAAABAAAAAQAAAAEAAAABAAAAAQAAAAEAAAABAAAAAQAAAAEAAAABAAAAAQAAAAEAAAABAAAAAQAAAAEAAAABAAAAAQAAAAEAAAABAAAAAgAAAAIAAAACAAAAAgAAAAIAAAACAAAAAgAAAAIAAAACAAAAAgAAAAIAAAACAAAAAgAAAAIAAAACAAAAAgAAAAIAAAACAAAAAgAAAAIAAAACAAAAAgAAAAIAAAACAAAAAwAAAAQAAAAFAAAA",
        "encoding": "base64",
        "path": [
         "y",
         "value"
        ]
       }
      ],
      "model_module": "bqplot",
      "model_module_version": "^0.5.18",
      "model_name": "LinesModel",
      "state": {
       "_model_module_version": "^0.5.18",
       "_view_module_version": "^0.5.18",
       "fill_colors": [],
       "labels": [
        "C1"
       ],
       "scales": {
        "x": "IPY_MODEL_2a944ac647684872bc7fa22c4687c44d",
        "y": "IPY_MODEL_2f15896a9e124b9fb214f31f94c3fe97"
       },
       "x": {
        "dtype": "int32",
        "shape": [
         237
        ],
        "type": null
       },
       "y": {
        "dtype": "int32",
        "shape": [
         237
        ],
        "type": null
       }
      }
     },
     "e857f094f39a437ebcc7ff73bb7394ae": {
      "model_module": "bqplot",
      "model_module_version": "^0.5.18",
      "model_name": "ToolbarModel",
      "state": {
       "_model_module_version": "^0.5.18",
       "_view_module_version": "^0.5.18",
       "figure": "IPY_MODEL_2a1d8bf6154a463aabf9f0e1a16ce5ca",
       "layout": "IPY_MODEL_6ecf70db993c48c49e864dad3078339b"
      }
     },
     "eb9e8fa8891d414d8dc6bfa0a17a7c17": {
      "model_module": "@jupyter-widgets/controls",
      "model_module_version": "1.5.0",
      "model_name": "VBoxModel",
      "state": {
       "children": [
        "IPY_MODEL_90418e9ec0014650ad847cbe5aa6f8d5",
        "IPY_MODEL_8a4c6bab8ea1480aa816982e2007f98c"
       ],
       "layout": "IPY_MODEL_054729a2681b427cbae3c1b88bbb5d81"
      }
     },
     "ef3be9fd65a44fd68358c7e36c0c1f90": {
      "model_module": "@jupyter-widgets/controls",
      "model_module_version": "1.5.0",
      "model_name": "VBoxModel",
      "state": {
       "children": [
        "IPY_MODEL_973c6750bbed4bdbbba32bc2acf0bf2f",
        "IPY_MODEL_20a49efb4dcb43f1a92e9b15dd77d413"
       ],
       "layout": "IPY_MODEL_790064c95dc64b9da9e16f6c9e34df2e"
      }
     },
     "f0a3adb5548d4ac7a1a4c64b934069d2": {
      "model_module": "@jupyter-widgets/controls",
      "model_module_version": "1.5.0",
      "model_name": "VBoxModel",
      "state": {
       "children": [
        "IPY_MODEL_28e43afe41a248aea319bcda695e368f",
        "IPY_MODEL_63c9f3d47e774bd7b35c0f6b19f54577"
       ],
       "layout": "IPY_MODEL_71445f7d303f46cbac0fc04e165ef1d1"
      }
     },
     "f230cc903369460e96b41496c0b33810": {
      "model_module": "bqplot",
      "model_module_version": "^0.5.18",
      "model_name": "ToolbarModel",
      "state": {
       "_model_module_version": "^0.5.18",
       "_view_module_version": "^0.5.18",
       "figure": "IPY_MODEL_a8d5646c024343a1b5dfa8e1659285ff",
       "layout": "IPY_MODEL_96cd41360e554990999326d5e0b814e9"
      }
     },
     "f2a3951dfd8b48539ebd6754c41b4f5e": {
      "model_module": "@jupyter-widgets/base",
      "model_module_version": "1.2.0",
      "model_name": "LayoutModel",
      "state": {}
     },
     "f2f950f505b44f20b13b7cc64b20629d": {
      "buffers": [
       {
        "data": "AAAAAAEAAAACAAAAAwAAAAQAAAAFAAAABgAAAAcAAAAIAAAACQAAAAoAAAALAAAADAAAAA0AAAAOAAAADwAAABAAAAARAAAAEgAAABMAAAAUAAAAFQAAABYAAAAXAAAAGAAAABkAAAAaAAAAGwAAABwAAAAdAAAAHgAAAB8AAAAgAAAAIQAAACIAAAAjAAAAJAAAACUAAAAmAAAAJwAAACgAAAApAAAAKgAAACsAAAAsAAAALQAAAC4AAAAvAAAAMAAAADEAAAAyAAAAMwAAADQAAAA1AAAANgAAADcAAAA4AAAAOQAAADoAAAA7AAAAPAAAAD0AAAA+AAAAPwAAAEAAAABBAAAAQgAAAEMAAABEAAAARQAAAEYAAABHAAAASAAAAEkAAABKAAAASwAAAEwAAABNAAAATgAAAE8AAABQAAAAUQAAAFIAAABTAAAAVAAAAFUAAABWAAAAVwAAAFgAAABZAAAAWgAAAFsAAABcAAAAXQAAAF4AAABfAAAAYAAAAGEAAABiAAAAYwAAAGQAAABlAAAAZgAAAGcAAABoAAAAaQAAAGoAAABrAAAAbAAAAG0AAABuAAAAbwAAAHAAAABxAAAAcgAAAHMAAAB0AAAAdQAAAHYAAAB3AAAAeAAAAHkAAAB6AAAAewAAAHwAAAB9AAAAfgAAAH8AAACAAAAAgQAAAIIAAACDAAAAhAAAAIUAAACGAAAAhwAAAIgAAACJAAAAigAAAIsAAACMAAAAjQAAAI4AAACPAAAAkAAAAJEAAACSAAAAkwAAAJQAAACVAAAAlgAAAJcAAACYAAAAmQAAAJoAAACbAAAAnAAAAJ0AAACeAAAAnwAAAKAAAAChAAAAogAAAKMAAACkAAAApQAAAKYAAACnAAAAqAAAAKkAAACqAAAAqwAAAKwAAACtAAAArgAAAA==",
        "encoding": "base64",
        "path": [
         "x",
         "value"
        ]
       },
       {
        "data": "HwAAAAcAAAAFAAAABQAAAAUAAAAEAAAABAAAAAMAAAADAAAAAwAAAAMAAAADAAAAAwAAAAMAAAACAAAAAgAAAAIAAAACAAAAAgAAAAIAAAACAAAAAgAAAAIAAAACAAAAAgAAAAIAAAACAAAAAgAAAAIAAAACAAAAAgAAAAIAAAACAAAAAgAAAAIAAAACAAAAAgAAAAEAAAABAAAAAQAAAAEAAAABAAAAAQAAAAEAAAABAAAAAQAAAAEAAAABAAAAAQAAAAEAAAABAAAAAQAAAAEAAAABAAAAAQAAAAEAAAABAAAAAQAAAAEAAAABAAAAAQAAAAEAAAABAAAAAQAAAAEAAAABAAAAAQAAAAEAAAABAAAAAQAAAAEAAAABAAAAAQAAAAEAAAABAAAAAQAAAAEAAAABAAAAAQAAAAEAAAABAAAAAQAAAAEAAAABAAAAAQAAAAEAAAABAAAAAQAAAAEAAAABAAAAAQAAAAEAAAABAAAAAQAAAAEAAAABAAAAAQAAAAEAAAABAAAAAQAAAAEAAAABAAAAAQAAAAEAAAABAAAAAQAAAAEAAAABAAAAAQAAAAEAAAABAAAAAQAAAAEAAAABAAAAAQAAAAEAAAABAAAAAQAAAAEAAAABAAAAAQAAAAEAAAABAAAAAQAAAAEAAAABAAAAAQAAAAEAAAABAAAAAQAAAAEAAAABAAAAAQAAAAEAAAABAAAAAQAAAAEAAAABAAAAAQAAAAEAAAABAAAAAQAAAAEAAAABAAAAAQAAAAEAAAABAAAAAQAAAAEAAAABAAAAAQAAAAEAAAABAAAAAQAAAAEAAAABAAAAAQAAAAEAAAABAAAAAQAAAAEAAAABAAAAAQAAAAEAAAABAAAAAQAAAAEAAAABAAAAAQAAAAEAAAABAAAAAQAAAAEAAAABAAAAAQAAAA==",
        "encoding": "base64",
        "path": [
         "y",
         "value"
        ]
       }
      ],
      "model_module": "bqplot",
      "model_module_version": "^0.5.18",
      "model_name": "LinesModel",
      "state": {
       "_model_module_version": "^0.5.18",
       "_view_module_version": "^0.5.18",
       "fill_colors": [],
       "labels": [
        "C1"
       ],
       "scales": {
        "x": "IPY_MODEL_56b8daf8204d4f2b8963797c68e0cc60",
        "y": "IPY_MODEL_2f8f6c2abca644cfa8770be19e2e799c"
       },
       "x": {
        "dtype": "int32",
        "shape": [
         175
        ],
        "type": null
       },
       "y": {
        "dtype": "int32",
        "shape": [
         175
        ],
        "type": null
       }
      }
     },
     "f64beac8f5d44a239e57457fd94847f4": {
      "model_module": "bqplot",
      "model_module_version": "^0.5.18",
      "model_name": "FigureModel",
      "state": {
       "_model_module_version": "^0.5.18",
       "_view_module_version": "^0.5.18",
       "layout": "IPY_MODEL_f98df6c5286549f1a5d613457fdd6491",
       "scale_x": "IPY_MODEL_09a1ce0232304723844de9db9832cae7",
       "scale_y": "IPY_MODEL_e55b0e37ba524be39780af4e3c05ea09"
      }
     },
     "f66dc8c67f9f439c855b47a6af9b0de0": {
      "model_module": "bqplot",
      "model_module_version": "^0.5.18",
      "model_name": "AxisModel",
      "state": {
       "_model_module_version": "^0.5.18",
       "_view_module_version": "^0.5.18",
       "orientation": "vertical",
       "scale": "IPY_MODEL_2f15896a9e124b9fb214f31f94c3fe97",
       "side": "left",
       "tick_values": null
      }
     },
     "f7c2c26cdb3a454bbc6a4527feb29087": {
      "model_module": "@jupyter-widgets/base",
      "model_module_version": "1.2.0",
      "model_name": "LayoutModel",
      "state": {}
     },
     "f7e21426ae60493ab4658efcb401c48d": {
      "model_module": "@jupyter-widgets/base",
      "model_module_version": "1.2.0",
      "model_name": "LayoutModel",
      "state": {}
     },
     "f83ba0a814b248a6bbb5ecc014de31d3": {
      "model_module": "bqplot",
      "model_module_version": "^0.5.18",
      "model_name": "LinearScaleModel",
      "state": {
       "_model_module_version": "^0.5.18",
       "_view_module_version": "^0.5.18",
       "allow_padding": false,
       "max": 1,
       "min": 0,
       "stabilized": false
      }
     },
     "f8dc9081cb3743bd88192a85ef5853dd": {
      "model_module": "bqplot",
      "model_module_version": "^0.5.18",
      "model_name": "OrdinalScaleModel",
      "state": {
       "_model_module_version": "^0.5.18",
       "_view_module_version": "^0.5.18"
      }
     },
     "f98df6c5286549f1a5d613457fdd6491": {
      "model_module": "@jupyter-widgets/base",
      "model_module_version": "1.2.0",
      "model_name": "LayoutModel",
      "state": {}
     },
     "f9a4c84cf8de4486b244647500ed29c2": {
      "model_module": "bqplot",
      "model_module_version": "^0.5.18",
      "model_name": "LinearScaleModel",
      "state": {
       "_model_module_version": "^0.5.18",
       "_view_module_version": "^0.5.18",
       "allow_padding": false,
       "max": 1,
       "min": 0,
       "stabilized": false
      }
     },
     "f9c96e278c814976aa09f86ba2524639": {
      "model_module": "bqplot",
      "model_module_version": "^0.5.18",
      "model_name": "ToolbarModel",
      "state": {
       "_model_module_version": "^0.5.18",
       "_view_module_version": "^0.5.18",
       "figure": "IPY_MODEL_87a57f069a0247b392e8533389288c8f",
       "layout": "IPY_MODEL_76d06ec3ad6a4c018b925c53dd7bb594"
      }
     },
     "faedde937fec4d0fba31d2fa8d9b60c3": {
      "model_module": "bqplot",
      "model_module_version": "^0.5.18",
      "model_name": "FigureModel",
      "state": {
       "_model_module_version": "^0.5.18",
       "_view_module_version": "^0.5.18",
       "layout": "IPY_MODEL_00d966f730594248bf7e79b5f3887474",
       "scale_x": "IPY_MODEL_a39de8fb17f74e18a8453c14e881c7b2",
       "scale_y": "IPY_MODEL_87aeadc0f43a45bda302d7af87633190"
      }
     },
     "fb4b1f97bbf9415c88afdc767d81789e": {
      "model_module": "bqplot",
      "model_module_version": "^0.5.18",
      "model_name": "LinearScaleModel",
      "state": {
       "_model_module_version": "^0.5.18",
       "_view_module_version": "^0.5.18",
       "allow_padding": false,
       "max": 1,
       "min": 0,
       "stabilized": false
      }
     },
     "fbfdac5dcb1d48b1b9381576c4f0c11e": {
      "model_module": "@jupyter-widgets/base",
      "model_module_version": "1.2.0",
      "model_name": "LayoutModel",
      "state": {}
     },
     "fd5b0305e35a4f57aa7ce7055ab656a0": {
      "model_module": "bqplot",
      "model_module_version": "^0.5.18",
      "model_name": "LinearScaleModel",
      "state": {
       "_model_module_version": "^0.5.18",
       "_view_module_version": "^0.5.18",
       "stabilized": false
      }
     },
     "fe334c49a5db4c06857115d900334953": {
      "model_module": "bqplot",
      "model_module_version": "^0.5.18",
      "model_name": "LinearScaleModel",
      "state": {
       "_model_module_version": "^0.5.18",
       "_view_module_version": "^0.5.18",
       "allow_padding": false,
       "max": 1,
       "min": 0,
       "stabilized": false
      }
     },
     "ff4d262cb7af46ba94c0d96dd88cbbef": {
      "model_module": "@jupyter-widgets/base",
      "model_module_version": "1.2.0",
      "model_name": "LayoutModel",
      "state": {}
     },
     "ff549ea6002340cdaba305091ba71231": {
      "model_module": "bqplot",
      "model_module_version": "^0.5.18",
      "model_name": "AxisModel",
      "state": {
       "_model_module_version": "^0.5.18",
       "_view_module_version": "^0.5.18",
       "scale": "IPY_MODEL_bc3cfa8f76b54cc1aa41456f42496496",
       "side": "bottom",
       "tick_values": null
      }
     }
    },
    "version_major": 2,
    "version_minor": 0
   }
  }
 },
 "nbformat": 4,
 "nbformat_minor": 4
}

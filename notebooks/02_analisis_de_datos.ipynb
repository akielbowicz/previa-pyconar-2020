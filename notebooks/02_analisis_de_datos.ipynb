{
 "cells": [
  {
   "cell_type": "markdown",
   "metadata": {},
   "source": [
    "# Como realizar el analisis de datos en Jupyter\n",
    "\n",
    "[PyCon Ar en PyVideo.org](https://pyvideo.org/events/pycon-ar-2011.html)"
   ]
  },
  {
   "cell_type": "code",
   "execution_count": 1,
   "metadata": {},
   "outputs": [],
   "source": [
    "import pathlib"
   ]
  },
  {
   "cell_type": "code",
   "execution_count": 2,
   "metadata": {},
   "outputs": [],
   "source": [
    "carpeta = pathlib.Path('../datos')"
   ]
  },
  {
   "cell_type": "code",
   "execution_count": 8,
   "metadata": {},
   "outputs": [],
   "source": [
    "archivos = [ elemento for elemento in carpeta.glob('*/videos/*.json') ]"
   ]
  },
  {
   "cell_type": "code",
   "execution_count": 9,
   "metadata": {},
   "outputs": [
    {
     "data": {
      "text/plain": [
       "237"
      ]
     },
     "execution_count": 9,
     "metadata": {},
     "output_type": "execute_result"
    }
   ],
   "source": [
    "len(archivos)"
   ]
  },
  {
   "cell_type": "code",
   "execution_count": 10,
   "metadata": {},
   "outputs": [],
   "source": [
    "import pandas"
   ]
  },
  {
   "cell_type": "code",
   "execution_count": 17,
   "metadata": {},
   "outputs": [],
   "source": [
    "series = [ pandas.read_json(archivo, typ='series') for archivo in archivos ]"
   ]
  },
  {
   "cell_type": "code",
   "execution_count": 21,
   "metadata": {},
   "outputs": [],
   "source": [
    "df = pandas.concat(series, axis=1).T"
   ]
  },
  {
   "cell_type": "code",
   "execution_count": 24,
   "metadata": {},
   "outputs": [
    {
     "data": {
      "text/plain": [
       "0            Alan Runyan\n",
       "1         Alejandro Cura\n",
       "2         Alejandro Cura\n",
       "3      Alejandro Pereira\n",
       "3        Silvestre Huens\n",
       "             ...        \n",
       "233        Carol Willing\n",
       "234          Matias Lang\n",
       "234     Leonardo Lazzaro\n",
       "235      Javier Mansilla\n",
       "236       Claudio Freire\n",
       "Name: speakers, Length: 270, dtype: object"
      ]
     },
     "execution_count": 24,
     "metadata": {},
     "output_type": "execute_result"
    }
   ],
   "source": [
    "df.speakers.explode()"
   ]
  },
  {
   "cell_type": "code",
   "execution_count": 25,
   "metadata": {},
   "outputs": [],
   "source": [
    "import bqplot.pyplot as plt\n",
    "pandas.set_option('plotting.backend', 'bqplot.pyplot')"
   ]
  },
  {
   "cell_type": "code",
   "execution_count": 35,
   "metadata": {},
   "outputs": [
    {
     "data": {
      "application/vnd.jupyter.widget-view+json": {
       "model_id": "6da05b61eed046b78a6986f3735ff331",
       "version_major": 2,
       "version_minor": 0
      },
      "text/plain": [
       "VBox(children=(Figure(axes=[Axis(scale=LinearScale(), side='bottom'), Axis(orientation='vertical', scale=Linea…"
      ]
     },
     "metadata": {},
     "output_type": "display_data"
    }
   ],
   "source": [
    "df.speakers.apply(len).sort_values().plot()\n",
    "plt.show()"
   ]
  },
  {
   "cell_type": "code",
   "execution_count": 36,
   "metadata": {},
   "outputs": [],
   "source": [
    "import bqplot"
   ]
  },
  {
   "cell_type": "code",
   "execution_count": 37,
   "metadata": {},
   "outputs": [
    {
     "data": {
      "application/vnd.jupyter.widget-view+json": {
       "model_id": "9188559680cb4768ab1e2a019ad8782b",
       "version_major": 2,
       "version_minor": 0
      },
      "text/plain": [
       "VBox(children=(Figure(axes=[Axis(orientation='vertical', scale=OrdinalScale()), Axis(scale=LinearScale())], fi…"
      ]
     },
     "metadata": {},
     "output_type": "display_data"
    }
   ],
   "source": [
    "x = df.speakers.explode().value_counts()\n",
    "x = x[x.between(2,10)]\n",
    "\n",
    "plt.figure()\n",
    "plt.scales(scales={'x':bqplot.OrdinalScale(),'y':plt.LinearScale()})\n",
    "bar = plt.bar(x.index,x.values,orientation='horizontal')\n",
    "plt.show()"
   ]
  },
  {
   "cell_type": "code",
   "execution_count": 40,
   "metadata": {},
   "outputs": [
    {
     "data": {
      "application/vnd.jupyter.widget-view+json": {
       "model_id": "d51e3b46173444bd9f2b4f235b496ecc",
       "version_major": 2,
       "version_minor": 0
      },
      "text/plain": [
       "VBox(children=(Figure(axes=[Axis(label='Anio', scale=LinearScale()), Axis(label='Cantidad de charlas', orienta…"
      ]
     },
     "metadata": {},
     "output_type": "display_data"
    }
   ],
   "source": [
    "df.recorded = pandas.to_datetime( df.recorded  )\n",
    "recorded = df.recorded.dt.day.value_counts()\n",
    "plt.figure()\n",
    "plt.scatter('index','recorded',data=recorded.reset_index())\n",
    "plt.xlabel('Anio')\n",
    "plt.ylabel('Cantidad de charlas')\n",
    "plt.show()"
   ]
  },
  {
   "cell_type": "code",
   "execution_count": 50,
   "metadata": {},
   "outputs": [
    {
     "data": {
      "text/plain": [
       "0                                                  plone\n",
       "1                                   todo sobre deferreds\n",
       "2                                dbus con el pie derecho\n",
       "3                   plone 4 tiempo de coccion 30 minutos\n",
       "4                          robotica con python y arduino\n",
       "                             ...                        \n",
       "232    reverse engineering 170 mil lineas de document...\n",
       "233                     keynote sharing by carol willing\n",
       "234    sobreviviendo al sindrome del segundo sistema ...\n",
       "235             testing en proyectos de machine learning\n",
       "236                 todo lo que no queres saber de async\n",
       "Name: title, Length: 237, dtype: object"
      ]
     },
     "execution_count": 50,
     "metadata": {},
     "output_type": "execute_result"
    }
   ],
   "source": [
    "titulos = ( df.title\n",
    "    .str.lower()\n",
    "    .str.replace('\\W',' ',regex=True)\n",
    "    .str.replace('\\s+',' ',regex=True)\n",
    "    .str.translate(str.maketrans('áéíóúñ','aeioun'))\n",
    ")\n",
    "titulos"
   ]
  },
  {
   "cell_type": "code",
   "execution_count": 56,
   "metadata": {},
   "outputs": [
    {
     "data": {
      "text/html": [
       "<div>\n",
       "<style scoped>\n",
       "    .dataframe tbody tr th:only-of-type {\n",
       "        vertical-align: middle;\n",
       "    }\n",
       "\n",
       "    .dataframe tbody tr th {\n",
       "        vertical-align: top;\n",
       "    }\n",
       "\n",
       "    .dataframe thead th {\n",
       "        text-align: right;\n",
       "    }\n",
       "</style>\n",
       "<table border=\"1\" class=\"dataframe\">\n",
       "  <thead>\n",
       "    <tr style=\"text-align: right;\">\n",
       "      <th></th>\n",
       "      <th>palabra</th>\n",
       "      <th>cuentas</th>\n",
       "    </tr>\n",
       "  </thead>\n",
       "  <tbody>\n",
       "    <tr>\n",
       "      <th>0</th>\n",
       "      <td>de</td>\n",
       "      <td>56</td>\n",
       "    </tr>\n",
       "    <tr>\n",
       "      <th>1</th>\n",
       "      <td>python</td>\n",
       "      <td>52</td>\n",
       "    </tr>\n",
       "    <tr>\n",
       "      <th>2</th>\n",
       "      <td></td>\n",
       "      <td>48</td>\n",
       "    </tr>\n",
       "    <tr>\n",
       "      <th>3</th>\n",
       "      <td>con</td>\n",
       "      <td>46</td>\n",
       "    </tr>\n",
       "    <tr>\n",
       "      <th>4</th>\n",
       "      <td>11</td>\n",
       "      <td>30</td>\n",
       "    </tr>\n",
       "    <tr>\n",
       "      <th>...</th>\n",
       "      <td>...</td>\n",
       "      <td>...</td>\n",
       "    </tr>\n",
       "    <tr>\n",
       "      <th>711</th>\n",
       "      <td>nuestra</td>\n",
       "      <td>1</td>\n",
       "    </tr>\n",
       "    <tr>\n",
       "      <th>712</th>\n",
       "      <td>25</td>\n",
       "      <td>1</td>\n",
       "    </tr>\n",
       "    <tr>\n",
       "      <th>713</th>\n",
       "      <td>martinez</td>\n",
       "      <td>1</td>\n",
       "    </tr>\n",
       "    <tr>\n",
       "      <th>714</th>\n",
       "      <td>00024_720i_fast</td>\n",
       "      <td>1</td>\n",
       "    </tr>\n",
       "    <tr>\n",
       "      <th>715</th>\n",
       "      <td>orm</td>\n",
       "      <td>1</td>\n",
       "    </tr>\n",
       "  </tbody>\n",
       "</table>\n",
       "<p>716 rows × 2 columns</p>\n",
       "</div>"
      ],
      "text/plain": [
       "             palabra  cuentas\n",
       "0                 de       56\n",
       "1             python       52\n",
       "2                          48\n",
       "3                con       46\n",
       "4                 11       30\n",
       "..               ...      ...\n",
       "711          nuestra        1\n",
       "712               25        1\n",
       "713         martinez        1\n",
       "714  00024_720i_fast        1\n",
       "715              orm        1\n",
       "\n",
       "[716 rows x 2 columns]"
      ]
     },
     "execution_count": 56,
     "metadata": {},
     "output_type": "execute_result"
    }
   ],
   "source": [
    "a = (titulos.str.split(' ',expand=True)\n",
    "        .stack()\n",
    "# #         .reset_index(drop=True)\n",
    "        .value_counts()\n",
    "        .to_frame(name='cuentas')\n",
    "        .reset_index()\n",
    "        .rename(columns={'index':'palabra'})\n",
    ")\n",
    "a"
   ]
  },
  {
   "cell_type": "code",
   "execution_count": 57,
   "metadata": {},
   "outputs": [],
   "source": [
    "a['longitud'] = a['palabra'].apply(len)"
   ]
  },
  {
   "cell_type": "code",
   "execution_count": 63,
   "metadata": {},
   "outputs": [
    {
     "data": {
      "application/vnd.jupyter.widget-view+json": {
       "model_id": "1bfe461a13c44162a01407c37a42912b",
       "version_major": 2,
       "version_minor": 0
      },
      "text/plain": [
       "VBox(children=(Figure(axes=[Axis(scale=LinearScale()), Axis(orientation='vertical', scale=LinearScale())], fig…"
      ]
     },
     "metadata": {},
     "output_type": "display_data"
    }
   ],
   "source": [
    "plt.figure()\n",
    "def_tt = bqplot.Tooltip(fields=['x', 'y','name'], formats=['', '.2f',''])\n",
    "sct = plt.scatter('longitud','cuentas',data=a,\n",
    "                      colors=['dodgerblue'],\n",
    "                            tooltip=def_tt, \n",
    "                              stroke='black',\n",
    "                              names=a.palabra,\n",
    "                            display_names=False,\n",
    "                            unhovered_style={'opacity': 0.5}\n",
    "                 )\n",
    "plt.show()"
   ]
  },
  {
   "cell_type": "code",
   "execution_count": 65,
   "metadata": {},
   "outputs": [],
   "source": [
    "sct.enable_move = True"
   ]
  },
  {
   "cell_type": "code",
   "execution_count": null,
   "metadata": {},
   "outputs": [],
   "source": []
  }
 ],
 "metadata": {
  "kernelspec": {
   "display_name": "Python 3",
   "language": "python",
   "name": "python3"
  },
  "language_info": {
   "codemirror_mode": {
    "name": "ipython",
    "version": 3
   },
   "file_extension": ".py",
   "mimetype": "text/x-python",
   "name": "python",
   "nbconvert_exporter": "python",
   "pygments_lexer": "ipython3",
   "version": "3.8.6"
  },
  "widgets": {
   "application/vnd.jupyter.widget-state+json": {
    "state": {
     "019a461e63d246f4af698f79c5517334": {
      "buffers": [
       {
        "data": "AAAAAAEAAAACAAAAAwAAAAQAAAAFAAAABgAAAAcAAAAIAAAACQAAAAoAAAALAAAADAAAAA0AAAAOAAAADwAAABAAAAARAAAAEgAAABMAAAAUAAAAFQAAABYAAAAXAAAAGAAAABkAAAAaAAAAGwAAABwAAAAdAAAAHgAAAB8AAAAgAAAAIQAAACIAAAAjAAAAJAAAACUAAAAmAAAAJwAAACgAAAApAAAAKgAAACsAAAAsAAAALQAAAC4AAAAvAAAAMAAAADEAAAAyAAAAMwAAADQAAAA1AAAANgAAADcAAAA4AAAAOQAAADoAAAA7AAAAPAAAAD0AAAA+AAAAPwAAAEAAAABBAAAAQgAAAEMAAABEAAAARQAAAEYAAABHAAAASAAAAEkAAABKAAAASwAAAEwAAABNAAAATgAAAE8AAABQAAAAUQAAAFIAAABTAAAAVAAAAFUAAABWAAAAVwAAAFgAAABZAAAAWgAAAFsAAABcAAAAXQAAAF4AAABfAAAAYAAAAGEAAABiAAAAYwAAAGQAAABlAAAAZgAAAGcAAABoAAAAaQAAAGoAAABrAAAAbAAAAG0AAABuAAAAbwAAAHAAAABxAAAAcgAAAHMAAAB0AAAAdQAAAHYAAAB3AAAAeAAAAHkAAAB6AAAAewAAAHwAAAB9AAAAfgAAAH8AAACAAAAAgQAAAIIAAACDAAAAhAAAAIUAAACGAAAAhwAAAIgAAACJAAAAigAAAIsAAACMAAAAjQAAAI4AAACPAAAAkAAAAJEAAACSAAAAkwAAAJQAAACVAAAAlgAAAJcAAACYAAAAmQAAAJoAAACbAAAAnAAAAJ0AAACeAAAAnwAAAKAAAAChAAAAogAAAKMAAACkAAAApQAAAKYAAACnAAAAqAAAAKkAAACqAAAAqwAAAKwAAACtAAAArgAAAK8AAACwAAAAsQAAALIAAACzAAAAtAAAALUAAAC2AAAAtwAAALgAAAC5AAAAugAAALsAAAC8AAAAvQAAAL4AAAC/AAAAwAAAAMEAAADCAAAAwwAAAMQAAADFAAAAxgAAAMcAAADIAAAAyQAAAMoAAADLAAAAzAAAAM0AAADOAAAAzwAAANAAAADRAAAA0gAAANMAAADUAAAA1QAAANYAAADXAAAA2AAAANkAAADaAAAA2wAAANwAAADdAAAA3gAAAN8AAADgAAAA4QAAAOIAAADjAAAA5AAAAOUAAADmAAAA5wAAAOgAAADpAAAA6gAAAOsAAADsAAAA",
        "encoding": "base64",
        "path": [
         "x",
         "value"
        ]
       },
       {
        "data": "AAAAAAAAAAAAAAAAAAAAAAEAAAABAAAAAQAAAAEAAAABAAAAAQAAAAEAAAABAAAAAQAAAAEAAAABAAAAAQAAAAEAAAABAAAAAQAAAAEAAAABAAAAAQAAAAEAAAABAAAAAQAAAAEAAAABAAAAAQAAAAEAAAABAAAAAQAAAAEAAAABAAAAAQAAAAEAAAABAAAAAQAAAAEAAAABAAAAAQAAAAEAAAABAAAAAQAAAAEAAAABAAAAAQAAAAEAAAABAAAAAQAAAAEAAAABAAAAAQAAAAEAAAABAAAAAQAAAAEAAAABAAAAAQAAAAEAAAABAAAAAQAAAAEAAAABAAAAAQAAAAEAAAABAAAAAQAAAAEAAAABAAAAAQAAAAEAAAABAAAAAQAAAAEAAAABAAAAAQAAAAEAAAABAAAAAQAAAAEAAAABAAAAAQAAAAEAAAABAAAAAQAAAAEAAAABAAAAAQAAAAEAAAABAAAAAQAAAAEAAAABAAAAAQAAAAEAAAABAAAAAQAAAAEAAAABAAAAAQAAAAEAAAABAAAAAQAAAAEAAAABAAAAAQAAAAEAAAABAAAAAQAAAAEAAAABAAAAAQAAAAEAAAABAAAAAQAAAAEAAAABAAAAAQAAAAEAAAABAAAAAQAAAAEAAAABAAAAAQAAAAEAAAABAAAAAQAAAAEAAAABAAAAAQAAAAEAAAABAAAAAQAAAAEAAAABAAAAAQAAAAEAAAABAAAAAQAAAAEAAAABAAAAAQAAAAEAAAABAAAAAQAAAAEAAAABAAAAAQAAAAEAAAABAAAAAQAAAAEAAAABAAAAAQAAAAEAAAABAAAAAQAAAAEAAAABAAAAAQAAAAEAAAABAAAAAQAAAAEAAAABAAAAAQAAAAEAAAABAAAAAQAAAAEAAAABAAAAAQAAAAEAAAABAAAAAQAAAAEAAAABAAAAAQAAAAEAAAABAAAAAQAAAAEAAAABAAAAAQAAAAEAAAABAAAAAQAAAAEAAAABAAAAAQAAAAEAAAABAAAAAQAAAAEAAAABAAAAAQAAAAEAAAABAAAAAQAAAAEAAAABAAAAAQAAAAEAAAABAAAAAQAAAAEAAAABAAAAAQAAAAEAAAABAAAAAgAAAAIAAAACAAAAAgAAAAIAAAACAAAAAgAAAAIAAAACAAAAAgAAAAIAAAACAAAAAgAAAAIAAAACAAAAAgAAAAIAAAACAAAAAgAAAAIAAAACAAAAAgAAAAIAAAACAAAAAwAAAAQAAAAFAAAA",
        "encoding": "base64",
        "path": [
         "y",
         "value"
        ]
       }
      ],
      "model_module": "bqplot",
      "model_module_version": "^0.5.18",
      "model_name": "LinesModel",
      "state": {
       "_model_module_version": "^0.5.18",
       "_view_module_version": "^0.5.18",
       "fill_colors": [],
       "labels": [
        "C1"
       ],
       "scales": {
        "x": "IPY_MODEL_11ebe474a478437480fb0635ba75c2ae",
        "y": "IPY_MODEL_a57fae4304e2432abe1f407f530ea30c"
       },
       "x": {
        "dtype": "int32",
        "shape": [
         237
        ],
        "type": null
       },
       "y": {
        "dtype": "int32",
        "shape": [
         237
        ],
        "type": null
       }
      }
     },
     "02bbf4584f3e4f5bbfd48dfcfb4fe28d": {
      "model_module": "@jupyter-widgets/base",
      "model_module_version": "1.2.0",
      "model_name": "LayoutModel",
      "state": {}
     },
     "04a8b3a93e654e359ffb73782a4005c7": {
      "model_module": "bqplot",
      "model_module_version": "^0.5.18",
      "model_name": "LinearScaleModel",
      "state": {
       "_model_module_version": "^0.5.18",
       "_view_module_version": "^0.5.18",
       "stabilized": false
      }
     },
     "0c2c2fd250394e6ca902af9d27f58187": {
      "model_module": "bqplot",
      "model_module_version": "^0.5.18",
      "model_name": "ToolbarModel",
      "state": {
       "_model_module_version": "^0.5.18",
       "_view_module_version": "^0.5.18",
       "figure": "IPY_MODEL_e951d762bdc34f60ae0f37aeb5ccffff",
       "layout": "IPY_MODEL_8c66ba6fdb944198a7cc2cb3d01db100"
      }
     },
     "0cb02f5f9c124c71b8e64cdcf8810937": {
      "model_module": "bqplot",
      "model_module_version": "^0.5.18",
      "model_name": "FigureModel",
      "state": {
       "_model_module_version": "^0.5.18",
       "_view_module_version": "^0.5.18",
       "axes": [
        "IPY_MODEL_b2a3f8aa0acf4d3cbb05a20a9a4ae904",
        "IPY_MODEL_506d1ee5a0f94d5996cb583001bcb30e"
       ],
       "layout": "IPY_MODEL_84404459bccf46cbb80e4631ddff6770",
       "marks": [
        "IPY_MODEL_8d140dad918b4ea0a765bb3155813581"
       ],
       "scale_x": "IPY_MODEL_647c0b60e425418cbbee5f8b8490263a",
       "scale_y": "IPY_MODEL_860413a322344b5083d50fec50a5551b"
      }
     },
     "0cfca2356cdf4b489726c221f17d7f22": {
      "model_module": "bqplot",
      "model_module_version": "^0.5.18",
      "model_name": "AxisModel",
      "state": {
       "_model_module_version": "^0.5.18",
       "_view_module_version": "^0.5.18",
       "orientation": "vertical",
       "scale": "IPY_MODEL_4be0f362e1564428a7aaeed6132c3512",
       "side": "left",
       "tick_values": null
      }
     },
     "0e56febb42aa427483ce1892ee46f1a4": {
      "model_module": "bqplot",
      "model_module_version": "^0.5.18",
      "model_name": "AxisModel",
      "state": {
       "_model_module_version": "^0.5.18",
       "_view_module_version": "^0.5.18",
       "scale": "IPY_MODEL_fa8161a3f0074c579ff6480ce7c66eaa",
       "side": "bottom",
       "tick_values": null
      }
     },
     "0e577a5929754a7e94c07a876cb11b7b": {
      "model_module": "@jupyter-widgets/controls",
      "model_module_version": "1.5.0",
      "model_name": "VBoxModel",
      "state": {
       "children": [
        "IPY_MODEL_95bb971893ba4180afdb697c452e4e42",
        "IPY_MODEL_e6e29cd0004d455b878e6a31f0d16a3f"
       ],
       "layout": "IPY_MODEL_8e28eb7e1eb8489ea5a3508e0e0899ac"
      }
     },
     "0e8b91b99e4c4c75bb4bbbbb58e9f053": {
      "model_module": "bqplot",
      "model_module_version": "^0.5.18",
      "model_name": "LinearScaleModel",
      "state": {
       "_model_module_version": "^0.5.18",
       "_view_module_version": "^0.5.18",
       "stabilized": false
      }
     },
     "11ebe474a478437480fb0635ba75c2ae": {
      "model_module": "bqplot",
      "model_module_version": "^0.5.18",
      "model_name": "LinearScaleModel",
      "state": {
       "_model_module_version": "^0.5.18",
       "_view_module_version": "^0.5.18",
       "stabilized": false
      }
     },
     "11fb74f590fb424094c745321f483056": {
      "model_module": "bqplot",
      "model_module_version": "^0.5.18",
      "model_name": "LinearScaleModel",
      "state": {
       "_model_module_version": "^0.5.18",
       "_view_module_version": "^0.5.18",
       "stabilized": false
      }
     },
     "153f82bf58514ec3aa62fc225f63f96c": {
      "buffers": [
       {
        "data": "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",
        "encoding": "base64",
        "path": [
         "x",
         "value"
        ]
       },
       {
        "data": "OAAAADQAAAAwAAAALgAAAB4AAAAcAAAAHAAAABwAAAAbAAAAKAAAABoAAAAYAAAAFwAAABMAAAARAAAADwAAAA4AAAANAAAADAAAAAwAAAAKAAAACgAAAAkAAAAJAAAACQAAAAgAAAAIAAAABwAAAAcAAAAGAAAABgAAAAUAAAAFAAAABQAAAAUAAAAFAAAABQAAAAUAAAAFAAAABQAAAAQAAAAEAAAABAAAAAQAAAAEAAAABAAAAAQAAAAEAAAABAAAAAQAAAAEAAAABAAAAAQAAAAEAAAABAAAAAQAAAAEAAAAAwAAAAMAAAADAAAAAwAAAAMAAAADAAAAAwAAAAMAAAADAAAAAwAAAAMAAAADAAAAAwAAAAMAAAADAAAAAwAAAAMAAAADAAAAAwAAAAMAAAADAAAAAwAAAAMAAAADAAAAAwAAAAMAAAADAAAAAwAAAAMAAAADAAAAAwAAAAMAAAADAAAAAwAAAAMAAAADAAAAAwAAAAIAAAACAAAAAgAAAAIAAAACAAAAAgAAAAIAAAACAAAAAgAAAAIAAAACAAAAAgAAAAIAAAACAAAAAgAAAAIAAAACAAAAAgAAAAIAAAACAAAAAgAAAAIAAAACAAAAAgAAAAIAAAACAAAAAgAAAAIAAAACAAAAAgAAAAIAAAACAAAAAgAAAAIAAAACAAAAAgAAAAIAAAACAAAAAgAAAAIAAAACAAAAAgAAAAIAAAACAAAAAgAAAAIAAAACAAAAAgAAAAIAAAACAAAAAgAAAAIAAAACAAAAAgAAAAIAAAACAAAAAgAAAAIAAAACAAAAAgAAAAIAAAACAAAAAgAAAAIAAAACAAAAAgAAAAIAAAACAAAAAgAAAAIAAAACAAAAAgAAAAIAAAACAAAAAgAAAAIAAAACAAAAAgAAAAIAAAACAAAAAQAAAAEAAAABAAAAAQAAAAEAAAABAAAAAQAAAAEAAAABAAAAAQAAAAEAAAABAAAAAQAAAAEAAAABAAAAAQAAAAEAAAABAAAAAQAAAAEAAAABAAAAAQAAAAEAAAABAAAAAQAAAAEAAAABAAAAAQAAAAEAAAABAAAAAQAAAAEAAAABAAAAAQAAAAEAAAABAAAAAQAAAAEAAAABAAAAAQAAAAEAAAABAAAAAQAAAAEAAAABAAAAAQAAAAEAAAABAAAAAQAAAAEAAAABAAAAAQAAAAEAAAABAAAAAQAAAAEAAAABAAAAAQAAAAEAAAABAAAAAQAAAAEAAAABAAAAAQAAAAEAAAABAAAAAQAAAAEAAAABAAAAAQAAAAEAAAABAAAAAQAAAAEAAAABAAAAAQAAAAEAAAABAAAAAQAAAAEAAAABAAAAAQAAAAEAAAABAAAAAQAAAAEAAAABAAAAAQAAAAEAAAABAAAAAQAAAAEAAAABAAAAAQAAAAEAAAABAAAAAQAAAAEAAAABAAAAAQAAAAEAAAABAAAAAQAAAAEAAAABAAAAAQAAAAEAAAABAAAAAQAAAAEAAAABAAAAAQAAAAEAAAABAAAAAQAAAAEAAAABAAAAAQAAAAEAAAABAAAAAQAAAAEAAAABAAAAAQAAAAEAAAABAAAAAQAAAAEAAAABAAAAAQAAAAEAAAABAAAAAQAAAAEAAAABAAAAAQAAAAEAAAABAAAAAQAAAAEAAAABAAAAAQAAAAEAAAABAAAAAQAAAAEAAAABAAAAAQAAAAEAAAABAAAAAQAAAAEAAAABAAAAAQAAAAEAAAABAAAAAQAAAAEAAAABAAAAAQAAAAEAAAABAAAAAQAAAAEAAAABAAAAAQAAAAEAAAABAAAAAQAAAAEAAAABAAAAAQAAAAEAAAABAAAAAQAAAAEAAAABAAAAAQAAAAEAAAABAAAAAQAAAAEAAAABAAAAAQAAAAEAAAABAAAAAQAAAAEAAAABAAAAAQAAAAEAAAABAAAAAQAAAAEAAAABAAAAAQAAAAEAAAABAAAAAQAAAAEAAAABAAAAAQAAAAEAAAABAAAAAQAAAAEAAAABAAAAAQAAAAEAAAABAAAAAQAAAAEAAAABAAAAAQAAAAEAAAABAAAAAQAAAAEAAAABAAAAAQAAAAEAAAABAAAAAQAAAAEAAAABAAAAAQAAAAEAAAABAAAAAQAAAAEAAAABAAAAAQAAAAEAAAABAAAAAQAAAAEAAAABAAAAAQAAAAEAAAABAAAAAQAAAAEAAAABAAAAAQAAAAEAAAABAAAAAQAAAAEAAAABAAAAAQAAAAEAAAABAAAAAQAAAAEAAAABAAAAAQAAAAEAAAABAAAAAQAAAAEAAAABAAAAAQAAAAEAAAABAAAAAQAAAAEAAAABAAAAAQAAAAEAAAABAAAAAQAAAAEAAAABAAAAAQAAAAEAAAABAAAAAQAAAAEAAAABAAAAAQAAAAEAAAABAAAAAQAAAAEAAAABAAAAAQAAAAEAAAABAAAAAQAAAAEAAAABAAAAAQAAAAEAAAABAAAAAQAAAAEAAAABAAAAAQAAAAEAAAABAAAAAQAAAAEAAAABAAAAAQAAAAEAAAABAAAAAQAAAAEAAAABAAAAAQAAAAEAAAABAAAAAQAAAAEAAAABAAAAAQAAAAEAAAABAAAAAQAAAAEAAAABAAAAAQAAAAEAAAABAAAAAQAAAAEAAAABAAAAAQAAAAEAAAABAAAAAQAAAAEAAAABAAAAAQAAAAEAAAABAAAAAQAAAAEAAAABAAAAAQAAAAEAAAABAAAAAQAAAAEAAAABAAAAAQAAAAEAAAABAAAAAQAAAAEAAAABAAAAAQAAAAEAAAABAAAAAQAAAAEAAAABAAAAAQAAAAEAAAABAAAAAQAAAAEAAAABAAAAAQAAAAEAAAABAAAAAQAAAAEAAAABAAAAAQAAAAEAAAABAAAAAQAAAAEAAAABAAAAAQAAAAEAAAABAAAAAQAAAAEAAAABAAAAAQAAAAEAAAABAAAAAQAAAAEAAAABAAAAAQAAAAEAAAABAAAAAQAAAAEAAAABAAAAAQAAAAEAAAABAAAAAQAAAAEAAAABAAAAAQAAAAEAAAABAAAAAQAAAAEAAAABAAAAAQAAAAEAAAABAAAAAQAAAAEAAAABAAAAAQAAAAEAAAABAAAAAQAAAAEAAAABAAAAAQAAAAEAAAABAAAAAQAAAAEAAAABAAAAAQAAAAEAAAABAAAAAQAAAAEAAAABAAAAAQAAAAEAAAABAAAAAQAAAAEAAAABAAAAAQAAAAEAAAABAAAAAQAAAAEAAAABAAAAAQAAAAEAAAABAAAAAQAAAAEAAAABAAAAAQAAAAEAAAABAAAAAQAAAAEAAAABAAAAAQAAAAEAAAABAAAAAQAAAAEAAAABAAAAAQAAAAEAAAABAAAAAQAAAAEAAAABAAAAAQAAAAEAAAABAAAAAQAAAAEAAAABAAAAAQAAAAEAAAABAAAAAQAAAAEAAAABAAAAAQAAAAEAAAABAAAAAQAAAAEAAAABAAAAAQAAAAEAAAABAAAAAQAAAAEAAAABAAAAAQAAAAEAAAABAAAAAQAAAAEAAAABAAAAAQAAAAEAAAABAAAAAQAAAAEAAAABAAAAAQAAAAEAAAABAAAAAQAAAAEAAAABAAAAAQAAAAEAAAABAAAAAQAAAAEAAAABAAAAAQAAAAEAAAABAAAAAQAAAAEAAAABAAAAAQAAAAEAAAABAAAAAQAAAAEAAAABAAAAAQAAAAEAAAABAAAAAQAAAAEAAAABAAAAAQAAAAEAAAABAAAAAQAAAAEAAAABAAAAAQAAAAEAAAABAAAAAQAAAAEAAAA=",
        "encoding": "base64",
        "path": [
         "y",
         "value"
        ]
       }
      ],
      "model_module": "bqplot",
      "model_module_version": "^0.5.18",
      "model_name": "ScatterModel",
      "state": {
       "_model_module_version": "^0.5.18",
       "_view_module_version": "^0.5.18",
       "colors": [
        "dodgerblue"
       ],
       "default_opacities": {
        "dtype": "float64",
        "shape": [
         1
        ],
        "type": null,
        "value": {}
       },
       "display_names": false,
       "enable_move": true,
       "hovered_point": 81,
       "label_display_horizontal_offset": 0,
       "label_display_vertical_offset": 0,
       "names": [
        "de",
        "python",
        "",
        "con",
        "11",
        "talk",
        "lightning",
        "en",
        "a",
        "2012",
        "y",
        "la",
        "el",
        "para",
        "17",
        "18",
        "introduccion",
        "un",
        "16",
        "django",
        "19",
        "no",
        "al",
        "que",
        "aplicaciones",
        "las",
        "como",
        "web",
        "charlas",
        "del",
        "24",
        "2",
        "por",
        "keynote",
        "learning",
        "me",
        "una",
        "haciendo",
        "to",
        "datos",
        "programacion",
        "import",
        "argentina",
        "usando",
        "aprendizaje",
        "c",
        "open",
        "00",
        "o",
        "relampago",
        "desarrollo",
        "3",
        "engine",
        "machine",
        "juegos",
        "pilas",
        "lo",
        "20",
        "libre",
        "tryton",
        "sin",
        "framework",
        "pypy",
        "10",
        "2018",
        "dia",
        "how",
        "otros",
        "poco",
        "48",
        "14",
        "detalles",
        "40",
        "mutable",
        "quilom",
        "bindings",
        "rapidas",
        "sistemas",
        "arguments",
        "with",
        "procesamiento",
        "todo",
        "heroku",
        "is",
        "software",
        "desde",
        "default",
        "codigo",
        "proyectos",
        "optimizando",
        "analisis",
        "arduino",
        "lenguaje",
        "entendiendo",
        "and",
        "building",
        "diversidad",
        "twisted",
        "es",
        "brasil",
        "videojuegos",
        "testing",
        "28",
        "asyncio",
        "50",
        "app",
        "rest",
        "saber",
        "electromecanicos",
        "sabado",
        "morir",
        "data",
        "microframework",
        "jupyter",
        "minutos",
        "ser",
        "apps",
        "development",
        "06",
        "it",
        "programando",
        "paso",
        "desarrollar",
        "automatico",
        "1",
        "engineering",
        "source",
        "asterisk",
        "micropython",
        "notebook",
        "mejor",
        "conectando",
        "humanos",
        "sus",
        "produccion",
        "platform",
        "metodos",
        "neuronales",
        "comunidad",
        "keras",
        "camino",
        "by",
        "redes",
        "microservices",
        "plone",
        "usar",
        "google",
        "30",
        "ultima",
        "mas",
        "amazon",
        "brazil",
        "services",
        "digital",
        "42",
        "infinitos",
        "utilizando",
        "tu",
        "desarrollando",
        "29",
        "cientifico",
        "pandas",
        "flask",
        "guia",
        "javascript",
        "los",
        "implementando",
        "bots",
        "tus",
        "pycon",
        "web2py",
        "unicode",
        "voip",
        "hacer",
        "36",
        "viernes",
        "willing",
        "procesando",
        "cierre",
        "deploy",
        "moving",
        "cifrado",
        "easy",
        "gran",
        "soluciones",
        "vieja",
        "gil",
        "destruir",
        "snakes",
        "debe",
        "00038_720i_fast",
        "documentacion",
        "issues",
        "telefonia",
        "things",
        "seres",
        "reservoir",
        "7",
        "intento",
        "geneticas",
        "memoria",
        "blender",
        "of",
        "45",
        "support",
        "sleepy",
        "modding",
        "practicas",
        "deconstrui",
        "machismo",
        "buildout",
        "exprimir",
        "e",
        "servicio",
        "mantener",
        "ponele",
        "wx",
        "comunicando",
        "natural",
        "sueno",
        "arte",
        "still",
        "kinect",
        "mejores",
        "programming",
        "despliegue",
        "bloqueantes",
        "aguja",
        "nunca",
        "00036_720i_fast",
        "partes",
        "deuda",
        "from",
        "please",
        "talks",
        "when",
        "0",
        "mundo",
        "00026_720i_fast",
        "t",
        "00032_720i_fast",
        "zmq",
        "00029_720i_fast",
        "openerp",
        "52",
        "59",
        "sorpresa",
        "gauchito",
        "nacion",
        "feas",
        "alguien",
        "multiprocessing",
        "cliente",
        "socioeconomicos",
        "apertura",
        "peirceana",
        "corren",
        "literacy",
        "escuela",
        "tiene",
        "00031_720i_fast",
        "blockchain",
        "energy",
        "merleau",
        "vinculando",
        "docker",
        "pythonicidad",
        "powered",
        "reverse",
        "revoluciona",
        "00008_720i_fast",
        "00025_720i_fast",
        "possible",
        "conocido",
        "secuencias",
        "contributions",
        "08",
        "visualizacion",
        "xxi",
        "solucion",
        "debugger",
        "presentacion",
        "mediante",
        "bytecode",
        "necesario",
        "01",
        "iteradores",
        "conocer",
        "than",
        "maravillas",
        "inclusiva",
        "genero",
        "deferreds",
        "sugar",
        "http",
        "entrega",
        "charlatanes",
        "00004_720i_fast",
        "massive",
        "ingenieria",
        "buscando",
        "carol",
        "trampa",
        "57",
        "up",
        "perfiles",
        "poniendole",
        "00007_720i_fast",
        "4",
        "geopandas",
        "grok",
        "lambda",
        "legal",
        "00005_720i_fast",
        "ecuaciones",
        "london",
        "esperabas",
        "myhdl",
        "react",
        "what",
        "git",
        "maxima",
        "d",
        "armar",
        "funcional",
        "makes",
        "derivadas",
        "linux",
        "ponty",
        "estilo",
        "00003_720i_fast",
        "ideas",
        "option",
        "54",
        "magicos",
        "pyjustice",
        "gamificacion",
        "semantica",
        "peor",
        "sistema",
        "rehusarse",
        "suenos",
        "ambiente",
        "async",
        "35",
        "computacion",
        "programar",
        "poliedrales",
        "parciales",
        "cython",
        "aprendiendo",
        "edu",
        "silicio",
        "ceder",
        "reusar",
        "aima",
        "cerrar",
        "cortaste",
        "momentos",
        "experimentos",
        "much",
        "bulding",
        "eficientemente",
        "science",
        "that",
        "behind",
        "recorriendo",
        "s",
        "power",
        "pythonica",
        "infraestrucura",
        "provider",
        "telegram",
        "ordenando",
        "gis",
        "desempolvando",
        "cientificos",
        "games",
        "gui2py",
        "design",
        "twitter",
        "rol",
        "00006_720i_fast",
        "primera",
        "mallas",
        "enfoque",
        "32",
        "fabric",
        "instalado",
        "queres",
        "learn",
        "12",
        "objetos",
        "cuando",
        "convivencia",
        "angel",
        "interactivo",
        "55",
        "07",
        "version",
        "tarde",
        "gui",
        "generacion",
        "not",
        "laboratorios",
        "your",
        "raspnier",
        "snake",
        "qutebrowser",
        "todes",
        "palo",
        "traerla",
        "automatizando",
        "geneticos",
        "connect",
        "api",
        "trabajo",
        "inferencia",
        "coccion",
        "spark",
        "inteligencia",
        "desktop",
        "always",
        "texto",
        "inclusion",
        "br",
        "mvc",
        "meetup",
        "openid",
        "derechos",
        "html5",
        "pie",
        "cruz",
        "escafandra",
        "fortran",
        "compartiendo",
        "docs",
        "cualquier",
        "perspective",
        "red",
        "instrumento",
        "pybr12",
        "mining",
        "evento",
        "entre",
        "00023_720i_fast",
        "buenas",
        "has",
        "00033_720i_fast",
        "game",
        "56",
        "paralelo",
        "durar",
        "obras",
        "yatel",
        "refuerzo",
        "flatpak",
        "industriales",
        "alto",
        "infraestructrura",
        "90",
        "formatos",
        "browser",
        "experiencias",
        "03",
        "start",
        "forense",
        "dask",
        "kivy",
        "opencl",
        "multijugador",
        "lineas",
        "nodos",
        "introduction",
        "trucos",
        "otro",
        "nuestros",
        "layer",
        "uses",
        "medicina",
        "trust",
        "rosario",
        "works",
        "desempeno",
        "streaming",
        "tale",
        "migrating",
        "segundo",
        "gnu",
        "rapido",
        "00027_720i_fast",
        "ciaa",
        "iterando",
        "sindrome",
        "help",
        "ayuda",
        "parser",
        "caching",
        "controlar",
        "ipython",
        "procesos",
        "hagamos",
        "scenes",
        "better",
        "lean",
        "attributeerror",
        "call",
        "era",
        "autopsias",
        "congreso",
        "cadenas",
        "siglo",
        "00028_720i_fast",
        "mineria",
        "tour",
        "loads",
        "multiprocesamiento",
        "at",
        "erp",
        "ponete",
        "02",
        "defendiendo",
        "2013",
        "menos",
        "object",
        "gov",
        "00021_720i_fast",
        "estandarizar",
        "00010_720i_fast",
        "sobreviviendo",
        "puede",
        "logica",
        "necesitas",
        "premios",
        "deberia",
        "importa",
        "educacion",
        "pytonico",
        "escritorio",
        "justicia",
        "desafios",
        "nation",
        "spdy",
        "visuales",
        "extendiendo",
        "46",
        "nbconversion",
        "movil",
        "pygtk",
        "ui",
        "magico",
        "00020_720i_fast",
        "mongodb",
        "jugando",
        "accesibilidad",
        "postgresql",
        "programador",
        "channels",
        "torrent",
        "observabilidad",
        "looz",
        "voy",
        "pyqt",
        "bioinformatica",
        "raspberrypi",
        "pajar",
        "analiza",
        "programadores",
        "should",
        "viajes",
        "brandon",
        "diagnostico",
        "schapachnik",
        "segundos",
        "exploracion",
        "estampidas",
        "adaptando",
        "victoria",
        "apis",
        "docopt",
        "educativo",
        "pyopencl",
        "nameko",
        "sharing",
        "tiempo",
        "malas",
        "informaticas",
        "health",
        "sobre",
        "so",
        "panel",
        "derecho",
        "revolucion",
        "scikit",
        "pregunta",
        "application",
        "00002_720i_fast",
        "va",
        "versatil",
        "egov",
        "__init__",
        "psycoanalisis",
        "toda",
        "maybe",
        "herramientas",
        "manana",
        "distro",
        "boton",
        "navegando",
        "patterns",
        "propio",
        "swag",
        "neverending",
        "todos",
        "gtk",
        "tecnica",
        "sale",
        "site",
        "00034_720i_fast",
        "robotica",
        "bot",
        "gevent",
        "15",
        "test",
        "paralela",
        "00001_720i_fast",
        "are",
        "job",
        "fu",
        "security",
        "toca",
        "00009_720i_fast",
        "vida",
        "aproximar",
        "laburo",
        "mil",
        "medinilla",
        "oily",
        "destruyendo",
        "portar",
        "eventbrite",
        "the",
        "ast",
        "tenes",
        "attribute",
        "cross",
        "controlando",
        "serio",
        "quick",
        "deep",
        "haystack",
        "00022_720i_fast",
        "geek",
        "tipos",
        "activation",
        "video",
        "mi",
        "proxies",
        "transaccion",
        "title",
        "under",
        "area",
        "empecemos",
        "44",
        "fernando",
        "3d",
        "be",
        "seguridad",
        "native",
        "adn",
        "concurrencia",
        "colaborar",
        "build",
        "don",
        "enfrentamos",
        "perlas",
        "armemos",
        "lados",
        "00030_720i_fast",
        "futuro",
        "sleeping",
        "little",
        "05",
        "pattern",
        "tal",
        "monitoreo",
        "datawarehousing",
        "entorno",
        "170",
        "obvia",
        "artificial",
        "androide",
        "cv",
        "mal",
        "sho",
        "unidades",
        "proceso",
        "wins",
        "dbus",
        "vim",
        "fenotipicos",
        "lidiando",
        "diferenciales",
        "gente",
        "poniendonos",
        "tamano",
        "medio",
        "hordas",
        "spaces",
        "rhodes",
        "recurso",
        "nuestra",
        "25",
        "martinez",
        "00024_720i_fast",
        "orm"
       ],
       "scales": {
        "x": "IPY_MODEL_354b14cf8b8b42f59c5f8d3f31a0955d",
        "y": "IPY_MODEL_0e8b91b99e4c4c75bb4bbbbb58e9f053"
       },
       "scales_metadata": {
        "color": {
         "dimension": "color"
        },
        "opacity": {
         "dimension": "opacity"
        },
        "rotation": {
         "dimension": "rotation"
        },
        "size": {
         "dimension": "size"
        },
        "skew": {
         "dimension": "skew"
        },
        "x": {
         "dimension": "x",
         "orientation": "horizontal"
        },
        "y": {
         "dimension": "y",
         "orientation": "vertical"
        }
       },
       "stroke": "black",
       "tooltip": "IPY_MODEL_dda9402376c143c7a37ff19b99151ca5",
       "unhovered_style": {
        "opacity": 0.5
       },
       "x": {
        "dtype": "int32",
        "shape": [
         716
        ],
        "type": null
       },
       "y": {
        "dtype": "int32",
        "shape": [
         716
        ],
        "type": null
       }
      }
     },
     "16b252d11f4b46caa798f6386b9ff8e1": {
      "model_module": "@jupyter-widgets/base",
      "model_module_version": "1.2.0",
      "model_name": "LayoutModel",
      "state": {}
     },
     "185856aab11147d0a605065e68575b38": {
      "model_module": "@jupyter-widgets/base",
      "model_module_version": "1.2.0",
      "model_name": "LayoutModel",
      "state": {}
     },
     "1bfe461a13c44162a01407c37a42912b": {
      "model_module": "@jupyter-widgets/controls",
      "model_module_version": "1.5.0",
      "model_name": "VBoxModel",
      "state": {
       "children": [
        "IPY_MODEL_cdc68eede9614f3580d0f56e1be875c1",
        "IPY_MODEL_5ab4274cb3bb40e690fab9cbca7fa335"
       ],
       "layout": "IPY_MODEL_86a5a82d50434447a49f48ab14764802"
      }
     },
     "1cb57b2c886a4633a916aba3a0cae755": {
      "buffers": [
       {
        "data": "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",
        "encoding": "base64",
        "path": [
         "x",
         "value"
        ]
       },
       {
        "data": "OAAAADQAAAAwAAAALgAAAB4AAAAcAAAAHAAAABwAAAAbAAAAGwAAABoAAAAYAAAAFwAAABMAAAARAAAADwAAAA4AAAANAAAADAAAAAwAAAAKAAAACgAAAAkAAAAJAAAACQAAAAgAAAAIAAAABwAAAAcAAAAGAAAABgAAAAUAAAAFAAAABQAAAAUAAAAFAAAABQAAAAUAAAAFAAAABQAAAAQAAAAEAAAABAAAAAQAAAAEAAAABAAAAAQAAAAEAAAABAAAAAQAAAAEAAAABAAAAAQAAAAEAAAABAAAAAQAAAAEAAAAAwAAAAMAAAADAAAAAwAAAAMAAAADAAAAAwAAAAMAAAADAAAAAwAAAAMAAAADAAAAAwAAAAMAAAADAAAAAwAAAAMAAAADAAAAAwAAAAMAAAADAAAAAwAAAAMAAAADAAAAAwAAAAMAAAADAAAAAwAAAAMAAAADAAAAAwAAAAMAAAADAAAAAwAAAAMAAAADAAAAAwAAAAIAAAACAAAAAgAAAAIAAAACAAAAAgAAAAIAAAACAAAAAgAAAAIAAAACAAAAAgAAAAIAAAACAAAAAgAAAAIAAAACAAAAAgAAAAIAAAACAAAAAgAAAAIAAAACAAAAAgAAAAIAAAACAAAAAgAAAAIAAAACAAAAAgAAAAIAAAACAAAAAgAAAAIAAAACAAAAAgAAAAIAAAACAAAAAgAAAAIAAAACAAAAAgAAAAIAAAACAAAAAgAAAAIAAAACAAAAAgAAAAIAAAACAAAAAgAAAAIAAAACAAAAAgAAAAIAAAACAAAAAgAAAAIAAAACAAAAAgAAAAIAAAACAAAAAgAAAAIAAAACAAAAAgAAAAIAAAACAAAAAgAAAAIAAAACAAAAAgAAAAIAAAACAAAAAgAAAAIAAAACAAAAAgAAAAIAAAACAAAAAQAAAAEAAAABAAAAAQAAAAEAAAABAAAAAQAAAAEAAAABAAAAAQAAAAEAAAABAAAAAQAAAAEAAAABAAAAAQAAAAEAAAABAAAAAQAAAAEAAAABAAAAAQAAAAEAAAABAAAAAQAAAAEAAAABAAAAAQAAAAEAAAABAAAAAQAAAAEAAAABAAAAAQAAAAEAAAABAAAAAQAAAAEAAAABAAAAAQAAAAEAAAABAAAAAQAAAAEAAAABAAAAAQAAAAEAAAABAAAAAQAAAAEAAAABAAAAAQAAAAEAAAABAAAAAQAAAAEAAAABAAAAAQAAAAEAAAABAAAAAQAAAAEAAAABAAAAAQAAAAEAAAABAAAAAQAAAAEAAAABAAAAAQAAAAEAAAABAAAAAQAAAAEAAAABAAAAAQAAAAEAAAABAAAAAQAAAAEAAAABAAAAAQAAAAEAAAABAAAAAQAAAAEAAAABAAAAAQAAAAEAAAABAAAAAQAAAAEAAAABAAAAAQAAAAEAAAABAAAAAQAAAAEAAAABAAAAAQAAAAEAAAABAAAAAQAAAAEAAAABAAAAAQAAAAEAAAABAAAAAQAAAAEAAAABAAAAAQAAAAEAAAABAAAAAQAAAAEAAAABAAAAAQAAAAEAAAABAAAAAQAAAAEAAAABAAAAAQAAAAEAAAABAAAAAQAAAAEAAAABAAAAAQAAAAEAAAABAAAAAQAAAAEAAAABAAAAAQAAAAEAAAABAAAAAQAAAAEAAAABAAAAAQAAAAEAAAABAAAAAQAAAAEAAAABAAAAAQAAAAEAAAABAAAAAQAAAAEAAAABAAAAAQAAAAEAAAABAAAAAQAAAAEAAAABAAAAAQAAAAEAAAABAAAAAQAAAAEAAAABAAAAAQAAAAEAAAABAAAAAQAAAAEAAAABAAAAAQAAAAEAAAABAAAAAQAAAAEAAAABAAAAAQAAAAEAAAABAAAAAQAAAAEAAAABAAAAAQAAAAEAAAABAAAAAQAAAAEAAAABAAAAAQAAAAEAAAABAAAAAQAAAAEAAAABAAAAAQAAAAEAAAABAAAAAQAAAAEAAAABAAAAAQAAAAEAAAABAAAAAQAAAAEAAAABAAAAAQAAAAEAAAABAAAAAQAAAAEAAAABAAAAAQAAAAEAAAABAAAAAQAAAAEAAAABAAAAAQAAAAEAAAABAAAAAQAAAAEAAAABAAAAAQAAAAEAAAABAAAAAQAAAAEAAAABAAAAAQAAAAEAAAABAAAAAQAAAAEAAAABAAAAAQAAAAEAAAABAAAAAQAAAAEAAAABAAAAAQAAAAEAAAABAAAAAQAAAAEAAAABAAAAAQAAAAEAAAABAAAAAQAAAAEAAAABAAAAAQAAAAEAAAABAAAAAQAAAAEAAAABAAAAAQAAAAEAAAABAAAAAQAAAAEAAAABAAAAAQAAAAEAAAABAAAAAQAAAAEAAAABAAAAAQAAAAEAAAABAAAAAQAAAAEAAAABAAAAAQAAAAEAAAABAAAAAQAAAAEAAAABAAAAAQAAAAEAAAABAAAAAQAAAAEAAAABAAAAAQAAAAEAAAABAAAAAQAAAAEAAAABAAAAAQAAAAEAAAABAAAAAQAAAAEAAAABAAAAAQAAAAEAAAABAAAAAQAAAAEAAAABAAAAAQAAAAEAAAABAAAAAQAAAAEAAAABAAAAAQAAAAEAAAABAAAAAQAAAAEAAAABAAAAAQAAAAEAAAABAAAAAQAAAAEAAAABAAAAAQAAAAEAAAABAAAAAQAAAAEAAAABAAAAAQAAAAEAAAABAAAAAQAAAAEAAAABAAAAAQAAAAEAAAABAAAAAQAAAAEAAAABAAAAAQAAAAEAAAABAAAAAQAAAAEAAAABAAAAAQAAAAEAAAABAAAAAQAAAAEAAAABAAAAAQAAAAEAAAABAAAAAQAAAAEAAAABAAAAAQAAAAEAAAABAAAAAQAAAAEAAAABAAAAAQAAAAEAAAABAAAAAQAAAAEAAAABAAAAAQAAAAEAAAABAAAAAQAAAAEAAAABAAAAAQAAAAEAAAABAAAAAQAAAAEAAAABAAAAAQAAAAEAAAABAAAAAQAAAAEAAAABAAAAAQAAAAEAAAABAAAAAQAAAAEAAAABAAAAAQAAAAEAAAABAAAAAQAAAAEAAAABAAAAAQAAAAEAAAABAAAAAQAAAAEAAAABAAAAAQAAAAEAAAABAAAAAQAAAAEAAAABAAAAAQAAAAEAAAABAAAAAQAAAAEAAAABAAAAAQAAAAEAAAABAAAAAQAAAAEAAAABAAAAAQAAAAEAAAABAAAAAQAAAAEAAAABAAAAAQAAAAEAAAABAAAAAQAAAAEAAAABAAAAAQAAAAEAAAABAAAAAQAAAAEAAAABAAAAAQAAAAEAAAABAAAAAQAAAAEAAAABAAAAAQAAAAEAAAABAAAAAQAAAAEAAAABAAAAAQAAAAEAAAABAAAAAQAAAAEAAAABAAAAAQAAAAEAAAABAAAAAQAAAAEAAAABAAAAAQAAAAEAAAABAAAAAQAAAAEAAAABAAAAAQAAAAEAAAABAAAAAQAAAAEAAAABAAAAAQAAAAEAAAABAAAAAQAAAAEAAAABAAAAAQAAAAEAAAABAAAAAQAAAAEAAAABAAAAAQAAAAEAAAABAAAAAQAAAAEAAAABAAAAAQAAAAEAAAABAAAAAQAAAAEAAAABAAAAAQAAAAEAAAABAAAAAQAAAAEAAAABAAAAAQAAAAEAAAABAAAAAQAAAAEAAAABAAAAAQAAAAEAAAABAAAAAQAAAAEAAAABAAAAAQAAAAEAAAABAAAAAQAAAAEAAAABAAAAAQAAAAEAAAABAAAAAQAAAAEAAAABAAAAAQAAAAEAAAABAAAAAQAAAAEAAAA=",
        "encoding": "base64",
        "path": [
         "y",
         "value"
        ]
       }
      ],
      "model_module": "bqplot",
      "model_module_version": "^0.5.18",
      "model_name": "ScatterModel",
      "state": {
       "_model_module_version": "^0.5.18",
       "_view_module_version": "^0.5.18",
       "default_opacities": {
        "dtype": "float64",
        "shape": [
         1
        ],
        "type": null,
        "value": {}
       },
       "label_display_horizontal_offset": 0,
       "label_display_vertical_offset": 0,
       "names": null,
       "scales": {
        "x": "IPY_MODEL_fa8161a3f0074c579ff6480ce7c66eaa",
        "y": "IPY_MODEL_11fb74f590fb424094c745321f483056"
       },
       "scales_metadata": {
        "color": {
         "dimension": "color"
        },
        "opacity": {
         "dimension": "opacity"
        },
        "rotation": {
         "dimension": "rotation"
        },
        "size": {
         "dimension": "size"
        },
        "skew": {
         "dimension": "skew"
        },
        "x": {
         "dimension": "x",
         "orientation": "horizontal"
        },
        "y": {
         "dimension": "y",
         "orientation": "vertical"
        }
       },
       "x": {
        "dtype": "int32",
        "shape": [
         716
        ],
        "type": null
       },
       "y": {
        "dtype": "int32",
        "shape": [
         716
        ],
        "type": null
       }
      }
     },
     "1d7750510202488a9cc5433739bf0b1e": {
      "model_module": "@jupyter-widgets/base",
      "model_module_version": "1.2.0",
      "model_name": "LayoutModel",
      "state": {}
     },
     "1ed774eed95f4ca89d6726088a567626": {
      "model_module": "bqplot",
      "model_module_version": "^0.5.18",
      "model_name": "AxisModel",
      "state": {
       "_model_module_version": "^0.5.18",
       "_view_module_version": "^0.5.18",
       "orientation": "vertical",
       "scale": "IPY_MODEL_11fb74f590fb424094c745321f483056",
       "side": "left",
       "tick_values": null
      }
     },
     "203ff0abaa5f4362b4fac432a1f07970": {
      "model_module": "bqplot",
      "model_module_version": "^0.5.18",
      "model_name": "LinearScaleModel",
      "state": {
       "_model_module_version": "^0.5.18",
       "_view_module_version": "^0.5.18",
       "stabilized": false
      }
     },
     "2055e1dce16747808e050829d0c7d016": {
      "model_module": "@jupyter-widgets/base",
      "model_module_version": "1.2.0",
      "model_name": "LayoutModel",
      "state": {}
     },
     "24b288d28e944da3a67df1aacd38a898": {
      "model_module": "bqplot",
      "model_module_version": "^0.5.18",
      "model_name": "LinearScaleModel",
      "state": {
       "_model_module_version": "^0.5.18",
       "_view_module_version": "^0.5.18",
       "allow_padding": false,
       "max": 1,
       "min": 0,
       "stabilized": false
      }
     },
     "27148e2ebc9d4bc59f67012345b8bc32": {
      "model_module": "@jupyter-widgets/base",
      "model_module_version": "1.2.0",
      "model_name": "LayoutModel",
      "state": {}
     },
     "27ba12003fde488e9ba041609510d216": {
      "model_module": "@jupyter-widgets/base",
      "model_module_version": "1.2.0",
      "model_name": "LayoutModel",
      "state": {}
     },
     "27bb2da26daf4fadb0d484d7a836154d": {
      "buffers": [
       {
        "data": "GAAAABEAAAAZAAAAEAAAABcAAAAcAAAAAgAAAB0AAAAOAAAADAAAAAMAAAA=",
        "encoding": "base64",
        "path": [
         "x",
         "value"
        ]
       },
       {
        "data": "WAAAACoAAAAkAAAAIAAAABsAAAAGAAAAAgAAAAEAAAABAAAAAQAAAAEAAAA=",
        "encoding": "base64",
        "path": [
         "y",
         "value"
        ]
       }
      ],
      "model_module": "bqplot",
      "model_module_version": "^0.5.18",
      "model_name": "ScatterModel",
      "state": {
       "_model_module_version": "^0.5.18",
       "_view_module_version": "^0.5.18",
       "default_opacities": {
        "dtype": "float64",
        "shape": [
         1
        ],
        "type": null,
        "value": {}
       },
       "label_display_horizontal_offset": 0,
       "label_display_vertical_offset": 0,
       "names": null,
       "scales": {
        "x": "IPY_MODEL_2d0b20be7cf74a099b4653ed89be863e",
        "y": "IPY_MODEL_adb1584147724d79b8104476615d2a39"
       },
       "scales_metadata": {
        "color": {
         "dimension": "color"
        },
        "opacity": {
         "dimension": "opacity"
        },
        "rotation": {
         "dimension": "rotation"
        },
        "size": {
         "dimension": "size"
        },
        "skew": {
         "dimension": "skew"
        },
        "x": {
         "dimension": "x",
         "orientation": "horizontal"
        },
        "y": {
         "dimension": "y",
         "orientation": "vertical"
        }
       },
       "x": {
        "dtype": "int32",
        "shape": [
         11
        ],
        "type": null
       },
       "y": {
        "dtype": "int32",
        "shape": [
         11
        ],
        "type": null
       }
      }
     },
     "293fe97a3fb2439ebbed983c8093c5a5": {
      "model_module": "bqplot",
      "model_module_version": "^0.5.18",
      "model_name": "LinearScaleModel",
      "state": {
       "_model_module_version": "^0.5.18",
       "_view_module_version": "^0.5.18",
       "allow_padding": false,
       "max": 1,
       "min": 0,
       "stabilized": false
      }
     },
     "2957189331234b2fbc37d6d8eb20f166": {
      "model_module": "@jupyter-widgets/base",
      "model_module_version": "1.2.0",
      "model_name": "LayoutModel",
      "state": {}
     },
     "2aa9aa1cea0f47f696a5093863bd4a8f": {
      "model_module": "bqplot",
      "model_module_version": "^0.5.18",
      "model_name": "AxisModel",
      "state": {
       "_model_module_version": "^0.5.18",
       "_view_module_version": "^0.5.18",
       "orientation": "vertical",
       "scale": "IPY_MODEL_0e8b91b99e4c4c75bb4bbbbb58e9f053",
       "side": "left",
       "tick_values": null
      }
     },
     "2af4f7f90cfc483fa7a8c0b53886e338": {
      "model_module": "bqplot",
      "model_module_version": "^0.5.18",
      "model_name": "FigureModel",
      "state": {
       "_model_module_version": "^0.5.18",
       "_view_module_version": "^0.5.18",
       "axes": [
        "IPY_MODEL_b25a8256c5e44638946c389cbe800808",
        "IPY_MODEL_88174f8b3b8d4e4f89dab5d3d3fe4ad1"
       ],
       "layout": "IPY_MODEL_853800fec6494706bce5e535be5a4b43",
       "marks": [
        "IPY_MODEL_a017aadf807e43398daec229f68a6696"
       ],
       "scale_x": "IPY_MODEL_3461a1fe966a4ee3af2ed7305f79c43b",
       "scale_y": "IPY_MODEL_f971e78afb1e4d839e2172163255ec8f"
      }
     },
     "2d0b20be7cf74a099b4653ed89be863e": {
      "model_module": "bqplot",
      "model_module_version": "^0.5.18",
      "model_name": "LinearScaleModel",
      "state": {
       "_model_module_version": "^0.5.18",
       "_view_module_version": "^0.5.18",
       "stabilized": false
      }
     },
     "3461a1fe966a4ee3af2ed7305f79c43b": {
      "model_module": "bqplot",
      "model_module_version": "^0.5.18",
      "model_name": "LinearScaleModel",
      "state": {
       "_model_module_version": "^0.5.18",
       "_view_module_version": "^0.5.18",
       "allow_padding": false,
       "max": 1,
       "min": 0,
       "stabilized": false
      }
     },
     "354b14cf8b8b42f59c5f8d3f31a0955d": {
      "model_module": "bqplot",
      "model_module_version": "^0.5.18",
      "model_name": "LinearScaleModel",
      "state": {
       "_model_module_version": "^0.5.18",
       "_view_module_version": "^0.5.18",
       "stabilized": false
      }
     },
     "361806c6a4de40659ac9344409824e4a": {
      "model_module": "bqplot",
      "model_module_version": "^0.5.18",
      "model_name": "AxisModel",
      "state": {
       "_model_module_version": "^0.5.18",
       "_view_module_version": "^0.5.18",
       "label": "Anio",
       "scale": "IPY_MODEL_2d0b20be7cf74a099b4653ed89be863e",
       "side": "bottom",
       "tick_values": null
      }
     },
     "377d4f4580d34eb6945c9ba439244ed8": {
      "model_module": "bqplot",
      "model_module_version": "^0.5.18",
      "model_name": "TooltipModel",
      "state": {
       "_model_module_version": "^0.5.18",
       "_view_module_version": "^0.5.18",
       "fields": [
        "x",
        "y",
        "name"
       ],
       "formats": [
        "",
        ".2f",
        ""
       ],
       "layout": "IPY_MODEL_7f4207cf5fee480785d740d14f05992f"
      }
     },
     "385202fd91ed4042bf67b0c36e8131a3": {
      "model_module": "bqplot",
      "model_module_version": "^0.5.18",
      "model_name": "LinearScaleModel",
      "state": {
       "_model_module_version": "^0.5.18",
       "_view_module_version": "^0.5.18",
       "allow_padding": false,
       "max": 1,
       "min": 0,
       "stabilized": false
      }
     },
     "3d31c91dd77f421abd02bd7292ac38a3": {
      "model_module": "bqplot",
      "model_module_version": "^0.5.18",
      "model_name": "ToolbarModel",
      "state": {
       "_model_module_version": "^0.5.18",
       "_view_module_version": "^0.5.18",
       "figure": "IPY_MODEL_0cb02f5f9c124c71b8e64cdcf8810937",
       "layout": "IPY_MODEL_4d3de8bca763431db77eb35fc5b1bc2d"
      }
     },
     "450fb69603064e4caf66e793275f7954": {
      "model_module": "@jupyter-widgets/base",
      "model_module_version": "1.2.0",
      "model_name": "LayoutModel",
      "state": {}
     },
     "4523069a07f148718c0873ccb4899e70": {
      "model_module": "bqplot",
      "model_module_version": "^0.5.18",
      "model_name": "LinearScaleModel",
      "state": {
       "_model_module_version": "^0.5.18",
       "_view_module_version": "^0.5.18",
       "allow_padding": false,
       "max": 1,
       "min": 0,
       "stabilized": false
      }
     },
     "483b9f17f0614d3bbb3eb738ff04277b": {
      "model_module": "bqplot",
      "model_module_version": "^0.5.18",
      "model_name": "LinearScaleModel",
      "state": {
       "_model_module_version": "^0.5.18",
       "_view_module_version": "^0.5.18",
       "allow_padding": false,
       "max": 1,
       "min": 0,
       "stabilized": false
      }
     },
     "49dc45612192441f97a1931e8c3a7a80": {
      "model_module": "@jupyter-widgets/base",
      "model_module_version": "1.2.0",
      "model_name": "LayoutModel",
      "state": {}
     },
     "49eb39410f774e7a85dbdb199c8d1072": {
      "model_module": "@jupyter-widgets/base",
      "model_module_version": "1.2.0",
      "model_name": "LayoutModel",
      "state": {}
     },
     "4a8936517111495981f9dd57f46ff2aa": {
      "buffers": [
       {
        "data": "3AcAAOIHAADgBwAA3QcAANsHAADeBwAA3wcAAA==",
        "encoding": "base64",
        "path": [
         "x",
         "value"
        ]
       },
       {
        "data": "SwAAAD0AAAAkAAAAHAAAABoAAAAKAAAAAQAAAA==",
        "encoding": "base64",
        "path": [
         "y",
         "value"
        ]
       }
      ],
      "model_module": "bqplot",
      "model_module_version": "^0.5.18",
      "model_name": "ScatterModel",
      "state": {
       "_model_module_version": "^0.5.18",
       "_view_module_version": "^0.5.18",
       "default_opacities": {
        "dtype": "float64",
        "shape": [
         1
        ],
        "type": null,
        "value": {}
       },
       "label_display_horizontal_offset": 0,
       "label_display_vertical_offset": 0,
       "names": null,
       "scales": {
        "x": "IPY_MODEL_7ff5605bbba843c0ac061fc998be73c8",
        "y": "IPY_MODEL_fd5e45a0af6948f1ab12823482caebc3"
       },
       "scales_metadata": {
        "color": {
         "dimension": "color"
        },
        "opacity": {
         "dimension": "opacity"
        },
        "rotation": {
         "dimension": "rotation"
        },
        "size": {
         "dimension": "size"
        },
        "skew": {
         "dimension": "skew"
        },
        "x": {
         "dimension": "x",
         "orientation": "horizontal"
        },
        "y": {
         "dimension": "y",
         "orientation": "vertical"
        }
       },
       "x": {
        "dtype": "int32",
        "shape": [
         7
        ],
        "type": null
       },
       "y": {
        "dtype": "int32",
        "shape": [
         7
        ],
        "type": null
       }
      }
     },
     "4be0f362e1564428a7aaeed6132c3512": {
      "model_module": "bqplot",
      "model_module_version": "^0.5.18",
      "model_name": "LinearScaleModel",
      "state": {
       "_model_module_version": "^0.5.18",
       "_view_module_version": "^0.5.18",
       "stabilized": false
      }
     },
     "4beb6e2e56c148e297fac31580290a94": {
      "model_module": "bqplot",
      "model_module_version": "^0.5.18",
      "model_name": "AxisModel",
      "state": {
       "_model_module_version": "^0.5.18",
       "_view_module_version": "^0.5.18",
       "label": "Cantidad de charlas",
       "orientation": "vertical",
       "scale": "IPY_MODEL_fd5e45a0af6948f1ab12823482caebc3",
       "side": "left",
       "tick_values": null
      }
     },
     "4d3de8bca763431db77eb35fc5b1bc2d": {
      "model_module": "@jupyter-widgets/base",
      "model_module_version": "1.2.0",
      "model_name": "LayoutModel",
      "state": {}
     },
     "4e7796e5013a4ec9b7694d29ac7307b2": {
      "buffers": [
       {
        "data": "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",
        "encoding": "base64",
        "path": [
         "x",
         "value"
        ]
       },
       {
        "data": "OAAAADQAAAAwAAAALgAAAB4AAAAcAAAAHAAAABwAAAAbAAAAGwAAABoAAAAYAAAAFwAAABMAAAARAAAADwAAAA4AAAANAAAADAAAAAwAAAAKAAAACgAAAAkAAAAJAAAACQAAAAgAAAAIAAAABwAAAAcAAAAGAAAABgAAAAUAAAAFAAAABQAAAAUAAAAFAAAABQAAAAUAAAAFAAAABQAAAAQAAAAEAAAABAAAAAQAAAAEAAAABAAAAAQAAAAEAAAABAAAAAQAAAAEAAAABAAAAAQAAAAEAAAABAAAAAQAAAAEAAAAAwAAAAMAAAADAAAAAwAAAAMAAAADAAAAAwAAAAMAAAADAAAAAwAAAAMAAAADAAAAAwAAAAMAAAADAAAAAwAAAAMAAAADAAAAAwAAAAMAAAADAAAAAwAAAAMAAAADAAAAAwAAAAMAAAADAAAAAwAAAAMAAAADAAAAAwAAAAMAAAADAAAAAwAAAAMAAAADAAAAAwAAAAIAAAACAAAAAgAAAAIAAAACAAAAAgAAAAIAAAACAAAAAgAAAAIAAAACAAAAAgAAAAIAAAACAAAAAgAAAAIAAAACAAAAAgAAAAIAAAACAAAAAgAAAAIAAAACAAAAAgAAAAIAAAACAAAAAgAAAAIAAAACAAAAAgAAAAIAAAACAAAAAgAAAAIAAAACAAAAAgAAAAIAAAACAAAAAgAAAAIAAAACAAAAAgAAAAIAAAACAAAAAgAAAAIAAAACAAAAAgAAAAIAAAACAAAAAgAAAAIAAAACAAAAAgAAAAIAAAACAAAAAgAAAAIAAAACAAAAAgAAAAIAAAACAAAAAgAAAAIAAAACAAAAAgAAAAIAAAACAAAAAgAAAAIAAAACAAAAAgAAAAIAAAACAAAAAgAAAAIAAAACAAAAAgAAAAIAAAACAAAAAQAAAAEAAAABAAAAAQAAAAEAAAABAAAAAQAAAAEAAAABAAAAAQAAAAEAAAABAAAAAQAAAAEAAAABAAAAAQAAAAEAAAABAAAAAQAAAAEAAAABAAAAAQAAAAEAAAABAAAAAQAAAAEAAAABAAAAAQAAAAEAAAABAAAAAQAAAAEAAAABAAAAAQAAAAEAAAABAAAAAQAAAAEAAAABAAAAAQAAAAEAAAABAAAAAQAAAAEAAAABAAAAAQAAAAEAAAABAAAAAQAAAAEAAAABAAAAAQAAAAEAAAABAAAAAQAAAAEAAAABAAAAAQAAAAEAAAABAAAAAQAAAAEAAAABAAAAAQAAAAEAAAABAAAAAQAAAAEAAAABAAAAAQAAAAEAAAABAAAAAQAAAAEAAAABAAAAAQAAAAEAAAABAAAAAQAAAAEAAAABAAAAAQAAAAEAAAABAAAAAQAAAAEAAAABAAAAAQAAAAEAAAABAAAAAQAAAAEAAAABAAAAAQAAAAEAAAABAAAAAQAAAAEAAAABAAAAAQAAAAEAAAABAAAAAQAAAAEAAAABAAAAAQAAAAEAAAABAAAAAQAAAAEAAAABAAAAAQAAAAEAAAABAAAAAQAAAAEAAAABAAAAAQAAAAEAAAABAAAAAQAAAAEAAAABAAAAAQAAAAEAAAABAAAAAQAAAAEAAAABAAAAAQAAAAEAAAABAAAAAQAAAAEAAAABAAAAAQAAAAEAAAABAAAAAQAAAAEAAAABAAAAAQAAAAEAAAABAAAAAQAAAAEAAAABAAAAAQAAAAEAAAABAAAAAQAAAAEAAAABAAAAAQAAAAEAAAABAAAAAQAAAAEAAAABAAAAAQAAAAEAAAABAAAAAQAAAAEAAAABAAAAAQAAAAEAAAABAAAAAQAAAAEAAAABAAAAAQAAAAEAAAABAAAAAQAAAAEAAAABAAAAAQAAAAEAAAABAAAAAQAAAAEAAAABAAAAAQAAAAEAAAABAAAAAQAAAAEAAAABAAAAAQAAAAEAAAABAAAAAQAAAAEAAAABAAAAAQAAAAEAAAABAAAAAQAAAAEAAAABAAAAAQAAAAEAAAABAAAAAQAAAAEAAAABAAAAAQAAAAEAAAABAAAAAQAAAAEAAAABAAAAAQAAAAEAAAABAAAAAQAAAAEAAAABAAAAAQAAAAEAAAABAAAAAQAAAAEAAAABAAAAAQAAAAEAAAABAAAAAQAAAAEAAAABAAAAAQAAAAEAAAABAAAAAQAAAAEAAAABAAAAAQAAAAEAAAABAAAAAQAAAAEAAAABAAAAAQAAAAEAAAABAAAAAQAAAAEAAAABAAAAAQAAAAEAAAABAAAAAQAAAAEAAAABAAAAAQAAAAEAAAABAAAAAQAAAAEAAAABAAAAAQAAAAEAAAABAAAAAQAAAAEAAAABAAAAAQAAAAEAAAABAAAAAQAAAAEAAAABAAAAAQAAAAEAAAABAAAAAQAAAAEAAAABAAAAAQAAAAEAAAABAAAAAQAAAAEAAAABAAAAAQAAAAEAAAABAAAAAQAAAAEAAAABAAAAAQAAAAEAAAABAAAAAQAAAAEAAAABAAAAAQAAAAEAAAABAAAAAQAAAAEAAAABAAAAAQAAAAEAAAABAAAAAQAAAAEAAAABAAAAAQAAAAEAAAABAAAAAQAAAAEAAAABAAAAAQAAAAEAAAABAAAAAQAAAAEAAAABAAAAAQAAAAEAAAABAAAAAQAAAAEAAAABAAAAAQAAAAEAAAABAAAAAQAAAAEAAAABAAAAAQAAAAEAAAABAAAAAQAAAAEAAAABAAAAAQAAAAEAAAABAAAAAQAAAAEAAAABAAAAAQAAAAEAAAABAAAAAQAAAAEAAAABAAAAAQAAAAEAAAABAAAAAQAAAAEAAAABAAAAAQAAAAEAAAABAAAAAQAAAAEAAAABAAAAAQAAAAEAAAABAAAAAQAAAAEAAAABAAAAAQAAAAEAAAABAAAAAQAAAAEAAAABAAAAAQAAAAEAAAABAAAAAQAAAAEAAAABAAAAAQAAAAEAAAABAAAAAQAAAAEAAAABAAAAAQAAAAEAAAABAAAAAQAAAAEAAAABAAAAAQAAAAEAAAABAAAAAQAAAAEAAAABAAAAAQAAAAEAAAABAAAAAQAAAAEAAAABAAAAAQAAAAEAAAABAAAAAQAAAAEAAAABAAAAAQAAAAEAAAABAAAAAQAAAAEAAAABAAAAAQAAAAEAAAABAAAAAQAAAAEAAAABAAAAAQAAAAEAAAABAAAAAQAAAAEAAAABAAAAAQAAAAEAAAABAAAAAQAAAAEAAAABAAAAAQAAAAEAAAABAAAAAQAAAAEAAAABAAAAAQAAAAEAAAABAAAAAQAAAAEAAAABAAAAAQAAAAEAAAABAAAAAQAAAAEAAAABAAAAAQAAAAEAAAABAAAAAQAAAAEAAAABAAAAAQAAAAEAAAABAAAAAQAAAAEAAAABAAAAAQAAAAEAAAABAAAAAQAAAAEAAAABAAAAAQAAAAEAAAABAAAAAQAAAAEAAAABAAAAAQAAAAEAAAABAAAAAQAAAAEAAAABAAAAAQAAAAEAAAABAAAAAQAAAAEAAAABAAAAAQAAAAEAAAABAAAAAQAAAAEAAAABAAAAAQAAAAEAAAABAAAAAQAAAAEAAAABAAAAAQAAAAEAAAABAAAAAQAAAAEAAAABAAAAAQAAAAEAAAABAAAAAQAAAAEAAAABAAAAAQAAAAEAAAABAAAAAQAAAAEAAAABAAAAAQAAAAEAAAABAAAAAQAAAAEAAAABAAAAAQAAAAEAAAABAAAAAQAAAAEAAAABAAAAAQAAAAEAAAABAAAAAQAAAAEAAAABAAAAAQAAAAEAAAABAAAAAQAAAAEAAAA=",
        "encoding": "base64",
        "path": [
         "y",
         "value"
        ]
       }
      ],
      "model_module": "bqplot",
      "model_module_version": "^0.5.18",
      "model_name": "ScatterModel",
      "state": {
       "_model_module_version": "^0.5.18",
       "_view_module_version": "^0.5.18",
       "colors": [
        "dodgerblue"
       ],
       "default_opacities": {
        "dtype": "float64",
        "shape": [
         1
        ],
        "type": null,
        "value": {}
       },
       "label_display_horizontal_offset": 0,
       "label_display_vertical_offset": 0,
       "names": null,
       "scales": {
        "x": "IPY_MODEL_65eaaadaee7147339d7a21205803f3b3",
        "y": "IPY_MODEL_4be0f362e1564428a7aaeed6132c3512"
       },
       "scales_metadata": {
        "color": {
         "dimension": "color"
        },
        "opacity": {
         "dimension": "opacity"
        },
        "rotation": {
         "dimension": "rotation"
        },
        "size": {
         "dimension": "size"
        },
        "skew": {
         "dimension": "skew"
        },
        "x": {
         "dimension": "x",
         "orientation": "horizontal"
        },
        "y": {
         "dimension": "y",
         "orientation": "vertical"
        }
       },
       "stroke": "black",
       "x": {
        "dtype": "int32",
        "shape": [
         716
        ],
        "type": null
       },
       "y": {
        "dtype": "int32",
        "shape": [
         716
        ],
        "type": null
       }
      }
     },
     "506d1ee5a0f94d5996cb583001bcb30e": {
      "model_module": "bqplot",
      "model_module_version": "^0.5.18",
      "model_name": "AxisModel",
      "state": {
       "_model_module_version": "^0.5.18",
       "_view_module_version": "^0.5.18",
       "orientation": "vertical",
       "scale": "IPY_MODEL_c5a1609d5e6348e7b3642acb67deb93a",
       "side": "left",
       "tick_values": null
      }
     },
     "50c0fe509ecd487cb684ea8932b1801c": {
      "model_module": "bqplot",
      "model_module_version": "^0.5.18",
      "model_name": "ToolbarModel",
      "state": {
       "_model_module_version": "^0.5.18",
       "_view_module_version": "^0.5.18",
       "figure": "IPY_MODEL_b2aa47008ff74f1b83c73aadd80c4dff",
       "layout": "IPY_MODEL_1d7750510202488a9cc5433739bf0b1e"
      }
     },
     "52257e9706e1460ba676ab9440b7c7a0": {
      "model_module": "bqplot",
      "model_module_version": "^0.5.18",
      "model_name": "ToolbarModel",
      "state": {
       "_model_module_version": "^0.5.18",
       "_view_module_version": "^0.5.18",
       "figure": "IPY_MODEL_5d92742842714bc486bb584c22478ffa",
       "layout": "IPY_MODEL_02bbf4584f3e4f5bbfd48dfcfb4fe28d"
      }
     },
     "523cf22e32194579a82bce7797b12d4a": {
      "model_module": "@jupyter-widgets/base",
      "model_module_version": "1.2.0",
      "model_name": "LayoutModel",
      "state": {}
     },
     "5520eefcae13466d8ba2420ad994f55b": {
      "model_module": "bqplot",
      "model_module_version": "^0.5.18",
      "model_name": "AxisModel",
      "state": {
       "_model_module_version": "^0.5.18",
       "_view_module_version": "^0.5.18",
       "scale": "IPY_MODEL_203ff0abaa5f4362b4fac432a1f07970",
       "side": "bottom",
       "tick_values": null
      }
     },
     "5639a4418ce444c7a460534f85475129": {
      "model_module": "bqplot",
      "model_module_version": "^0.5.18",
      "model_name": "ToolbarModel",
      "state": {
       "_model_module_version": "^0.5.18",
       "_view_module_version": "^0.5.18",
       "figure": "IPY_MODEL_da44c58871974b4fb55e6df40f43da64",
       "layout": "IPY_MODEL_523cf22e32194579a82bce7797b12d4a"
      }
     },
     "564abc66db934a1686828c4621e87c17": {
      "model_module": "bqplot",
      "model_module_version": "^0.5.18",
      "model_name": "ToolbarModel",
      "state": {
       "_model_module_version": "^0.5.18",
       "_view_module_version": "^0.5.18",
       "figure": "IPY_MODEL_e9e3ed5a06fc4900b6a66d342b8c354c",
       "layout": "IPY_MODEL_49eb39410f774e7a85dbdb199c8d1072"
      }
     },
     "5ab4274cb3bb40e690fab9cbca7fa335": {
      "model_module": "bqplot",
      "model_module_version": "^0.5.18",
      "model_name": "ToolbarModel",
      "state": {
       "_model_module_version": "^0.5.18",
       "_view_module_version": "^0.5.18",
       "figure": "IPY_MODEL_cdc68eede9614f3580d0f56e1be875c1",
       "layout": "IPY_MODEL_d8e49fee16914d9c83876da0a2618019"
      }
     },
     "5b12e92c8e6a4b669ecd75e224453937": {
      "model_module": "bqplot",
      "model_module_version": "^0.5.18",
      "model_name": "LinearScaleModel",
      "state": {
       "_model_module_version": "^0.5.18",
       "_view_module_version": "^0.5.18",
       "allow_padding": false,
       "max": 1,
       "min": 0,
       "stabilized": false
      }
     },
     "5d92742842714bc486bb584c22478ffa": {
      "model_module": "bqplot",
      "model_module_version": "^0.5.18",
      "model_name": "FigureModel",
      "state": {
       "_model_module_version": "^0.5.18",
       "_view_module_version": "^0.5.18",
       "axes": [
        "IPY_MODEL_5520eefcae13466d8ba2420ad994f55b",
        "IPY_MODEL_b8649f2d84e14f0ba628d0622cf4605e"
       ],
       "layout": "IPY_MODEL_74924d28cb784c4d987674be4d8f8ad8",
       "marks": [
        "IPY_MODEL_67fb4d0a7c34428a8aeac5f9e0c8cd5c"
       ],
       "scale_x": "IPY_MODEL_293fe97a3fb2439ebbed983c8093c5a5",
       "scale_y": "IPY_MODEL_483b9f17f0614d3bbb3eb738ff04277b"
      }
     },
     "63ab12425c0f44a092b63780ff21edf2": {
      "model_module": "@jupyter-widgets/base",
      "model_module_version": "1.2.0",
      "model_name": "LayoutModel",
      "state": {}
     },
     "647c0b60e425418cbbee5f8b8490263a": {
      "model_module": "bqplot",
      "model_module_version": "^0.5.18",
      "model_name": "LinearScaleModel",
      "state": {
       "_model_module_version": "^0.5.18",
       "_view_module_version": "^0.5.18",
       "allow_padding": false,
       "max": 1,
       "min": 0,
       "stabilized": false
      }
     },
     "65eaaadaee7147339d7a21205803f3b3": {
      "model_module": "bqplot",
      "model_module_version": "^0.5.18",
      "model_name": "LinearScaleModel",
      "state": {
       "_model_module_version": "^0.5.18",
       "_view_module_version": "^0.5.18",
       "stabilized": false
      }
     },
     "675be3f6775b4769a9b121fdb84e2f8d": {
      "model_module": "bqplot",
      "model_module_version": "^0.5.18",
      "model_name": "ToolbarModel",
      "state": {
       "_model_module_version": "^0.5.18",
       "_view_module_version": "^0.5.18",
       "figure": "IPY_MODEL_2af4f7f90cfc483fa7a8c0b53886e338",
       "layout": "IPY_MODEL_da1a2bb3470e4c9b9b9f59c9a7cff912"
      }
     },
     "67fb4d0a7c34428a8aeac5f9e0c8cd5c": {
      "buffers": [
       {
        "data": "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",
        "encoding": "base64",
        "path": [
         "x",
         "value"
        ]
       },
       {
        "data": "OAAAADQAAAAwAAAALgAAAB4AAAAcAAAAHAAAABwAAAAbAAAAGwAAABoAAAAYAAAAFwAAABMAAAARAAAADwAAAA4AAAANAAAADAAAAAwAAAAKAAAACgAAAAkAAAAJAAAACQAAAAgAAAAIAAAABwAAAAcAAAAGAAAABgAAAAUAAAAFAAAABQAAAAUAAAAFAAAABQAAAAUAAAAFAAAABQAAAAQAAAAEAAAABAAAAAQAAAAEAAAABAAAAAQAAAAEAAAABAAAAAQAAAAEAAAABAAAAAQAAAAEAAAABAAAAAQAAAAEAAAAAwAAAAMAAAADAAAAAwAAAAMAAAADAAAAAwAAAAMAAAADAAAAAwAAAAMAAAADAAAAAwAAAAMAAAADAAAAAwAAAAMAAAADAAAAAwAAAAMAAAADAAAAAwAAAAMAAAADAAAAAwAAAAMAAAADAAAAAwAAAAMAAAADAAAAAwAAAAMAAAADAAAAAwAAAAMAAAADAAAAAwAAAAIAAAACAAAAAgAAAAIAAAACAAAAAgAAAAIAAAACAAAAAgAAAAIAAAACAAAAAgAAAAIAAAACAAAAAgAAAAIAAAACAAAAAgAAAAIAAAACAAAAAgAAAAIAAAACAAAAAgAAAAIAAAACAAAAAgAAAAIAAAACAAAAAgAAAAIAAAACAAAAAgAAAAIAAAACAAAAAgAAAAIAAAACAAAAAgAAAAIAAAACAAAAAgAAAAIAAAACAAAAAgAAAAIAAAACAAAAAgAAAAIAAAACAAAAAgAAAAIAAAACAAAAAgAAAAIAAAACAAAAAgAAAAIAAAACAAAAAgAAAAIAAAACAAAAAgAAAAIAAAACAAAAAgAAAAIAAAACAAAAAgAAAAIAAAACAAAAAgAAAAIAAAACAAAAAgAAAAIAAAACAAAAAgAAAAIAAAACAAAAAQAAAAEAAAABAAAAAQAAAAEAAAABAAAAAQAAAAEAAAABAAAAAQAAAAEAAAABAAAAAQAAAAEAAAABAAAAAQAAAAEAAAABAAAAAQAAAAEAAAABAAAAAQAAAAEAAAABAAAAAQAAAAEAAAABAAAAAQAAAAEAAAABAAAAAQAAAAEAAAABAAAAAQAAAAEAAAABAAAAAQAAAAEAAAABAAAAAQAAAAEAAAABAAAAAQAAAAEAAAABAAAAAQAAAAEAAAABAAAAAQAAAAEAAAABAAAAAQAAAAEAAAABAAAAAQAAAAEAAAABAAAAAQAAAAEAAAABAAAAAQAAAAEAAAABAAAAAQAAAAEAAAABAAAAAQAAAAEAAAABAAAAAQAAAAEAAAABAAAAAQAAAAEAAAABAAAAAQAAAAEAAAABAAAAAQAAAAEAAAABAAAAAQAAAAEAAAABAAAAAQAAAAEAAAABAAAAAQAAAAEAAAABAAAAAQAAAAEAAAABAAAAAQAAAAEAAAABAAAAAQAAAAEAAAABAAAAAQAAAAEAAAABAAAAAQAAAAEAAAABAAAAAQAAAAEAAAABAAAAAQAAAAEAAAABAAAAAQAAAAEAAAABAAAAAQAAAAEAAAABAAAAAQAAAAEAAAABAAAAAQAAAAEAAAABAAAAAQAAAAEAAAABAAAAAQAAAAEAAAABAAAAAQAAAAEAAAABAAAAAQAAAAEAAAABAAAAAQAAAAEAAAABAAAAAQAAAAEAAAABAAAAAQAAAAEAAAABAAAAAQAAAAEAAAABAAAAAQAAAAEAAAABAAAAAQAAAAEAAAABAAAAAQAAAAEAAAABAAAAAQAAAAEAAAABAAAAAQAAAAEAAAABAAAAAQAAAAEAAAABAAAAAQAAAAEAAAABAAAAAQAAAAEAAAABAAAAAQAAAAEAAAABAAAAAQAAAAEAAAABAAAAAQAAAAEAAAABAAAAAQAAAAEAAAABAAAAAQAAAAEAAAABAAAAAQAAAAEAAAABAAAAAQAAAAEAAAABAAAAAQAAAAEAAAABAAAAAQAAAAEAAAABAAAAAQAAAAEAAAABAAAAAQAAAAEAAAABAAAAAQAAAAEAAAABAAAAAQAAAAEAAAABAAAAAQAAAAEAAAABAAAAAQAAAAEAAAABAAAAAQAAAAEAAAABAAAAAQAAAAEAAAABAAAAAQAAAAEAAAABAAAAAQAAAAEAAAABAAAAAQAAAAEAAAABAAAAAQAAAAEAAAABAAAAAQAAAAEAAAABAAAAAQAAAAEAAAABAAAAAQAAAAEAAAABAAAAAQAAAAEAAAABAAAAAQAAAAEAAAABAAAAAQAAAAEAAAABAAAAAQAAAAEAAAABAAAAAQAAAAEAAAABAAAAAQAAAAEAAAABAAAAAQAAAAEAAAABAAAAAQAAAAEAAAABAAAAAQAAAAEAAAABAAAAAQAAAAEAAAABAAAAAQAAAAEAAAABAAAAAQAAAAEAAAABAAAAAQAAAAEAAAABAAAAAQAAAAEAAAABAAAAAQAAAAEAAAABAAAAAQAAAAEAAAABAAAAAQAAAAEAAAABAAAAAQAAAAEAAAABAAAAAQAAAAEAAAABAAAAAQAAAAEAAAABAAAAAQAAAAEAAAABAAAAAQAAAAEAAAABAAAAAQAAAAEAAAABAAAAAQAAAAEAAAABAAAAAQAAAAEAAAABAAAAAQAAAAEAAAABAAAAAQAAAAEAAAABAAAAAQAAAAEAAAABAAAAAQAAAAEAAAABAAAAAQAAAAEAAAABAAAAAQAAAAEAAAABAAAAAQAAAAEAAAABAAAAAQAAAAEAAAABAAAAAQAAAAEAAAABAAAAAQAAAAEAAAABAAAAAQAAAAEAAAABAAAAAQAAAAEAAAABAAAAAQAAAAEAAAABAAAAAQAAAAEAAAABAAAAAQAAAAEAAAABAAAAAQAAAAEAAAABAAAAAQAAAAEAAAABAAAAAQAAAAEAAAABAAAAAQAAAAEAAAABAAAAAQAAAAEAAAABAAAAAQAAAAEAAAABAAAAAQAAAAEAAAABAAAAAQAAAAEAAAABAAAAAQAAAAEAAAABAAAAAQAAAAEAAAABAAAAAQAAAAEAAAABAAAAAQAAAAEAAAABAAAAAQAAAAEAAAABAAAAAQAAAAEAAAABAAAAAQAAAAEAAAABAAAAAQAAAAEAAAABAAAAAQAAAAEAAAABAAAAAQAAAAEAAAABAAAAAQAAAAEAAAABAAAAAQAAAAEAAAABAAAAAQAAAAEAAAABAAAAAQAAAAEAAAABAAAAAQAAAAEAAAABAAAAAQAAAAEAAAABAAAAAQAAAAEAAAABAAAAAQAAAAEAAAABAAAAAQAAAAEAAAABAAAAAQAAAAEAAAABAAAAAQAAAAEAAAABAAAAAQAAAAEAAAABAAAAAQAAAAEAAAABAAAAAQAAAAEAAAABAAAAAQAAAAEAAAABAAAAAQAAAAEAAAABAAAAAQAAAAEAAAABAAAAAQAAAAEAAAABAAAAAQAAAAEAAAABAAAAAQAAAAEAAAABAAAAAQAAAAEAAAABAAAAAQAAAAEAAAABAAAAAQAAAAEAAAABAAAAAQAAAAEAAAABAAAAAQAAAAEAAAABAAAAAQAAAAEAAAABAAAAAQAAAAEAAAABAAAAAQAAAAEAAAABAAAAAQAAAAEAAAABAAAAAQAAAAEAAAABAAAAAQAAAAEAAAABAAAAAQAAAAEAAAABAAAAAQAAAAEAAAABAAAAAQAAAAEAAAABAAAAAQAAAAEAAAABAAAAAQAAAAEAAAABAAAAAQAAAAEAAAABAAAAAQAAAAEAAAABAAAAAQAAAAEAAAABAAAAAQAAAAEAAAABAAAAAQAAAAEAAAABAAAAAQAAAAEAAAA=",
        "encoding": "base64",
        "path": [
         "y",
         "value"
        ]
       }
      ],
      "model_module": "bqplot",
      "model_module_version": "^0.5.18",
      "model_name": "ScatterModel",
      "state": {
       "_model_module_version": "^0.5.18",
       "_view_module_version": "^0.5.18",
       "colors": [
        "dodgerblue"
       ],
       "default_opacities": {
        "dtype": "float64",
        "shape": [
         1
        ],
        "type": null,
        "value": {}
       },
       "label_display_horizontal_offset": 0,
       "label_display_vertical_offset": 0,
       "names": null,
       "scales": {
        "x": "IPY_MODEL_203ff0abaa5f4362b4fac432a1f07970",
        "y": "IPY_MODEL_8d4febab98ea4aa2871231c53d3317df"
       },
       "scales_metadata": {
        "color": {
         "dimension": "color"
        },
        "opacity": {
         "dimension": "opacity"
        },
        "rotation": {
         "dimension": "rotation"
        },
        "size": {
         "dimension": "size"
        },
        "skew": {
         "dimension": "skew"
        },
        "x": {
         "dimension": "x",
         "orientation": "horizontal"
        },
        "y": {
         "dimension": "y",
         "orientation": "vertical"
        }
       },
       "stroke": "black",
       "unhovered_style": {
        "opacity": 0.5
       },
       "x": {
        "dtype": "int32",
        "shape": [
         716
        ],
        "type": null
       },
       "y": {
        "dtype": "int32",
        "shape": [
         716
        ],
        "type": null
       }
      }
     },
     "69e9b2ffee294a3680b89c0bff12ad83": {
      "model_module": "bqplot",
      "model_module_version": "^0.5.18",
      "model_name": "LinearScaleModel",
      "state": {
       "_model_module_version": "^0.5.18",
       "_view_module_version": "^0.5.18",
       "stabilized": false
      }
     },
     "6b4522a183294671bcc1e62424948e97": {
      "model_module": "@jupyter-widgets/base",
      "model_module_version": "1.2.0",
      "model_name": "LayoutModel",
      "state": {}
     },
     "6b8a807f91404013a9debd654a680ccc": {
      "model_module": "bqplot",
      "model_module_version": "^0.5.18",
      "model_name": "AxisModel",
      "state": {
       "_model_module_version": "^0.5.18",
       "_view_module_version": "^0.5.18",
       "scale": "IPY_MODEL_354b14cf8b8b42f59c5f8d3f31a0955d",
       "side": "bottom",
       "tick_values": null
      }
     },
     "6da05b61eed046b78a6986f3735ff331": {
      "model_module": "@jupyter-widgets/controls",
      "model_module_version": "1.5.0",
      "model_name": "VBoxModel",
      "state": {
       "children": [
        "IPY_MODEL_e951d762bdc34f60ae0f37aeb5ccffff",
        "IPY_MODEL_0c2c2fd250394e6ca902af9d27f58187"
       ],
       "layout": "IPY_MODEL_63ab12425c0f44a092b63780ff21edf2"
      }
     },
     "74924d28cb784c4d987674be4d8f8ad8": {
      "model_module": "@jupyter-widgets/base",
      "model_module_version": "1.2.0",
      "model_name": "LayoutModel",
      "state": {}
     },
     "7791bfc618a64789b26251b9bc5228a7": {
      "model_module": "@jupyter-widgets/base",
      "model_module_version": "1.2.0",
      "model_name": "LayoutModel",
      "state": {}
     },
     "793ae516375e45f2914e5d68e7b0795f": {
      "model_module": "bqplot",
      "model_module_version": "^0.5.18",
      "model_name": "LinearScaleModel",
      "state": {
       "_model_module_version": "^0.5.18",
       "_view_module_version": "^0.5.18",
       "allow_padding": false,
       "max": 1,
       "min": 0,
       "stabilized": false
      }
     },
     "7d6fe2809b064f268242ebd1553a51e8": {
      "model_module": "@jupyter-widgets/base",
      "model_module_version": "1.2.0",
      "model_name": "LayoutModel",
      "state": {}
     },
     "7e238b1924cf45d18bbc0338616ee9c5": {
      "model_module": "@jupyter-widgets/controls",
      "model_module_version": "1.5.0",
      "model_name": "VBoxModel",
      "state": {
       "children": [
        "IPY_MODEL_d8361e86f0d143babdc2273c5050a492",
        "IPY_MODEL_b41d5d25d4ef4c4d96d593109f9e5504"
       ],
       "layout": "IPY_MODEL_f6c7a181e1a54f2e830e46f59e8627eb"
      }
     },
     "7f4207cf5fee480785d740d14f05992f": {
      "model_module": "@jupyter-widgets/base",
      "model_module_version": "1.2.0",
      "model_name": "LayoutModel",
      "state": {}
     },
     "7ff5605bbba843c0ac061fc998be73c8": {
      "model_module": "bqplot",
      "model_module_version": "^0.5.18",
      "model_name": "LinearScaleModel",
      "state": {
       "_model_module_version": "^0.5.18",
       "_view_module_version": "^0.5.18",
       "stabilized": false
      }
     },
     "84404459bccf46cbb80e4631ddff6770": {
      "model_module": "@jupyter-widgets/base",
      "model_module_version": "1.2.0",
      "model_name": "LayoutModel",
      "state": {}
     },
     "853800fec6494706bce5e535be5a4b43": {
      "model_module": "@jupyter-widgets/base",
      "model_module_version": "1.2.0",
      "model_name": "LayoutModel",
      "state": {}
     },
     "85b85d4c84174005a224eaa0fb7626a5": {
      "model_module": "bqplot",
      "model_module_version": "^0.5.18",
      "model_name": "AxisModel",
      "state": {
       "_model_module_version": "^0.5.18",
       "_view_module_version": "^0.5.18",
       "scale": "IPY_MODEL_04a8b3a93e654e359ffb73782a4005c7",
       "side": "bottom",
       "tick_values": null
      }
     },
     "860413a322344b5083d50fec50a5551b": {
      "model_module": "bqplot",
      "model_module_version": "^0.5.18",
      "model_name": "LinearScaleModel",
      "state": {
       "_model_module_version": "^0.5.18",
       "_view_module_version": "^0.5.18",
       "allow_padding": false,
       "max": 1,
       "min": 0,
       "stabilized": false
      }
     },
     "86a5a82d50434447a49f48ab14764802": {
      "model_module": "@jupyter-widgets/base",
      "model_module_version": "1.2.0",
      "model_name": "LayoutModel",
      "state": {}
     },
     "87985ec72cd94be9aadc3cb0cb0a63aa": {
      "model_module": "@jupyter-widgets/controls",
      "model_module_version": "1.5.0",
      "model_name": "VBoxModel",
      "state": {
       "children": [
        "IPY_MODEL_0cb02f5f9c124c71b8e64cdcf8810937",
        "IPY_MODEL_3d31c91dd77f421abd02bd7292ac38a3"
       ],
       "layout": "IPY_MODEL_6b4522a183294671bcc1e62424948e97"
      }
     },
     "88174f8b3b8d4e4f89dab5d3d3fe4ad1": {
      "model_module": "bqplot",
      "model_module_version": "^0.5.18",
      "model_name": "AxisModel",
      "state": {
       "_model_module_version": "^0.5.18",
       "_view_module_version": "^0.5.18",
       "label": "Cantidad de charlas",
       "orientation": "vertical",
       "scale": "IPY_MODEL_b07640f5310b42a1a41b79d132ef58e7",
       "side": "left",
       "tick_values": null
      }
     },
     "89705248c6c04ccd8785a7de13437640": {
      "model_module": "bqplot",
      "model_module_version": "^0.5.18",
      "model_name": "AxisModel",
      "state": {
       "_model_module_version": "^0.5.18",
       "_view_module_version": "^0.5.18",
       "label": "Anio",
       "scale": "IPY_MODEL_7ff5605bbba843c0ac061fc998be73c8",
       "side": "bottom",
       "tick_values": null
      }
     },
     "8b1b78a8fe574467953f64fa7cd4dff4": {
      "buffers": [
       {
        "data": "AAAAAAEAAAACAAAAAwAAAAQAAAAFAAAABgAAAAcAAAAIAAAACQAAAAoAAAALAAAADAAAAA0AAAAOAAAADwAAABAAAAARAAAAEgAAABMAAAAUAAAAFQAAABYAAAAXAAAAGAAAABkAAAAaAAAAGwAAABwAAAAdAAAAHgAAAB8AAAAgAAAAIQAAACIAAAAjAAAAJAAAACUAAAAmAAAAJwAAACgAAAApAAAAKgAAACsAAAAsAAAALQAAAC4AAAAvAAAAMAAAADEAAAAyAAAAMwAAADQAAAA1AAAANgAAADcAAAA4AAAAOQAAADoAAAA7AAAAPAAAAD0AAAA+AAAAPwAAAEAAAABBAAAAQgAAAEMAAABEAAAARQAAAEYAAABHAAAASAAAAEkAAABKAAAASwAAAEwAAABNAAAATgAAAE8AAABQAAAAUQAAAFIAAABTAAAAVAAAAFUAAABWAAAAVwAAAFgAAABZAAAAWgAAAFsAAABcAAAAXQAAAF4AAABfAAAAYAAAAGEAAABiAAAAYwAAAGQAAABlAAAAZgAAAGcAAABoAAAAaQAAAGoAAABrAAAAbAAAAG0AAABuAAAAbwAAAHAAAABxAAAAcgAAAHMAAAB0AAAAdQAAAHYAAAB3AAAAeAAAAHkAAAB6AAAAewAAAHwAAAB9AAAAfgAAAH8AAACAAAAAgQAAAIIAAACDAAAAhAAAAIUAAACGAAAAhwAAAIgAAACJAAAAigAAAIsAAACMAAAAjQAAAI4AAACPAAAAkAAAAJEAAACSAAAAkwAAAJQAAACVAAAAlgAAAJcAAACYAAAAmQAAAJoAAACbAAAAnAAAAJ0AAACeAAAAnwAAAKAAAAChAAAAogAAAKMAAACkAAAApQAAAKYAAACnAAAAqAAAAKkAAACqAAAAqwAAAKwAAACtAAAArgAAAK8AAACwAAAAsQAAALIAAACzAAAAtAAAALUAAAC2AAAAtwAAALgAAAC5AAAAugAAALsAAAC8AAAAvQAAAL4AAAC/AAAAwAAAAMEAAADCAAAAwwAAAMQAAADFAAAAxgAAAMcAAADIAAAAyQAAAMoAAADLAAAAzAAAAM0AAADOAAAAzwAAANAAAADRAAAA0gAAANMAAADUAAAA1QAAANYAAADXAAAA2AAAANkAAADaAAAA2wAAANwAAADdAAAA3gAAAN8AAADgAAAA4QAAAOIAAADjAAAA5AAAAOUAAADmAAAA5wAAAOgAAADpAAAA6gAAAOsAAADsAAAA",
        "encoding": "base64",
        "path": [
         "x",
         "value"
        ]
       },
       {
        "data": "AAAAAAAAAAAAAAAAAAAAAAEAAAABAAAAAQAAAAEAAAABAAAAAQAAAAEAAAABAAAAAQAAAAEAAAABAAAAAQAAAAEAAAABAAAAAQAAAAEAAAABAAAAAQAAAAEAAAABAAAAAQAAAAEAAAABAAAAAQAAAAEAAAABAAAAAQAAAAEAAAABAAAAAQAAAAEAAAABAAAAAQAAAAEAAAABAAAAAQAAAAEAAAABAAAAAQAAAAEAAAABAAAAAQAAAAEAAAABAAAAAQAAAAEAAAABAAAAAQAAAAEAAAABAAAAAQAAAAEAAAABAAAAAQAAAAEAAAABAAAAAQAAAAEAAAABAAAAAQAAAAEAAAABAAAAAQAAAAEAAAABAAAAAQAAAAEAAAABAAAAAQAAAAEAAAABAAAAAQAAAAEAAAABAAAAAQAAAAEAAAABAAAAAQAAAAEAAAABAAAAAQAAAAEAAAABAAAAAQAAAAEAAAABAAAAAQAAAAEAAAABAAAAAQAAAAEAAAABAAAAAQAAAAEAAAABAAAAAQAAAAEAAAABAAAAAQAAAAEAAAABAAAAAQAAAAEAAAABAAAAAQAAAAEAAAABAAAAAQAAAAEAAAABAAAAAQAAAAEAAAABAAAAAQAAAAEAAAABAAAAAQAAAAEAAAABAAAAAQAAAAEAAAABAAAAAQAAAAEAAAABAAAAAQAAAAEAAAABAAAAAQAAAAEAAAABAAAAAQAAAAEAAAABAAAAAQAAAAEAAAABAAAAAQAAAAEAAAABAAAAAQAAAAEAAAABAAAAAQAAAAEAAAABAAAAAQAAAAEAAAABAAAAAQAAAAEAAAABAAAAAQAAAAEAAAABAAAAAQAAAAEAAAABAAAAAQAAAAEAAAABAAAAAQAAAAEAAAABAAAAAQAAAAEAAAABAAAAAQAAAAEAAAABAAAAAQAAAAEAAAABAAAAAQAAAAEAAAABAAAAAQAAAAEAAAABAAAAAQAAAAEAAAABAAAAAQAAAAEAAAABAAAAAQAAAAEAAAABAAAAAQAAAAEAAAABAAAAAQAAAAEAAAABAAAAAQAAAAEAAAABAAAAAQAAAAEAAAABAAAAAQAAAAEAAAABAAAAAQAAAAEAAAABAAAAAgAAAAIAAAACAAAAAgAAAAIAAAACAAAAAgAAAAIAAAACAAAAAgAAAAIAAAACAAAAAgAAAAIAAAACAAAAAgAAAAIAAAACAAAAAgAAAAIAAAACAAAAAgAAAAIAAAACAAAAAwAAAAQAAAAFAAAA",
        "encoding": "base64",
        "path": [
         "y",
         "value"
        ]
       }
      ],
      "model_module": "bqplot",
      "model_module_version": "^0.5.18",
      "model_name": "LinesModel",
      "state": {
       "_model_module_version": "^0.5.18",
       "_view_module_version": "^0.5.18",
       "fill_colors": [],
       "labels": [
        "C1"
       ],
       "scales": {
        "x": "IPY_MODEL_11ebe474a478437480fb0635ba75c2ae",
        "y": "IPY_MODEL_a57fae4304e2432abe1f407f530ea30c"
       },
       "x": {
        "dtype": "int32",
        "shape": [
         237
        ],
        "type": null
       },
       "y": {
        "dtype": "int32",
        "shape": [
         237
        ],
        "type": null
       }
      }
     },
     "8c66ba6fdb944198a7cc2cb3d01db100": {
      "model_module": "@jupyter-widgets/base",
      "model_module_version": "1.2.0",
      "model_name": "LayoutModel",
      "state": {}
     },
     "8d140dad918b4ea0a765bb3155813581": {
      "buffers": [
       {
        "data": "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",
        "encoding": "base64",
        "path": [
         "x",
         "value"
        ]
       },
       {
        "data": "OAAAADQAAAAwAAAALgAAAB4AAAAcAAAAHAAAABwAAAAbAAAAGwAAABoAAAAYAAAAFwAAABMAAAARAAAADwAAAA4AAAANAAAADAAAAAwAAAAKAAAACgAAAAkAAAAJAAAACQAAAAgAAAAIAAAABwAAAAcAAAAGAAAABgAAAAUAAAAFAAAABQAAAAUAAAAFAAAABQAAAAUAAAAFAAAABQAAAAQAAAAEAAAABAAAAAQAAAAEAAAABAAAAAQAAAAEAAAABAAAAAQAAAAEAAAABAAAAAQAAAAEAAAABAAAAAQAAAAEAAAAAwAAAAMAAAADAAAAAwAAAAMAAAADAAAAAwAAAAMAAAADAAAAAwAAAAMAAAADAAAAAwAAAAMAAAADAAAAAwAAAAMAAAADAAAAAwAAAAMAAAADAAAAAwAAAAMAAAADAAAAAwAAAAMAAAADAAAAAwAAAAMAAAADAAAAAwAAAAMAAAADAAAAAwAAAAMAAAADAAAAAwAAAAIAAAACAAAAAgAAAAIAAAACAAAAAgAAAAIAAAACAAAAAgAAAAIAAAACAAAAAgAAAAIAAAACAAAAAgAAAAIAAAACAAAAAgAAAAIAAAACAAAAAgAAAAIAAAACAAAAAgAAAAIAAAACAAAAAgAAAAIAAAACAAAAAgAAAAIAAAACAAAAAgAAAAIAAAACAAAAAgAAAAIAAAACAAAAAgAAAAIAAAACAAAAAgAAAAIAAAACAAAAAgAAAAIAAAACAAAAAgAAAAIAAAACAAAAAgAAAAIAAAACAAAAAgAAAAIAAAACAAAAAgAAAAIAAAACAAAAAgAAAAIAAAACAAAAAgAAAAIAAAACAAAAAgAAAAIAAAACAAAAAgAAAAIAAAACAAAAAgAAAAIAAAACAAAAAgAAAAIAAAACAAAAAgAAAAIAAAACAAAAAQAAAAEAAAABAAAAAQAAAAEAAAABAAAAAQAAAAEAAAABAAAAAQAAAAEAAAABAAAAAQAAAAEAAAABAAAAAQAAAAEAAAABAAAAAQAAAAEAAAABAAAAAQAAAAEAAAABAAAAAQAAAAEAAAABAAAAAQAAAAEAAAABAAAAAQAAAAEAAAABAAAAAQAAAAEAAAABAAAAAQAAAAEAAAABAAAAAQAAAAEAAAABAAAAAQAAAAEAAAABAAAAAQAAAAEAAAABAAAAAQAAAAEAAAABAAAAAQAAAAEAAAABAAAAAQAAAAEAAAABAAAAAQAAAAEAAAABAAAAAQAAAAEAAAABAAAAAQAAAAEAAAABAAAAAQAAAAEAAAABAAAAAQAAAAEAAAABAAAAAQAAAAEAAAABAAAAAQAAAAEAAAABAAAAAQAAAAEAAAABAAAAAQAAAAEAAAABAAAAAQAAAAEAAAABAAAAAQAAAAEAAAABAAAAAQAAAAEAAAABAAAAAQAAAAEAAAABAAAAAQAAAAEAAAABAAAAAQAAAAEAAAABAAAAAQAAAAEAAAABAAAAAQAAAAEAAAABAAAAAQAAAAEAAAABAAAAAQAAAAEAAAABAAAAAQAAAAEAAAABAAAAAQAAAAEAAAABAAAAAQAAAAEAAAABAAAAAQAAAAEAAAABAAAAAQAAAAEAAAABAAAAAQAAAAEAAAABAAAAAQAAAAEAAAABAAAAAQAAAAEAAAABAAAAAQAAAAEAAAABAAAAAQAAAAEAAAABAAAAAQAAAAEAAAABAAAAAQAAAAEAAAABAAAAAQAAAAEAAAABAAAAAQAAAAEAAAABAAAAAQAAAAEAAAABAAAAAQAAAAEAAAABAAAAAQAAAAEAAAABAAAAAQAAAAEAAAABAAAAAQAAAAEAAAABAAAAAQAAAAEAAAABAAAAAQAAAAEAAAABAAAAAQAAAAEAAAABAAAAAQAAAAEAAAABAAAAAQAAAAEAAAABAAAAAQAAAAEAAAABAAAAAQAAAAEAAAABAAAAAQAAAAEAAAABAAAAAQAAAAEAAAABAAAAAQAAAAEAAAABAAAAAQAAAAEAAAABAAAAAQAAAAEAAAABAAAAAQAAAAEAAAABAAAAAQAAAAEAAAABAAAAAQAAAAEAAAABAAAAAQAAAAEAAAABAAAAAQAAAAEAAAABAAAAAQAAAAEAAAABAAAAAQAAAAEAAAABAAAAAQAAAAEAAAABAAAAAQAAAAEAAAABAAAAAQAAAAEAAAABAAAAAQAAAAEAAAABAAAAAQAAAAEAAAABAAAAAQAAAAEAAAABAAAAAQAAAAEAAAABAAAAAQAAAAEAAAABAAAAAQAAAAEAAAABAAAAAQAAAAEAAAABAAAAAQAAAAEAAAABAAAAAQAAAAEAAAABAAAAAQAAAAEAAAABAAAAAQAAAAEAAAABAAAAAQAAAAEAAAABAAAAAQAAAAEAAAABAAAAAQAAAAEAAAABAAAAAQAAAAEAAAABAAAAAQAAAAEAAAABAAAAAQAAAAEAAAABAAAAAQAAAAEAAAABAAAAAQAAAAEAAAABAAAAAQAAAAEAAAABAAAAAQAAAAEAAAABAAAAAQAAAAEAAAABAAAAAQAAAAEAAAABAAAAAQAAAAEAAAABAAAAAQAAAAEAAAABAAAAAQAAAAEAAAABAAAAAQAAAAEAAAABAAAAAQAAAAEAAAABAAAAAQAAAAEAAAABAAAAAQAAAAEAAAABAAAAAQAAAAEAAAABAAAAAQAAAAEAAAABAAAAAQAAAAEAAAABAAAAAQAAAAEAAAABAAAAAQAAAAEAAAABAAAAAQAAAAEAAAABAAAAAQAAAAEAAAABAAAAAQAAAAEAAAABAAAAAQAAAAEAAAABAAAAAQAAAAEAAAABAAAAAQAAAAEAAAABAAAAAQAAAAEAAAABAAAAAQAAAAEAAAABAAAAAQAAAAEAAAABAAAAAQAAAAEAAAABAAAAAQAAAAEAAAABAAAAAQAAAAEAAAABAAAAAQAAAAEAAAABAAAAAQAAAAEAAAABAAAAAQAAAAEAAAABAAAAAQAAAAEAAAABAAAAAQAAAAEAAAABAAAAAQAAAAEAAAABAAAAAQAAAAEAAAABAAAAAQAAAAEAAAABAAAAAQAAAAEAAAABAAAAAQAAAAEAAAABAAAAAQAAAAEAAAABAAAAAQAAAAEAAAABAAAAAQAAAAEAAAABAAAAAQAAAAEAAAABAAAAAQAAAAEAAAABAAAAAQAAAAEAAAABAAAAAQAAAAEAAAABAAAAAQAAAAEAAAABAAAAAQAAAAEAAAABAAAAAQAAAAEAAAABAAAAAQAAAAEAAAABAAAAAQAAAAEAAAABAAAAAQAAAAEAAAABAAAAAQAAAAEAAAABAAAAAQAAAAEAAAABAAAAAQAAAAEAAAABAAAAAQAAAAEAAAABAAAAAQAAAAEAAAABAAAAAQAAAAEAAAABAAAAAQAAAAEAAAABAAAAAQAAAAEAAAABAAAAAQAAAAEAAAABAAAAAQAAAAEAAAABAAAAAQAAAAEAAAABAAAAAQAAAAEAAAABAAAAAQAAAAEAAAABAAAAAQAAAAEAAAABAAAAAQAAAAEAAAABAAAAAQAAAAEAAAABAAAAAQAAAAEAAAABAAAAAQAAAAEAAAABAAAAAQAAAAEAAAABAAAAAQAAAAEAAAABAAAAAQAAAAEAAAABAAAAAQAAAAEAAAABAAAAAQAAAAEAAAABAAAAAQAAAAEAAAABAAAAAQAAAAEAAAABAAAAAQAAAAEAAAABAAAAAQAAAAEAAAABAAAAAQAAAAEAAAABAAAAAQAAAAEAAAABAAAAAQAAAAEAAAABAAAAAQAAAAEAAAABAAAAAQAAAAEAAAA=",
        "encoding": "base64",
        "path": [
         "y",
         "value"
        ]
       }
      ],
      "model_module": "bqplot",
      "model_module_version": "^0.5.18",
      "model_name": "ScatterModel",
      "state": {
       "_model_module_version": "^0.5.18",
       "_view_module_version": "^0.5.18",
       "colors": [
        "dodgerblue"
       ],
       "default_opacities": {
        "dtype": "float64",
        "shape": [
         1
        ],
        "type": null,
        "value": {}
       },
       "label_display_horizontal_offset": 0,
       "label_display_vertical_offset": 0,
       "names": null,
       "scales": {
        "x": "IPY_MODEL_69e9b2ffee294a3680b89c0bff12ad83",
        "y": "IPY_MODEL_c5a1609d5e6348e7b3642acb67deb93a"
       },
       "scales_metadata": {
        "color": {
         "dimension": "color"
        },
        "opacity": {
         "dimension": "opacity"
        },
        "rotation": {
         "dimension": "rotation"
        },
        "size": {
         "dimension": "size"
        },
        "skew": {
         "dimension": "skew"
        },
        "x": {
         "dimension": "x",
         "orientation": "horizontal"
        },
        "y": {
         "dimension": "y",
         "orientation": "vertical"
        }
       },
       "x": {
        "dtype": "int32",
        "shape": [
         716
        ],
        "type": null
       },
       "y": {
        "dtype": "int32",
        "shape": [
         716
        ],
        "type": null
       }
      }
     },
     "8d4febab98ea4aa2871231c53d3317df": {
      "model_module": "bqplot",
      "model_module_version": "^0.5.18",
      "model_name": "LinearScaleModel",
      "state": {
       "_model_module_version": "^0.5.18",
       "_view_module_version": "^0.5.18",
       "stabilized": false
      }
     },
     "8e28eb7e1eb8489ea5a3508e0e0899ac": {
      "model_module": "@jupyter-widgets/base",
      "model_module_version": "1.2.0",
      "model_name": "LayoutModel",
      "state": {}
     },
     "8f577726105448038392515e3bbc4a22": {
      "model_module": "@jupyter-widgets/base",
      "model_module_version": "1.2.0",
      "model_name": "LayoutModel",
      "state": {}
     },
     "9188559680cb4768ab1e2a019ad8782b": {
      "model_module": "@jupyter-widgets/controls",
      "model_module_version": "1.5.0",
      "model_name": "VBoxModel",
      "state": {
       "children": [
        "IPY_MODEL_e9e3ed5a06fc4900b6a66d342b8c354c",
        "IPY_MODEL_564abc66db934a1686828c4621e87c17"
       ],
       "layout": "IPY_MODEL_b2da8017591f40a98ee199b72645dbae"
      }
     },
     "92349391eae04087939fe20dd3f95890": {
      "model_module": "bqplot",
      "model_module_version": "^0.5.18",
      "model_name": "LinearScaleModel",
      "state": {
       "_model_module_version": "^0.5.18",
       "_view_module_version": "^0.5.18",
       "allow_padding": false,
       "max": 1,
       "min": 0,
       "stabilized": false
      }
     },
     "95bb971893ba4180afdb697c452e4e42": {
      "model_module": "bqplot",
      "model_module_version": "^0.5.18",
      "model_name": "FigureModel",
      "state": {
       "_model_module_version": "^0.5.18",
       "_view_module_version": "^0.5.18",
       "axes": [
        "IPY_MODEL_d327919051f14358af3ffd00091abd64",
        "IPY_MODEL_0cfca2356cdf4b489726c221f17d7f22"
       ],
       "layout": "IPY_MODEL_27ba12003fde488e9ba041609510d216",
       "marks": [
        "IPY_MODEL_4e7796e5013a4ec9b7694d29ac7307b2"
       ],
       "scale_x": "IPY_MODEL_f8002e7355234bf59c02b7e501fa1ec8",
       "scale_y": "IPY_MODEL_b1a1151b78d1485ba560f836259c3b45"
      }
     },
     "95f7ec0d4aeb4b538d5438a22e139638": {
      "model_module": "bqplot",
      "model_module_version": "^0.5.18",
      "model_name": "LinearScaleModel",
      "state": {
       "_model_module_version": "^0.5.18",
       "_view_module_version": "^0.5.18",
       "allow_padding": false,
       "max": 1,
       "min": 0,
       "stabilized": false
      }
     },
     "a017aadf807e43398daec229f68a6696": {
      "buffers": [
       {
        "data": "CwAAAAoAAAAJAAAADAAAAA==",
        "encoding": "base64",
        "path": [
         "x",
         "value"
        ]
       },
       {
        "data": "tAAAABwAAAAaAAAAAwAAAA==",
        "encoding": "base64",
        "path": [
         "y",
         "value"
        ]
       }
      ],
      "model_module": "bqplot",
      "model_module_version": "^0.5.18",
      "model_name": "ScatterModel",
      "state": {
       "_model_module_version": "^0.5.18",
       "_view_module_version": "^0.5.18",
       "default_opacities": {
        "dtype": "float64",
        "shape": [
         1
        ],
        "type": null,
        "value": {}
       },
       "label_display_horizontal_offset": 0,
       "label_display_vertical_offset": 0,
       "names": null,
       "scales": {
        "x": "IPY_MODEL_be39273d80104fa78340f0e6938d46b9",
        "y": "IPY_MODEL_b07640f5310b42a1a41b79d132ef58e7"
       },
       "scales_metadata": {
        "color": {
         "dimension": "color"
        },
        "opacity": {
         "dimension": "opacity"
        },
        "rotation": {
         "dimension": "rotation"
        },
        "size": {
         "dimension": "size"
        },
        "skew": {
         "dimension": "skew"
        },
        "x": {
         "dimension": "x",
         "orientation": "horizontal"
        },
        "y": {
         "dimension": "y",
         "orientation": "vertical"
        }
       },
       "x": {
        "dtype": "int32",
        "shape": [
         4
        ],
        "type": null
       },
       "y": {
        "dtype": "int32",
        "shape": [
         4
        ],
        "type": null
       }
      }
     },
     "a1d8df0149024407aebc79fd5e760d9f": {
      "model_module": "bqplot",
      "model_module_version": "^0.5.18",
      "model_name": "OrdinalScaleModel",
      "state": {
       "_model_module_version": "^0.5.18",
       "_view_module_version": "^0.5.18"
      }
     },
     "a3c86358caa24c4ab0ed3dd57319ce97": {
      "model_module": "@jupyter-widgets/controls",
      "model_module_version": "1.5.0",
      "model_name": "VBoxModel",
      "state": {
       "children": [
        "IPY_MODEL_5d92742842714bc486bb584c22478ffa",
        "IPY_MODEL_52257e9706e1460ba676ab9440b7c7a0"
       ],
       "layout": "IPY_MODEL_2055e1dce16747808e050829d0c7d016"
      }
     },
     "a57fae4304e2432abe1f407f530ea30c": {
      "model_module": "bqplot",
      "model_module_version": "^0.5.18",
      "model_name": "LinearScaleModel",
      "state": {
       "_model_module_version": "^0.5.18",
       "_view_module_version": "^0.5.18",
       "stabilized": false
      }
     },
     "a5dd2d6630de414ab54dabc614cda161": {
      "model_module": "bqplot",
      "model_module_version": "^0.5.18",
      "model_name": "AxisModel",
      "state": {
       "_model_module_version": "^0.5.18",
       "_view_module_version": "^0.5.18",
       "orientation": "vertical",
       "scale": "IPY_MODEL_a1d8df0149024407aebc79fd5e760d9f",
       "side": "left",
       "tick_values": null
      }
     },
     "adb1584147724d79b8104476615d2a39": {
      "model_module": "bqplot",
      "model_module_version": "^0.5.18",
      "model_name": "LinearScaleModel",
      "state": {
       "_model_module_version": "^0.5.18",
       "_view_module_version": "^0.5.18",
       "stabilized": false
      }
     },
     "b07640f5310b42a1a41b79d132ef58e7": {
      "model_module": "bqplot",
      "model_module_version": "^0.5.18",
      "model_name": "LinearScaleModel",
      "state": {
       "_model_module_version": "^0.5.18",
       "_view_module_version": "^0.5.18",
       "stabilized": false
      }
     },
     "b1a1151b78d1485ba560f836259c3b45": {
      "model_module": "bqplot",
      "model_module_version": "^0.5.18",
      "model_name": "LinearScaleModel",
      "state": {
       "_model_module_version": "^0.5.18",
       "_view_module_version": "^0.5.18",
       "allow_padding": false,
       "max": 1,
       "min": 0,
       "stabilized": false
      }
     },
     "b22e847f2d4047b6964eac2a4ce1b093": {
      "model_module": "bqplot",
      "model_module_version": "^0.5.18",
      "model_name": "LinearScaleModel",
      "state": {
       "_model_module_version": "^0.5.18",
       "_view_module_version": "^0.5.18",
       "allow_padding": false,
       "max": 1,
       "min": 0,
       "stabilized": false
      }
     },
     "b25a8256c5e44638946c389cbe800808": {
      "model_module": "bqplot",
      "model_module_version": "^0.5.18",
      "model_name": "AxisModel",
      "state": {
       "_model_module_version": "^0.5.18",
       "_view_module_version": "^0.5.18",
       "label": "Anio",
       "scale": "IPY_MODEL_be39273d80104fa78340f0e6938d46b9",
       "side": "bottom",
       "tick_values": null
      }
     },
     "b2a3f8aa0acf4d3cbb05a20a9a4ae904": {
      "model_module": "bqplot",
      "model_module_version": "^0.5.18",
      "model_name": "AxisModel",
      "state": {
       "_model_module_version": "^0.5.18",
       "_view_module_version": "^0.5.18",
       "scale": "IPY_MODEL_69e9b2ffee294a3680b89c0bff12ad83",
       "side": "bottom",
       "tick_values": null
      }
     },
     "b2aa47008ff74f1b83c73aadd80c4dff": {
      "model_module": "bqplot",
      "model_module_version": "^0.5.18",
      "model_name": "FigureModel",
      "state": {
       "_model_module_version": "^0.5.18",
       "_view_module_version": "^0.5.18",
       "axes": [
        "IPY_MODEL_0e56febb42aa427483ce1892ee46f1a4",
        "IPY_MODEL_1ed774eed95f4ca89d6726088a567626"
       ],
       "layout": "IPY_MODEL_7d6fe2809b064f268242ebd1553a51e8",
       "marks": [
        "IPY_MODEL_1cb57b2c886a4633a916aba3a0cae755"
       ],
       "scale_x": "IPY_MODEL_d396a5053d4c4be8baa1968b552e2960",
       "scale_y": "IPY_MODEL_24b288d28e944da3a67df1aacd38a898"
      }
     },
     "b2da8017591f40a98ee199b72645dbae": {
      "model_module": "@jupyter-widgets/base",
      "model_module_version": "1.2.0",
      "model_name": "LayoutModel",
      "state": {}
     },
     "b41d5d25d4ef4c4d96d593109f9e5504": {
      "model_module": "bqplot",
      "model_module_version": "^0.5.18",
      "model_name": "ToolbarModel",
      "state": {
       "_model_module_version": "^0.5.18",
       "_view_module_version": "^0.5.18",
       "figure": "IPY_MODEL_d8361e86f0d143babdc2273c5050a492",
       "layout": "IPY_MODEL_eda0299718ea4d3197d52a887ff43417"
      }
     },
     "b665f6dbd3514ee080fc5be74c9f6e81": {
      "model_module": "@jupyter-widgets/controls",
      "model_module_version": "1.5.0",
      "model_name": "VBoxModel",
      "state": {
       "children": [
        "IPY_MODEL_2af4f7f90cfc483fa7a8c0b53886e338",
        "IPY_MODEL_675be3f6775b4769a9b121fdb84e2f8d"
       ],
       "layout": "IPY_MODEL_c0260291adf54a74997c1ab2022a6d84"
      }
     },
     "b818811af4d246b6bb22d89429e4c6af": {
      "model_module": "bqplot",
      "model_module_version": "^0.5.18",
      "model_name": "TooltipModel",
      "state": {
       "_model_module_version": "^0.5.18",
       "_view_module_version": "^0.5.18",
       "fields": [
        "x",
        "y",
        "name"
       ],
       "formats": [
        "",
        ".2f",
        ""
       ],
       "layout": "IPY_MODEL_450fb69603064e4caf66e793275f7954"
      }
     },
     "b8649f2d84e14f0ba628d0622cf4605e": {
      "model_module": "bqplot",
      "model_module_version": "^0.5.18",
      "model_name": "AxisModel",
      "state": {
       "_model_module_version": "^0.5.18",
       "_view_module_version": "^0.5.18",
       "orientation": "vertical",
       "scale": "IPY_MODEL_8d4febab98ea4aa2871231c53d3317df",
       "side": "left",
       "tick_values": null
      }
     },
     "b893239e3e6c4e6fb2716a272d42414d": {
      "model_module": "bqplot",
      "model_module_version": "^0.5.18",
      "model_name": "AxisModel",
      "state": {
       "_model_module_version": "^0.5.18",
       "_view_module_version": "^0.5.18",
       "label": "Cantidad de charlas",
       "orientation": "vertical",
       "scale": "IPY_MODEL_adb1584147724d79b8104476615d2a39",
       "side": "left",
       "tick_values": null
      }
     },
     "bbebdb9f280c47ebb2e511e88f5cebcc": {
      "model_module": "bqplot",
      "model_module_version": "^0.5.18",
      "model_name": "LinearScaleModel",
      "state": {
       "_model_module_version": "^0.5.18",
       "_view_module_version": "^0.5.18",
       "allow_padding": false,
       "max": 1,
       "min": 0,
       "stabilized": false
      }
     },
     "be39273d80104fa78340f0e6938d46b9": {
      "model_module": "bqplot",
      "model_module_version": "^0.5.18",
      "model_name": "LinearScaleModel",
      "state": {
       "_model_module_version": "^0.5.18",
       "_view_module_version": "^0.5.18",
       "stabilized": false
      }
     },
     "c0260291adf54a74997c1ab2022a6d84": {
      "model_module": "@jupyter-widgets/base",
      "model_module_version": "1.2.0",
      "model_name": "LayoutModel",
      "state": {}
     },
     "c5a1609d5e6348e7b3642acb67deb93a": {
      "model_module": "bqplot",
      "model_module_version": "^0.5.18",
      "model_name": "LinearScaleModel",
      "state": {
       "_model_module_version": "^0.5.18",
       "_view_module_version": "^0.5.18",
       "stabilized": false
      }
     },
     "c9cda3a5c9774039b5af79e02125d3a8": {
      "model_module": "bqplot",
      "model_module_version": "^0.5.18",
      "model_name": "LinearScaleModel",
      "state": {
       "_model_module_version": "^0.5.18",
       "_view_module_version": "^0.5.18",
       "allow_padding": false,
       "max": 1,
       "min": 0,
       "stabilized": false
      }
     },
     "ca93b190938f4151a5188059a5a199ce": {
      "model_module": "bqplot",
      "model_module_version": "^0.5.18",
      "model_name": "AxisModel",
      "state": {
       "_model_module_version": "^0.5.18",
       "_view_module_version": "^0.5.18",
       "scale": "IPY_MODEL_11ebe474a478437480fb0635ba75c2ae",
       "side": "bottom",
       "tick_values": null
      }
     },
     "cdc68eede9614f3580d0f56e1be875c1": {
      "model_module": "bqplot",
      "model_module_version": "^0.5.18",
      "model_name": "FigureModel",
      "state": {
       "_model_module_version": "^0.5.18",
       "_view_module_version": "^0.5.18",
       "axes": [
        "IPY_MODEL_6b8a807f91404013a9debd654a680ccc",
        "IPY_MODEL_2aa9aa1cea0f47f696a5093863bd4a8f"
       ],
       "layout": "IPY_MODEL_dcfd0f512811439dbcc8e69ea6bda78f",
       "marks": [
        "IPY_MODEL_153f82bf58514ec3aa62fc225f63f96c"
       ],
       "scale_x": "IPY_MODEL_4523069a07f148718c0873ccb4899e70",
       "scale_y": "IPY_MODEL_92349391eae04087939fe20dd3f95890"
      }
     },
     "d213caf2a4504bc88669321fef308ee9": {
      "model_module": "bqplot",
      "model_module_version": "^0.5.18",
      "model_name": "AxisModel",
      "state": {
       "_model_module_version": "^0.5.18",
       "_view_module_version": "^0.5.18",
       "orientation": "vertical",
       "scale": "IPY_MODEL_a57fae4304e2432abe1f407f530ea30c",
       "side": "left",
       "tick_values": null
      }
     },
     "d327919051f14358af3ffd00091abd64": {
      "model_module": "bqplot",
      "model_module_version": "^0.5.18",
      "model_name": "AxisModel",
      "state": {
       "_model_module_version": "^0.5.18",
       "_view_module_version": "^0.5.18",
       "scale": "IPY_MODEL_65eaaadaee7147339d7a21205803f3b3",
       "side": "bottom",
       "tick_values": null
      }
     },
     "d396a5053d4c4be8baa1968b552e2960": {
      "model_module": "bqplot",
      "model_module_version": "^0.5.18",
      "model_name": "LinearScaleModel",
      "state": {
       "_model_module_version": "^0.5.18",
       "_view_module_version": "^0.5.18",
       "allow_padding": false,
       "max": 1,
       "min": 0,
       "stabilized": false
      }
     },
     "d51e3b46173444bd9f2b4f235b496ecc": {
      "model_module": "@jupyter-widgets/controls",
      "model_module_version": "1.5.0",
      "model_name": "VBoxModel",
      "state": {
       "children": [
        "IPY_MODEL_da44c58871974b4fb55e6df40f43da64",
        "IPY_MODEL_5639a4418ce444c7a460534f85475129"
       ],
       "layout": "IPY_MODEL_2957189331234b2fbc37d6d8eb20f166"
      }
     },
     "d541f0875974466b9407bc908caaf70f": {
      "model_module": "@jupyter-widgets/base",
      "model_module_version": "1.2.0",
      "model_name": "LayoutModel",
      "state": {}
     },
     "d8361e86f0d143babdc2273c5050a492": {
      "model_module": "bqplot",
      "model_module_version": "^0.5.18",
      "model_name": "FigureModel",
      "state": {
       "_model_module_version": "^0.5.18",
       "_view_module_version": "^0.5.18",
       "axes": [
        "IPY_MODEL_89705248c6c04ccd8785a7de13437640",
        "IPY_MODEL_4beb6e2e56c148e297fac31580290a94"
       ],
       "layout": "IPY_MODEL_16b252d11f4b46caa798f6386b9ff8e1",
       "marks": [
        "IPY_MODEL_4a8936517111495981f9dd57f46ff2aa"
       ],
       "scale_x": "IPY_MODEL_f4f13865d85446b1890eadceedca312d",
       "scale_y": "IPY_MODEL_b22e847f2d4047b6964eac2a4ce1b093"
      }
     },
     "d8e49fee16914d9c83876da0a2618019": {
      "model_module": "@jupyter-widgets/base",
      "model_module_version": "1.2.0",
      "model_name": "LayoutModel",
      "state": {}
     },
     "d9f82f13e20d4eb3affb067ff3e94b8c": {
      "model_module": "bqplot",
      "model_module_version": "^0.5.18",
      "model_name": "TooltipModel",
      "state": {
       "_model_module_version": "^0.5.18",
       "_view_module_version": "^0.5.18",
       "fields": [
        "x",
        "y",
        "name"
       ],
       "formats": [
        "",
        ".2f",
        ""
       ],
       "layout": "IPY_MODEL_7791bfc618a64789b26251b9bc5228a7"
      }
     },
     "da1a2bb3470e4c9b9b9f59c9a7cff912": {
      "model_module": "@jupyter-widgets/base",
      "model_module_version": "1.2.0",
      "model_name": "LayoutModel",
      "state": {}
     },
     "da44c58871974b4fb55e6df40f43da64": {
      "model_module": "bqplot",
      "model_module_version": "^0.5.18",
      "model_name": "FigureModel",
      "state": {
       "_model_module_version": "^0.5.18",
       "_view_module_version": "^0.5.18",
       "axes": [
        "IPY_MODEL_361806c6a4de40659ac9344409824e4a",
        "IPY_MODEL_b893239e3e6c4e6fb2716a272d42414d"
       ],
       "layout": "IPY_MODEL_49dc45612192441f97a1931e8c3a7a80",
       "marks": [
        "IPY_MODEL_27bb2da26daf4fadb0d484d7a836154d"
       ],
       "scale_x": "IPY_MODEL_5b12e92c8e6a4b669ecd75e224453937",
       "scale_y": "IPY_MODEL_385202fd91ed4042bf67b0c36e8131a3"
      }
     },
     "dcfd0f512811439dbcc8e69ea6bda78f": {
      "model_module": "@jupyter-widgets/base",
      "model_module_version": "1.2.0",
      "model_name": "LayoutModel",
      "state": {}
     },
     "dda9402376c143c7a37ff19b99151ca5": {
      "model_module": "bqplot",
      "model_module_version": "^0.5.18",
      "model_name": "TooltipModel",
      "state": {
       "_model_module_version": "^0.5.18",
       "_view_module_version": "^0.5.18",
       "fields": [
        "x",
        "y",
        "name"
       ],
       "formats": [
        "",
        ".2f",
        ""
       ],
       "layout": "IPY_MODEL_27148e2ebc9d4bc59f67012345b8bc32"
      }
     },
     "e0c555e4cd1e4d28b21cd604f5851f60": {
      "model_module": "@jupyter-widgets/base",
      "model_module_version": "1.2.0",
      "model_name": "LayoutModel",
      "state": {}
     },
     "e6e29cd0004d455b878e6a31f0d16a3f": {
      "model_module": "bqplot",
      "model_module_version": "^0.5.18",
      "model_name": "ToolbarModel",
      "state": {
       "_model_module_version": "^0.5.18",
       "_view_module_version": "^0.5.18",
       "figure": "IPY_MODEL_95bb971893ba4180afdb697c452e4e42",
       "layout": "IPY_MODEL_f7c643f55c6d4d56af766a56a71bd51e"
      }
     },
     "e951d762bdc34f60ae0f37aeb5ccffff": {
      "model_module": "bqplot",
      "model_module_version": "^0.5.18",
      "model_name": "FigureModel",
      "state": {
       "_model_module_version": "^0.5.18",
       "_view_module_version": "^0.5.18",
       "axes": [
        "IPY_MODEL_ca93b190938f4151a5188059a5a199ce",
        "IPY_MODEL_d213caf2a4504bc88669321fef308ee9"
       ],
       "layout": "IPY_MODEL_d541f0875974466b9407bc908caaf70f",
       "marks": [
        "IPY_MODEL_8b1b78a8fe574467953f64fa7cd4dff4",
        "IPY_MODEL_019a461e63d246f4af698f79c5517334"
       ],
       "scale_x": "IPY_MODEL_c9cda3a5c9774039b5af79e02125d3a8",
       "scale_y": "IPY_MODEL_bbebdb9f280c47ebb2e511e88f5cebcc"
      }
     },
     "e97983d4da0c48c692e8a3e4cd32632b": {
      "model_module": "@jupyter-widgets/controls",
      "model_module_version": "1.5.0",
      "model_name": "VBoxModel",
      "state": {
       "children": [
        "IPY_MODEL_b2aa47008ff74f1b83c73aadd80c4dff",
        "IPY_MODEL_50c0fe509ecd487cb684ea8932b1801c"
       ],
       "layout": "IPY_MODEL_185856aab11147d0a605065e68575b38"
      }
     },
     "e9e3ed5a06fc4900b6a66d342b8c354c": {
      "model_module": "bqplot",
      "model_module_version": "^0.5.18",
      "model_name": "FigureModel",
      "state": {
       "_model_module_version": "^0.5.18",
       "_view_module_version": "^0.5.18",
       "axes": [
        "IPY_MODEL_a5dd2d6630de414ab54dabc614cda161",
        "IPY_MODEL_85b85d4c84174005a224eaa0fb7626a5"
       ],
       "layout": "IPY_MODEL_e0c555e4cd1e4d28b21cd604f5851f60",
       "marks": [
        "IPY_MODEL_ea9d64c7b79a44bdb8e0dc3f934d4c5c"
       ],
       "scale_x": "IPY_MODEL_95f7ec0d4aeb4b538d5438a22e139638",
       "scale_y": "IPY_MODEL_793ae516375e45f2914e5d68e7b0795f"
      }
     },
     "ea9d64c7b79a44bdb8e0dc3f934d4c5c": {
      "buffers": [
       {
        "data": "BwAAAAUAAAAFAAAABQAAAAQAAAAEAAAAAwAAAAMAAAADAAAAAwAAAAMAAAADAAAAAwAAAAIAAAACAAAAAgAAAAIAAAACAAAAAgAAAAIAAAACAAAAAgAAAAIAAAACAAAAAgAAAAIAAAACAAAAAgAAAAIAAAACAAAAAgAAAAIAAAACAAAAAgAAAAIAAAACAAAA",
        "encoding": "base64",
        "path": [
         "y",
         "value"
        ]
       }
      ],
      "model_module": "bqplot",
      "model_module_version": "^0.5.18",
      "model_name": "BarsModel",
      "state": {
       "_model_module_version": "^0.5.18",
       "_view_module_version": "^0.5.18",
       "label_font_style": {},
       "orientation": "horizontal",
       "scales": {
        "x": "IPY_MODEL_a1d8df0149024407aebc79fd5e760d9f",
        "y": "IPY_MODEL_04a8b3a93e654e359ffb73782a4005c7"
       },
       "scales_metadata": {
        "x": {
         "dimension": "x",
         "orientation": "vertical"
        },
        "y": {
         "dimension": "y",
         "orientation": "horizontal"
        }
       },
       "x": [
        "Facundo Batista",
        "Juan Pedro Fisanotti",
        "Roberto Alsina",
        "Claudio Freire",
        "Hugo Ruscitti",
        "Damián Avila",
        "Gabriel Genellina",
        "Martin Alderete",
        "Alejandro J. Cura",
        "Diego Sarmentero",
        "Rafael Carrascosa",
        "Various Speakers",
        "Natalia Bidart",
        "Javier Mansilla",
        "Manuel Quiñones",
        "Nicolás Demarchi",
        "Luciano Rossi",
        "Sebastián Marró",
        "Daniel F. Moisset",
        "Manuel Kaufmann",
        "Martín Gaitán",
        "Sofía Denner",
        "Brett Cannon",
        "Berenice Larsen Pereyra",
        "Massimo Di Pierro",
        "Matías Bordese",
        "Craig Kerstiens",
        "Ricardo Kirkner",
        "Christophe Pettus",
        "Emiliano Dalla Verde Marcozzi",
        "Pedro Ignacio Guridi",
        "Diego Cañizares",
        "Andrea Gavana",
        "Ariel Rossanigo",
        "Felipe Lerena",
        "Alejandro Cura"
       ],
       "y": {
        "dtype": "int32",
        "shape": [
         36
        ],
        "type": null
       }
      }
     },
     "eda0299718ea4d3197d52a887ff43417": {
      "model_module": "@jupyter-widgets/base",
      "model_module_version": "1.2.0",
      "model_name": "LayoutModel",
      "state": {}
     },
     "f0fb901793c14d3db92af396d1790708": {
      "model_module": "bqplot",
      "model_module_version": "^0.5.18",
      "model_name": "TooltipModel",
      "state": {
       "_model_module_version": "^0.5.18",
       "_view_module_version": "^0.5.18",
       "fields": [
        "x",
        "y",
        "name"
       ],
       "formats": [
        "",
        ".2f",
        ""
       ],
       "layout": "IPY_MODEL_8f577726105448038392515e3bbc4a22"
      }
     },
     "f4f13865d85446b1890eadceedca312d": {
      "model_module": "bqplot",
      "model_module_version": "^0.5.18",
      "model_name": "LinearScaleModel",
      "state": {
       "_model_module_version": "^0.5.18",
       "_view_module_version": "^0.5.18",
       "allow_padding": false,
       "max": 1,
       "min": 0,
       "stabilized": false
      }
     },
     "f6c7a181e1a54f2e830e46f59e8627eb": {
      "model_module": "@jupyter-widgets/base",
      "model_module_version": "1.2.0",
      "model_name": "LayoutModel",
      "state": {}
     },
     "f7c643f55c6d4d56af766a56a71bd51e": {
      "model_module": "@jupyter-widgets/base",
      "model_module_version": "1.2.0",
      "model_name": "LayoutModel",
      "state": {}
     },
     "f8002e7355234bf59c02b7e501fa1ec8": {
      "model_module": "bqplot",
      "model_module_version": "^0.5.18",
      "model_name": "LinearScaleModel",
      "state": {
       "_model_module_version": "^0.5.18",
       "_view_module_version": "^0.5.18",
       "allow_padding": false,
       "max": 1,
       "min": 0,
       "stabilized": false
      }
     },
     "f971e78afb1e4d839e2172163255ec8f": {
      "model_module": "bqplot",
      "model_module_version": "^0.5.18",
      "model_name": "LinearScaleModel",
      "state": {
       "_model_module_version": "^0.5.18",
       "_view_module_version": "^0.5.18",
       "allow_padding": false,
       "max": 1,
       "min": 0,
       "stabilized": false
      }
     },
     "fa8161a3f0074c579ff6480ce7c66eaa": {
      "model_module": "bqplot",
      "model_module_version": "^0.5.18",
      "model_name": "LinearScaleModel",
      "state": {
       "_model_module_version": "^0.5.18",
       "_view_module_version": "^0.5.18",
       "stabilized": false
      }
     },
     "fd5e45a0af6948f1ab12823482caebc3": {
      "model_module": "bqplot",
      "model_module_version": "^0.5.18",
      "model_name": "LinearScaleModel",
      "state": {
       "_model_module_version": "^0.5.18",
       "_view_module_version": "^0.5.18",
       "stabilized": false
      }
     }
    },
    "version_major": 2,
    "version_minor": 0
   }
  }
 },
 "nbformat": 4,
 "nbformat_minor": 4
}

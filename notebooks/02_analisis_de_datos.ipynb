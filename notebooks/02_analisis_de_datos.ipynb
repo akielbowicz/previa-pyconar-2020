{
 "cells": [
  {
   "cell_type": "markdown",
   "metadata": {},
   "source": [
    "# Como realizar el analisis de datos en Jupyter\n",
    "\n",
    "[PyCon Ar en PyVideo.org](https://pyvideo.org/events/pycon-ar-2011.html)"
   ]
  },
  {
   "cell_type": "code",
   "execution_count": 1,
   "metadata": {},
   "outputs": [],
   "source": [
    "import pathlib"
   ]
  },
  {
   "cell_type": "code",
   "execution_count": 2,
   "metadata": {},
   "outputs": [],
   "source": [
    "carpeta = pathlib.Path('../datos')"
   ]
  },
  {
   "cell_type": "code",
   "execution_count": 8,
   "metadata": {},
   "outputs": [],
   "source": [
    "archivos = [ elemento for elemento in carpeta.glob('*/videos/*.json') ]"
   ]
  },
  {
   "cell_type": "code",
   "execution_count": 9,
   "metadata": {},
   "outputs": [
    {
     "data": {
      "text/plain": [
       "237"
      ]
     },
     "execution_count": 9,
     "metadata": {},
     "output_type": "execute_result"
    }
   ],
   "source": [
    "len(archivos)"
   ]
  },
  {
   "cell_type": "code",
   "execution_count": 10,
   "metadata": {},
   "outputs": [],
   "source": [
    "import pandas"
   ]
  },
  {
   "cell_type": "code",
   "execution_count": 17,
   "metadata": {},
   "outputs": [],
   "source": [
    "series = [ pandas.read_json(archivo, typ='series') for archivo in archivos ]"
   ]
  },
  {
   "cell_type": "code",
   "execution_count": 21,
   "metadata": {},
   "outputs": [],
   "source": [
    "df = pandas.concat(series, axis=1).T"
   ]
  },
  {
   "cell_type": "code",
   "execution_count": 24,
   "metadata": {},
   "outputs": [
    {
     "data": {
      "text/plain": [
       "0            Alan Runyan\n",
       "1         Alejandro Cura\n",
       "2         Alejandro Cura\n",
       "3      Alejandro Pereira\n",
       "3        Silvestre Huens\n",
       "             ...        \n",
       "233        Carol Willing\n",
       "234          Matias Lang\n",
       "234     Leonardo Lazzaro\n",
       "235      Javier Mansilla\n",
       "236       Claudio Freire\n",
       "Name: speakers, Length: 270, dtype: object"
      ]
     },
     "execution_count": 24,
     "metadata": {},
     "output_type": "execute_result"
    }
   ],
   "source": [
    "df.speakers.explode()"
   ]
  },
  {
   "cell_type": "code",
   "execution_count": 25,
   "metadata": {},
   "outputs": [],
   "source": [
    "import bqplot.pyplot as plt\n",
    "pandas.set_option('plotting.backend', 'bqplot.pyplot')"
   ]
  },
  {
   "cell_type": "code",
   "execution_count": 35,
   "metadata": {},
   "outputs": [
    {
     "data": {
      "application/vnd.jupyter.widget-view+json": {
       "model_id": "6da05b61eed046b78a6986f3735ff331",
       "version_major": 2,
       "version_minor": 0
      },
      "text/plain": [
       "VBox(children=(Figure(axes=[Axis(scale=LinearScale(), side='bottom'), Axis(orientation='vertical', scale=Linea…"
      ]
     },
     "metadata": {},
     "output_type": "display_data"
    }
   ],
   "source": [
    "df.speakers.apply(len).sort_values().plot()\n",
    "plt.show()"
   ]
  },
  {
   "cell_type": "code",
   "execution_count": 36,
   "metadata": {},
   "outputs": [],
   "source": [
    "import bqplot"
   ]
  },
  {
   "cell_type": "code",
   "execution_count": 37,
   "metadata": {},
   "outputs": [
    {
     "data": {
      "application/vnd.jupyter.widget-view+json": {
       "model_id": "9188559680cb4768ab1e2a019ad8782b",
       "version_major": 2,
       "version_minor": 0
      },
      "text/plain": [
       "VBox(children=(Figure(axes=[Axis(orientation='vertical', scale=OrdinalScale()), Axis(scale=LinearScale())], fi…"
      ]
     },
     "metadata": {},
     "output_type": "display_data"
    }
   ],
   "source": [
    "x = df.speakers.explode().value_counts()\n",
    "x = x[x.between(2,10)]\n",
    "\n",
    "plt.figure()\n",
    "plt.scales(scales={'x':bqplot.OrdinalScale(),'y':plt.LinearScale()})\n",
    "bar = plt.bar(x.index,x.values,orientation='horizontal')\n",
    "plt.show()"
   ]
  },
  {
   "cell_type": "code",
   "execution_count": null,
   "metadata": {},
   "outputs": [],
   "source": []
  }
 ],
 "metadata": {
  "kernelspec": {
   "display_name": "Python 3",
   "language": "python",
   "name": "python3"
  },
  "language_info": {
   "codemirror_mode": {
    "name": "ipython",
    "version": 3
   },
   "file_extension": ".py",
   "mimetype": "text/x-python",
   "name": "python",
   "nbconvert_exporter": "python",
   "pygments_lexer": "ipython3",
   "version": "3.8.6"
  },
  "widgets": {
   "application/vnd.jupyter.widget-state+json": {
    "state": {
     "019a461e63d246f4af698f79c5517334": {
      "buffers": [
       {
        "data": "AAAAAAEAAAACAAAAAwAAAAQAAAAFAAAABgAAAAcAAAAIAAAACQAAAAoAAAALAAAADAAAAA0AAAAOAAAADwAAABAAAAARAAAAEgAAABMAAAAUAAAAFQAAABYAAAAXAAAAGAAAABkAAAAaAAAAGwAAABwAAAAdAAAAHgAAAB8AAAAgAAAAIQAAACIAAAAjAAAAJAAAACUAAAAmAAAAJwAAACgAAAApAAAAKgAAACsAAAAsAAAALQAAAC4AAAAvAAAAMAAAADEAAAAyAAAAMwAAADQAAAA1AAAANgAAADcAAAA4AAAAOQAAADoAAAA7AAAAPAAAAD0AAAA+AAAAPwAAAEAAAABBAAAAQgAAAEMAAABEAAAARQAAAEYAAABHAAAASAAAAEkAAABKAAAASwAAAEwAAABNAAAATgAAAE8AAABQAAAAUQAAAFIAAABTAAAAVAAAAFUAAABWAAAAVwAAAFgAAABZAAAAWgAAAFsAAABcAAAAXQAAAF4AAABfAAAAYAAAAGEAAABiAAAAYwAAAGQAAABlAAAAZgAAAGcAAABoAAAAaQAAAGoAAABrAAAAbAAAAG0AAABuAAAAbwAAAHAAAABxAAAAcgAAAHMAAAB0AAAAdQAAAHYAAAB3AAAAeAAAAHkAAAB6AAAAewAAAHwAAAB9AAAAfgAAAH8AAACAAAAAgQAAAIIAAACDAAAAhAAAAIUAAACGAAAAhwAAAIgAAACJAAAAigAAAIsAAACMAAAAjQAAAI4AAACPAAAAkAAAAJEAAACSAAAAkwAAAJQAAACVAAAAlgAAAJcAAACYAAAAmQAAAJoAAACbAAAAnAAAAJ0AAACeAAAAnwAAAKAAAAChAAAAogAAAKMAAACkAAAApQAAAKYAAACnAAAAqAAAAKkAAACqAAAAqwAAAKwAAACtAAAArgAAAK8AAACwAAAAsQAAALIAAACzAAAAtAAAALUAAAC2AAAAtwAAALgAAAC5AAAAugAAALsAAAC8AAAAvQAAAL4AAAC/AAAAwAAAAMEAAADCAAAAwwAAAMQAAADFAAAAxgAAAMcAAADIAAAAyQAAAMoAAADLAAAAzAAAAM0AAADOAAAAzwAAANAAAADRAAAA0gAAANMAAADUAAAA1QAAANYAAADXAAAA2AAAANkAAADaAAAA2wAAANwAAADdAAAA3gAAAN8AAADgAAAA4QAAAOIAAADjAAAA5AAAAOUAAADmAAAA5wAAAOgAAADpAAAA6gAAAOsAAADsAAAA",
        "encoding": "base64",
        "path": [
         "x",
         "value"
        ]
       },
       {
        "data": "AAAAAAAAAAAAAAAAAAAAAAEAAAABAAAAAQAAAAEAAAABAAAAAQAAAAEAAAABAAAAAQAAAAEAAAABAAAAAQAAAAEAAAABAAAAAQAAAAEAAAABAAAAAQAAAAEAAAABAAAAAQAAAAEAAAABAAAAAQAAAAEAAAABAAAAAQAAAAEAAAABAAAAAQAAAAEAAAABAAAAAQAAAAEAAAABAAAAAQAAAAEAAAABAAAAAQAAAAEAAAABAAAAAQAAAAEAAAABAAAAAQAAAAEAAAABAAAAAQAAAAEAAAABAAAAAQAAAAEAAAABAAAAAQAAAAEAAAABAAAAAQAAAAEAAAABAAAAAQAAAAEAAAABAAAAAQAAAAEAAAABAAAAAQAAAAEAAAABAAAAAQAAAAEAAAABAAAAAQAAAAEAAAABAAAAAQAAAAEAAAABAAAAAQAAAAEAAAABAAAAAQAAAAEAAAABAAAAAQAAAAEAAAABAAAAAQAAAAEAAAABAAAAAQAAAAEAAAABAAAAAQAAAAEAAAABAAAAAQAAAAEAAAABAAAAAQAAAAEAAAABAAAAAQAAAAEAAAABAAAAAQAAAAEAAAABAAAAAQAAAAEAAAABAAAAAQAAAAEAAAABAAAAAQAAAAEAAAABAAAAAQAAAAEAAAABAAAAAQAAAAEAAAABAAAAAQAAAAEAAAABAAAAAQAAAAEAAAABAAAAAQAAAAEAAAABAAAAAQAAAAEAAAABAAAAAQAAAAEAAAABAAAAAQAAAAEAAAABAAAAAQAAAAEAAAABAAAAAQAAAAEAAAABAAAAAQAAAAEAAAABAAAAAQAAAAEAAAABAAAAAQAAAAEAAAABAAAAAQAAAAEAAAABAAAAAQAAAAEAAAABAAAAAQAAAAEAAAABAAAAAQAAAAEAAAABAAAAAQAAAAEAAAABAAAAAQAAAAEAAAABAAAAAQAAAAEAAAABAAAAAQAAAAEAAAABAAAAAQAAAAEAAAABAAAAAQAAAAEAAAABAAAAAQAAAAEAAAABAAAAAQAAAAEAAAABAAAAAQAAAAEAAAABAAAAAQAAAAEAAAABAAAAAQAAAAEAAAABAAAAAQAAAAEAAAABAAAAAQAAAAEAAAABAAAAAgAAAAIAAAACAAAAAgAAAAIAAAACAAAAAgAAAAIAAAACAAAAAgAAAAIAAAACAAAAAgAAAAIAAAACAAAAAgAAAAIAAAACAAAAAgAAAAIAAAACAAAAAgAAAAIAAAACAAAAAwAAAAQAAAAFAAAA",
        "encoding": "base64",
        "path": [
         "y",
         "value"
        ]
       }
      ],
      "model_module": "bqplot",
      "model_module_version": "^0.5.18",
      "model_name": "LinesModel",
      "state": {
       "_model_module_version": "^0.5.18",
       "_view_module_version": "^0.5.18",
       "fill_colors": [],
       "labels": [
        "C1"
       ],
       "scales": {
        "x": "IPY_MODEL_11ebe474a478437480fb0635ba75c2ae",
        "y": "IPY_MODEL_a57fae4304e2432abe1f407f530ea30c"
       },
       "x": {
        "dtype": "int32",
        "shape": [
         237
        ],
        "type": null
       },
       "y": {
        "dtype": "int32",
        "shape": [
         237
        ],
        "type": null
       }
      }
     },
     "04a8b3a93e654e359ffb73782a4005c7": {
      "model_module": "bqplot",
      "model_module_version": "^0.5.18",
      "model_name": "LinearScaleModel",
      "state": {
       "_model_module_version": "^0.5.18",
       "_view_module_version": "^0.5.18",
       "stabilized": false
      }
     },
     "0c2c2fd250394e6ca902af9d27f58187": {
      "model_module": "bqplot",
      "model_module_version": "^0.5.18",
      "model_name": "ToolbarModel",
      "state": {
       "_model_module_version": "^0.5.18",
       "_view_module_version": "^0.5.18",
       "figure": "IPY_MODEL_e951d762bdc34f60ae0f37aeb5ccffff",
       "layout": "IPY_MODEL_8c66ba6fdb944198a7cc2cb3d01db100"
      }
     },
     "11ebe474a478437480fb0635ba75c2ae": {
      "model_module": "bqplot",
      "model_module_version": "^0.5.18",
      "model_name": "LinearScaleModel",
      "state": {
       "_model_module_version": "^0.5.18",
       "_view_module_version": "^0.5.18",
       "stabilized": false
      }
     },
     "49eb39410f774e7a85dbdb199c8d1072": {
      "model_module": "@jupyter-widgets/base",
      "model_module_version": "1.2.0",
      "model_name": "LayoutModel",
      "state": {}
     },
     "564abc66db934a1686828c4621e87c17": {
      "model_module": "bqplot",
      "model_module_version": "^0.5.18",
      "model_name": "ToolbarModel",
      "state": {
       "_model_module_version": "^0.5.18",
       "_view_module_version": "^0.5.18",
       "figure": "IPY_MODEL_e9e3ed5a06fc4900b6a66d342b8c354c",
       "layout": "IPY_MODEL_49eb39410f774e7a85dbdb199c8d1072"
      }
     },
     "63ab12425c0f44a092b63780ff21edf2": {
      "model_module": "@jupyter-widgets/base",
      "model_module_version": "1.2.0",
      "model_name": "LayoutModel",
      "state": {}
     },
     "6da05b61eed046b78a6986f3735ff331": {
      "model_module": "@jupyter-widgets/controls",
      "model_module_version": "1.5.0",
      "model_name": "VBoxModel",
      "state": {
       "children": [
        "IPY_MODEL_e951d762bdc34f60ae0f37aeb5ccffff",
        "IPY_MODEL_0c2c2fd250394e6ca902af9d27f58187"
       ],
       "layout": "IPY_MODEL_63ab12425c0f44a092b63780ff21edf2"
      }
     },
     "793ae516375e45f2914e5d68e7b0795f": {
      "model_module": "bqplot",
      "model_module_version": "^0.5.18",
      "model_name": "LinearScaleModel",
      "state": {
       "_model_module_version": "^0.5.18",
       "_view_module_version": "^0.5.18",
       "allow_padding": false,
       "max": 1,
       "min": 0,
       "stabilized": false
      }
     },
     "85b85d4c84174005a224eaa0fb7626a5": {
      "model_module": "bqplot",
      "model_module_version": "^0.5.18",
      "model_name": "AxisModel",
      "state": {
       "_model_module_version": "^0.5.18",
       "_view_module_version": "^0.5.18",
       "scale": "IPY_MODEL_04a8b3a93e654e359ffb73782a4005c7",
       "side": "bottom",
       "tick_values": null
      }
     },
     "8b1b78a8fe574467953f64fa7cd4dff4": {
      "buffers": [
       {
        "data": "AAAAAAEAAAACAAAAAwAAAAQAAAAFAAAABgAAAAcAAAAIAAAACQAAAAoAAAALAAAADAAAAA0AAAAOAAAADwAAABAAAAARAAAAEgAAABMAAAAUAAAAFQAAABYAAAAXAAAAGAAAABkAAAAaAAAAGwAAABwAAAAdAAAAHgAAAB8AAAAgAAAAIQAAACIAAAAjAAAAJAAAACUAAAAmAAAAJwAAACgAAAApAAAAKgAAACsAAAAsAAAALQAAAC4AAAAvAAAAMAAAADEAAAAyAAAAMwAAADQAAAA1AAAANgAAADcAAAA4AAAAOQAAADoAAAA7AAAAPAAAAD0AAAA+AAAAPwAAAEAAAABBAAAAQgAAAEMAAABEAAAARQAAAEYAAABHAAAASAAAAEkAAABKAAAASwAAAEwAAABNAAAATgAAAE8AAABQAAAAUQAAAFIAAABTAAAAVAAAAFUAAABWAAAAVwAAAFgAAABZAAAAWgAAAFsAAABcAAAAXQAAAF4AAABfAAAAYAAAAGEAAABiAAAAYwAAAGQAAABlAAAAZgAAAGcAAABoAAAAaQAAAGoAAABrAAAAbAAAAG0AAABuAAAAbwAAAHAAAABxAAAAcgAAAHMAAAB0AAAAdQAAAHYAAAB3AAAAeAAAAHkAAAB6AAAAewAAAHwAAAB9AAAAfgAAAH8AAACAAAAAgQAAAIIAAACDAAAAhAAAAIUAAACGAAAAhwAAAIgAAACJAAAAigAAAIsAAACMAAAAjQAAAI4AAACPAAAAkAAAAJEAAACSAAAAkwAAAJQAAACVAAAAlgAAAJcAAACYAAAAmQAAAJoAAACbAAAAnAAAAJ0AAACeAAAAnwAAAKAAAAChAAAAogAAAKMAAACkAAAApQAAAKYAAACnAAAAqAAAAKkAAACqAAAAqwAAAKwAAACtAAAArgAAAK8AAACwAAAAsQAAALIAAACzAAAAtAAAALUAAAC2AAAAtwAAALgAAAC5AAAAugAAALsAAAC8AAAAvQAAAL4AAAC/AAAAwAAAAMEAAADCAAAAwwAAAMQAAADFAAAAxgAAAMcAAADIAAAAyQAAAMoAAADLAAAAzAAAAM0AAADOAAAAzwAAANAAAADRAAAA0gAAANMAAADUAAAA1QAAANYAAADXAAAA2AAAANkAAADaAAAA2wAAANwAAADdAAAA3gAAAN8AAADgAAAA4QAAAOIAAADjAAAA5AAAAOUAAADmAAAA5wAAAOgAAADpAAAA6gAAAOsAAADsAAAA",
        "encoding": "base64",
        "path": [
         "x",
         "value"
        ]
       },
       {
        "data": "AAAAAAAAAAAAAAAAAAAAAAEAAAABAAAAAQAAAAEAAAABAAAAAQAAAAEAAAABAAAAAQAAAAEAAAABAAAAAQAAAAEAAAABAAAAAQAAAAEAAAABAAAAAQAAAAEAAAABAAAAAQAAAAEAAAABAAAAAQAAAAEAAAABAAAAAQAAAAEAAAABAAAAAQAAAAEAAAABAAAAAQAAAAEAAAABAAAAAQAAAAEAAAABAAAAAQAAAAEAAAABAAAAAQAAAAEAAAABAAAAAQAAAAEAAAABAAAAAQAAAAEAAAABAAAAAQAAAAEAAAABAAAAAQAAAAEAAAABAAAAAQAAAAEAAAABAAAAAQAAAAEAAAABAAAAAQAAAAEAAAABAAAAAQAAAAEAAAABAAAAAQAAAAEAAAABAAAAAQAAAAEAAAABAAAAAQAAAAEAAAABAAAAAQAAAAEAAAABAAAAAQAAAAEAAAABAAAAAQAAAAEAAAABAAAAAQAAAAEAAAABAAAAAQAAAAEAAAABAAAAAQAAAAEAAAABAAAAAQAAAAEAAAABAAAAAQAAAAEAAAABAAAAAQAAAAEAAAABAAAAAQAAAAEAAAABAAAAAQAAAAEAAAABAAAAAQAAAAEAAAABAAAAAQAAAAEAAAABAAAAAQAAAAEAAAABAAAAAQAAAAEAAAABAAAAAQAAAAEAAAABAAAAAQAAAAEAAAABAAAAAQAAAAEAAAABAAAAAQAAAAEAAAABAAAAAQAAAAEAAAABAAAAAQAAAAEAAAABAAAAAQAAAAEAAAABAAAAAQAAAAEAAAABAAAAAQAAAAEAAAABAAAAAQAAAAEAAAABAAAAAQAAAAEAAAABAAAAAQAAAAEAAAABAAAAAQAAAAEAAAABAAAAAQAAAAEAAAABAAAAAQAAAAEAAAABAAAAAQAAAAEAAAABAAAAAQAAAAEAAAABAAAAAQAAAAEAAAABAAAAAQAAAAEAAAABAAAAAQAAAAEAAAABAAAAAQAAAAEAAAABAAAAAQAAAAEAAAABAAAAAQAAAAEAAAABAAAAAQAAAAEAAAABAAAAAQAAAAEAAAABAAAAAQAAAAEAAAABAAAAAQAAAAEAAAABAAAAAQAAAAEAAAABAAAAAgAAAAIAAAACAAAAAgAAAAIAAAACAAAAAgAAAAIAAAACAAAAAgAAAAIAAAACAAAAAgAAAAIAAAACAAAAAgAAAAIAAAACAAAAAgAAAAIAAAACAAAAAgAAAAIAAAACAAAAAwAAAAQAAAAFAAAA",
        "encoding": "base64",
        "path": [
         "y",
         "value"
        ]
       }
      ],
      "model_module": "bqplot",
      "model_module_version": "^0.5.18",
      "model_name": "LinesModel",
      "state": {
       "_model_module_version": "^0.5.18",
       "_view_module_version": "^0.5.18",
       "fill_colors": [],
       "labels": [
        "C1"
       ],
       "scales": {
        "x": "IPY_MODEL_11ebe474a478437480fb0635ba75c2ae",
        "y": "IPY_MODEL_a57fae4304e2432abe1f407f530ea30c"
       },
       "x": {
        "dtype": "int32",
        "shape": [
         237
        ],
        "type": null
       },
       "y": {
        "dtype": "int32",
        "shape": [
         237
        ],
        "type": null
       }
      }
     },
     "8c66ba6fdb944198a7cc2cb3d01db100": {
      "model_module": "@jupyter-widgets/base",
      "model_module_version": "1.2.0",
      "model_name": "LayoutModel",
      "state": {}
     },
     "9188559680cb4768ab1e2a019ad8782b": {
      "model_module": "@jupyter-widgets/controls",
      "model_module_version": "1.5.0",
      "model_name": "VBoxModel",
      "state": {
       "children": [
        "IPY_MODEL_e9e3ed5a06fc4900b6a66d342b8c354c",
        "IPY_MODEL_564abc66db934a1686828c4621e87c17"
       ],
       "layout": "IPY_MODEL_b2da8017591f40a98ee199b72645dbae"
      }
     },
     "95f7ec0d4aeb4b538d5438a22e139638": {
      "model_module": "bqplot",
      "model_module_version": "^0.5.18",
      "model_name": "LinearScaleModel",
      "state": {
       "_model_module_version": "^0.5.18",
       "_view_module_version": "^0.5.18",
       "allow_padding": false,
       "max": 1,
       "min": 0,
       "stabilized": false
      }
     },
     "a1d8df0149024407aebc79fd5e760d9f": {
      "model_module": "bqplot",
      "model_module_version": "^0.5.18",
      "model_name": "OrdinalScaleModel",
      "state": {
       "_model_module_version": "^0.5.18",
       "_view_module_version": "^0.5.18"
      }
     },
     "a57fae4304e2432abe1f407f530ea30c": {
      "model_module": "bqplot",
      "model_module_version": "^0.5.18",
      "model_name": "LinearScaleModel",
      "state": {
       "_model_module_version": "^0.5.18",
       "_view_module_version": "^0.5.18",
       "stabilized": false
      }
     },
     "a5dd2d6630de414ab54dabc614cda161": {
      "model_module": "bqplot",
      "model_module_version": "^0.5.18",
      "model_name": "AxisModel",
      "state": {
       "_model_module_version": "^0.5.18",
       "_view_module_version": "^0.5.18",
       "orientation": "vertical",
       "scale": "IPY_MODEL_a1d8df0149024407aebc79fd5e760d9f",
       "side": "left",
       "tick_values": null
      }
     },
     "b2da8017591f40a98ee199b72645dbae": {
      "model_module": "@jupyter-widgets/base",
      "model_module_version": "1.2.0",
      "model_name": "LayoutModel",
      "state": {}
     },
     "bbebdb9f280c47ebb2e511e88f5cebcc": {
      "model_module": "bqplot",
      "model_module_version": "^0.5.18",
      "model_name": "LinearScaleModel",
      "state": {
       "_model_module_version": "^0.5.18",
       "_view_module_version": "^0.5.18",
       "allow_padding": false,
       "max": 1,
       "min": 0,
       "stabilized": false
      }
     },
     "c9cda3a5c9774039b5af79e02125d3a8": {
      "model_module": "bqplot",
      "model_module_version": "^0.5.18",
      "model_name": "LinearScaleModel",
      "state": {
       "_model_module_version": "^0.5.18",
       "_view_module_version": "^0.5.18",
       "allow_padding": false,
       "max": 1,
       "min": 0,
       "stabilized": false
      }
     },
     "ca93b190938f4151a5188059a5a199ce": {
      "model_module": "bqplot",
      "model_module_version": "^0.5.18",
      "model_name": "AxisModel",
      "state": {
       "_model_module_version": "^0.5.18",
       "_view_module_version": "^0.5.18",
       "scale": "IPY_MODEL_11ebe474a478437480fb0635ba75c2ae",
       "side": "bottom",
       "tick_values": null
      }
     },
     "d213caf2a4504bc88669321fef308ee9": {
      "model_module": "bqplot",
      "model_module_version": "^0.5.18",
      "model_name": "AxisModel",
      "state": {
       "_model_module_version": "^0.5.18",
       "_view_module_version": "^0.5.18",
       "orientation": "vertical",
       "scale": "IPY_MODEL_a57fae4304e2432abe1f407f530ea30c",
       "side": "left",
       "tick_values": null
      }
     },
     "d541f0875974466b9407bc908caaf70f": {
      "model_module": "@jupyter-widgets/base",
      "model_module_version": "1.2.0",
      "model_name": "LayoutModel",
      "state": {}
     },
     "e0c555e4cd1e4d28b21cd604f5851f60": {
      "model_module": "@jupyter-widgets/base",
      "model_module_version": "1.2.0",
      "model_name": "LayoutModel",
      "state": {}
     },
     "e951d762bdc34f60ae0f37aeb5ccffff": {
      "model_module": "bqplot",
      "model_module_version": "^0.5.18",
      "model_name": "FigureModel",
      "state": {
       "_model_module_version": "^0.5.18",
       "_view_module_version": "^0.5.18",
       "axes": [
        "IPY_MODEL_ca93b190938f4151a5188059a5a199ce",
        "IPY_MODEL_d213caf2a4504bc88669321fef308ee9"
       ],
       "layout": "IPY_MODEL_d541f0875974466b9407bc908caaf70f",
       "marks": [
        "IPY_MODEL_8b1b78a8fe574467953f64fa7cd4dff4",
        "IPY_MODEL_019a461e63d246f4af698f79c5517334"
       ],
       "scale_x": "IPY_MODEL_c9cda3a5c9774039b5af79e02125d3a8",
       "scale_y": "IPY_MODEL_bbebdb9f280c47ebb2e511e88f5cebcc"
      }
     },
     "e9e3ed5a06fc4900b6a66d342b8c354c": {
      "model_module": "bqplot",
      "model_module_version": "^0.5.18",
      "model_name": "FigureModel",
      "state": {
       "_model_module_version": "^0.5.18",
       "_view_module_version": "^0.5.18",
       "axes": [
        "IPY_MODEL_a5dd2d6630de414ab54dabc614cda161",
        "IPY_MODEL_85b85d4c84174005a224eaa0fb7626a5"
       ],
       "layout": "IPY_MODEL_e0c555e4cd1e4d28b21cd604f5851f60",
       "marks": [
        "IPY_MODEL_ea9d64c7b79a44bdb8e0dc3f934d4c5c"
       ],
       "scale_x": "IPY_MODEL_95f7ec0d4aeb4b538d5438a22e139638",
       "scale_y": "IPY_MODEL_793ae516375e45f2914e5d68e7b0795f"
      }
     },
     "ea9d64c7b79a44bdb8e0dc3f934d4c5c": {
      "buffers": [
       {
        "data": "BwAAAAUAAAAFAAAABQAAAAQAAAAEAAAAAwAAAAMAAAADAAAAAwAAAAMAAAADAAAAAwAAAAIAAAACAAAAAgAAAAIAAAACAAAAAgAAAAIAAAACAAAAAgAAAAIAAAACAAAAAgAAAAIAAAACAAAAAgAAAAIAAAACAAAAAgAAAAIAAAACAAAAAgAAAAIAAAACAAAA",
        "encoding": "base64",
        "path": [
         "y",
         "value"
        ]
       }
      ],
      "model_module": "bqplot",
      "model_module_version": "^0.5.18",
      "model_name": "BarsModel",
      "state": {
       "_model_module_version": "^0.5.18",
       "_view_module_version": "^0.5.18",
       "label_font_style": {},
       "orientation": "horizontal",
       "scales": {
        "x": "IPY_MODEL_a1d8df0149024407aebc79fd5e760d9f",
        "y": "IPY_MODEL_04a8b3a93e654e359ffb73782a4005c7"
       },
       "scales_metadata": {
        "x": {
         "dimension": "x",
         "orientation": "vertical"
        },
        "y": {
         "dimension": "y",
         "orientation": "horizontal"
        }
       },
       "x": [
        "Facundo Batista",
        "Juan Pedro Fisanotti",
        "Roberto Alsina",
        "Claudio Freire",
        "Hugo Ruscitti",
        "Damián Avila",
        "Gabriel Genellina",
        "Martin Alderete",
        "Alejandro J. Cura",
        "Diego Sarmentero",
        "Rafael Carrascosa",
        "Various Speakers",
        "Natalia Bidart",
        "Javier Mansilla",
        "Manuel Quiñones",
        "Nicolás Demarchi",
        "Luciano Rossi",
        "Sebastián Marró",
        "Daniel F. Moisset",
        "Manuel Kaufmann",
        "Martín Gaitán",
        "Sofía Denner",
        "Brett Cannon",
        "Berenice Larsen Pereyra",
        "Massimo Di Pierro",
        "Matías Bordese",
        "Craig Kerstiens",
        "Ricardo Kirkner",
        "Christophe Pettus",
        "Emiliano Dalla Verde Marcozzi",
        "Pedro Ignacio Guridi",
        "Diego Cañizares",
        "Andrea Gavana",
        "Ariel Rossanigo",
        "Felipe Lerena",
        "Alejandro Cura"
       ],
       "y": {
        "dtype": "int32",
        "shape": [
         36
        ],
        "type": null
       }
      }
     }
    },
    "version_major": 2,
    "version_minor": 0
   }
  }
 },
 "nbformat": 4,
 "nbformat_minor": 4
}

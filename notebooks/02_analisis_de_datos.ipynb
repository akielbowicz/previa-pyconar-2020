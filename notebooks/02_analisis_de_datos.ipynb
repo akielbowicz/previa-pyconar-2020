{
 "cells": [
  {
   "cell_type": "markdown",
   "metadata": {},
   "source": [
    "# Como realizar el analisis de datos en Jupyter "
   ]
  },
  {
   "cell_type": "markdown",
   "metadata": {},
   "source": [
    "[PyCon Ar en PyVideo.org](https://pyvideo.org/events/pycon-ar-2011.html)"
   ]
  },
  {
   "cell_type": "markdown",
   "metadata": {},
   "source": [
    "- Explorar los datos"
   ]
  },
  {
   "cell_type": "code",
   "execution_count": 19,
   "metadata": {},
   "outputs": [],
   "source": [
    "import pathlib\n",
    "\n",
    "carpeta_datos = pathlib.Path('./datos')"
   ]
  },
  {
   "cell_type": "code",
   "execution_count": 33,
   "metadata": {},
   "outputs": [],
   "source": [
    "archivos = [ elemento for elemento in carpeta_datos.glob('*/videos/*.json') ]"
   ]
  },
  {
   "cell_type": "code",
   "execution_count": 34,
   "metadata": {},
   "outputs": [
    {
     "data": {
      "text/plain": [
       "237"
      ]
     },
     "execution_count": 34,
     "metadata": {},
     "output_type": "execute_result"
    }
   ],
   "source": [
    "len(archivos)"
   ]
  },
  {
   "cell_type": "code",
   "execution_count": 35,
   "metadata": {},
   "outputs": [
    {
     "data": {
      "text/plain": [
       "{'.json'}"
      ]
     },
     "execution_count": 35,
     "metadata": {},
     "output_type": "execute_result"
    }
   ],
   "source": [
    "{archivo.suffix for archivo in archivos }"
   ]
  },
  {
   "cell_type": "code",
   "execution_count": 31,
   "metadata": {},
   "outputs": [
    {
     "data": {
      "text/plain": [
       "''"
      ]
     },
     "execution_count": 31,
     "metadata": {},
     "output_type": "execute_result"
    }
   ],
   "source": [
    "archivos[0].suffix"
   ]
  },
  {
   "cell_type": "markdown",
   "metadata": {},
   "source": [
    "- Importar los datos con pandas"
   ]
  },
  {
   "cell_type": "code",
   "execution_count": 36,
   "metadata": {},
   "outputs": [],
   "source": [
    "import pandas"
   ]
  },
  {
   "cell_type": "code",
   "execution_count": 39,
   "metadata": {},
   "outputs": [],
   "source": [
    "def safe_df(archivo):\n",
    "    try:\n",
    "        df = pandas.read_json(archivo)\n",
    "    except ValueError as err:\n",
    "        df = pandas.DataFrame()\n",
    "        print('Fallo al cargar: ', archivo)\n",
    "    return df"
   ]
  },
  {
   "cell_type": "code",
   "execution_count": 40,
   "metadata": {},
   "outputs": [
    {
     "name": "stdout",
     "output_type": "stream",
     "text": [
      "Fallo al cargar:  datos\\pycon-ar-2011\\videos\\pyconar-2011-alejandro-pereira-silvestre-huens-plone-4-tiempo-de-coccion-30-minutos-pyar.json\n",
      "Fallo al cargar:  datos\\pycon-ar-2011\\videos\\pyconar-2011-hector-sanchez-gonzalo-odiardmanuel-quinones-entorno-educativo-sugar-pyar.json\n",
      "Fallo al cargar:  datos\\pycon-ar-2011\\videos\\pyconar-2011-roberto-alsina-manuel-de-la-pena-programando-cross-platform-pyar.json\n",
      "Fallo al cargar:  datos\\pycon-ar-2012\\videos\\2012-11-16-18-28-02-00001-720i-fast.json\n",
      "Fallo al cargar:  datos\\pycon-ar-2012\\videos\\2012-11-16-18-35-46-00002-720i-fast.json\n",
      "Fallo al cargar:  datos\\pycon-ar-2012\\videos\\2012-11-16-18-40-48-00003-720i-fast.json\n",
      "Fallo al cargar:  datos\\pycon-ar-2012\\videos\\2012-11-16-18-44-24-00004-720i-fast.json\n",
      "Fallo al cargar:  datos\\pycon-ar-2012\\videos\\2012-11-16-18-50-14-00005-720i-fast.json\n",
      "Fallo al cargar:  datos\\pycon-ar-2012\\videos\\2012-11-16-18-55-10-00006-720i-fast.json\n",
      "Fallo al cargar:  datos\\pycon-ar-2012\\videos\\2012-11-16-18-57-42-00007-720i-fast.json\n",
      "Fallo al cargar:  datos\\pycon-ar-2012\\videos\\2012-11-16-19-01-16-00008-720i-fast.json\n",
      "Fallo al cargar:  datos\\pycon-ar-2012\\videos\\2012-11-16-19-07-24-00009-720i-fast.json\n",
      "Fallo al cargar:  datos\\pycon-ar-2012\\videos\\2012-11-16-19-15-32-00010-720i-fast.json\n",
      "Fallo al cargar:  datos\\pycon-ar-2012\\videos\\2012-11-17-18-29-06-00020-720i-fast.json\n",
      "Fallo al cargar:  datos\\pycon-ar-2012\\videos\\2012-11-17-18-36-10-00021-720i-fast.json\n",
      "Fallo al cargar:  datos\\pycon-ar-2012\\videos\\2012-11-17-18-40-54-00022-720i-fast.json\n",
      "Fallo al cargar:  datos\\pycon-ar-2012\\videos\\2012-11-17-18-45-00-00023-720i-fast.json\n",
      "Fallo al cargar:  datos\\pycon-ar-2012\\videos\\2012-11-17-18-48-48-00024-720i-fast.json\n",
      "Fallo al cargar:  datos\\pycon-ar-2012\\videos\\2012-11-17-18-52-06-00025-720i-fast.json\n",
      "Fallo al cargar:  datos\\pycon-ar-2012\\videos\\2012-11-17-18-56-10-00026-720i-fast.json\n",
      "Fallo al cargar:  datos\\pycon-ar-2012\\videos\\2012-11-17-18-59-00-00027-720i-fast.json\n",
      "Fallo al cargar:  datos\\pycon-ar-2012\\videos\\2012-11-17-19-05-50-00028-720i-fast.json\n",
      "Fallo al cargar:  datos\\pycon-ar-2012\\videos\\2012-11-17-19-08-40-00029-720i-fast.json\n",
      "Fallo al cargar:  datos\\pycon-ar-2012\\videos\\2012-11-17-19-12-24-00030-720i-fast.json\n",
      "Fallo al cargar:  datos\\pycon-ar-2012\\videos\\2012-11-17-19-16-14-00031-720i-fast.json\n",
      "Fallo al cargar:  datos\\pycon-ar-2012\\videos\\2012-11-17-19-20-30-00032-720i-fast.json\n",
      "Fallo al cargar:  datos\\pycon-ar-2012\\videos\\2012-11-17-19-25-00-00033-720i-fast.json\n",
      "Fallo al cargar:  datos\\pycon-ar-2012\\videos\\2012-11-17-19-29-28-00034-720i-fast.json\n",
      "Fallo al cargar:  datos\\pycon-ar-2012\\videos\\2012-11-17-20-00-14-00036-720i-fast.json\n",
      "Fallo al cargar:  datos\\pycon-ar-2012\\videos\\2012-11-17-20-03-42-00038-720i-fast.json\n",
      "Fallo al cargar:  datos\\pycon-ar-2012\\videos\\aplicaciones-de-e-health-para-ayuda-al-diagnostico-alfonso-de-la-guarda-reyes-pyconar-2012.json\n",
      "Fallo al cargar:  datos\\pycon-ar-2012\\videos\\bindings-default-mutable-arguments-y-otros-qu-facundo-batista-pyconar-2012.json\n",
      "Fallo al cargar:  datos\\pycon-ar-2012\\videos\\building-a-kinect-game-with-python-dino-viehland-pyconar-2012.json\n",
      "Fallo al cargar:  datos\\pycon-ar-2012\\videos\\controlando-python-desde-arduino-diego-diez-pyconar-2012.json\n",
      "Fallo al cargar:  datos\\pycon-ar-2012\\videos\\deploy-de-tus-proyectos-con-buildout-emiliano-dalla-verde-marcozzi-pyconar-2012.json\n",
      "Fallo al cargar:  datos\\pycon-ar-2012\\videos\\design-patterns-en-python-david-litvak-bruno-pyconar-2012.json\n",
      "Fallo al cargar:  datos\\pycon-ar-2012\\videos\\destruyendo-obras-de-arte-o-automatizando-la-i-ricardo-kirkner-pyconar-2012.json\n",
      "Fallo al cargar:  datos\\pycon-ar-2012\\videos\\django-under-massive-loads-christophe-pettus-pyconar-2012.json\n",
      "Fallo al cargar:  datos\\pycon-ar-2012\\videos\\el-androide-pytonico-felipe-lerena-pyconar-2012.json\n",
      "Fallo al cargar:  datos\\pycon-ar-2012\\videos\\entendiendo-unicode-facundo-batista-pyconar-2012.json\n",
      "Fallo al cargar:  datos\\pycon-ar-2012\\videos\\flask-el-microframework-que-revoluciona-la-web-hugo-ruscitti-joaquin-pyconar-2012.json\n",
      "Fallo al cargar:  datos\\pycon-ar-2012\\videos\\how-brazil-is-building-a-digital-nation-with-op-erico-andrei-pyconar-2012.json\n",
      "Fallo al cargar:  datos\\pycon-ar-2012\\videos\\how-heroku-uses-heroku-to-build-heroku-craig-kerstiens-pyconar-2012.json\n",
      "Fallo al cargar:  datos\\pycon-ar-2012\\videos\\how-import-works-brett-cannon-pyconar-2012.json\n",
      "Fallo al cargar:  datos\\pycon-ar-2012\\videos\\implementando-python-angel-j-lopez-pyconar-2012.json\n",
      "Fallo al cargar:  datos\\pycon-ar-2012\\videos\\import-wx-a-tale-of-neverending-gui-power-andrea-gavana-pyconar-2012.json\n",
      "Fallo al cargar:  datos\\pycon-ar-2012\\videos\\inferencia-de-tipos-en-python-claudio-freire-pyconar-2012.json\n",
      "Fallo al cargar:  datos\\pycon-ar-2012\\videos\\inteligencia-artificial-con-aima-python-un-recurso-poco-conocido-rafael-carrascosa-pyconar-2012.json\n",
      "Fallo al cargar:  datos\\pycon-ar-2012\\videos\\introduccion-a-python-cientifico-damian-avila-pyconar-2012.json\n",
      "Fallo al cargar:  datos\\pycon-ar-2012\\videos\\introduccion-a-spdy-futuro-http-2-0-marcelo-fernandez-pyconar-2012.json\n",
      "Fallo al cargar:  datos\\pycon-ar-2012\\videos\\introduccion-a-tryton-application-platform-sebastian-marro-pyconar-2012.json\n",
      "Fallo al cargar:  datos\\pycon-ar-2012\\videos\\introduction-to-opencl-massimo-di-pierro-pyconar-2012.json\n",
      "Fallo al cargar:  datos\\pycon-ar-2012\\videos\\javascript-para-programadores-python-daniel-f-moisset-pyconar-2012.json\n",
      "Fallo al cargar:  datos\\pycon-ar-2012\\videos\\la-guia-maxima-para-portar-a-gtk-3-manuel-quinones-pyconar-2012.json\n",
      "Fallo al cargar:  datos\\pycon-ar-2012\\videos\\las-maravillas-de-google-app-engine-augusto-coto-pyconar-2012.json\n",
      "Fallo al cargar:  datos\\pycon-ar-2012\\videos\\layer-d-programacion-semantica-alexis-ferreyra-pyconar-2012.json\n",
      "Fallo al cargar:  datos\\pycon-ar-2012\\videos\\mongodb-native-to-web-development-london-framework-thiago-avelino-pyconar-2012.json\n",
      "Fallo al cargar:  datos\\pycon-ar-2012\\videos\\moving-from-apps-to-services-craig-kerstiens-pyconar-2012.json\n",
      "Fallo al cargar:  datos\\pycon-ar-2012\\videos\\multiprocesamiento-en-python-claudio-freire-pyconar-2012.json\n",
      "Fallo al cargar:  datos\\pycon-ar-2012\\videos\\myhdl-de-python-al-silicio-martin-gaitan-pyconar-2012.json\n",
      "Fallo al cargar:  datos\\pycon-ar-2012\\videos\\no-toca-boton-amazon-web-services-desde-python-ezequiel-gutesman-pyconar-2012.json\n",
      "Fallo al cargar:  datos\\pycon-ar-2012\\videos\\oily-python-a-reservoir-engineering-perspective-andrea-gavana-pyconar-2012.json\n",
      "Fallo al cargar:  datos\\pycon-ar-2012\\videos\\openerp-open-spaces-jose-morales-pyconar-2012.json\n",
      "Fallo al cargar:  datos\\pycon-ar-2012\\videos\\pilas-engine-haciendo-juegos-en-medio-de-la-revolucion-hugo-ruscitti-pyconar-2012.json\n",
      "Fallo al cargar:  datos\\pycon-ar-2012\\videos\\ponete-las-pilas-con-django-daniel-f-moisset-pyconar-2012.json\n",
      "Fallo al cargar:  datos\\pycon-ar-2012\\videos\\poniendole-logica-peirceana-a-la-programacion-javyer-der-derian-pyconar-2012.json\n",
      "Fallo al cargar:  datos\\pycon-ar-2012\\videos\\postgresql-when-it-is-not-your-job-christophe-pettus-pyconar-2012.json\n",
      "Fallo al cargar:  datos\\pycon-ar-2012\\videos\\python-2-debe-morir-roberto-alsina-pyconar-2012.json\n",
      "Fallo al cargar:  datos\\pycon-ar-2012\\videos\\python-3-3-trust-me-it-s-better-than-2-7-brett-cannon-pyconar-2012.json\n",
      "Fallo al cargar:  datos\\pycon-ar-2012\\videos\\python-en-educacion-diego-canizares-pyconar-2012.json\n",
      "Fallo al cargar:  datos\\pycon-ar-2012\\videos\\python-para-el-procesamiento-de-secuencias-geneticas-sebastian-bassi-pyconar-2012.json\n",
      "Fallo al cargar:  datos\\pycon-ar-2012\\videos\\python-y-sus-metodos-magicos-pedro-ignacio-guridi-pyconar-2012.json\n",
      "Fallo al cargar:  datos\\pycon-ar-2012\\videos\\sho-un-ambiente-interactivo-para-analisis-de-datos-gabriel-genellina-pyconar-2012.json\n",
      "Fallo al cargar:  datos\\pycon-ar-2012\\videos\\sleepy-are-snakes-still-sleeping-dave-weil-pyconar-2012.json\n",
      "Fallo al cargar:  datos\\pycon-ar-2012\\videos\\testing-funcional-con-python-sergio-schvezov-pyconar-2012.json\n",
      "Fallo al cargar:  datos\\pycon-ar-2012\\videos\\usando-twisted-para-hacer-aplicaciones-de-escritorio-no-bloqueantes-martin-volpe-pyconar-2012.json\n",
      "Fallo al cargar:  datos\\pycon-ar-2012\\videos\\web2py-web-development-should-be-easy-massimo-di-pierro-pyconar-2012.json\n",
      "Fallo al cargar:  datos\\pycon-ar-2012\\videos\\yatel-exploracion-de-perfiles-para-mineria-de-datos-alejandro-garcia-pyconar-2012.json\n",
      "Fallo al cargar:  datos\\pycon-ar-2013\\videos\\recorriendo-nodos-con-python-por-m-alderete-y-m-riva-pycon-2013.json\n",
      "Fallo al cargar:  datos\\pycon-ar-2014\\videos\\adaptando-un-erp-libre-a-la-argentina.json\n",
      "Fallo al cargar:  datos\\pycon-ar-2014\\videos\\argentina-en-python.json\n",
      "Fallo al cargar:  datos\\pycon-ar-2014\\videos\\django-security-quick-wins.json\n",
      "Fallo al cargar:  datos\\pycon-ar-2014\\videos\\haciendo-codigo-que-analiza-codigo-con-ast.json\n",
      "Fallo al cargar:  datos\\pycon-ar-2014\\videos\\introduccion-a-jupyter.json\n",
      "Fallo al cargar:  datos\\pycon-ar-2014\\videos\\introduccion-a-pilas.json\n",
      "Fallo al cargar:  datos\\pycon-ar-2014\\videos\\introduccion-a-python.json\n",
      "Fallo al cargar:  datos\\pycon-ar-2014\\videos\\machine-learning.json\n",
      "Fallo al cargar:  datos\\pycon-ar-2014\\videos\\mejores-momentos.json\n",
      "Fallo al cargar:  datos\\pycon-ar-2014\\videos\\tu-propio-cliente-de-torrent-streaming-en-python.json\n",
      "Fallo al cargar:  datos\\pycon-ar-2016\\videos\\pyconar-2016-argentina-en-python-comunidad-sueños-viajes-y-aprendizaje.json\n",
      "Fallo al cargar:  datos\\pycon-ar-2016\\videos\\pyconar-2016-bindings-default-mutable-arguments-y-otros-quilom-detalles.json\n",
      "Fallo al cargar:  datos\\pycon-ar-2016\\videos\\pyconar-2016-charlas-relámpago-día-1.json\n",
      "Fallo al cargar:  datos\\pycon-ar-2016\\videos\\pyconar-2016-charlas-relámpago-día-2.json\n",
      "Fallo al cargar:  datos\\pycon-ar-2016\\videos\\pyconar-2016-charlas-relámpago-sorpresa.json\n",
      "Fallo al cargar:  datos\\pycon-ar-2016\\videos\\pyconar-2016-como-desarrollar-software-libre-o-no-y-no-morir-en-el-intento-o-no.json\n",
      "Fallo al cargar:  datos\\pycon-ar-2016\\videos\\pyconar-2016-compartiendo-memoria-eficientemente-con-proxies.json\n",
      "Fallo al cargar:  datos\\pycon-ar-2016\\videos\\pyconar-2016-concurrencia-en-python.json\n",
      "Fallo al cargar:  datos\\pycon-ar-2016\\videos\\pyconar-2016-data-science-en-python-una-guia-de-proyectos-y-herramientas.json\n",
      "Fallo al cargar:  datos\\pycon-ar-2016\\videos\\pyconar-2016-deep-learning-aprendiendo-con-la-escafandra.json\n",
      "Fallo al cargar:  datos\\pycon-ar-2016\\videos\\pyconar-2016-desarrollando-aplicaciones-con-el-framework-tryton.json\n",
      "Fallo al cargar:  datos\\pycon-ar-2016\\videos\\pyconar-2016-desempolvando-mi-vieja-raspberrypi.json\n",
      "Fallo al cargar:  datos\\pycon-ar-2016\\videos\\pyconar-2016-django-channels-armemos-un-snake-multijugador.json\n",
      "Fallo al cargar:  datos\\pycon-ar-2016\\videos\\pyconar-2016-docopt-option-parser-para-seres-humanos.json\n",
      "Fallo al cargar:  datos\\pycon-ar-2016\\videos\\pyconar-2016-el-tamaño-no-importa-flask-un-gran-microframework.json\n",
      "Fallo al cargar:  datos\\pycon-ar-2016\\videos\\pyconar-2016-entrega-de-premios-y-cierre-del-evento.json\n",
      "Fallo al cargar:  datos\\pycon-ar-2016\\videos\\pyconar-2016-import-pybr12-experiencias-de-inclusión-en-la-última-pycon-brazil.json\n",
      "Fallo al cargar:  datos\\pycon-ar-2016\\videos\\pyconar-2016-infraestrucura-como-código-docker-en-todos-lados.json\n",
      "Fallo al cargar:  datos\\pycon-ar-2016\\videos\\pyconar-2016-introducción-a-programación-paralela-con-pyopencl.json\n",
      "Fallo al cargar:  datos\\pycon-ar-2016\\videos\\pyconar-2016-introducción-al-gevent.json\n",
      "Fallo al cargar:  datos\\pycon-ar-2016\\videos\\pyconar-2016-keynote-por-fernando-schapachnik.json\n",
      "Fallo al cargar:  datos\\pycon-ar-2016\\videos\\pyconar-2016-keynote-por-victoria-martinez-de-la-cruz.json\n",
      "Fallo al cargar:  datos\\pycon-ar-2016\\videos\\pyconar-2016-keynote-por-ángel-medinilla.json\n",
      "Fallo al cargar:  datos\\pycon-ar-2016\\videos\\pyconar-2016-meetup-defendiendo-nuestros-derechos-humanos-en-la-era-digital-el-rol-del-cifrado.json\n",
      "Fallo al cargar:  datos\\pycon-ar-2016\\videos\\pyconar-2016-micropython-en-edu-ciaa.json\n",
      "Fallo al cargar:  datos\\pycon-ar-2016\\videos\\pyconar-2016-modding-de-video-juegos-con-python-y-blender.json\n",
      "Fallo al cargar:  datos\\pycon-ar-2016\\videos\\pyconar-2016-openid-connect-provider-en-segundos-con-django.json\n",
      "Fallo al cargar:  datos\\pycon-ar-2016\\videos\\pyconar-2016-optimizando-el-despliegue-de-red-móvil-con-spark-y-python.json\n",
      "Fallo al cargar:  datos\\pycon-ar-2016\\videos\\pyconar-2016-ponele-un-poco-de-swag-a-tus-apis.json\n",
      "Fallo al cargar:  datos\\pycon-ar-2016\\videos\\pyconar-2016-poniéndonos-un-poco-mas-serio-con-kivy.json\n",
      "Fallo al cargar:  datos\\pycon-ar-2016\\videos\\pyconar-2016-procesamiento-del-lenguaje-natural-en-el-congreso-de-la-nación.json\n",
      "Fallo al cargar:  datos\\pycon-ar-2016\\videos\\pyconar-2016-programando-bots-charlatanes.json\n",
      "Fallo al cargar:  datos\\pycon-ar-2016\\videos\\pyconar-2016-psycoanálisis-de-sistemas.json\n",
      "Fallo al cargar:  datos\\pycon-ar-2016\\videos\\pyconar-2016-redes-neuronales-con-python-utilizando-keras.json\n",
      "Fallo al cargar:  datos\\pycon-ar-2016\\videos\\pyconar-2016-twitter-bots-con-o-sin-python.json\n",
      "Fallo al cargar:  datos\\pycon-ar-2016\\videos\\pyconar-2016-vinculando-la-medicina-y-la-ingeniería-mediante-python.json\n",
      "Fallo al cargar:  datos\\pycon-ar-2018\\videos\\charlas-rapidas-del-sabado-1db0be.json\n",
      "Fallo al cargar:  datos\\pycon-ar-2018\\videos\\charlas-rapidas-del-sabado.json\n",
      "Fallo al cargar:  datos\\pycon-ar-2018\\videos\\charlas-rapidas-del-viernes.json\n",
      "Fallo al cargar:  datos\\pycon-ar-2018\\videos\\datawarehousing-para-datos-geneticos-socioeconomicos-y-fenotipicos-con-visualizacion-3d.json\n",
      "Fallo al cargar:  datos\\pycon-ar-2018\\videos\\django-rest-framework-lo-mejor-de-django-sin-lo-peor-de-django-por-sofia-denner-y-aylen-bombelli.json\n",
      "Fallo al cargar:  datos\\pycon-ar-2018\\videos\\flatpak-apps-que-corren-en-cualquier-distro-y-tal-como-lo-esperabas-por-d-nohales-y-m-quinones.json\n",
      "Fallo al cargar:  datos\\pycon-ar-2018\\videos\\gnulinux-instalado-para-durar-por-eduardo-casarero-y-juan-manuel-santos.json\n",
      "Fallo al cargar:  datos\\pycon-ar-2018\\videos\\haciendo-voip-con-python-y-asterisk-por-alejandro-zamora-fonseca-y-ana-almada.json\n",
      "Fallo al cargar:  datos\\pycon-ar-2018\\videos\\import-genero-diversidad-panel.json\n",
      "Fallo al cargar:  datos\\pycon-ar-2018\\videos\\introduccion-a-seguridad-de-aplicaciones-web-por-francisco-capdevila-y-carlos-de-la-torre.json\n",
      "Fallo al cargar:  datos\\pycon-ar-2018\\videos\\la-computacion-de-alto-desempeno-puede-ser-versatil-comunicando-c-y-fortran-con-python.json\n",
      "Fallo al cargar:  datos\\pycon-ar-2018\\videos\\las-buenas-las-malas-y-las-feas-practicas-por-juan-bagnera-y-lucio-delelis.json\n",
      "Fallo al cargar:  datos\\pycon-ar-2018\\videos\\observabilidad-el-debugger-es-para-gente-que-nunca-sale-a-produccion-por-n-demarchi-y-l-torre.json\n",
      "Fallo al cargar:  datos\\pycon-ar-2018\\videos\\presentacion-de-las-de-sistemas-por-ana-laura-almada-y-estefania-miguel.json\n",
      "Fallo al cargar:  datos\\pycon-ar-2018\\videos\\pyjustice-aplicaciones-de-python-en-el-area-legal-un-lenguaje-al-servicio-de-la-justicia.json\n",
      "Fallo al cargar:  datos\\pycon-ar-2018\\videos\\sobreviviendo-al-sindrome-del-segundo-sistema-con-python-por-matias-lang-y-leonardo-lazzaro.json\n"
     ]
    }
   ],
   "source": [
    "dataframes = [ safe_df(archivo) for archivo in archivos ]"
   ]
  },
  {
   "cell_type": "code",
   "execution_count": 43,
   "metadata": {},
   "outputs": [],
   "source": [
    "# %load datos/pycon-ar-2011/videos/pyconar-2011-alejandro-pereira-silvestre-huens-plone-4-tiempo-de-coccion-30-minutos-pyar.json\n",
    "{\n",
    "  \"description\": \"Descripci\\u00f3n de la charla: Cocci\\u00f3n de un sitio Plone completamente funcional con sistema de autenticacion de usuarios, permisos y tipos de contenidos.\",\n",
    "  \"language\": \"spa\",\n",
    "  \"recorded\": \"2011-09-23\",\n",
    "  \"speakers\": [\n",
    "    \"Alejandro Pereira\",\n",
    "    \"Silvestre Huens\"\n",
    "  ],\n",
    "  \"thumbnail_url\": \"https://i.ytimg.com/vi/UH6WQxQYUb0/hqdefault.jpg\",\n",
    "  \"title\": \"Plone 4: tiempo de cocci\\u00f3n 30 minutos\",\n",
    "  \"videos\": [\n",
    "    {\n",
    "      \"type\": \"youtube\",\n",
    "      \"url\": \"https://www.youtube.com/watch?v=UH6WQxQYUb0\"\n",
    "    }\n",
    "  ]\n",
    "}\n"
   ]
  },
  {
   "cell_type": "markdown",
   "metadata": {},
   "source": [
    "- Realizar graficos"
   ]
  }
 ],
 "metadata": {
  "kernelspec": {
   "display_name": "Python 3",
   "language": "python",
   "name": "python3"
  },
  "language_info": {
   "codemirror_mode": {
    "name": "ipython",
    "version": 3
   },
   "file_extension": ".py",
   "mimetype": "text/x-python",
   "name": "python",
   "nbconvert_exporter": "python",
   "pygments_lexer": "ipython3",
   "version": "3.8.6"
  }
 },
 "nbformat": 4,
 "nbformat_minor": 4
}

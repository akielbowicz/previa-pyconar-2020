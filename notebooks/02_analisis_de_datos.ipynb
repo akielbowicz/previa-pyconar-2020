{
 "cells": [
  {
   "cell_type": "markdown",
   "metadata": {},
   "source": [
    "# Como realizar el analisis de datos en Jupyter "
   ]
  },
  {
   "cell_type": "markdown",
   "metadata": {},
   "source": [
    "[PyCon Ar en PyVideo.org](https://pyvideo.org/events/pycon-ar-2011.html)"
   ]
  },
  {
   "cell_type": "markdown",
   "metadata": {},
   "source": [
    "- Explorar los datos"
   ]
  },
  {
   "cell_type": "code",
   "execution_count": 19,
   "metadata": {},
   "outputs": [],
   "source": [
    "import pathlib\n",
    "\n",
    "carpeta_datos = pathlib.Path('./datos')"
   ]
  },
  {
   "cell_type": "code",
   "execution_count": 33,
   "metadata": {},
   "outputs": [],
   "source": [
    "archivos = [ elemento for elemento in carpeta_datos.glob('*/videos/*.json') ]"
   ]
  },
  {
   "cell_type": "code",
   "execution_count": 34,
   "metadata": {},
   "outputs": [
    {
     "data": {
      "text/plain": [
       "237"
      ]
     },
     "execution_count": 34,
     "metadata": {},
     "output_type": "execute_result"
    }
   ],
   "source": [
    "len(archivos)"
   ]
  },
  {
   "cell_type": "code",
   "execution_count": 35,
   "metadata": {},
   "outputs": [
    {
     "data": {
      "text/plain": [
       "{'.json'}"
      ]
     },
     "execution_count": 35,
     "metadata": {},
     "output_type": "execute_result"
    }
   ],
   "source": [
    "{archivo.suffix for archivo in archivos }"
   ]
  },
  {
   "cell_type": "code",
   "execution_count": 31,
   "metadata": {},
   "outputs": [
    {
     "data": {
      "text/plain": [
       "''"
      ]
     },
     "execution_count": 31,
     "metadata": {},
     "output_type": "execute_result"
    }
   ],
   "source": [
    "archivos[0].suffix"
   ]
  },
  {
   "cell_type": "markdown",
   "metadata": {},
   "source": [
    "- Importar los datos con pandas"
   ]
  },
  {
   "cell_type": "code",
   "execution_count": 36,
   "metadata": {},
   "outputs": [],
   "source": [
    "import pandas"
   ]
  },
  {
   "cell_type": "code",
   "execution_count": 58,
   "metadata": {},
   "outputs": [],
   "source": [
    "def safe_df(archivo):\n",
    "    try:\n",
    "        df = pandas.read_json(archivo,typ='series')\n",
    "    except ValueError as err:\n",
    "        df = pandas.DataFrame()\n",
    "        print('Fallo al cargar: ', archivo)\n",
    "    return df"
   ]
  },
  {
   "cell_type": "code",
   "execution_count": 59,
   "metadata": {},
   "outputs": [],
   "source": [
    "series = [ safe_df(archivo) for archivo in archivos ]"
   ]
  },
  {
   "cell_type": "code",
   "execution_count": 69,
   "metadata": {},
   "outputs": [],
   "source": [
    "df = pandas.concat(series,axis=1).T"
   ]
  },
  {
   "cell_type": "code",
   "execution_count": 73,
   "metadata": {},
   "outputs": [],
   "source": [
    "speakers = df.speakers.explode()"
   ]
  },
  {
   "cell_type": "code",
   "execution_count": 82,
   "metadata": {},
   "outputs": [],
   "source": [
    "import bqplot.pyplot as plt\n",
    "\n",
    "pandas.set_option('plotting.backend', 'bqplot.pyplot')"
   ]
  },
  {
   "cell_type": "code",
   "execution_count": 83,
   "metadata": {},
   "outputs": [
    {
     "data": {
      "application/vnd.jupyter.widget-view+json": {
       "model_id": "eb9e8fa8891d414d8dc6bfa0a17a7c17",
       "version_major": 2,
       "version_minor": 0
      },
      "text/plain": [
       "VBox(children=(Figure(axes=[Axis(scale=LinearScale(), side='bottom'), Axis(orientation='vertical', scale=Linea…"
      ]
     },
     "metadata": {},
     "output_type": "display_data"
    }
   ],
   "source": [
    "df.speakers.apply(len).sort_values().plot()\n",
    "plt.show()"
   ]
  },
  {
   "cell_type": "code",
   "execution_count": 95,
   "metadata": {},
   "outputs": [
    {
     "data": {
      "application/vnd.jupyter.widget-view+json": {
       "model_id": "1f5c21cad4174148a5616bb3c8378ff4",
       "version_major": 2,
       "version_minor": 0
      },
      "text/plain": [
       "VBox(children=(Figure(axes=[Axis(scale=LinearScale()), Axis(orientation='vertical', scale=LinearScale())], fig…"
      ]
     },
     "metadata": {},
     "output_type": "display_data"
    }
   ],
   "source": [
    "plt.figure()\n",
    "df.speakers.explode().value_counts().plot(kind='bar')\n",
    "plt.show()"
   ]
  },
  {
   "cell_type": "markdown",
   "metadata": {},
   "source": [
    "- Realizar graficos"
   ]
  }
 ],
 "metadata": {
  "kernelspec": {
   "display_name": "Python 3",
   "language": "python",
   "name": "python3"
  },
  "language_info": {
   "codemirror_mode": {
    "name": "ipython",
    "version": 3
   },
   "file_extension": ".py",
   "mimetype": "text/x-python",
   "name": "python",
   "nbconvert_exporter": "python",
   "pygments_lexer": "ipython3",
   "version": "3.8.6"
  },
  "widgets": {
   "application/vnd.jupyter.widget-state+json": {
    "state": {
     "054729a2681b427cbae3c1b88bbb5d81": {
      "model_module": "@jupyter-widgets/base",
      "model_module_version": "1.2.0",
      "model_name": "LayoutModel",
      "state": {}
     },
     "0f0d73466f924b469f54272af2eb544c": {
      "model_module": "bqplot",
      "model_module_version": "^0.5.18",
      "model_name": "LinearScaleModel",
      "state": {
       "_model_module_version": "^0.5.18",
       "_view_module_version": "^0.5.18",
       "allow_padding": false,
       "max": 1,
       "min": 0,
       "stabilized": false
      }
     },
     "12c151223eb04b1fa1f7506182540023": {
      "model_module": "bqplot",
      "model_module_version": "^0.5.18",
      "model_name": "LinearScaleModel",
      "state": {
       "_model_module_version": "^0.5.18",
       "_view_module_version": "^0.5.18",
       "allow_padding": false,
       "max": 1,
       "min": 0,
       "stabilized": false
      }
     },
     "1622501b3c3b4845a533a14690f0fc48": {
      "model_module": "bqplot",
      "model_module_version": "^0.5.18",
      "model_name": "LinearScaleModel",
      "state": {
       "_model_module_version": "^0.5.18",
       "_view_module_version": "^0.5.18",
       "allow_padding": false,
       "max": 1,
       "min": 0,
       "stabilized": false
      }
     },
     "1b81e8d7747f4ade8732069e28ac2b79": {
      "buffers": [
       {
        "data": "AAAAAAEAAAACAAAAAwAAAAQAAAAFAAAABgAAAAcAAAAIAAAACQAAAAoAAAALAAAADAAAAA0AAAAOAAAADwAAABAAAAARAAAAEgAAABMAAAAUAAAAFQAAABYAAAAXAAAAGAAAABkAAAAaAAAAGwAAABwAAAAdAAAAHgAAAB8AAAAgAAAAIQAAACIAAAAjAAAAJAAAACUAAAAmAAAAJwAAACgAAAApAAAAKgAAACsAAAAsAAAALQAAAC4AAAAvAAAAMAAAADEAAAAyAAAAMwAAADQAAAA1AAAANgAAADcAAAA4AAAAOQAAADoAAAA7AAAAPAAAAD0AAAA+AAAAPwAAAEAAAABBAAAAQgAAAEMAAABEAAAARQAAAEYAAABHAAAASAAAAEkAAABKAAAASwAAAEwAAABNAAAATgAAAE8AAABQAAAAUQAAAFIAAABTAAAAVAAAAFUAAABWAAAAVwAAAFgAAABZAAAAWgAAAFsAAABcAAAAXQAAAF4AAABfAAAAYAAAAGEAAABiAAAAYwAAAGQAAABlAAAAZgAAAGcAAABoAAAAaQAAAGoAAABrAAAAbAAAAG0AAABuAAAAbwAAAHAAAABxAAAAcgAAAHMAAAB0AAAAdQAAAHYAAAB3AAAAeAAAAHkAAAB6AAAAewAAAHwAAAB9AAAAfgAAAH8AAACAAAAAgQAAAIIAAACDAAAAhAAAAIUAAACGAAAAhwAAAIgAAACJAAAAigAAAIsAAACMAAAAjQAAAI4AAACPAAAAkAAAAJEAAACSAAAAkwAAAJQAAACVAAAAlgAAAJcAAACYAAAAmQAAAJoAAACbAAAAnAAAAJ0AAACeAAAAnwAAAKAAAAChAAAAogAAAKMAAACkAAAApQAAAKYAAACnAAAAqAAAAKkAAACqAAAAqwAAAKwAAACtAAAArgAAAK8AAACwAAAAsQAAALIAAACzAAAAtAAAALUAAAC2AAAAtwAAALgAAAC5AAAAugAAALsAAAC8AAAAvQAAAL4AAAC/AAAAwAAAAMEAAADCAAAAwwAAAMQAAADFAAAAxgAAAMcAAADIAAAAyQAAAMoAAADLAAAAzAAAAM0AAADOAAAAzwAAANAAAADRAAAA0gAAANMAAADUAAAA1QAAANYAAADXAAAA2AAAANkAAADaAAAA2wAAANwAAADdAAAA3gAAAN8AAADgAAAA4QAAAOIAAADjAAAA5AAAAOUAAADmAAAA5wAAAOgAAADpAAAA6gAAAOsAAADsAAAA",
        "encoding": "base64",
        "path": [
         "x",
         "value"
        ]
       },
       {
        "data": "AAAAAAAAAAAAAAAAAAAAAAEAAAABAAAAAQAAAAEAAAABAAAAAQAAAAEAAAABAAAAAQAAAAEAAAABAAAAAQAAAAEAAAABAAAAAQAAAAEAAAABAAAAAQAAAAEAAAABAAAAAQAAAAEAAAABAAAAAQAAAAEAAAABAAAAAQAAAAEAAAABAAAAAQAAAAEAAAABAAAAAQAAAAEAAAABAAAAAQAAAAEAAAABAAAAAQAAAAEAAAABAAAAAQAAAAEAAAABAAAAAQAAAAEAAAABAAAAAQAAAAEAAAABAAAAAQAAAAEAAAABAAAAAQAAAAEAAAABAAAAAQAAAAEAAAABAAAAAQAAAAEAAAABAAAAAQAAAAEAAAABAAAAAQAAAAEAAAABAAAAAQAAAAEAAAABAAAAAQAAAAEAAAABAAAAAQAAAAEAAAABAAAAAQAAAAEAAAABAAAAAQAAAAEAAAABAAAAAQAAAAEAAAABAAAAAQAAAAEAAAABAAAAAQAAAAEAAAABAAAAAQAAAAEAAAABAAAAAQAAAAEAAAABAAAAAQAAAAEAAAABAAAAAQAAAAEAAAABAAAAAQAAAAEAAAABAAAAAQAAAAEAAAABAAAAAQAAAAEAAAABAAAAAQAAAAEAAAABAAAAAQAAAAEAAAABAAAAAQAAAAEAAAABAAAAAQAAAAEAAAABAAAAAQAAAAEAAAABAAAAAQAAAAEAAAABAAAAAQAAAAEAAAABAAAAAQAAAAEAAAABAAAAAQAAAAEAAAABAAAAAQAAAAEAAAABAAAAAQAAAAEAAAABAAAAAQAAAAEAAAABAAAAAQAAAAEAAAABAAAAAQAAAAEAAAABAAAAAQAAAAEAAAABAAAAAQAAAAEAAAABAAAAAQAAAAEAAAABAAAAAQAAAAEAAAABAAAAAQAAAAEAAAABAAAAAQAAAAEAAAABAAAAAQAAAAEAAAABAAAAAQAAAAEAAAABAAAAAQAAAAEAAAABAAAAAQAAAAEAAAABAAAAAQAAAAEAAAABAAAAAQAAAAEAAAABAAAAAQAAAAEAAAABAAAAAQAAAAEAAAABAAAAAQAAAAEAAAABAAAAAQAAAAEAAAABAAAAAQAAAAEAAAABAAAAAgAAAAIAAAACAAAAAgAAAAIAAAACAAAAAgAAAAIAAAACAAAAAgAAAAIAAAACAAAAAgAAAAIAAAACAAAAAgAAAAIAAAACAAAAAgAAAAIAAAACAAAAAgAAAAIAAAACAAAAAwAAAAQAAAAFAAAA",
        "encoding": "base64",
        "path": [
         "y",
         "value"
        ]
       }
      ],
      "model_module": "bqplot",
      "model_module_version": "^0.5.18",
      "model_name": "LinesModel",
      "state": {
       "_model_module_version": "^0.5.18",
       "_view_module_version": "^0.5.18",
       "fill_colors": [],
       "labels": [
        "C1"
       ],
       "scales": {
        "x": "IPY_MODEL_2a944ac647684872bc7fa22c4687c44d",
        "y": "IPY_MODEL_2f15896a9e124b9fb214f31f94c3fe97"
       },
       "x": {
        "dtype": "int32",
        "shape": [
         237
        ],
        "type": null
       },
       "y": {
        "dtype": "int32",
        "shape": [
         237
        ],
        "type": null
       }
      }
     },
     "1f5c21cad4174148a5616bb3c8378ff4": {
      "model_module": "@jupyter-widgets/controls",
      "model_module_version": "1.5.0",
      "model_name": "VBoxModel",
      "state": {
       "children": [
        "IPY_MODEL_4003fba24cb74d96bb0bed4dfaa36454",
        "IPY_MODEL_bb9f4aa868aa4bec99848c3ce9145e24"
       ],
       "layout": "IPY_MODEL_689e981cebe64abf97c6fbf71d670b46"
      }
     },
     "278d7232300a4281a89a20529a97c346": {
      "model_module": "bqplot",
      "model_module_version": "^0.5.18",
      "model_name": "AxisModel",
      "state": {
       "_model_module_version": "^0.5.18",
       "_view_module_version": "^0.5.18",
       "scale": "IPY_MODEL_2a944ac647684872bc7fa22c4687c44d",
       "side": "bottom",
       "tick_values": null
      }
     },
     "28e43afe41a248aea319bcda695e368f": {
      "model_module": "bqplot",
      "model_module_version": "^0.5.18",
      "model_name": "FigureModel",
      "state": {
       "_model_module_version": "^0.5.18",
       "_view_module_version": "^0.5.18",
       "axes": [
        "IPY_MODEL_5c11f99877da4d2889b517faf4432a68",
        "IPY_MODEL_2a1a4d682a7d42339f0f01bcede56d8b"
       ],
       "layout": "IPY_MODEL_91ef7837efcb4720819ef2c93f32a9c9",
       "marks": [
        "IPY_MODEL_f2f950f505b44f20b13b7cc64b20629d"
       ],
       "scale_x": "IPY_MODEL_12c151223eb04b1fa1f7506182540023",
       "scale_y": "IPY_MODEL_2b894d4ee5aa4def8f95f47d6691e216"
      }
     },
     "2a1a4d682a7d42339f0f01bcede56d8b": {
      "model_module": "bqplot",
      "model_module_version": "^0.5.18",
      "model_name": "AxisModel",
      "state": {
       "_model_module_version": "^0.5.18",
       "_view_module_version": "^0.5.18",
       "orientation": "vertical",
       "scale": "IPY_MODEL_2f8f6c2abca644cfa8770be19e2e799c",
       "side": "left",
       "tick_values": null
      }
     },
     "2a944ac647684872bc7fa22c4687c44d": {
      "model_module": "bqplot",
      "model_module_version": "^0.5.18",
      "model_name": "LinearScaleModel",
      "state": {
       "_model_module_version": "^0.5.18",
       "_view_module_version": "^0.5.18",
       "stabilized": false
      }
     },
     "2b894d4ee5aa4def8f95f47d6691e216": {
      "model_module": "bqplot",
      "model_module_version": "^0.5.18",
      "model_name": "LinearScaleModel",
      "state": {
       "_model_module_version": "^0.5.18",
       "_view_module_version": "^0.5.18",
       "allow_padding": false,
       "max": 1,
       "min": 0,
       "stabilized": false
      }
     },
     "2f15896a9e124b9fb214f31f94c3fe97": {
      "model_module": "bqplot",
      "model_module_version": "^0.5.18",
      "model_name": "LinearScaleModel",
      "state": {
       "_model_module_version": "^0.5.18",
       "_view_module_version": "^0.5.18",
       "stabilized": false
      }
     },
     "2f8f6c2abca644cfa8770be19e2e799c": {
      "model_module": "bqplot",
      "model_module_version": "^0.5.18",
      "model_name": "LinearScaleModel",
      "state": {
       "_model_module_version": "^0.5.18",
       "_view_module_version": "^0.5.18",
       "stabilized": false
      }
     },
     "3129d10c6cd740b7ab7745bb6361896b": {
      "model_module": "@jupyter-widgets/base",
      "model_module_version": "1.2.0",
      "model_name": "LayoutModel",
      "state": {}
     },
     "4003fba24cb74d96bb0bed4dfaa36454": {
      "model_module": "bqplot",
      "model_module_version": "^0.5.18",
      "model_name": "FigureModel",
      "state": {
       "_model_module_version": "^0.5.18",
       "_view_module_version": "^0.5.18",
       "axes": [
        "IPY_MODEL_791bfc2e1a324ea38a4ac301918e49f4",
        "IPY_MODEL_b0466d62846241d486b985f72fae2b71"
       ],
       "layout": "IPY_MODEL_a8ee4521aa234e68a3acb461311bafdb",
       "marks": [
        "IPY_MODEL_ad868c1cf5ac4fddaf9fef97c34a9b79"
       ],
       "scale_x": "IPY_MODEL_7c7b0782a3914d34a0bf07ece360a573",
       "scale_y": "IPY_MODEL_6c694b17049d46ea95b3bc3ec3abb092"
      }
     },
     "56b8daf8204d4f2b8963797c68e0cc60": {
      "model_module": "bqplot",
      "model_module_version": "^0.5.18",
      "model_name": "LinearScaleModel",
      "state": {
       "_model_module_version": "^0.5.18",
       "_view_module_version": "^0.5.18",
       "stabilized": false
      }
     },
     "5c11f99877da4d2889b517faf4432a68": {
      "model_module": "bqplot",
      "model_module_version": "^0.5.18",
      "model_name": "AxisModel",
      "state": {
       "_model_module_version": "^0.5.18",
       "_view_module_version": "^0.5.18",
       "scale": "IPY_MODEL_56b8daf8204d4f2b8963797c68e0cc60",
       "side": "bottom",
       "tick_values": null
      }
     },
     "5fe26208d7fb423186ae03302671623d": {
      "buffers": [
       {
        "data": "AAAAAAEAAAACAAAAAwAAAAQAAAAFAAAABgAAAAcAAAAIAAAACQAAAAoAAAALAAAADAAAAA0AAAAOAAAADwAAABAAAAARAAAAEgAAABMAAAAUAAAAFQAAABYAAAAXAAAAGAAAABkAAAAaAAAAGwAAABwAAAAdAAAAHgAAAB8AAAAgAAAAIQAAACIAAAAjAAAAJAAAACUAAAAmAAAAJwAAACgAAAApAAAAKgAAACsAAAAsAAAALQAAAC4AAAAvAAAAMAAAADEAAAAyAAAAMwAAADQAAAA1AAAANgAAADcAAAA4AAAAOQAAADoAAAA7AAAAPAAAAD0AAAA+AAAAPwAAAEAAAABBAAAAQgAAAEMAAABEAAAARQAAAEYAAABHAAAASAAAAEkAAABKAAAASwAAAEwAAABNAAAATgAAAE8AAABQAAAAUQAAAFIAAABTAAAAVAAAAFUAAABWAAAAVwAAAFgAAABZAAAAWgAAAFsAAABcAAAAXQAAAF4AAABfAAAAYAAAAGEAAABiAAAAYwAAAGQAAABlAAAAZgAAAGcAAABoAAAAaQAAAGoAAABrAAAAbAAAAG0AAABuAAAAbwAAAHAAAABxAAAAcgAAAHMAAAB0AAAAdQAAAHYAAAB3AAAAeAAAAHkAAAB6AAAAewAAAHwAAAB9AAAAfgAAAH8AAACAAAAAgQAAAIIAAACDAAAAhAAAAIUAAACGAAAAhwAAAIgAAACJAAAAigAAAIsAAACMAAAAjQAAAI4AAACPAAAAkAAAAJEAAACSAAAAkwAAAJQAAACVAAAAlgAAAJcAAACYAAAAmQAAAJoAAACbAAAAnAAAAJ0AAACeAAAAnwAAAKAAAAChAAAAogAAAKMAAACkAAAApQAAAKYAAACnAAAAqAAAAKkAAACqAAAAqwAAAKwAAACtAAAArgAAAA==",
        "encoding": "base64",
        "path": [
         "x",
         "value"
        ]
       },
       {
        "data": "HwAAAAcAAAAFAAAABQAAAAUAAAAEAAAABAAAAAMAAAADAAAAAwAAAAMAAAADAAAAAwAAAAMAAAACAAAAAgAAAAIAAAACAAAAAgAAAAIAAAACAAAAAgAAAAIAAAACAAAAAgAAAAIAAAACAAAAAgAAAAIAAAACAAAAAgAAAAIAAAACAAAAAgAAAAIAAAACAAAAAgAAAAEAAAABAAAAAQAAAAEAAAABAAAAAQAAAAEAAAABAAAAAQAAAAEAAAABAAAAAQAAAAEAAAABAAAAAQAAAAEAAAABAAAAAQAAAAEAAAABAAAAAQAAAAEAAAABAAAAAQAAAAEAAAABAAAAAQAAAAEAAAABAAAAAQAAAAEAAAABAAAAAQAAAAEAAAABAAAAAQAAAAEAAAABAAAAAQAAAAEAAAABAAAAAQAAAAEAAAABAAAAAQAAAAEAAAABAAAAAQAAAAEAAAABAAAAAQAAAAEAAAABAAAAAQAAAAEAAAABAAAAAQAAAAEAAAABAAAAAQAAAAEAAAABAAAAAQAAAAEAAAABAAAAAQAAAAEAAAABAAAAAQAAAAEAAAABAAAAAQAAAAEAAAABAAAAAQAAAAEAAAABAAAAAQAAAAEAAAABAAAAAQAAAAEAAAABAAAAAQAAAAEAAAABAAAAAQAAAAEAAAABAAAAAQAAAAEAAAABAAAAAQAAAAEAAAABAAAAAQAAAAEAAAABAAAAAQAAAAEAAAABAAAAAQAAAAEAAAABAAAAAQAAAAEAAAABAAAAAQAAAAEAAAABAAAAAQAAAAEAAAABAAAAAQAAAAEAAAABAAAAAQAAAAEAAAABAAAAAQAAAAEAAAABAAAAAQAAAAEAAAABAAAAAQAAAAEAAAABAAAAAQAAAAEAAAABAAAAAQAAAAEAAAABAAAAAQAAAAEAAAABAAAAAQAAAA==",
        "encoding": "base64",
        "path": [
         "y",
         "value"
        ]
       }
      ],
      "model_module": "bqplot",
      "model_module_version": "^0.5.18",
      "model_name": "LinesModel",
      "state": {
       "_model_module_version": "^0.5.18",
       "_view_module_version": "^0.5.18",
       "fill_colors": [],
       "labels": [
        "C1"
       ],
       "scales": {
        "x": "IPY_MODEL_2a944ac647684872bc7fa22c4687c44d",
        "y": "IPY_MODEL_2f15896a9e124b9fb214f31f94c3fe97"
       },
       "x": {
        "dtype": "int32",
        "shape": [
         175
        ],
        "type": null
       },
       "y": {
        "dtype": "int32",
        "shape": [
         175
        ],
        "type": null
       }
      }
     },
     "63c9f3d47e774bd7b35c0f6b19f54577": {
      "model_module": "bqplot",
      "model_module_version": "^0.5.18",
      "model_name": "ToolbarModel",
      "state": {
       "_model_module_version": "^0.5.18",
       "_view_module_version": "^0.5.18",
       "figure": "IPY_MODEL_28e43afe41a248aea319bcda695e368f",
       "layout": "IPY_MODEL_aed08846c8d5466890bacccc82941785"
      }
     },
     "689e981cebe64abf97c6fbf71d670b46": {
      "model_module": "@jupyter-widgets/base",
      "model_module_version": "1.2.0",
      "model_name": "LayoutModel",
      "state": {}
     },
     "6c694b17049d46ea95b3bc3ec3abb092": {
      "model_module": "bqplot",
      "model_module_version": "^0.5.18",
      "model_name": "LinearScaleModel",
      "state": {
       "_model_module_version": "^0.5.18",
       "_view_module_version": "^0.5.18",
       "allow_padding": false,
       "max": 1,
       "min": 0,
       "stabilized": false
      }
     },
     "71445f7d303f46cbac0fc04e165ef1d1": {
      "model_module": "@jupyter-widgets/base",
      "model_module_version": "1.2.0",
      "model_name": "LayoutModel",
      "state": {}
     },
     "791bfc2e1a324ea38a4ac301918e49f4": {
      "model_module": "bqplot",
      "model_module_version": "^0.5.18",
      "model_name": "AxisModel",
      "state": {
       "_model_module_version": "^0.5.18",
       "_view_module_version": "^0.5.18",
       "scale": "IPY_MODEL_81633a34d3b94e5f9f06b8d6bfa768f4",
       "side": "bottom",
       "tick_values": null
      }
     },
     "7bdb19ab63c64f44b2979cd28fd92f7f": {
      "buffers": [
       {
        "data": "AAAAAAEAAAACAAAAAwAAAAQAAAAFAAAABgAAAAcAAAAIAAAACQAAAAoAAAALAAAADAAAAA0AAAAOAAAADwAAABAAAAARAAAAEgAAABMAAAAUAAAAFQAAABYAAAAXAAAAGAAAABkAAAAaAAAAGwAAABwAAAAdAAAAHgAAAB8AAAAgAAAAIQAAACIAAAAjAAAAJAAAACUAAAAmAAAAJwAAACgAAAApAAAAKgAAACsAAAAsAAAALQAAAC4AAAAvAAAAMAAAADEAAAAyAAAAMwAAADQAAAA1AAAANgAAADcAAAA4AAAAOQAAADoAAAA7AAAAPAAAAD0AAAA+AAAAPwAAAEAAAABBAAAAQgAAAEMAAABEAAAARQAAAEYAAABHAAAASAAAAEkAAABKAAAASwAAAEwAAABNAAAATgAAAE8AAABQAAAAUQAAAFIAAABTAAAAVAAAAFUAAABWAAAAVwAAAFgAAABZAAAAWgAAAFsAAABcAAAAXQAAAF4AAABfAAAAYAAAAGEAAABiAAAAYwAAAGQAAABlAAAAZgAAAGcAAABoAAAAaQAAAGoAAABrAAAAbAAAAG0AAABuAAAAbwAAAHAAAABxAAAAcgAAAHMAAAB0AAAAdQAAAHYAAAB3AAAAeAAAAHkAAAB6AAAAewAAAHwAAAB9AAAAfgAAAH8AAACAAAAAgQAAAIIAAACDAAAAhAAAAIUAAACGAAAAhwAAAIgAAACJAAAAigAAAIsAAACMAAAAjQAAAI4AAACPAAAAkAAAAJEAAACSAAAAkwAAAJQAAACVAAAAlgAAAJcAAACYAAAAmQAAAJoAAACbAAAAnAAAAJ0AAACeAAAAnwAAAKAAAAChAAAAogAAAKMAAACkAAAApQAAAKYAAACnAAAAqAAAAKkAAACqAAAAqwAAAKwAAACtAAAArgAAAA==",
        "encoding": "base64",
        "path": [
         "x",
         "value"
        ]
       },
       {
        "data": "HwAAAAcAAAAFAAAABQAAAAUAAAAEAAAABAAAAAMAAAADAAAAAwAAAAMAAAADAAAAAwAAAAMAAAACAAAAAgAAAAIAAAACAAAAAgAAAAIAAAACAAAAAgAAAAIAAAACAAAAAgAAAAIAAAACAAAAAgAAAAIAAAACAAAAAgAAAAIAAAACAAAAAgAAAAIAAAACAAAAAgAAAAEAAAABAAAAAQAAAAEAAAABAAAAAQAAAAEAAAABAAAAAQAAAAEAAAABAAAAAQAAAAEAAAABAAAAAQAAAAEAAAABAAAAAQAAAAEAAAABAAAAAQAAAAEAAAABAAAAAQAAAAEAAAABAAAAAQAAAAEAAAABAAAAAQAAAAEAAAABAAAAAQAAAAEAAAABAAAAAQAAAAEAAAABAAAAAQAAAAEAAAABAAAAAQAAAAEAAAABAAAAAQAAAAEAAAABAAAAAQAAAAEAAAABAAAAAQAAAAEAAAABAAAAAQAAAAEAAAABAAAAAQAAAAEAAAABAAAAAQAAAAEAAAABAAAAAQAAAAEAAAABAAAAAQAAAAEAAAABAAAAAQAAAAEAAAABAAAAAQAAAAEAAAABAAAAAQAAAAEAAAABAAAAAQAAAAEAAAABAAAAAQAAAAEAAAABAAAAAQAAAAEAAAABAAAAAQAAAAEAAAABAAAAAQAAAAEAAAABAAAAAQAAAAEAAAABAAAAAQAAAAEAAAABAAAAAQAAAAEAAAABAAAAAQAAAAEAAAABAAAAAQAAAAEAAAABAAAAAQAAAAEAAAABAAAAAQAAAAEAAAABAAAAAQAAAAEAAAABAAAAAQAAAAEAAAABAAAAAQAAAAEAAAABAAAAAQAAAAEAAAABAAAAAQAAAAEAAAABAAAAAQAAAAEAAAABAAAAAQAAAAEAAAABAAAAAQAAAAEAAAABAAAAAQAAAA==",
        "encoding": "base64",
        "path": [
         "y",
         "value"
        ]
       }
      ],
      "model_module": "bqplot",
      "model_module_version": "^0.5.18",
      "model_name": "LinesModel",
      "state": {
       "_model_module_version": "^0.5.18",
       "_view_module_version": "^0.5.18",
       "fill_colors": [],
       "labels": [
        "C1"
       ],
       "scales": {
        "x": "IPY_MODEL_2a944ac647684872bc7fa22c4687c44d",
        "y": "IPY_MODEL_2f15896a9e124b9fb214f31f94c3fe97"
       },
       "x": {
        "dtype": "int32",
        "shape": [
         175
        ],
        "type": null
       },
       "y": {
        "dtype": "int32",
        "shape": [
         175
        ],
        "type": null
       }
      }
     },
     "7c7b0782a3914d34a0bf07ece360a573": {
      "model_module": "bqplot",
      "model_module_version": "^0.5.18",
      "model_name": "LinearScaleModel",
      "state": {
       "_model_module_version": "^0.5.18",
       "_view_module_version": "^0.5.18",
       "allow_padding": false,
       "max": 1,
       "min": 0,
       "stabilized": false
      }
     },
     "81633a34d3b94e5f9f06b8d6bfa768f4": {
      "model_module": "bqplot",
      "model_module_version": "^0.5.18",
      "model_name": "LinearScaleModel",
      "state": {
       "_model_module_version": "^0.5.18",
       "_view_module_version": "^0.5.18",
       "stabilized": false
      }
     },
     "8a1b830b36d24a8480ff9c28a945a043": {
      "model_module": "@jupyter-widgets/base",
      "model_module_version": "1.2.0",
      "model_name": "LayoutModel",
      "state": {}
     },
     "8a4c6bab8ea1480aa816982e2007f98c": {
      "model_module": "bqplot",
      "model_module_version": "^0.5.18",
      "model_name": "ToolbarModel",
      "state": {
       "_model_module_version": "^0.5.18",
       "_view_module_version": "^0.5.18",
       "figure": "IPY_MODEL_90418e9ec0014650ad847cbe5aa6f8d5",
       "layout": "IPY_MODEL_8a1b830b36d24a8480ff9c28a945a043"
      }
     },
     "90418e9ec0014650ad847cbe5aa6f8d5": {
      "model_module": "bqplot",
      "model_module_version": "^0.5.18",
      "model_name": "FigureModel",
      "state": {
       "_model_module_version": "^0.5.18",
       "_view_module_version": "^0.5.18",
       "axes": [
        "IPY_MODEL_278d7232300a4281a89a20529a97c346",
        "IPY_MODEL_f66dc8c67f9f439c855b47a6af9b0de0"
       ],
       "layout": "IPY_MODEL_3129d10c6cd740b7ab7745bb6361896b",
       "marks": [
        "IPY_MODEL_1b81e8d7747f4ade8732069e28ac2b79",
        "IPY_MODEL_e7aee2ee61984e13a008522026a495b8",
        "IPY_MODEL_5fe26208d7fb423186ae03302671623d",
        "IPY_MODEL_7bdb19ab63c64f44b2979cd28fd92f7f"
       ],
       "scale_x": "IPY_MODEL_0f0d73466f924b469f54272af2eb544c",
       "scale_y": "IPY_MODEL_1622501b3c3b4845a533a14690f0fc48"
      }
     },
     "91ef7837efcb4720819ef2c93f32a9c9": {
      "model_module": "@jupyter-widgets/base",
      "model_module_version": "1.2.0",
      "model_name": "LayoutModel",
      "state": {}
     },
     "a8ee4521aa234e68a3acb461311bafdb": {
      "model_module": "@jupyter-widgets/base",
      "model_module_version": "1.2.0",
      "model_name": "LayoutModel",
      "state": {}
     },
     "ad868c1cf5ac4fddaf9fef97c34a9b79": {
      "buffers": [
       {
        "data": "AAAAAAEAAAACAAAAAwAAAAQAAAAFAAAABgAAAAcAAAAIAAAACQAAAAoAAAALAAAADAAAAA0AAAAOAAAADwAAABAAAAARAAAAEgAAABMAAAAUAAAAFQAAABYAAAAXAAAAGAAAABkAAAAaAAAAGwAAABwAAAAdAAAAHgAAAB8AAAAgAAAAIQAAACIAAAAjAAAAJAAAACUAAAAmAAAAJwAAACgAAAApAAAAKgAAACsAAAAsAAAALQAAAC4AAAAvAAAAMAAAADEAAAAyAAAAMwAAADQAAAA1AAAANgAAADcAAAA4AAAAOQAAADoAAAA7AAAAPAAAAD0AAAA+AAAAPwAAAEAAAABBAAAAQgAAAEMAAABEAAAARQAAAEYAAABHAAAASAAAAEkAAABKAAAASwAAAEwAAABNAAAATgAAAE8AAABQAAAAUQAAAFIAAABTAAAAVAAAAFUAAABWAAAAVwAAAFgAAABZAAAAWgAAAFsAAABcAAAAXQAAAF4AAABfAAAAYAAAAGEAAABiAAAAYwAAAGQAAABlAAAAZgAAAGcAAABoAAAAaQAAAGoAAABrAAAAbAAAAG0AAABuAAAAbwAAAHAAAABxAAAAcgAAAHMAAAB0AAAAdQAAAHYAAAB3AAAAeAAAAHkAAAB6AAAAewAAAHwAAAB9AAAAfgAAAH8AAACAAAAAgQAAAIIAAACDAAAAhAAAAIUAAACGAAAAhwAAAIgAAACJAAAAigAAAIsAAACMAAAAjQAAAI4AAACPAAAAkAAAAJEAAACSAAAAkwAAAJQAAACVAAAAlgAAAJcAAACYAAAAmQAAAJoAAACbAAAAnAAAAJ0AAACeAAAAnwAAAKAAAAChAAAAogAAAKMAAACkAAAApQAAAKYAAACnAAAAqAAAAKkAAACqAAAAqwAAAKwAAACtAAAArgAAAA==",
        "encoding": "base64",
        "path": [
         "x",
         "value"
        ]
       },
       {
        "data": "HwAAAAcAAAAFAAAABQAAAAUAAAAEAAAABAAAAAMAAAADAAAAAwAAAAMAAAADAAAAAwAAAAMAAAACAAAAAgAAAAIAAAACAAAAAgAAAAIAAAACAAAAAgAAAAIAAAACAAAAAgAAAAIAAAACAAAAAgAAAAIAAAACAAAAAgAAAAIAAAACAAAAAgAAAAIAAAACAAAAAgAAAAEAAAABAAAAAQAAAAEAAAABAAAAAQAAAAEAAAABAAAAAQAAAAEAAAABAAAAAQAAAAEAAAABAAAAAQAAAAEAAAABAAAAAQAAAAEAAAABAAAAAQAAAAEAAAABAAAAAQAAAAEAAAABAAAAAQAAAAEAAAABAAAAAQAAAAEAAAABAAAAAQAAAAEAAAABAAAAAQAAAAEAAAABAAAAAQAAAAEAAAABAAAAAQAAAAEAAAABAAAAAQAAAAEAAAABAAAAAQAAAAEAAAABAAAAAQAAAAEAAAABAAAAAQAAAAEAAAABAAAAAQAAAAEAAAABAAAAAQAAAAEAAAABAAAAAQAAAAEAAAABAAAAAQAAAAEAAAABAAAAAQAAAAEAAAABAAAAAQAAAAEAAAABAAAAAQAAAAEAAAABAAAAAQAAAAEAAAABAAAAAQAAAAEAAAABAAAAAQAAAAEAAAABAAAAAQAAAAEAAAABAAAAAQAAAAEAAAABAAAAAQAAAAEAAAABAAAAAQAAAAEAAAABAAAAAQAAAAEAAAABAAAAAQAAAAEAAAABAAAAAQAAAAEAAAABAAAAAQAAAAEAAAABAAAAAQAAAAEAAAABAAAAAQAAAAEAAAABAAAAAQAAAAEAAAABAAAAAQAAAAEAAAABAAAAAQAAAAEAAAABAAAAAQAAAAEAAAABAAAAAQAAAAEAAAABAAAAAQAAAAEAAAABAAAAAQAAAAEAAAABAAAAAQAAAA==",
        "encoding": "base64",
        "path": [
         "y",
         "value"
        ]
       }
      ],
      "model_module": "bqplot",
      "model_module_version": "^0.5.18",
      "model_name": "LinesModel",
      "state": {
       "_model_module_version": "^0.5.18",
       "_view_module_version": "^0.5.18",
       "fill_colors": [],
       "labels": [
        "C1"
       ],
       "scales": {
        "x": "IPY_MODEL_81633a34d3b94e5f9f06b8d6bfa768f4",
        "y": "IPY_MODEL_fd5b0305e35a4f57aa7ce7055ab656a0"
       },
       "x": {
        "dtype": "int32",
        "shape": [
         175
        ],
        "type": null
       },
       "y": {
        "dtype": "int32",
        "shape": [
         175
        ],
        "type": null
       }
      }
     },
     "aed08846c8d5466890bacccc82941785": {
      "model_module": "@jupyter-widgets/base",
      "model_module_version": "1.2.0",
      "model_name": "LayoutModel",
      "state": {}
     },
     "b0466d62846241d486b985f72fae2b71": {
      "model_module": "bqplot",
      "model_module_version": "^0.5.18",
      "model_name": "AxisModel",
      "state": {
       "_model_module_version": "^0.5.18",
       "_view_module_version": "^0.5.18",
       "orientation": "vertical",
       "scale": "IPY_MODEL_fd5b0305e35a4f57aa7ce7055ab656a0",
       "side": "left",
       "tick_values": null
      }
     },
     "bb9f4aa868aa4bec99848c3ce9145e24": {
      "model_module": "bqplot",
      "model_module_version": "^0.5.18",
      "model_name": "ToolbarModel",
      "state": {
       "_model_module_version": "^0.5.18",
       "_view_module_version": "^0.5.18",
       "figure": "IPY_MODEL_4003fba24cb74d96bb0bed4dfaa36454",
       "layout": "IPY_MODEL_dd412cb30bbf4eb8b8b3b46ae976d025"
      }
     },
     "dd412cb30bbf4eb8b8b3b46ae976d025": {
      "model_module": "@jupyter-widgets/base",
      "model_module_version": "1.2.0",
      "model_name": "LayoutModel",
      "state": {}
     },
     "e7aee2ee61984e13a008522026a495b8": {
      "buffers": [
       {
        "data": "AAAAAAEAAAACAAAAAwAAAAQAAAAFAAAABgAAAAcAAAAIAAAACQAAAAoAAAALAAAADAAAAA0AAAAOAAAADwAAABAAAAARAAAAEgAAABMAAAAUAAAAFQAAABYAAAAXAAAAGAAAABkAAAAaAAAAGwAAABwAAAAdAAAAHgAAAB8AAAAgAAAAIQAAACIAAAAjAAAAJAAAACUAAAAmAAAAJwAAACgAAAApAAAAKgAAACsAAAAsAAAALQAAAC4AAAAvAAAAMAAAADEAAAAyAAAAMwAAADQAAAA1AAAANgAAADcAAAA4AAAAOQAAADoAAAA7AAAAPAAAAD0AAAA+AAAAPwAAAEAAAABBAAAAQgAAAEMAAABEAAAARQAAAEYAAABHAAAASAAAAEkAAABKAAAASwAAAEwAAABNAAAATgAAAE8AAABQAAAAUQAAAFIAAABTAAAAVAAAAFUAAABWAAAAVwAAAFgAAABZAAAAWgAAAFsAAABcAAAAXQAAAF4AAABfAAAAYAAAAGEAAABiAAAAYwAAAGQAAABlAAAAZgAAAGcAAABoAAAAaQAAAGoAAABrAAAAbAAAAG0AAABuAAAAbwAAAHAAAABxAAAAcgAAAHMAAAB0AAAAdQAAAHYAAAB3AAAAeAAAAHkAAAB6AAAAewAAAHwAAAB9AAAAfgAAAH8AAACAAAAAgQAAAIIAAACDAAAAhAAAAIUAAACGAAAAhwAAAIgAAACJAAAAigAAAIsAAACMAAAAjQAAAI4AAACPAAAAkAAAAJEAAACSAAAAkwAAAJQAAACVAAAAlgAAAJcAAACYAAAAmQAAAJoAAACbAAAAnAAAAJ0AAACeAAAAnwAAAKAAAAChAAAAogAAAKMAAACkAAAApQAAAKYAAACnAAAAqAAAAKkAAACqAAAAqwAAAKwAAACtAAAArgAAAK8AAACwAAAAsQAAALIAAACzAAAAtAAAALUAAAC2AAAAtwAAALgAAAC5AAAAugAAALsAAAC8AAAAvQAAAL4AAAC/AAAAwAAAAMEAAADCAAAAwwAAAMQAAADFAAAAxgAAAMcAAADIAAAAyQAAAMoAAADLAAAAzAAAAM0AAADOAAAAzwAAANAAAADRAAAA0gAAANMAAADUAAAA1QAAANYAAADXAAAA2AAAANkAAADaAAAA2wAAANwAAADdAAAA3gAAAN8AAADgAAAA4QAAAOIAAADjAAAA5AAAAOUAAADmAAAA5wAAAOgAAADpAAAA6gAAAOsAAADsAAAA",
        "encoding": "base64",
        "path": [
         "x",
         "value"
        ]
       },
       {
        "data": "AAAAAAAAAAAAAAAAAAAAAAEAAAABAAAAAQAAAAEAAAABAAAAAQAAAAEAAAABAAAAAQAAAAEAAAABAAAAAQAAAAEAAAABAAAAAQAAAAEAAAABAAAAAQAAAAEAAAABAAAAAQAAAAEAAAABAAAAAQAAAAEAAAABAAAAAQAAAAEAAAABAAAAAQAAAAEAAAABAAAAAQAAAAEAAAABAAAAAQAAAAEAAAABAAAAAQAAAAEAAAABAAAAAQAAAAEAAAABAAAAAQAAAAEAAAABAAAAAQAAAAEAAAABAAAAAQAAAAEAAAABAAAAAQAAAAEAAAABAAAAAQAAAAEAAAABAAAAAQAAAAEAAAABAAAAAQAAAAEAAAABAAAAAQAAAAEAAAABAAAAAQAAAAEAAAABAAAAAQAAAAEAAAABAAAAAQAAAAEAAAABAAAAAQAAAAEAAAABAAAAAQAAAAEAAAABAAAAAQAAAAEAAAABAAAAAQAAAAEAAAABAAAAAQAAAAEAAAABAAAAAQAAAAEAAAABAAAAAQAAAAEAAAABAAAAAQAAAAEAAAABAAAAAQAAAAEAAAABAAAAAQAAAAEAAAABAAAAAQAAAAEAAAABAAAAAQAAAAEAAAABAAAAAQAAAAEAAAABAAAAAQAAAAEAAAABAAAAAQAAAAEAAAABAAAAAQAAAAEAAAABAAAAAQAAAAEAAAABAAAAAQAAAAEAAAABAAAAAQAAAAEAAAABAAAAAQAAAAEAAAABAAAAAQAAAAEAAAABAAAAAQAAAAEAAAABAAAAAQAAAAEAAAABAAAAAQAAAAEAAAABAAAAAQAAAAEAAAABAAAAAQAAAAEAAAABAAAAAQAAAAEAAAABAAAAAQAAAAEAAAABAAAAAQAAAAEAAAABAAAAAQAAAAEAAAABAAAAAQAAAAEAAAABAAAAAQAAAAEAAAABAAAAAQAAAAEAAAABAAAAAQAAAAEAAAABAAAAAQAAAAEAAAABAAAAAQAAAAEAAAABAAAAAQAAAAEAAAABAAAAAQAAAAEAAAABAAAAAQAAAAEAAAABAAAAAQAAAAEAAAABAAAAAQAAAAEAAAABAAAAAQAAAAEAAAABAAAAAQAAAAEAAAABAAAAAgAAAAIAAAACAAAAAgAAAAIAAAACAAAAAgAAAAIAAAACAAAAAgAAAAIAAAACAAAAAgAAAAIAAAACAAAAAgAAAAIAAAACAAAAAgAAAAIAAAACAAAAAgAAAAIAAAACAAAAAwAAAAQAAAAFAAAA",
        "encoding": "base64",
        "path": [
         "y",
         "value"
        ]
       }
      ],
      "model_module": "bqplot",
      "model_module_version": "^0.5.18",
      "model_name": "LinesModel",
      "state": {
       "_model_module_version": "^0.5.18",
       "_view_module_version": "^0.5.18",
       "fill_colors": [],
       "labels": [
        "C1"
       ],
       "scales": {
        "x": "IPY_MODEL_2a944ac647684872bc7fa22c4687c44d",
        "y": "IPY_MODEL_2f15896a9e124b9fb214f31f94c3fe97"
       },
       "x": {
        "dtype": "int32",
        "shape": [
         237
        ],
        "type": null
       },
       "y": {
        "dtype": "int32",
        "shape": [
         237
        ],
        "type": null
       }
      }
     },
     "eb9e8fa8891d414d8dc6bfa0a17a7c17": {
      "model_module": "@jupyter-widgets/controls",
      "model_module_version": "1.5.0",
      "model_name": "VBoxModel",
      "state": {
       "children": [
        "IPY_MODEL_90418e9ec0014650ad847cbe5aa6f8d5",
        "IPY_MODEL_8a4c6bab8ea1480aa816982e2007f98c"
       ],
       "layout": "IPY_MODEL_054729a2681b427cbae3c1b88bbb5d81"
      }
     },
     "f0a3adb5548d4ac7a1a4c64b934069d2": {
      "model_module": "@jupyter-widgets/controls",
      "model_module_version": "1.5.0",
      "model_name": "VBoxModel",
      "state": {
       "children": [
        "IPY_MODEL_28e43afe41a248aea319bcda695e368f",
        "IPY_MODEL_63c9f3d47e774bd7b35c0f6b19f54577"
       ],
       "layout": "IPY_MODEL_71445f7d303f46cbac0fc04e165ef1d1"
      }
     },
     "f2f950f505b44f20b13b7cc64b20629d": {
      "buffers": [
       {
        "data": "AAAAAAEAAAACAAAAAwAAAAQAAAAFAAAABgAAAAcAAAAIAAAACQAAAAoAAAALAAAADAAAAA0AAAAOAAAADwAAABAAAAARAAAAEgAAABMAAAAUAAAAFQAAABYAAAAXAAAAGAAAABkAAAAaAAAAGwAAABwAAAAdAAAAHgAAAB8AAAAgAAAAIQAAACIAAAAjAAAAJAAAACUAAAAmAAAAJwAAACgAAAApAAAAKgAAACsAAAAsAAAALQAAAC4AAAAvAAAAMAAAADEAAAAyAAAAMwAAADQAAAA1AAAANgAAADcAAAA4AAAAOQAAADoAAAA7AAAAPAAAAD0AAAA+AAAAPwAAAEAAAABBAAAAQgAAAEMAAABEAAAARQAAAEYAAABHAAAASAAAAEkAAABKAAAASwAAAEwAAABNAAAATgAAAE8AAABQAAAAUQAAAFIAAABTAAAAVAAAAFUAAABWAAAAVwAAAFgAAABZAAAAWgAAAFsAAABcAAAAXQAAAF4AAABfAAAAYAAAAGEAAABiAAAAYwAAAGQAAABlAAAAZgAAAGcAAABoAAAAaQAAAGoAAABrAAAAbAAAAG0AAABuAAAAbwAAAHAAAABxAAAAcgAAAHMAAAB0AAAAdQAAAHYAAAB3AAAAeAAAAHkAAAB6AAAAewAAAHwAAAB9AAAAfgAAAH8AAACAAAAAgQAAAIIAAACDAAAAhAAAAIUAAACGAAAAhwAAAIgAAACJAAAAigAAAIsAAACMAAAAjQAAAI4AAACPAAAAkAAAAJEAAACSAAAAkwAAAJQAAACVAAAAlgAAAJcAAACYAAAAmQAAAJoAAACbAAAAnAAAAJ0AAACeAAAAnwAAAKAAAAChAAAAogAAAKMAAACkAAAApQAAAKYAAACnAAAAqAAAAKkAAACqAAAAqwAAAKwAAACtAAAArgAAAA==",
        "encoding": "base64",
        "path": [
         "x",
         "value"
        ]
       },
       {
        "data": "HwAAAAcAAAAFAAAABQAAAAUAAAAEAAAABAAAAAMAAAADAAAAAwAAAAMAAAADAAAAAwAAAAMAAAACAAAAAgAAAAIAAAACAAAAAgAAAAIAAAACAAAAAgAAAAIAAAACAAAAAgAAAAIAAAACAAAAAgAAAAIAAAACAAAAAgAAAAIAAAACAAAAAgAAAAIAAAACAAAAAgAAAAEAAAABAAAAAQAAAAEAAAABAAAAAQAAAAEAAAABAAAAAQAAAAEAAAABAAAAAQAAAAEAAAABAAAAAQAAAAEAAAABAAAAAQAAAAEAAAABAAAAAQAAAAEAAAABAAAAAQAAAAEAAAABAAAAAQAAAAEAAAABAAAAAQAAAAEAAAABAAAAAQAAAAEAAAABAAAAAQAAAAEAAAABAAAAAQAAAAEAAAABAAAAAQAAAAEAAAABAAAAAQAAAAEAAAABAAAAAQAAAAEAAAABAAAAAQAAAAEAAAABAAAAAQAAAAEAAAABAAAAAQAAAAEAAAABAAAAAQAAAAEAAAABAAAAAQAAAAEAAAABAAAAAQAAAAEAAAABAAAAAQAAAAEAAAABAAAAAQAAAAEAAAABAAAAAQAAAAEAAAABAAAAAQAAAAEAAAABAAAAAQAAAAEAAAABAAAAAQAAAAEAAAABAAAAAQAAAAEAAAABAAAAAQAAAAEAAAABAAAAAQAAAAEAAAABAAAAAQAAAAEAAAABAAAAAQAAAAEAAAABAAAAAQAAAAEAAAABAAAAAQAAAAEAAAABAAAAAQAAAAEAAAABAAAAAQAAAAEAAAABAAAAAQAAAAEAAAABAAAAAQAAAAEAAAABAAAAAQAAAAEAAAABAAAAAQAAAAEAAAABAAAAAQAAAAEAAAABAAAAAQAAAAEAAAABAAAAAQAAAAEAAAABAAAAAQAAAAEAAAABAAAAAQAAAA==",
        "encoding": "base64",
        "path": [
         "y",
         "value"
        ]
       }
      ],
      "model_module": "bqplot",
      "model_module_version": "^0.5.18",
      "model_name": "LinesModel",
      "state": {
       "_model_module_version": "^0.5.18",
       "_view_module_version": "^0.5.18",
       "fill_colors": [],
       "labels": [
        "C1"
       ],
       "scales": {
        "x": "IPY_MODEL_56b8daf8204d4f2b8963797c68e0cc60",
        "y": "IPY_MODEL_2f8f6c2abca644cfa8770be19e2e799c"
       },
       "x": {
        "dtype": "int32",
        "shape": [
         175
        ],
        "type": null
       },
       "y": {
        "dtype": "int32",
        "shape": [
         175
        ],
        "type": null
       }
      }
     },
     "f66dc8c67f9f439c855b47a6af9b0de0": {
      "model_module": "bqplot",
      "model_module_version": "^0.5.18",
      "model_name": "AxisModel",
      "state": {
       "_model_module_version": "^0.5.18",
       "_view_module_version": "^0.5.18",
       "orientation": "vertical",
       "scale": "IPY_MODEL_2f15896a9e124b9fb214f31f94c3fe97",
       "side": "left",
       "tick_values": null
      }
     },
     "fd5b0305e35a4f57aa7ce7055ab656a0": {
      "model_module": "bqplot",
      "model_module_version": "^0.5.18",
      "model_name": "LinearScaleModel",
      "state": {
       "_model_module_version": "^0.5.18",
       "_view_module_version": "^0.5.18",
       "stabilized": false
      }
     }
    },
    "version_major": 2,
    "version_minor": 0
   }
  }
 },
 "nbformat": 4,
 "nbformat_minor": 4
}

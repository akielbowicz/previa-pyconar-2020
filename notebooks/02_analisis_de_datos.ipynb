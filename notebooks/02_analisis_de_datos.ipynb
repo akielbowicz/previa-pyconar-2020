{
 "cells": [
  {
   "cell_type": "markdown",
   "metadata": {},
   "source": [
    "# Como realizar el analisis de datos en Jupyter "
   ]
  },
  {
   "cell_type": "markdown",
   "metadata": {},
   "source": [
    "[PyCon Ar en PyVideo.org](https://pyvideo.org/events/pycon-ar-2011.html)"
   ]
  },
  {
   "cell_type": "markdown",
   "metadata": {},
   "source": [
    "- Explorar los datos"
   ]
  },
  {
   "cell_type": "code",
   "execution_count": 19,
   "metadata": {},
   "outputs": [],
   "source": [
    "import pathlib\n",
    "\n",
    "carpeta_datos = pathlib.Path('./datos')"
   ]
  },
  {
   "cell_type": "code",
   "execution_count": 33,
   "metadata": {},
   "outputs": [],
   "source": [
    "archivos = [ elemento for elemento in carpeta_datos.glob('*/videos/*.json') ]"
   ]
  },
  {
   "cell_type": "code",
   "execution_count": 34,
   "metadata": {},
   "outputs": [
    {
     "data": {
      "text/plain": [
       "237"
      ]
     },
     "execution_count": 34,
     "metadata": {},
     "output_type": "execute_result"
    }
   ],
   "source": [
    "len(archivos)"
   ]
  },
  {
   "cell_type": "code",
   "execution_count": 35,
   "metadata": {},
   "outputs": [
    {
     "data": {
      "text/plain": [
       "{'.json'}"
      ]
     },
     "execution_count": 35,
     "metadata": {},
     "output_type": "execute_result"
    }
   ],
   "source": [
    "{archivo.suffix for archivo in archivos }"
   ]
  },
  {
   "cell_type": "code",
   "execution_count": 31,
   "metadata": {},
   "outputs": [
    {
     "data": {
      "text/plain": [
       "''"
      ]
     },
     "execution_count": 31,
     "metadata": {},
     "output_type": "execute_result"
    }
   ],
   "source": [
    "archivos[0].suffix"
   ]
  },
  {
   "cell_type": "markdown",
   "metadata": {},
   "source": [
    "- Importar los datos con pandas"
   ]
  },
  {
   "cell_type": "code",
   "execution_count": 36,
   "metadata": {},
   "outputs": [],
   "source": [
    "import pandas"
   ]
  },
  {
   "cell_type": "code",
   "execution_count": 58,
   "metadata": {},
   "outputs": [],
   "source": [
    "def safe_df(archivo):\n",
    "    try:\n",
    "        df = pandas.read_json(archivo,typ='series')\n",
    "    except ValueError as err:\n",
    "        df = pandas.DataFrame()\n",
    "        print('Fallo al cargar: ', archivo)\n",
    "    return df"
   ]
  },
  {
   "cell_type": "code",
   "execution_count": 59,
   "metadata": {},
   "outputs": [],
   "source": [
    "series = [ safe_df(archivo) for archivo in archivos ]"
   ]
  },
  {
   "cell_type": "code",
   "execution_count": 69,
   "metadata": {},
   "outputs": [],
   "source": [
    "df = pandas.concat(series,axis=1).T"
   ]
  },
  {
   "cell_type": "code",
   "execution_count": 73,
   "metadata": {},
   "outputs": [],
   "source": [
    "speakers = df.speakers.explode()"
   ]
  },
  {
   "cell_type": "code",
   "execution_count": 82,
   "metadata": {},
   "outputs": [],
   "source": [
    "import bqplot.pyplot as plt\n",
    "\n",
    "pandas.set_option('plotting.backend', 'bqplot.pyplot')"
   ]
  },
  {
   "cell_type": "code",
   "execution_count": 83,
   "metadata": {},
   "outputs": [
    {
     "data": {
      "application/vnd.jupyter.widget-view+json": {
       "model_id": "eb9e8fa8891d414d8dc6bfa0a17a7c17",
       "version_major": 2,
       "version_minor": 0
      },
      "text/plain": [
       "VBox(children=(Figure(axes=[Axis(scale=LinearScale(), side='bottom'), Axis(orientation='vertical', scale=Linea…"
      ]
     },
     "metadata": {},
     "output_type": "display_data"
    }
   ],
   "source": [
    "df.speakers.apply(len).sort_values().plot()\n",
    "plt.show()"
   ]
  },
  {
   "cell_type": "code",
   "execution_count": 127,
   "metadata": {},
   "outputs": [],
   "source": [
    "import bqplot"
   ]
  },
  {
   "cell_type": "code",
   "execution_count": 164,
   "metadata": {},
   "outputs": [
    {
     "data": {
      "application/vnd.jupyter.widget-view+json": {
       "model_id": "779defb0eb4b439dac4d4b6df2a21853",
       "version_major": 2,
       "version_minor": 0
      },
      "text/plain": [
       "VBox(children=(Figure(axes=[Axis(orientation='vertical', scale=OrdinalScale()), Axis(scale=LinearScale())], fi…"
      ]
     },
     "metadata": {},
     "output_type": "display_data"
    }
   ],
   "source": [
    "x=df.speakers.explode().value_counts()\n",
    "x =  x[x.between(2,10)]\n",
    "plt.figure()\n",
    "plt.scales(scales={'x':bqplot.OrdinalScale(),'y':plt.LinearScale()})\n",
    "bar = plt.bar(x.index,x.values,orientation='horizontal')\n",
    "plt.show()"
   ]
  },
  {
   "cell_type": "code",
   "execution_count": 147,
   "metadata": {},
   "outputs": [],
   "source": [
    "df.recorded = pandas.to_datetime( df.recorded  )"
   ]
  },
  {
   "cell_type": "code",
   "execution_count": 161,
   "metadata": {},
   "outputs": [
    {
     "data": {
      "application/vnd.jupyter.widget-view+json": {
       "model_id": "2d8288b2b9924a77b12687843d0b9fdc",
       "version_major": 2,
       "version_minor": 0
      },
      "text/plain": [
       "VBox(children=(Figure(axes=[Axis(label='Anio', scale=LinearScale()), Axis(label='Cantidad de charlas', orienta…"
      ]
     },
     "metadata": {},
     "output_type": "display_data"
    }
   ],
   "source": [
    "recorded = df.recorded.dt.year.value_counts()\n",
    "plt.figure()\n",
    "plt.scatter('index','recorded',data=recorded.reset_index())\n",
    "plt.xlabel('Anio')\n",
    "plt.ylabel('Cantidad de charlas')\n",
    "plt.show()"
   ]
  },
  {
   "cell_type": "code",
   "execution_count": 170,
   "metadata": {},
   "outputs": [
    {
     "data": {
      "text/plain": [
       "0      [Alan, Runyan, y, su, charla, en, el, auditori...\n",
       "1      [\"Los, Diferidos\", es, posiblemente, el, tema,...\n",
       "2      [Descripción, de, la, charla:, DBus, permite, ...\n",
       "3      [Descripción, de, la, charla:, Cocción, de, un...\n",
       "4      [Arduino, es, una, plataforma, de, hardware, y...\n",
       "                             ...                        \n",
       "232    [Usamos, Python, para, la, conversión, de, la,...\n",
       "233    [Keynote, presented, on, Saturday, in, the, Py...\n",
       "234    [Reescribir, una, gran, parte, de, un, proyect...\n",
       "235    [Machine, learning, productivo,, en, el, mundo...\n",
       "236    [Async, está, de, moda,, y, todo, el, mundo, d...\n",
       "Name: description, Length: 237, dtype: object"
      ]
     },
     "execution_count": 170,
     "metadata": {},
     "output_type": "execute_result"
    }
   ],
   "source": [
    "df.description.str.split(' ')"
   ]
  },
  {
   "cell_type": "code",
   "execution_count": 184,
   "metadata": {},
   "outputs": [
    {
     "data": {
      "text/html": [
       "<div>\n",
       "<style scoped>\n",
       "    .dataframe tbody tr th:only-of-type {\n",
       "        vertical-align: middle;\n",
       "    }\n",
       "\n",
       "    .dataframe tbody tr th {\n",
       "        vertical-align: top;\n",
       "    }\n",
       "\n",
       "    .dataframe thead th {\n",
       "        text-align: right;\n",
       "    }\n",
       "</style>\n",
       "<table border=\"1\" class=\"dataframe\">\n",
       "  <thead>\n",
       "    <tr style=\"text-align: right;\">\n",
       "      <th></th>\n",
       "      <th>description</th>\n",
       "      <th>language</th>\n",
       "      <th>recorded</th>\n",
       "      <th>speakers</th>\n",
       "      <th>thumbnail_url</th>\n",
       "      <th>title</th>\n",
       "      <th>videos</th>\n",
       "      <th>tags</th>\n",
       "      <th>copyright_text</th>\n",
       "      <th>duration</th>\n",
       "      <th>related_urls</th>\n",
       "      <th>alias</th>\n",
       "      <th>category</th>\n",
       "      <th>id</th>\n",
       "      <th>quality_notes</th>\n",
       "      <th>slug</th>\n",
       "      <th>summary</th>\n",
       "    </tr>\n",
       "  </thead>\n",
       "  <tbody>\n",
       "    <tr>\n",
       "      <th>64</th>\n",
       "      <td>Over the last decade Brazilian government embr...</td>\n",
       "      <td>spa</td>\n",
       "      <td>2012-11-17</td>\n",
       "      <td>[Erico Andrei]</td>\n",
       "      <td>https://i.ytimg.com/vi/qqleysomo14/maxresdefau...</td>\n",
       "      <td>How Brazil is building a digital nation with o...</td>\n",
       "      <td>[{'type': 'youtube', 'url': 'https://www.youtu...</td>\n",
       "      <td>[]</td>\n",
       "      <td>Creative Commons Attribution license (reuse al...</td>\n",
       "      <td>2477</td>\n",
       "      <td>[{'label': 'Event schedule', 'url': 'https://w...</td>\n",
       "      <td>NaN</td>\n",
       "      <td>NaN</td>\n",
       "      <td>NaN</td>\n",
       "      <td>NaN</td>\n",
       "      <td>NaN</td>\n",
       "      <td>NaN</td>\n",
       "    </tr>\n",
       "    <tr>\n",
       "      <th>70</th>\n",
       "      <td>Se introducirá aima-python, una biblioteca Pyt...</td>\n",
       "      <td>spa</td>\n",
       "      <td>2012-11-16</td>\n",
       "      <td>[Rafael Carrascosa]</td>\n",
       "      <td>https://i.ytimg.com/vi/da2l8tYWfgs/maxresdefau...</td>\n",
       "      <td>Inteligencia Artificial con aima-python, un re...</td>\n",
       "      <td>[{'type': 'youtube', 'url': 'https://www.youtu...</td>\n",
       "      <td>[]</td>\n",
       "      <td>Creative Commons Attribution license (reuse al...</td>\n",
       "      <td>2464</td>\n",
       "      <td>[{'label': 'Event schedule', 'url': 'https://w...</td>\n",
       "      <td>NaN</td>\n",
       "      <td>NaN</td>\n",
       "      <td>NaN</td>\n",
       "      <td>NaN</td>\n",
       "      <td>NaN</td>\n",
       "      <td>NaN</td>\n",
       "    </tr>\n",
       "    <tr>\n",
       "      <th>75</th>\n",
       "      <td>Muchos de nosotros programamos Python pero nos...</td>\n",
       "      <td>spa</td>\n",
       "      <td>2012-11-17</td>\n",
       "      <td>[Daniel F. Moisset]</td>\n",
       "      <td>https://i.ytimg.com/vi/x7QMAdFnESA/maxresdefau...</td>\n",
       "      <td>Javascript para programadores python</td>\n",
       "      <td>[{'type': 'youtube', 'url': 'https://www.youtu...</td>\n",
       "      <td>[]</td>\n",
       "      <td>Creative Commons Attribution license (reuse al...</td>\n",
       "      <td>2673</td>\n",
       "      <td>[{'label': 'Event schedule', 'url': 'https://w...</td>\n",
       "      <td>NaN</td>\n",
       "      <td>NaN</td>\n",
       "      <td>NaN</td>\n",
       "      <td>NaN</td>\n",
       "      <td>NaN</td>\n",
       "      <td>NaN</td>\n",
       "    </tr>\n",
       "    <tr>\n",
       "      <th>81</th>\n",
       "      <td>Tomar ventaja del multiprocesamiento de los si...</td>\n",
       "      <td>spa</td>\n",
       "      <td>2012-11-17</td>\n",
       "      <td>[Claudio Freire]</td>\n",
       "      <td>https://i.ytimg.com/vi/ZH4z4KbbpVk/maxresdefau...</td>\n",
       "      <td>Multiprocesamiento en python</td>\n",
       "      <td>[{'type': 'youtube', 'url': 'https://www.youtu...</td>\n",
       "      <td>[]</td>\n",
       "      <td>Creative Commons Attribution license (reuse al...</td>\n",
       "      <td>2668</td>\n",
       "      <td>[{'label': 'Event schedule', 'url': 'https://w...</td>\n",
       "      <td>NaN</td>\n",
       "      <td>NaN</td>\n",
       "      <td>NaN</td>\n",
       "      <td>NaN</td>\n",
       "      <td>NaN</td>\n",
       "      <td>NaN</td>\n",
       "    </tr>\n",
       "    <tr>\n",
       "      <th>82</th>\n",
       "      <td>En el mundo del hardware se usan lenguajes de ...</td>\n",
       "      <td>spa</td>\n",
       "      <td>2012-11-17</td>\n",
       "      <td>[Martín Gaitán]</td>\n",
       "      <td>https://i.ytimg.com/vi/05HfBi2skiw/maxresdefau...</td>\n",
       "      <td>MyHDL, de python al silicio</td>\n",
       "      <td>[{'type': 'youtube', 'url': 'https://www.youtu...</td>\n",
       "      <td>[]</td>\n",
       "      <td>Creative Commons Attribution license (reuse al...</td>\n",
       "      <td>2688</td>\n",
       "      <td>[{'label': 'Event schedule', 'url': 'https://w...</td>\n",
       "      <td>NaN</td>\n",
       "      <td>NaN</td>\n",
       "      <td>NaN</td>\n",
       "      <td>NaN</td>\n",
       "      <td>NaN</td>\n",
       "      <td>NaN</td>\n",
       "    </tr>\n",
       "    <tr>\n",
       "      <th>83</th>\n",
       "      <td>En esta charla vamos a aprender cómo desarroll...</td>\n",
       "      <td>spa</td>\n",
       "      <td>2012-11-17</td>\n",
       "      <td>[Ezequiel Gutesman]</td>\n",
       "      <td>https://i.ytimg.com/vi/hN-STUjbzY8/maxresdefau...</td>\n",
       "      <td>No toca BOTOn: Amazon Web Services desde python</td>\n",
       "      <td>[{'type': 'youtube', 'url': 'https://www.youtu...</td>\n",
       "      <td>[]</td>\n",
       "      <td>Creative Commons Attribution license (reuse al...</td>\n",
       "      <td>3327</td>\n",
       "      <td>[{'label': 'Event schedule', 'url': 'https://w...</td>\n",
       "      <td>NaN</td>\n",
       "      <td>NaN</td>\n",
       "      <td>NaN</td>\n",
       "      <td>NaN</td>\n",
       "      <td>NaN</td>\n",
       "      <td>NaN</td>\n",
       "    </tr>\n",
       "    <tr>\n",
       "      <th>97</th>\n",
       "      <td>| Usando python y unittest/testtools como fram...</td>\n",
       "      <td>spa</td>\n",
       "      <td>2012-11-17</td>\n",
       "      <td>[Sergio Schvezov]</td>\n",
       "      <td>https://i.ytimg.com/vi/BWF9N18Qy2Q/maxresdefau...</td>\n",
       "      <td>Testing funcional con python</td>\n",
       "      <td>[{'type': 'youtube', 'url': 'https://www.youtu...</td>\n",
       "      <td>[]</td>\n",
       "      <td>Creative Commons Attribution license (reuse al...</td>\n",
       "      <td>1570</td>\n",
       "      <td>[{'label': 'Event schedule', 'url': 'https://w...</td>\n",
       "      <td>NaN</td>\n",
       "      <td>NaN</td>\n",
       "      <td>NaN</td>\n",
       "      <td>NaN</td>\n",
       "      <td>NaN</td>\n",
       "      <td>NaN</td>\n",
       "    </tr>\n",
       "    <tr>\n",
       "      <th>104</th>\n",
       "      <td>Durante la charla se presentará una introducci...</td>\n",
       "      <td>spa</td>\n",
       "      <td>2013-10-24</td>\n",
       "      <td>[Ariel Rossanigo]</td>\n",
       "      <td>https://i.ytimg.com/vi/KGoNhV_l940/hqdefault.jpg</td>\n",
       "      <td>Aprendizaje por refuerzo, una versión pythonica</td>\n",
       "      <td>[{'type': 'youtube', 'url': 'https://www.youtu...</td>\n",
       "      <td>NaN</td>\n",
       "      <td>NaN</td>\n",
       "      <td>NaN</td>\n",
       "      <td>NaN</td>\n",
       "      <td>NaN</td>\n",
       "      <td>NaN</td>\n",
       "      <td>NaN</td>\n",
       "      <td>NaN</td>\n",
       "      <td>NaN</td>\n",
       "      <td>NaN</td>\n",
       "    </tr>\n",
       "    <tr>\n",
       "      <th>119</th>\n",
       "      <td>¿Qué significa que un código sea \"pythónico\"? ...</td>\n",
       "      <td>spa</td>\n",
       "      <td>2013-10-24</td>\n",
       "      <td>[Martín Gaitán]</td>\n",
       "      <td>https://i.ytimg.com/vi/dByxE2C-daI/hqdefault.jpg</td>\n",
       "      <td>La pythonicidad al palo</td>\n",
       "      <td>[{'type': 'youtube', 'url': 'https://www.youtu...</td>\n",
       "      <td>NaN</td>\n",
       "      <td>NaN</td>\n",
       "      <td>NaN</td>\n",
       "      <td>[{'label': 'talk slides', 'url': 'https://gith...</td>\n",
       "      <td>NaN</td>\n",
       "      <td>NaN</td>\n",
       "      <td>NaN</td>\n",
       "      <td>NaN</td>\n",
       "      <td>NaN</td>\n",
       "      <td>NaN</td>\n",
       "    </tr>\n",
       "    <tr>\n",
       "      <th>164</th>\n",
       "      <td>PyconAR 2016 - Bahía Blanca\\n\\nMicropython en ...</td>\n",
       "      <td>spa</td>\n",
       "      <td>2016-11-25</td>\n",
       "      <td>[Martin Ribelotta]</td>\n",
       "      <td>https://i.ytimg.com/vi/pT-AOUzZBsw/maxresdefau...</td>\n",
       "      <td>Micropython en EDU-CIAA</td>\n",
       "      <td>[{'type': 'youtube', 'url': 'https://www.youtu...</td>\n",
       "      <td>[]</td>\n",
       "      <td>Standard YouTube License</td>\n",
       "      <td>2375</td>\n",
       "      <td>[http://ar.pycon.org/proposals/document/24/02f...</td>\n",
       "      <td>NaN</td>\n",
       "      <td>NaN</td>\n",
       "      <td>NaN</td>\n",
       "      <td>NaN</td>\n",
       "      <td>NaN</td>\n",
       "      <td>NaN</td>\n",
       "    </tr>\n",
       "    <tr>\n",
       "      <th>211</th>\n",
       "      <td>Micropython es muchísimo más pequeño que Pytho...</td>\n",
       "      <td>spa</td>\n",
       "      <td>2018-11-24</td>\n",
       "      <td>[Alejandro J. Cura]</td>\n",
       "      <td>https://i.ytimg.com/vi/AfyNGO7sDww/hqdefault.jpg</td>\n",
       "      <td>Juegos electromecánicos con Micropython</td>\n",
       "      <td>[{'type': 'youtube', 'url': 'https://www.youtu...</td>\n",
       "      <td>NaN</td>\n",
       "      <td>Creative Commons Attribution license (reuse al...</td>\n",
       "      <td>NaN</td>\n",
       "      <td>NaN</td>\n",
       "      <td>NaN</td>\n",
       "      <td>NaN</td>\n",
       "      <td>NaN</td>\n",
       "      <td>NaN</td>\n",
       "      <td>NaN</td>\n",
       "      <td>NaN</td>\n",
       "    </tr>\n",
       "    <tr>\n",
       "      <th>229</th>\n",
       "      <td>Descripción, ventajas, restricciones y vericue...</td>\n",
       "      <td>spa</td>\n",
       "      <td>2018-11-24</td>\n",
       "      <td>[Gustavo Garcia Craia]</td>\n",
       "      <td>https://i.ytimg.com/vi/WDKKqbh5dYw/hqdefault.jpg</td>\n",
       "      <td>Qué necesitás saber para usar Amazon Lambda co...</td>\n",
       "      <td>[{'type': 'youtube', 'url': 'https://www.youtu...</td>\n",
       "      <td>NaN</td>\n",
       "      <td>Creative Commons Attribution license (reuse al...</td>\n",
       "      <td>NaN</td>\n",
       "      <td>NaN</td>\n",
       "      <td>NaN</td>\n",
       "      <td>NaN</td>\n",
       "      <td>NaN</td>\n",
       "      <td>NaN</td>\n",
       "      <td>NaN</td>\n",
       "      <td>NaN</td>\n",
       "    </tr>\n",
       "    <tr>\n",
       "      <th>231</th>\n",
       "      <td>Cerebros artificiales??? No tanto, pero igualm...</td>\n",
       "      <td>spa</td>\n",
       "      <td>2018-11-24</td>\n",
       "      <td>[Juan Pedro Fisanotti]</td>\n",
       "      <td>https://i.ytimg.com/vi/L2k1GUyisIo/hqdefault.jpg</td>\n",
       "      <td>Redes neuronales con python usando Keras</td>\n",
       "      <td>[{'type': 'youtube', 'url': 'https://www.youtu...</td>\n",
       "      <td>NaN</td>\n",
       "      <td>Creative Commons Attribution license (reuse al...</td>\n",
       "      <td>NaN</td>\n",
       "      <td>NaN</td>\n",
       "      <td>NaN</td>\n",
       "      <td>NaN</td>\n",
       "      <td>NaN</td>\n",
       "      <td>NaN</td>\n",
       "      <td>NaN</td>\n",
       "      <td>NaN</td>\n",
       "    </tr>\n",
       "  </tbody>\n",
       "</table>\n",
       "</div>"
      ],
      "text/plain": [
       "                                           description language   recorded  \\\n",
       "64   Over the last decade Brazilian government embr...      spa 2012-11-17   \n",
       "70   Se introducirá aima-python, una biblioteca Pyt...      spa 2012-11-16   \n",
       "75   Muchos de nosotros programamos Python pero nos...      spa 2012-11-17   \n",
       "81   Tomar ventaja del multiprocesamiento de los si...      spa 2012-11-17   \n",
       "82   En el mundo del hardware se usan lenguajes de ...      spa 2012-11-17   \n",
       "83   En esta charla vamos a aprender cómo desarroll...      spa 2012-11-17   \n",
       "97   | Usando python y unittest/testtools como fram...      spa 2012-11-17   \n",
       "104  Durante la charla se presentará una introducci...      spa 2013-10-24   \n",
       "119  ¿Qué significa que un código sea \"pythónico\"? ...      spa 2013-10-24   \n",
       "164  PyconAR 2016 - Bahía Blanca\\n\\nMicropython en ...      spa 2016-11-25   \n",
       "211  Micropython es muchísimo más pequeño que Pytho...      spa 2018-11-24   \n",
       "229  Descripción, ventajas, restricciones y vericue...      spa 2018-11-24   \n",
       "231  Cerebros artificiales??? No tanto, pero igualm...      spa 2018-11-24   \n",
       "\n",
       "                   speakers  \\\n",
       "64           [Erico Andrei]   \n",
       "70      [Rafael Carrascosa]   \n",
       "75      [Daniel F. Moisset]   \n",
       "81         [Claudio Freire]   \n",
       "82          [Martín Gaitán]   \n",
       "83      [Ezequiel Gutesman]   \n",
       "97        [Sergio Schvezov]   \n",
       "104       [Ariel Rossanigo]   \n",
       "119         [Martín Gaitán]   \n",
       "164      [Martin Ribelotta]   \n",
       "211     [Alejandro J. Cura]   \n",
       "229  [Gustavo Garcia Craia]   \n",
       "231  [Juan Pedro Fisanotti]   \n",
       "\n",
       "                                         thumbnail_url  \\\n",
       "64   https://i.ytimg.com/vi/qqleysomo14/maxresdefau...   \n",
       "70   https://i.ytimg.com/vi/da2l8tYWfgs/maxresdefau...   \n",
       "75   https://i.ytimg.com/vi/x7QMAdFnESA/maxresdefau...   \n",
       "81   https://i.ytimg.com/vi/ZH4z4KbbpVk/maxresdefau...   \n",
       "82   https://i.ytimg.com/vi/05HfBi2skiw/maxresdefau...   \n",
       "83   https://i.ytimg.com/vi/hN-STUjbzY8/maxresdefau...   \n",
       "97   https://i.ytimg.com/vi/BWF9N18Qy2Q/maxresdefau...   \n",
       "104   https://i.ytimg.com/vi/KGoNhV_l940/hqdefault.jpg   \n",
       "119   https://i.ytimg.com/vi/dByxE2C-daI/hqdefault.jpg   \n",
       "164  https://i.ytimg.com/vi/pT-AOUzZBsw/maxresdefau...   \n",
       "211   https://i.ytimg.com/vi/AfyNGO7sDww/hqdefault.jpg   \n",
       "229   https://i.ytimg.com/vi/WDKKqbh5dYw/hqdefault.jpg   \n",
       "231   https://i.ytimg.com/vi/L2k1GUyisIo/hqdefault.jpg   \n",
       "\n",
       "                                                 title  \\\n",
       "64   How Brazil is building a digital nation with o...   \n",
       "70   Inteligencia Artificial con aima-python, un re...   \n",
       "75                Javascript para programadores python   \n",
       "81                        Multiprocesamiento en python   \n",
       "82                         MyHDL, de python al silicio   \n",
       "83     No toca BOTOn: Amazon Web Services desde python   \n",
       "97                        Testing funcional con python   \n",
       "104    Aprendizaje por refuerzo, una versión pythonica   \n",
       "119                            La pythonicidad al palo   \n",
       "164                            Micropython en EDU-CIAA   \n",
       "211            Juegos electromecánicos con Micropython   \n",
       "229  Qué necesitás saber para usar Amazon Lambda co...   \n",
       "231           Redes neuronales con python usando Keras   \n",
       "\n",
       "                                                videos tags  \\\n",
       "64   [{'type': 'youtube', 'url': 'https://www.youtu...   []   \n",
       "70   [{'type': 'youtube', 'url': 'https://www.youtu...   []   \n",
       "75   [{'type': 'youtube', 'url': 'https://www.youtu...   []   \n",
       "81   [{'type': 'youtube', 'url': 'https://www.youtu...   []   \n",
       "82   [{'type': 'youtube', 'url': 'https://www.youtu...   []   \n",
       "83   [{'type': 'youtube', 'url': 'https://www.youtu...   []   \n",
       "97   [{'type': 'youtube', 'url': 'https://www.youtu...   []   \n",
       "104  [{'type': 'youtube', 'url': 'https://www.youtu...  NaN   \n",
       "119  [{'type': 'youtube', 'url': 'https://www.youtu...  NaN   \n",
       "164  [{'type': 'youtube', 'url': 'https://www.youtu...   []   \n",
       "211  [{'type': 'youtube', 'url': 'https://www.youtu...  NaN   \n",
       "229  [{'type': 'youtube', 'url': 'https://www.youtu...  NaN   \n",
       "231  [{'type': 'youtube', 'url': 'https://www.youtu...  NaN   \n",
       "\n",
       "                                        copyright_text duration  \\\n",
       "64   Creative Commons Attribution license (reuse al...     2477   \n",
       "70   Creative Commons Attribution license (reuse al...     2464   \n",
       "75   Creative Commons Attribution license (reuse al...     2673   \n",
       "81   Creative Commons Attribution license (reuse al...     2668   \n",
       "82   Creative Commons Attribution license (reuse al...     2688   \n",
       "83   Creative Commons Attribution license (reuse al...     3327   \n",
       "97   Creative Commons Attribution license (reuse al...     1570   \n",
       "104                                                NaN      NaN   \n",
       "119                                                NaN      NaN   \n",
       "164                           Standard YouTube License     2375   \n",
       "211  Creative Commons Attribution license (reuse al...      NaN   \n",
       "229  Creative Commons Attribution license (reuse al...      NaN   \n",
       "231  Creative Commons Attribution license (reuse al...      NaN   \n",
       "\n",
       "                                          related_urls alias category   id  \\\n",
       "64   [{'label': 'Event schedule', 'url': 'https://w...   NaN      NaN  NaN   \n",
       "70   [{'label': 'Event schedule', 'url': 'https://w...   NaN      NaN  NaN   \n",
       "75   [{'label': 'Event schedule', 'url': 'https://w...   NaN      NaN  NaN   \n",
       "81   [{'label': 'Event schedule', 'url': 'https://w...   NaN      NaN  NaN   \n",
       "82   [{'label': 'Event schedule', 'url': 'https://w...   NaN      NaN  NaN   \n",
       "83   [{'label': 'Event schedule', 'url': 'https://w...   NaN      NaN  NaN   \n",
       "97   [{'label': 'Event schedule', 'url': 'https://w...   NaN      NaN  NaN   \n",
       "104                                                NaN   NaN      NaN  NaN   \n",
       "119  [{'label': 'talk slides', 'url': 'https://gith...   NaN      NaN  NaN   \n",
       "164  [http://ar.pycon.org/proposals/document/24/02f...   NaN      NaN  NaN   \n",
       "211                                                NaN   NaN      NaN  NaN   \n",
       "229                                                NaN   NaN      NaN  NaN   \n",
       "231                                                NaN   NaN      NaN  NaN   \n",
       "\n",
       "    quality_notes slug summary  \n",
       "64            NaN  NaN     NaN  \n",
       "70            NaN  NaN     NaN  \n",
       "75            NaN  NaN     NaN  \n",
       "81            NaN  NaN     NaN  \n",
       "82            NaN  NaN     NaN  \n",
       "83            NaN  NaN     NaN  \n",
       "97            NaN  NaN     NaN  \n",
       "104           NaN  NaN     NaN  \n",
       "119           NaN  NaN     NaN  \n",
       "164           NaN  NaN     NaN  \n",
       "211           NaN  NaN     NaN  \n",
       "229           NaN  NaN     NaN  \n",
       "231           NaN  NaN     NaN  "
      ]
     },
     "execution_count": 184,
     "metadata": {},
     "output_type": "execute_result"
    }
   ],
   "source": [
    "df[ df.title.str.contains('python') ]"
   ]
  },
  {
   "cell_type": "code",
   "execution_count": 188,
   "metadata": {},
   "outputs": [
    {
     "data": {
      "text/plain": [
       "0                                                  plone\n",
       "1                                   todo sobre deferreds\n",
       "2                                dbus con el pie derecho\n",
       "3                  plone 4: tiempo de cocción 30 minutos\n",
       "4                          robótica con python y arduino\n",
       "                             ...                        \n",
       "232    reverse-engineering 170 mil líneas de document...\n",
       "233                   keynote: sharing, by carol willing\n",
       "234    sobreviviendo al síndrome del segundo sistema ...\n",
       "235             testing en proyectos de machine learning\n",
       "236                 todo lo que no querés saber de async\n",
       "Name: title, Length: 237, dtype: object"
      ]
     },
     "execution_count": 188,
     "metadata": {},
     "output_type": "execute_result"
    }
   ],
   "source": [
    "df.title.str.lower().str.replace(':','3')"
   ]
  },
  {
   "cell_type": "code",
   "execution_count": 189,
   "metadata": {},
   "outputs": [],
   "source": [
    "import string"
   ]
  },
  {
   "cell_type": "code",
   "execution_count": 190,
   "metadata": {},
   "outputs": [
    {
     "data": {
      "text/plain": [
       "'!\"#$%&\\'()*+,-./:;<=>?@[\\\\]^_`{|}~'"
      ]
     },
     "execution_count": 190,
     "metadata": {},
     "output_type": "execute_result"
    }
   ],
   "source": [
    "string.punctuation"
   ]
  },
  {
   "cell_type": "code",
   "execution_count": 192,
   "metadata": {},
   "outputs": [
    {
     "data": {
      "text/plain": [
       "'abcdefghijklmnopqrstuvwxyz'"
      ]
     },
     "execution_count": 192,
     "metadata": {},
     "output_type": "execute_result"
    }
   ],
   "source": [
    "string.ascii_lowercase"
   ]
  },
  {
   "cell_type": "code",
   "execution_count": 249,
   "metadata": {},
   "outputs": [],
   "source": [
    "titulos = ( df.title\n",
    "    .str.lower()\n",
    "    .str.replace('\\W',' ',regex=True)\n",
    "    .str.replace('\\s+',' ',regex=True)\n",
    "    .str.translate(str.maketrans('áéíóúñ','aeioun'))\n",
    ")"
   ]
  },
  {
   "cell_type": "code",
   "execution_count": 224,
   "metadata": {},
   "outputs": [
    {
     "data": {
      "text/plain": [
       "0                      PlOnE\n",
       "1       TOdO sObrE dEfErrEds\n",
       "2    DBUs cOn El pIE dErEchO\n",
       "Name: title, dtype: object"
      ]
     },
     "execution_count": 224,
     "metadata": {},
     "output_type": "execute_result"
    }
   ],
   "source": [
    "df.iloc[:3].title.str.translate(str.maketrans('aeiou','AEIOU'))"
   ]
  },
  {
   "cell_type": "code",
   "execution_count": 243,
   "metadata": {},
   "outputs": [
    {
     "data": {
      "text/plain": [
       "{' ',\n",
       " '!',\n",
       " '\"',\n",
       " '%',\n",
       " \"'\",\n",
       " '(',\n",
       " ')',\n",
       " '+',\n",
       " ',',\n",
       " '-',\n",
       " '.',\n",
       " '/',\n",
       " '0',\n",
       " '1',\n",
       " '2',\n",
       " '3',\n",
       " '4',\n",
       " '5',\n",
       " '6',\n",
       " '7',\n",
       " '8',\n",
       " '9',\n",
       " ':',\n",
       " '=',\n",
       " '?',\n",
       " '[',\n",
       " ']',\n",
       " '_',\n",
       " 'a',\n",
       " 'b',\n",
       " 'c',\n",
       " 'd',\n",
       " 'e',\n",
       " 'f',\n",
       " 'g',\n",
       " 'h',\n",
       " 'i',\n",
       " 'j',\n",
       " 'k',\n",
       " 'l',\n",
       " 'm',\n",
       " 'n',\n",
       " 'o',\n",
       " 'p',\n",
       " 'q',\n",
       " 'r',\n",
       " 's',\n",
       " 't',\n",
       " 'u',\n",
       " 'v',\n",
       " 'w',\n",
       " 'x',\n",
       " 'y',\n",
       " 'z',\n",
       " '¡',\n",
       " '¿',\n",
       " 'á',\n",
       " 'é',\n",
       " 'í',\n",
       " 'ñ',\n",
       " 'ó',\n",
       " 'ú',\n",
       " '‘',\n",
       " '’',\n",
       " '“',\n",
       " '”'}"
      ]
     },
     "execution_count": 243,
     "metadata": {},
     "output_type": "execute_result"
    }
   ],
   "source": [
    "set(''.join( x for x in df.title.str.lower() ) )"
   ]
  },
  {
   "cell_type": "code",
   "execution_count": 325,
   "metadata": {},
   "outputs": [
    {
     "data": {
      "text/html": [
       "<div>\n",
       "<style scoped>\n",
       "    .dataframe tbody tr th:only-of-type {\n",
       "        vertical-align: middle;\n",
       "    }\n",
       "\n",
       "    .dataframe tbody tr th {\n",
       "        vertical-align: top;\n",
       "    }\n",
       "\n",
       "    .dataframe thead th {\n",
       "        text-align: right;\n",
       "    }\n",
       "</style>\n",
       "<table border=\"1\" class=\"dataframe\">\n",
       "  <thead>\n",
       "    <tr style=\"text-align: right;\">\n",
       "      <th></th>\n",
       "      <th>palabra</th>\n",
       "      <th>cuentas</th>\n",
       "    </tr>\n",
       "  </thead>\n",
       "  <tbody>\n",
       "    <tr>\n",
       "      <th>0</th>\n",
       "      <td>de</td>\n",
       "      <td>56</td>\n",
       "    </tr>\n",
       "    <tr>\n",
       "      <th>1</th>\n",
       "      <td>python</td>\n",
       "      <td>52</td>\n",
       "    </tr>\n",
       "    <tr>\n",
       "      <th>2</th>\n",
       "      <td></td>\n",
       "      <td>48</td>\n",
       "    </tr>\n",
       "    <tr>\n",
       "      <th>3</th>\n",
       "      <td>con</td>\n",
       "      <td>46</td>\n",
       "    </tr>\n",
       "    <tr>\n",
       "      <th>4</th>\n",
       "      <td>11</td>\n",
       "      <td>30</td>\n",
       "    </tr>\n",
       "    <tr>\n",
       "      <th>...</th>\n",
       "      <td>...</td>\n",
       "      <td>...</td>\n",
       "    </tr>\n",
       "    <tr>\n",
       "      <th>711</th>\n",
       "      <td>paralela</td>\n",
       "      <td>1</td>\n",
       "    </tr>\n",
       "    <tr>\n",
       "      <th>712</th>\n",
       "      <td>intento</td>\n",
       "      <td>1</td>\n",
       "    </tr>\n",
       "    <tr>\n",
       "      <th>713</th>\n",
       "      <td>artificial</td>\n",
       "      <td>1</td>\n",
       "    </tr>\n",
       "    <tr>\n",
       "      <th>714</th>\n",
       "      <td>durar</td>\n",
       "      <td>1</td>\n",
       "    </tr>\n",
       "    <tr>\n",
       "      <th>715</th>\n",
       "      <td>00025_720i_fast</td>\n",
       "      <td>1</td>\n",
       "    </tr>\n",
       "  </tbody>\n",
       "</table>\n",
       "<p>716 rows × 2 columns</p>\n",
       "</div>"
      ],
      "text/plain": [
       "             palabra  cuentas\n",
       "0                 de       56\n",
       "1             python       52\n",
       "2                          48\n",
       "3                con       46\n",
       "4                 11       30\n",
       "..               ...      ...\n",
       "711         paralela        1\n",
       "712          intento        1\n",
       "713       artificial        1\n",
       "714            durar        1\n",
       "715  00025_720i_fast        1\n",
       "\n",
       "[716 rows x 2 columns]"
      ]
     },
     "execution_count": 325,
     "metadata": {},
     "output_type": "execute_result"
    }
   ],
   "source": [
    "(titulos.str.split(' ',expand=True)\n",
    "        .stack()\n",
    "#         .reset_index(drop=True)\n",
    "        .value_counts()\n",
    "        .to_frame(name='cuentas')\n",
    "        .reset_index()\n",
    "        .rename(columns={'index':'palabra'})\n",
    ")\n",
    "#         .groupby('palabras',as_index=False).count())"
   ]
  },
  {
   "cell_type": "code",
   "execution_count": 326,
   "metadata": {},
   "outputs": [],
   "source": [
    "a = _"
   ]
  },
  {
   "cell_type": "code",
   "execution_count": 328,
   "metadata": {},
   "outputs": [],
   "source": [
    "a['longitud'] = a['palabra'].apply(len)"
   ]
  },
  {
   "cell_type": "code",
   "execution_count": 330,
   "metadata": {},
   "outputs": [
    {
     "data": {
      "text/plain": [
       "{'',\n",
       " '0',\n",
       " '00',\n",
       " '01',\n",
       " '02',\n",
       " '03',\n",
       " '05',\n",
       " '06',\n",
       " '07',\n",
       " '08',\n",
       " '1',\n",
       " '10',\n",
       " '11',\n",
       " '12',\n",
       " '14',\n",
       " '15',\n",
       " '16',\n",
       " '17',\n",
       " '18',\n",
       " '19',\n",
       " '2',\n",
       " '20',\n",
       " '24',\n",
       " '25',\n",
       " '28',\n",
       " '29',\n",
       " '3',\n",
       " '30',\n",
       " '32',\n",
       " '35',\n",
       " '36',\n",
       " '3d',\n",
       " '4',\n",
       " '40',\n",
       " '42',\n",
       " '44',\n",
       " '45',\n",
       " '46',\n",
       " '48',\n",
       " '50',\n",
       " '52',\n",
       " '54',\n",
       " '55',\n",
       " '56',\n",
       " '57',\n",
       " '59',\n",
       " '7',\n",
       " '90',\n",
       " 'a',\n",
       " 'al',\n",
       " 'at',\n",
       " 'be',\n",
       " 'br',\n",
       " 'by',\n",
       " 'c',\n",
       " 'cv',\n",
       " 'd',\n",
       " 'de',\n",
       " 'e',\n",
       " 'el',\n",
       " 'en',\n",
       " 'es',\n",
       " 'fu',\n",
       " 'is',\n",
       " 'it',\n",
       " 'la',\n",
       " 'lo',\n",
       " 'me',\n",
       " 'mi',\n",
       " 'no',\n",
       " 'o',\n",
       " 'of',\n",
       " 's',\n",
       " 'so',\n",
       " 't',\n",
       " 'to',\n",
       " 'tu',\n",
       " 'ui',\n",
       " 'un',\n",
       " 'up',\n",
       " 'va',\n",
       " 'wx',\n",
       " 'y'}"
      ]
     },
     "execution_count": 330,
     "metadata": {},
     "output_type": "execute_result"
    }
   ],
   "source": [
    "set(a.loc[a.longitud<3,'palabra'])"
   ]
  },
  {
   "cell_type": "code",
   "execution_count": 336,
   "metadata": {},
   "outputs": [
    {
     "data": {
      "text/html": [
       "<div>\n",
       "<style scoped>\n",
       "    .dataframe tbody tr th:only-of-type {\n",
       "        vertical-align: middle;\n",
       "    }\n",
       "\n",
       "    .dataframe tbody tr th {\n",
       "        vertical-align: top;\n",
       "    }\n",
       "\n",
       "    .dataframe thead th {\n",
       "        text-align: right;\n",
       "    }\n",
       "</style>\n",
       "<table border=\"1\" class=\"dataframe\">\n",
       "  <thead>\n",
       "    <tr style=\"text-align: right;\">\n",
       "      <th></th>\n",
       "      <th>palabra</th>\n",
       "      <th>cuentas</th>\n",
       "      <th>longitud</th>\n",
       "    </tr>\n",
       "  </thead>\n",
       "  <tbody>\n",
       "    <tr>\n",
       "      <th>0</th>\n",
       "      <td>de</td>\n",
       "      <td>56</td>\n",
       "      <td>2</td>\n",
       "    </tr>\n",
       "    <tr>\n",
       "      <th>1</th>\n",
       "      <td>python</td>\n",
       "      <td>52</td>\n",
       "      <td>6</td>\n",
       "    </tr>\n",
       "    <tr>\n",
       "      <th>2</th>\n",
       "      <td></td>\n",
       "      <td>48</td>\n",
       "      <td>0</td>\n",
       "    </tr>\n",
       "    <tr>\n",
       "      <th>3</th>\n",
       "      <td>con</td>\n",
       "      <td>46</td>\n",
       "      <td>3</td>\n",
       "    </tr>\n",
       "    <tr>\n",
       "      <th>4</th>\n",
       "      <td>11</td>\n",
       "      <td>30</td>\n",
       "      <td>2</td>\n",
       "    </tr>\n",
       "    <tr>\n",
       "      <th>...</th>\n",
       "      <td>...</td>\n",
       "      <td>...</td>\n",
       "      <td>...</td>\n",
       "    </tr>\n",
       "    <tr>\n",
       "      <th>711</th>\n",
       "      <td>paralela</td>\n",
       "      <td>1</td>\n",
       "      <td>8</td>\n",
       "    </tr>\n",
       "    <tr>\n",
       "      <th>712</th>\n",
       "      <td>intento</td>\n",
       "      <td>1</td>\n",
       "      <td>7</td>\n",
       "    </tr>\n",
       "    <tr>\n",
       "      <th>713</th>\n",
       "      <td>artificial</td>\n",
       "      <td>1</td>\n",
       "      <td>10</td>\n",
       "    </tr>\n",
       "    <tr>\n",
       "      <th>714</th>\n",
       "      <td>durar</td>\n",
       "      <td>1</td>\n",
       "      <td>5</td>\n",
       "    </tr>\n",
       "    <tr>\n",
       "      <th>715</th>\n",
       "      <td>00025_720i_fast</td>\n",
       "      <td>1</td>\n",
       "      <td>15</td>\n",
       "    </tr>\n",
       "  </tbody>\n",
       "</table>\n",
       "<p>716 rows × 3 columns</p>\n",
       "</div>"
      ],
      "text/plain": [
       "             palabra  cuentas  longitud\n",
       "0                 de       56         2\n",
       "1             python       52         6\n",
       "2                          48         0\n",
       "3                con       46         3\n",
       "4                 11       30         2\n",
       "..               ...      ...       ...\n",
       "711         paralela        1         8\n",
       "712          intento        1         7\n",
       "713       artificial        1        10\n",
       "714            durar        1         5\n",
       "715  00025_720i_fast        1        15\n",
       "\n",
       "[716 rows x 3 columns]"
      ]
     },
     "execution_count": 336,
     "metadata": {},
     "output_type": "execute_result"
    }
   ],
   "source": [
    "a"
   ]
  },
  {
   "cell_type": "code",
   "execution_count": 356,
   "metadata": {},
   "outputs": [
    {
     "data": {
      "application/vnd.jupyter.widget-view+json": {
       "model_id": "af705733afee4788884b79c2860ea09d",
       "version_major": 2,
       "version_minor": 0
      },
      "text/plain": [
       "VBox(children=(Figure(axes=[Axis(scale=LinearScale()), Axis(orientation='vertical', scale=LinearScale())], fig…"
      ]
     },
     "metadata": {},
     "output_type": "display_data"
    }
   ],
   "source": [
    "plt.figure()\n",
    "def_tt = bqplot.Tooltip(fields=['x', 'y','name'], formats=['', '.2f',''])\n",
    "sct = plt.scatter('longitud','cuentas',data=a,colors=['dodgerblue'],\n",
    "                            tooltip=def_tt, stroke='black', names=a.palabra,\n",
    "                            display_names=False,\n",
    "                            unhovered_style={'opacity': 0.5})\n",
    "plt.show()"
   ]
  }
 ],
 "metadata": {
  "kernelspec": {
   "display_name": "Python 3",
   "language": "python",
   "name": "python3"
  },
  "language_info": {
   "codemirror_mode": {
    "name": "ipython",
    "version": 3
   },
   "file_extension": ".py",
   "mimetype": "text/x-python",
   "name": "python",
   "nbconvert_exporter": "python",
   "pygments_lexer": "ipython3",
   "version": "3.8.6"
  },
  "widgets": {
   "application/vnd.jupyter.widget-state+json": {
    "state": {
     "001c66c8846a40fdacf3ee5d5c9f614e": {
      "model_module": "bqplot",
      "model_module_version": "^0.5.18",
      "model_name": "TooltipModel",
      "state": {
       "_model_module_version": "^0.5.18",
       "_view_module_version": "^0.5.18",
       "fields": [
        "x",
        "y",
        "name"
       ],
       "formats": [
        "",
        ".2f",
        ""
       ],
       "layout": "IPY_MODEL_7501c72ec9884932b9ec4d88b5b3c2f0"
      }
     },
     "007528f904ca45b6abf7afb5967a907e": {
      "model_module": "bqplot",
      "model_module_version": "^0.5.18",
      "model_name": "LinearScaleModel",
      "state": {
       "_model_module_version": "^0.5.18",
       "_view_module_version": "^0.5.18",
       "stabilized": false
      }
     },
     "00d966f730594248bf7e79b5f3887474": {
      "model_module": "@jupyter-widgets/base",
      "model_module_version": "1.2.0",
      "model_name": "LayoutModel",
      "state": {}
     },
     "01c4c514054243eab667bc5b8f4f8a3c": {
      "model_module": "@jupyter-widgets/controls",
      "model_module_version": "1.5.0",
      "model_name": "VBoxModel",
      "state": {
       "children": [
        "IPY_MODEL_880a7ada5d084533aad4e328de1a25f9",
        "IPY_MODEL_e4b99e94a075477d93d79ba89bfcd6c9"
       ],
       "layout": "IPY_MODEL_c50c133829b94c9ba5ddf9eb4c83f6de"
      }
     },
     "027c9e0f0f104e68813dcb442ca6b920": {
      "model_module": "bqplot",
      "model_module_version": "^0.5.18",
      "model_name": "ToolbarModel",
      "state": {
       "_model_module_version": "^0.5.18",
       "_view_module_version": "^0.5.18",
       "figure": "IPY_MODEL_a5c463a52b0e48ef986233adea79c704",
       "layout": "IPY_MODEL_38a66456d3bd4cbd84cae654ba4d9678"
      }
     },
     "02855af31865445fb176ac5e9cec80b2": {
      "model_module": "bqplot",
      "model_module_version": "^0.5.18",
      "model_name": "AxisModel",
      "state": {
       "_model_module_version": "^0.5.18",
       "_view_module_version": "^0.5.18",
       "orientation": "vertical",
       "scale": "IPY_MODEL_a232819f00ab4668b64f3574c8d5c9f7",
       "side": "left",
       "tick_values": null
      }
     },
     "02e7426a766b4d4083c8574325071da1": {
      "model_module": "bqplot",
      "model_module_version": "^0.5.18",
      "model_name": "LinearScaleModel",
      "state": {
       "_model_module_version": "^0.5.18",
       "_view_module_version": "^0.5.18",
       "allow_padding": false,
       "max": 1,
       "min": 0,
       "stabilized": false
      }
     },
     "034c2d14b4ae427ba71543e4e8916742": {
      "model_module": "bqplot",
      "model_module_version": "^0.5.18",
      "model_name": "LinearScaleModel",
      "state": {
       "_model_module_version": "^0.5.18",
       "_view_module_version": "^0.5.18",
       "allow_padding": false,
       "max": 1,
       "min": 0,
       "stabilized": false
      }
     },
     "04be6c932b81417bb0f6e2819bb44ba1": {
      "model_module": "bqplot",
      "model_module_version": "^0.5.18",
      "model_name": "LinearScaleModel",
      "state": {
       "_model_module_version": "^0.5.18",
       "_view_module_version": "^0.5.18",
       "stabilized": false
      }
     },
     "054729a2681b427cbae3c1b88bbb5d81": {
      "model_module": "@jupyter-widgets/base",
      "model_module_version": "1.2.0",
      "model_name": "LayoutModel",
      "state": {}
     },
     "0577346d0582472194489b86f6f169f7": {
      "model_module": "bqplot",
      "model_module_version": "^0.5.18",
      "model_name": "LinearScaleModel",
      "state": {
       "_model_module_version": "^0.5.18",
       "_view_module_version": "^0.5.18",
       "allow_padding": false,
       "max": 1,
       "min": 0,
       "stabilized": false
      }
     },
     "068dfffe90ac424f9c3fa412d5fc38ed": {
      "model_module": "@jupyter-widgets/base",
      "model_module_version": "1.2.0",
      "model_name": "LayoutModel",
      "state": {}
     },
     "06fc3e340b064fd6a864587e0cf0dd44": {
      "model_module": "bqplot",
      "model_module_version": "^0.5.18",
      "model_name": "LinearScaleModel",
      "state": {
       "_model_module_version": "^0.5.18",
       "_view_module_version": "^0.5.18",
       "stabilized": false
      }
     },
     "071a2afbff9942a6b57daab9f3b9bcb2": {
      "buffers": [
       {
        "data": "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",
        "encoding": "base64",
        "path": [
         "x",
         "value"
        ]
       },
       {
        "data": "OAAAADQAAAAwAAAALgAAAB4AAAAcAAAAHAAAABwAAAAbAAAAGwAAABoAAAAYAAAAFwAAABMAAAARAAAADwAAAA4AAAANAAAADAAAAAwAAAAKAAAACgAAAAkAAAAJAAAACQAAAAgAAAAIAAAABwAAAAcAAAAGAAAABgAAAAUAAAAFAAAABQAAAAUAAAAFAAAABQAAAAUAAAAFAAAABQAAAAQAAAAEAAAABAAAAAQAAAAEAAAABAAAAAQAAAAEAAAABAAAAAQAAAAEAAAABAAAAAQAAAAEAAAABAAAAAQAAAAEAAAAAwAAAAMAAAADAAAAAwAAAAMAAAADAAAAAwAAAAMAAAADAAAAAwAAAAMAAAADAAAAAwAAAAMAAAADAAAAAwAAAAMAAAADAAAAAwAAAAMAAAADAAAAAwAAAAMAAAADAAAAAwAAAAMAAAADAAAAAwAAAAMAAAADAAAAAwAAAAMAAAADAAAAAwAAAAMAAAADAAAAAwAAAAIAAAACAAAAAgAAAAIAAAACAAAAAgAAAAIAAAACAAAAAgAAAAIAAAACAAAAAgAAAAIAAAACAAAAAgAAAAIAAAACAAAAAgAAAAIAAAACAAAAAgAAAAIAAAACAAAAAgAAAAIAAAACAAAAAgAAAAIAAAACAAAAAgAAAAIAAAACAAAAAgAAAAIAAAACAAAAAgAAAAIAAAACAAAAAgAAAAIAAAACAAAAAgAAAAIAAAACAAAAAgAAAAIAAAACAAAAAgAAAAIAAAACAAAAAgAAAAIAAAACAAAAAgAAAAIAAAACAAAAAgAAAAIAAAACAAAAAgAAAAIAAAACAAAAAgAAAAIAAAACAAAAAgAAAAIAAAACAAAAAgAAAAIAAAACAAAAAgAAAAIAAAACAAAAAgAAAAIAAAACAAAAAgAAAAIAAAACAAAAAQAAAAEAAAABAAAAAQAAAAEAAAABAAAAAQAAAAEAAAABAAAAAQAAAAEAAAABAAAAAQAAAAEAAAABAAAAAQAAAAEAAAABAAAAAQAAAAEAAAABAAAAAQAAAAEAAAABAAAAAQAAAAEAAAABAAAAAQAAAAEAAAABAAAAAQAAAAEAAAABAAAAAQAAAAEAAAABAAAAAQAAAAEAAAABAAAAAQAAAAEAAAABAAAAAQAAAAEAAAABAAAAAQAAAAEAAAABAAAAAQAAAAEAAAABAAAAAQAAAAEAAAABAAAAAQAAAAEAAAABAAAAAQAAAAEAAAABAAAAAQAAAAEAAAABAAAAAQAAAAEAAAABAAAAAQAAAAEAAAABAAAAAQAAAAEAAAABAAAAAQAAAAEAAAABAAAAAQAAAAEAAAABAAAAAQAAAAEAAAABAAAAAQAAAAEAAAABAAAAAQAAAAEAAAABAAAAAQAAAAEAAAABAAAAAQAAAAEAAAABAAAAAQAAAAEAAAABAAAAAQAAAAEAAAABAAAAAQAAAAEAAAABAAAAAQAAAAEAAAABAAAAAQAAAAEAAAABAAAAAQAAAAEAAAABAAAAAQAAAAEAAAABAAAAAQAAAAEAAAABAAAAAQAAAAEAAAABAAAAAQAAAAEAAAABAAAAAQAAAAEAAAABAAAAAQAAAAEAAAABAAAAAQAAAAEAAAABAAAAAQAAAAEAAAABAAAAAQAAAAEAAAABAAAAAQAAAAEAAAABAAAAAQAAAAEAAAABAAAAAQAAAAEAAAABAAAAAQAAAAEAAAABAAAAAQAAAAEAAAABAAAAAQAAAAEAAAABAAAAAQAAAAEAAAABAAAAAQAAAAEAAAABAAAAAQAAAAEAAAABAAAAAQAAAAEAAAABAAAAAQAAAAEAAAABAAAAAQAAAAEAAAABAAAAAQAAAAEAAAABAAAAAQAAAAEAAAABAAAAAQAAAAEAAAABAAAAAQAAAAEAAAABAAAAAQAAAAEAAAABAAAAAQAAAAEAAAABAAAAAQAAAAEAAAABAAAAAQAAAAEAAAABAAAAAQAAAAEAAAABAAAAAQAAAAEAAAABAAAAAQAAAAEAAAABAAAAAQAAAAEAAAABAAAAAQAAAAEAAAABAAAAAQAAAAEAAAABAAAAAQAAAAEAAAABAAAAAQAAAAEAAAABAAAAAQAAAAEAAAABAAAAAQAAAAEAAAABAAAAAQAAAAEAAAABAAAAAQAAAAEAAAABAAAAAQAAAAEAAAABAAAAAQAAAAEAAAABAAAAAQAAAAEAAAABAAAAAQAAAAEAAAABAAAAAQAAAAEAAAABAAAAAQAAAAEAAAABAAAAAQAAAAEAAAABAAAAAQAAAAEAAAABAAAAAQAAAAEAAAABAAAAAQAAAAEAAAABAAAAAQAAAAEAAAABAAAAAQAAAAEAAAABAAAAAQAAAAEAAAABAAAAAQAAAAEAAAABAAAAAQAAAAEAAAABAAAAAQAAAAEAAAABAAAAAQAAAAEAAAABAAAAAQAAAAEAAAABAAAAAQAAAAEAAAABAAAAAQAAAAEAAAABAAAAAQAAAAEAAAABAAAAAQAAAAEAAAABAAAAAQAAAAEAAAABAAAAAQAAAAEAAAABAAAAAQAAAAEAAAABAAAAAQAAAAEAAAABAAAAAQAAAAEAAAABAAAAAQAAAAEAAAABAAAAAQAAAAEAAAABAAAAAQAAAAEAAAABAAAAAQAAAAEAAAABAAAAAQAAAAEAAAABAAAAAQAAAAEAAAABAAAAAQAAAAEAAAABAAAAAQAAAAEAAAABAAAAAQAAAAEAAAABAAAAAQAAAAEAAAABAAAAAQAAAAEAAAABAAAAAQAAAAEAAAABAAAAAQAAAAEAAAABAAAAAQAAAAEAAAABAAAAAQAAAAEAAAABAAAAAQAAAAEAAAABAAAAAQAAAAEAAAABAAAAAQAAAAEAAAABAAAAAQAAAAEAAAABAAAAAQAAAAEAAAABAAAAAQAAAAEAAAABAAAAAQAAAAEAAAABAAAAAQAAAAEAAAABAAAAAQAAAAEAAAABAAAAAQAAAAEAAAABAAAAAQAAAAEAAAABAAAAAQAAAAEAAAABAAAAAQAAAAEAAAABAAAAAQAAAAEAAAABAAAAAQAAAAEAAAABAAAAAQAAAAEAAAABAAAAAQAAAAEAAAABAAAAAQAAAAEAAAABAAAAAQAAAAEAAAABAAAAAQAAAAEAAAABAAAAAQAAAAEAAAABAAAAAQAAAAEAAAABAAAAAQAAAAEAAAABAAAAAQAAAAEAAAABAAAAAQAAAAEAAAABAAAAAQAAAAEAAAABAAAAAQAAAAEAAAABAAAAAQAAAAEAAAABAAAAAQAAAAEAAAABAAAAAQAAAAEAAAABAAAAAQAAAAEAAAABAAAAAQAAAAEAAAABAAAAAQAAAAEAAAABAAAAAQAAAAEAAAABAAAAAQAAAAEAAAABAAAAAQAAAAEAAAABAAAAAQAAAAEAAAABAAAAAQAAAAEAAAABAAAAAQAAAAEAAAABAAAAAQAAAAEAAAABAAAAAQAAAAEAAAABAAAAAQAAAAEAAAABAAAAAQAAAAEAAAABAAAAAQAAAAEAAAABAAAAAQAAAAEAAAABAAAAAQAAAAEAAAABAAAAAQAAAAEAAAABAAAAAQAAAAEAAAABAAAAAQAAAAEAAAABAAAAAQAAAAEAAAABAAAAAQAAAAEAAAABAAAAAQAAAAEAAAABAAAAAQAAAAEAAAABAAAAAQAAAAEAAAABAAAAAQAAAAEAAAABAAAAAQAAAAEAAAABAAAAAQAAAAEAAAABAAAAAQAAAAEAAAABAAAAAQAAAAEAAAABAAAAAQAAAAEAAAABAAAAAQAAAAEAAAA=",
        "encoding": "base64",
        "path": [
         "y",
         "value"
        ]
       }
      ],
      "model_module": "bqplot",
      "model_module_version": "^0.5.18",
      "model_name": "ScatterModel",
      "state": {
       "_model_module_version": "^0.5.18",
       "_view_module_version": "^0.5.18",
       "colors": [
        "dodgerblue"
       ],
       "default_opacities": {
        "dtype": "float64",
        "shape": [
         1
        ],
        "type": null,
        "value": {}
       },
       "label_display_horizontal_offset": 0,
       "label_display_vertical_offset": 0,
       "names": null,
       "scales": {
        "x": "IPY_MODEL_0a768a38b88246fa9b888838deca7064",
        "y": "IPY_MODEL_53dd6639236845628bede5bae445fc63"
       },
       "scales_metadata": {
        "color": {
         "dimension": "color"
        },
        "opacity": {
         "dimension": "opacity"
        },
        "rotation": {
         "dimension": "rotation"
        },
        "size": {
         "dimension": "size"
        },
        "skew": {
         "dimension": "skew"
        },
        "x": {
         "dimension": "x",
         "orientation": "horizontal"
        },
        "y": {
         "dimension": "y",
         "orientation": "vertical"
        }
       },
       "stroke": "black",
       "tooltip": "IPY_MODEL_3308476002764d939290007c756a843f",
       "unhovered_style": {
        "opacity": 0.5
       },
       "x": {
        "dtype": "int32",
        "shape": [
         716
        ],
        "type": null
       },
       "y": {
        "dtype": "int32",
        "shape": [
         716
        ],
        "type": null
       }
      }
     },
     "0722f26402f745e884d687c60b575b60": {
      "model_module": "bqplot",
      "model_module_version": "^0.5.18",
      "model_name": "LinearScaleModel",
      "state": {
       "_model_module_version": "^0.5.18",
       "_view_module_version": "^0.5.18",
       "stabilized": false
      }
     },
     "0818b2d78011430db3c6c53b15ac8a08": {
      "model_module": "@jupyter-widgets/base",
      "model_module_version": "1.2.0",
      "model_name": "LayoutModel",
      "state": {}
     },
     "0869017a92af4904b61edd988ad747d8": {
      "model_module": "bqplot",
      "model_module_version": "^0.5.18",
      "model_name": "LinearScaleModel",
      "state": {
       "_model_module_version": "^0.5.18",
       "_view_module_version": "^0.5.18",
       "stabilized": false
      }
     },
     "09182bbb3eef4f868e7e320ce772ce67": {
      "model_module": "@jupyter-widgets/base",
      "model_module_version": "1.2.0",
      "model_name": "LayoutModel",
      "state": {}
     },
     "093897374ab64ea5ae098dd4d43563a2": {
      "model_module": "bqplot",
      "model_module_version": "^0.5.18",
      "model_name": "LinearScaleModel",
      "state": {
       "_model_module_version": "^0.5.18",
       "_view_module_version": "^0.5.18",
       "allow_padding": false,
       "max": 1,
       "min": 0,
       "stabilized": false
      }
     },
     "0981ea4ffca64878bd1d5006960f215c": {
      "model_module": "bqplot",
      "model_module_version": "^0.5.18",
      "model_name": "LinearScaleModel",
      "state": {
       "_model_module_version": "^0.5.18",
       "_view_module_version": "^0.5.18",
       "allow_padding": false,
       "max": 1,
       "min": 0,
       "stabilized": false
      }
     },
     "09a1ce0232304723844de9db9832cae7": {
      "model_module": "bqplot",
      "model_module_version": "^0.5.18",
      "model_name": "LinearScaleModel",
      "state": {
       "_model_module_version": "^0.5.18",
       "_view_module_version": "^0.5.18",
       "allow_padding": false,
       "max": 1,
       "min": 0,
       "stabilized": false
      }
     },
     "09aed5cce6eb4743b29a365f67f4ee19": {
      "model_module": "bqplot",
      "model_module_version": "^0.5.18",
      "model_name": "LinearScaleModel",
      "state": {
       "_model_module_version": "^0.5.18",
       "_view_module_version": "^0.5.18",
       "stabilized": false
      }
     },
     "0a6218086510431585d2c7762b068c7e": {
      "model_module": "@jupyter-widgets/base",
      "model_module_version": "1.2.0",
      "model_name": "LayoutModel",
      "state": {}
     },
     "0a768a38b88246fa9b888838deca7064": {
      "model_module": "bqplot",
      "model_module_version": "^0.5.18",
      "model_name": "LinearScaleModel",
      "state": {
       "_model_module_version": "^0.5.18",
       "_view_module_version": "^0.5.18",
       "stabilized": false
      }
     },
     "0b1493fe7a18481d956f69fef4ee80cf": {
      "model_module": "@jupyter-widgets/base",
      "model_module_version": "1.2.0",
      "model_name": "LayoutModel",
      "state": {}
     },
     "0b37339779ba4e7f9182d1e3c8862b0b": {
      "model_module": "bqplot",
      "model_module_version": "^0.5.18",
      "model_name": "ToolbarModel",
      "state": {
       "_model_module_version": "^0.5.18",
       "_view_module_version": "^0.5.18",
       "figure": "IPY_MODEL_30a3691b083740e88954e809f9b97f4d",
       "layout": "IPY_MODEL_a14b869bc9bc414ea952b8a2e47f34fe"
      }
     },
     "0c55aed1904941c39d7c0452d2331922": {
      "model_module": "bqplot",
      "model_module_version": "^0.5.18",
      "model_name": "LinearScaleModel",
      "state": {
       "_model_module_version": "^0.5.18",
       "_view_module_version": "^0.5.18",
       "stabilized": false
      }
     },
     "0ce3bfad16da4a02a903dee683366c40": {
      "model_module": "@jupyter-widgets/controls",
      "model_module_version": "1.5.0",
      "model_name": "VBoxModel",
      "state": {
       "children": [
        "IPY_MODEL_f1b8fe1fb2034b0091d49b424e27854d",
        "IPY_MODEL_c43dbece7647443b99a067e66f4c7099"
       ],
       "layout": "IPY_MODEL_5d95232c96fd46e9ac4f69ce6db70cd4"
      }
     },
     "0d09b8c48e2d4358a6f18f61ce3c0e62": {
      "model_module": "bqplot",
      "model_module_version": "^0.5.18",
      "model_name": "AxisModel",
      "state": {
       "_model_module_version": "^0.5.18",
       "_view_module_version": "^0.5.18",
       "scale": "IPY_MODEL_e1d6c435dfc44b2e8afbf8a97d2c0db6",
       "side": "bottom",
       "tick_values": null
      }
     },
     "0d35b3d425c4483fa4f4692b4bb7a170": {
      "model_module": "bqplot",
      "model_module_version": "^0.5.18",
      "model_name": "LinearScaleModel",
      "state": {
       "_model_module_version": "^0.5.18",
       "_view_module_version": "^0.5.18",
       "allow_padding": false,
       "max": 1,
       "min": 0,
       "stabilized": false
      }
     },
     "0df2a68e06e14729bc6fd2323626aa65": {
      "model_module": "bqplot",
      "model_module_version": "^0.5.18",
      "model_name": "LinearScaleModel",
      "state": {
       "_model_module_version": "^0.5.18",
       "_view_module_version": "^0.5.18",
       "allow_padding": false,
       "max": 1,
       "min": 0,
       "stabilized": false
      }
     },
     "0e1fe3601d89428aba8456038065b468": {
      "model_module": "bqplot",
      "model_module_version": "^0.5.18",
      "model_name": "AxisModel",
      "state": {
       "_model_module_version": "^0.5.18",
       "_view_module_version": "^0.5.18",
       "scale": "IPY_MODEL_fdbf3739edd6405588e347203d8f1865",
       "side": "bottom",
       "tick_values": null
      }
     },
     "0e826da7c5254971a2493a8fa679dd65": {
      "model_module": "@jupyter-widgets/base",
      "model_module_version": "1.2.0",
      "model_name": "LayoutModel",
      "state": {}
     },
     "0ebed44020e24ba0a4dbd141c3223e4d": {
      "model_module": "bqplot",
      "model_module_version": "^0.5.18",
      "model_name": "ToolbarModel",
      "state": {
       "_model_module_version": "^0.5.18",
       "_view_module_version": "^0.5.18",
       "figure": "IPY_MODEL_6ffc010b6c18410ab1c85e30c58eddf9",
       "layout": "IPY_MODEL_bfe365b450b44d10a2439428b5d583f6"
      }
     },
     "0f0d73466f924b469f54272af2eb544c": {
      "model_module": "bqplot",
      "model_module_version": "^0.5.18",
      "model_name": "LinearScaleModel",
      "state": {
       "_model_module_version": "^0.5.18",
       "_view_module_version": "^0.5.18",
       "allow_padding": false,
       "max": 1,
       "min": 0,
       "stabilized": false
      }
     },
     "0f5e6a083560418f9fcc94b97ec080c8": {
      "model_module": "bqplot",
      "model_module_version": "^0.5.18",
      "model_name": "AxisModel",
      "state": {
       "_model_module_version": "^0.5.18",
       "_view_module_version": "^0.5.18",
       "scale": "IPY_MODEL_bb18642b348643f1826fa0bb0a7d3d40",
       "side": "bottom",
       "tick_values": null
      }
     },
     "0fe4325663ca4225a3790a2c0f3c6bc4": {
      "buffers": [
       {
        "data": "HwAAAAcAAAAFAAAABQAAAAUAAAAEAAAABAAAAAMAAAADAAAAAwAAAAMAAAADAAAAAwAAAAMAAAACAAAAAgAAAAIAAAACAAAAAgAAAAIAAAACAAAAAgAAAAIAAAACAAAAAgAAAAIAAAACAAAAAgAAAAIAAAACAAAAAgAAAAIAAAACAAAAAgAAAAIAAAACAAAAAgAAAAEAAAABAAAAAQAAAAEAAAABAAAAAQAAAAEAAAABAAAAAQAAAAEAAAABAAAAAQAAAAEAAAABAAAAAQAAAAEAAAABAAAAAQAAAAEAAAABAAAAAQAAAAEAAAABAAAAAQAAAAEAAAABAAAAAQAAAAEAAAABAAAAAQAAAAEAAAABAAAAAQAAAAEAAAABAAAAAQAAAAEAAAABAAAAAQAAAAEAAAABAAAAAQAAAAEAAAABAAAAAQAAAAEAAAABAAAAAQAAAAEAAAABAAAAAQAAAAEAAAABAAAAAQAAAAEAAAABAAAAAQAAAAEAAAABAAAAAQAAAAEAAAABAAAAAQAAAAEAAAABAAAAAQAAAAEAAAABAAAAAQAAAAEAAAABAAAAAQAAAAEAAAABAAAAAQAAAAEAAAABAAAAAQAAAAEAAAABAAAAAQAAAAEAAAABAAAAAQAAAAEAAAABAAAAAQAAAAEAAAABAAAAAQAAAAEAAAABAAAAAQAAAAEAAAABAAAAAQAAAAEAAAABAAAAAQAAAAEAAAABAAAAAQAAAAEAAAABAAAAAQAAAAEAAAABAAAAAQAAAAEAAAABAAAAAQAAAAEAAAABAAAAAQAAAAEAAAABAAAAAQAAAAEAAAABAAAAAQAAAAEAAAABAAAAAQAAAAEAAAABAAAAAQAAAAEAAAABAAAAAQAAAAEAAAABAAAAAQAAAAEAAAABAAAAAQAAAAEAAAABAAAAAQAAAA==",
        "encoding": "base64",
        "path": [
         "y",
         "value"
        ]
       }
      ],
      "model_module": "bqplot",
      "model_module_version": "^0.5.18",
      "model_name": "ScatterModel",
      "state": {
       "_model_module_version": "^0.5.18",
       "_view_module_version": "^0.5.18",
       "default_opacities": {
        "dtype": "float64",
        "shape": [
         1
        ],
        "type": null,
        "value": {}
       },
       "label_display_horizontal_offset": 0,
       "label_display_vertical_offset": 0,
       "names": null,
       "scales": {
        "x": "IPY_MODEL_bb18642b348643f1826fa0bb0a7d3d40",
        "y": "IPY_MODEL_71ef62f5174a48288ce47fe5efd107e2"
       },
       "scales_metadata": {
        "color": {
         "dimension": "color"
        },
        "opacity": {
         "dimension": "opacity"
        },
        "rotation": {
         "dimension": "rotation"
        },
        "size": {
         "dimension": "size"
        },
        "skew": {
         "dimension": "skew"
        },
        "x": {
         "dimension": "x",
         "orientation": "horizontal"
        },
        "y": {
         "dimension": "y",
         "orientation": "vertical"
        }
       },
       "x": [
        "Various speakers",
        "Facundo Batista",
        "Juan Pedro Fisanotti",
        "Roberto Alsina",
        "Claudio Freire",
        "Damián Avila",
        "Hugo Ruscitti",
        "Alejandro J. Cura",
        "Various Speakers",
        "Diego Sarmentero",
        "Natalia Bidart",
        "Martin Alderete",
        "Rafael Carrascosa",
        "Gabriel Genellina",
        "Ricardo Kirkner",
        "Martín Gaitán",
        "Alejandro Cura",
        "Manuel Quiñones",
        "Diego Cañizares",
        "Massimo Di Pierro",
        "Craig Kerstiens",
        "Luciano Rossi",
        "Ariel Rossanigo",
        "Andrea Gavana",
        "Nicolás Demarchi",
        "Felipe Lerena",
        "Daniel F. Moisset",
        "Matías Bordese",
        "Berenice Larsen Pereyra",
        "Brett Cannon",
        "Javier Mansilla",
        "Sebastián Marró",
        "Emiliano Dalla Verde Marcozzi",
        "Manuel Kaufmann",
        "Sofía Denner",
        "Pedro Ignacio Guridi",
        "Christophe Pettus",
        "Ezequiel Gutesman",
        "Brandon Rhodes",
        "Javier Der Derian",
        "Wesley Chun",
        "Luciano Serruya Aloisi",
        "Carol Willing",
        "Cynthia Monastirsky",
        "Vinicius Feitosa Pacheco",
        "María Andrea Vignau",
        "Sebastian Brachi",
        "Martin Volpe",
        "Ramiro Morales",
        "Sebastián Kennedy",
        "Andrés Riancho",
        "Joaquín Sorianello",
        "David Litvak Bruno",
        "Leonardo Lazzaro",
        "Paola Katherine",
        "Nicolas Quiroz",
        "Flor Novidelsky",
        "Fernando Schapachnik",
        "Juan Manuel Schillaci",
        "Silvestre Huens",
        "Joaquin Sorianello",
        "Dino Viehland",
        "Emilio Crudele",
        "Juan Manuel Santos",
        "Federico Martinez y Santiago Avendaño",
        "Estefania Miguel",
        "Sofia Martin",
        "Ariel Farkas",
        "Alfonso de la Guarda Reyes",
        "Federico Brest",
        "Lucía García Itzigsohn",
        "A. Garassino",
        "Miguel Felipe Duarte",
        "Dave Weil",
        "dax",
        "Matias Barriento",
        "Angel J. Lopez",
        "Tomas Zulberti",
        "Valeria Rocha",
        "Juan Carlos Abdala",
        "Johanna Caterina Faliero",
        "D. Nohales",
        "Carlos de la Torre",
        "Leonardo Morales",
        "Martín Miranda",
        "Aylen Bombelli",
        "Hernan Wilkinson",
        "Martin Riva",
        "Tati Al-Chueyr",
        "Daniel Espinoza",
        "Martin Ribelotta",
        "Lucio Delelis",
        "Diego Diez",
        "Ana Laura Almada",
        "Sofía Martin",
        "Juan Pablo Giménez",
        "Martin Elias Costa",
        "N. Demarchi",
        "Gustavo Garcia Craia",
        "Manuel de la Peña",
        "Javier Derderyan",
        "Valentín Spurchisi",
        "Sebastian Bassi",
        "Jose Morales",
        "Celia Cintas",
        "Pablo Cruz Casas",
        "Augusto Coto",
        "Carolina Maristany",
        "Sergio Schvezov",
        "Angel Freire",
        "Laureano Kloss",
        "Alexis Jawtuschenko",
        "L. Torre",
        "Juan Bagnera",
        "Diego Mascialino",
        "Mariano Guerra",
        "Damian Avila",
        "Cecilia Jarne",
        "Ignacio Heredia",
        "Erico Ándrei",
        "Ana Velez Rueda",
        "Maciej Fijalkowski",
        "Ana Almada",
        "Diego G. Cañizares",
        "David Garoz",
        "Alan Runyan",
        "Eduardo Casarero",
        "Juan E. D.",
        "Mariano Reingart",
        "Héctor Sanchez Gonzalo Odiard",
        "Javyer Der Derian",
        "Emanuel Sartor",
        "Franco Mariluis",
        "Alejandro Pereira",
        "Alejandro Garcia",
        "Erico Andrei",
        "Adriana Aiassa",
        "Pablo Alcain",
        "Robert M Lefkowitz",
        "Matias Lang",
        "Fernando Masanori",
        "Matias Bordese",
        "German Bourdin",
        "Alejandro Zamora Fonseca",
        "Angel Lopez",
        "Simon Willison",
        "M. Quiñones",
        "Mário Sérgio",
        "Francisco Capdevila",
        "Carlos Matías de la Torre",
        "Leandro Ucciferri",
        "Marcelo Fernández",
        "Matias Varela",
        "Ángel Medinilla",
        "Jim Fulton",
        "Mariela Osete",
        "Katherine Jenkins",
        "Nahuel Lascano",
        "Diego Ramirez",
        "Franco Nicolas Bellomo",
        "Andrés Snitcofsky",
        "Mariano Lambir",
        "Rodrigo Lugones",
        "Graciela Molina",
        "Ignacio Fiorentino",
        "Federico Gonzalez (FedeG)",
        "Jeannette Torrez",
        "Victoria Martinez de la Cruz",
        "Thiago Avelino",
        "Álvaro Justen",
        "Alexis Ferreyra",
        "Juan Bautista Cabral",
        "Yonatan Romero",
        "Javier Ayres",
        "Pablo Toledo Margalef"
       ],
       "y": {
        "dtype": "int32",
        "shape": [
         175
        ],
        "type": null
       }
      }
     },
     "108d769053b745d9854b559484d13110": {
      "model_module": "bqplot",
      "model_module_version": "^0.5.18",
      "model_name": "AxisModel",
      "state": {
       "_model_module_version": "^0.5.18",
       "_view_module_version": "^0.5.18",
       "scale": "IPY_MODEL_bc64c9f4263b44158949732e5c769449",
       "side": "bottom",
       "tick_values": null
      }
     },
     "10a6a55523b345d2b53c3dc194d84697": {
      "model_module": "bqplot",
      "model_module_version": "^0.5.18",
      "model_name": "LinearScaleModel",
      "state": {
       "_model_module_version": "^0.5.18",
       "_view_module_version": "^0.5.18",
       "allow_padding": false,
       "max": 1,
       "min": 0,
       "stabilized": false
      }
     },
     "10ccda5699d0401082ca3cea52088692": {
      "buffers": [
       {
        "data": "HwAAAAcAAAAFAAAABQAAAAUAAAAEAAAABAAAAAMAAAADAAAAAwAAAAMAAAADAAAAAwAAAAMAAAACAAAAAgAAAAIAAAACAAAAAgAAAAIAAAACAAAAAgAAAAIAAAACAAAAAgAAAAIAAAACAAAAAgAAAAIAAAACAAAAAgAAAAIAAAACAAAAAgAAAAIAAAACAAAAAgAAAAEAAAABAAAAAQAAAAEAAAABAAAAAQAAAAEAAAABAAAAAQAAAAEAAAABAAAAAQAAAAEAAAABAAAAAQAAAAEAAAABAAAAAQAAAAEAAAABAAAAAQAAAAEAAAABAAAAAQAAAAEAAAABAAAAAQAAAAEAAAABAAAAAQAAAAEAAAABAAAAAQAAAAEAAAABAAAAAQAAAAEAAAABAAAAAQAAAAEAAAABAAAAAQAAAAEAAAABAAAAAQAAAAEAAAABAAAAAQAAAAEAAAABAAAAAQAAAAEAAAABAAAAAQAAAAEAAAABAAAAAQAAAAEAAAABAAAAAQAAAAEAAAABAAAAAQAAAAEAAAABAAAAAQAAAAEAAAABAAAAAQAAAAEAAAABAAAAAQAAAAEAAAABAAAAAQAAAAEAAAABAAAAAQAAAAEAAAABAAAAAQAAAAEAAAABAAAAAQAAAAEAAAABAAAAAQAAAAEAAAABAAAAAQAAAAEAAAABAAAAAQAAAAEAAAABAAAAAQAAAAEAAAABAAAAAQAAAAEAAAABAAAAAQAAAAEAAAABAAAAAQAAAAEAAAABAAAAAQAAAAEAAAABAAAAAQAAAAEAAAABAAAAAQAAAAEAAAABAAAAAQAAAAEAAAABAAAAAQAAAAEAAAABAAAAAQAAAAEAAAABAAAAAQAAAAEAAAABAAAAAQAAAAEAAAABAAAAAQAAAAEAAAABAAAAAQAAAAEAAAABAAAAAQAAAA==",
        "encoding": "base64",
        "path": [
         "y",
         "value"
        ]
       }
      ],
      "model_module": "bqplot",
      "model_module_version": "^0.5.18",
      "model_name": "ScatterModel",
      "state": {
       "_model_module_version": "^0.5.18",
       "_view_module_version": "^0.5.18",
       "default_opacities": {
        "dtype": "float64",
        "shape": [
         1
        ],
        "type": null,
        "value": {}
       },
       "label_display_horizontal_offset": 0,
       "label_display_vertical_offset": 0,
       "names": null,
       "scales": {
        "x": "IPY_MODEL_a166a6180a7547f5bdddd2df0420ef13",
        "y": "IPY_MODEL_0869017a92af4904b61edd988ad747d8"
       },
       "scales_metadata": {
        "color": {
         "dimension": "color"
        },
        "opacity": {
         "dimension": "opacity"
        },
        "rotation": {
         "dimension": "rotation"
        },
        "size": {
         "dimension": "size"
        },
        "skew": {
         "dimension": "skew"
        },
        "x": {
         "dimension": "x",
         "orientation": "horizontal"
        },
        "y": {
         "dimension": "y",
         "orientation": "vertical"
        }
       },
       "x": [
        "Various speakers",
        "Facundo Batista",
        "Juan Pedro Fisanotti",
        "Roberto Alsina",
        "Claudio Freire",
        "Damián Avila",
        "Hugo Ruscitti",
        "Alejandro J. Cura",
        "Various Speakers",
        "Diego Sarmentero",
        "Natalia Bidart",
        "Martin Alderete",
        "Rafael Carrascosa",
        "Gabriel Genellina",
        "Ricardo Kirkner",
        "Martín Gaitán",
        "Alejandro Cura",
        "Manuel Quiñones",
        "Diego Cañizares",
        "Massimo Di Pierro",
        "Craig Kerstiens",
        "Luciano Rossi",
        "Ariel Rossanigo",
        "Andrea Gavana",
        "Nicolás Demarchi",
        "Felipe Lerena",
        "Daniel F. Moisset",
        "Matías Bordese",
        "Berenice Larsen Pereyra",
        "Brett Cannon",
        "Javier Mansilla",
        "Sebastián Marró",
        "Emiliano Dalla Verde Marcozzi",
        "Manuel Kaufmann",
        "Sofía Denner",
        "Pedro Ignacio Guridi",
        "Christophe Pettus",
        "Ezequiel Gutesman",
        "Brandon Rhodes",
        "Javier Der Derian",
        "Wesley Chun",
        "Luciano Serruya Aloisi",
        "Carol Willing",
        "Cynthia Monastirsky",
        "Vinicius Feitosa Pacheco",
        "María Andrea Vignau",
        "Sebastian Brachi",
        "Martin Volpe",
        "Ramiro Morales",
        "Sebastián Kennedy",
        "Andrés Riancho",
        "Joaquín Sorianello",
        "David Litvak Bruno",
        "Leonardo Lazzaro",
        "Paola Katherine",
        "Nicolas Quiroz",
        "Flor Novidelsky",
        "Fernando Schapachnik",
        "Juan Manuel Schillaci",
        "Silvestre Huens",
        "Joaquin Sorianello",
        "Dino Viehland",
        "Emilio Crudele",
        "Juan Manuel Santos",
        "Federico Martinez y Santiago Avendaño",
        "Estefania Miguel",
        "Sofia Martin",
        "Ariel Farkas",
        "Alfonso de la Guarda Reyes",
        "Federico Brest",
        "Lucía García Itzigsohn",
        "A. Garassino",
        "Miguel Felipe Duarte",
        "Dave Weil",
        "dax",
        "Matias Barriento",
        "Angel J. Lopez",
        "Tomas Zulberti",
        "Valeria Rocha",
        "Juan Carlos Abdala",
        "Johanna Caterina Faliero",
        "D. Nohales",
        "Carlos de la Torre",
        "Leonardo Morales",
        "Martín Miranda",
        "Aylen Bombelli",
        "Hernan Wilkinson",
        "Martin Riva",
        "Tati Al-Chueyr",
        "Daniel Espinoza",
        "Martin Ribelotta",
        "Lucio Delelis",
        "Diego Diez",
        "Ana Laura Almada",
        "Sofía Martin",
        "Juan Pablo Giménez",
        "Martin Elias Costa",
        "N. Demarchi",
        "Gustavo Garcia Craia",
        "Manuel de la Peña",
        "Javier Derderyan",
        "Valentín Spurchisi",
        "Sebastian Bassi",
        "Jose Morales",
        "Celia Cintas",
        "Pablo Cruz Casas",
        "Augusto Coto",
        "Carolina Maristany",
        "Sergio Schvezov",
        "Angel Freire",
        "Laureano Kloss",
        "Alexis Jawtuschenko",
        "L. Torre",
        "Juan Bagnera",
        "Diego Mascialino",
        "Mariano Guerra",
        "Damian Avila",
        "Cecilia Jarne",
        "Ignacio Heredia",
        "Erico Ándrei",
        "Ana Velez Rueda",
        "Maciej Fijalkowski",
        "Ana Almada",
        "Diego G. Cañizares",
        "David Garoz",
        "Alan Runyan",
        "Eduardo Casarero",
        "Juan E. D.",
        "Mariano Reingart",
        "Héctor Sanchez Gonzalo Odiard",
        "Javyer Der Derian",
        "Emanuel Sartor",
        "Franco Mariluis",
        "Alejandro Pereira",
        "Alejandro Garcia",
        "Erico Andrei",
        "Adriana Aiassa",
        "Pablo Alcain",
        "Robert M Lefkowitz",
        "Matias Lang",
        "Fernando Masanori",
        "Matias Bordese",
        "German Bourdin",
        "Alejandro Zamora Fonseca",
        "Angel Lopez",
        "Simon Willison",
        "M. Quiñones",
        "Mário Sérgio",
        "Francisco Capdevila",
        "Carlos Matías de la Torre",
        "Leandro Ucciferri",
        "Marcelo Fernández",
        "Matias Varela",
        "Ángel Medinilla",
        "Jim Fulton",
        "Mariela Osete",
        "Katherine Jenkins",
        "Nahuel Lascano",
        "Diego Ramirez",
        "Franco Nicolas Bellomo",
        "Andrés Snitcofsky",
        "Mariano Lambir",
        "Rodrigo Lugones",
        "Graciela Molina",
        "Ignacio Fiorentino",
        "Federico Gonzalez (FedeG)",
        "Jeannette Torrez",
        "Victoria Martinez de la Cruz",
        "Thiago Avelino",
        "Álvaro Justen",
        "Alexis Ferreyra",
        "Juan Bautista Cabral",
        "Yonatan Romero",
        "Javier Ayres",
        "Pablo Toledo Margalef"
       ],
       "y": {
        "dtype": "int32",
        "shape": [
         175
        ],
        "type": null
       }
      }
     },
     "12815dd6595844568c1659617d42e4c1": {
      "model_module": "@jupyter-widgets/controls",
      "model_module_version": "1.5.0",
      "model_name": "VBoxModel",
      "state": {
       "children": [
        "IPY_MODEL_9d921d3a7e7746fd8efbb6709eedb45b",
        "IPY_MODEL_9b6e4447a3d445e28873bbb128410d4a"
       ],
       "layout": "IPY_MODEL_1efe5701cbb1406ea3462cd559aced34"
      }
     },
     "12c151223eb04b1fa1f7506182540023": {
      "model_module": "bqplot",
      "model_module_version": "^0.5.18",
      "model_name": "LinearScaleModel",
      "state": {
       "_model_module_version": "^0.5.18",
       "_view_module_version": "^0.5.18",
       "allow_padding": false,
       "max": 1,
       "min": 0,
       "stabilized": false
      }
     },
     "130566a7d3cc41768d8bb5642ef1d485": {
      "model_module": "@jupyter-widgets/base",
      "model_module_version": "1.2.0",
      "model_name": "LayoutModel",
      "state": {}
     },
     "13a5378a75494eab8d0f5665ac1e3a76": {
      "model_module": "@jupyter-widgets/base",
      "model_module_version": "1.2.0",
      "model_name": "LayoutModel",
      "state": {}
     },
     "141febdc874048caa5d04a69f8cc026d": {
      "model_module": "bqplot",
      "model_module_version": "^0.5.18",
      "model_name": "AxisModel",
      "state": {
       "_model_module_version": "^0.5.18",
       "_view_module_version": "^0.5.18",
       "orientation": "vertical",
       "scale": "IPY_MODEL_d24ef0c5878e42c094ca66e7d9913a94",
       "side": "left",
       "tick_values": null
      }
     },
     "14363d72c7744addb54af542eb19ab92": {
      "buffers": [
       {
        "data": "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",
        "encoding": "base64",
        "path": [
         "x",
         "value"
        ]
       },
       {
        "data": "OAAAADQAAAAwAAAALgAAAB4AAAAcAAAAHAAAABwAAAAbAAAAGwAAABoAAAAYAAAAFwAAABMAAAARAAAADwAAAA4AAAANAAAADAAAAAwAAAAKAAAACgAAAAkAAAAJAAAACQAAAAgAAAAIAAAABwAAAAcAAAAGAAAABgAAAAUAAAAFAAAABQAAAAUAAAAFAAAABQAAAAUAAAAFAAAABQAAAAQAAAAEAAAABAAAAAQAAAAEAAAABAAAAAQAAAAEAAAABAAAAAQAAAAEAAAABAAAAAQAAAAEAAAABAAAAAQAAAAEAAAAAwAAAAMAAAADAAAAAwAAAAMAAAADAAAAAwAAAAMAAAADAAAAAwAAAAMAAAADAAAAAwAAAAMAAAADAAAAAwAAAAMAAAADAAAAAwAAAAMAAAADAAAAAwAAAAMAAAADAAAAAwAAAAMAAAADAAAAAwAAAAMAAAADAAAAAwAAAAMAAAADAAAAAwAAAAMAAAADAAAAAwAAAAIAAAACAAAAAgAAAAIAAAACAAAAAgAAAAIAAAACAAAAAgAAAAIAAAACAAAAAgAAAAIAAAACAAAAAgAAAAIAAAACAAAAAgAAAAIAAAACAAAAAgAAAAIAAAACAAAAAgAAAAIAAAACAAAAAgAAAAIAAAACAAAAAgAAAAIAAAACAAAAAgAAAAIAAAACAAAAAgAAAAIAAAACAAAAAgAAAAIAAAACAAAAAgAAAAIAAAACAAAAAgAAAAIAAAACAAAAAgAAAAIAAAACAAAAAgAAAAIAAAACAAAAAgAAAAIAAAACAAAAAgAAAAIAAAACAAAAAgAAAAIAAAACAAAAAgAAAAIAAAACAAAAAgAAAAIAAAACAAAAAgAAAAIAAAACAAAAAgAAAAIAAAACAAAAAgAAAAIAAAACAAAAAgAAAAIAAAACAAAAAQAAAAEAAAABAAAAAQAAAAEAAAABAAAAAQAAAAEAAAABAAAAAQAAAAEAAAABAAAAAQAAAAEAAAABAAAAAQAAAAEAAAABAAAAAQAAAAEAAAABAAAAAQAAAAEAAAABAAAAAQAAAAEAAAABAAAAAQAAAAEAAAABAAAAAQAAAAEAAAABAAAAAQAAAAEAAAABAAAAAQAAAAEAAAABAAAAAQAAAAEAAAABAAAAAQAAAAEAAAABAAAAAQAAAAEAAAABAAAAAQAAAAEAAAABAAAAAQAAAAEAAAABAAAAAQAAAAEAAAABAAAAAQAAAAEAAAABAAAAAQAAAAEAAAABAAAAAQAAAAEAAAABAAAAAQAAAAEAAAABAAAAAQAAAAEAAAABAAAAAQAAAAEAAAABAAAAAQAAAAEAAAABAAAAAQAAAAEAAAABAAAAAQAAAAEAAAABAAAAAQAAAAEAAAABAAAAAQAAAAEAAAABAAAAAQAAAAEAAAABAAAAAQAAAAEAAAABAAAAAQAAAAEAAAABAAAAAQAAAAEAAAABAAAAAQAAAAEAAAABAAAAAQAAAAEAAAABAAAAAQAAAAEAAAABAAAAAQAAAAEAAAABAAAAAQAAAAEAAAABAAAAAQAAAAEAAAABAAAAAQAAAAEAAAABAAAAAQAAAAEAAAABAAAAAQAAAAEAAAABAAAAAQAAAAEAAAABAAAAAQAAAAEAAAABAAAAAQAAAAEAAAABAAAAAQAAAAEAAAABAAAAAQAAAAEAAAABAAAAAQAAAAEAAAABAAAAAQAAAAEAAAABAAAAAQAAAAEAAAABAAAAAQAAAAEAAAABAAAAAQAAAAEAAAABAAAAAQAAAAEAAAABAAAAAQAAAAEAAAABAAAAAQAAAAEAAAABAAAAAQAAAAEAAAABAAAAAQAAAAEAAAABAAAAAQAAAAEAAAABAAAAAQAAAAEAAAABAAAAAQAAAAEAAAABAAAAAQAAAAEAAAABAAAAAQAAAAEAAAABAAAAAQAAAAEAAAABAAAAAQAAAAEAAAABAAAAAQAAAAEAAAABAAAAAQAAAAEAAAABAAAAAQAAAAEAAAABAAAAAQAAAAEAAAABAAAAAQAAAAEAAAABAAAAAQAAAAEAAAABAAAAAQAAAAEAAAABAAAAAQAAAAEAAAABAAAAAQAAAAEAAAABAAAAAQAAAAEAAAABAAAAAQAAAAEAAAABAAAAAQAAAAEAAAABAAAAAQAAAAEAAAABAAAAAQAAAAEAAAABAAAAAQAAAAEAAAABAAAAAQAAAAEAAAABAAAAAQAAAAEAAAABAAAAAQAAAAEAAAABAAAAAQAAAAEAAAABAAAAAQAAAAEAAAABAAAAAQAAAAEAAAABAAAAAQAAAAEAAAABAAAAAQAAAAEAAAABAAAAAQAAAAEAAAABAAAAAQAAAAEAAAABAAAAAQAAAAEAAAABAAAAAQAAAAEAAAABAAAAAQAAAAEAAAABAAAAAQAAAAEAAAABAAAAAQAAAAEAAAABAAAAAQAAAAEAAAABAAAAAQAAAAEAAAABAAAAAQAAAAEAAAABAAAAAQAAAAEAAAABAAAAAQAAAAEAAAABAAAAAQAAAAEAAAABAAAAAQAAAAEAAAABAAAAAQAAAAEAAAABAAAAAQAAAAEAAAABAAAAAQAAAAEAAAABAAAAAQAAAAEAAAABAAAAAQAAAAEAAAABAAAAAQAAAAEAAAABAAAAAQAAAAEAAAABAAAAAQAAAAEAAAABAAAAAQAAAAEAAAABAAAAAQAAAAEAAAABAAAAAQAAAAEAAAABAAAAAQAAAAEAAAABAAAAAQAAAAEAAAABAAAAAQAAAAEAAAABAAAAAQAAAAEAAAABAAAAAQAAAAEAAAABAAAAAQAAAAEAAAABAAAAAQAAAAEAAAABAAAAAQAAAAEAAAABAAAAAQAAAAEAAAABAAAAAQAAAAEAAAABAAAAAQAAAAEAAAABAAAAAQAAAAEAAAABAAAAAQAAAAEAAAABAAAAAQAAAAEAAAABAAAAAQAAAAEAAAABAAAAAQAAAAEAAAABAAAAAQAAAAEAAAABAAAAAQAAAAEAAAABAAAAAQAAAAEAAAABAAAAAQAAAAEAAAABAAAAAQAAAAEAAAABAAAAAQAAAAEAAAABAAAAAQAAAAEAAAABAAAAAQAAAAEAAAABAAAAAQAAAAEAAAABAAAAAQAAAAEAAAABAAAAAQAAAAEAAAABAAAAAQAAAAEAAAABAAAAAQAAAAEAAAABAAAAAQAAAAEAAAABAAAAAQAAAAEAAAABAAAAAQAAAAEAAAABAAAAAQAAAAEAAAABAAAAAQAAAAEAAAABAAAAAQAAAAEAAAABAAAAAQAAAAEAAAABAAAAAQAAAAEAAAABAAAAAQAAAAEAAAABAAAAAQAAAAEAAAABAAAAAQAAAAEAAAABAAAAAQAAAAEAAAABAAAAAQAAAAEAAAABAAAAAQAAAAEAAAABAAAAAQAAAAEAAAABAAAAAQAAAAEAAAABAAAAAQAAAAEAAAABAAAAAQAAAAEAAAABAAAAAQAAAAEAAAABAAAAAQAAAAEAAAABAAAAAQAAAAEAAAABAAAAAQAAAAEAAAABAAAAAQAAAAEAAAABAAAAAQAAAAEAAAABAAAAAQAAAAEAAAABAAAAAQAAAAEAAAABAAAAAQAAAAEAAAABAAAAAQAAAAEAAAABAAAAAQAAAAEAAAABAAAAAQAAAAEAAAABAAAAAQAAAAEAAAABAAAAAQAAAAEAAAABAAAAAQAAAAEAAAABAAAAAQAAAAEAAAABAAAAAQAAAAEAAAABAAAAAQAAAAEAAAABAAAAAQAAAAEAAAABAAAAAQAAAAEAAAABAAAAAQAAAAEAAAA=",
        "encoding": "base64",
        "path": [
         "y",
         "value"
        ]
       }
      ],
      "model_module": "bqplot",
      "model_module_version": "^0.5.18",
      "model_name": "ScatterModel",
      "state": {
       "_model_module_version": "^0.5.18",
       "_view_module_version": "^0.5.18",
       "colors": [
        "dodgerblue"
       ],
       "default_opacities": {
        "dtype": "float64",
        "shape": [
         1
        ],
        "type": null,
        "value": {}
       },
       "label_display_horizontal_offset": 0,
       "label_display_vertical_offset": 0,
       "names": [
        "de",
        "python",
        "",
        "con",
        "11",
        "lightning",
        "en",
        "talk",
        "2012",
        "a",
        "y",
        "la",
        "el",
        "para",
        "17",
        "18",
        "introduccion",
        "un",
        "django",
        "16",
        "no",
        "19",
        "aplicaciones",
        "al",
        "que",
        "las",
        "como",
        "charlas",
        "web",
        "24",
        "del",
        "haciendo",
        "keynote",
        "me",
        "to",
        "2",
        "datos",
        "una",
        "learning",
        "por",
        "machine",
        "3",
        "open",
        "usando",
        "aprendizaje",
        "relampago",
        "o",
        "lo",
        "juegos",
        "import",
        "00",
        "pilas",
        "c",
        "programacion",
        "argentina",
        "engine",
        "desarrollo",
        "sin",
        "arguments",
        "sistemas",
        "default",
        "libre",
        "proyectos",
        "procesamiento",
        "optimizando",
        "quilom",
        "entendiendo",
        "codigo",
        "todo",
        "otros",
        "arduino",
        "40",
        "10",
        "mutable",
        "pypy",
        "20",
        "2018",
        "analisis",
        "lenguaje",
        "software",
        "dia",
        "how",
        "poco",
        "48",
        "bindings",
        "tryton",
        "14",
        "rapidas",
        "heroku",
        "is",
        "with",
        "detalles",
        "desde",
        "framework",
        "google",
        "42",
        "platform",
        "mas",
        "keras",
        "web2py",
        "asterisk",
        "redes",
        "metodos",
        "it",
        "diversidad",
        "sus",
        "usar",
        "micropython",
        "cientifico",
        "sabado",
        "data",
        "jupyter",
        "comunidad",
        "tus",
        "javascript",
        "brazil",
        "camino",
        "06",
        "development",
        "minutos",
        "mejor",
        "twisted",
        "videojuegos",
        "asyncio",
        "and",
        "50",
        "rest",
        "desarrollar",
        "unicode",
        "humanos",
        "hacer",
        "pandas",
        "neuronales",
        "paso",
        "automatico",
        "plone",
        "notebook",
        "microframework",
        "28",
        "guia",
        "29",
        "services",
        "implementando",
        "ultima",
        "by",
        "morir",
        "building",
        "testing",
        "electromecanicos",
        "flask",
        "ser",
        "programando",
        "engineering",
        "digital",
        "1",
        "es",
        "conectando",
        "utilizando",
        "tu",
        "voip",
        "desarrollando",
        "pycon",
        "saber",
        "bots",
        "brasil",
        "amazon",
        "30",
        "apps",
        "los",
        "produccion",
        "source",
        "microservices",
        "app",
        "infinitos",
        "medio",
        "better",
        "compartiendo",
        "secuencias",
        "despliegue",
        "ponty",
        "perspective",
        "nacion",
        "otro",
        "cruz",
        "peirceana",
        "loads",
        "movil",
        "autopsias",
        "activation",
        "diagnostico",
        "attributeerror",
        "conocido",
        "aproximar",
        "sharing",
        "justicia",
        "deberia",
        "alto",
        "works",
        "7",
        "merleau",
        "little",
        "controlando",
        "55",
        "lidiando",
        "so",
        "silicio",
        "ast",
        "lean",
        "esperabas",
        "possible",
        "iterando",
        "solucion",
        "gov",
        "mil",
        "poniendonos",
        "pyopencl",
        "accesibilidad",
        "puede",
        "docs",
        "lados",
        "programar",
        "visualizacion",
        "perfiles",
        "mantener",
        "adaptando",
        "than",
        "queres",
        "multijugador",
        "tiempo",
        "aima",
        "are",
        "viernes",
        "3d",
        "nuestra",
        "git",
        "power",
        "scikit",
        "orm",
        "170",
        "version",
        "pajar",
        "react",
        "00027_720i_fast",
        "destruyendo",
        "conocer",
        "xxi",
        "servicio",
        "00022_720i_fast",
        "schapachnik",
        "inferencia",
        "escafandra",
        "geopandas",
        "what",
        "arte",
        "00030_720i_fast",
        "tour",
        "necesario",
        "pytonico",
        "00005_720i_fast",
        "primera",
        "todes",
        "objetos",
        "geneticos",
        "much",
        "importa",
        "nunca",
        "generacion",
        "from",
        "va",
        "practicas",
        "edu",
        "25",
        "toda",
        "experiencias",
        "meetup",
        "concurrencia",
        "gamificacion",
        "versatil",
        "estampidas",
        "voy",
        "london",
        "00038_720i_fast",
        "qutebrowser",
        "traerla",
        "moving",
        "pie",
        "robotica",
        "job",
        "async",
        "charlatanes",
        "diferenciales",
        "armemos",
        "start",
        "area",
        "telegram",
        "educativo",
        "ceder",
        "rehusarse",
        "tamano",
        "parser",
        "pregunta",
        "e",
        "instalado",
        "datawarehousing",
        "computacion",
        "medicina",
        "boton",
        "medinilla",
        "52",
        "sleeping",
        "maxima",
        "palo",
        "pythonica",
        "migrating",
        "build",
        "that",
        "alguien",
        "__init__",
        "00034_720i_fast",
        "gui2py",
        "nbconversion",
        "geek",
        "experimentos",
        "estandarizar",
        "yatel",
        "game",
        "debe",
        "trucos",
        "openid",
        "entorno",
        "transaccion",
        "raspberrypi",
        "cv",
        "inclusion",
        "proxies",
        "desafios",
        "gil",
        "modding",
        "sleepy",
        "pyjustice",
        "apertura",
        "scenes",
        "gevent",
        "deuda",
        "sugar",
        "cortaste",
        "blender",
        "sobreviviendo",
        "twitter",
        "recorriendo",
        "convivencia",
        "test",
        "inteligencia",
        "d",
        "instrumento",
        "malas",
        "dask",
        "sindrome",
        "panel",
        "reusar",
        "poliedrales",
        "games",
        "swag",
        "linux",
        "08",
        "paralelo",
        "please",
        "00002_720i_fast",
        "coccion",
        "mallas",
        "mining",
        "industriales",
        "derechos",
        "observabilidad",
        "46",
        "cualquier",
        "entre",
        "mi",
        "estilo",
        "layer",
        "controlar",
        "iteradores",
        "02",
        "inclusiva",
        "sueno",
        "enfoque",
        "rhodes",
        "memoria",
        "formatos",
        "torrent",
        "multiprocessing",
        "trabajo",
        "talks",
        "angel",
        "browser",
        "extendiendo",
        "refuerzo",
        "revoluciona",
        "pattern",
        "corren",
        "lineas",
        "programador",
        "peor",
        "aprendiendo",
        "cliente",
        "channels",
        "gtk",
        "always",
        "desempolvando",
        "attribute",
        "monitoreo",
        "t",
        "laboratorios",
        "derecho",
        "willing",
        "sho",
        "gui",
        "health",
        "rapido",
        "magicos",
        "openerp",
        "wx",
        "00001_720i_fast",
        "sorpresa",
        "buscando",
        "analiza",
        "aguja",
        "presentacion",
        "zmq",
        "haystack",
        "bot",
        "spark",
        "lambda",
        "kivy",
        "ponele",
        "0",
        "buenas",
        "adn",
        "oily",
        "semantica",
        "00032_720i_fast",
        "don",
        "ingenieria",
        "00031_720i_fast",
        "ciaa",
        "00029_720i_fast",
        "menos",
        "01",
        "machismo",
        "caching",
        "premios",
        "magico",
        "gnu",
        "visuales",
        "deferreds",
        "security",
        "ecuaciones",
        "things",
        "mvc",
        "has",
        "seres",
        "00006_720i_fast",
        "fortran",
        "martinez",
        "native",
        "exprimir",
        "siglo",
        "desempeno",
        "mundo",
        "support",
        "12",
        "brandon",
        "infraestrucura",
        "programadores",
        "manana",
        "object",
        "option",
        "massive",
        "your",
        "natural",
        "defendiendo",
        "provider",
        "trampa",
        "bytecode",
        "gente",
        "patterns",
        "programming",
        "s",
        "necesitas",
        "behind",
        "funcional",
        "spaces",
        "reverse",
        "obras",
        "00024_720i_fast",
        "video",
        "proceso",
        "comunicando",
        "desktop",
        "ideas",
        "fu",
        "cerrar",
        "uses",
        "tal",
        "debugger",
        "rol",
        "educacion",
        "grok",
        "egov",
        "when",
        "gauchito",
        "learn",
        "snake",
        "mongodb",
        "59",
        "segundos",
        "gis",
        "maybe",
        "35",
        "ponete",
        "escuela",
        "32",
        "mineria",
        "buildout",
        "00004_720i_fast",
        "multiprocesamiento",
        "nameko",
        "br",
        "unidades",
        "45",
        "feas",
        "seguridad",
        "toca",
        "pyqt",
        "connect",
        "snakes",
        "quick",
        "cadenas",
        "vinculando",
        "cuando",
        "56",
        "cifrado",
        "congreso",
        "rosario",
        "recurso",
        "under",
        "site",
        "procesos",
        "makes",
        "tarde",
        "the",
        "todos",
        "deconstrui",
        "mejores",
        "hordas",
        "00007_720i_fast",
        "informaticas",
        "serio",
        "era",
        "colaborar",
        "literacy",
        "interactivo",
        "introduction",
        "portar",
        "sistema",
        "science",
        "entrega",
        "90",
        "eventbrite",
        "perlas",
        "contributions",
        "be",
        "http",
        "2013",
        "pythonicidad",
        "dbus",
        "ipython",
        "texto",
        "api",
        "logica",
        "nodos",
        "obvia",
        "html5",
        "bulding",
        "up",
        "05",
        "herramientas",
        "psycoanalisis",
        "fabric",
        "00026_720i_fast",
        "vieja",
        "looz",
        "at",
        "cython",
        "destruir",
        "myhdl",
        "4",
        "should",
        "help",
        "ambiente",
        "futuro",
        "streaming",
        "issues",
        "eficientemente",
        "docker",
        "nation",
        "mediante",
        "momentos",
        "cierre",
        "infraestructrura",
        "cientificos",
        "viajes",
        "escritorio",
        "parciales",
        "segundo",
        "automatizando",
        "energy",
        "bloqueantes",
        "victoria",
        "36",
        "evento",
        "nuestros",
        "jugando",
        "telefonia",
        "procesando",
        "03",
        "forense",
        "07",
        "genero",
        "docopt",
        "00023_720i_fast",
        "not",
        "legal",
        "revolucion",
        "documentacion",
        "still",
        "hagamos",
        "opencl",
        "00009_720i_fast",
        "navegando",
        "blockchain",
        "partes",
        "reservoir",
        "00010_720i_fast",
        "erp",
        "vida",
        "powered",
        "maravillas",
        "00003_720i_fast",
        "tale",
        "00008_720i_fast",
        "gran",
        "suenos",
        "pybr12",
        "tenes",
        "design",
        "15",
        "wins",
        "geneticas",
        "poniendole",
        "ayuda",
        "spdy",
        "raspnier",
        "red",
        "call",
        "derivadas",
        "enfrentamos",
        "armar",
        "54",
        "deep",
        "00021_720i_fast",
        "00036_720i_fast",
        "ui",
        "postgresql",
        "pygtk",
        "00033_720i_fast",
        "tiene",
        "mal",
        "bioinformatica",
        "fenotipicos",
        "cross",
        "tecnica",
        "44",
        "laburo",
        "socioeconomicos",
        "propio",
        "ordenando",
        "title",
        "vim",
        "exploracion",
        "00020_720i_fast",
        "androide",
        "flatpak",
        "00028_720i_fast",
        "57",
        "tipos",
        "carol",
        "easy",
        "application",
        "of",
        "trust",
        "distro",
        "neverending",
        "fernando",
        "sobre",
        "empecemos",
        "kinect",
        "soluciones",
        "apis",
        "sale",
        "deploy",
        "paralela",
        "intento",
        "artificial",
        "durar",
        "00025_720i_fast"
       ],
       "scales": {
        "x": "IPY_MODEL_bcd19dabc20045d2b2238e7e601be58c",
        "y": "IPY_MODEL_bff3cccec1334202b05617a7cedf503c"
       },
       "scales_metadata": {
        "color": {
         "dimension": "color"
        },
        "opacity": {
         "dimension": "opacity"
        },
        "rotation": {
         "dimension": "rotation"
        },
        "size": {
         "dimension": "size"
        },
        "skew": {
         "dimension": "skew"
        },
        "x": {
         "dimension": "x",
         "orientation": "horizontal"
        },
        "y": {
         "dimension": "y",
         "orientation": "vertical"
        }
       },
       "stroke": "black",
       "tooltip": "IPY_MODEL_001c66c8846a40fdacf3ee5d5c9f614e",
       "unhovered_style": {
        "opacity": 0.5
       },
       "x": {
        "dtype": "int32",
        "shape": [
         716
        ],
        "type": null
       },
       "y": {
        "dtype": "int32",
        "shape": [
         716
        ],
        "type": null
       }
      }
     },
     "14e7be7643254b31b3ed58a8e1fdd91d": {
      "model_module": "bqplot",
      "model_module_version": "^0.5.18",
      "model_name": "LinearScaleModel",
      "state": {
       "_model_module_version": "^0.5.18",
       "_view_module_version": "^0.5.18",
       "stabilized": false
      }
     },
     "15c37e0a577d41d1800fb70f1889201b": {
      "model_module": "bqplot",
      "model_module_version": "^0.5.18",
      "model_name": "FigureModel",
      "state": {
       "_model_module_version": "^0.5.18",
       "_view_module_version": "^0.5.18",
       "axes": [
        "IPY_MODEL_93a56a6e22b742ad82bba7f89931b319",
        "IPY_MODEL_99ee95070d4f4bc29350d31dea7b2514"
       ],
       "layout": "IPY_MODEL_28d55135a5cf45d99cc464d9066de19c",
       "marks": [
        "IPY_MODEL_6ab91f2746d0450f98a5a1d963df039c"
       ],
       "scale_x": "IPY_MODEL_2501a503b6b847bd97630fc1bf09c8be",
       "scale_y": "IPY_MODEL_f54ea9d9d53840b2bbef7a06a42660f8"
      }
     },
     "1622501b3c3b4845a533a14690f0fc48": {
      "model_module": "bqplot",
      "model_module_version": "^0.5.18",
      "model_name": "LinearScaleModel",
      "state": {
       "_model_module_version": "^0.5.18",
       "_view_module_version": "^0.5.18",
       "allow_padding": false,
       "max": 1,
       "min": 0,
       "stabilized": false
      }
     },
     "16ab222b2a1643e897b0a3b7cd34e2d7": {
      "model_module": "bqplot",
      "model_module_version": "^0.5.18",
      "model_name": "ToolbarModel",
      "state": {
       "_model_module_version": "^0.5.18",
       "_view_module_version": "^0.5.18",
       "figure": "IPY_MODEL_61bb2be06b6649568d3198f3d5c55d81",
       "layout": "IPY_MODEL_656089ce1a3d4f2cba768c1f7df795e2"
      }
     },
     "16e1321823744663b492c60078686ab2": {
      "model_module": "bqplot",
      "model_module_version": "^0.5.18",
      "model_name": "AxisModel",
      "state": {
       "_model_module_version": "^0.5.18",
       "_view_module_version": "^0.5.18",
       "orientation": "vertical",
       "scale": "IPY_MODEL_7aac37f6a0d141b4b7034b0adc4243aa",
       "side": "left",
       "tick_values": null
      }
     },
     "171eee08ebe04f0bb066b9b931c568fc": {
      "model_module": "bqplot",
      "model_module_version": "^0.5.18",
      "model_name": "LinearScaleModel",
      "state": {
       "_model_module_version": "^0.5.18",
       "_view_module_version": "^0.5.18",
       "allow_padding": false,
       "max": 1,
       "min": 0,
       "stabilized": false
      }
     },
     "17204048f70c45c5a716f19caea81165": {
      "model_module": "bqplot",
      "model_module_version": "^0.5.18",
      "model_name": "LinearScaleModel",
      "state": {
       "_model_module_version": "^0.5.18",
       "_view_module_version": "^0.5.18",
       "allow_padding": false,
       "max": 1,
       "min": 0,
       "stabilized": false
      }
     },
     "172e703be4cf446297b566b53c7cf874": {
      "model_module": "@jupyter-widgets/controls",
      "model_module_version": "1.5.0",
      "model_name": "VBoxModel",
      "state": {
       "children": [
        "IPY_MODEL_ccbbec7cfe30474f8b30982588911eb4",
        "IPY_MODEL_8fd7a7215d294d5caff4c16ff80fe9fb"
       ],
       "layout": "IPY_MODEL_6fa0ea3bfebb4d2f8ce65d47a2c9987e"
      }
     },
     "175fd6bb2f4a4043803ebfd7ba39db94": {
      "model_module": "@jupyter-widgets/base",
      "model_module_version": "1.2.0",
      "model_name": "LayoutModel",
      "state": {}
     },
     "17721899fc35406d8abe9da8c72d9823": {
      "model_module": "bqplot",
      "model_module_version": "^0.5.18",
      "model_name": "LinearScaleModel",
      "state": {
       "_model_module_version": "^0.5.18",
       "_view_module_version": "^0.5.18",
       "allow_padding": false,
       "max": 1,
       "min": 0,
       "stabilized": false
      }
     },
     "17863313cd5e4989816f35b714580745": {
      "model_module": "bqplot",
      "model_module_version": "^0.5.18",
      "model_name": "AxisModel",
      "state": {
       "_model_module_version": "^0.5.18",
       "_view_module_version": "^0.5.18",
       "orientation": "vertical",
       "scale": "IPY_MODEL_8d275eb0d88840448f5e292939b0a1fb",
       "side": "left",
       "tick_values": null
      }
     },
     "191295e65d394833b694d8b650972efa": {
      "model_module": "bqplot",
      "model_module_version": "^0.5.18",
      "model_name": "LinearScaleModel",
      "state": {
       "_model_module_version": "^0.5.18",
       "_view_module_version": "^0.5.18",
       "allow_padding": false,
       "max": 1,
       "min": 0,
       "stabilized": false
      }
     },
     "19c01656835f4564b2506de8690721ce": {
      "model_module": "bqplot",
      "model_module_version": "^0.5.18",
      "model_name": "AxisModel",
      "state": {
       "_model_module_version": "^0.5.18",
       "_view_module_version": "^0.5.18",
       "scale": "IPY_MODEL_85a99cc84b0244778380ec1d9a3f966e",
       "side": "bottom",
       "tick_values": null
      }
     },
     "1a2f13c84da04d1e9e6ef43715c74f77": {
      "buffers": [
       {
        "data": "AAAAAAAAZUAAAAAAAAAUQAAAAAAAAPA/AAAAAAAAAAAAAAAAAAAAAAAAAAAAAAAAAAAAAAAAAAAAAAAAAAAAAAAAAAAAAAAAAAAAAAAA8D8=",
        "encoding": "base64",
        "path": [
         "count",
         "value"
        ]
       },
       {
        "data": "HwAAAAcAAAAFAAAABQAAAAUAAAAEAAAABAAAAAMAAAADAAAAAwAAAAMAAAADAAAAAwAAAAMAAAACAAAAAgAAAAIAAAACAAAAAgAAAAIAAAACAAAAAgAAAAIAAAACAAAAAgAAAAIAAAACAAAAAgAAAAIAAAACAAAAAgAAAAIAAAACAAAAAgAAAAIAAAACAAAAAgAAAAEAAAABAAAAAQAAAAEAAAABAAAAAQAAAAEAAAABAAAAAQAAAAEAAAABAAAAAQAAAAEAAAABAAAAAQAAAAEAAAABAAAAAQAAAAEAAAABAAAAAQAAAAEAAAABAAAAAQAAAAEAAAABAAAAAQAAAAEAAAABAAAAAQAAAAEAAAABAAAAAQAAAAEAAAABAAAAAQAAAAEAAAABAAAAAQAAAAEAAAABAAAAAQAAAAEAAAABAAAAAQAAAAEAAAABAAAAAQAAAAEAAAABAAAAAQAAAAEAAAABAAAAAQAAAAEAAAABAAAAAQAAAAEAAAABAAAAAQAAAAEAAAABAAAAAQAAAAEAAAABAAAAAQAAAAEAAAABAAAAAQAAAAEAAAABAAAAAQAAAAEAAAABAAAAAQAAAAEAAAABAAAAAQAAAAEAAAABAAAAAQAAAAEAAAABAAAAAQAAAAEAAAABAAAAAQAAAAEAAAABAAAAAQAAAAEAAAABAAAAAQAAAAEAAAABAAAAAQAAAAEAAAABAAAAAQAAAAEAAAABAAAAAQAAAAEAAAABAAAAAQAAAAEAAAABAAAAAQAAAAEAAAABAAAAAQAAAAEAAAABAAAAAQAAAAEAAAABAAAAAQAAAAEAAAABAAAAAQAAAAEAAAABAAAAAQAAAAEAAAABAAAAAQAAAAEAAAABAAAAAQAAAAEAAAABAAAAAQAAAAEAAAABAAAAAQAAAAEAAAABAAAAAQAAAA==",
        "encoding": "base64",
        "path": [
         "sample",
         "value"
        ]
       }
      ],
      "model_module": "bqplot",
      "model_module_version": "^0.5.18",
      "model_name": "HistModel",
      "state": {
       "_model_module_version": "^0.5.18",
       "_view_module_version": "^0.5.18",
       "count": {
        "dtype": "float64",
        "shape": [
         10
        ],
        "type": null
       },
       "midpoints": [
        2.5,
        5.5,
        8.5,
        11.5,
        14.5,
        17.5,
        20.5,
        23.5,
        26.5
       ],
       "sample": {
        "dtype": "int32",
        "shape": [
         175
        ],
        "type": null
       },
       "scales": {
        "count": "IPY_MODEL_09aed5cce6eb4743b29a365f67f4ee19",
        "sample": "IPY_MODEL_68e9830de15042bd87bc33c8ffa129fd"
       }
      }
     },
     "1aed2ee710e34d6e9c80dede19414c30": {
      "model_module": "@jupyter-widgets/controls",
      "model_module_version": "1.5.0",
      "model_name": "VBoxModel",
      "state": {
       "children": [
        "IPY_MODEL_dfb3c8a116904187911c1cf917bcf276",
        "IPY_MODEL_5a7b789f6a32412a84791a40ae0b478d"
       ],
       "layout": "IPY_MODEL_8ad518af4eda4b60b59d429ef0d89254"
      }
     },
     "1b67bf6b90704e5fa52ee041f3a0d9fa": {
      "model_module": "@jupyter-widgets/controls",
      "model_module_version": "1.5.0",
      "model_name": "VBoxModel",
      "state": {
       "children": [
        "IPY_MODEL_d2be6a6cc6cf4589b673bf9ce6cb7e3d",
        "IPY_MODEL_2839c29d706a446082158bce3bd43856"
       ],
       "layout": "IPY_MODEL_71318c0a9c374b60976e0f57f8f07ce8"
      }
     },
     "1b81e8d7747f4ade8732069e28ac2b79": {
      "buffers": [
       {
        "data": "AAAAAAEAAAACAAAAAwAAAAQAAAAFAAAABgAAAAcAAAAIAAAACQAAAAoAAAALAAAADAAAAA0AAAAOAAAADwAAABAAAAARAAAAEgAAABMAAAAUAAAAFQAAABYAAAAXAAAAGAAAABkAAAAaAAAAGwAAABwAAAAdAAAAHgAAAB8AAAAgAAAAIQAAACIAAAAjAAAAJAAAACUAAAAmAAAAJwAAACgAAAApAAAAKgAAACsAAAAsAAAALQAAAC4AAAAvAAAAMAAAADEAAAAyAAAAMwAAADQAAAA1AAAANgAAADcAAAA4AAAAOQAAADoAAAA7AAAAPAAAAD0AAAA+AAAAPwAAAEAAAABBAAAAQgAAAEMAAABEAAAARQAAAEYAAABHAAAASAAAAEkAAABKAAAASwAAAEwAAABNAAAATgAAAE8AAABQAAAAUQAAAFIAAABTAAAAVAAAAFUAAABWAAAAVwAAAFgAAABZAAAAWgAAAFsAAABcAAAAXQAAAF4AAABfAAAAYAAAAGEAAABiAAAAYwAAAGQAAABlAAAAZgAAAGcAAABoAAAAaQAAAGoAAABrAAAAbAAAAG0AAABuAAAAbwAAAHAAAABxAAAAcgAAAHMAAAB0AAAAdQAAAHYAAAB3AAAAeAAAAHkAAAB6AAAAewAAAHwAAAB9AAAAfgAAAH8AAACAAAAAgQAAAIIAAACDAAAAhAAAAIUAAACGAAAAhwAAAIgAAACJAAAAigAAAIsAAACMAAAAjQAAAI4AAACPAAAAkAAAAJEAAACSAAAAkwAAAJQAAACVAAAAlgAAAJcAAACYAAAAmQAAAJoAAACbAAAAnAAAAJ0AAACeAAAAnwAAAKAAAAChAAAAogAAAKMAAACkAAAApQAAAKYAAACnAAAAqAAAAKkAAACqAAAAqwAAAKwAAACtAAAArgAAAK8AAACwAAAAsQAAALIAAACzAAAAtAAAALUAAAC2AAAAtwAAALgAAAC5AAAAugAAALsAAAC8AAAAvQAAAL4AAAC/AAAAwAAAAMEAAADCAAAAwwAAAMQAAADFAAAAxgAAAMcAAADIAAAAyQAAAMoAAADLAAAAzAAAAM0AAADOAAAAzwAAANAAAADRAAAA0gAAANMAAADUAAAA1QAAANYAAADXAAAA2AAAANkAAADaAAAA2wAAANwAAADdAAAA3gAAAN8AAADgAAAA4QAAAOIAAADjAAAA5AAAAOUAAADmAAAA5wAAAOgAAADpAAAA6gAAAOsAAADsAAAA",
        "encoding": "base64",
        "path": [
         "x",
         "value"
        ]
       },
       {
        "data": "AAAAAAAAAAAAAAAAAAAAAAEAAAABAAAAAQAAAAEAAAABAAAAAQAAAAEAAAABAAAAAQAAAAEAAAABAAAAAQAAAAEAAAABAAAAAQAAAAEAAAABAAAAAQAAAAEAAAABAAAAAQAAAAEAAAABAAAAAQAAAAEAAAABAAAAAQAAAAEAAAABAAAAAQAAAAEAAAABAAAAAQAAAAEAAAABAAAAAQAAAAEAAAABAAAAAQAAAAEAAAABAAAAAQAAAAEAAAABAAAAAQAAAAEAAAABAAAAAQAAAAEAAAABAAAAAQAAAAEAAAABAAAAAQAAAAEAAAABAAAAAQAAAAEAAAABAAAAAQAAAAEAAAABAAAAAQAAAAEAAAABAAAAAQAAAAEAAAABAAAAAQAAAAEAAAABAAAAAQAAAAEAAAABAAAAAQAAAAEAAAABAAAAAQAAAAEAAAABAAAAAQAAAAEAAAABAAAAAQAAAAEAAAABAAAAAQAAAAEAAAABAAAAAQAAAAEAAAABAAAAAQAAAAEAAAABAAAAAQAAAAEAAAABAAAAAQAAAAEAAAABAAAAAQAAAAEAAAABAAAAAQAAAAEAAAABAAAAAQAAAAEAAAABAAAAAQAAAAEAAAABAAAAAQAAAAEAAAABAAAAAQAAAAEAAAABAAAAAQAAAAEAAAABAAAAAQAAAAEAAAABAAAAAQAAAAEAAAABAAAAAQAAAAEAAAABAAAAAQAAAAEAAAABAAAAAQAAAAEAAAABAAAAAQAAAAEAAAABAAAAAQAAAAEAAAABAAAAAQAAAAEAAAABAAAAAQAAAAEAAAABAAAAAQAAAAEAAAABAAAAAQAAAAEAAAABAAAAAQAAAAEAAAABAAAAAQAAAAEAAAABAAAAAQAAAAEAAAABAAAAAQAAAAEAAAABAAAAAQAAAAEAAAABAAAAAQAAAAEAAAABAAAAAQAAAAEAAAABAAAAAQAAAAEAAAABAAAAAQAAAAEAAAABAAAAAQAAAAEAAAABAAAAAQAAAAEAAAABAAAAAQAAAAEAAAABAAAAAQAAAAEAAAABAAAAAQAAAAEAAAABAAAAAQAAAAEAAAABAAAAAQAAAAEAAAABAAAAAQAAAAEAAAABAAAAAgAAAAIAAAACAAAAAgAAAAIAAAACAAAAAgAAAAIAAAACAAAAAgAAAAIAAAACAAAAAgAAAAIAAAACAAAAAgAAAAIAAAACAAAAAgAAAAIAAAACAAAAAgAAAAIAAAACAAAAAwAAAAQAAAAFAAAA",
        "encoding": "base64",
        "path": [
         "y",
         "value"
        ]
       }
      ],
      "model_module": "bqplot",
      "model_module_version": "^0.5.18",
      "model_name": "LinesModel",
      "state": {
       "_model_module_version": "^0.5.18",
       "_view_module_version": "^0.5.18",
       "fill_colors": [],
       "labels": [
        "C1"
       ],
       "scales": {
        "x": "IPY_MODEL_2a944ac647684872bc7fa22c4687c44d",
        "y": "IPY_MODEL_2f15896a9e124b9fb214f31f94c3fe97"
       },
       "x": {
        "dtype": "int32",
        "shape": [
         237
        ],
        "type": null
       },
       "y": {
        "dtype": "int32",
        "shape": [
         237
        ],
        "type": null
       }
      }
     },
     "1d2ade07596a40c4ae7458210a617e87": {
      "model_module": "bqplot",
      "model_module_version": "^0.5.18",
      "model_name": "ToolbarModel",
      "state": {
       "_model_module_version": "^0.5.18",
       "_view_module_version": "^0.5.18",
       "figure": "IPY_MODEL_8694d4e77b8f4a62b79d02cb83859fc9",
       "layout": "IPY_MODEL_83ab6a3d0d004835a22295f49d0f4e97"
      }
     },
     "1d70a07d7fe04db9976350d5b8bc5df8": {
      "model_module": "bqplot",
      "model_module_version": "^0.5.18",
      "model_name": "ToolbarModel",
      "state": {
       "_model_module_version": "^0.5.18",
       "_view_module_version": "^0.5.18",
       "figure": "IPY_MODEL_ddfdbcd474ad490695c6dac4c3758977",
       "layout": "IPY_MODEL_c45d587b9d5c48789351bd41f8386b03"
      }
     },
     "1d940b78554a4735b6528573426b58bd": {
      "model_module": "bqplot",
      "model_module_version": "^0.5.18",
      "model_name": "FigureModel",
      "state": {
       "_model_module_version": "^0.5.18",
       "_view_module_version": "^0.5.18",
       "layout": "IPY_MODEL_9dae4c5b9ea6471b9d262a04f495d635",
       "scale_x": "IPY_MODEL_fe334c49a5db4c06857115d900334953",
       "scale_y": "IPY_MODEL_d6a59c34cad34940a8d7eb1015125f71"
      }
     },
     "1e69ff7724d848c796fc70640806acb6": {
      "model_module": "@jupyter-widgets/base",
      "model_module_version": "1.2.0",
      "model_name": "LayoutModel",
      "state": {}
     },
     "1e7935b688514bb29ece197063fca3c1": {
      "model_module": "bqplot",
      "model_module_version": "^0.5.18",
      "model_name": "ToolbarModel",
      "state": {
       "_model_module_version": "^0.5.18",
       "_view_module_version": "^0.5.18",
       "figure": "IPY_MODEL_6951721f3657455a897ca246360aebf2",
       "layout": "IPY_MODEL_74c623bb620e4e5ca06eef9148021d6d"
      }
     },
     "1efe5701cbb1406ea3462cd559aced34": {
      "model_module": "@jupyter-widgets/base",
      "model_module_version": "1.2.0",
      "model_name": "LayoutModel",
      "state": {}
     },
     "1f5c21cad4174148a5616bb3c8378ff4": {
      "model_module": "@jupyter-widgets/controls",
      "model_module_version": "1.5.0",
      "model_name": "VBoxModel",
      "state": {
       "children": [
        "IPY_MODEL_4003fba24cb74d96bb0bed4dfaa36454",
        "IPY_MODEL_bb9f4aa868aa4bec99848c3ce9145e24"
       ],
       "layout": "IPY_MODEL_689e981cebe64abf97c6fbf71d670b46"
      }
     },
     "1f72ac4645c043beb1ed10842b63162b": {
      "model_module": "@jupyter-widgets/base",
      "model_module_version": "1.2.0",
      "model_name": "LayoutModel",
      "state": {}
     },
     "1fc1ea6d55c944deb8c1932c083c9e67": {
      "model_module": "bqplot",
      "model_module_version": "^0.5.18",
      "model_name": "LinearScaleModel",
      "state": {
       "_model_module_version": "^0.5.18",
       "_view_module_version": "^0.5.18",
       "allow_padding": false,
       "max": 1,
       "min": 0,
       "stabilized": false
      }
     },
     "203149118bbe4d8ea79d3305358065c7": {
      "model_module": "@jupyter-widgets/base",
      "model_module_version": "1.2.0",
      "model_name": "LayoutModel",
      "state": {}
     },
     "20987ee7cc0f401f951fcd438edc37dc": {
      "model_module": "bqplot",
      "model_module_version": "^0.5.18",
      "model_name": "LinearScaleModel",
      "state": {
       "_model_module_version": "^0.5.18",
       "_view_module_version": "^0.5.18",
       "allow_padding": false,
       "max": 1,
       "min": 0,
       "stabilized": false
      }
     },
     "20a49efb4dcb43f1a92e9b15dd77d413": {
      "model_module": "bqplot",
      "model_module_version": "^0.5.18",
      "model_name": "ToolbarModel",
      "state": {
       "_model_module_version": "^0.5.18",
       "_view_module_version": "^0.5.18",
       "figure": "IPY_MODEL_973c6750bbed4bdbbba32bc2acf0bf2f",
       "layout": "IPY_MODEL_94640aebe48543898508628047ceb36b"
      }
     },
     "223ac963b14649598dd6eb1f5c88995d": {
      "model_module": "bqplot",
      "model_module_version": "^0.5.18",
      "model_name": "LinearScaleModel",
      "state": {
       "_model_module_version": "^0.5.18",
       "_view_module_version": "^0.5.18",
       "allow_padding": false,
       "max": 1,
       "min": 0,
       "stabilized": false
      }
     },
     "22f76f4a9af549fe80b9cd1e26125f93": {
      "model_module": "bqplot",
      "model_module_version": "^0.5.18",
      "model_name": "FigureModel",
      "state": {
       "_model_module_version": "^0.5.18",
       "_view_module_version": "^0.5.18",
       "layout": "IPY_MODEL_9881848cb7db40369cf9ef74c1e640b2",
       "scale_x": "IPY_MODEL_fb4b1f97bbf9415c88afdc767d81789e",
       "scale_y": "IPY_MODEL_c665904bb65a44f98a67fdb9e7a058a6"
      }
     },
     "2300d64edf3245b59c0dd2941c38d93d": {
      "model_module": "bqplot",
      "model_module_version": "^0.5.18",
      "model_name": "AxisModel",
      "state": {
       "_model_module_version": "^0.5.18",
       "_view_module_version": "^0.5.18",
       "scale": "IPY_MODEL_04be6c932b81417bb0f6e2819bb44ba1",
       "side": "bottom",
       "tick_values": null
      }
     },
     "231c3bcfcaff4bce9bc159ac94091ded": {
      "model_module": "bqplot",
      "model_module_version": "^0.5.18",
      "model_name": "TooltipModel",
      "state": {
       "_model_module_version": "^0.5.18",
       "_view_module_version": "^0.5.18",
       "fields": [
        "x",
        "y",
        "palabra"
       ],
       "formats": [
        "",
        ".2f",
        ""
       ],
       "layout": "IPY_MODEL_7ca9900467d14cf9964e8e226e3e88ea"
      }
     },
     "236d7c2a58da4d338b3bcb29e96bbf8b": {
      "buffers": [
       {
        "data": "AAAAAAEAAAACAAAAAwAAAAQAAAAFAAAABgAAAAcAAAAIAAAACQAAAAoAAAALAAAADAAAAA==",
        "encoding": "base64",
        "path": [
         "x",
         "value"
        ]
       },
       {
        "data": "PAAAACoAAAAkAAAAIAAAABwAAAAaAAAABgAAAAIAAAABAAAAAQAAAAEAAAABAAAAAQAAAA==",
        "encoding": "base64",
        "path": [
         "y",
         "value"
        ]
       }
      ],
      "model_module": "bqplot",
      "model_module_version": "^0.5.18",
      "model_name": "LinesModel",
      "state": {
       "_model_module_version": "^0.5.18",
       "_view_module_version": "^0.5.18",
       "fill_colors": [],
       "labels": [
        "C1"
       ],
       "scales": {
        "x": "IPY_MODEL_e1304e8c8037415386c77589bd41f1ec",
        "y": "IPY_MODEL_40b5edd184f34cb58d2b5c5a84778781"
       },
       "x": {
        "dtype": "int32",
        "shape": [
         13
        ],
        "type": null
       },
       "y": {
        "dtype": "int32",
        "shape": [
         13
        ],
        "type": null
       }
      }
     },
     "23e39d0b88954f57aa175a71c1665291": {
      "model_module": "bqplot",
      "model_module_version": "^0.5.18",
      "model_name": "AxisModel",
      "state": {
       "_model_module_version": "^0.5.18",
       "_view_module_version": "^0.5.18",
       "orientation": "vertical",
       "scale": "IPY_MODEL_b70c5d03388b4951b2251f431fff8cf7",
       "side": "left",
       "tick_values": null
      }
     },
     "248f09231fb24b6fab3a677ed34a605c": {
      "buffers": [
       {
        "data": "AAAAAAAAZUAAAAAAAAAUQAAAAAAAAPA/AAAAAAAAAAAAAAAAAAAAAAAAAAAAAAAAAAAAAAAAAAAAAAAAAAAAAAAAAAAAAAAAAAAAAAAA8D8=",
        "encoding": "base64",
        "path": [
         "count",
         "value"
        ]
       },
       {
        "data": "HwAAAAcAAAAFAAAABQAAAAUAAAAEAAAABAAAAAMAAAADAAAAAwAAAAMAAAADAAAAAwAAAAMAAAACAAAAAgAAAAIAAAACAAAAAgAAAAIAAAACAAAAAgAAAAIAAAACAAAAAgAAAAIAAAACAAAAAgAAAAIAAAACAAAAAgAAAAIAAAACAAAAAgAAAAIAAAACAAAAAgAAAAEAAAABAAAAAQAAAAEAAAABAAAAAQAAAAEAAAABAAAAAQAAAAEAAAABAAAAAQAAAAEAAAABAAAAAQAAAAEAAAABAAAAAQAAAAEAAAABAAAAAQAAAAEAAAABAAAAAQAAAAEAAAABAAAAAQAAAAEAAAABAAAAAQAAAAEAAAABAAAAAQAAAAEAAAABAAAAAQAAAAEAAAABAAAAAQAAAAEAAAABAAAAAQAAAAEAAAABAAAAAQAAAAEAAAABAAAAAQAAAAEAAAABAAAAAQAAAAEAAAABAAAAAQAAAAEAAAABAAAAAQAAAAEAAAABAAAAAQAAAAEAAAABAAAAAQAAAAEAAAABAAAAAQAAAAEAAAABAAAAAQAAAAEAAAABAAAAAQAAAAEAAAABAAAAAQAAAAEAAAABAAAAAQAAAAEAAAABAAAAAQAAAAEAAAABAAAAAQAAAAEAAAABAAAAAQAAAAEAAAABAAAAAQAAAAEAAAABAAAAAQAAAAEAAAABAAAAAQAAAAEAAAABAAAAAQAAAAEAAAABAAAAAQAAAAEAAAABAAAAAQAAAAEAAAABAAAAAQAAAAEAAAABAAAAAQAAAAEAAAABAAAAAQAAAAEAAAABAAAAAQAAAAEAAAABAAAAAQAAAAEAAAABAAAAAQAAAAEAAAABAAAAAQAAAAEAAAABAAAAAQAAAAEAAAABAAAAAQAAAAEAAAABAAAAAQAAAAEAAAABAAAAAQAAAA==",
        "encoding": "base64",
        "path": [
         "sample",
         "value"
        ]
       }
      ],
      "model_module": "bqplot",
      "model_module_version": "^0.5.18",
      "model_name": "HistModel",
      "state": {
       "_model_module_version": "^0.5.18",
       "_view_module_version": "^0.5.18",
       "count": {
        "dtype": "float64",
        "shape": [
         10
        ],
        "type": null
       },
       "midpoints": [
        2.5,
        5.5,
        8.5,
        11.5,
        14.5,
        17.5,
        20.5,
        23.5,
        26.5
       ],
       "sample": {
        "dtype": "int32",
        "shape": [
         175
        ],
        "type": null
       },
       "scales": {
        "count": "IPY_MODEL_06fc3e340b064fd6a864587e0cf0dd44",
        "sample": "IPY_MODEL_04be6c932b81417bb0f6e2819bb44ba1"
       }
      }
     },
     "2501a503b6b847bd97630fc1bf09c8be": {
      "model_module": "bqplot",
      "model_module_version": "^0.5.18",
      "model_name": "LinearScaleModel",
      "state": {
       "_model_module_version": "^0.5.18",
       "_view_module_version": "^0.5.18",
       "allow_padding": false,
       "max": 1,
       "min": 0,
       "stabilized": false
      }
     },
     "252ae3e79b194e95bfe2177031613d13": {
      "model_module": "bqplot",
      "model_module_version": "^0.5.18",
      "model_name": "LinearScaleModel",
      "state": {
       "_model_module_version": "^0.5.18",
       "_view_module_version": "^0.5.18",
       "stabilized": false
      }
     },
     "26400c547fcd4418bcc8e34ecf9b902b": {
      "model_module": "@jupyter-widgets/base",
      "model_module_version": "1.2.0",
      "model_name": "LayoutModel",
      "state": {}
     },
     "2641f7e7a5e84d03a53075d96dfe0008": {
      "model_module": "bqplot",
      "model_module_version": "^0.5.18",
      "model_name": "LinearScaleModel",
      "state": {
       "_model_module_version": "^0.5.18",
       "_view_module_version": "^0.5.18",
       "stabilized": false
      }
     },
     "272ccdce010242e39a25de832f9f6ae6": {
      "model_module": "bqplot",
      "model_module_version": "^0.5.18",
      "model_name": "FigureModel",
      "state": {
       "_model_module_version": "^0.5.18",
       "_view_module_version": "^0.5.18",
       "layout": "IPY_MODEL_a9e7e614214244e59fe1f22a004df479",
       "scale_x": "IPY_MODEL_da19d1901f7e4666b039282212e87d2f",
       "scale_y": "IPY_MODEL_8a6eeffaf6674a289e446847f4efe708"
      }
     },
     "2753f3419ebb4539801537ca1ec44fa5": {
      "model_module": "@jupyter-widgets/base",
      "model_module_version": "1.2.0",
      "model_name": "LayoutModel",
      "state": {}
     },
     "276a87ab2f1b48d1a6f4ff06cdf58350": {
      "model_module": "@jupyter-widgets/base",
      "model_module_version": "1.2.0",
      "model_name": "LayoutModel",
      "state": {}
     },
     "278d7232300a4281a89a20529a97c346": {
      "model_module": "bqplot",
      "model_module_version": "^0.5.18",
      "model_name": "AxisModel",
      "state": {
       "_model_module_version": "^0.5.18",
       "_view_module_version": "^0.5.18",
       "scale": "IPY_MODEL_2a944ac647684872bc7fa22c4687c44d",
       "side": "bottom",
       "tick_values": null
      }
     },
     "2839c29d706a446082158bce3bd43856": {
      "model_module": "bqplot",
      "model_module_version": "^0.5.18",
      "model_name": "ToolbarModel",
      "state": {
       "_model_module_version": "^0.5.18",
       "_view_module_version": "^0.5.18",
       "figure": "IPY_MODEL_d2be6a6cc6cf4589b673bf9ce6cb7e3d",
       "layout": "IPY_MODEL_bea17fc84219400ca31eef7dd9964d52"
      }
     },
     "285ec1d16aa54f7cb79b9da9c42aae81": {
      "model_module": "bqplot",
      "model_module_version": "^0.5.18",
      "model_name": "LinearScaleModel",
      "state": {
       "_model_module_version": "^0.5.18",
       "_view_module_version": "^0.5.18",
       "stabilized": false
      }
     },
     "28d500614bf44ff58b7867518ee73409": {
      "model_module": "bqplot",
      "model_module_version": "^0.5.18",
      "model_name": "AxisModel",
      "state": {
       "_model_module_version": "^0.5.18",
       "_view_module_version": "^0.5.18",
       "orientation": "vertical",
       "scale": "IPY_MODEL_6a7cd01bd9e64020b19faeaee7c56264",
       "side": "left",
       "tick_values": null
      }
     },
     "28d55135a5cf45d99cc464d9066de19c": {
      "model_module": "@jupyter-widgets/base",
      "model_module_version": "1.2.0",
      "model_name": "LayoutModel",
      "state": {}
     },
     "28e43afe41a248aea319bcda695e368f": {
      "model_module": "bqplot",
      "model_module_version": "^0.5.18",
      "model_name": "FigureModel",
      "state": {
       "_model_module_version": "^0.5.18",
       "_view_module_version": "^0.5.18",
       "axes": [
        "IPY_MODEL_5c11f99877da4d2889b517faf4432a68",
        "IPY_MODEL_2a1a4d682a7d42339f0f01bcede56d8b"
       ],
       "layout": "IPY_MODEL_91ef7837efcb4720819ef2c93f32a9c9",
       "marks": [
        "IPY_MODEL_f2f950f505b44f20b13b7cc64b20629d"
       ],
       "scale_x": "IPY_MODEL_12c151223eb04b1fa1f7506182540023",
       "scale_y": "IPY_MODEL_2b894d4ee5aa4def8f95f47d6691e216"
      }
     },
     "29090e92a4464cf98fa5a678a1b85cba": {
      "model_module": "@jupyter-widgets/controls",
      "model_module_version": "1.5.0",
      "model_name": "VBoxModel",
      "state": {
       "children": [
        "IPY_MODEL_6951721f3657455a897ca246360aebf2",
        "IPY_MODEL_1e7935b688514bb29ece197063fca3c1"
       ],
       "layout": "IPY_MODEL_9c7171bf97684df5b5518b4639f228d8"
      }
     },
     "292fd88a95874eb1910890308dd7fb79": {
      "model_module": "bqplot",
      "model_module_version": "^0.5.18",
      "model_name": "AxisModel",
      "state": {
       "_model_module_version": "^0.5.18",
       "_view_module_version": "^0.5.18",
       "scale": "IPY_MODEL_5378aa3b9ab64f0580bc7d6ee81a7c86",
       "side": "bottom",
       "tick_values": null
      }
     },
     "299d49eb83ba49f995f8b20e31fe59eb": {
      "model_module": "@jupyter-widgets/base",
      "model_module_version": "1.2.0",
      "model_name": "LayoutModel",
      "state": {}
     },
     "29d5dc347dca44f3999cfdae53f37945": {
      "buffers": [
       {
        "data": "AAAAAAEAAAACAAAAAwAAAAQAAAAFAAAABgAAAAcAAAAIAAAACQAAAAoAAAALAAAADAAAAA==",
        "encoding": "base64",
        "path": [
         "x",
         "value"
        ]
       },
       {
        "data": "PAAAACoAAAAkAAAAIAAAABwAAAAaAAAABgAAAAIAAAABAAAAAQAAAAEAAAABAAAAAQAAAA==",
        "encoding": "base64",
        "path": [
         "y",
         "value"
        ]
       }
      ],
      "model_module": "bqplot",
      "model_module_version": "^0.5.18",
      "model_name": "LinesModel",
      "state": {
       "_model_module_version": "^0.5.18",
       "_view_module_version": "^0.5.18",
       "fill_colors": [],
       "labels": [
        "C1"
       ],
       "scales": {
        "x": "IPY_MODEL_58a0f52327194445b44632f1bdb734e1",
        "y": "IPY_MODEL_14e7be7643254b31b3ed58a8e1fdd91d"
       },
       "x": {
        "dtype": "int32",
        "shape": [
         13
        ],
        "type": null
       },
       "y": {
        "dtype": "int32",
        "shape": [
         13
        ],
        "type": null
       }
      }
     },
     "2a1a4d682a7d42339f0f01bcede56d8b": {
      "model_module": "bqplot",
      "model_module_version": "^0.5.18",
      "model_name": "AxisModel",
      "state": {
       "_model_module_version": "^0.5.18",
       "_view_module_version": "^0.5.18",
       "orientation": "vertical",
       "scale": "IPY_MODEL_2f8f6c2abca644cfa8770be19e2e799c",
       "side": "left",
       "tick_values": null
      }
     },
     "2a1d8bf6154a463aabf9f0e1a16ce5ca": {
      "model_module": "bqplot",
      "model_module_version": "^0.5.18",
      "model_name": "FigureModel",
      "state": {
       "_model_module_version": "^0.5.18",
       "_view_module_version": "^0.5.18",
       "axes": [
        "IPY_MODEL_ff549ea6002340cdaba305091ba71231",
        "IPY_MODEL_141febdc874048caa5d04a69f8cc026d"
       ],
       "layout": "IPY_MODEL_b5adb7d76b2640559f21ad4b8d37ad40",
       "marks": [
        "IPY_MODEL_5165dc1f2d9f4e02a366ef561e630346"
       ],
       "scale_x": "IPY_MODEL_8bcf3db5f2994e9cbc4f07cd31900c75",
       "scale_y": "IPY_MODEL_0d35b3d425c4483fa4f4692b4bb7a170"
      }
     },
     "2a3d398672524caa9412b4d1b93b7921": {
      "model_module": "bqplot",
      "model_module_version": "^0.5.18",
      "model_name": "AxisModel",
      "state": {
       "_model_module_version": "^0.5.18",
       "_view_module_version": "^0.5.18",
       "orientation": "vertical",
       "scale": "IPY_MODEL_500cb05e3f464fdbb21893c51bea1d62",
       "side": "left",
       "tick_values": null
      }
     },
     "2a41dde1d3f944a5a467ba25c0da6942": {
      "model_module": "bqplot",
      "model_module_version": "^0.5.18",
      "model_name": "ToolbarModel",
      "state": {
       "_model_module_version": "^0.5.18",
       "_view_module_version": "^0.5.18",
       "figure": "IPY_MODEL_6fa7e645415146548853750ce24b4034",
       "layout": "IPY_MODEL_6b8579de47004caaa9da87c79e1be9e6"
      }
     },
     "2a944ac647684872bc7fa22c4687c44d": {
      "model_module": "bqplot",
      "model_module_version": "^0.5.18",
      "model_name": "LinearScaleModel",
      "state": {
       "_model_module_version": "^0.5.18",
       "_view_module_version": "^0.5.18",
       "stabilized": false
      }
     },
     "2b894d4ee5aa4def8f95f47d6691e216": {
      "model_module": "bqplot",
      "model_module_version": "^0.5.18",
      "model_name": "LinearScaleModel",
      "state": {
       "_model_module_version": "^0.5.18",
       "_view_module_version": "^0.5.18",
       "allow_padding": false,
       "max": 1,
       "min": 0,
       "stabilized": false
      }
     },
     "2bcf0ffa5e314e5ba37b82777d1b1eba": {
      "model_module": "bqplot",
      "model_module_version": "^0.5.18",
      "model_name": "OrdinalScaleModel",
      "state": {
       "_model_module_version": "^0.5.18",
       "_view_module_version": "^0.5.18"
      }
     },
     "2d8288b2b9924a77b12687843d0b9fdc": {
      "model_module": "@jupyter-widgets/controls",
      "model_module_version": "1.5.0",
      "model_name": "VBoxModel",
      "state": {
       "children": [
        "IPY_MODEL_15c37e0a577d41d1800fb70f1889201b",
        "IPY_MODEL_de4976326b70496cbc76139174cab534"
       ],
       "layout": "IPY_MODEL_ab0f2b45f0f644359ac2089746050079"
      }
     },
     "2e0d015ba239424588277541698e8ab5": {
      "model_module": "bqplot",
      "model_module_version": "^0.5.18",
      "model_name": "LinearScaleModel",
      "state": {
       "_model_module_version": "^0.5.18",
       "_view_module_version": "^0.5.18",
       "allow_padding": false,
       "max": 1,
       "min": 0,
       "stabilized": false
      }
     },
     "2f15896a9e124b9fb214f31f94c3fe97": {
      "model_module": "bqplot",
      "model_module_version": "^0.5.18",
      "model_name": "LinearScaleModel",
      "state": {
       "_model_module_version": "^0.5.18",
       "_view_module_version": "^0.5.18",
       "stabilized": false
      }
     },
     "2f4f5420ade34c038e41b55942d3e5ac": {
      "model_module": "bqplot",
      "model_module_version": "^0.5.18",
      "model_name": "AxisModel",
      "state": {
       "_model_module_version": "^0.5.18",
       "_view_module_version": "^0.5.18",
       "scale": "IPY_MODEL_58a0f52327194445b44632f1bdb734e1",
       "side": "bottom",
       "tick_values": null
      }
     },
     "2f76ec8439584069b2a012b2251d824a": {
      "model_module": "bqplot",
      "model_module_version": "^0.5.18",
      "model_name": "LinearScaleModel",
      "state": {
       "_model_module_version": "^0.5.18",
       "_view_module_version": "^0.5.18",
       "stabilized": false
      }
     },
     "2f8f6c2abca644cfa8770be19e2e799c": {
      "model_module": "bqplot",
      "model_module_version": "^0.5.18",
      "model_name": "LinearScaleModel",
      "state": {
       "_model_module_version": "^0.5.18",
       "_view_module_version": "^0.5.18",
       "stabilized": false
      }
     },
     "2fabf57b09b743c1bb0631748f6bad35": {
      "model_module": "@jupyter-widgets/base",
      "model_module_version": "1.2.0",
      "model_name": "LayoutModel",
      "state": {}
     },
     "30a3691b083740e88954e809f9b97f4d": {
      "model_module": "bqplot",
      "model_module_version": "^0.5.18",
      "model_name": "FigureModel",
      "state": {
       "_model_module_version": "^0.5.18",
       "_view_module_version": "^0.5.18",
       "axes": [
        "IPY_MODEL_baba91a3e7ef4bdda7c64b97f4744ac2",
        "IPY_MODEL_982af5945728434e9ff7dfc32d655828"
       ],
       "layout": "IPY_MODEL_8b95a259ac6b4621b9b3fcbc5bcb8af3",
       "marks": [
        "IPY_MODEL_8c077c88e5ef4d38882e22f503c47c0f"
       ],
       "scale_x": "IPY_MODEL_77b65b56ccbb40cab7b181a045f7a690",
       "scale_y": "IPY_MODEL_78363c3b4b35472fa5d7e15379d5e7bd"
      }
     },
     "30adb8ffeb5546bca0ed9890110424c3": {
      "model_module": "bqplot",
      "model_module_version": "^0.5.18",
      "model_name": "LinearScaleModel",
      "state": {
       "_model_module_version": "^0.5.18",
       "_view_module_version": "^0.5.18",
       "allow_padding": false,
       "max": 1,
       "min": 0,
       "stabilized": false
      }
     },
     "3129d10c6cd740b7ab7745bb6361896b": {
      "model_module": "@jupyter-widgets/base",
      "model_module_version": "1.2.0",
      "model_name": "LayoutModel",
      "state": {}
     },
     "319a15cc5a344b1fac437600879e6956": {
      "model_module": "@jupyter-widgets/base",
      "model_module_version": "1.2.0",
      "model_name": "LayoutModel",
      "state": {}
     },
     "31a8a5fb7b4141ee969638fa68b4b4b1": {
      "model_module": "@jupyter-widgets/base",
      "model_module_version": "1.2.0",
      "model_name": "LayoutModel",
      "state": {}
     },
     "31b5996b7b21438f83b9e3878f0e13b4": {
      "model_module": "@jupyter-widgets/base",
      "model_module_version": "1.2.0",
      "model_name": "LayoutModel",
      "state": {}
     },
     "3231a41f37c94fbc9741152398ef2872": {
      "model_module": "bqplot",
      "model_module_version": "^0.5.18",
      "model_name": "AxisModel",
      "state": {
       "_model_module_version": "^0.5.18",
       "_view_module_version": "^0.5.18",
       "orientation": "vertical",
       "scale": "IPY_MODEL_37c1c7b7aa914db5bd1df492448d240c",
       "side": "left",
       "tick_values": null
      }
     },
     "32b92dd7d50748fb85c788fb0c514c3c": {
      "model_module": "bqplot",
      "model_module_version": "^0.5.18",
      "model_name": "LinearScaleModel",
      "state": {
       "_model_module_version": "^0.5.18",
       "_view_module_version": "^0.5.18",
       "allow_padding": false,
       "max": 1,
       "min": 0,
       "stabilized": false
      }
     },
     "3308476002764d939290007c756a843f": {
      "model_module": "bqplot",
      "model_module_version": "^0.5.18",
      "model_name": "TooltipModel",
      "state": {
       "_model_module_version": "^0.5.18",
       "_view_module_version": "^0.5.18",
       "fields": [
        "x",
        "y",
        "palabra"
       ],
       "formats": [
        "",
        ".2f",
        ""
       ],
       "layout": "IPY_MODEL_68e5e41054874e17816cd3e51790fd89"
      }
     },
     "360df4a4ead3476a8188d318461b5e19": {
      "model_module": "@jupyter-widgets/base",
      "model_module_version": "1.2.0",
      "model_name": "LayoutModel",
      "state": {}
     },
     "36158f619b2049afad9096c8398b6603": {
      "model_module": "@jupyter-widgets/base",
      "model_module_version": "1.2.0",
      "model_name": "LayoutModel",
      "state": {}
     },
     "3692636908e4461898bde0987562b6fd": {
      "model_module": "bqplot",
      "model_module_version": "^0.5.18",
      "model_name": "LinearScaleModel",
      "state": {
       "_model_module_version": "^0.5.18",
       "_view_module_version": "^0.5.18",
       "allow_padding": false,
       "max": 1,
       "min": 0,
       "stabilized": false
      }
     },
     "37c1c7b7aa914db5bd1df492448d240c": {
      "model_module": "bqplot",
      "model_module_version": "^0.5.18",
      "model_name": "LinearScaleModel",
      "state": {
       "_model_module_version": "^0.5.18",
       "_view_module_version": "^0.5.18",
       "stabilized": false
      }
     },
     "38a66456d3bd4cbd84cae654ba4d9678": {
      "model_module": "@jupyter-widgets/base",
      "model_module_version": "1.2.0",
      "model_name": "LayoutModel",
      "state": {}
     },
     "39552743914e41ff9e580d57079affc1": {
      "buffers": [
       {
        "data": "HwAAAAcAAAAFAAAABQAAAAUAAAAEAAAABAAAAAMAAAADAAAAAwAAAAMAAAADAAAAAwAAAAMAAAACAAAAAgAAAAIAAAACAAAAAgAAAAIAAAACAAAAAgAAAAIAAAACAAAAAgAAAAIAAAACAAAAAgAAAAIAAAACAAAAAgAAAAIAAAACAAAAAgAAAAIAAAACAAAAAgAAAAEAAAABAAAAAQAAAAEAAAABAAAAAQAAAAEAAAABAAAAAQAAAAEAAAABAAAAAQAAAAEAAAABAAAAAQAAAAEAAAABAAAAAQAAAAEAAAABAAAAAQAAAAEAAAABAAAAAQAAAAEAAAABAAAAAQAAAAEAAAABAAAAAQAAAAEAAAABAAAAAQAAAAEAAAABAAAAAQAAAAEAAAABAAAAAQAAAAEAAAABAAAAAQAAAAEAAAABAAAAAQAAAAEAAAABAAAAAQAAAAEAAAABAAAAAQAAAAEAAAABAAAAAQAAAAEAAAABAAAAAQAAAAEAAAABAAAAAQAAAAEAAAABAAAAAQAAAAEAAAABAAAAAQAAAAEAAAABAAAAAQAAAAEAAAABAAAAAQAAAAEAAAABAAAAAQAAAAEAAAABAAAAAQAAAAEAAAABAAAAAQAAAAEAAAABAAAAAQAAAAEAAAABAAAAAQAAAAEAAAABAAAAAQAAAAEAAAABAAAAAQAAAAEAAAABAAAAAQAAAAEAAAABAAAAAQAAAAEAAAABAAAAAQAAAAEAAAABAAAAAQAAAAEAAAABAAAAAQAAAAEAAAABAAAAAQAAAAEAAAABAAAAAQAAAAEAAAABAAAAAQAAAAEAAAABAAAAAQAAAAEAAAABAAAAAQAAAAEAAAABAAAAAQAAAAEAAAABAAAAAQAAAAEAAAABAAAAAQAAAAEAAAABAAAAAQAAAAEAAAABAAAAAQAAAA==",
        "encoding": "base64",
        "path": [
         "x",
         "value"
        ]
       },
       {
        "data": "HwAAAAcAAAAFAAAABQAAAAUAAAAEAAAABAAAAAMAAAADAAAAAwAAAAMAAAADAAAAAwAAAAMAAAACAAAAAgAAAAIAAAACAAAAAgAAAAIAAAACAAAAAgAAAAIAAAACAAAAAgAAAAIAAAACAAAAAgAAAAIAAAACAAAAAgAAAAIAAAACAAAAAgAAAAIAAAACAAAAAgAAAAEAAAABAAAAAQAAAAEAAAABAAAAAQAAAAEAAAABAAAAAQAAAAEAAAABAAAAAQAAAAEAAAABAAAAAQAAAAEAAAABAAAAAQAAAAEAAAABAAAAAQAAAAEAAAABAAAAAQAAAAEAAAABAAAAAQAAAAEAAAABAAAAAQAAAAEAAAABAAAAAQAAAAEAAAABAAAAAQAAAAEAAAABAAAAAQAAAAEAAAABAAAAAQAAAAEAAAABAAAAAQAAAAEAAAABAAAAAQAAAAEAAAABAAAAAQAAAAEAAAABAAAAAQAAAAEAAAABAAAAAQAAAAEAAAABAAAAAQAAAAEAAAABAAAAAQAAAAEAAAABAAAAAQAAAAEAAAABAAAAAQAAAAEAAAABAAAAAQAAAAEAAAABAAAAAQAAAAEAAAABAAAAAQAAAAEAAAABAAAAAQAAAAEAAAABAAAAAQAAAAEAAAABAAAAAQAAAAEAAAABAAAAAQAAAAEAAAABAAAAAQAAAAEAAAABAAAAAQAAAAEAAAABAAAAAQAAAAEAAAABAAAAAQAAAAEAAAABAAAAAQAAAAEAAAABAAAAAQAAAAEAAAABAAAAAQAAAAEAAAABAAAAAQAAAAEAAAABAAAAAQAAAAEAAAABAAAAAQAAAAEAAAABAAAAAQAAAAEAAAABAAAAAQAAAAEAAAABAAAAAQAAAAEAAAABAAAAAQAAAAEAAAABAAAAAQAAAAEAAAABAAAAAQAAAA==",
        "encoding": "base64",
        "path": [
         "y",
         "value"
        ]
       }
      ],
      "model_module": "bqplot",
      "model_module_version": "^0.5.18",
      "model_name": "BarsModel",
      "state": {
       "_model_module_version": "^0.5.18",
       "_view_module_version": "^0.5.18",
       "label_font_style": {},
       "scales": {
        "x": "IPY_MODEL_abdfa114f274426ebbe577c1b504232a",
        "y": "IPY_MODEL_500cb05e3f464fdbb21893c51bea1d62"
       },
       "x": {
        "dtype": "int32",
        "shape": [
         175
        ],
        "type": null
       },
       "y": {
        "dtype": "int32",
        "shape": [
         175
        ],
        "type": null
       }
      }
     },
     "3977d1ae84184de7964b62c6b5da3940": {
      "model_module": "@jupyter-widgets/controls",
      "model_module_version": "1.5.0",
      "model_name": "VBoxModel",
      "state": {
       "children": [
        "IPY_MODEL_30a3691b083740e88954e809f9b97f4d",
        "IPY_MODEL_0b37339779ba4e7f9182d1e3c8862b0b"
       ],
       "layout": "IPY_MODEL_31b5996b7b21438f83b9e3878f0e13b4"
      }
     },
     "3c7509558ae044b58705ebc9ffcb1b6e": {
      "model_module": "bqplot",
      "model_module_version": "^0.5.18",
      "model_name": "FigureModel",
      "state": {
       "_model_module_version": "^0.5.18",
       "_view_module_version": "^0.5.18",
       "layout": "IPY_MODEL_9216a4f56d2c4bf1b5e3d5e9d6cdc513",
       "scale_x": "IPY_MODEL_17204048f70c45c5a716f19caea81165",
       "scale_y": "IPY_MODEL_d02f55bf9ee7483c983e4b88da02d9e4"
      }
     },
     "3c7eb6fb024e4faf9100ac967f16849f": {
      "model_module": "@jupyter-widgets/base",
      "model_module_version": "1.2.0",
      "model_name": "LayoutModel",
      "state": {}
     },
     "3d68f79735234997a1ea74f03f21d0f2": {
      "model_module": "bqplot",
      "model_module_version": "^0.5.18",
      "model_name": "AxisModel",
      "state": {
       "_model_module_version": "^0.5.18",
       "_view_module_version": "^0.5.18",
       "orientation": "vertical",
       "scale": "IPY_MODEL_2f76ec8439584069b2a012b2251d824a",
       "side": "left",
       "tick_values": null
      }
     },
     "3e7b7d8c015c478c865961f4187632bd": {
      "model_module": "bqplot",
      "model_module_version": "^0.5.18",
      "model_name": "AxisModel",
      "state": {
       "_model_module_version": "^0.5.18",
       "_view_module_version": "^0.5.18",
       "scale": "IPY_MODEL_bd538bab01504b3a9b40b0aab40521bc",
       "side": "bottom",
       "tick_values": null
      }
     },
     "3eb6168c4b154d3caf6e2b7e1ce7e016": {
      "model_module": "bqplot",
      "model_module_version": "^0.5.18",
      "model_name": "FigureModel",
      "state": {
       "_model_module_version": "^0.5.18",
       "_view_module_version": "^0.5.18",
       "layout": "IPY_MODEL_92215d385a744580a400fb07b63f30bd",
       "scale_x": "IPY_MODEL_6614dbd3c82c4f77aff943d71de8c93e",
       "scale_y": "IPY_MODEL_f83ba0a814b248a6bbb5ecc014de31d3"
      }
     },
     "3f07209aa1db44c8b02693a6c3922f77": {
      "model_module": "bqplot",
      "model_module_version": "^0.5.18",
      "model_name": "ToolbarModel",
      "state": {
       "_model_module_version": "^0.5.18",
       "_view_module_version": "^0.5.18",
       "figure": "IPY_MODEL_474196cd991b488cb8e501b7ce895e1c",
       "layout": "IPY_MODEL_26400c547fcd4418bcc8e34ecf9b902b"
      }
     },
     "3f9015e65ab1477993d1e9226de2e2f2": {
      "model_module": "bqplot",
      "model_module_version": "^0.5.18",
      "model_name": "AxisModel",
      "state": {
       "_model_module_version": "^0.5.18",
       "_view_module_version": "^0.5.18",
       "scale": "IPY_MODEL_519e9b192d2d48e2a89e5f1a0bef9e90",
       "side": "bottom",
       "tick_values": null
      }
     },
     "4003fba24cb74d96bb0bed4dfaa36454": {
      "model_module": "bqplot",
      "model_module_version": "^0.5.18",
      "model_name": "FigureModel",
      "state": {
       "_model_module_version": "^0.5.18",
       "_view_module_version": "^0.5.18",
       "axes": [
        "IPY_MODEL_791bfc2e1a324ea38a4ac301918e49f4",
        "IPY_MODEL_b0466d62846241d486b985f72fae2b71"
       ],
       "layout": "IPY_MODEL_a8ee4521aa234e68a3acb461311bafdb",
       "marks": [
        "IPY_MODEL_ad868c1cf5ac4fddaf9fef97c34a9b79",
        "IPY_MODEL_4e5d0539b1e9401a99c6b40f2bdf4dd6"
       ],
       "scale_x": "IPY_MODEL_7c7b0782a3914d34a0bf07ece360a573",
       "scale_y": "IPY_MODEL_6c694b17049d46ea95b3bc3ec3abb092"
      }
     },
     "40b5edd184f34cb58d2b5c5a84778781": {
      "model_module": "bqplot",
      "model_module_version": "^0.5.18",
      "model_name": "LinearScaleModel",
      "state": {
       "_model_module_version": "^0.5.18",
       "_view_module_version": "^0.5.18",
       "stabilized": false
      }
     },
     "40d3d0ef2c3a4973838c100705363fe6": {
      "model_module": "@jupyter-widgets/base",
      "model_module_version": "1.2.0",
      "model_name": "LayoutModel",
      "state": {}
     },
     "417ca5f011094a3b900c85515fc87b08": {
      "model_module": "@jupyter-widgets/base",
      "model_module_version": "1.2.0",
      "model_name": "LayoutModel",
      "state": {}
     },
     "424198d04c2c404590f14dd526387390": {
      "model_module": "bqplot",
      "model_module_version": "^0.5.18",
      "model_name": "LinearScaleModel",
      "state": {
       "_model_module_version": "^0.5.18",
       "_view_module_version": "^0.5.18",
       "allow_padding": false,
       "max": 1,
       "min": 0,
       "stabilized": false
      }
     },
     "426c4b5de0eb4e70bf1eb1cb6cec1db5": {
      "model_module": "bqplot",
      "model_module_version": "^0.5.18",
      "model_name": "LinearScaleModel",
      "state": {
       "_model_module_version": "^0.5.18",
       "_view_module_version": "^0.5.18",
       "allow_padding": false,
       "max": 1,
       "min": 0,
       "stabilized": false
      }
     },
     "42c04a830cf442ecaa5b1f31e8c45ad0": {
      "model_module": "bqplot",
      "model_module_version": "^0.5.18",
      "model_name": "FigureModel",
      "state": {
       "_model_module_version": "^0.5.18",
       "_view_module_version": "^0.5.18",
       "axes": [
        "IPY_MODEL_19c01656835f4564b2506de8690721ce",
        "IPY_MODEL_fdfe0cf087004e6c9db283921dc192d6"
       ],
       "layout": "IPY_MODEL_e080f2e6d3154f7886b4ae722232b694",
       "marks": [
        "IPY_MODEL_de07c195442947f79d29663486f0af5c"
       ],
       "scale_x": "IPY_MODEL_76d29f61becc4aa88871bf548199507d",
       "scale_y": "IPY_MODEL_1fc1ea6d55c944deb8c1932c083c9e67"
      }
     },
     "4355ff96194a44b69bc7f96c5ce8873a": {
      "model_module": "@jupyter-widgets/controls",
      "model_module_version": "1.5.0",
      "model_name": "VBoxModel",
      "state": {
       "children": [
        "IPY_MODEL_61bb2be06b6649568d3198f3d5c55d81",
        "IPY_MODEL_16ab222b2a1643e897b0a3b7cd34e2d7"
       ],
       "layout": "IPY_MODEL_92f27bfbedc14312953c943efa5a6ae3"
      }
     },
     "4376bc778c00426eb4472027458bd0e7": {
      "model_module": "bqplot",
      "model_module_version": "^0.5.18",
      "model_name": "LinearScaleModel",
      "state": {
       "_model_module_version": "^0.5.18",
       "_view_module_version": "^0.5.18",
       "allow_padding": false,
       "max": 1,
       "min": 0,
       "stabilized": false
      }
     },
     "43d7aee9c8334bdbb591ffe2cef43182": {
      "model_module": "bqplot",
      "model_module_version": "^0.5.18",
      "model_name": "AxisModel",
      "state": {
       "_model_module_version": "^0.5.18",
       "_view_module_version": "^0.5.18",
       "orientation": "vertical",
       "scale": "IPY_MODEL_ab536b9d29d5469e8a4a305fb9b0a54f",
       "side": "left",
       "tick_values": null
      }
     },
     "43ed3a05c7f1458a8e32d68344a7f111": {
      "model_module": "bqplot",
      "model_module_version": "^0.5.18",
      "model_name": "LinearScaleModel",
      "state": {
       "_model_module_version": "^0.5.18",
       "_view_module_version": "^0.5.18",
       "allow_padding": false,
       "max": 1,
       "min": 0,
       "stabilized": false
      }
     },
     "4419098f08fd4dc7ba888693fb4fdc0c": {
      "buffers": [
       {
        "data": "AAAAAAEAAAACAAAAAwAAAAQAAAAFAAAABgAAAAcAAAAIAAAACQAAAAoAAAALAAAADAAAAA==",
        "encoding": "base64",
        "path": [
         "x",
         "value"
        ]
       },
       {
        "data": "PAAAACoAAAAkAAAAIAAAABwAAAAaAAAABgAAAAIAAAABAAAAAQAAAAEAAAABAAAAAQAAAA==",
        "encoding": "base64",
        "path": [
         "y",
         "value"
        ]
       }
      ],
      "model_module": "bqplot",
      "model_module_version": "^0.5.18",
      "model_name": "LinesModel",
      "state": {
       "_model_module_version": "^0.5.18",
       "_view_module_version": "^0.5.18",
       "fill_colors": [],
       "labels": [
        "C1"
       ],
       "scales": {
        "x": "IPY_MODEL_0722f26402f745e884d687c60b575b60",
        "y": "IPY_MODEL_2f76ec8439584069b2a012b2251d824a"
       },
       "x": {
        "dtype": "int32",
        "shape": [
         13
        ],
        "type": null
       },
       "y": {
        "dtype": "int32",
        "shape": [
         13
        ],
        "type": null
       }
      }
     },
     "4564d3fefa09433d8b3c92ebe7005933": {
      "model_module": "bqplot",
      "model_module_version": "^0.5.18",
      "model_name": "LinearScaleModel",
      "state": {
       "_model_module_version": "^0.5.18",
       "_view_module_version": "^0.5.18",
       "allow_padding": false,
       "max": 1,
       "min": 0,
       "stabilized": false
      }
     },
     "4653d05c32a5475fa5fffbbaae729e9a": {
      "model_module": "@jupyter-widgets/base",
      "model_module_version": "1.2.0",
      "model_name": "LayoutModel",
      "state": {}
     },
     "46e63a3cdaf04947b4af94da6a97d136": {
      "model_module": "bqplot",
      "model_module_version": "^0.5.18",
      "model_name": "AxisModel",
      "state": {
       "_model_module_version": "^0.5.18",
       "_view_module_version": "^0.5.18",
       "scale": "IPY_MODEL_81f89de8f12a465584bf7d1f5ed78153",
       "side": "bottom",
       "tick_values": null
      }
     },
     "474196cd991b488cb8e501b7ce895e1c": {
      "model_module": "bqplot",
      "model_module_version": "^0.5.18",
      "model_name": "FigureModel",
      "state": {
       "_model_module_version": "^0.5.18",
       "_view_module_version": "^0.5.18",
       "axes": [
        "IPY_MODEL_0d09b8c48e2d4358a6f18f61ce3c0e62",
        "IPY_MODEL_17863313cd5e4989816f35b714580745"
       ],
       "layout": "IPY_MODEL_ac212089f5174e738c0e259dba8bcf4b",
       "marks": [
        "IPY_MODEL_de1b88070b4c42b48961ed3fc23430fc"
       ],
       "scale_x": "IPY_MODEL_ad2f5db35ebb474f99ba2355158366d5",
       "scale_y": "IPY_MODEL_424198d04c2c404590f14dd526387390"
      }
     },
     "47abab0107b8403b8588f6e35d39880a": {
      "buffers": [
       {
        "data": "AAAAAAEAAAACAAAAAwAAAAQAAAAFAAAABgAAAA==",
        "encoding": "base64",
        "path": [
         "x",
         "value"
        ]
       },
       {
        "data": "SwAAAD0AAAAkAAAAHAAAABoAAAAKAAAAAQAAAA==",
        "encoding": "base64",
        "path": [
         "y",
         "value"
        ]
       }
      ],
      "model_module": "bqplot",
      "model_module_version": "^0.5.18",
      "model_name": "LinesModel",
      "state": {
       "_model_module_version": "^0.5.18",
       "_view_module_version": "^0.5.18",
       "fill_colors": [],
       "labels": [
        "C1"
       ],
       "scales": {
        "x": "IPY_MODEL_948432e0c9884cd5bb0f80939e76075c",
        "y": "IPY_MODEL_6a7cd01bd9e64020b19faeaee7c56264"
       },
       "x": {
        "dtype": "int32",
        "shape": [
         7
        ],
        "type": null
       },
       "y": {
        "dtype": "int32",
        "shape": [
         7
        ],
        "type": null
       }
      }
     },
     "47c2d7dce5bd45999c043c8287fd7e6a": {
      "model_module": "bqplot",
      "model_module_version": "^0.5.18",
      "model_name": "LinearScaleModel",
      "state": {
       "_model_module_version": "^0.5.18",
       "_view_module_version": "^0.5.18",
       "stabilized": false
      }
     },
     "48d8be9176e243768c65ad36a9c4a431": {
      "model_module": "bqplot",
      "model_module_version": "^0.5.18",
      "model_name": "LinearScaleModel",
      "state": {
       "_model_module_version": "^0.5.18",
       "_view_module_version": "^0.5.18",
       "allow_padding": false,
       "max": 1,
       "min": 0,
       "stabilized": false
      }
     },
     "48fa36efa8ca4d4da1dc4b7e15e19d42": {
      "model_module": "bqplot",
      "model_module_version": "^0.5.18",
      "model_name": "LinearScaleModel",
      "state": {
       "_model_module_version": "^0.5.18",
       "_view_module_version": "^0.5.18",
       "allow_padding": false,
       "max": 1,
       "min": 0,
       "stabilized": false
      }
     },
     "4a098cf1c846430a9768adec9c57cb50": {
      "buffers": [
       {
        "data": "AAAAAAEAAAACAAAAAwAAAAQAAAAFAAAABgAAAAcAAAAIAAAACQAAAAoAAAALAAAADAAAAA==",
        "encoding": "base64",
        "path": [
         "x",
         "value"
        ]
       },
       {
        "data": "PAAAACoAAAAkAAAAIAAAABwAAAAaAAAABgAAAAIAAAABAAAAAQAAAAEAAAABAAAAAQAAAA==",
        "encoding": "base64",
        "path": [
         "y",
         "value"
        ]
       }
      ],
      "model_module": "bqplot",
      "model_module_version": "^0.5.18",
      "model_name": "LinesModel",
      "state": {
       "_model_module_version": "^0.5.18",
       "_view_module_version": "^0.5.18",
       "fill_colors": [],
       "labels": [
        "C1"
       ],
       "scales": {
        "x": "IPY_MODEL_0c55aed1904941c39d7c0452d2331922",
        "y": "IPY_MODEL_9b188b5d116a4868b5c0a8ec4d097e31"
       },
       "x": {
        "dtype": "int32",
        "shape": [
         13
        ],
        "type": null
       },
       "y": {
        "dtype": "int32",
        "shape": [
         13
        ],
        "type": null
       }
      }
     },
     "4a3f3ce31a8c479a801457afa0cc5bcf": {
      "model_module": "@jupyter-widgets/base",
      "model_module_version": "1.2.0",
      "model_name": "LayoutModel",
      "state": {}
     },
     "4ac84b9292874ed5abf3df8852a376f3": {
      "buffers": [
       {
        "data": "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",
        "encoding": "base64",
        "path": [
         "x",
         "value"
        ]
       },
       {
        "data": "OAAAADQAAAAwAAAALgAAAB4AAAAcAAAAHAAAABwAAAAbAAAAGwAAABoAAAAYAAAAFwAAABMAAAARAAAADwAAAA4AAAANAAAADAAAAAwAAAAKAAAACgAAAAkAAAAJAAAACQAAAAgAAAAIAAAABwAAAAcAAAAGAAAABgAAAAUAAAAFAAAABQAAAAUAAAAFAAAABQAAAAUAAAAFAAAABQAAAAQAAAAEAAAABAAAAAQAAAAEAAAABAAAAAQAAAAEAAAABAAAAAQAAAAEAAAABAAAAAQAAAAEAAAABAAAAAQAAAAEAAAAAwAAAAMAAAADAAAAAwAAAAMAAAADAAAAAwAAAAMAAAADAAAAAwAAAAMAAAADAAAAAwAAAAMAAAADAAAAAwAAAAMAAAADAAAAAwAAAAMAAAADAAAAAwAAAAMAAAADAAAAAwAAAAMAAAADAAAAAwAAAAMAAAADAAAAAwAAAAMAAAADAAAAAwAAAAMAAAADAAAAAwAAAAIAAAACAAAAAgAAAAIAAAACAAAAAgAAAAIAAAACAAAAAgAAAAIAAAACAAAAAgAAAAIAAAACAAAAAgAAAAIAAAACAAAAAgAAAAIAAAACAAAAAgAAAAIAAAACAAAAAgAAAAIAAAACAAAAAgAAAAIAAAACAAAAAgAAAAIAAAACAAAAAgAAAAIAAAACAAAAAgAAAAIAAAACAAAAAgAAAAIAAAACAAAAAgAAAAIAAAACAAAAAgAAAAIAAAACAAAAAgAAAAIAAAACAAAAAgAAAAIAAAACAAAAAgAAAAIAAAACAAAAAgAAAAIAAAACAAAAAgAAAAIAAAACAAAAAgAAAAIAAAACAAAAAgAAAAIAAAACAAAAAgAAAAIAAAACAAAAAgAAAAIAAAACAAAAAgAAAAIAAAACAAAAAgAAAAIAAAACAAAAAQAAAAEAAAABAAAAAQAAAAEAAAABAAAAAQAAAAEAAAABAAAAAQAAAAEAAAABAAAAAQAAAAEAAAABAAAAAQAAAAEAAAABAAAAAQAAAAEAAAABAAAAAQAAAAEAAAABAAAAAQAAAAEAAAABAAAAAQAAAAEAAAABAAAAAQAAAAEAAAABAAAAAQAAAAEAAAABAAAAAQAAAAEAAAABAAAAAQAAAAEAAAABAAAAAQAAAAEAAAABAAAAAQAAAAEAAAABAAAAAQAAAAEAAAABAAAAAQAAAAEAAAABAAAAAQAAAAEAAAABAAAAAQAAAAEAAAABAAAAAQAAAAEAAAABAAAAAQAAAAEAAAABAAAAAQAAAAEAAAABAAAAAQAAAAEAAAABAAAAAQAAAAEAAAABAAAAAQAAAAEAAAABAAAAAQAAAAEAAAABAAAAAQAAAAEAAAABAAAAAQAAAAEAAAABAAAAAQAAAAEAAAABAAAAAQAAAAEAAAABAAAAAQAAAAEAAAABAAAAAQAAAAEAAAABAAAAAQAAAAEAAAABAAAAAQAAAAEAAAABAAAAAQAAAAEAAAABAAAAAQAAAAEAAAABAAAAAQAAAAEAAAABAAAAAQAAAAEAAAABAAAAAQAAAAEAAAABAAAAAQAAAAEAAAABAAAAAQAAAAEAAAABAAAAAQAAAAEAAAABAAAAAQAAAAEAAAABAAAAAQAAAAEAAAABAAAAAQAAAAEAAAABAAAAAQAAAAEAAAABAAAAAQAAAAEAAAABAAAAAQAAAAEAAAABAAAAAQAAAAEAAAABAAAAAQAAAAEAAAABAAAAAQAAAAEAAAABAAAAAQAAAAEAAAABAAAAAQAAAAEAAAABAAAAAQAAAAEAAAABAAAAAQAAAAEAAAABAAAAAQAAAAEAAAABAAAAAQAAAAEAAAABAAAAAQAAAAEAAAABAAAAAQAAAAEAAAABAAAAAQAAAAEAAAABAAAAAQAAAAEAAAABAAAAAQAAAAEAAAABAAAAAQAAAAEAAAABAAAAAQAAAAEAAAABAAAAAQAAAAEAAAABAAAAAQAAAAEAAAABAAAAAQAAAAEAAAABAAAAAQAAAAEAAAABAAAAAQAAAAEAAAABAAAAAQAAAAEAAAABAAAAAQAAAAEAAAABAAAAAQAAAAEAAAABAAAAAQAAAAEAAAABAAAAAQAAAAEAAAABAAAAAQAAAAEAAAABAAAAAQAAAAEAAAABAAAAAQAAAAEAAAABAAAAAQAAAAEAAAABAAAAAQAAAAEAAAABAAAAAQAAAAEAAAABAAAAAQAAAAEAAAABAAAAAQAAAAEAAAABAAAAAQAAAAEAAAABAAAAAQAAAAEAAAABAAAAAQAAAAEAAAABAAAAAQAAAAEAAAABAAAAAQAAAAEAAAABAAAAAQAAAAEAAAABAAAAAQAAAAEAAAABAAAAAQAAAAEAAAABAAAAAQAAAAEAAAABAAAAAQAAAAEAAAABAAAAAQAAAAEAAAABAAAAAQAAAAEAAAABAAAAAQAAAAEAAAABAAAAAQAAAAEAAAABAAAAAQAAAAEAAAABAAAAAQAAAAEAAAABAAAAAQAAAAEAAAABAAAAAQAAAAEAAAABAAAAAQAAAAEAAAABAAAAAQAAAAEAAAABAAAAAQAAAAEAAAABAAAAAQAAAAEAAAABAAAAAQAAAAEAAAABAAAAAQAAAAEAAAABAAAAAQAAAAEAAAABAAAAAQAAAAEAAAABAAAAAQAAAAEAAAABAAAAAQAAAAEAAAABAAAAAQAAAAEAAAABAAAAAQAAAAEAAAABAAAAAQAAAAEAAAABAAAAAQAAAAEAAAABAAAAAQAAAAEAAAABAAAAAQAAAAEAAAABAAAAAQAAAAEAAAABAAAAAQAAAAEAAAABAAAAAQAAAAEAAAABAAAAAQAAAAEAAAABAAAAAQAAAAEAAAABAAAAAQAAAAEAAAABAAAAAQAAAAEAAAABAAAAAQAAAAEAAAABAAAAAQAAAAEAAAABAAAAAQAAAAEAAAABAAAAAQAAAAEAAAABAAAAAQAAAAEAAAABAAAAAQAAAAEAAAABAAAAAQAAAAEAAAABAAAAAQAAAAEAAAABAAAAAQAAAAEAAAABAAAAAQAAAAEAAAABAAAAAQAAAAEAAAABAAAAAQAAAAEAAAABAAAAAQAAAAEAAAABAAAAAQAAAAEAAAABAAAAAQAAAAEAAAABAAAAAQAAAAEAAAABAAAAAQAAAAEAAAABAAAAAQAAAAEAAAABAAAAAQAAAAEAAAABAAAAAQAAAAEAAAABAAAAAQAAAAEAAAABAAAAAQAAAAEAAAABAAAAAQAAAAEAAAABAAAAAQAAAAEAAAABAAAAAQAAAAEAAAABAAAAAQAAAAEAAAABAAAAAQAAAAEAAAABAAAAAQAAAAEAAAABAAAAAQAAAAEAAAABAAAAAQAAAAEAAAABAAAAAQAAAAEAAAABAAAAAQAAAAEAAAABAAAAAQAAAAEAAAABAAAAAQAAAAEAAAABAAAAAQAAAAEAAAABAAAAAQAAAAEAAAABAAAAAQAAAAEAAAABAAAAAQAAAAEAAAABAAAAAQAAAAEAAAABAAAAAQAAAAEAAAABAAAAAQAAAAEAAAABAAAAAQAAAAEAAAABAAAAAQAAAAEAAAABAAAAAQAAAAEAAAABAAAAAQAAAAEAAAABAAAAAQAAAAEAAAABAAAAAQAAAAEAAAABAAAAAQAAAAEAAAABAAAAAQAAAAEAAAABAAAAAQAAAAEAAAABAAAAAQAAAAEAAAABAAAAAQAAAAEAAAABAAAAAQAAAAEAAAABAAAAAQAAAAEAAAABAAAAAQAAAAEAAAABAAAAAQAAAAEAAAABAAAAAQAAAAEAAAA=",
        "encoding": "base64",
        "path": [
         "y",
         "value"
        ]
       }
      ],
      "model_module": "bqplot",
      "model_module_version": "^0.5.18",
      "model_name": "ScatterModel",
      "state": {
       "_model_module_version": "^0.5.18",
       "_view_module_version": "^0.5.18",
       "colors": [
        "dodgerblue"
       ],
       "default_opacities": {
        "dtype": "float64",
        "shape": [
         1
        ],
        "type": null,
        "value": {}
       },
       "label_display_horizontal_offset": 0,
       "label_display_vertical_offset": 0,
       "names": null,
       "scales": {
        "x": "IPY_MODEL_5378aa3b9ab64f0580bc7d6ee81a7c86",
        "y": "IPY_MODEL_d45c043c9ac84a4b889ea6169359b325"
       },
       "scales_metadata": {
        "color": {
         "dimension": "color"
        },
        "opacity": {
         "dimension": "opacity"
        },
        "rotation": {
         "dimension": "rotation"
        },
        "size": {
         "dimension": "size"
        },
        "skew": {
         "dimension": "skew"
        },
        "x": {
         "dimension": "x",
         "orientation": "horizontal"
        },
        "y": {
         "dimension": "y",
         "orientation": "vertical"
        }
       },
       "stroke": "black",
       "tooltip": "IPY_MODEL_eb0c42858b7c499dbdbb394322fe0000",
       "unhovered_style": {
        "opacity": 0.5
       },
       "x": {
        "dtype": "int32",
        "shape": [
         716
        ],
        "type": null
       },
       "y": {
        "dtype": "int32",
        "shape": [
         716
        ],
        "type": null
       }
      }
     },
     "4b041f1389a34e9f8e825ed1541ae118": {
      "model_module": "bqplot",
      "model_module_version": "^0.5.18",
      "model_name": "LinearScaleModel",
      "state": {
       "_model_module_version": "^0.5.18",
       "_view_module_version": "^0.5.18",
       "allow_padding": false,
       "max": 1,
       "min": 0,
       "stabilized": false
      }
     },
     "4c19cbb843254b698f57bb37609248d1": {
      "model_module": "bqplot",
      "model_module_version": "^0.5.18",
      "model_name": "TooltipModel",
      "state": {
       "_model_module_version": "^0.5.18",
       "_view_module_version": "^0.5.18",
       "fields": [
        "x",
        "y",
        "palabra"
       ],
       "formats": [
        "",
        ".2f",
        ""
       ],
       "layout": "IPY_MODEL_805f8103539b4ccf98f35cc11440aec3"
      }
     },
     "4dc3d9ac883b4832b829389a3744ed58": {
      "model_module": "bqplot",
      "model_module_version": "^0.5.18",
      "model_name": "LinearScaleModel",
      "state": {
       "_model_module_version": "^0.5.18",
       "_view_module_version": "^0.5.18",
       "allow_padding": false,
       "max": 1,
       "min": 0,
       "stabilized": false
      }
     },
     "4e5d0539b1e9401a99c6b40f2bdf4dd6": {
      "buffers": [
       {
        "data": "AAAAAAEAAAACAAAAAwAAAAQAAAAFAAAABgAAAAcAAAAIAAAACQAAAAoAAAALAAAADAAAAA0AAAAOAAAADwAAABAAAAARAAAAEgAAABMAAAAUAAAAFQAAABYAAAAXAAAAGAAAABkAAAAaAAAAGwAAABwAAAAdAAAAHgAAAB8AAAAgAAAAIQAAACIAAAAjAAAAJAAAACUAAAAmAAAAJwAAACgAAAApAAAAKgAAACsAAAAsAAAALQAAAC4AAAAvAAAAMAAAADEAAAAyAAAAMwAAADQAAAA1AAAANgAAADcAAAA4AAAAOQAAADoAAAA7AAAAPAAAAD0AAAA+AAAAPwAAAEAAAABBAAAAQgAAAEMAAABEAAAARQAAAEYAAABHAAAASAAAAEkAAABKAAAASwAAAEwAAABNAAAATgAAAE8AAABQAAAAUQAAAFIAAABTAAAAVAAAAFUAAABWAAAAVwAAAFgAAABZAAAAWgAAAFsAAABcAAAAXQAAAF4AAABfAAAAYAAAAGEAAABiAAAAYwAAAGQAAABlAAAAZgAAAGcAAABoAAAAaQAAAGoAAABrAAAAbAAAAG0AAABuAAAAbwAAAHAAAABxAAAAcgAAAHMAAAB0AAAAdQAAAHYAAAB3AAAAeAAAAHkAAAB6AAAAewAAAHwAAAB9AAAAfgAAAH8AAACAAAAAgQAAAIIAAACDAAAAhAAAAIUAAACGAAAAhwAAAIgAAACJAAAAigAAAIsAAACMAAAAjQAAAI4AAACPAAAAkAAAAJEAAACSAAAAkwAAAJQAAACVAAAAlgAAAJcAAACYAAAAmQAAAJoAAACbAAAAnAAAAJ0AAACeAAAAnwAAAKAAAAChAAAAogAAAKMAAACkAAAApQAAAKYAAACnAAAAqAAAAKkAAACqAAAAqwAAAKwAAACtAAAArgAAAA==",
        "encoding": "base64",
        "path": [
         "x",
         "value"
        ]
       },
       {
        "data": "HwAAAAcAAAAFAAAABQAAAAUAAAAEAAAABAAAAAMAAAADAAAAAwAAAAMAAAADAAAAAwAAAAMAAAACAAAAAgAAAAIAAAACAAAAAgAAAAIAAAACAAAAAgAAAAIAAAACAAAAAgAAAAIAAAACAAAAAgAAAAIAAAACAAAAAgAAAAIAAAACAAAAAgAAAAIAAAACAAAAAgAAAAEAAAABAAAAAQAAAAEAAAABAAAAAQAAAAEAAAABAAAAAQAAAAEAAAABAAAAAQAAAAEAAAABAAAAAQAAAAEAAAABAAAAAQAAAAEAAAABAAAAAQAAAAEAAAABAAAAAQAAAAEAAAABAAAAAQAAAAEAAAABAAAAAQAAAAEAAAABAAAAAQAAAAEAAAABAAAAAQAAAAEAAAABAAAAAQAAAAEAAAABAAAAAQAAAAEAAAABAAAAAQAAAAEAAAABAAAAAQAAAAEAAAABAAAAAQAAAAEAAAABAAAAAQAAAAEAAAABAAAAAQAAAAEAAAABAAAAAQAAAAEAAAABAAAAAQAAAAEAAAABAAAAAQAAAAEAAAABAAAAAQAAAAEAAAABAAAAAQAAAAEAAAABAAAAAQAAAAEAAAABAAAAAQAAAAEAAAABAAAAAQAAAAEAAAABAAAAAQAAAAEAAAABAAAAAQAAAAEAAAABAAAAAQAAAAEAAAABAAAAAQAAAAEAAAABAAAAAQAAAAEAAAABAAAAAQAAAAEAAAABAAAAAQAAAAEAAAABAAAAAQAAAAEAAAABAAAAAQAAAAEAAAABAAAAAQAAAAEAAAABAAAAAQAAAAEAAAABAAAAAQAAAAEAAAABAAAAAQAAAAEAAAABAAAAAQAAAAEAAAABAAAAAQAAAAEAAAABAAAAAQAAAAEAAAABAAAAAQAAAAEAAAABAAAAAQAAAAEAAAABAAAAAQAAAA==",
        "encoding": "base64",
        "path": [
         "y",
         "value"
        ]
       }
      ],
      "model_module": "bqplot",
      "model_module_version": "^0.5.18",
      "model_name": "LinesModel",
      "state": {
       "_model_module_version": "^0.5.18",
       "_view_module_version": "^0.5.18",
       "fill_colors": [],
       "labels": [
        "C1"
       ],
       "scales": {
        "x": "IPY_MODEL_81633a34d3b94e5f9f06b8d6bfa768f4",
        "y": "IPY_MODEL_fd5b0305e35a4f57aa7ce7055ab656a0"
       },
       "x": {
        "dtype": "int32",
        "shape": [
         175
        ],
        "type": null
       },
       "y": {
        "dtype": "int32",
        "shape": [
         175
        ],
        "type": null
       }
      }
     },
     "4e85b41d501c400597059637eab1cc86": {
      "model_module": "@jupyter-widgets/base",
      "model_module_version": "1.2.0",
      "model_name": "LayoutModel",
      "state": {}
     },
     "4f2509c47a9547368b0003c050842df2": {
      "model_module": "bqplot",
      "model_module_version": "^0.5.18",
      "model_name": "FigureModel",
      "state": {
       "_model_module_version": "^0.5.18",
       "_view_module_version": "^0.5.18",
       "axes": [
        "IPY_MODEL_d80973090d724361b7de17f874b90103",
        "IPY_MODEL_43d7aee9c8334bdbb591ffe2cef43182"
       ],
       "layout": "IPY_MODEL_d254ef57986d49b1aafca5b90a400945",
       "marks": [
        "IPY_MODEL_e9d3cfad7a114d198e2c76102b3eec4f"
       ],
       "scale_x": "IPY_MODEL_0df2a68e06e14729bc6fd2323626aa65",
       "scale_y": "IPY_MODEL_b566bf4458544d0fb17374ec4096d221"
      }
     },
     "500cb05e3f464fdbb21893c51bea1d62": {
      "model_module": "bqplot",
      "model_module_version": "^0.5.18",
      "model_name": "LinearScaleModel",
      "state": {
       "_model_module_version": "^0.5.18",
       "_view_module_version": "^0.5.18",
       "stabilized": false
      }
     },
     "506d21f27f2641ecbdd55e3faf2cf410": {
      "model_module": "bqplot",
      "model_module_version": "^0.5.18",
      "model_name": "LinearScaleModel",
      "state": {
       "_model_module_version": "^0.5.18",
       "_view_module_version": "^0.5.18",
       "allow_padding": false,
       "max": 1,
       "min": 0,
       "stabilized": false
      }
     },
     "50860565a96944a2b823c01ec613f7bc": {
      "model_module": "bqplot",
      "model_module_version": "^0.5.18",
      "model_name": "AxisModel",
      "state": {
       "_model_module_version": "^0.5.18",
       "_view_module_version": "^0.5.18",
       "scale": "IPY_MODEL_7efb21418ac44ca4890bb04d4d5796cd",
       "side": "bottom",
       "tick_values": null
      }
     },
     "50bf117bb3754216bbe7aebde712dc57": {
      "model_module": "bqplot",
      "model_module_version": "^0.5.18",
      "model_name": "LinearScaleModel",
      "state": {
       "_model_module_version": "^0.5.18",
       "_view_module_version": "^0.5.18",
       "stabilized": false
      }
     },
     "50fbf221fcc14a9e988433709560d955": {
      "model_module": "bqplot",
      "model_module_version": "^0.5.18",
      "model_name": "LinearScaleModel",
      "state": {
       "_model_module_version": "^0.5.18",
       "_view_module_version": "^0.5.18",
       "allow_padding": false,
       "max": 1,
       "min": 0,
       "stabilized": false
      }
     },
     "510f6b22cf4141e7af6af91f427f1b90": {
      "model_module": "@jupyter-widgets/base",
      "model_module_version": "1.2.0",
      "model_name": "LayoutModel",
      "state": {}
     },
     "5165dc1f2d9f4e02a366ef561e630346": {
      "buffers": [
       {
        "data": "HwAAAAcAAAAFAAAABQAAAAUAAAAEAAAABAAAAAMAAAADAAAAAwAAAAMAAAADAAAAAwAAAAMAAAACAAAAAgAAAAIAAAACAAAAAgAAAAIAAAACAAAAAgAAAAIAAAACAAAAAgAAAAIAAAACAAAAAgAAAAIAAAACAAAAAgAAAAIAAAACAAAAAgAAAAIAAAACAAAAAgAAAAEAAAABAAAAAQAAAAEAAAABAAAAAQAAAAEAAAABAAAAAQAAAAEAAAABAAAAAQAAAAEAAAABAAAAAQAAAAEAAAABAAAAAQAAAAEAAAABAAAAAQAAAAEAAAABAAAAAQAAAAEAAAABAAAAAQAAAAEAAAABAAAAAQAAAAEAAAABAAAAAQAAAAEAAAABAAAAAQAAAAEAAAABAAAAAQAAAAEAAAABAAAAAQAAAAEAAAABAAAAAQAAAAEAAAABAAAAAQAAAAEAAAABAAAAAQAAAAEAAAABAAAAAQAAAAEAAAABAAAAAQAAAAEAAAABAAAAAQAAAAEAAAABAAAAAQAAAAEAAAABAAAAAQAAAAEAAAABAAAAAQAAAAEAAAABAAAAAQAAAAEAAAABAAAAAQAAAAEAAAABAAAAAQAAAAEAAAABAAAAAQAAAAEAAAABAAAAAQAAAAEAAAABAAAAAQAAAAEAAAABAAAAAQAAAAEAAAABAAAAAQAAAAEAAAABAAAAAQAAAAEAAAABAAAAAQAAAAEAAAABAAAAAQAAAAEAAAABAAAAAQAAAAEAAAABAAAAAQAAAAEAAAABAAAAAQAAAAEAAAABAAAAAQAAAAEAAAABAAAAAQAAAAEAAAABAAAAAQAAAAEAAAABAAAAAQAAAAEAAAABAAAAAQAAAAEAAAABAAAAAQAAAAEAAAABAAAAAQAAAAEAAAABAAAAAQAAAAEAAAABAAAAAQAAAA==",
        "encoding": "base64",
        "path": [
         "y",
         "value"
        ]
       }
      ],
      "model_module": "bqplot",
      "model_module_version": "^0.5.18",
      "model_name": "ScatterModel",
      "state": {
       "_model_module_version": "^0.5.18",
       "_view_module_version": "^0.5.18",
       "default_opacities": {
        "dtype": "float64",
        "shape": [
         1
        ],
        "type": null,
        "value": {}
       },
       "label_display_horizontal_offset": 0,
       "label_display_vertical_offset": 0,
       "names": null,
       "scales": {
        "x": "IPY_MODEL_bc3cfa8f76b54cc1aa41456f42496496",
        "y": "IPY_MODEL_d24ef0c5878e42c094ca66e7d9913a94"
       },
       "scales_metadata": {
        "color": {
         "dimension": "color"
        },
        "opacity": {
         "dimension": "opacity"
        },
        "rotation": {
         "dimension": "rotation"
        },
        "size": {
         "dimension": "size"
        },
        "skew": {
         "dimension": "skew"
        },
        "x": {
         "dimension": "x",
         "orientation": "horizontal"
        },
        "y": {
         "dimension": "y",
         "orientation": "vertical"
        }
       },
       "x": [
        "Various speakers",
        "Facundo Batista",
        "Juan Pedro Fisanotti",
        "Roberto Alsina",
        "Claudio Freire",
        "Damián Avila",
        "Hugo Ruscitti",
        "Alejandro J. Cura",
        "Various Speakers",
        "Diego Sarmentero",
        "Natalia Bidart",
        "Martin Alderete",
        "Rafael Carrascosa",
        "Gabriel Genellina",
        "Ricardo Kirkner",
        "Martín Gaitán",
        "Alejandro Cura",
        "Manuel Quiñones",
        "Diego Cañizares",
        "Massimo Di Pierro",
        "Craig Kerstiens",
        "Luciano Rossi",
        "Ariel Rossanigo",
        "Andrea Gavana",
        "Nicolás Demarchi",
        "Felipe Lerena",
        "Daniel F. Moisset",
        "Matías Bordese",
        "Berenice Larsen Pereyra",
        "Brett Cannon",
        "Javier Mansilla",
        "Sebastián Marró",
        "Emiliano Dalla Verde Marcozzi",
        "Manuel Kaufmann",
        "Sofía Denner",
        "Pedro Ignacio Guridi",
        "Christophe Pettus",
        "Ezequiel Gutesman",
        "Brandon Rhodes",
        "Javier Der Derian",
        "Wesley Chun",
        "Luciano Serruya Aloisi",
        "Carol Willing",
        "Cynthia Monastirsky",
        "Vinicius Feitosa Pacheco",
        "María Andrea Vignau",
        "Sebastian Brachi",
        "Martin Volpe",
        "Ramiro Morales",
        "Sebastián Kennedy",
        "Andrés Riancho",
        "Joaquín Sorianello",
        "David Litvak Bruno",
        "Leonardo Lazzaro",
        "Paola Katherine",
        "Nicolas Quiroz",
        "Flor Novidelsky",
        "Fernando Schapachnik",
        "Juan Manuel Schillaci",
        "Silvestre Huens",
        "Joaquin Sorianello",
        "Dino Viehland",
        "Emilio Crudele",
        "Juan Manuel Santos",
        "Federico Martinez y Santiago Avendaño",
        "Estefania Miguel",
        "Sofia Martin",
        "Ariel Farkas",
        "Alfonso de la Guarda Reyes",
        "Federico Brest",
        "Lucía García Itzigsohn",
        "A. Garassino",
        "Miguel Felipe Duarte",
        "Dave Weil",
        "dax",
        "Matias Barriento",
        "Angel J. Lopez",
        "Tomas Zulberti",
        "Valeria Rocha",
        "Juan Carlos Abdala",
        "Johanna Caterina Faliero",
        "D. Nohales",
        "Carlos de la Torre",
        "Leonardo Morales",
        "Martín Miranda",
        "Aylen Bombelli",
        "Hernan Wilkinson",
        "Martin Riva",
        "Tati Al-Chueyr",
        "Daniel Espinoza",
        "Martin Ribelotta",
        "Lucio Delelis",
        "Diego Diez",
        "Ana Laura Almada",
        "Sofía Martin",
        "Juan Pablo Giménez",
        "Martin Elias Costa",
        "N. Demarchi",
        "Gustavo Garcia Craia",
        "Manuel de la Peña",
        "Javier Derderyan",
        "Valentín Spurchisi",
        "Sebastian Bassi",
        "Jose Morales",
        "Celia Cintas",
        "Pablo Cruz Casas",
        "Augusto Coto",
        "Carolina Maristany",
        "Sergio Schvezov",
        "Angel Freire",
        "Laureano Kloss",
        "Alexis Jawtuschenko",
        "L. Torre",
        "Juan Bagnera",
        "Diego Mascialino",
        "Mariano Guerra",
        "Damian Avila",
        "Cecilia Jarne",
        "Ignacio Heredia",
        "Erico Ándrei",
        "Ana Velez Rueda",
        "Maciej Fijalkowski",
        "Ana Almada",
        "Diego G. Cañizares",
        "David Garoz",
        "Alan Runyan",
        "Eduardo Casarero",
        "Juan E. D.",
        "Mariano Reingart",
        "Héctor Sanchez Gonzalo Odiard",
        "Javyer Der Derian",
        "Emanuel Sartor",
        "Franco Mariluis",
        "Alejandro Pereira",
        "Alejandro Garcia",
        "Erico Andrei",
        "Adriana Aiassa",
        "Pablo Alcain",
        "Robert M Lefkowitz",
        "Matias Lang",
        "Fernando Masanori",
        "Matias Bordese",
        "German Bourdin",
        "Alejandro Zamora Fonseca",
        "Angel Lopez",
        "Simon Willison",
        "M. Quiñones",
        "Mário Sérgio",
        "Francisco Capdevila",
        "Carlos Matías de la Torre",
        "Leandro Ucciferri",
        "Marcelo Fernández",
        "Matias Varela",
        "Ángel Medinilla",
        "Jim Fulton",
        "Mariela Osete",
        "Katherine Jenkins",
        "Nahuel Lascano",
        "Diego Ramirez",
        "Franco Nicolas Bellomo",
        "Andrés Snitcofsky",
        "Mariano Lambir",
        "Rodrigo Lugones",
        "Graciela Molina",
        "Ignacio Fiorentino",
        "Federico Gonzalez (FedeG)",
        "Jeannette Torrez",
        "Victoria Martinez de la Cruz",
        "Thiago Avelino",
        "Álvaro Justen",
        "Alexis Ferreyra",
        "Juan Bautista Cabral",
        "Yonatan Romero",
        "Javier Ayres",
        "Pablo Toledo Margalef"
       ],
       "y": {
        "dtype": "int32",
        "shape": [
         175
        ],
        "type": null
       }
      }
     },
     "519e9b192d2d48e2a89e5f1a0bef9e90": {
      "model_module": "bqplot",
      "model_module_version": "^0.5.18",
      "model_name": "LinearScaleModel",
      "state": {
       "_model_module_version": "^0.5.18",
       "_view_module_version": "^0.5.18",
       "stabilized": false
      }
     },
     "523544d3be9a46278afda187e595a401": {
      "model_module": "bqplot",
      "model_module_version": "^0.5.18",
      "model_name": "LinearScaleModel",
      "state": {
       "_model_module_version": "^0.5.18",
       "_view_module_version": "^0.5.18",
       "allow_padding": false,
       "max": 1,
       "min": 0,
       "stabilized": false
      }
     },
     "5378aa3b9ab64f0580bc7d6ee81a7c86": {
      "model_module": "bqplot",
      "model_module_version": "^0.5.18",
      "model_name": "LinearScaleModel",
      "state": {
       "_model_module_version": "^0.5.18",
       "_view_module_version": "^0.5.18",
       "stabilized": false
      }
     },
     "538980f6b55a469fb7747d5200dacc07": {
      "model_module": "@jupyter-widgets/base",
      "model_module_version": "1.2.0",
      "model_name": "LayoutModel",
      "state": {}
     },
     "53dd6639236845628bede5bae445fc63": {
      "model_module": "bqplot",
      "model_module_version": "^0.5.18",
      "model_name": "LinearScaleModel",
      "state": {
       "_model_module_version": "^0.5.18",
       "_view_module_version": "^0.5.18",
       "stabilized": false
      }
     },
     "543b554d3f5747ecaa877b3f557a7bd0": {
      "model_module": "bqplot",
      "model_module_version": "^0.5.18",
      "model_name": "FigureModel",
      "state": {
       "_model_module_version": "^0.5.18",
       "_view_module_version": "^0.5.18",
       "axes": [
        "IPY_MODEL_2f4f5420ade34c038e41b55942d3e5ac",
        "IPY_MODEL_6bfa90c3abe74b9fa84812ceb3541249"
       ],
       "layout": "IPY_MODEL_bddcd32f61a54cac97c7eedb89461857",
       "marks": [
        "IPY_MODEL_29d5dc347dca44f3999cfdae53f37945"
       ],
       "scale_x": "IPY_MODEL_87cd11bf01db4245b7519da4e7133365",
       "scale_y": "IPY_MODEL_6c48a72cd2994519a5df237a0766755c"
      }
     },
     "568c72cb7a9c4944b6c03b1c79f80ffe": {
      "model_module": "@jupyter-widgets/base",
      "model_module_version": "1.2.0",
      "model_name": "LayoutModel",
      "state": {}
     },
     "56b8daf8204d4f2b8963797c68e0cc60": {
      "model_module": "bqplot",
      "model_module_version": "^0.5.18",
      "model_name": "LinearScaleModel",
      "state": {
       "_model_module_version": "^0.5.18",
       "_view_module_version": "^0.5.18",
       "stabilized": false
      }
     },
     "573e101fd7804c2dae3bed2c53d4a074": {
      "model_module": "bqplot",
      "model_module_version": "^0.5.18",
      "model_name": "LinearScaleModel",
      "state": {
       "_model_module_version": "^0.5.18",
       "_view_module_version": "^0.5.18",
       "allow_padding": false,
       "max": 1,
       "min": 0,
       "stabilized": false
      }
     },
     "57a5e9d6b1424b87ba3aa5cf21514425": {
      "model_module": "bqplot",
      "model_module_version": "^0.5.18",
      "model_name": "LinearScaleModel",
      "state": {
       "_model_module_version": "^0.5.18",
       "_view_module_version": "^0.5.18",
       "stabilized": false
      }
     },
     "581457d431b14016b97c63df81cfe2aa": {
      "model_module": "bqplot",
      "model_module_version": "^0.5.18",
      "model_name": "LinearScaleModel",
      "state": {
       "_model_module_version": "^0.5.18",
       "_view_module_version": "^0.5.18",
       "allow_padding": false,
       "max": 1,
       "min": 0,
       "stabilized": false
      }
     },
     "589ee6f233414a118c61adc7da8e5697": {
      "model_module": "@jupyter-widgets/base",
      "model_module_version": "1.2.0",
      "model_name": "LayoutModel",
      "state": {}
     },
     "58a0f52327194445b44632f1bdb734e1": {
      "model_module": "bqplot",
      "model_module_version": "^0.5.18",
      "model_name": "LinearScaleModel",
      "state": {
       "_model_module_version": "^0.5.18",
       "_view_module_version": "^0.5.18",
       "stabilized": false
      }
     },
     "5a7b789f6a32412a84791a40ae0b478d": {
      "model_module": "bqplot",
      "model_module_version": "^0.5.18",
      "model_name": "ToolbarModel",
      "state": {
       "_model_module_version": "^0.5.18",
       "_view_module_version": "^0.5.18",
       "figure": "IPY_MODEL_dfb3c8a116904187911c1cf917bcf276",
       "layout": "IPY_MODEL_ca76f489ad5a41bcba92ec714e6de665"
      }
     },
     "5bfd448a48c44710a444e8fc96505138": {
      "model_module": "bqplot",
      "model_module_version": "^0.5.18",
      "model_name": "AxisModel",
      "state": {
       "_model_module_version": "^0.5.18",
       "_view_module_version": "^0.5.18",
       "orientation": "vertical",
       "scale": "IPY_MODEL_e17252e994c64957bdb3d7e108fa3413",
       "side": "left",
       "tick_values": null
      }
     },
     "5c0ed778d29c4e2e9c5edd5b04be8cc5": {
      "model_module": "bqplot",
      "model_module_version": "^0.5.18",
      "model_name": "LinearScaleModel",
      "state": {
       "_model_module_version": "^0.5.18",
       "_view_module_version": "^0.5.18",
       "stabilized": false
      }
     },
     "5c11f99877da4d2889b517faf4432a68": {
      "model_module": "bqplot",
      "model_module_version": "^0.5.18",
      "model_name": "AxisModel",
      "state": {
       "_model_module_version": "^0.5.18",
       "_view_module_version": "^0.5.18",
       "scale": "IPY_MODEL_56b8daf8204d4f2b8963797c68e0cc60",
       "side": "bottom",
       "tick_values": null
      }
     },
     "5c6894aa89a04905afb38aa2c3f98e16": {
      "model_module": "bqplot",
      "model_module_version": "^0.5.18",
      "model_name": "AxisModel",
      "state": {
       "_model_module_version": "^0.5.18",
       "_view_module_version": "^0.5.18",
       "orientation": "vertical",
       "scale": "IPY_MODEL_d45c043c9ac84a4b889ea6169359b325",
       "side": "left",
       "tick_values": null
      }
     },
     "5cee6dbd936845b7b87d9cab1969859e": {
      "model_module": "@jupyter-widgets/controls",
      "model_module_version": "1.5.0",
      "model_name": "VBoxModel",
      "state": {
       "children": [
        "IPY_MODEL_95f3b138af8143ec86a5a9274e37f991",
        "IPY_MODEL_80417e7a08ad465cacb22f9fa0eeebc2"
       ],
       "layout": "IPY_MODEL_f7c2c26cdb3a454bbc6a4527feb29087"
      }
     },
     "5d95232c96fd46e9ac4f69ce6db70cd4": {
      "model_module": "@jupyter-widgets/base",
      "model_module_version": "1.2.0",
      "model_name": "LayoutModel",
      "state": {}
     },
     "5ddcc86b88da4e3fad1a5cb1d7f85487": {
      "model_module": "@jupyter-widgets/base",
      "model_module_version": "1.2.0",
      "model_name": "LayoutModel",
      "state": {}
     },
     "5e3125d8ecf944e68e8831bbad486677": {
      "model_module": "@jupyter-widgets/base",
      "model_module_version": "1.2.0",
      "model_name": "LayoutModel",
      "state": {}
     },
     "5ed4f7a5dab444f08c2e5d123633b074": {
      "model_module": "bqplot",
      "model_module_version": "^0.5.18",
      "model_name": "FigureModel",
      "state": {
       "_model_module_version": "^0.5.18",
       "_view_module_version": "^0.5.18",
       "axes": [
        "IPY_MODEL_3e7b7d8c015c478c865961f4187632bd",
        "IPY_MODEL_6b620ec999a84526921cdd89f1769357"
       ],
       "layout": "IPY_MODEL_df14377b8757472184382d163a59ba89",
       "marks": [
        "IPY_MODEL_fc99daa313094d5784e6f4df47234f05"
       ],
       "scale_x": "IPY_MODEL_dd1b5a6da41e40d899cf14dc9c30c058",
       "scale_y": "IPY_MODEL_171eee08ebe04f0bb066b9b931c568fc"
      }
     },
     "5fe26208d7fb423186ae03302671623d": {
      "buffers": [
       {
        "data": "AAAAAAEAAAACAAAAAwAAAAQAAAAFAAAABgAAAAcAAAAIAAAACQAAAAoAAAALAAAADAAAAA0AAAAOAAAADwAAABAAAAARAAAAEgAAABMAAAAUAAAAFQAAABYAAAAXAAAAGAAAABkAAAAaAAAAGwAAABwAAAAdAAAAHgAAAB8AAAAgAAAAIQAAACIAAAAjAAAAJAAAACUAAAAmAAAAJwAAACgAAAApAAAAKgAAACsAAAAsAAAALQAAAC4AAAAvAAAAMAAAADEAAAAyAAAAMwAAADQAAAA1AAAANgAAADcAAAA4AAAAOQAAADoAAAA7AAAAPAAAAD0AAAA+AAAAPwAAAEAAAABBAAAAQgAAAEMAAABEAAAARQAAAEYAAABHAAAASAAAAEkAAABKAAAASwAAAEwAAABNAAAATgAAAE8AAABQAAAAUQAAAFIAAABTAAAAVAAAAFUAAABWAAAAVwAAAFgAAABZAAAAWgAAAFsAAABcAAAAXQAAAF4AAABfAAAAYAAAAGEAAABiAAAAYwAAAGQAAABlAAAAZgAAAGcAAABoAAAAaQAAAGoAAABrAAAAbAAAAG0AAABuAAAAbwAAAHAAAABxAAAAcgAAAHMAAAB0AAAAdQAAAHYAAAB3AAAAeAAAAHkAAAB6AAAAewAAAHwAAAB9AAAAfgAAAH8AAACAAAAAgQAAAIIAAACDAAAAhAAAAIUAAACGAAAAhwAAAIgAAACJAAAAigAAAIsAAACMAAAAjQAAAI4AAACPAAAAkAAAAJEAAACSAAAAkwAAAJQAAACVAAAAlgAAAJcAAACYAAAAmQAAAJoAAACbAAAAnAAAAJ0AAACeAAAAnwAAAKAAAAChAAAAogAAAKMAAACkAAAApQAAAKYAAACnAAAAqAAAAKkAAACqAAAAqwAAAKwAAACtAAAArgAAAA==",
        "encoding": "base64",
        "path": [
         "x",
         "value"
        ]
       },
       {
        "data": "HwAAAAcAAAAFAAAABQAAAAUAAAAEAAAABAAAAAMAAAADAAAAAwAAAAMAAAADAAAAAwAAAAMAAAACAAAAAgAAAAIAAAACAAAAAgAAAAIAAAACAAAAAgAAAAIAAAACAAAAAgAAAAIAAAACAAAAAgAAAAIAAAACAAAAAgAAAAIAAAACAAAAAgAAAAIAAAACAAAAAgAAAAEAAAABAAAAAQAAAAEAAAABAAAAAQAAAAEAAAABAAAAAQAAAAEAAAABAAAAAQAAAAEAAAABAAAAAQAAAAEAAAABAAAAAQAAAAEAAAABAAAAAQAAAAEAAAABAAAAAQAAAAEAAAABAAAAAQAAAAEAAAABAAAAAQAAAAEAAAABAAAAAQAAAAEAAAABAAAAAQAAAAEAAAABAAAAAQAAAAEAAAABAAAAAQAAAAEAAAABAAAAAQAAAAEAAAABAAAAAQAAAAEAAAABAAAAAQAAAAEAAAABAAAAAQAAAAEAAAABAAAAAQAAAAEAAAABAAAAAQAAAAEAAAABAAAAAQAAAAEAAAABAAAAAQAAAAEAAAABAAAAAQAAAAEAAAABAAAAAQAAAAEAAAABAAAAAQAAAAEAAAABAAAAAQAAAAEAAAABAAAAAQAAAAEAAAABAAAAAQAAAAEAAAABAAAAAQAAAAEAAAABAAAAAQAAAAEAAAABAAAAAQAAAAEAAAABAAAAAQAAAAEAAAABAAAAAQAAAAEAAAABAAAAAQAAAAEAAAABAAAAAQAAAAEAAAABAAAAAQAAAAEAAAABAAAAAQAAAAEAAAABAAAAAQAAAAEAAAABAAAAAQAAAAEAAAABAAAAAQAAAAEAAAABAAAAAQAAAAEAAAABAAAAAQAAAAEAAAABAAAAAQAAAAEAAAABAAAAAQAAAAEAAAABAAAAAQAAAAEAAAABAAAAAQAAAA==",
        "encoding": "base64",
        "path": [
         "y",
         "value"
        ]
       }
      ],
      "model_module": "bqplot",
      "model_module_version": "^0.5.18",
      "model_name": "LinesModel",
      "state": {
       "_model_module_version": "^0.5.18",
       "_view_module_version": "^0.5.18",
       "fill_colors": [],
       "labels": [
        "C1"
       ],
       "scales": {
        "x": "IPY_MODEL_2a944ac647684872bc7fa22c4687c44d",
        "y": "IPY_MODEL_2f15896a9e124b9fb214f31f94c3fe97"
       },
       "x": {
        "dtype": "int32",
        "shape": [
         175
        ],
        "type": null
       },
       "y": {
        "dtype": "int32",
        "shape": [
         175
        ],
        "type": null
       }
      }
     },
     "60ffb3a9344f40a3bb1f063043e7a7bf": {
      "model_module": "bqplot",
      "model_module_version": "^0.5.18",
      "model_name": "LinearScaleModel",
      "state": {
       "_model_module_version": "^0.5.18",
       "_view_module_version": "^0.5.18",
       "allow_padding": false,
       "max": 1,
       "min": 0,
       "stabilized": false
      }
     },
     "61bb2be06b6649568d3198f3d5c55d81": {
      "model_module": "bqplot",
      "model_module_version": "^0.5.18",
      "model_name": "FigureModel",
      "state": {
       "_model_module_version": "^0.5.18",
       "_view_module_version": "^0.5.18",
       "axes": [
        "IPY_MODEL_23e39d0b88954f57aa175a71c1665291",
        "IPY_MODEL_e03dbbcf68794e41a95615cbd4f1aaed"
       ],
       "layout": "IPY_MODEL_1e69ff7724d848c796fc70640806acb6",
       "marks": [
        "IPY_MODEL_b36b896c64c94e68b19eccd2b1056900"
       ],
       "scale_x": "IPY_MODEL_ac6a844c954c40e5a3506c3f6683dabf",
       "scale_y": "IPY_MODEL_191295e65d394833b694d8b650972efa"
      }
     },
     "629382c1137245eb83b069e2661c2a39": {
      "model_module": "bqplot",
      "model_module_version": "^0.5.18",
      "model_name": "LinearScaleModel",
      "state": {
       "_model_module_version": "^0.5.18",
       "_view_module_version": "^0.5.18",
       "stabilized": false
      }
     },
     "62e6f845241e4da793deebc535529731": {
      "buffers": [
       {
        "data": "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",
        "encoding": "base64",
        "path": [
         "x",
         "value"
        ]
       },
       {
        "data": "OAAAADQAAAAwAAAALgAAAB4AAAAcAAAAHAAAABwAAAAbAAAAGwAAABoAAAAYAAAAFwAAABMAAAARAAAADwAAAA4AAAANAAAADAAAAAwAAAAKAAAACgAAAAkAAAAJAAAACQAAAAgAAAAIAAAABwAAAAcAAAAGAAAABgAAAAUAAAAFAAAABQAAAAUAAAAFAAAABQAAAAUAAAAFAAAABQAAAAQAAAAEAAAABAAAAAQAAAAEAAAABAAAAAQAAAAEAAAABAAAAAQAAAAEAAAABAAAAAQAAAAEAAAABAAAAAQAAAAEAAAAAwAAAAMAAAADAAAAAwAAAAMAAAADAAAAAwAAAAMAAAADAAAAAwAAAAMAAAADAAAAAwAAAAMAAAADAAAAAwAAAAMAAAADAAAAAwAAAAMAAAADAAAAAwAAAAMAAAADAAAAAwAAAAMAAAADAAAAAwAAAAMAAAADAAAAAwAAAAMAAAADAAAAAwAAAAMAAAADAAAAAwAAAAIAAAACAAAAAgAAAAIAAAACAAAAAgAAAAIAAAACAAAAAgAAAAIAAAACAAAAAgAAAAIAAAACAAAAAgAAAAIAAAACAAAAAgAAAAIAAAACAAAAAgAAAAIAAAACAAAAAgAAAAIAAAACAAAAAgAAAAIAAAACAAAAAgAAAAIAAAACAAAAAgAAAAIAAAACAAAAAgAAAAIAAAACAAAAAgAAAAIAAAACAAAAAgAAAAIAAAACAAAAAgAAAAIAAAACAAAAAgAAAAIAAAACAAAAAgAAAAIAAAACAAAAAgAAAAIAAAACAAAAAgAAAAIAAAACAAAAAgAAAAIAAAACAAAAAgAAAAIAAAACAAAAAgAAAAIAAAACAAAAAgAAAAIAAAACAAAAAgAAAAIAAAACAAAAAgAAAAIAAAACAAAAAgAAAAIAAAACAAAAAQAAAAEAAAABAAAAAQAAAAEAAAABAAAAAQAAAAEAAAABAAAAAQAAAAEAAAABAAAAAQAAAAEAAAABAAAAAQAAAAEAAAABAAAAAQAAAAEAAAABAAAAAQAAAAEAAAABAAAAAQAAAAEAAAABAAAAAQAAAAEAAAABAAAAAQAAAAEAAAABAAAAAQAAAAEAAAABAAAAAQAAAAEAAAABAAAAAQAAAAEAAAABAAAAAQAAAAEAAAABAAAAAQAAAAEAAAABAAAAAQAAAAEAAAABAAAAAQAAAAEAAAABAAAAAQAAAAEAAAABAAAAAQAAAAEAAAABAAAAAQAAAAEAAAABAAAAAQAAAAEAAAABAAAAAQAAAAEAAAABAAAAAQAAAAEAAAABAAAAAQAAAAEAAAABAAAAAQAAAAEAAAABAAAAAQAAAAEAAAABAAAAAQAAAAEAAAABAAAAAQAAAAEAAAABAAAAAQAAAAEAAAABAAAAAQAAAAEAAAABAAAAAQAAAAEAAAABAAAAAQAAAAEAAAABAAAAAQAAAAEAAAABAAAAAQAAAAEAAAABAAAAAQAAAAEAAAABAAAAAQAAAAEAAAABAAAAAQAAAAEAAAABAAAAAQAAAAEAAAABAAAAAQAAAAEAAAABAAAAAQAAAAEAAAABAAAAAQAAAAEAAAABAAAAAQAAAAEAAAABAAAAAQAAAAEAAAABAAAAAQAAAAEAAAABAAAAAQAAAAEAAAABAAAAAQAAAAEAAAABAAAAAQAAAAEAAAABAAAAAQAAAAEAAAABAAAAAQAAAAEAAAABAAAAAQAAAAEAAAABAAAAAQAAAAEAAAABAAAAAQAAAAEAAAABAAAAAQAAAAEAAAABAAAAAQAAAAEAAAABAAAAAQAAAAEAAAABAAAAAQAAAAEAAAABAAAAAQAAAAEAAAABAAAAAQAAAAEAAAABAAAAAQAAAAEAAAABAAAAAQAAAAEAAAABAAAAAQAAAAEAAAABAAAAAQAAAAEAAAABAAAAAQAAAAEAAAABAAAAAQAAAAEAAAABAAAAAQAAAAEAAAABAAAAAQAAAAEAAAABAAAAAQAAAAEAAAABAAAAAQAAAAEAAAABAAAAAQAAAAEAAAABAAAAAQAAAAEAAAABAAAAAQAAAAEAAAABAAAAAQAAAAEAAAABAAAAAQAAAAEAAAABAAAAAQAAAAEAAAABAAAAAQAAAAEAAAABAAAAAQAAAAEAAAABAAAAAQAAAAEAAAABAAAAAQAAAAEAAAABAAAAAQAAAAEAAAABAAAAAQAAAAEAAAABAAAAAQAAAAEAAAABAAAAAQAAAAEAAAABAAAAAQAAAAEAAAABAAAAAQAAAAEAAAABAAAAAQAAAAEAAAABAAAAAQAAAAEAAAABAAAAAQAAAAEAAAABAAAAAQAAAAEAAAABAAAAAQAAAAEAAAABAAAAAQAAAAEAAAABAAAAAQAAAAEAAAABAAAAAQAAAAEAAAABAAAAAQAAAAEAAAABAAAAAQAAAAEAAAABAAAAAQAAAAEAAAABAAAAAQAAAAEAAAABAAAAAQAAAAEAAAABAAAAAQAAAAEAAAABAAAAAQAAAAEAAAABAAAAAQAAAAEAAAABAAAAAQAAAAEAAAABAAAAAQAAAAEAAAABAAAAAQAAAAEAAAABAAAAAQAAAAEAAAABAAAAAQAAAAEAAAABAAAAAQAAAAEAAAABAAAAAQAAAAEAAAABAAAAAQAAAAEAAAABAAAAAQAAAAEAAAABAAAAAQAAAAEAAAABAAAAAQAAAAEAAAABAAAAAQAAAAEAAAABAAAAAQAAAAEAAAABAAAAAQAAAAEAAAABAAAAAQAAAAEAAAABAAAAAQAAAAEAAAABAAAAAQAAAAEAAAABAAAAAQAAAAEAAAABAAAAAQAAAAEAAAABAAAAAQAAAAEAAAABAAAAAQAAAAEAAAABAAAAAQAAAAEAAAABAAAAAQAAAAEAAAABAAAAAQAAAAEAAAABAAAAAQAAAAEAAAABAAAAAQAAAAEAAAABAAAAAQAAAAEAAAABAAAAAQAAAAEAAAABAAAAAQAAAAEAAAABAAAAAQAAAAEAAAABAAAAAQAAAAEAAAABAAAAAQAAAAEAAAABAAAAAQAAAAEAAAABAAAAAQAAAAEAAAABAAAAAQAAAAEAAAABAAAAAQAAAAEAAAABAAAAAQAAAAEAAAABAAAAAQAAAAEAAAABAAAAAQAAAAEAAAABAAAAAQAAAAEAAAABAAAAAQAAAAEAAAABAAAAAQAAAAEAAAABAAAAAQAAAAEAAAABAAAAAQAAAAEAAAABAAAAAQAAAAEAAAABAAAAAQAAAAEAAAABAAAAAQAAAAEAAAABAAAAAQAAAAEAAAABAAAAAQAAAAEAAAABAAAAAQAAAAEAAAABAAAAAQAAAAEAAAABAAAAAQAAAAEAAAABAAAAAQAAAAEAAAABAAAAAQAAAAEAAAABAAAAAQAAAAEAAAABAAAAAQAAAAEAAAABAAAAAQAAAAEAAAABAAAAAQAAAAEAAAABAAAAAQAAAAEAAAABAAAAAQAAAAEAAAABAAAAAQAAAAEAAAABAAAAAQAAAAEAAAABAAAAAQAAAAEAAAABAAAAAQAAAAEAAAABAAAAAQAAAAEAAAABAAAAAQAAAAEAAAABAAAAAQAAAAEAAAABAAAAAQAAAAEAAAABAAAAAQAAAAEAAAABAAAAAQAAAAEAAAABAAAAAQAAAAEAAAABAAAAAQAAAAEAAAABAAAAAQAAAAEAAAABAAAAAQAAAAEAAAABAAAAAQAAAAEAAAABAAAAAQAAAAEAAAABAAAAAQAAAAEAAAABAAAAAQAAAAEAAAABAAAAAQAAAAEAAAABAAAAAQAAAAEAAAA=",
        "encoding": "base64",
        "path": [
         "y",
         "value"
        ]
       }
      ],
      "model_module": "bqplot",
      "model_module_version": "^0.5.18",
      "model_name": "ScatterModel",
      "state": {
       "_model_module_version": "^0.5.18",
       "_view_module_version": "^0.5.18",
       "colors": [
        "dodgerblue"
       ],
       "default_opacities": {
        "dtype": "float64",
        "shape": [
         1
        ],
        "type": null,
        "value": {}
       },
       "label_display_horizontal_offset": 0,
       "label_display_vertical_offset": 0,
       "names": null,
       "scales": {
        "x": "IPY_MODEL_bc64c9f4263b44158949732e5c769449",
        "y": "IPY_MODEL_57a5e9d6b1424b87ba3aa5cf21514425"
       },
       "scales_metadata": {
        "color": {
         "dimension": "color"
        },
        "opacity": {
         "dimension": "opacity"
        },
        "rotation": {
         "dimension": "rotation"
        },
        "size": {
         "dimension": "size"
        },
        "skew": {
         "dimension": "skew"
        },
        "x": {
         "dimension": "x",
         "orientation": "horizontal"
        },
        "y": {
         "dimension": "y",
         "orientation": "vertical"
        }
       },
       "stroke": "black",
       "tooltip": "IPY_MODEL_d9d164a995b64953bf1ce290bfeb45e1",
       "unhovered_style": {
        "opacity": 0.5
       },
       "x": {
        "dtype": "int32",
        "shape": [
         716
        ],
        "type": null
       },
       "y": {
        "dtype": "int32",
        "shape": [
         716
        ],
        "type": null
       }
      }
     },
     "63b93d57eb9d43ebbf3ce2579e614701": {
      "model_module": "@jupyter-widgets/controls",
      "model_module_version": "1.5.0",
      "model_name": "VBoxModel",
      "state": {
       "children": [
        "IPY_MODEL_474196cd991b488cb8e501b7ce895e1c",
        "IPY_MODEL_3f07209aa1db44c8b02693a6c3922f77"
       ],
       "layout": "IPY_MODEL_9e5e8d1c70a64c298b24c642e7a61d69"
      }
     },
     "63c9f3d47e774bd7b35c0f6b19f54577": {
      "model_module": "bqplot",
      "model_module_version": "^0.5.18",
      "model_name": "ToolbarModel",
      "state": {
       "_model_module_version": "^0.5.18",
       "_view_module_version": "^0.5.18",
       "figure": "IPY_MODEL_28e43afe41a248aea319bcda695e368f",
       "layout": "IPY_MODEL_aed08846c8d5466890bacccc82941785"
      }
     },
     "63fc4d880e9c472da9b0a81d693bac1c": {
      "buffers": [
       {
        "data": "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",
        "encoding": "base64",
        "path": [
         "x",
         "value"
        ]
       },
       {
        "data": "OAAAADQAAAAwAAAALgAAAB4AAAAcAAAAHAAAABwAAAAbAAAAGwAAABoAAAAYAAAAFwAAABMAAAARAAAADwAAAA4AAAANAAAADAAAAAwAAAAKAAAACgAAAAkAAAAJAAAACQAAAAgAAAAIAAAABwAAAAcAAAAGAAAABgAAAAUAAAAFAAAABQAAAAUAAAAFAAAABQAAAAUAAAAFAAAABQAAAAQAAAAEAAAABAAAAAQAAAAEAAAABAAAAAQAAAAEAAAABAAAAAQAAAAEAAAABAAAAAQAAAAEAAAABAAAAAQAAAAEAAAAAwAAAAMAAAADAAAAAwAAAAMAAAADAAAAAwAAAAMAAAADAAAAAwAAAAMAAAADAAAAAwAAAAMAAAADAAAAAwAAAAMAAAADAAAAAwAAAAMAAAADAAAAAwAAAAMAAAADAAAAAwAAAAMAAAADAAAAAwAAAAMAAAADAAAAAwAAAAMAAAADAAAAAwAAAAMAAAADAAAAAwAAAAIAAAACAAAAAgAAAAIAAAACAAAAAgAAAAIAAAACAAAAAgAAAAIAAAACAAAAAgAAAAIAAAACAAAAAgAAAAIAAAACAAAAAgAAAAIAAAACAAAAAgAAAAIAAAACAAAAAgAAAAIAAAACAAAAAgAAAAIAAAACAAAAAgAAAAIAAAACAAAAAgAAAAIAAAACAAAAAgAAAAIAAAACAAAAAgAAAAIAAAACAAAAAgAAAAIAAAACAAAAAgAAAAIAAAACAAAAAgAAAAIAAAACAAAAAgAAAAIAAAACAAAAAgAAAAIAAAACAAAAAgAAAAIAAAACAAAAAgAAAAIAAAACAAAAAgAAAAIAAAACAAAAAgAAAAIAAAACAAAAAgAAAAIAAAACAAAAAgAAAAIAAAACAAAAAgAAAAIAAAACAAAAAgAAAAIAAAACAAAAAQAAAAEAAAABAAAAAQAAAAEAAAABAAAAAQAAAAEAAAABAAAAAQAAAAEAAAABAAAAAQAAAAEAAAABAAAAAQAAAAEAAAABAAAAAQAAAAEAAAABAAAAAQAAAAEAAAABAAAAAQAAAAEAAAABAAAAAQAAAAEAAAABAAAAAQAAAAEAAAABAAAAAQAAAAEAAAABAAAAAQAAAAEAAAABAAAAAQAAAAEAAAABAAAAAQAAAAEAAAABAAAAAQAAAAEAAAABAAAAAQAAAAEAAAABAAAAAQAAAAEAAAABAAAAAQAAAAEAAAABAAAAAQAAAAEAAAABAAAAAQAAAAEAAAABAAAAAQAAAAEAAAABAAAAAQAAAAEAAAABAAAAAQAAAAEAAAABAAAAAQAAAAEAAAABAAAAAQAAAAEAAAABAAAAAQAAAAEAAAABAAAAAQAAAAEAAAABAAAAAQAAAAEAAAABAAAAAQAAAAEAAAABAAAAAQAAAAEAAAABAAAAAQAAAAEAAAABAAAAAQAAAAEAAAABAAAAAQAAAAEAAAABAAAAAQAAAAEAAAABAAAAAQAAAAEAAAABAAAAAQAAAAEAAAABAAAAAQAAAAEAAAABAAAAAQAAAAEAAAABAAAAAQAAAAEAAAABAAAAAQAAAAEAAAABAAAAAQAAAAEAAAABAAAAAQAAAAEAAAABAAAAAQAAAAEAAAABAAAAAQAAAAEAAAABAAAAAQAAAAEAAAABAAAAAQAAAAEAAAABAAAAAQAAAAEAAAABAAAAAQAAAAEAAAABAAAAAQAAAAEAAAABAAAAAQAAAAEAAAABAAAAAQAAAAEAAAABAAAAAQAAAAEAAAABAAAAAQAAAAEAAAABAAAAAQAAAAEAAAABAAAAAQAAAAEAAAABAAAAAQAAAAEAAAABAAAAAQAAAAEAAAABAAAAAQAAAAEAAAABAAAAAQAAAAEAAAABAAAAAQAAAAEAAAABAAAAAQAAAAEAAAABAAAAAQAAAAEAAAABAAAAAQAAAAEAAAABAAAAAQAAAAEAAAABAAAAAQAAAAEAAAABAAAAAQAAAAEAAAABAAAAAQAAAAEAAAABAAAAAQAAAAEAAAABAAAAAQAAAAEAAAABAAAAAQAAAAEAAAABAAAAAQAAAAEAAAABAAAAAQAAAAEAAAABAAAAAQAAAAEAAAABAAAAAQAAAAEAAAABAAAAAQAAAAEAAAABAAAAAQAAAAEAAAABAAAAAQAAAAEAAAABAAAAAQAAAAEAAAABAAAAAQAAAAEAAAABAAAAAQAAAAEAAAABAAAAAQAAAAEAAAABAAAAAQAAAAEAAAABAAAAAQAAAAEAAAABAAAAAQAAAAEAAAABAAAAAQAAAAEAAAABAAAAAQAAAAEAAAABAAAAAQAAAAEAAAABAAAAAQAAAAEAAAABAAAAAQAAAAEAAAABAAAAAQAAAAEAAAABAAAAAQAAAAEAAAABAAAAAQAAAAEAAAABAAAAAQAAAAEAAAABAAAAAQAAAAEAAAABAAAAAQAAAAEAAAABAAAAAQAAAAEAAAABAAAAAQAAAAEAAAABAAAAAQAAAAEAAAABAAAAAQAAAAEAAAABAAAAAQAAAAEAAAABAAAAAQAAAAEAAAABAAAAAQAAAAEAAAABAAAAAQAAAAEAAAABAAAAAQAAAAEAAAABAAAAAQAAAAEAAAABAAAAAQAAAAEAAAABAAAAAQAAAAEAAAABAAAAAQAAAAEAAAABAAAAAQAAAAEAAAABAAAAAQAAAAEAAAABAAAAAQAAAAEAAAABAAAAAQAAAAEAAAABAAAAAQAAAAEAAAABAAAAAQAAAAEAAAABAAAAAQAAAAEAAAABAAAAAQAAAAEAAAABAAAAAQAAAAEAAAABAAAAAQAAAAEAAAABAAAAAQAAAAEAAAABAAAAAQAAAAEAAAABAAAAAQAAAAEAAAABAAAAAQAAAAEAAAABAAAAAQAAAAEAAAABAAAAAQAAAAEAAAABAAAAAQAAAAEAAAABAAAAAQAAAAEAAAABAAAAAQAAAAEAAAABAAAAAQAAAAEAAAABAAAAAQAAAAEAAAABAAAAAQAAAAEAAAABAAAAAQAAAAEAAAABAAAAAQAAAAEAAAABAAAAAQAAAAEAAAABAAAAAQAAAAEAAAABAAAAAQAAAAEAAAABAAAAAQAAAAEAAAABAAAAAQAAAAEAAAABAAAAAQAAAAEAAAABAAAAAQAAAAEAAAABAAAAAQAAAAEAAAABAAAAAQAAAAEAAAABAAAAAQAAAAEAAAABAAAAAQAAAAEAAAABAAAAAQAAAAEAAAABAAAAAQAAAAEAAAABAAAAAQAAAAEAAAABAAAAAQAAAAEAAAABAAAAAQAAAAEAAAABAAAAAQAAAAEAAAABAAAAAQAAAAEAAAABAAAAAQAAAAEAAAABAAAAAQAAAAEAAAABAAAAAQAAAAEAAAABAAAAAQAAAAEAAAABAAAAAQAAAAEAAAABAAAAAQAAAAEAAAABAAAAAQAAAAEAAAABAAAAAQAAAAEAAAABAAAAAQAAAAEAAAABAAAAAQAAAAEAAAABAAAAAQAAAAEAAAABAAAAAQAAAAEAAAABAAAAAQAAAAEAAAABAAAAAQAAAAEAAAABAAAAAQAAAAEAAAABAAAAAQAAAAEAAAABAAAAAQAAAAEAAAABAAAAAQAAAAEAAAABAAAAAQAAAAEAAAABAAAAAQAAAAEAAAABAAAAAQAAAAEAAAABAAAAAQAAAAEAAAABAAAAAQAAAAEAAAABAAAAAQAAAAEAAAABAAAAAQAAAAEAAAABAAAAAQAAAAEAAAABAAAAAQAAAAEAAAABAAAAAQAAAAEAAAABAAAAAQAAAAEAAAABAAAAAQAAAAEAAAA=",
        "encoding": "base64",
        "path": [
         "y",
         "value"
        ]
       }
      ],
      "model_module": "bqplot",
      "model_module_version": "^0.5.18",
      "model_name": "ScatterModel",
      "state": {
       "_model_module_version": "^0.5.18",
       "_view_module_version": "^0.5.18",
       "colors": [
        "dodgerblue"
       ],
       "default_opacities": {
        "dtype": "float64",
        "shape": [
         1
        ],
        "type": null,
        "value": {}
       },
       "label_display_horizontal_offset": 0,
       "label_display_vertical_offset": 0,
       "names": null,
       "scales": {
        "x": "IPY_MODEL_7b827002acc7407dbebb687a50079e69",
        "y": "IPY_MODEL_5c0ed778d29c4e2e9c5edd5b04be8cc5"
       },
       "scales_metadata": {
        "color": {
         "dimension": "color"
        },
        "opacity": {
         "dimension": "opacity"
        },
        "rotation": {
         "dimension": "rotation"
        },
        "size": {
         "dimension": "size"
        },
        "skew": {
         "dimension": "skew"
        },
        "x": {
         "dimension": "x",
         "orientation": "horizontal"
        },
        "y": {
         "dimension": "y",
         "orientation": "vertical"
        }
       },
       "stroke": "black",
       "tooltip": "IPY_MODEL_231c3bcfcaff4bce9bc159ac94091ded",
       "unhovered_style": {
        "opacity": 0.5
       },
       "x": {
        "dtype": "int32",
        "shape": [
         716
        ],
        "type": null
       },
       "y": {
        "dtype": "int32",
        "shape": [
         716
        ],
        "type": null
       }
      }
     },
     "656089ce1a3d4f2cba768c1f7df795e2": {
      "model_module": "@jupyter-widgets/base",
      "model_module_version": "1.2.0",
      "model_name": "LayoutModel",
      "state": {}
     },
     "65f6c000ceb34185a52ef7e0c0897091": {
      "model_module": "bqplot",
      "model_module_version": "^0.5.18",
      "model_name": "AxisModel",
      "state": {
       "_model_module_version": "^0.5.18",
       "_view_module_version": "^0.5.18",
       "scale": "IPY_MODEL_50bf117bb3754216bbe7aebde712dc57",
       "side": "bottom",
       "tick_values": null
      }
     },
     "6614dbd3c82c4f77aff943d71de8c93e": {
      "model_module": "bqplot",
      "model_module_version": "^0.5.18",
      "model_name": "LinearScaleModel",
      "state": {
       "_model_module_version": "^0.5.18",
       "_view_module_version": "^0.5.18",
       "allow_padding": false,
       "max": 1,
       "min": 0,
       "stabilized": false
      }
     },
     "664ef9aecb2e40cba1fb8a514ca78af7": {
      "model_module": "bqplot",
      "model_module_version": "^0.5.18",
      "model_name": "ToolbarModel",
      "state": {
       "_model_module_version": "^0.5.18",
       "_view_module_version": "^0.5.18",
       "figure": "IPY_MODEL_5ed4f7a5dab444f08c2e5d123633b074",
       "layout": "IPY_MODEL_c51ebd994de5490b8d436809ddfc731c"
      }
     },
     "66fa88b2fea74766bbf3e2cf2672ce6d": {
      "model_module": "bqplot",
      "model_module_version": "^0.5.18",
      "model_name": "AxisModel",
      "state": {
       "_model_module_version": "^0.5.18",
       "_view_module_version": "^0.5.18",
       "scale": "IPY_MODEL_bcd19dabc20045d2b2238e7e601be58c",
       "side": "bottom",
       "tick_values": null
      }
     },
     "66fac80b65364d81942dffceb0efc0d9": {
      "model_module": "bqplot",
      "model_module_version": "^0.5.18",
      "model_name": "TooltipModel",
      "state": {
       "_model_module_version": "^0.5.18",
       "_view_module_version": "^0.5.18",
       "fields": [
        "x",
        "y",
        "name"
       ],
       "formats": [
        "",
        ".2f",
        ""
       ],
       "layout": "IPY_MODEL_8a1136ab1995444086575f3be5971f8a"
      }
     },
     "66fde3f9f2464deebf681c9d055bddb6": {
      "model_module": "@jupyter-widgets/controls",
      "model_module_version": "1.5.0",
      "model_name": "VBoxModel",
      "state": {
       "children": [
        "IPY_MODEL_87a57f069a0247b392e8533389288c8f",
        "IPY_MODEL_f9c96e278c814976aa09f86ba2524639"
       ],
       "layout": "IPY_MODEL_0818b2d78011430db3c6c53b15ac8a08"
      }
     },
     "68872f96cd1742109afa8aa058d698c8": {
      "model_module": "@jupyter-widgets/controls",
      "model_module_version": "1.5.0",
      "model_name": "VBoxModel",
      "state": {
       "children": [
        "IPY_MODEL_42c04a830cf442ecaa5b1f31e8c45ad0",
        "IPY_MODEL_986929eb1586461da540a011dda0efea"
       ],
       "layout": "IPY_MODEL_5e3125d8ecf944e68e8831bbad486677"
      }
     },
     "689e981cebe64abf97c6fbf71d670b46": {
      "model_module": "@jupyter-widgets/base",
      "model_module_version": "1.2.0",
      "model_name": "LayoutModel",
      "state": {}
     },
     "68e5e41054874e17816cd3e51790fd89": {
      "model_module": "@jupyter-widgets/base",
      "model_module_version": "1.2.0",
      "model_name": "LayoutModel",
      "state": {}
     },
     "68e9830de15042bd87bc33c8ffa129fd": {
      "model_module": "bqplot",
      "model_module_version": "^0.5.18",
      "model_name": "LinearScaleModel",
      "state": {
       "_model_module_version": "^0.5.18",
       "_view_module_version": "^0.5.18",
       "stabilized": false
      }
     },
     "6951721f3657455a897ca246360aebf2": {
      "model_module": "bqplot",
      "model_module_version": "^0.5.18",
      "model_name": "FigureModel",
      "state": {
       "_model_module_version": "^0.5.18",
       "_view_module_version": "^0.5.18",
       "axes": [
        "IPY_MODEL_886ac1a21c954cd88a73d0a58ecc4ef2",
        "IPY_MODEL_c77f77b97acf4f8ca0e017c92e9d291f"
       ],
       "layout": "IPY_MODEL_a8973a22560f4305b88c5f733fa2eff5",
       "marks": [
        "IPY_MODEL_a088121fef234d3e9bbbbe176175770c",
        "IPY_MODEL_236d7c2a58da4d338b3bcb29e96bbf8b"
       ],
       "scale_x": "IPY_MODEL_a0edc0683843438fac4d0c0720328b09",
       "scale_y": "IPY_MODEL_e0075863d1644303b0b38b883737c4aa"
      }
     },
     "6a347afd631c4789a7e6fb02c0da00f3": {
      "buffers": [
       {
        "data": "HwAAAAcAAAAFAAAABQAAAAUAAAAEAAAABAAAAAMAAAADAAAAAwAAAAMAAAADAAAAAwAAAAMAAAACAAAAAgAAAAIAAAACAAAAAgAAAAIAAAACAAAAAgAAAAIAAAACAAAAAgAAAAIAAAACAAAAAgAAAAIAAAACAAAAAgAAAAIAAAACAAAAAgAAAAIAAAACAAAAAgAAAA==",
        "encoding": "base64",
        "path": [
         "y",
         "value"
        ]
       }
      ],
      "model_module": "bqplot",
      "model_module_version": "^0.5.18",
      "model_name": "BarsModel",
      "state": {
       "_model_module_version": "^0.5.18",
       "_view_module_version": "^0.5.18",
       "label_font_style": {},
       "orientation": "horizontal",
       "scales": {
        "x": "IPY_MODEL_7aac37f6a0d141b4b7034b0adc4243aa",
        "y": "IPY_MODEL_252ae3e79b194e95bfe2177031613d13"
       },
       "scales_metadata": {
        "x": {
         "dimension": "x",
         "orientation": "vertical"
        },
        "y": {
         "dimension": "y",
         "orientation": "horizontal"
        }
       },
       "x": [
        "Various speakers",
        "Facundo Batista",
        "Juan Pedro Fisanotti",
        "Roberto Alsina",
        "Claudio Freire",
        "Damián Avila",
        "Hugo Ruscitti",
        "Alejandro J. Cura",
        "Various Speakers",
        "Diego Sarmentero",
        "Natalia Bidart",
        "Martin Alderete",
        "Rafael Carrascosa",
        "Gabriel Genellina",
        "Ricardo Kirkner",
        "Martín Gaitán",
        "Alejandro Cura",
        "Manuel Quiñones",
        "Diego Cañizares",
        "Massimo Di Pierro",
        "Craig Kerstiens",
        "Luciano Rossi",
        "Ariel Rossanigo",
        "Andrea Gavana",
        "Nicolás Demarchi",
        "Felipe Lerena",
        "Daniel F. Moisset",
        "Matías Bordese",
        "Berenice Larsen Pereyra",
        "Brett Cannon",
        "Javier Mansilla",
        "Sebastián Marró",
        "Emiliano Dalla Verde Marcozzi",
        "Manuel Kaufmann",
        "Sofía Denner",
        "Pedro Ignacio Guridi",
        "Christophe Pettus"
       ],
       "y": {
        "dtype": "int32",
        "shape": [
         37
        ],
        "type": null
       }
      }
     },
     "6a468d53a0f44a50acc06a3bcbb18d3b": {
      "model_module": "bqplot",
      "model_module_version": "^0.5.18",
      "model_name": "LinearScaleModel",
      "state": {
       "_model_module_version": "^0.5.18",
       "_view_module_version": "^0.5.18",
       "allow_padding": false,
       "max": 1,
       "min": 0,
       "stabilized": false
      }
     },
     "6a6435ae694443dfb30f9a6531073f38": {
      "model_module": "bqplot",
      "model_module_version": "^0.5.18",
      "model_name": "FigureModel",
      "state": {
       "_model_module_version": "^0.5.18",
       "_view_module_version": "^0.5.18",
       "layout": "IPY_MODEL_be747da23a8e4b9691b091b02ac4d329",
       "scale_x": "IPY_MODEL_506d21f27f2641ecbdd55e3faf2cf410",
       "scale_y": "IPY_MODEL_48fa36efa8ca4d4da1dc4b7e15e19d42"
      }
     },
     "6a7cd01bd9e64020b19faeaee7c56264": {
      "model_module": "bqplot",
      "model_module_version": "^0.5.18",
      "model_name": "LinearScaleModel",
      "state": {
       "_model_module_version": "^0.5.18",
       "_view_module_version": "^0.5.18",
       "stabilized": false
      }
     },
     "6ab91f2746d0450f98a5a1d963df039c": {
      "buffers": [
       {
        "data": "3AcAAOIHAADgBwAA3QcAANsHAADeBwAA3wcAAA==",
        "encoding": "base64",
        "path": [
         "x",
         "value"
        ]
       },
       {
        "data": "SwAAAD0AAAAkAAAAHAAAABoAAAAKAAAAAQAAAA==",
        "encoding": "base64",
        "path": [
         "y",
         "value"
        ]
       }
      ],
      "model_module": "bqplot",
      "model_module_version": "^0.5.18",
      "model_name": "ScatterModel",
      "state": {
       "_model_module_version": "^0.5.18",
       "_view_module_version": "^0.5.18",
       "default_opacities": {
        "dtype": "float64",
        "shape": [
         1
        ],
        "type": null,
        "value": {}
       },
       "label_display_horizontal_offset": 0,
       "label_display_vertical_offset": 0,
       "names": null,
       "scales": {
        "x": "IPY_MODEL_b4e28c1f0a914c348768ca694c27de95",
        "y": "IPY_MODEL_629382c1137245eb83b069e2661c2a39"
       },
       "scales_metadata": {
        "color": {
         "dimension": "color"
        },
        "opacity": {
         "dimension": "opacity"
        },
        "rotation": {
         "dimension": "rotation"
        },
        "size": {
         "dimension": "size"
        },
        "skew": {
         "dimension": "skew"
        },
        "x": {
         "dimension": "x",
         "orientation": "horizontal"
        },
        "y": {
         "dimension": "y",
         "orientation": "vertical"
        }
       },
       "x": {
        "dtype": "int32",
        "shape": [
         7
        ],
        "type": null
       },
       "y": {
        "dtype": "int32",
        "shape": [
         7
        ],
        "type": null
       }
      }
     },
     "6ab929be96b14947924a2eed4e59d945": {
      "model_module": "bqplot",
      "model_module_version": "^0.5.18",
      "model_name": "LinearScaleModel",
      "state": {
       "_model_module_version": "^0.5.18",
       "_view_module_version": "^0.5.18",
       "allow_padding": false,
       "max": 1,
       "min": 0,
       "stabilized": false
      }
     },
     "6ad4832451da4263b223fc52da93e4ef": {
      "model_module": "bqplot",
      "model_module_version": "^0.5.18",
      "model_name": "AxisModel",
      "state": {
       "_model_module_version": "^0.5.18",
       "_view_module_version": "^0.5.18",
       "scale": "IPY_MODEL_68e9830de15042bd87bc33c8ffa129fd",
       "side": "bottom",
       "tick_values": null
      }
     },
     "6b0e7ffc49244d5eb9ebe64949de6a1b": {
      "model_module": "@jupyter-widgets/base",
      "model_module_version": "1.2.0",
      "model_name": "LayoutModel",
      "state": {}
     },
     "6b620ec999a84526921cdd89f1769357": {
      "model_module": "bqplot",
      "model_module_version": "^0.5.18",
      "model_name": "AxisModel",
      "state": {
       "_model_module_version": "^0.5.18",
       "_view_module_version": "^0.5.18",
       "orientation": "vertical",
       "scale": "IPY_MODEL_f0f97ed7663c43f898d444fc303d0ad4",
       "side": "left",
       "tick_values": null
      }
     },
     "6b8579de47004caaa9da87c79e1be9e6": {
      "model_module": "@jupyter-widgets/base",
      "model_module_version": "1.2.0",
      "model_name": "LayoutModel",
      "state": {}
     },
     "6bf09a1f09c146279bd433bea4ca084e": {
      "model_module": "@jupyter-widgets/base",
      "model_module_version": "1.2.0",
      "model_name": "LayoutModel",
      "state": {}
     },
     "6bfa90c3abe74b9fa84812ceb3541249": {
      "model_module": "bqplot",
      "model_module_version": "^0.5.18",
      "model_name": "AxisModel",
      "state": {
       "_model_module_version": "^0.5.18",
       "_view_module_version": "^0.5.18",
       "orientation": "vertical",
       "scale": "IPY_MODEL_14e7be7643254b31b3ed58a8e1fdd91d",
       "side": "left",
       "tick_values": null
      }
     },
     "6c48a72cd2994519a5df237a0766755c": {
      "model_module": "bqplot",
      "model_module_version": "^0.5.18",
      "model_name": "LinearScaleModel",
      "state": {
       "_model_module_version": "^0.5.18",
       "_view_module_version": "^0.5.18",
       "allow_padding": false,
       "max": 1,
       "min": 0,
       "stabilized": false
      }
     },
     "6c694b17049d46ea95b3bc3ec3abb092": {
      "model_module": "bqplot",
      "model_module_version": "^0.5.18",
      "model_name": "LinearScaleModel",
      "state": {
       "_model_module_version": "^0.5.18",
       "_view_module_version": "^0.5.18",
       "allow_padding": false,
       "max": 1,
       "min": 0,
       "stabilized": false
      }
     },
     "6e8b10ac9a984136b2cfe271323c2d8a": {
      "model_module": "bqplot",
      "model_module_version": "^0.5.18",
      "model_name": "LinearScaleModel",
      "state": {
       "_model_module_version": "^0.5.18",
       "_view_module_version": "^0.5.18",
       "stabilized": false
      }
     },
     "6ecf70db993c48c49e864dad3078339b": {
      "model_module": "@jupyter-widgets/base",
      "model_module_version": "1.2.0",
      "model_name": "LayoutModel",
      "state": {}
     },
     "6f4763475e224af3b64c42a549f82b46": {
      "model_module": "bqplot",
      "model_module_version": "^0.5.18",
      "model_name": "LinearScaleModel",
      "state": {
       "_model_module_version": "^0.5.18",
       "_view_module_version": "^0.5.18",
       "allow_padding": false,
       "max": 1,
       "min": 0,
       "stabilized": false
      }
     },
     "6fa0ea3bfebb4d2f8ce65d47a2c9987e": {
      "model_module": "@jupyter-widgets/base",
      "model_module_version": "1.2.0",
      "model_name": "LayoutModel",
      "state": {}
     },
     "6fa7e645415146548853750ce24b4034": {
      "model_module": "bqplot",
      "model_module_version": "^0.5.18",
      "model_name": "FigureModel",
      "state": {
       "_model_module_version": "^0.5.18",
       "_view_module_version": "^0.5.18",
       "axes": [
        "IPY_MODEL_0f5e6a083560418f9fcc94b97ec080c8",
        "IPY_MODEL_c2cfd83c9e5c4cd8a7e7295bc1a2c033"
       ],
       "layout": "IPY_MODEL_aa468c20b6494cb7b1216ad52f4aa6c8",
       "marks": [
        "IPY_MODEL_0fe4325663ca4225a3790a2c0f3c6bc4"
       ],
       "scale_x": "IPY_MODEL_17721899fc35406d8abe9da8c72d9823",
       "scale_y": "IPY_MODEL_b83730d50f5b432b831d7b5afeed19b1"
      }
     },
     "6fa8be083cac4e13bd39e4a5cc60e724": {
      "model_module": "bqplot",
      "model_module_version": "^0.5.18",
      "model_name": "TooltipModel",
      "state": {
       "_model_module_version": "^0.5.18",
       "_view_module_version": "^0.5.18",
       "fields": [
        "x",
        "y"
       ],
       "formats": [
        "",
        ".2f"
       ],
       "layout": "IPY_MODEL_8b2a6a4a2fa94ca38026ade8c7ad4cf8"
      }
     },
     "6fb5978195c44d48bbb3badb5ad6fd0e": {
      "model_module": "bqplot",
      "model_module_version": "^0.5.18",
      "model_name": "ToolbarModel",
      "state": {
       "_model_module_version": "^0.5.18",
       "_view_module_version": "^0.5.18",
       "figure": "IPY_MODEL_7d3fd1d80d5048b7abe8e3f2a1a26edd",
       "layout": "IPY_MODEL_c1eb9ce16e9547d5bcb2fb9c08d369b0"
      }
     },
     "6fd9116ba6a44b61b5dfe35ea4f94b09": {
      "model_module": "bqplot",
      "model_module_version": "^0.5.18",
      "model_name": "AxisModel",
      "state": {
       "_model_module_version": "^0.5.18",
       "_view_module_version": "^0.5.18",
       "scale": "IPY_MODEL_f8dc9081cb3743bd88192a85ef5853dd",
       "side": "bottom",
       "tick_values": null
      }
     },
     "6feaa25428d746089f882872bb1bba29": {
      "buffers": [
       {
        "data": "BwAAAAUAAAAFAAAABQAAAAQAAAAEAAAAAwAAAAMAAAADAAAAAwAAAAMAAAADAAAAAwAAAAIAAAACAAAAAgAAAAIAAAACAAAAAgAAAAIAAAACAAAAAgAAAAIAAAACAAAAAgAAAAIAAAACAAAAAgAAAAIAAAACAAAAAgAAAAIAAAACAAAAAgAAAAIAAAACAAAAAQAAAAEAAAABAAAAAQAAAAEAAAABAAAAAQAAAAEAAAABAAAAAQAAAAEAAAABAAAAAQAAAAEAAAABAAAAAQAAAAEAAAABAAAAAQAAAAEAAAABAAAAAQAAAAEAAAABAAAAAQAAAAEAAAABAAAAAQAAAAEAAAABAAAAAQAAAAEAAAABAAAAAQAAAAEAAAABAAAAAQAAAAEAAAABAAAAAQAAAAEAAAABAAAAAQAAAAEAAAABAAAAAQAAAAEAAAABAAAAAQAAAAEAAAABAAAAAQAAAAEAAAABAAAAAQAAAAEAAAABAAAAAQAAAAEAAAABAAAAAQAAAAEAAAABAAAAAQAAAAEAAAABAAAAAQAAAAEAAAABAAAAAQAAAAEAAAABAAAAAQAAAAEAAAABAAAAAQAAAAEAAAABAAAAAQAAAAEAAAABAAAAAQAAAAEAAAABAAAAAQAAAAEAAAABAAAAAQAAAAEAAAABAAAAAQAAAAEAAAABAAAAAQAAAAEAAAABAAAAAQAAAAEAAAABAAAAAQAAAAEAAAABAAAAAQAAAAEAAAABAAAAAQAAAAEAAAABAAAAAQAAAAEAAAABAAAAAQAAAAEAAAABAAAAAQAAAAEAAAABAAAAAQAAAAEAAAABAAAAAQAAAAEAAAABAAAAAQAAAAEAAAABAAAAAQAAAAEAAAABAAAAAQAAAAEAAAABAAAAAQAAAAEAAAABAAAAAQAAAAEAAAABAAAA",
        "encoding": "base64",
        "path": [
         "y",
         "value"
        ]
       }
      ],
      "model_module": "bqplot",
      "model_module_version": "^0.5.18",
      "model_name": "BarsModel",
      "state": {
       "_model_module_version": "^0.5.18",
       "_view_module_version": "^0.5.18",
       "label_font_style": {},
       "orientation": "horizontal",
       "scales": {
        "x": "IPY_MODEL_e17252e994c64957bdb3d7e108fa3413",
        "y": "IPY_MODEL_a5fa10f8bd95425a938b7ced76b537a7"
       },
       "scales_metadata": {
        "x": {
         "dimension": "x",
         "orientation": "vertical"
        },
        "y": {
         "dimension": "y",
         "orientation": "horizontal"
        }
       },
       "x": [
        "Facundo Batista",
        "Juan Pedro Fisanotti",
        "Roberto Alsina",
        "Claudio Freire",
        "Damián Avila",
        "Hugo Ruscitti",
        "Alejandro J. Cura",
        "Various Speakers",
        "Diego Sarmentero",
        "Natalia Bidart",
        "Martin Alderete",
        "Rafael Carrascosa",
        "Gabriel Genellina",
        "Ricardo Kirkner",
        "Martín Gaitán",
        "Alejandro Cura",
        "Manuel Quiñones",
        "Diego Cañizares",
        "Massimo Di Pierro",
        "Craig Kerstiens",
        "Luciano Rossi",
        "Ariel Rossanigo",
        "Andrea Gavana",
        "Nicolás Demarchi",
        "Felipe Lerena",
        "Daniel F. Moisset",
        "Matías Bordese",
        "Berenice Larsen Pereyra",
        "Brett Cannon",
        "Javier Mansilla",
        "Sebastián Marró",
        "Emiliano Dalla Verde Marcozzi",
        "Manuel Kaufmann",
        "Sofía Denner",
        "Pedro Ignacio Guridi",
        "Christophe Pettus",
        "Ezequiel Gutesman",
        "Brandon Rhodes",
        "Javier Der Derian",
        "Wesley Chun",
        "Luciano Serruya Aloisi",
        "Carol Willing",
        "Cynthia Monastirsky",
        "Vinicius Feitosa Pacheco",
        "María Andrea Vignau",
        "Sebastian Brachi",
        "Martin Volpe",
        "Ramiro Morales",
        "Sebastián Kennedy",
        "Andrés Riancho",
        "Joaquín Sorianello",
        "David Litvak Bruno",
        "Leonardo Lazzaro",
        "Paola Katherine",
        "Nicolas Quiroz",
        "Flor Novidelsky",
        "Fernando Schapachnik",
        "Juan Manuel Schillaci",
        "Silvestre Huens",
        "Joaquin Sorianello",
        "Dino Viehland",
        "Emilio Crudele",
        "Juan Manuel Santos",
        "Federico Martinez y Santiago Avendaño",
        "Estefania Miguel",
        "Sofia Martin",
        "Ariel Farkas",
        "Alfonso de la Guarda Reyes",
        "Federico Brest",
        "Lucía García Itzigsohn",
        "A. Garassino",
        "Miguel Felipe Duarte",
        "Dave Weil",
        "dax",
        "Matias Barriento",
        "Angel J. Lopez",
        "Tomas Zulberti",
        "Valeria Rocha",
        "Juan Carlos Abdala",
        "Johanna Caterina Faliero",
        "D. Nohales",
        "Carlos de la Torre",
        "Leonardo Morales",
        "Martín Miranda",
        "Aylen Bombelli",
        "Hernan Wilkinson",
        "Martin Riva",
        "Tati Al-Chueyr",
        "Daniel Espinoza",
        "Martin Ribelotta",
        "Lucio Delelis",
        "Diego Diez",
        "Ana Laura Almada",
        "Sofía Martin",
        "Juan Pablo Giménez",
        "Martin Elias Costa",
        "N. Demarchi",
        "Gustavo Garcia Craia",
        "Manuel de la Peña",
        "Javier Derderyan",
        "Valentín Spurchisi",
        "Sebastian Bassi",
        "Jose Morales",
        "Celia Cintas",
        "Pablo Cruz Casas",
        "Augusto Coto",
        "Carolina Maristany",
        "Sergio Schvezov",
        "Angel Freire",
        "Laureano Kloss",
        "Alexis Jawtuschenko",
        "L. Torre",
        "Juan Bagnera",
        "Diego Mascialino",
        "Mariano Guerra",
        "Damian Avila",
        "Cecilia Jarne",
        "Ignacio Heredia",
        "Erico Ándrei",
        "Ana Velez Rueda",
        "Maciej Fijalkowski",
        "Ana Almada",
        "Diego G. Cañizares",
        "David Garoz",
        "Alan Runyan",
        "Eduardo Casarero",
        "Juan E. D.",
        "Mariano Reingart",
        "Héctor Sanchez Gonzalo Odiard",
        "Javyer Der Derian",
        "Emanuel Sartor",
        "Franco Mariluis",
        "Alejandro Pereira",
        "Alejandro Garcia",
        "Erico Andrei",
        "Adriana Aiassa",
        "Pablo Alcain",
        "Robert M Lefkowitz",
        "Matias Lang",
        "Fernando Masanori",
        "Matias Bordese",
        "German Bourdin",
        "Alejandro Zamora Fonseca",
        "Angel Lopez",
        "Simon Willison",
        "M. Quiñones",
        "Mário Sérgio",
        "Francisco Capdevila",
        "Carlos Matías de la Torre",
        "Leandro Ucciferri",
        "Marcelo Fernández",
        "Matias Varela",
        "Ángel Medinilla",
        "Jim Fulton",
        "Mariela Osete",
        "Katherine Jenkins",
        "Nahuel Lascano",
        "Diego Ramirez",
        "Franco Nicolas Bellomo",
        "Andrés Snitcofsky",
        "Mariano Lambir",
        "Rodrigo Lugones",
        "Graciela Molina",
        "Ignacio Fiorentino",
        "Federico Gonzalez (FedeG)",
        "Jeannette Torrez",
        "Victoria Martinez de la Cruz",
        "Thiago Avelino",
        "Álvaro Justen",
        "Alexis Ferreyra",
        "Juan Bautista Cabral",
        "Yonatan Romero",
        "Javier Ayres",
        "Pablo Toledo Margalef"
       ],
       "y": {
        "dtype": "int32",
        "shape": [
         174
        ],
        "type": null
       }
      }
     },
     "6ffc010b6c18410ab1c85e30c58eddf9": {
      "model_module": "bqplot",
      "model_module_version": "^0.5.18",
      "model_name": "FigureModel",
      "state": {
       "_model_module_version": "^0.5.18",
       "_view_module_version": "^0.5.18",
       "axes": [
        "IPY_MODEL_cb9c4fd768454f64acc8125f96db6e87",
        "IPY_MODEL_78367b5f10a244f99d7a636219f2abd4"
       ],
       "layout": "IPY_MODEL_36158f619b2049afad9096c8398b6603",
       "marks": [
        "IPY_MODEL_63fc4d880e9c472da9b0a81d693bac1c"
       ],
       "scale_x": "IPY_MODEL_aca25d10b82e4d9ca4afa5f4a755f9e7",
       "scale_y": "IPY_MODEL_a8873b90954c4dce87c1c3b0a38bdcbb"
      }
     },
     "70225fdc30f34147a0b36a29975374e4": {
      "model_module": "@jupyter-widgets/base",
      "model_module_version": "1.2.0",
      "model_name": "LayoutModel",
      "state": {}
     },
     "704e3754e52c4f878b6784d50613382b": {
      "model_module": "@jupyter-widgets/controls",
      "model_module_version": "1.5.0",
      "model_name": "VBoxModel",
      "state": {
       "children": [
        "IPY_MODEL_5ed4f7a5dab444f08c2e5d123633b074",
        "IPY_MODEL_664ef9aecb2e40cba1fb8a514ca78af7"
       ],
       "layout": "IPY_MODEL_1f72ac4645c043beb1ed10842b63162b"
      }
     },
     "705291f453f745e3b0a2e66bb28d189d": {
      "model_module": "@jupyter-widgets/base",
      "model_module_version": "1.2.0",
      "model_name": "LayoutModel",
      "state": {}
     },
     "7057f38341104de093e69f02f6223407": {
      "model_module": "@jupyter-widgets/base",
      "model_module_version": "1.2.0",
      "model_name": "LayoutModel",
      "state": {}
     },
     "71318c0a9c374b60976e0f57f8f07ce8": {
      "model_module": "@jupyter-widgets/base",
      "model_module_version": "1.2.0",
      "model_name": "LayoutModel",
      "state": {}
     },
     "71445f7d303f46cbac0fc04e165ef1d1": {
      "model_module": "@jupyter-widgets/base",
      "model_module_version": "1.2.0",
      "model_name": "LayoutModel",
      "state": {}
     },
     "71ef62f5174a48288ce47fe5efd107e2": {
      "model_module": "bqplot",
      "model_module_version": "^0.5.18",
      "model_name": "LinearScaleModel",
      "state": {
       "_model_module_version": "^0.5.18",
       "_view_module_version": "^0.5.18",
       "stabilized": false
      }
     },
     "721687e95c464b0983ca7525a74a8f70": {
      "model_module": "bqplot",
      "model_module_version": "^0.5.18",
      "model_name": "LinearScaleModel",
      "state": {
       "_model_module_version": "^0.5.18",
       "_view_module_version": "^0.5.18",
       "allow_padding": false,
       "max": 1,
       "min": 0,
       "stabilized": false
      }
     },
     "74c623bb620e4e5ca06eef9148021d6d": {
      "model_module": "@jupyter-widgets/base",
      "model_module_version": "1.2.0",
      "model_name": "LayoutModel",
      "state": {}
     },
     "7501c72ec9884932b9ec4d88b5b3c2f0": {
      "model_module": "@jupyter-widgets/base",
      "model_module_version": "1.2.0",
      "model_name": "LayoutModel",
      "state": {}
     },
     "7555126c68b74b97afc8b9ce2a64afd1": {
      "model_module": "bqplot",
      "model_module_version": "^0.5.18",
      "model_name": "FigureModel",
      "state": {
       "_model_module_version": "^0.5.18",
       "_view_module_version": "^0.5.18",
       "layout": "IPY_MODEL_eee53170c59844529542e4790146c71a",
       "scale_x": "IPY_MODEL_4564d3fefa09433d8b3c92ebe7005933",
       "scale_y": "IPY_MODEL_02e7426a766b4d4083c8574325071da1"
      }
     },
     "76d06ec3ad6a4c018b925c53dd7bb594": {
      "model_module": "@jupyter-widgets/base",
      "model_module_version": "1.2.0",
      "model_name": "LayoutModel",
      "state": {}
     },
     "76d29f61becc4aa88871bf548199507d": {
      "model_module": "bqplot",
      "model_module_version": "^0.5.18",
      "model_name": "LinearScaleModel",
      "state": {
       "_model_module_version": "^0.5.18",
       "_view_module_version": "^0.5.18",
       "allow_padding": false,
       "max": 1,
       "min": 0,
       "stabilized": false
      }
     },
     "7753e250d7634bc2a34cafb57fa3588d": {
      "model_module": "bqplot",
      "model_module_version": "^0.5.18",
      "model_name": "TooltipModel",
      "state": {
       "_model_module_version": "^0.5.18",
       "_view_module_version": "^0.5.18",
       "fields": [
        "x",
        "y",
        "name"
       ],
       "formats": [
        "",
        ".2f",
        ""
       ],
       "layout": "IPY_MODEL_88023dc12ea44f09b5ae73d5bc58bb2c"
      }
     },
     "775597d99e37447286a277ad488593a9": {
      "model_module": "@jupyter-widgets/controls",
      "model_module_version": "1.5.0",
      "model_name": "VBoxModel",
      "state": {
       "children": [
        "IPY_MODEL_6ffc010b6c18410ab1c85e30c58eddf9",
        "IPY_MODEL_0ebed44020e24ba0a4dbd141c3223e4d"
       ],
       "layout": "IPY_MODEL_130566a7d3cc41768d8bb5642ef1d485"
      }
     },
     "779defb0eb4b439dac4d4b6df2a21853": {
      "model_module": "@jupyter-widgets/controls",
      "model_module_version": "1.5.0",
      "model_name": "VBoxModel",
      "state": {
       "children": [
        "IPY_MODEL_b63cf02918044cc9be9d2078b514b97b",
        "IPY_MODEL_8090895bcfa84a8d9a6a9725baf34626"
       ],
       "layout": "IPY_MODEL_d15429cf4c1f49c9a74c34bd6f3846fb"
      }
     },
     "77b65b56ccbb40cab7b181a045f7a690": {
      "model_module": "bqplot",
      "model_module_version": "^0.5.18",
      "model_name": "LinearScaleModel",
      "state": {
       "_model_module_version": "^0.5.18",
       "_view_module_version": "^0.5.18",
       "allow_padding": false,
       "max": 1,
       "min": 0,
       "stabilized": false
      }
     },
     "77f882b457fd4020a006a1793e2de64c": {
      "model_module": "@jupyter-widgets/base",
      "model_module_version": "1.2.0",
      "model_name": "LayoutModel",
      "state": {}
     },
     "78363c3b4b35472fa5d7e15379d5e7bd": {
      "model_module": "bqplot",
      "model_module_version": "^0.5.18",
      "model_name": "LinearScaleModel",
      "state": {
       "_model_module_version": "^0.5.18",
       "_view_module_version": "^0.5.18",
       "allow_padding": false,
       "max": 1,
       "min": 0,
       "stabilized": false
      }
     },
     "78367b5f10a244f99d7a636219f2abd4": {
      "model_module": "bqplot",
      "model_module_version": "^0.5.18",
      "model_name": "AxisModel",
      "state": {
       "_model_module_version": "^0.5.18",
       "_view_module_version": "^0.5.18",
       "orientation": "vertical",
       "scale": "IPY_MODEL_5c0ed778d29c4e2e9c5edd5b04be8cc5",
       "side": "left",
       "tick_values": null
      }
     },
     "78a71cf5147a41d8bf9ed4e5f43ef1f6": {
      "model_module": "bqplot",
      "model_module_version": "^0.5.18",
      "model_name": "AxisModel",
      "state": {
       "_model_module_version": "^0.5.18",
       "_view_module_version": "^0.5.18",
       "orientation": "vertical",
       "scale": "IPY_MODEL_bbc8318262c7454f84cea2ee9951d086",
       "side": "left",
       "tick_values": null
      }
     },
     "78a82db8419b47608391e57e196cb47a": {
      "model_module": "bqplot",
      "model_module_version": "^0.5.18",
      "model_name": "AxisModel",
      "state": {
       "_model_module_version": "^0.5.18",
       "_view_module_version": "^0.5.18",
       "scale": "IPY_MODEL_b2290c1a11df4687a20d352185bd6b05",
       "side": "bottom",
       "tick_values": null
      }
     },
     "790064c95dc64b9da9e16f6c9e34df2e": {
      "model_module": "@jupyter-widgets/base",
      "model_module_version": "1.2.0",
      "model_name": "LayoutModel",
      "state": {}
     },
     "791bfc2e1a324ea38a4ac301918e49f4": {
      "model_module": "bqplot",
      "model_module_version": "^0.5.18",
      "model_name": "AxisModel",
      "state": {
       "_model_module_version": "^0.5.18",
       "_view_module_version": "^0.5.18",
       "scale": "IPY_MODEL_81633a34d3b94e5f9f06b8d6bfa768f4",
       "side": "bottom",
       "tick_values": null
      }
     },
     "79d251da13ad4e5587f1681a7a9797df": {
      "model_module": "bqplot",
      "model_module_version": "^0.5.18",
      "model_name": "AxisModel",
      "state": {
       "_model_module_version": "^0.5.18",
       "_view_module_version": "^0.5.18",
       "orientation": "vertical",
       "scale": "IPY_MODEL_57a5e9d6b1424b87ba3aa5cf21514425",
       "side": "left",
       "tick_values": null
      }
     },
     "79d4fee25e864853a89d60224dcb045d": {
      "model_module": "bqplot",
      "model_module_version": "^0.5.18",
      "model_name": "LinearScaleModel",
      "state": {
       "_model_module_version": "^0.5.18",
       "_view_module_version": "^0.5.18",
       "stabilized": false
      }
     },
     "79e58475e2c64581adeadfa40471b92b": {
      "model_module": "bqplot",
      "model_module_version": "^0.5.18",
      "model_name": "LinearScaleModel",
      "state": {
       "_model_module_version": "^0.5.18",
       "_view_module_version": "^0.5.18",
       "allow_padding": false,
       "max": 1,
       "min": 0,
       "stabilized": false
      }
     },
     "7a5a9606298e4ee5a5232575a2177816": {
      "model_module": "bqplot",
      "model_module_version": "^0.5.18",
      "model_name": "AxisModel",
      "state": {
       "_model_module_version": "^0.5.18",
       "_view_module_version": "^0.5.18",
       "scale": "IPY_MODEL_252ae3e79b194e95bfe2177031613d13",
       "side": "bottom",
       "tick_values": null
      }
     },
     "7aac37f6a0d141b4b7034b0adc4243aa": {
      "model_module": "bqplot",
      "model_module_version": "^0.5.18",
      "model_name": "OrdinalScaleModel",
      "state": {
       "_model_module_version": "^0.5.18",
       "_view_module_version": "^0.5.18"
      }
     },
     "7ad8a7a06b42446199273d401ca9d5c7": {
      "model_module": "bqplot",
      "model_module_version": "^0.5.18",
      "model_name": "ToolbarModel",
      "state": {
       "_model_module_version": "^0.5.18",
       "_view_module_version": "^0.5.18",
       "figure": "IPY_MODEL_8b1e812ad55f4a6ab14f76e4714d1c5b",
       "layout": "IPY_MODEL_9423669f4d6a4dad8ddace721f7f246e"
      }
     },
     "7b827002acc7407dbebb687a50079e69": {
      "model_module": "bqplot",
      "model_module_version": "^0.5.18",
      "model_name": "LinearScaleModel",
      "state": {
       "_model_module_version": "^0.5.18",
       "_view_module_version": "^0.5.18",
       "stabilized": false
      }
     },
     "7bdb19ab63c64f44b2979cd28fd92f7f": {
      "buffers": [
       {
        "data": "AAAAAAEAAAACAAAAAwAAAAQAAAAFAAAABgAAAAcAAAAIAAAACQAAAAoAAAALAAAADAAAAA0AAAAOAAAADwAAABAAAAARAAAAEgAAABMAAAAUAAAAFQAAABYAAAAXAAAAGAAAABkAAAAaAAAAGwAAABwAAAAdAAAAHgAAAB8AAAAgAAAAIQAAACIAAAAjAAAAJAAAACUAAAAmAAAAJwAAACgAAAApAAAAKgAAACsAAAAsAAAALQAAAC4AAAAvAAAAMAAAADEAAAAyAAAAMwAAADQAAAA1AAAANgAAADcAAAA4AAAAOQAAADoAAAA7AAAAPAAAAD0AAAA+AAAAPwAAAEAAAABBAAAAQgAAAEMAAABEAAAARQAAAEYAAABHAAAASAAAAEkAAABKAAAASwAAAEwAAABNAAAATgAAAE8AAABQAAAAUQAAAFIAAABTAAAAVAAAAFUAAABWAAAAVwAAAFgAAABZAAAAWgAAAFsAAABcAAAAXQAAAF4AAABfAAAAYAAAAGEAAABiAAAAYwAAAGQAAABlAAAAZgAAAGcAAABoAAAAaQAAAGoAAABrAAAAbAAAAG0AAABuAAAAbwAAAHAAAABxAAAAcgAAAHMAAAB0AAAAdQAAAHYAAAB3AAAAeAAAAHkAAAB6AAAAewAAAHwAAAB9AAAAfgAAAH8AAACAAAAAgQAAAIIAAACDAAAAhAAAAIUAAACGAAAAhwAAAIgAAACJAAAAigAAAIsAAACMAAAAjQAAAI4AAACPAAAAkAAAAJEAAACSAAAAkwAAAJQAAACVAAAAlgAAAJcAAACYAAAAmQAAAJoAAACbAAAAnAAAAJ0AAACeAAAAnwAAAKAAAAChAAAAogAAAKMAAACkAAAApQAAAKYAAACnAAAAqAAAAKkAAACqAAAAqwAAAKwAAACtAAAArgAAAA==",
        "encoding": "base64",
        "path": [
         "x",
         "value"
        ]
       },
       {
        "data": "HwAAAAcAAAAFAAAABQAAAAUAAAAEAAAABAAAAAMAAAADAAAAAwAAAAMAAAADAAAAAwAAAAMAAAACAAAAAgAAAAIAAAACAAAAAgAAAAIAAAACAAAAAgAAAAIAAAACAAAAAgAAAAIAAAACAAAAAgAAAAIAAAACAAAAAgAAAAIAAAACAAAAAgAAAAIAAAACAAAAAgAAAAEAAAABAAAAAQAAAAEAAAABAAAAAQAAAAEAAAABAAAAAQAAAAEAAAABAAAAAQAAAAEAAAABAAAAAQAAAAEAAAABAAAAAQAAAAEAAAABAAAAAQAAAAEAAAABAAAAAQAAAAEAAAABAAAAAQAAAAEAAAABAAAAAQAAAAEAAAABAAAAAQAAAAEAAAABAAAAAQAAAAEAAAABAAAAAQAAAAEAAAABAAAAAQAAAAEAAAABAAAAAQAAAAEAAAABAAAAAQAAAAEAAAABAAAAAQAAAAEAAAABAAAAAQAAAAEAAAABAAAAAQAAAAEAAAABAAAAAQAAAAEAAAABAAAAAQAAAAEAAAABAAAAAQAAAAEAAAABAAAAAQAAAAEAAAABAAAAAQAAAAEAAAABAAAAAQAAAAEAAAABAAAAAQAAAAEAAAABAAAAAQAAAAEAAAABAAAAAQAAAAEAAAABAAAAAQAAAAEAAAABAAAAAQAAAAEAAAABAAAAAQAAAAEAAAABAAAAAQAAAAEAAAABAAAAAQAAAAEAAAABAAAAAQAAAAEAAAABAAAAAQAAAAEAAAABAAAAAQAAAAEAAAABAAAAAQAAAAEAAAABAAAAAQAAAAEAAAABAAAAAQAAAAEAAAABAAAAAQAAAAEAAAABAAAAAQAAAAEAAAABAAAAAQAAAAEAAAABAAAAAQAAAAEAAAABAAAAAQAAAAEAAAABAAAAAQAAAAEAAAABAAAAAQAAAA==",
        "encoding": "base64",
        "path": [
         "y",
         "value"
        ]
       }
      ],
      "model_module": "bqplot",
      "model_module_version": "^0.5.18",
      "model_name": "LinesModel",
      "state": {
       "_model_module_version": "^0.5.18",
       "_view_module_version": "^0.5.18",
       "fill_colors": [],
       "labels": [
        "C1"
       ],
       "scales": {
        "x": "IPY_MODEL_2a944ac647684872bc7fa22c4687c44d",
        "y": "IPY_MODEL_2f15896a9e124b9fb214f31f94c3fe97"
       },
       "x": {
        "dtype": "int32",
        "shape": [
         175
        ],
        "type": null
       },
       "y": {
        "dtype": "int32",
        "shape": [
         175
        ],
        "type": null
       }
      }
     },
     "7c1663ebf4ad4db69b5d753ca46cf646": {
      "model_module": "bqplot",
      "model_module_version": "^0.5.18",
      "model_name": "LinearScaleModel",
      "state": {
       "_model_module_version": "^0.5.18",
       "_view_module_version": "^0.5.18",
       "allow_padding": false,
       "max": 1,
       "min": 0,
       "stabilized": false
      }
     },
     "7c2b2b6c33df4586ab83789541528ab0": {
      "buffers": [
       {
        "data": "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",
        "encoding": "base64",
        "path": [
         "x",
         "value"
        ]
       },
       {
        "data": "OAAAADQAAAAwAAAALgAAAB4AAAAcAAAAHAAAABwAAAAbAAAAGwAAABoAAAAYAAAAFwAAABMAAAARAAAADwAAAA4AAAANAAAADAAAAAwAAAAKAAAACgAAAAkAAAAJAAAACQAAAAgAAAAIAAAABwAAAAcAAAAGAAAABgAAAAUAAAAFAAAABQAAAAUAAAAFAAAABQAAAAUAAAAFAAAABQAAAAQAAAAEAAAABAAAAAQAAAAEAAAABAAAAAQAAAAEAAAABAAAAAQAAAAEAAAABAAAAAQAAAAEAAAABAAAAAQAAAAEAAAAAwAAAAMAAAADAAAAAwAAAAMAAAADAAAAAwAAAAMAAAADAAAAAwAAAAMAAAADAAAAAwAAAAMAAAADAAAAAwAAAAMAAAADAAAAAwAAAAMAAAADAAAAAwAAAAMAAAADAAAAAwAAAAMAAAADAAAAAwAAAAMAAAADAAAAAwAAAAMAAAADAAAAAwAAAAMAAAADAAAAAwAAAAIAAAACAAAAAgAAAAIAAAACAAAAAgAAAAIAAAACAAAAAgAAAAIAAAACAAAAAgAAAAIAAAACAAAAAgAAAAIAAAACAAAAAgAAAAIAAAACAAAAAgAAAAIAAAACAAAAAgAAAAIAAAACAAAAAgAAAAIAAAACAAAAAgAAAAIAAAACAAAAAgAAAAIAAAACAAAAAgAAAAIAAAACAAAAAgAAAAIAAAACAAAAAgAAAAIAAAACAAAAAgAAAAIAAAACAAAAAgAAAAIAAAACAAAAAgAAAAIAAAACAAAAAgAAAAIAAAACAAAAAgAAAAIAAAACAAAAAgAAAAIAAAACAAAAAgAAAAIAAAACAAAAAgAAAAIAAAACAAAAAgAAAAIAAAACAAAAAgAAAAIAAAACAAAAAgAAAAIAAAACAAAAAgAAAAIAAAACAAAAAQAAAAEAAAABAAAAAQAAAAEAAAABAAAAAQAAAAEAAAABAAAAAQAAAAEAAAABAAAAAQAAAAEAAAABAAAAAQAAAAEAAAABAAAAAQAAAAEAAAABAAAAAQAAAAEAAAABAAAAAQAAAAEAAAABAAAAAQAAAAEAAAABAAAAAQAAAAEAAAABAAAAAQAAAAEAAAABAAAAAQAAAAEAAAABAAAAAQAAAAEAAAABAAAAAQAAAAEAAAABAAAAAQAAAAEAAAABAAAAAQAAAAEAAAABAAAAAQAAAAEAAAABAAAAAQAAAAEAAAABAAAAAQAAAAEAAAABAAAAAQAAAAEAAAABAAAAAQAAAAEAAAABAAAAAQAAAAEAAAABAAAAAQAAAAEAAAABAAAAAQAAAAEAAAABAAAAAQAAAAEAAAABAAAAAQAAAAEAAAABAAAAAQAAAAEAAAABAAAAAQAAAAEAAAABAAAAAQAAAAEAAAABAAAAAQAAAAEAAAABAAAAAQAAAAEAAAABAAAAAQAAAAEAAAABAAAAAQAAAAEAAAABAAAAAQAAAAEAAAABAAAAAQAAAAEAAAABAAAAAQAAAAEAAAABAAAAAQAAAAEAAAABAAAAAQAAAAEAAAABAAAAAQAAAAEAAAABAAAAAQAAAAEAAAABAAAAAQAAAAEAAAABAAAAAQAAAAEAAAABAAAAAQAAAAEAAAABAAAAAQAAAAEAAAABAAAAAQAAAAEAAAABAAAAAQAAAAEAAAABAAAAAQAAAAEAAAABAAAAAQAAAAEAAAABAAAAAQAAAAEAAAABAAAAAQAAAAEAAAABAAAAAQAAAAEAAAABAAAAAQAAAAEAAAABAAAAAQAAAAEAAAABAAAAAQAAAAEAAAABAAAAAQAAAAEAAAABAAAAAQAAAAEAAAABAAAAAQAAAAEAAAABAAAAAQAAAAEAAAABAAAAAQAAAAEAAAABAAAAAQAAAAEAAAABAAAAAQAAAAEAAAABAAAAAQAAAAEAAAABAAAAAQAAAAEAAAABAAAAAQAAAAEAAAABAAAAAQAAAAEAAAABAAAAAQAAAAEAAAABAAAAAQAAAAEAAAABAAAAAQAAAAEAAAABAAAAAQAAAAEAAAABAAAAAQAAAAEAAAABAAAAAQAAAAEAAAABAAAAAQAAAAEAAAABAAAAAQAAAAEAAAABAAAAAQAAAAEAAAABAAAAAQAAAAEAAAABAAAAAQAAAAEAAAABAAAAAQAAAAEAAAABAAAAAQAAAAEAAAABAAAAAQAAAAEAAAABAAAAAQAAAAEAAAABAAAAAQAAAAEAAAABAAAAAQAAAAEAAAABAAAAAQAAAAEAAAABAAAAAQAAAAEAAAABAAAAAQAAAAEAAAABAAAAAQAAAAEAAAABAAAAAQAAAAEAAAABAAAAAQAAAAEAAAABAAAAAQAAAAEAAAABAAAAAQAAAAEAAAABAAAAAQAAAAEAAAABAAAAAQAAAAEAAAABAAAAAQAAAAEAAAABAAAAAQAAAAEAAAABAAAAAQAAAAEAAAABAAAAAQAAAAEAAAABAAAAAQAAAAEAAAABAAAAAQAAAAEAAAABAAAAAQAAAAEAAAABAAAAAQAAAAEAAAABAAAAAQAAAAEAAAABAAAAAQAAAAEAAAABAAAAAQAAAAEAAAABAAAAAQAAAAEAAAABAAAAAQAAAAEAAAABAAAAAQAAAAEAAAABAAAAAQAAAAEAAAABAAAAAQAAAAEAAAABAAAAAQAAAAEAAAABAAAAAQAAAAEAAAABAAAAAQAAAAEAAAABAAAAAQAAAAEAAAABAAAAAQAAAAEAAAABAAAAAQAAAAEAAAABAAAAAQAAAAEAAAABAAAAAQAAAAEAAAABAAAAAQAAAAEAAAABAAAAAQAAAAEAAAABAAAAAQAAAAEAAAABAAAAAQAAAAEAAAABAAAAAQAAAAEAAAABAAAAAQAAAAEAAAABAAAAAQAAAAEAAAABAAAAAQAAAAEAAAABAAAAAQAAAAEAAAABAAAAAQAAAAEAAAABAAAAAQAAAAEAAAABAAAAAQAAAAEAAAABAAAAAQAAAAEAAAABAAAAAQAAAAEAAAABAAAAAQAAAAEAAAABAAAAAQAAAAEAAAABAAAAAQAAAAEAAAABAAAAAQAAAAEAAAABAAAAAQAAAAEAAAABAAAAAQAAAAEAAAABAAAAAQAAAAEAAAABAAAAAQAAAAEAAAABAAAAAQAAAAEAAAABAAAAAQAAAAEAAAABAAAAAQAAAAEAAAABAAAAAQAAAAEAAAABAAAAAQAAAAEAAAABAAAAAQAAAAEAAAABAAAAAQAAAAEAAAABAAAAAQAAAAEAAAABAAAAAQAAAAEAAAABAAAAAQAAAAEAAAABAAAAAQAAAAEAAAABAAAAAQAAAAEAAAABAAAAAQAAAAEAAAABAAAAAQAAAAEAAAABAAAAAQAAAAEAAAABAAAAAQAAAAEAAAABAAAAAQAAAAEAAAABAAAAAQAAAAEAAAABAAAAAQAAAAEAAAABAAAAAQAAAAEAAAABAAAAAQAAAAEAAAABAAAAAQAAAAEAAAABAAAAAQAAAAEAAAABAAAAAQAAAAEAAAABAAAAAQAAAAEAAAABAAAAAQAAAAEAAAABAAAAAQAAAAEAAAABAAAAAQAAAAEAAAABAAAAAQAAAAEAAAABAAAAAQAAAAEAAAABAAAAAQAAAAEAAAABAAAAAQAAAAEAAAABAAAAAQAAAAEAAAABAAAAAQAAAAEAAAABAAAAAQAAAAEAAAABAAAAAQAAAAEAAAABAAAAAQAAAAEAAAABAAAAAQAAAAEAAAABAAAAAQAAAAEAAAABAAAAAQAAAAEAAAABAAAAAQAAAAEAAAABAAAAAQAAAAEAAAA=",
        "encoding": "base64",
        "path": [
         "y",
         "value"
        ]
       }
      ],
      "model_module": "bqplot",
      "model_module_version": "^0.5.18",
      "model_name": "ScatterModel",
      "state": {
       "_model_module_version": "^0.5.18",
       "_view_module_version": "^0.5.18",
       "default_opacities": {
        "dtype": "float64",
        "shape": [
         1
        ],
        "type": null,
        "value": {}
       },
       "label_display_horizontal_offset": 0,
       "label_display_vertical_offset": 0,
       "names": null,
       "scales": {
        "x": "IPY_MODEL_519e9b192d2d48e2a89e5f1a0bef9e90",
        "y": "IPY_MODEL_bbc8318262c7454f84cea2ee9951d086"
       },
       "scales_metadata": {
        "color": {
         "dimension": "color"
        },
        "opacity": {
         "dimension": "opacity"
        },
        "rotation": {
         "dimension": "rotation"
        },
        "size": {
         "dimension": "size"
        },
        "skew": {
         "dimension": "skew"
        },
        "x": {
         "dimension": "x",
         "orientation": "horizontal"
        },
        "y": {
         "dimension": "y",
         "orientation": "vertical"
        }
       },
       "x": {
        "dtype": "int32",
        "shape": [
         716
        ],
        "type": null
       },
       "y": {
        "dtype": "int32",
        "shape": [
         716
        ],
        "type": null
       }
      }
     },
     "7c7b0782a3914d34a0bf07ece360a573": {
      "model_module": "bqplot",
      "model_module_version": "^0.5.18",
      "model_name": "LinearScaleModel",
      "state": {
       "_model_module_version": "^0.5.18",
       "_view_module_version": "^0.5.18",
       "allow_padding": false,
       "max": 1,
       "min": 0,
       "stabilized": false
      }
     },
     "7ca9900467d14cf9964e8e226e3e88ea": {
      "model_module": "@jupyter-widgets/base",
      "model_module_version": "1.2.0",
      "model_name": "LayoutModel",
      "state": {}
     },
     "7d3fd1d80d5048b7abe8e3f2a1a26edd": {
      "model_module": "bqplot",
      "model_module_version": "^0.5.18",
      "model_name": "FigureModel",
      "state": {
       "_model_module_version": "^0.5.18",
       "_view_module_version": "^0.5.18",
       "axes": [
        "IPY_MODEL_9d93fed10944418485c0282938d05bc6",
        "IPY_MODEL_9ee3bce74d264da79c73614732cca5f9"
       ],
       "layout": "IPY_MODEL_946aa5e687e24ec68ce97d4e65857f6f",
       "marks": [
        "IPY_MODEL_10ccda5699d0401082ca3cea52088692"
       ],
       "scale_x": "IPY_MODEL_c6b234d6c0094331957c89a19f8984d4",
       "scale_y": "IPY_MODEL_892bc75d01c84720b2941399172a6cb8"
      }
     },
     "7efb21418ac44ca4890bb04d4d5796cd": {
      "model_module": "bqplot",
      "model_module_version": "^0.5.18",
      "model_name": "LinearScaleModel",
      "state": {
       "_model_module_version": "^0.5.18",
       "_view_module_version": "^0.5.18",
       "stabilized": false
      }
     },
     "7f2f4fb016d647c38183e32f06357038": {
      "model_module": "@jupyter-widgets/base",
      "model_module_version": "1.2.0",
      "model_name": "LayoutModel",
      "state": {}
     },
     "7f3a25eb74b442489d575a0fe195e5f0": {
      "model_module": "bqplot",
      "model_module_version": "^0.5.18",
      "model_name": "FigureModel",
      "state": {
       "_model_module_version": "^0.5.18",
       "_view_module_version": "^0.5.18",
       "axes": [
        "IPY_MODEL_50860565a96944a2b823c01ec613f7bc",
        "IPY_MODEL_8997f849f9b2462591f90e43e383c91f"
       ],
       "layout": "IPY_MODEL_2753f3419ebb4539801537ca1ec44fa5",
       "marks": [
        "IPY_MODEL_be20bf6a088540299337b44e8eafff61"
       ],
       "scale_x": "IPY_MODEL_c905a3370d87416999c3772aab03966a",
       "scale_y": "IPY_MODEL_efc34c225c084c5a942f97400d518bf9"
      }
     },
     "7f5da0ba8ddd4382b602135aab4174c2": {
      "buffers": [
       {
        "data": "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",
        "encoding": "base64",
        "path": [
         "x",
         "value"
        ]
       },
       {
        "data": "OAAAADQAAAAwAAAALgAAAB4AAAAcAAAAHAAAABwAAAAbAAAAGwAAABoAAAAYAAAAFwAAABMAAAARAAAADwAAAA4AAAANAAAADAAAAAwAAAAKAAAACgAAAAkAAAAJAAAACQAAAAgAAAAIAAAABwAAAAcAAAAGAAAABgAAAAUAAAAFAAAABQAAAAUAAAAFAAAABQAAAAUAAAAFAAAABQAAAAQAAAAEAAAABAAAAAQAAAAEAAAABAAAAAQAAAAEAAAABAAAAAQAAAAEAAAABAAAAAQAAAAEAAAABAAAAAQAAAAEAAAAAwAAAAMAAAADAAAAAwAAAAMAAAADAAAAAwAAAAMAAAADAAAAAwAAAAMAAAADAAAAAwAAAAMAAAADAAAAAwAAAAMAAAADAAAAAwAAAAMAAAADAAAAAwAAAAMAAAADAAAAAwAAAAMAAAADAAAAAwAAAAMAAAADAAAAAwAAAAMAAAADAAAAAwAAAAMAAAADAAAAAwAAAAIAAAACAAAAAgAAAAIAAAACAAAAAgAAAAIAAAACAAAAAgAAAAIAAAACAAAAAgAAAAIAAAACAAAAAgAAAAIAAAACAAAAAgAAAAIAAAACAAAAAgAAAAIAAAACAAAAAgAAAAIAAAACAAAAAgAAAAIAAAACAAAAAgAAAAIAAAACAAAAAgAAAAIAAAACAAAAAgAAAAIAAAACAAAAAgAAAAIAAAACAAAAAgAAAAIAAAACAAAAAgAAAAIAAAACAAAAAgAAAAIAAAACAAAAAgAAAAIAAAACAAAAAgAAAAIAAAACAAAAAgAAAAIAAAACAAAAAgAAAAIAAAACAAAAAgAAAAIAAAACAAAAAgAAAAIAAAACAAAAAgAAAAIAAAACAAAAAgAAAAIAAAACAAAAAgAAAAIAAAACAAAAAgAAAAIAAAACAAAAAQAAAAEAAAABAAAAAQAAAAEAAAABAAAAAQAAAAEAAAABAAAAAQAAAAEAAAABAAAAAQAAAAEAAAABAAAAAQAAAAEAAAABAAAAAQAAAAEAAAABAAAAAQAAAAEAAAABAAAAAQAAAAEAAAABAAAAAQAAAAEAAAABAAAAAQAAAAEAAAABAAAAAQAAAAEAAAABAAAAAQAAAAEAAAABAAAAAQAAAAEAAAABAAAAAQAAAAEAAAABAAAAAQAAAAEAAAABAAAAAQAAAAEAAAABAAAAAQAAAAEAAAABAAAAAQAAAAEAAAABAAAAAQAAAAEAAAABAAAAAQAAAAEAAAABAAAAAQAAAAEAAAABAAAAAQAAAAEAAAABAAAAAQAAAAEAAAABAAAAAQAAAAEAAAABAAAAAQAAAAEAAAABAAAAAQAAAAEAAAABAAAAAQAAAAEAAAABAAAAAQAAAAEAAAABAAAAAQAAAAEAAAABAAAAAQAAAAEAAAABAAAAAQAAAAEAAAABAAAAAQAAAAEAAAABAAAAAQAAAAEAAAABAAAAAQAAAAEAAAABAAAAAQAAAAEAAAABAAAAAQAAAAEAAAABAAAAAQAAAAEAAAABAAAAAQAAAAEAAAABAAAAAQAAAAEAAAABAAAAAQAAAAEAAAABAAAAAQAAAAEAAAABAAAAAQAAAAEAAAABAAAAAQAAAAEAAAABAAAAAQAAAAEAAAABAAAAAQAAAAEAAAABAAAAAQAAAAEAAAABAAAAAQAAAAEAAAABAAAAAQAAAAEAAAABAAAAAQAAAAEAAAABAAAAAQAAAAEAAAABAAAAAQAAAAEAAAABAAAAAQAAAAEAAAABAAAAAQAAAAEAAAABAAAAAQAAAAEAAAABAAAAAQAAAAEAAAABAAAAAQAAAAEAAAABAAAAAQAAAAEAAAABAAAAAQAAAAEAAAABAAAAAQAAAAEAAAABAAAAAQAAAAEAAAABAAAAAQAAAAEAAAABAAAAAQAAAAEAAAABAAAAAQAAAAEAAAABAAAAAQAAAAEAAAABAAAAAQAAAAEAAAABAAAAAQAAAAEAAAABAAAAAQAAAAEAAAABAAAAAQAAAAEAAAABAAAAAQAAAAEAAAABAAAAAQAAAAEAAAABAAAAAQAAAAEAAAABAAAAAQAAAAEAAAABAAAAAQAAAAEAAAABAAAAAQAAAAEAAAABAAAAAQAAAAEAAAABAAAAAQAAAAEAAAABAAAAAQAAAAEAAAABAAAAAQAAAAEAAAABAAAAAQAAAAEAAAABAAAAAQAAAAEAAAABAAAAAQAAAAEAAAABAAAAAQAAAAEAAAABAAAAAQAAAAEAAAABAAAAAQAAAAEAAAABAAAAAQAAAAEAAAABAAAAAQAAAAEAAAABAAAAAQAAAAEAAAABAAAAAQAAAAEAAAABAAAAAQAAAAEAAAABAAAAAQAAAAEAAAABAAAAAQAAAAEAAAABAAAAAQAAAAEAAAABAAAAAQAAAAEAAAABAAAAAQAAAAEAAAABAAAAAQAAAAEAAAABAAAAAQAAAAEAAAABAAAAAQAAAAEAAAABAAAAAQAAAAEAAAABAAAAAQAAAAEAAAABAAAAAQAAAAEAAAABAAAAAQAAAAEAAAABAAAAAQAAAAEAAAABAAAAAQAAAAEAAAABAAAAAQAAAAEAAAABAAAAAQAAAAEAAAABAAAAAQAAAAEAAAABAAAAAQAAAAEAAAABAAAAAQAAAAEAAAABAAAAAQAAAAEAAAABAAAAAQAAAAEAAAABAAAAAQAAAAEAAAABAAAAAQAAAAEAAAABAAAAAQAAAAEAAAABAAAAAQAAAAEAAAABAAAAAQAAAAEAAAABAAAAAQAAAAEAAAABAAAAAQAAAAEAAAABAAAAAQAAAAEAAAABAAAAAQAAAAEAAAABAAAAAQAAAAEAAAABAAAAAQAAAAEAAAABAAAAAQAAAAEAAAABAAAAAQAAAAEAAAABAAAAAQAAAAEAAAABAAAAAQAAAAEAAAABAAAAAQAAAAEAAAABAAAAAQAAAAEAAAABAAAAAQAAAAEAAAABAAAAAQAAAAEAAAABAAAAAQAAAAEAAAABAAAAAQAAAAEAAAABAAAAAQAAAAEAAAABAAAAAQAAAAEAAAABAAAAAQAAAAEAAAABAAAAAQAAAAEAAAABAAAAAQAAAAEAAAABAAAAAQAAAAEAAAABAAAAAQAAAAEAAAABAAAAAQAAAAEAAAABAAAAAQAAAAEAAAABAAAAAQAAAAEAAAABAAAAAQAAAAEAAAABAAAAAQAAAAEAAAABAAAAAQAAAAEAAAABAAAAAQAAAAEAAAABAAAAAQAAAAEAAAABAAAAAQAAAAEAAAABAAAAAQAAAAEAAAABAAAAAQAAAAEAAAABAAAAAQAAAAEAAAABAAAAAQAAAAEAAAABAAAAAQAAAAEAAAABAAAAAQAAAAEAAAABAAAAAQAAAAEAAAABAAAAAQAAAAEAAAABAAAAAQAAAAEAAAABAAAAAQAAAAEAAAABAAAAAQAAAAEAAAABAAAAAQAAAAEAAAABAAAAAQAAAAEAAAABAAAAAQAAAAEAAAABAAAAAQAAAAEAAAABAAAAAQAAAAEAAAABAAAAAQAAAAEAAAABAAAAAQAAAAEAAAABAAAAAQAAAAEAAAABAAAAAQAAAAEAAAABAAAAAQAAAAEAAAABAAAAAQAAAAEAAAABAAAAAQAAAAEAAAABAAAAAQAAAAEAAAABAAAAAQAAAAEAAAABAAAAAQAAAAEAAAABAAAAAQAAAAEAAAABAAAAAQAAAAEAAAABAAAAAQAAAAEAAAABAAAAAQAAAAEAAAABAAAAAQAAAAEAAAABAAAAAQAAAAEAAAABAAAAAQAAAAEAAAA=",
        "encoding": "base64",
        "path": [
         "y",
         "value"
        ]
       }
      ],
      "model_module": "bqplot",
      "model_module_version": "^0.5.18",
      "model_name": "ScatterModel",
      "state": {
       "_model_module_version": "^0.5.18",
       "_view_module_version": "^0.5.18",
       "colors": [
        "dodgerblue"
       ],
       "default_opacities": {
        "dtype": "float64",
        "shape": [
         1
        ],
        "type": null,
        "value": {}
       },
       "label_display_horizontal_offset": 0,
       "label_display_vertical_offset": 0,
       "names": null,
       "scales": {
        "x": "IPY_MODEL_81f89de8f12a465584bf7d1f5ed78153",
        "y": "IPY_MODEL_b712d833a4ad463193b071b39fb883a3"
       },
       "scales_metadata": {
        "color": {
         "dimension": "color"
        },
        "opacity": {
         "dimension": "opacity"
        },
        "rotation": {
         "dimension": "rotation"
        },
        "size": {
         "dimension": "size"
        },
        "skew": {
         "dimension": "skew"
        },
        "x": {
         "dimension": "x",
         "orientation": "horizontal"
        },
        "y": {
         "dimension": "y",
         "orientation": "vertical"
        }
       },
       "stroke": "black",
       "tooltip": "IPY_MODEL_da8f96e075d74cb08b41f083750de296",
       "unhovered_style": {
        "opacity": 0.5
       },
       "x": {
        "dtype": "int32",
        "shape": [
         716
        ],
        "type": null
       },
       "y": {
        "dtype": "int32",
        "shape": [
         716
        ],
        "type": null
       }
      }
     },
     "80417e7a08ad465cacb22f9fa0eeebc2": {
      "model_module": "bqplot",
      "model_module_version": "^0.5.18",
      "model_name": "ToolbarModel",
      "state": {
       "_model_module_version": "^0.5.18",
       "_view_module_version": "^0.5.18",
       "figure": "IPY_MODEL_95f3b138af8143ec86a5a9274e37f991",
       "layout": "IPY_MODEL_0a6218086510431585d2c7762b068c7e"
      }
     },
     "804fbe60a5dc4216a6782cb26507d553": {
      "model_module": "bqplot",
      "model_module_version": "^0.5.18",
      "model_name": "LinearScaleModel",
      "state": {
       "_model_module_version": "^0.5.18",
       "_view_module_version": "^0.5.18",
       "stabilized": false
      }
     },
     "805f8103539b4ccf98f35cc11440aec3": {
      "model_module": "@jupyter-widgets/base",
      "model_module_version": "1.2.0",
      "model_name": "LayoutModel",
      "state": {}
     },
     "8090895bcfa84a8d9a6a9725baf34626": {
      "model_module": "bqplot",
      "model_module_version": "^0.5.18",
      "model_name": "ToolbarModel",
      "state": {
       "_model_module_version": "^0.5.18",
       "_view_module_version": "^0.5.18",
       "figure": "IPY_MODEL_b63cf02918044cc9be9d2078b514b97b",
       "layout": "IPY_MODEL_417ca5f011094a3b900c85515fc87b08"
      }
     },
     "80f1c37140f94392af7c2c4ea574c91a": {
      "model_module": "@jupyter-widgets/controls",
      "model_module_version": "1.5.0",
      "model_name": "VBoxModel",
      "state": {
       "children": [
        "IPY_MODEL_d82fb04aa5d14d888e32c990cd115bca",
        "IPY_MODEL_f295ef6002cd4a8fb21bed7c96297052"
       ],
       "layout": "IPY_MODEL_3c7eb6fb024e4faf9100ac967f16849f"
      }
     },
     "81633a34d3b94e5f9f06b8d6bfa768f4": {
      "model_module": "bqplot",
      "model_module_version": "^0.5.18",
      "model_name": "LinearScaleModel",
      "state": {
       "_model_module_version": "^0.5.18",
       "_view_module_version": "^0.5.18",
       "stabilized": false
      }
     },
     "81f89de8f12a465584bf7d1f5ed78153": {
      "model_module": "bqplot",
      "model_module_version": "^0.5.18",
      "model_name": "LinearScaleModel",
      "state": {
       "_model_module_version": "^0.5.18",
       "_view_module_version": "^0.5.18",
       "stabilized": false
      }
     },
     "81fc68cc9a624a48ba62cc72dbd8499f": {
      "model_module": "bqplot",
      "model_module_version": "^0.5.18",
      "model_name": "LinearScaleModel",
      "state": {
       "_model_module_version": "^0.5.18",
       "_view_module_version": "^0.5.18",
       "allow_padding": false,
       "max": 1,
       "min": 0,
       "stabilized": false
      }
     },
     "820a22f49be24d3e923d70c1c3952086": {
      "model_module": "@jupyter-widgets/controls",
      "model_module_version": "1.5.0",
      "model_name": "VBoxModel",
      "state": {
       "children": [
        "IPY_MODEL_ddfdbcd474ad490695c6dac4c3758977",
        "IPY_MODEL_1d70a07d7fe04db9976350d5b8bc5df8"
       ],
       "layout": "IPY_MODEL_510f6b22cf4141e7af6af91f427f1b90"
      }
     },
     "8369804c718b4936a34f90d5fad339f8": {
      "model_module": "bqplot",
      "model_module_version": "^0.5.18",
      "model_name": "FigureModel",
      "state": {
       "_model_module_version": "^0.5.18",
       "_view_module_version": "^0.5.18",
       "layout": "IPY_MODEL_90b19b83707541f18691134a1e4b89a4",
       "scale_x": "IPY_MODEL_79e58475e2c64581adeadfa40471b92b",
       "scale_y": "IPY_MODEL_50fbf221fcc14a9e988433709560d955"
      }
     },
     "83ab6a3d0d004835a22295f49d0f4e97": {
      "model_module": "@jupyter-widgets/base",
      "model_module_version": "1.2.0",
      "model_name": "LayoutModel",
      "state": {}
     },
     "83b6616030814af29ad8ad4bb7400c49": {
      "buffers": [
       {
        "data": "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",
        "encoding": "base64",
        "path": [
         "x",
         "value"
        ]
       },
       {
        "data": "OAAAADQAAAAwAAAALgAAAB4AAAAcAAAAHAAAABwAAAAbAAAAGwAAABoAAAAYAAAAFwAAABMAAAARAAAADwAAAA4AAAANAAAADAAAAAwAAAAKAAAACgAAAAkAAAAJAAAACQAAAAgAAAAIAAAABwAAAAcAAAAGAAAABgAAAAUAAAAFAAAABQAAAAUAAAAFAAAABQAAAAUAAAAFAAAABQAAAAQAAAAEAAAABAAAAAQAAAAEAAAABAAAAAQAAAAEAAAABAAAAAQAAAAEAAAABAAAAAQAAAAEAAAABAAAAAQAAAAEAAAAAwAAAAMAAAADAAAAAwAAAAMAAAADAAAAAwAAAAMAAAADAAAAAwAAAAMAAAADAAAAAwAAAAMAAAADAAAAAwAAAAMAAAADAAAAAwAAAAMAAAADAAAAAwAAAAMAAAADAAAAAwAAAAMAAAADAAAAAwAAAAMAAAADAAAAAwAAAAMAAAADAAAAAwAAAAMAAAADAAAAAwAAAAIAAAACAAAAAgAAAAIAAAACAAAAAgAAAAIAAAACAAAAAgAAAAIAAAACAAAAAgAAAAIAAAACAAAAAgAAAAIAAAACAAAAAgAAAAIAAAACAAAAAgAAAAIAAAACAAAAAgAAAAIAAAACAAAAAgAAAAIAAAACAAAAAgAAAAIAAAACAAAAAgAAAAIAAAACAAAAAgAAAAIAAAACAAAAAgAAAAIAAAACAAAAAgAAAAIAAAACAAAAAgAAAAIAAAACAAAAAgAAAAIAAAACAAAAAgAAAAIAAAACAAAAAgAAAAIAAAACAAAAAgAAAAIAAAACAAAAAgAAAAIAAAACAAAAAgAAAAIAAAACAAAAAgAAAAIAAAACAAAAAgAAAAIAAAACAAAAAgAAAAIAAAACAAAAAgAAAAIAAAACAAAAAgAAAAIAAAACAAAAAQAAAAEAAAABAAAAAQAAAAEAAAABAAAAAQAAAAEAAAABAAAAAQAAAAEAAAABAAAAAQAAAAEAAAABAAAAAQAAAAEAAAABAAAAAQAAAAEAAAABAAAAAQAAAAEAAAABAAAAAQAAAAEAAAABAAAAAQAAAAEAAAABAAAAAQAAAAEAAAABAAAAAQAAAAEAAAABAAAAAQAAAAEAAAABAAAAAQAAAAEAAAABAAAAAQAAAAEAAAABAAAAAQAAAAEAAAABAAAAAQAAAAEAAAABAAAAAQAAAAEAAAABAAAAAQAAAAEAAAABAAAAAQAAAAEAAAABAAAAAQAAAAEAAAABAAAAAQAAAAEAAAABAAAAAQAAAAEAAAABAAAAAQAAAAEAAAABAAAAAQAAAAEAAAABAAAAAQAAAAEAAAABAAAAAQAAAAEAAAABAAAAAQAAAAEAAAABAAAAAQAAAAEAAAABAAAAAQAAAAEAAAABAAAAAQAAAAEAAAABAAAAAQAAAAEAAAABAAAAAQAAAAEAAAABAAAAAQAAAAEAAAABAAAAAQAAAAEAAAABAAAAAQAAAAEAAAABAAAAAQAAAAEAAAABAAAAAQAAAAEAAAABAAAAAQAAAAEAAAABAAAAAQAAAAEAAAABAAAAAQAAAAEAAAABAAAAAQAAAAEAAAABAAAAAQAAAAEAAAABAAAAAQAAAAEAAAABAAAAAQAAAAEAAAABAAAAAQAAAAEAAAABAAAAAQAAAAEAAAABAAAAAQAAAAEAAAABAAAAAQAAAAEAAAABAAAAAQAAAAEAAAABAAAAAQAAAAEAAAABAAAAAQAAAAEAAAABAAAAAQAAAAEAAAABAAAAAQAAAAEAAAABAAAAAQAAAAEAAAABAAAAAQAAAAEAAAABAAAAAQAAAAEAAAABAAAAAQAAAAEAAAABAAAAAQAAAAEAAAABAAAAAQAAAAEAAAABAAAAAQAAAAEAAAABAAAAAQAAAAEAAAABAAAAAQAAAAEAAAABAAAAAQAAAAEAAAABAAAAAQAAAAEAAAABAAAAAQAAAAEAAAABAAAAAQAAAAEAAAABAAAAAQAAAAEAAAABAAAAAQAAAAEAAAABAAAAAQAAAAEAAAABAAAAAQAAAAEAAAABAAAAAQAAAAEAAAABAAAAAQAAAAEAAAABAAAAAQAAAAEAAAABAAAAAQAAAAEAAAABAAAAAQAAAAEAAAABAAAAAQAAAAEAAAABAAAAAQAAAAEAAAABAAAAAQAAAAEAAAABAAAAAQAAAAEAAAABAAAAAQAAAAEAAAABAAAAAQAAAAEAAAABAAAAAQAAAAEAAAABAAAAAQAAAAEAAAABAAAAAQAAAAEAAAABAAAAAQAAAAEAAAABAAAAAQAAAAEAAAABAAAAAQAAAAEAAAABAAAAAQAAAAEAAAABAAAAAQAAAAEAAAABAAAAAQAAAAEAAAABAAAAAQAAAAEAAAABAAAAAQAAAAEAAAABAAAAAQAAAAEAAAABAAAAAQAAAAEAAAABAAAAAQAAAAEAAAABAAAAAQAAAAEAAAABAAAAAQAAAAEAAAABAAAAAQAAAAEAAAABAAAAAQAAAAEAAAABAAAAAQAAAAEAAAABAAAAAQAAAAEAAAABAAAAAQAAAAEAAAABAAAAAQAAAAEAAAABAAAAAQAAAAEAAAABAAAAAQAAAAEAAAABAAAAAQAAAAEAAAABAAAAAQAAAAEAAAABAAAAAQAAAAEAAAABAAAAAQAAAAEAAAABAAAAAQAAAAEAAAABAAAAAQAAAAEAAAABAAAAAQAAAAEAAAABAAAAAQAAAAEAAAABAAAAAQAAAAEAAAABAAAAAQAAAAEAAAABAAAAAQAAAAEAAAABAAAAAQAAAAEAAAABAAAAAQAAAAEAAAABAAAAAQAAAAEAAAABAAAAAQAAAAEAAAABAAAAAQAAAAEAAAABAAAAAQAAAAEAAAABAAAAAQAAAAEAAAABAAAAAQAAAAEAAAABAAAAAQAAAAEAAAABAAAAAQAAAAEAAAABAAAAAQAAAAEAAAABAAAAAQAAAAEAAAABAAAAAQAAAAEAAAABAAAAAQAAAAEAAAABAAAAAQAAAAEAAAABAAAAAQAAAAEAAAABAAAAAQAAAAEAAAABAAAAAQAAAAEAAAABAAAAAQAAAAEAAAABAAAAAQAAAAEAAAABAAAAAQAAAAEAAAABAAAAAQAAAAEAAAABAAAAAQAAAAEAAAABAAAAAQAAAAEAAAABAAAAAQAAAAEAAAABAAAAAQAAAAEAAAABAAAAAQAAAAEAAAABAAAAAQAAAAEAAAABAAAAAQAAAAEAAAABAAAAAQAAAAEAAAABAAAAAQAAAAEAAAABAAAAAQAAAAEAAAABAAAAAQAAAAEAAAABAAAAAQAAAAEAAAABAAAAAQAAAAEAAAABAAAAAQAAAAEAAAABAAAAAQAAAAEAAAABAAAAAQAAAAEAAAABAAAAAQAAAAEAAAABAAAAAQAAAAEAAAABAAAAAQAAAAEAAAABAAAAAQAAAAEAAAABAAAAAQAAAAEAAAABAAAAAQAAAAEAAAABAAAAAQAAAAEAAAABAAAAAQAAAAEAAAABAAAAAQAAAAEAAAABAAAAAQAAAAEAAAABAAAAAQAAAAEAAAABAAAAAQAAAAEAAAABAAAAAQAAAAEAAAABAAAAAQAAAAEAAAABAAAAAQAAAAEAAAABAAAAAQAAAAEAAAABAAAAAQAAAAEAAAABAAAAAQAAAAEAAAABAAAAAQAAAAEAAAABAAAAAQAAAAEAAAABAAAAAQAAAAEAAAABAAAAAQAAAAEAAAABAAAAAQAAAAEAAAABAAAAAQAAAAEAAAABAAAAAQAAAAEAAAABAAAAAQAAAAEAAAA=",
        "encoding": "base64",
        "path": [
         "y",
         "value"
        ]
       }
      ],
      "model_module": "bqplot",
      "model_module_version": "^0.5.18",
      "model_name": "ScatterModel",
      "state": {
       "_model_module_version": "^0.5.18",
       "_view_module_version": "^0.5.18",
       "colors": [
        "dodgerblue"
       ],
       "default_opacities": {
        "dtype": "float64",
        "shape": [
         1
        ],
        "type": null,
        "value": {}
       },
       "label_display_horizontal_offset": 0,
       "label_display_vertical_offset": 0,
       "names": null,
       "scales": {
        "x": "IPY_MODEL_99526f3b5fe34f63b9171c668c061920",
        "y": "IPY_MODEL_b7d2d09fad494b1fa6c962eb6ec4132f"
       },
       "scales_metadata": {
        "color": {
         "dimension": "color"
        },
        "opacity": {
         "dimension": "opacity"
        },
        "rotation": {
         "dimension": "rotation"
        },
        "size": {
         "dimension": "size"
        },
        "skew": {
         "dimension": "skew"
        },
        "x": {
         "dimension": "x",
         "orientation": "horizontal"
        },
        "y": {
         "dimension": "y",
         "orientation": "vertical"
        }
       },
       "stroke": "black",
       "tooltip": "IPY_MODEL_4c19cbb843254b698f57bb37609248d1",
       "unhovered_style": {
        "opacity": 0.5
       },
       "x": {
        "dtype": "int32",
        "shape": [
         716
        ],
        "type": null
       },
       "y": {
        "dtype": "int32",
        "shape": [
         716
        ],
        "type": null
       }
      }
     },
     "8456fdc22202416d94fdaf1a78bb0092": {
      "model_module": "@jupyter-widgets/base",
      "model_module_version": "1.2.0",
      "model_name": "LayoutModel",
      "state": {}
     },
     "8484e99ba41f4e5293af2d80080ccd09": {
      "model_module": "@jupyter-widgets/base",
      "model_module_version": "1.2.0",
      "model_name": "LayoutModel",
      "state": {}
     },
     "85a99cc84b0244778380ec1d9a3f966e": {
      "model_module": "bqplot",
      "model_module_version": "^0.5.18",
      "model_name": "LinearScaleModel",
      "state": {
       "_model_module_version": "^0.5.18",
       "_view_module_version": "^0.5.18",
       "stabilized": false
      }
     },
     "8694d4e77b8f4a62b79d02cb83859fc9": {
      "model_module": "bqplot",
      "model_module_version": "^0.5.18",
      "model_name": "FigureModel",
      "state": {
       "_model_module_version": "^0.5.18",
       "_view_module_version": "^0.5.18",
       "axes": [
        "IPY_MODEL_66fa88b2fea74766bbf3e2cf2672ce6d",
        "IPY_MODEL_c4b264ee6d964d67bcf99d2831d23a71"
       ],
       "layout": "IPY_MODEL_cfb9f9c84db74b858f05e2e2cbef26b9",
       "marks": [
        "IPY_MODEL_14363d72c7744addb54af542eb19ab92"
       ],
       "scale_x": "IPY_MODEL_c3094eb858dc46f99f8ef6a789a2b2d4",
       "scale_y": "IPY_MODEL_43ed3a05c7f1458a8e32d68344a7f111"
      }
     },
     "87a57f069a0247b392e8533389288c8f": {
      "model_module": "bqplot",
      "model_module_version": "^0.5.18",
      "model_name": "FigureModel",
      "state": {
       "_model_module_version": "^0.5.18",
       "_view_module_version": "^0.5.18",
       "axes": [
        "IPY_MODEL_ab4aba0229114a50b1a8f3a6da8c7f8d",
        "IPY_MODEL_6ad4832451da4263b223fc52da93e4ef"
       ],
       "layout": "IPY_MODEL_0b1493fe7a18481d956f69fef4ee80cf",
       "marks": [
        "IPY_MODEL_1a2f13c84da04d1e9e6ef43715c74f77"
       ],
       "scale_x": "IPY_MODEL_0577346d0582472194489b86f6f169f7",
       "scale_y": "IPY_MODEL_223ac963b14649598dd6eb1f5c88995d"
      }
     },
     "87aeadc0f43a45bda302d7af87633190": {
      "model_module": "bqplot",
      "model_module_version": "^0.5.18",
      "model_name": "LinearScaleModel",
      "state": {
       "_model_module_version": "^0.5.18",
       "_view_module_version": "^0.5.18",
       "allow_padding": false,
       "max": 1,
       "min": 0,
       "stabilized": false
      }
     },
     "87c7da2d66a14d78be09c62d745c3388": {
      "model_module": "bqplot",
      "model_module_version": "^0.5.18",
      "model_name": "AxisModel",
      "state": {
       "_model_module_version": "^0.5.18",
       "_view_module_version": "^0.5.18",
       "orientation": "vertical",
       "scale": "IPY_MODEL_b7d2d09fad494b1fa6c962eb6ec4132f",
       "side": "left",
       "tick_values": null
      }
     },
     "87cd11bf01db4245b7519da4e7133365": {
      "model_module": "bqplot",
      "model_module_version": "^0.5.18",
      "model_name": "LinearScaleModel",
      "state": {
       "_model_module_version": "^0.5.18",
       "_view_module_version": "^0.5.18",
       "allow_padding": false,
       "max": 1,
       "min": 0,
       "stabilized": false
      }
     },
     "87f673bf704f4a0d925ae4001cc2d069": {
      "model_module": "bqplot",
      "model_module_version": "^0.5.18",
      "model_name": "LinearScaleModel",
      "state": {
       "_model_module_version": "^0.5.18",
       "_view_module_version": "^0.5.18",
       "allow_padding": false,
       "max": 1,
       "min": 0,
       "stabilized": false
      }
     },
     "88023dc12ea44f09b5ae73d5bc58bb2c": {
      "model_module": "@jupyter-widgets/base",
      "model_module_version": "1.2.0",
      "model_name": "LayoutModel",
      "state": {}
     },
     "880a7ada5d084533aad4e328de1a25f9": {
      "model_module": "bqplot",
      "model_module_version": "^0.5.18",
      "model_name": "FigureModel",
      "state": {
       "_model_module_version": "^0.5.18",
       "_view_module_version": "^0.5.18",
       "axes": [
        "IPY_MODEL_78a82db8419b47608391e57e196cb47a",
        "IPY_MODEL_02855af31865445fb176ac5e9cec80b2"
       ],
       "layout": "IPY_MODEL_aa01fd4f86994b629c1279fd95cbecba",
       "marks": [
        "IPY_MODEL_8a27215b8741460fbe5e03e58d244ac0"
       ],
       "scale_x": "IPY_MODEL_093897374ab64ea5ae098dd4d43563a2",
       "scale_y": "IPY_MODEL_b708ecaef61b46898b099a23782d4411"
      }
     },
     "886ac1a21c954cd88a73d0a58ecc4ef2": {
      "model_module": "bqplot",
      "model_module_version": "^0.5.18",
      "model_name": "AxisModel",
      "state": {
       "_model_module_version": "^0.5.18",
       "_view_module_version": "^0.5.18",
       "orientation": "vertical",
       "scale": "IPY_MODEL_e1304e8c8037415386c77589bd41f1ec",
       "side": "left",
       "tick_values": null
      }
     },
     "892bc75d01c84720b2941399172a6cb8": {
      "model_module": "bqplot",
      "model_module_version": "^0.5.18",
      "model_name": "LinearScaleModel",
      "state": {
       "_model_module_version": "^0.5.18",
       "_view_module_version": "^0.5.18",
       "allow_padding": false,
       "max": 1,
       "min": 0,
       "stabilized": false
      }
     },
     "8997f849f9b2462591f90e43e383c91f": {
      "model_module": "bqplot",
      "model_module_version": "^0.5.18",
      "model_name": "AxisModel",
      "state": {
       "_model_module_version": "^0.5.18",
       "_view_module_version": "^0.5.18",
       "orientation": "vertical",
       "scale": "IPY_MODEL_ec676c33c3504b31addf34157786c674",
       "side": "left",
       "tick_values": null
      }
     },
     "8a1136ab1995444086575f3be5971f8a": {
      "model_module": "@jupyter-widgets/base",
      "model_module_version": "1.2.0",
      "model_name": "LayoutModel",
      "state": {}
     },
     "8a1b830b36d24a8480ff9c28a945a043": {
      "model_module": "@jupyter-widgets/base",
      "model_module_version": "1.2.0",
      "model_name": "LayoutModel",
      "state": {}
     },
     "8a27215b8741460fbe5e03e58d244ac0": {
      "buffers": [
       {
        "data": "HwAAAAcAAAAFAAAABQAAAAUAAAAEAAAABAAAAAMAAAADAAAAAwAAAAMAAAADAAAAAwAAAAMAAAACAAAAAgAAAAIAAAACAAAAAgAAAAIAAAACAAAAAgAAAAIAAAACAAAAAgAAAAIAAAACAAAAAgAAAAIAAAACAAAAAgAAAAIAAAACAAAAAgAAAAIAAAACAAAAAgAAAAEAAAABAAAAAQAAAAEAAAABAAAAAQAAAAEAAAABAAAAAQAAAAEAAAABAAAAAQAAAAEAAAABAAAAAQAAAAEAAAABAAAAAQAAAAEAAAABAAAAAQAAAAEAAAABAAAAAQAAAAEAAAABAAAAAQAAAAEAAAABAAAAAQAAAAEAAAABAAAAAQAAAAEAAAABAAAAAQAAAAEAAAABAAAAAQAAAAEAAAABAAAAAQAAAAEAAAABAAAAAQAAAAEAAAABAAAAAQAAAAEAAAABAAAAAQAAAAEAAAABAAAAAQAAAAEAAAABAAAAAQAAAAEAAAABAAAAAQAAAAEAAAABAAAAAQAAAAEAAAABAAAAAQAAAAEAAAABAAAAAQAAAAEAAAABAAAAAQAAAAEAAAABAAAAAQAAAAEAAAABAAAAAQAAAAEAAAABAAAAAQAAAAEAAAABAAAAAQAAAAEAAAABAAAAAQAAAAEAAAABAAAAAQAAAAEAAAABAAAAAQAAAAEAAAABAAAAAQAAAAEAAAABAAAAAQAAAAEAAAABAAAAAQAAAAEAAAABAAAAAQAAAAEAAAABAAAAAQAAAAEAAAABAAAAAQAAAAEAAAABAAAAAQAAAAEAAAABAAAAAQAAAAEAAAABAAAAAQAAAAEAAAABAAAAAQAAAAEAAAABAAAAAQAAAAEAAAABAAAAAQAAAAEAAAABAAAAAQAAAAEAAAABAAAAAQAAAAEAAAABAAAAAQAAAA==",
        "encoding": "base64",
        "path": [
         "y",
         "value"
        ]
       }
      ],
      "model_module": "bqplot",
      "model_module_version": "^0.5.18",
      "model_name": "BarsModel",
      "state": {
       "_model_module_version": "^0.5.18",
       "_view_module_version": "^0.5.18",
       "label_font_style": {},
       "scales": {
        "x": "IPY_MODEL_b2290c1a11df4687a20d352185bd6b05",
        "y": "IPY_MODEL_a232819f00ab4668b64f3574c8d5c9f7"
       },
       "x": [
        "Various speakers",
        "Facundo Batista",
        "Juan Pedro Fisanotti",
        "Roberto Alsina",
        "Claudio Freire",
        "Damián Avila",
        "Hugo Ruscitti",
        "Alejandro J. Cura",
        "Various Speakers",
        "Diego Sarmentero",
        "Natalia Bidart",
        "Martin Alderete",
        "Rafael Carrascosa",
        "Gabriel Genellina",
        "Ricardo Kirkner",
        "Martín Gaitán",
        "Alejandro Cura",
        "Manuel Quiñones",
        "Diego Cañizares",
        "Massimo Di Pierro",
        "Craig Kerstiens",
        "Luciano Rossi",
        "Ariel Rossanigo",
        "Andrea Gavana",
        "Nicolás Demarchi",
        "Felipe Lerena",
        "Daniel F. Moisset",
        "Matías Bordese",
        "Berenice Larsen Pereyra",
        "Brett Cannon",
        "Javier Mansilla",
        "Sebastián Marró",
        "Emiliano Dalla Verde Marcozzi",
        "Manuel Kaufmann",
        "Sofía Denner",
        "Pedro Ignacio Guridi",
        "Christophe Pettus",
        "Ezequiel Gutesman",
        "Brandon Rhodes",
        "Javier Der Derian",
        "Wesley Chun",
        "Luciano Serruya Aloisi",
        "Carol Willing",
        "Cynthia Monastirsky",
        "Vinicius Feitosa Pacheco",
        "María Andrea Vignau",
        "Sebastian Brachi",
        "Martin Volpe",
        "Ramiro Morales",
        "Sebastián Kennedy",
        "Andrés Riancho",
        "Joaquín Sorianello",
        "David Litvak Bruno",
        "Leonardo Lazzaro",
        "Paola Katherine",
        "Nicolas Quiroz",
        "Flor Novidelsky",
        "Fernando Schapachnik",
        "Juan Manuel Schillaci",
        "Silvestre Huens",
        "Joaquin Sorianello",
        "Dino Viehland",
        "Emilio Crudele",
        "Juan Manuel Santos",
        "Federico Martinez y Santiago Avendaño",
        "Estefania Miguel",
        "Sofia Martin",
        "Ariel Farkas",
        "Alfonso de la Guarda Reyes",
        "Federico Brest",
        "Lucía García Itzigsohn",
        "A. Garassino",
        "Miguel Felipe Duarte",
        "Dave Weil",
        "dax",
        "Matias Barriento",
        "Angel J. Lopez",
        "Tomas Zulberti",
        "Valeria Rocha",
        "Juan Carlos Abdala",
        "Johanna Caterina Faliero",
        "D. Nohales",
        "Carlos de la Torre",
        "Leonardo Morales",
        "Martín Miranda",
        "Aylen Bombelli",
        "Hernan Wilkinson",
        "Martin Riva",
        "Tati Al-Chueyr",
        "Daniel Espinoza",
        "Martin Ribelotta",
        "Lucio Delelis",
        "Diego Diez",
        "Ana Laura Almada",
        "Sofía Martin",
        "Juan Pablo Giménez",
        "Martin Elias Costa",
        "N. Demarchi",
        "Gustavo Garcia Craia",
        "Manuel de la Peña",
        "Javier Derderyan",
        "Valentín Spurchisi",
        "Sebastian Bassi",
        "Jose Morales",
        "Celia Cintas",
        "Pablo Cruz Casas",
        "Augusto Coto",
        "Carolina Maristany",
        "Sergio Schvezov",
        "Angel Freire",
        "Laureano Kloss",
        "Alexis Jawtuschenko",
        "L. Torre",
        "Juan Bagnera",
        "Diego Mascialino",
        "Mariano Guerra",
        "Damian Avila",
        "Cecilia Jarne",
        "Ignacio Heredia",
        "Erico Ándrei",
        "Ana Velez Rueda",
        "Maciej Fijalkowski",
        "Ana Almada",
        "Diego G. Cañizares",
        "David Garoz",
        "Alan Runyan",
        "Eduardo Casarero",
        "Juan E. D.",
        "Mariano Reingart",
        "Héctor Sanchez Gonzalo Odiard",
        "Javyer Der Derian",
        "Emanuel Sartor",
        "Franco Mariluis",
        "Alejandro Pereira",
        "Alejandro Garcia",
        "Erico Andrei",
        "Adriana Aiassa",
        "Pablo Alcain",
        "Robert M Lefkowitz",
        "Matias Lang",
        "Fernando Masanori",
        "Matias Bordese",
        "German Bourdin",
        "Alejandro Zamora Fonseca",
        "Angel Lopez",
        "Simon Willison",
        "M. Quiñones",
        "Mário Sérgio",
        "Francisco Capdevila",
        "Carlos Matías de la Torre",
        "Leandro Ucciferri",
        "Marcelo Fernández",
        "Matias Varela",
        "Ángel Medinilla",
        "Jim Fulton",
        "Mariela Osete",
        "Katherine Jenkins",
        "Nahuel Lascano",
        "Diego Ramirez",
        "Franco Nicolas Bellomo",
        "Andrés Snitcofsky",
        "Mariano Lambir",
        "Rodrigo Lugones",
        "Graciela Molina",
        "Ignacio Fiorentino",
        "Federico Gonzalez (FedeG)",
        "Jeannette Torrez",
        "Victoria Martinez de la Cruz",
        "Thiago Avelino",
        "Álvaro Justen",
        "Alexis Ferreyra",
        "Juan Bautista Cabral",
        "Yonatan Romero",
        "Javier Ayres",
        "Pablo Toledo Margalef"
       ],
       "y": {
        "dtype": "int32",
        "shape": [
         175
        ],
        "type": null
       }
      }
     },
     "8a2aa11b4ff141f0869370fd7721aaf8": {
      "model_module": "@jupyter-widgets/base",
      "model_module_version": "1.2.0",
      "model_name": "LayoutModel",
      "state": {}
     },
     "8a4c6bab8ea1480aa816982e2007f98c": {
      "model_module": "bqplot",
      "model_module_version": "^0.5.18",
      "model_name": "ToolbarModel",
      "state": {
       "_model_module_version": "^0.5.18",
       "_view_module_version": "^0.5.18",
       "figure": "IPY_MODEL_90418e9ec0014650ad847cbe5aa6f8d5",
       "layout": "IPY_MODEL_8a1b830b36d24a8480ff9c28a945a043"
      }
     },
     "8a6eeffaf6674a289e446847f4efe708": {
      "model_module": "bqplot",
      "model_module_version": "^0.5.18",
      "model_name": "LinearScaleModel",
      "state": {
       "_model_module_version": "^0.5.18",
       "_view_module_version": "^0.5.18",
       "allow_padding": false,
       "max": 1,
       "min": 0,
       "stabilized": false
      }
     },
     "8ad518af4eda4b60b59d429ef0d89254": {
      "model_module": "@jupyter-widgets/base",
      "model_module_version": "1.2.0",
      "model_name": "LayoutModel",
      "state": {}
     },
     "8b1e812ad55f4a6ab14f76e4714d1c5b": {
      "model_module": "bqplot",
      "model_module_version": "^0.5.18",
      "model_name": "FigureModel",
      "state": {
       "_model_module_version": "^0.5.18",
       "_view_module_version": "^0.5.18",
       "axes": [
        "IPY_MODEL_108d769053b745d9854b559484d13110",
        "IPY_MODEL_79d251da13ad4e5587f1681a7a9797df"
       ],
       "layout": "IPY_MODEL_94ea1211991648faba22ec06e8daeb4d",
       "marks": [
        "IPY_MODEL_62e6f845241e4da793deebc535529731"
       ],
       "scale_x": "IPY_MODEL_9b0055db48d64b6f8af1c45495ffb17b",
       "scale_y": "IPY_MODEL_f962d22923fd4b7b929ee96b5824d4bd"
      }
     },
     "8b2289e840f64860b6722c5f210e46b9": {
      "model_module": "bqplot",
      "model_module_version": "^0.5.18",
      "model_name": "LinearScaleModel",
      "state": {
       "_model_module_version": "^0.5.18",
       "_view_module_version": "^0.5.18",
       "stabilized": false
      }
     },
     "8b2a6a4a2fa94ca38026ade8c7ad4cf8": {
      "model_module": "@jupyter-widgets/base",
      "model_module_version": "1.2.0",
      "model_name": "LayoutModel",
      "state": {}
     },
     "8b95a259ac6b4621b9b3fcbc5bcb8af3": {
      "model_module": "@jupyter-widgets/base",
      "model_module_version": "1.2.0",
      "model_name": "LayoutModel",
      "state": {}
     },
     "8bcf3db5f2994e9cbc4f07cd31900c75": {
      "model_module": "bqplot",
      "model_module_version": "^0.5.18",
      "model_name": "LinearScaleModel",
      "state": {
       "_model_module_version": "^0.5.18",
       "_view_module_version": "^0.5.18",
       "allow_padding": false,
       "max": 1,
       "min": 0,
       "stabilized": false
      }
     },
     "8bd943b9e8dc4858afdc3aed0bf2dbc0": {
      "model_module": "@jupyter-widgets/controls",
      "model_module_version": "1.5.0",
      "model_name": "VBoxModel",
      "state": {
       "children": [
        "IPY_MODEL_8694d4e77b8f4a62b79d02cb83859fc9",
        "IPY_MODEL_1d2ade07596a40c4ae7458210a617e87"
       ],
       "layout": "IPY_MODEL_276a87ab2f1b48d1a6f4ff06cdf58350"
      }
     },
     "8bedba83a18c4221864403d9867bae10": {
      "model_module": "@jupyter-widgets/base",
      "model_module_version": "1.2.0",
      "model_name": "LayoutModel",
      "state": {}
     },
     "8c077c88e5ef4d38882e22f503c47c0f": {
      "buffers": [
       {
        "data": "AAAAAAEAAAACAAAAAwAAAAQAAAAFAAAABgAAAAcAAAAIAAAACQAAAAoAAAALAAAADAAAAA==",
        "encoding": "base64",
        "path": [
         "x",
         "value"
        ]
       },
       {
        "data": "PAAAACoAAAAkAAAAIAAAABwAAAAaAAAABgAAAAIAAAABAAAAAQAAAAEAAAABAAAAAQAAAA==",
        "encoding": "base64",
        "path": [
         "y",
         "value"
        ]
       }
      ],
      "model_module": "bqplot",
      "model_module_version": "^0.5.18",
      "model_name": "LinesModel",
      "state": {
       "_model_module_version": "^0.5.18",
       "_view_module_version": "^0.5.18",
       "fill_colors": [],
       "labels": [
        "C1"
       ],
       "scales": {
        "x": "IPY_MODEL_79d4fee25e864853a89d60224dcb045d",
        "y": "IPY_MODEL_f1d2cec018e34a0c918f48f4bef7d79d"
       },
       "x": {
        "dtype": "int32",
        "shape": [
         13
        ],
        "type": null
       },
       "y": {
        "dtype": "int32",
        "shape": [
         13
        ],
        "type": null
       }
      }
     },
     "8d275eb0d88840448f5e292939b0a1fb": {
      "model_module": "bqplot",
      "model_module_version": "^0.5.18",
      "model_name": "LinearScaleModel",
      "state": {
       "_model_module_version": "^0.5.18",
       "_view_module_version": "^0.5.18",
       "stabilized": false
      }
     },
     "8fd7a7215d294d5caff4c16ff80fe9fb": {
      "model_module": "bqplot",
      "model_module_version": "^0.5.18",
      "model_name": "ToolbarModel",
      "state": {
       "_model_module_version": "^0.5.18",
       "_view_module_version": "^0.5.18",
       "figure": "IPY_MODEL_ccbbec7cfe30474f8b30982588911eb4",
       "layout": "IPY_MODEL_0e826da7c5254971a2493a8fa679dd65"
      }
     },
     "90418e9ec0014650ad847cbe5aa6f8d5": {
      "model_module": "bqplot",
      "model_module_version": "^0.5.18",
      "model_name": "FigureModel",
      "state": {
       "_model_module_version": "^0.5.18",
       "_view_module_version": "^0.5.18",
       "axes": [
        "IPY_MODEL_278d7232300a4281a89a20529a97c346",
        "IPY_MODEL_f66dc8c67f9f439c855b47a6af9b0de0"
       ],
       "layout": "IPY_MODEL_3129d10c6cd740b7ab7745bb6361896b",
       "marks": [
        "IPY_MODEL_1b81e8d7747f4ade8732069e28ac2b79",
        "IPY_MODEL_e7aee2ee61984e13a008522026a495b8",
        "IPY_MODEL_5fe26208d7fb423186ae03302671623d",
        "IPY_MODEL_7bdb19ab63c64f44b2979cd28fd92f7f"
       ],
       "scale_x": "IPY_MODEL_0f0d73466f924b469f54272af2eb544c",
       "scale_y": "IPY_MODEL_1622501b3c3b4845a533a14690f0fc48"
      }
     },
     "90b19b83707541f18691134a1e4b89a4": {
      "model_module": "@jupyter-widgets/base",
      "model_module_version": "1.2.0",
      "model_name": "LayoutModel",
      "state": {}
     },
     "90f56d93e5af481c87b653c02d2fe201": {
      "model_module": "@jupyter-widgets/base",
      "model_module_version": "1.2.0",
      "model_name": "LayoutModel",
      "state": {}
     },
     "91ef7837efcb4720819ef2c93f32a9c9": {
      "model_module": "@jupyter-widgets/base",
      "model_module_version": "1.2.0",
      "model_name": "LayoutModel",
      "state": {}
     },
     "9216a4f56d2c4bf1b5e3d5e9d6cdc513": {
      "model_module": "@jupyter-widgets/base",
      "model_module_version": "1.2.0",
      "model_name": "LayoutModel",
      "state": {}
     },
     "92215d385a744580a400fb07b63f30bd": {
      "model_module": "@jupyter-widgets/base",
      "model_module_version": "1.2.0",
      "model_name": "LayoutModel",
      "state": {}
     },
     "92f27bfbedc14312953c943efa5a6ae3": {
      "model_module": "@jupyter-widgets/base",
      "model_module_version": "1.2.0",
      "model_name": "LayoutModel",
      "state": {}
     },
     "932b656c79ca4088aa4fd2f4519588d9": {
      "model_module": "bqplot",
      "model_module_version": "^0.5.18",
      "model_name": "FigureModel",
      "state": {
       "_model_module_version": "^0.5.18",
       "_view_module_version": "^0.5.18",
       "layout": "IPY_MODEL_77f882b457fd4020a006a1793e2de64c",
       "scale_x": "IPY_MODEL_2e0d015ba239424588277541698e8ab5",
       "scale_y": "IPY_MODEL_a26e140862e8415e965f824065a09080"
      }
     },
     "93a56a6e22b742ad82bba7f89931b319": {
      "model_module": "bqplot",
      "model_module_version": "^0.5.18",
      "model_name": "AxisModel",
      "state": {
       "_model_module_version": "^0.5.18",
       "_view_module_version": "^0.5.18",
       "label": "Anio",
       "scale": "IPY_MODEL_b4e28c1f0a914c348768ca694c27de95",
       "side": "bottom",
       "tick_values": null
      }
     },
     "93b19edc90a9448caccc9d4f66fc8502": {
      "model_module": "bqplot",
      "model_module_version": "^0.5.18",
      "model_name": "TooltipModel",
      "state": {
       "_model_module_version": "^0.5.18",
       "_view_module_version": "^0.5.18",
       "fields": [
        "x",
        "y",
        "palabra"
       ],
       "formats": [
        "",
        ".2f",
        ""
       ],
       "layout": "IPY_MODEL_068dfffe90ac424f9c3fa412d5fc38ed"
      }
     },
     "9423669f4d6a4dad8ddace721f7f246e": {
      "model_module": "@jupyter-widgets/base",
      "model_module_version": "1.2.0",
      "model_name": "LayoutModel",
      "state": {}
     },
     "94640aebe48543898508628047ceb36b": {
      "model_module": "@jupyter-widgets/base",
      "model_module_version": "1.2.0",
      "model_name": "LayoutModel",
      "state": {}
     },
     "946aa5e687e24ec68ce97d4e65857f6f": {
      "model_module": "@jupyter-widgets/base",
      "model_module_version": "1.2.0",
      "model_name": "LayoutModel",
      "state": {}
     },
     "948432e0c9884cd5bb0f80939e76075c": {
      "model_module": "bqplot",
      "model_module_version": "^0.5.18",
      "model_name": "LinearScaleModel",
      "state": {
       "_model_module_version": "^0.5.18",
       "_view_module_version": "^0.5.18",
       "stabilized": false
      }
     },
     "949d0a21f89f430db9f7c0a9ea8274f8": {
      "model_module": "bqplot",
      "model_module_version": "^0.5.18",
      "model_name": "ToolbarModel",
      "state": {
       "_model_module_version": "^0.5.18",
       "_view_module_version": "^0.5.18",
       "figure": "IPY_MODEL_7f3a25eb74b442489d575a0fe195e5f0",
       "layout": "IPY_MODEL_70225fdc30f34147a0b36a29975374e4"
      }
     },
     "94ea1211991648faba22ec06e8daeb4d": {
      "model_module": "@jupyter-widgets/base",
      "model_module_version": "1.2.0",
      "model_name": "LayoutModel",
      "state": {}
     },
     "94f433db0f0e41f394a921bf89fd1ae9": {
      "model_module": "bqplot",
      "model_module_version": "^0.5.18",
      "model_name": "AxisModel",
      "state": {
       "_model_module_version": "^0.5.18",
       "_view_module_version": "^0.5.18",
       "orientation": "vertical",
       "scale": "IPY_MODEL_9b188b5d116a4868b5c0a8ec4d097e31",
       "side": "left",
       "tick_values": null
      }
     },
     "95f3b138af8143ec86a5a9274e37f991": {
      "model_module": "bqplot",
      "model_module_version": "^0.5.18",
      "model_name": "FigureModel",
      "state": {
       "_model_module_version": "^0.5.18",
       "_view_module_version": "^0.5.18",
       "axes": [
        "IPY_MODEL_6fd9116ba6a44b61b5dfe35ea4f94b09",
        "IPY_MODEL_c5ed0eab3d39475e8021248d51d2ce18"
       ],
       "layout": "IPY_MODEL_6bf09a1f09c146279bd433bea4ca084e",
       "marks": [
        "IPY_MODEL_9fbe7aec0d9748a2942f2fcef9e4b961"
       ],
       "scale_x": "IPY_MODEL_afa6a574170645b09147a86f2b3bb366",
       "scale_y": "IPY_MODEL_3692636908e4461898bde0987562b6fd"
      }
     },
     "96cd41360e554990999326d5e0b814e9": {
      "model_module": "@jupyter-widgets/base",
      "model_module_version": "1.2.0",
      "model_name": "LayoutModel",
      "state": {}
     },
     "97178fc1eb6144669c67e3c388edb17a": {
      "model_module": "bqplot",
      "model_module_version": "^0.5.18",
      "model_name": "AxisModel",
      "state": {
       "_model_module_version": "^0.5.18",
       "_view_module_version": "^0.5.18",
       "scale": "IPY_MODEL_948432e0c9884cd5bb0f80939e76075c",
       "side": "bottom",
       "tick_values": null
      }
     },
     "973c6750bbed4bdbbba32bc2acf0bf2f": {
      "model_module": "bqplot",
      "model_module_version": "^0.5.18",
      "model_name": "FigureModel",
      "state": {
       "_model_module_version": "^0.5.18",
       "_view_module_version": "^0.5.18",
       "axes": [
        "IPY_MODEL_16e1321823744663b492c60078686ab2",
        "IPY_MODEL_7a5a9606298e4ee5a5232575a2177816"
       ],
       "layout": "IPY_MODEL_4653d05c32a5475fa5fffbbaae729e9a",
       "marks": [
        "IPY_MODEL_6a347afd631c4789a7e6fb02c0da00f3"
       ],
       "scale_x": "IPY_MODEL_721687e95c464b0983ca7525a74a8f70",
       "scale_y": "IPY_MODEL_e61422b0f6b0461c85f82b46b5216511"
      }
     },
     "982af5945728434e9ff7dfc32d655828": {
      "model_module": "bqplot",
      "model_module_version": "^0.5.18",
      "model_name": "AxisModel",
      "state": {
       "_model_module_version": "^0.5.18",
       "_view_module_version": "^0.5.18",
       "orientation": "vertical",
       "scale": "IPY_MODEL_f1d2cec018e34a0c918f48f4bef7d79d",
       "side": "left",
       "tick_values": null
      }
     },
     "986929eb1586461da540a011dda0efea": {
      "model_module": "bqplot",
      "model_module_version": "^0.5.18",
      "model_name": "ToolbarModel",
      "state": {
       "_model_module_version": "^0.5.18",
       "_view_module_version": "^0.5.18",
       "figure": "IPY_MODEL_42c04a830cf442ecaa5b1f31e8c45ad0",
       "layout": "IPY_MODEL_09182bbb3eef4f868e7e320ce772ce67"
      }
     },
     "9881848cb7db40369cf9ef74c1e640b2": {
      "model_module": "@jupyter-widgets/base",
      "model_module_version": "1.2.0",
      "model_name": "LayoutModel",
      "state": {}
     },
     "99526f3b5fe34f63b9171c668c061920": {
      "model_module": "bqplot",
      "model_module_version": "^0.5.18",
      "model_name": "LinearScaleModel",
      "state": {
       "_model_module_version": "^0.5.18",
       "_view_module_version": "^0.5.18",
       "stabilized": false
      }
     },
     "99ee95070d4f4bc29350d31dea7b2514": {
      "model_module": "bqplot",
      "model_module_version": "^0.5.18",
      "model_name": "AxisModel",
      "state": {
       "_model_module_version": "^0.5.18",
       "_view_module_version": "^0.5.18",
       "label": "Cantidad de charlas",
       "orientation": "vertical",
       "scale": "IPY_MODEL_629382c1137245eb83b069e2661c2a39",
       "side": "left",
       "tick_values": null
      }
     },
     "9a31bb394f6744ee88d4382245710910": {
      "model_module": "bqplot",
      "model_module_version": "^0.5.18",
      "model_name": "FigureModel",
      "state": {
       "_model_module_version": "^0.5.18",
       "_view_module_version": "^0.5.18",
       "axes": [
        "IPY_MODEL_e8938d2fe55f4431925daf1912f02c19",
        "IPY_MODEL_87c7da2d66a14d78be09c62d745c3388"
       ],
       "layout": "IPY_MODEL_ef640482c4784ff3880e54ddf2e75309",
       "marks": [
        "IPY_MODEL_83b6616030814af29ad8ad4bb7400c49"
       ],
       "scale_x": "IPY_MODEL_523544d3be9a46278afda187e595a401",
       "scale_y": "IPY_MODEL_6f4763475e224af3b64c42a549f82b46"
      }
     },
     "9a34dd2cf72c48588316caf47cbbbf36": {
      "model_module": "@jupyter-widgets/controls",
      "model_module_version": "1.5.0",
      "model_name": "VBoxModel",
      "state": {
       "children": [
        "IPY_MODEL_a5c463a52b0e48ef986233adea79c704",
        "IPY_MODEL_027c9e0f0f104e68813dcb442ca6b920"
       ],
       "layout": "IPY_MODEL_c9457cd18d244f93b7a460ba0c58eb14"
      }
     },
     "9b0055db48d64b6f8af1c45495ffb17b": {
      "model_module": "bqplot",
      "model_module_version": "^0.5.18",
      "model_name": "LinearScaleModel",
      "state": {
       "_model_module_version": "^0.5.18",
       "_view_module_version": "^0.5.18",
       "allow_padding": false,
       "max": 1,
       "min": 0,
       "stabilized": false
      }
     },
     "9b188b5d116a4868b5c0a8ec4d097e31": {
      "model_module": "bqplot",
      "model_module_version": "^0.5.18",
      "model_name": "LinearScaleModel",
      "state": {
       "_model_module_version": "^0.5.18",
       "_view_module_version": "^0.5.18",
       "stabilized": false
      }
     },
     "9b6e4447a3d445e28873bbb128410d4a": {
      "model_module": "bqplot",
      "model_module_version": "^0.5.18",
      "model_name": "ToolbarModel",
      "state": {
       "_model_module_version": "^0.5.18",
       "_view_module_version": "^0.5.18",
       "figure": "IPY_MODEL_9d921d3a7e7746fd8efbb6709eedb45b",
       "layout": "IPY_MODEL_d7b7092506aa41b9af568d188c587614"
      }
     },
     "9c7171bf97684df5b5518b4639f228d8": {
      "model_module": "@jupyter-widgets/base",
      "model_module_version": "1.2.0",
      "model_name": "LayoutModel",
      "state": {}
     },
     "9cc183a2bb794371a1adcd564b124302": {
      "model_module": "bqplot",
      "model_module_version": "^0.5.18",
      "model_name": "AxisModel",
      "state": {
       "_model_module_version": "^0.5.18",
       "_view_module_version": "^0.5.18",
       "scale": "IPY_MODEL_b2a3aac93c804497a7898b72db88a929",
       "side": "bottom",
       "tick_values": null
      }
     },
     "9d921d3a7e7746fd8efbb6709eedb45b": {
      "model_module": "bqplot",
      "model_module_version": "^0.5.18",
      "model_name": "FigureModel",
      "state": {
       "_model_module_version": "^0.5.18",
       "_view_module_version": "^0.5.18",
       "axes": [
        "IPY_MODEL_c1fa7a0e06f6454aafd1afb2e52dc96d",
        "IPY_MODEL_efbc464c930f4f02a27423c535ed073c"
       ],
       "layout": "IPY_MODEL_40d3d0ef2c3a4973838c100705363fe6",
       "marks": [
        "IPY_MODEL_071a2afbff9942a6b57daab9f3b9bcb2"
       ],
       "scale_x": "IPY_MODEL_81fc68cc9a624a48ba62cc72dbd8499f",
       "scale_y": "IPY_MODEL_dc4a2f5589b14f67ac3fd8f6a67f3a94"
      }
     },
     "9d93fed10944418485c0282938d05bc6": {
      "model_module": "bqplot",
      "model_module_version": "^0.5.18",
      "model_name": "AxisModel",
      "state": {
       "_model_module_version": "^0.5.18",
       "_view_module_version": "^0.5.18",
       "scale": "IPY_MODEL_a166a6180a7547f5bdddd2df0420ef13",
       "side": "bottom",
       "tick_values": null
      }
     },
     "9dae4c5b9ea6471b9d262a04f495d635": {
      "model_module": "@jupyter-widgets/base",
      "model_module_version": "1.2.0",
      "model_name": "LayoutModel",
      "state": {}
     },
     "9e5e8d1c70a64c298b24c642e7a61d69": {
      "model_module": "@jupyter-widgets/base",
      "model_module_version": "1.2.0",
      "model_name": "LayoutModel",
      "state": {}
     },
     "9ee3bce74d264da79c73614732cca5f9": {
      "model_module": "bqplot",
      "model_module_version": "^0.5.18",
      "model_name": "AxisModel",
      "state": {
       "_model_module_version": "^0.5.18",
       "_view_module_version": "^0.5.18",
       "orientation": "vertical",
       "scale": "IPY_MODEL_0869017a92af4904b61edd988ad747d8",
       "side": "left",
       "tick_values": null
      }
     },
     "9fbe7aec0d9748a2942f2fcef9e4b961": {
      "buffers": [
       {
        "data": "HwAAAAcAAAAFAAAABQAAAAUAAAAEAAAABAAAAAMAAAADAAAAAwAAAAMAAAADAAAAAwAAAAMAAAACAAAAAgAAAAIAAAACAAAAAgAAAAIAAAACAAAAAgAAAAIAAAACAAAAAgAAAAIAAAACAAAAAgAAAAIAAAACAAAAAgAAAAIAAAACAAAAAgAAAAIAAAACAAAAAgAAAAEAAAABAAAAAQAAAAEAAAABAAAAAQAAAAEAAAABAAAAAQAAAAEAAAABAAAAAQAAAAEAAAABAAAAAQAAAAEAAAABAAAAAQAAAAEAAAABAAAAAQAAAAEAAAABAAAAAQAAAAEAAAABAAAAAQAAAAEAAAABAAAAAQAAAAEAAAABAAAAAQAAAAEAAAABAAAAAQAAAAEAAAABAAAAAQAAAAEAAAABAAAAAQAAAAEAAAABAAAAAQAAAAEAAAABAAAAAQAAAAEAAAABAAAAAQAAAAEAAAABAAAAAQAAAAEAAAABAAAAAQAAAAEAAAABAAAAAQAAAAEAAAABAAAAAQAAAAEAAAABAAAAAQAAAAEAAAABAAAAAQAAAAEAAAABAAAAAQAAAAEAAAABAAAAAQAAAAEAAAABAAAAAQAAAAEAAAABAAAAAQAAAAEAAAABAAAAAQAAAAEAAAABAAAAAQAAAAEAAAABAAAAAQAAAAEAAAABAAAAAQAAAAEAAAABAAAAAQAAAAEAAAABAAAAAQAAAAEAAAABAAAAAQAAAAEAAAABAAAAAQAAAAEAAAABAAAAAQAAAAEAAAABAAAAAQAAAAEAAAABAAAAAQAAAAEAAAABAAAAAQAAAAEAAAABAAAAAQAAAAEAAAABAAAAAQAAAAEAAAABAAAAAQAAAAEAAAABAAAAAQAAAAEAAAABAAAAAQAAAAEAAAABAAAAAQAAAAEAAAABAAAAAQAAAA==",
        "encoding": "base64",
        "path": [
         "y",
         "value"
        ]
       }
      ],
      "model_module": "bqplot",
      "model_module_version": "^0.5.18",
      "model_name": "ScatterModel",
      "state": {
       "_model_module_version": "^0.5.18",
       "_view_module_version": "^0.5.18",
       "default_opacities": {
        "dtype": "float64",
        "shape": [
         1
        ],
        "type": null,
        "value": {}
       },
       "label_display_horizontal_offset": 0,
       "label_display_vertical_offset": 0,
       "names": null,
       "scales": {
        "x": "IPY_MODEL_f8dc9081cb3743bd88192a85ef5853dd",
        "y": "IPY_MODEL_007528f904ca45b6abf7afb5967a907e"
       },
       "scales_metadata": {
        "color": {
         "dimension": "color"
        },
        "opacity": {
         "dimension": "opacity"
        },
        "rotation": {
         "dimension": "rotation"
        },
        "size": {
         "dimension": "size"
        },
        "skew": {
         "dimension": "skew"
        },
        "x": {
         "dimension": "x",
         "orientation": "horizontal"
        },
        "y": {
         "dimension": "y",
         "orientation": "vertical"
        }
       },
       "x": [
        "Various speakers",
        "Facundo Batista",
        "Juan Pedro Fisanotti",
        "Roberto Alsina",
        "Claudio Freire",
        "Damián Avila",
        "Hugo Ruscitti",
        "Alejandro J. Cura",
        "Various Speakers",
        "Diego Sarmentero",
        "Natalia Bidart",
        "Martin Alderete",
        "Rafael Carrascosa",
        "Gabriel Genellina",
        "Ricardo Kirkner",
        "Martín Gaitán",
        "Alejandro Cura",
        "Manuel Quiñones",
        "Diego Cañizares",
        "Massimo Di Pierro",
        "Craig Kerstiens",
        "Luciano Rossi",
        "Ariel Rossanigo",
        "Andrea Gavana",
        "Nicolás Demarchi",
        "Felipe Lerena",
        "Daniel F. Moisset",
        "Matías Bordese",
        "Berenice Larsen Pereyra",
        "Brett Cannon",
        "Javier Mansilla",
        "Sebastián Marró",
        "Emiliano Dalla Verde Marcozzi",
        "Manuel Kaufmann",
        "Sofía Denner",
        "Pedro Ignacio Guridi",
        "Christophe Pettus",
        "Ezequiel Gutesman",
        "Brandon Rhodes",
        "Javier Der Derian",
        "Wesley Chun",
        "Luciano Serruya Aloisi",
        "Carol Willing",
        "Cynthia Monastirsky",
        "Vinicius Feitosa Pacheco",
        "María Andrea Vignau",
        "Sebastian Brachi",
        "Martin Volpe",
        "Ramiro Morales",
        "Sebastián Kennedy",
        "Andrés Riancho",
        "Joaquín Sorianello",
        "David Litvak Bruno",
        "Leonardo Lazzaro",
        "Paola Katherine",
        "Nicolas Quiroz",
        "Flor Novidelsky",
        "Fernando Schapachnik",
        "Juan Manuel Schillaci",
        "Silvestre Huens",
        "Joaquin Sorianello",
        "Dino Viehland",
        "Emilio Crudele",
        "Juan Manuel Santos",
        "Federico Martinez y Santiago Avendaño",
        "Estefania Miguel",
        "Sofia Martin",
        "Ariel Farkas",
        "Alfonso de la Guarda Reyes",
        "Federico Brest",
        "Lucía García Itzigsohn",
        "A. Garassino",
        "Miguel Felipe Duarte",
        "Dave Weil",
        "dax",
        "Matias Barriento",
        "Angel J. Lopez",
        "Tomas Zulberti",
        "Valeria Rocha",
        "Juan Carlos Abdala",
        "Johanna Caterina Faliero",
        "D. Nohales",
        "Carlos de la Torre",
        "Leonardo Morales",
        "Martín Miranda",
        "Aylen Bombelli",
        "Hernan Wilkinson",
        "Martin Riva",
        "Tati Al-Chueyr",
        "Daniel Espinoza",
        "Martin Ribelotta",
        "Lucio Delelis",
        "Diego Diez",
        "Ana Laura Almada",
        "Sofía Martin",
        "Juan Pablo Giménez",
        "Martin Elias Costa",
        "N. Demarchi",
        "Gustavo Garcia Craia",
        "Manuel de la Peña",
        "Javier Derderyan",
        "Valentín Spurchisi",
        "Sebastian Bassi",
        "Jose Morales",
        "Celia Cintas",
        "Pablo Cruz Casas",
        "Augusto Coto",
        "Carolina Maristany",
        "Sergio Schvezov",
        "Angel Freire",
        "Laureano Kloss",
        "Alexis Jawtuschenko",
        "L. Torre",
        "Juan Bagnera",
        "Diego Mascialino",
        "Mariano Guerra",
        "Damian Avila",
        "Cecilia Jarne",
        "Ignacio Heredia",
        "Erico Ándrei",
        "Ana Velez Rueda",
        "Maciej Fijalkowski",
        "Ana Almada",
        "Diego G. Cañizares",
        "David Garoz",
        "Alan Runyan",
        "Eduardo Casarero",
        "Juan E. D.",
        "Mariano Reingart",
        "Héctor Sanchez Gonzalo Odiard",
        "Javyer Der Derian",
        "Emanuel Sartor",
        "Franco Mariluis",
        "Alejandro Pereira",
        "Alejandro Garcia",
        "Erico Andrei",
        "Adriana Aiassa",
        "Pablo Alcain",
        "Robert M Lefkowitz",
        "Matias Lang",
        "Fernando Masanori",
        "Matias Bordese",
        "German Bourdin",
        "Alejandro Zamora Fonseca",
        "Angel Lopez",
        "Simon Willison",
        "M. Quiñones",
        "Mário Sérgio",
        "Francisco Capdevila",
        "Carlos Matías de la Torre",
        "Leandro Ucciferri",
        "Marcelo Fernández",
        "Matias Varela",
        "Ángel Medinilla",
        "Jim Fulton",
        "Mariela Osete",
        "Katherine Jenkins",
        "Nahuel Lascano",
        "Diego Ramirez",
        "Franco Nicolas Bellomo",
        "Andrés Snitcofsky",
        "Mariano Lambir",
        "Rodrigo Lugones",
        "Graciela Molina",
        "Ignacio Fiorentino",
        "Federico Gonzalez (FedeG)",
        "Jeannette Torrez",
        "Victoria Martinez de la Cruz",
        "Thiago Avelino",
        "Álvaro Justen",
        "Alexis Ferreyra",
        "Juan Bautista Cabral",
        "Yonatan Romero",
        "Javier Ayres",
        "Pablo Toledo Margalef"
       ],
       "y": {
        "dtype": "int32",
        "shape": [
         175
        ],
        "type": null
       }
      }
     },
     "a013e04bf54f4fe3a18263471bd5b84c": {
      "model_module": "@jupyter-widgets/controls",
      "model_module_version": "1.5.0",
      "model_name": "VBoxModel",
      "state": {
       "children": [
        "IPY_MODEL_7d3fd1d80d5048b7abe8e3f2a1a26edd",
        "IPY_MODEL_6fb5978195c44d48bbb3badb5ad6fd0e"
       ],
       "layout": "IPY_MODEL_f7e21426ae60493ab4658efcb401c48d"
      }
     },
     "a05126d267824b7b848e2c2c3813f231": {
      "buffers": [
       {
        "data": "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",
        "encoding": "base64",
        "path": [
         "x",
         "value"
        ]
       },
       {
        "data": "OAAAADQAAAAwAAAALgAAAB4AAAAcAAAAHAAAABwAAAAbAAAAGwAAABoAAAAYAAAAFwAAABMAAAARAAAADwAAAA4AAAANAAAADAAAAAwAAAAKAAAACgAAAAkAAAAJAAAACQAAAAgAAAAIAAAABwAAAAcAAAAGAAAABgAAAAUAAAAFAAAABQAAAAUAAAAFAAAABQAAAAUAAAAFAAAABQAAAAQAAAAEAAAABAAAAAQAAAAEAAAABAAAAAQAAAAEAAAABAAAAAQAAAAEAAAABAAAAAQAAAAEAAAABAAAAAQAAAAEAAAAAwAAAAMAAAADAAAAAwAAAAMAAAADAAAAAwAAAAMAAAADAAAAAwAAAAMAAAADAAAAAwAAAAMAAAADAAAAAwAAAAMAAAADAAAAAwAAAAMAAAADAAAAAwAAAAMAAAADAAAAAwAAAAMAAAADAAAAAwAAAAMAAAADAAAAAwAAAAMAAAADAAAAAwAAAAMAAAADAAAAAwAAAAIAAAACAAAAAgAAAAIAAAACAAAAAgAAAAIAAAACAAAAAgAAAAIAAAACAAAAAgAAAAIAAAACAAAAAgAAAAIAAAACAAAAAgAAAAIAAAACAAAAAgAAAAIAAAACAAAAAgAAAAIAAAACAAAAAgAAAAIAAAACAAAAAgAAAAIAAAACAAAAAgAAAAIAAAACAAAAAgAAAAIAAAACAAAAAgAAAAIAAAACAAAAAgAAAAIAAAACAAAAAgAAAAIAAAACAAAAAgAAAAIAAAACAAAAAgAAAAIAAAACAAAAAgAAAAIAAAACAAAAAgAAAAIAAAACAAAAAgAAAAIAAAACAAAAAgAAAAIAAAACAAAAAgAAAAIAAAACAAAAAgAAAAIAAAACAAAAAgAAAAIAAAACAAAAAgAAAAIAAAACAAAAAgAAAAIAAAACAAAAAQAAAAEAAAABAAAAAQAAAAEAAAABAAAAAQAAAAEAAAABAAAAAQAAAAEAAAABAAAAAQAAAAEAAAABAAAAAQAAAAEAAAABAAAAAQAAAAEAAAABAAAAAQAAAAEAAAABAAAAAQAAAAEAAAABAAAAAQAAAAEAAAABAAAAAQAAAAEAAAABAAAAAQAAAAEAAAABAAAAAQAAAAEAAAABAAAAAQAAAAEAAAABAAAAAQAAAAEAAAABAAAAAQAAAAEAAAABAAAAAQAAAAEAAAABAAAAAQAAAAEAAAABAAAAAQAAAAEAAAABAAAAAQAAAAEAAAABAAAAAQAAAAEAAAABAAAAAQAAAAEAAAABAAAAAQAAAAEAAAABAAAAAQAAAAEAAAABAAAAAQAAAAEAAAABAAAAAQAAAAEAAAABAAAAAQAAAAEAAAABAAAAAQAAAAEAAAABAAAAAQAAAAEAAAABAAAAAQAAAAEAAAABAAAAAQAAAAEAAAABAAAAAQAAAAEAAAABAAAAAQAAAAEAAAABAAAAAQAAAAEAAAABAAAAAQAAAAEAAAABAAAAAQAAAAEAAAABAAAAAQAAAAEAAAABAAAAAQAAAAEAAAABAAAAAQAAAAEAAAABAAAAAQAAAAEAAAABAAAAAQAAAAEAAAABAAAAAQAAAAEAAAABAAAAAQAAAAEAAAABAAAAAQAAAAEAAAABAAAAAQAAAAEAAAABAAAAAQAAAAEAAAABAAAAAQAAAAEAAAABAAAAAQAAAAEAAAABAAAAAQAAAAEAAAABAAAAAQAAAAEAAAABAAAAAQAAAAEAAAABAAAAAQAAAAEAAAABAAAAAQAAAAEAAAABAAAAAQAAAAEAAAABAAAAAQAAAAEAAAABAAAAAQAAAAEAAAABAAAAAQAAAAEAAAABAAAAAQAAAAEAAAABAAAAAQAAAAEAAAABAAAAAQAAAAEAAAABAAAAAQAAAAEAAAABAAAAAQAAAAEAAAABAAAAAQAAAAEAAAABAAAAAQAAAAEAAAABAAAAAQAAAAEAAAABAAAAAQAAAAEAAAABAAAAAQAAAAEAAAABAAAAAQAAAAEAAAABAAAAAQAAAAEAAAABAAAAAQAAAAEAAAABAAAAAQAAAAEAAAABAAAAAQAAAAEAAAABAAAAAQAAAAEAAAABAAAAAQAAAAEAAAABAAAAAQAAAAEAAAABAAAAAQAAAAEAAAABAAAAAQAAAAEAAAABAAAAAQAAAAEAAAABAAAAAQAAAAEAAAABAAAAAQAAAAEAAAABAAAAAQAAAAEAAAABAAAAAQAAAAEAAAABAAAAAQAAAAEAAAABAAAAAQAAAAEAAAABAAAAAQAAAAEAAAABAAAAAQAAAAEAAAABAAAAAQAAAAEAAAABAAAAAQAAAAEAAAABAAAAAQAAAAEAAAABAAAAAQAAAAEAAAABAAAAAQAAAAEAAAABAAAAAQAAAAEAAAABAAAAAQAAAAEAAAABAAAAAQAAAAEAAAABAAAAAQAAAAEAAAABAAAAAQAAAAEAAAABAAAAAQAAAAEAAAABAAAAAQAAAAEAAAABAAAAAQAAAAEAAAABAAAAAQAAAAEAAAABAAAAAQAAAAEAAAABAAAAAQAAAAEAAAABAAAAAQAAAAEAAAABAAAAAQAAAAEAAAABAAAAAQAAAAEAAAABAAAAAQAAAAEAAAABAAAAAQAAAAEAAAABAAAAAQAAAAEAAAABAAAAAQAAAAEAAAABAAAAAQAAAAEAAAABAAAAAQAAAAEAAAABAAAAAQAAAAEAAAABAAAAAQAAAAEAAAABAAAAAQAAAAEAAAABAAAAAQAAAAEAAAABAAAAAQAAAAEAAAABAAAAAQAAAAEAAAABAAAAAQAAAAEAAAABAAAAAQAAAAEAAAABAAAAAQAAAAEAAAABAAAAAQAAAAEAAAABAAAAAQAAAAEAAAABAAAAAQAAAAEAAAABAAAAAQAAAAEAAAABAAAAAQAAAAEAAAABAAAAAQAAAAEAAAABAAAAAQAAAAEAAAABAAAAAQAAAAEAAAABAAAAAQAAAAEAAAABAAAAAQAAAAEAAAABAAAAAQAAAAEAAAABAAAAAQAAAAEAAAABAAAAAQAAAAEAAAABAAAAAQAAAAEAAAABAAAAAQAAAAEAAAABAAAAAQAAAAEAAAABAAAAAQAAAAEAAAABAAAAAQAAAAEAAAABAAAAAQAAAAEAAAABAAAAAQAAAAEAAAABAAAAAQAAAAEAAAABAAAAAQAAAAEAAAABAAAAAQAAAAEAAAABAAAAAQAAAAEAAAABAAAAAQAAAAEAAAABAAAAAQAAAAEAAAABAAAAAQAAAAEAAAABAAAAAQAAAAEAAAABAAAAAQAAAAEAAAABAAAAAQAAAAEAAAABAAAAAQAAAAEAAAABAAAAAQAAAAEAAAABAAAAAQAAAAEAAAABAAAAAQAAAAEAAAABAAAAAQAAAAEAAAABAAAAAQAAAAEAAAABAAAAAQAAAAEAAAABAAAAAQAAAAEAAAABAAAAAQAAAAEAAAABAAAAAQAAAAEAAAABAAAAAQAAAAEAAAABAAAAAQAAAAEAAAABAAAAAQAAAAEAAAABAAAAAQAAAAEAAAABAAAAAQAAAAEAAAABAAAAAQAAAAEAAAABAAAAAQAAAAEAAAABAAAAAQAAAAEAAAABAAAAAQAAAAEAAAABAAAAAQAAAAEAAAABAAAAAQAAAAEAAAABAAAAAQAAAAEAAAABAAAAAQAAAAEAAAABAAAAAQAAAAEAAAABAAAAAQAAAAEAAAABAAAAAQAAAAEAAAABAAAAAQAAAAEAAAABAAAAAQAAAAEAAAABAAAAAQAAAAEAAAABAAAAAQAAAAEAAAABAAAAAQAAAAEAAAA=",
        "encoding": "base64",
        "path": [
         "y",
         "value"
        ]
       }
      ],
      "model_module": "bqplot",
      "model_module_version": "^0.5.18",
      "model_name": "ScatterModel",
      "state": {
       "_model_module_version": "^0.5.18",
       "_view_module_version": "^0.5.18",
       "colors": [
        "dodgerblue"
       ],
       "default_opacities": {
        "dtype": "float64",
        "shape": [
         1
        ],
        "type": null,
        "value": {}
       },
       "display_names": false,
       "label_display_horizontal_offset": 0,
       "label_display_vertical_offset": 0,
       "names": [
        "de",
        "python",
        "",
        "con",
        "11",
        "lightning",
        "en",
        "talk",
        "2012",
        "a",
        "y",
        "la",
        "el",
        "para",
        "17",
        "18",
        "introduccion",
        "un",
        "django",
        "16",
        "no",
        "19",
        "aplicaciones",
        "al",
        "que",
        "las",
        "como",
        "charlas",
        "web",
        "24",
        "del",
        "haciendo",
        "keynote",
        "me",
        "to",
        "2",
        "datos",
        "una",
        "learning",
        "por",
        "machine",
        "3",
        "open",
        "usando",
        "aprendizaje",
        "relampago",
        "o",
        "lo",
        "juegos",
        "import",
        "00",
        "pilas",
        "c",
        "programacion",
        "argentina",
        "engine",
        "desarrollo",
        "sin",
        "arguments",
        "sistemas",
        "default",
        "libre",
        "proyectos",
        "procesamiento",
        "optimizando",
        "quilom",
        "entendiendo",
        "codigo",
        "todo",
        "otros",
        "arduino",
        "40",
        "10",
        "mutable",
        "pypy",
        "20",
        "2018",
        "analisis",
        "lenguaje",
        "software",
        "dia",
        "how",
        "poco",
        "48",
        "bindings",
        "tryton",
        "14",
        "rapidas",
        "heroku",
        "is",
        "with",
        "detalles",
        "desde",
        "framework",
        "google",
        "42",
        "platform",
        "mas",
        "keras",
        "web2py",
        "asterisk",
        "redes",
        "metodos",
        "it",
        "diversidad",
        "sus",
        "usar",
        "micropython",
        "cientifico",
        "sabado",
        "data",
        "jupyter",
        "comunidad",
        "tus",
        "javascript",
        "brazil",
        "camino",
        "06",
        "development",
        "minutos",
        "mejor",
        "twisted",
        "videojuegos",
        "asyncio",
        "and",
        "50",
        "rest",
        "desarrollar",
        "unicode",
        "humanos",
        "hacer",
        "pandas",
        "neuronales",
        "paso",
        "automatico",
        "plone",
        "notebook",
        "microframework",
        "28",
        "guia",
        "29",
        "services",
        "implementando",
        "ultima",
        "by",
        "morir",
        "building",
        "testing",
        "electromecanicos",
        "flask",
        "ser",
        "programando",
        "engineering",
        "digital",
        "1",
        "es",
        "conectando",
        "utilizando",
        "tu",
        "voip",
        "desarrollando",
        "pycon",
        "saber",
        "bots",
        "brasil",
        "amazon",
        "30",
        "apps",
        "los",
        "produccion",
        "source",
        "microservices",
        "app",
        "infinitos",
        "medio",
        "better",
        "compartiendo",
        "secuencias",
        "despliegue",
        "ponty",
        "perspective",
        "nacion",
        "otro",
        "cruz",
        "peirceana",
        "loads",
        "movil",
        "autopsias",
        "activation",
        "diagnostico",
        "attributeerror",
        "conocido",
        "aproximar",
        "sharing",
        "justicia",
        "deberia",
        "alto",
        "works",
        "7",
        "merleau",
        "little",
        "controlando",
        "55",
        "lidiando",
        "so",
        "silicio",
        "ast",
        "lean",
        "esperabas",
        "possible",
        "iterando",
        "solucion",
        "gov",
        "mil",
        "poniendonos",
        "pyopencl",
        "accesibilidad",
        "puede",
        "docs",
        "lados",
        "programar",
        "visualizacion",
        "perfiles",
        "mantener",
        "adaptando",
        "than",
        "queres",
        "multijugador",
        "tiempo",
        "aima",
        "are",
        "viernes",
        "3d",
        "nuestra",
        "git",
        "power",
        "scikit",
        "orm",
        "170",
        "version",
        "pajar",
        "react",
        "00027_720i_fast",
        "destruyendo",
        "conocer",
        "xxi",
        "servicio",
        "00022_720i_fast",
        "schapachnik",
        "inferencia",
        "escafandra",
        "geopandas",
        "what",
        "arte",
        "00030_720i_fast",
        "tour",
        "necesario",
        "pytonico",
        "00005_720i_fast",
        "primera",
        "todes",
        "objetos",
        "geneticos",
        "much",
        "importa",
        "nunca",
        "generacion",
        "from",
        "va",
        "practicas",
        "edu",
        "25",
        "toda",
        "experiencias",
        "meetup",
        "concurrencia",
        "gamificacion",
        "versatil",
        "estampidas",
        "voy",
        "london",
        "00038_720i_fast",
        "qutebrowser",
        "traerla",
        "moving",
        "pie",
        "robotica",
        "job",
        "async",
        "charlatanes",
        "diferenciales",
        "armemos",
        "start",
        "area",
        "telegram",
        "educativo",
        "ceder",
        "rehusarse",
        "tamano",
        "parser",
        "pregunta",
        "e",
        "instalado",
        "datawarehousing",
        "computacion",
        "medicina",
        "boton",
        "medinilla",
        "52",
        "sleeping",
        "maxima",
        "palo",
        "pythonica",
        "migrating",
        "build",
        "that",
        "alguien",
        "__init__",
        "00034_720i_fast",
        "gui2py",
        "nbconversion",
        "geek",
        "experimentos",
        "estandarizar",
        "yatel",
        "game",
        "debe",
        "trucos",
        "openid",
        "entorno",
        "transaccion",
        "raspberrypi",
        "cv",
        "inclusion",
        "proxies",
        "desafios",
        "gil",
        "modding",
        "sleepy",
        "pyjustice",
        "apertura",
        "scenes",
        "gevent",
        "deuda",
        "sugar",
        "cortaste",
        "blender",
        "sobreviviendo",
        "twitter",
        "recorriendo",
        "convivencia",
        "test",
        "inteligencia",
        "d",
        "instrumento",
        "malas",
        "dask",
        "sindrome",
        "panel",
        "reusar",
        "poliedrales",
        "games",
        "swag",
        "linux",
        "08",
        "paralelo",
        "please",
        "00002_720i_fast",
        "coccion",
        "mallas",
        "mining",
        "industriales",
        "derechos",
        "observabilidad",
        "46",
        "cualquier",
        "entre",
        "mi",
        "estilo",
        "layer",
        "controlar",
        "iteradores",
        "02",
        "inclusiva",
        "sueno",
        "enfoque",
        "rhodes",
        "memoria",
        "formatos",
        "torrent",
        "multiprocessing",
        "trabajo",
        "talks",
        "angel",
        "browser",
        "extendiendo",
        "refuerzo",
        "revoluciona",
        "pattern",
        "corren",
        "lineas",
        "programador",
        "peor",
        "aprendiendo",
        "cliente",
        "channels",
        "gtk",
        "always",
        "desempolvando",
        "attribute",
        "monitoreo",
        "t",
        "laboratorios",
        "derecho",
        "willing",
        "sho",
        "gui",
        "health",
        "rapido",
        "magicos",
        "openerp",
        "wx",
        "00001_720i_fast",
        "sorpresa",
        "buscando",
        "analiza",
        "aguja",
        "presentacion",
        "zmq",
        "haystack",
        "bot",
        "spark",
        "lambda",
        "kivy",
        "ponele",
        "0",
        "buenas",
        "adn",
        "oily",
        "semantica",
        "00032_720i_fast",
        "don",
        "ingenieria",
        "00031_720i_fast",
        "ciaa",
        "00029_720i_fast",
        "menos",
        "01",
        "machismo",
        "caching",
        "premios",
        "magico",
        "gnu",
        "visuales",
        "deferreds",
        "security",
        "ecuaciones",
        "things",
        "mvc",
        "has",
        "seres",
        "00006_720i_fast",
        "fortran",
        "martinez",
        "native",
        "exprimir",
        "siglo",
        "desempeno",
        "mundo",
        "support",
        "12",
        "brandon",
        "infraestrucura",
        "programadores",
        "manana",
        "object",
        "option",
        "massive",
        "your",
        "natural",
        "defendiendo",
        "provider",
        "trampa",
        "bytecode",
        "gente",
        "patterns",
        "programming",
        "s",
        "necesitas",
        "behind",
        "funcional",
        "spaces",
        "reverse",
        "obras",
        "00024_720i_fast",
        "video",
        "proceso",
        "comunicando",
        "desktop",
        "ideas",
        "fu",
        "cerrar",
        "uses",
        "tal",
        "debugger",
        "rol",
        "educacion",
        "grok",
        "egov",
        "when",
        "gauchito",
        "learn",
        "snake",
        "mongodb",
        "59",
        "segundos",
        "gis",
        "maybe",
        "35",
        "ponete",
        "escuela",
        "32",
        "mineria",
        "buildout",
        "00004_720i_fast",
        "multiprocesamiento",
        "nameko",
        "br",
        "unidades",
        "45",
        "feas",
        "seguridad",
        "toca",
        "pyqt",
        "connect",
        "snakes",
        "quick",
        "cadenas",
        "vinculando",
        "cuando",
        "56",
        "cifrado",
        "congreso",
        "rosario",
        "recurso",
        "under",
        "site",
        "procesos",
        "makes",
        "tarde",
        "the",
        "todos",
        "deconstrui",
        "mejores",
        "hordas",
        "00007_720i_fast",
        "informaticas",
        "serio",
        "era",
        "colaborar",
        "literacy",
        "interactivo",
        "introduction",
        "portar",
        "sistema",
        "science",
        "entrega",
        "90",
        "eventbrite",
        "perlas",
        "contributions",
        "be",
        "http",
        "2013",
        "pythonicidad",
        "dbus",
        "ipython",
        "texto",
        "api",
        "logica",
        "nodos",
        "obvia",
        "html5",
        "bulding",
        "up",
        "05",
        "herramientas",
        "psycoanalisis",
        "fabric",
        "00026_720i_fast",
        "vieja",
        "looz",
        "at",
        "cython",
        "destruir",
        "myhdl",
        "4",
        "should",
        "help",
        "ambiente",
        "futuro",
        "streaming",
        "issues",
        "eficientemente",
        "docker",
        "nation",
        "mediante",
        "momentos",
        "cierre",
        "infraestructrura",
        "cientificos",
        "viajes",
        "escritorio",
        "parciales",
        "segundo",
        "automatizando",
        "energy",
        "bloqueantes",
        "victoria",
        "36",
        "evento",
        "nuestros",
        "jugando",
        "telefonia",
        "procesando",
        "03",
        "forense",
        "07",
        "genero",
        "docopt",
        "00023_720i_fast",
        "not",
        "legal",
        "revolucion",
        "documentacion",
        "still",
        "hagamos",
        "opencl",
        "00009_720i_fast",
        "navegando",
        "blockchain",
        "partes",
        "reservoir",
        "00010_720i_fast",
        "erp",
        "vida",
        "powered",
        "maravillas",
        "00003_720i_fast",
        "tale",
        "00008_720i_fast",
        "gran",
        "suenos",
        "pybr12",
        "tenes",
        "design",
        "15",
        "wins",
        "geneticas",
        "poniendole",
        "ayuda",
        "spdy",
        "raspnier",
        "red",
        "call",
        "derivadas",
        "enfrentamos",
        "armar",
        "54",
        "deep",
        "00021_720i_fast",
        "00036_720i_fast",
        "ui",
        "postgresql",
        "pygtk",
        "00033_720i_fast",
        "tiene",
        "mal",
        "bioinformatica",
        "fenotipicos",
        "cross",
        "tecnica",
        "44",
        "laburo",
        "socioeconomicos",
        "propio",
        "ordenando",
        "title",
        "vim",
        "exploracion",
        "00020_720i_fast",
        "androide",
        "flatpak",
        "00028_720i_fast",
        "57",
        "tipos",
        "carol",
        "easy",
        "application",
        "of",
        "trust",
        "distro",
        "neverending",
        "fernando",
        "sobre",
        "empecemos",
        "kinect",
        "soluciones",
        "apis",
        "sale",
        "deploy",
        "paralela",
        "intento",
        "artificial",
        "durar",
        "00025_720i_fast"
       ],
       "scales": {
        "x": "IPY_MODEL_50bf117bb3754216bbe7aebde712dc57",
        "y": "IPY_MODEL_804fbe60a5dc4216a6782cb26507d553"
       },
       "scales_metadata": {
        "color": {
         "dimension": "color"
        },
        "opacity": {
         "dimension": "opacity"
        },
        "rotation": {
         "dimension": "rotation"
        },
        "size": {
         "dimension": "size"
        },
        "skew": {
         "dimension": "skew"
        },
        "x": {
         "dimension": "x",
         "orientation": "horizontal"
        },
        "y": {
         "dimension": "y",
         "orientation": "vertical"
        }
       },
       "stroke": "black",
       "tooltip": "IPY_MODEL_7753e250d7634bc2a34cafb57fa3588d",
       "unhovered_style": {
        "opacity": 0.5
       },
       "x": {
        "dtype": "int32",
        "shape": [
         716
        ],
        "type": null
       },
       "y": {
        "dtype": "int32",
        "shape": [
         716
        ],
        "type": null
       }
      }
     },
     "a088121fef234d3e9bbbbe176175770c": {
      "buffers": [
       {
        "data": "HwAAAAcAAAAFAAAABQAAAAUAAAAEAAAABAAAAAMAAAADAAAAAwAAAAMAAAADAAAAAwAAAAMAAAACAAAAAgAAAAIAAAACAAAAAgAAAAIAAAACAAAAAgAAAAIAAAACAAAAAgAAAAIAAAACAAAAAgAAAAIAAAACAAAAAgAAAAIAAAACAAAAAgAAAAIAAAACAAAAAgAAAA==",
        "encoding": "base64",
        "path": [
         "y",
         "value"
        ]
       }
      ],
      "model_module": "bqplot",
      "model_module_version": "^0.5.18",
      "model_name": "BarsModel",
      "state": {
       "_model_module_version": "^0.5.18",
       "_view_module_version": "^0.5.18",
       "label_font_style": {},
       "orientation": "horizontal",
       "scales": {
        "x": "IPY_MODEL_e1304e8c8037415386c77589bd41f1ec",
        "y": "IPY_MODEL_40b5edd184f34cb58d2b5c5a84778781"
       },
       "scales_metadata": {
        "x": {
         "dimension": "x",
         "orientation": "vertical"
        },
        "y": {
         "dimension": "y",
         "orientation": "horizontal"
        }
       },
       "x": [
        "Various speakers",
        "Facundo Batista",
        "Juan Pedro Fisanotti",
        "Roberto Alsina",
        "Claudio Freire",
        "Damián Avila",
        "Hugo Ruscitti",
        "Alejandro J. Cura",
        "Various Speakers",
        "Diego Sarmentero",
        "Natalia Bidart",
        "Martin Alderete",
        "Rafael Carrascosa",
        "Gabriel Genellina",
        "Ricardo Kirkner",
        "Martín Gaitán",
        "Alejandro Cura",
        "Manuel Quiñones",
        "Diego Cañizares",
        "Massimo Di Pierro",
        "Craig Kerstiens",
        "Luciano Rossi",
        "Ariel Rossanigo",
        "Andrea Gavana",
        "Nicolás Demarchi",
        "Felipe Lerena",
        "Daniel F. Moisset",
        "Matías Bordese",
        "Berenice Larsen Pereyra",
        "Brett Cannon",
        "Javier Mansilla",
        "Sebastián Marró",
        "Emiliano Dalla Verde Marcozzi",
        "Manuel Kaufmann",
        "Sofía Denner",
        "Pedro Ignacio Guridi",
        "Christophe Pettus"
       ],
       "y": {
        "dtype": "int32",
        "shape": [
         37
        ],
        "type": null
       }
      }
     },
     "a0edc0683843438fac4d0c0720328b09": {
      "model_module": "bqplot",
      "model_module_version": "^0.5.18",
      "model_name": "LinearScaleModel",
      "state": {
       "_model_module_version": "^0.5.18",
       "_view_module_version": "^0.5.18",
       "allow_padding": false,
       "max": 1,
       "min": 0,
       "stabilized": false
      }
     },
     "a14b869bc9bc414ea952b8a2e47f34fe": {
      "model_module": "@jupyter-widgets/base",
      "model_module_version": "1.2.0",
      "model_name": "LayoutModel",
      "state": {}
     },
     "a166a6180a7547f5bdddd2df0420ef13": {
      "model_module": "bqplot",
      "model_module_version": "^0.5.18",
      "model_name": "LinearScaleModel",
      "state": {
       "_model_module_version": "^0.5.18",
       "_view_module_version": "^0.5.18",
       "stabilized": false
      }
     },
     "a22aba98c4b74a72b232645698ae3651": {
      "model_module": "bqplot",
      "model_module_version": "^0.5.18",
      "model_name": "OrdinalScaleModel",
      "state": {
       "_model_module_version": "^0.5.18",
       "_view_module_version": "^0.5.18"
      }
     },
     "a232819f00ab4668b64f3574c8d5c9f7": {
      "model_module": "bqplot",
      "model_module_version": "^0.5.18",
      "model_name": "LinearScaleModel",
      "state": {
       "_model_module_version": "^0.5.18",
       "_view_module_version": "^0.5.18",
       "stabilized": false
      }
     },
     "a26e140862e8415e965f824065a09080": {
      "model_module": "bqplot",
      "model_module_version": "^0.5.18",
      "model_name": "LinearScaleModel",
      "state": {
       "_model_module_version": "^0.5.18",
       "_view_module_version": "^0.5.18",
       "allow_padding": false,
       "max": 1,
       "min": 0,
       "stabilized": false
      }
     },
     "a39de8fb17f74e18a8453c14e881c7b2": {
      "model_module": "bqplot",
      "model_module_version": "^0.5.18",
      "model_name": "LinearScaleModel",
      "state": {
       "_model_module_version": "^0.5.18",
       "_view_module_version": "^0.5.18",
       "allow_padding": false,
       "max": 1,
       "min": 0,
       "stabilized": false
      }
     },
     "a50432e482644302bbdc9998005bd4b8": {
      "model_module": "bqplot",
      "model_module_version": "^0.5.18",
      "model_name": "AxisModel",
      "state": {
       "_model_module_version": "^0.5.18",
       "_view_module_version": "^0.5.18",
       "scale": "IPY_MODEL_abdfa114f274426ebbe577c1b504232a",
       "side": "bottom",
       "tick_values": null
      }
     },
     "a55593b407f34febb3afff60011199aa": {
      "model_module": "@jupyter-widgets/base",
      "model_module_version": "1.2.0",
      "model_name": "LayoutModel",
      "state": {}
     },
     "a59f081ee37640f7b29bbfa3b82abccb": {
      "model_module": "bqplot",
      "model_module_version": "^0.5.18",
      "model_name": "LinearScaleModel",
      "state": {
       "_model_module_version": "^0.5.18",
       "_view_module_version": "^0.5.18",
       "allow_padding": false,
       "max": 1,
       "min": 0,
       "stabilized": false
      }
     },
     "a5a161a174e547d3a9eadc66e885e01d": {
      "model_module": "bqplot",
      "model_module_version": "^0.5.18",
      "model_name": "LinearScaleModel",
      "state": {
       "_model_module_version": "^0.5.18",
       "_view_module_version": "^0.5.18",
       "allow_padding": false,
       "max": 1,
       "min": 0,
       "stabilized": false
      }
     },
     "a5c463a52b0e48ef986233adea79c704": {
      "model_module": "bqplot",
      "model_module_version": "^0.5.18",
      "model_name": "FigureModel",
      "state": {
       "_model_module_version": "^0.5.18",
       "_view_module_version": "^0.5.18",
       "axes": [
        "IPY_MODEL_e47f43935f8f44eca1a7218d419ed879",
        "IPY_MODEL_94f433db0f0e41f394a921bf89fd1ae9"
       ],
       "layout": "IPY_MODEL_8a2aa11b4ff141f0869370fd7721aaf8",
       "marks": [
        "IPY_MODEL_4a098cf1c846430a9768adec9c57cb50"
       ],
       "scale_x": "IPY_MODEL_4b041f1389a34e9f8e825ed1541ae118",
       "scale_y": "IPY_MODEL_60ffb3a9344f40a3bb1f063043e7a7bf"
      }
     },
     "a5fa10f8bd95425a938b7ced76b537a7": {
      "model_module": "bqplot",
      "model_module_version": "^0.5.18",
      "model_name": "LinearScaleModel",
      "state": {
       "_model_module_version": "^0.5.18",
       "_view_module_version": "^0.5.18",
       "stabilized": false
      }
     },
     "a604c2aee1364465b1a2d227f0ed82a1": {
      "model_module": "bqplot",
      "model_module_version": "^0.5.18",
      "model_name": "ToolbarModel",
      "state": {
       "_model_module_version": "^0.5.18",
       "_view_module_version": "^0.5.18",
       "figure": "IPY_MODEL_543b554d3f5747ecaa877b3f557a7bd0",
       "layout": "IPY_MODEL_203149118bbe4d8ea79d3305358065c7"
      }
     },
     "a818c76c7437463f9fd10c3fc38d3801": {
      "model_module": "bqplot",
      "model_module_version": "^0.5.18",
      "model_name": "LinearScaleModel",
      "state": {
       "_model_module_version": "^0.5.18",
       "_view_module_version": "^0.5.18",
       "allow_padding": false,
       "max": 1,
       "min": 0,
       "stabilized": false
      }
     },
     "a8873b90954c4dce87c1c3b0a38bdcbb": {
      "model_module": "bqplot",
      "model_module_version": "^0.5.18",
      "model_name": "LinearScaleModel",
      "state": {
       "_model_module_version": "^0.5.18",
       "_view_module_version": "^0.5.18",
       "allow_padding": false,
       "max": 1,
       "min": 0,
       "stabilized": false
      }
     },
     "a8973a22560f4305b88c5f733fa2eff5": {
      "model_module": "@jupyter-widgets/base",
      "model_module_version": "1.2.0",
      "model_name": "LayoutModel",
      "state": {}
     },
     "a8b820dabb664b3aa4468fb8338367a4": {
      "model_module": "bqplot",
      "model_module_version": "^0.5.18",
      "model_name": "LinearScaleModel",
      "state": {
       "_model_module_version": "^0.5.18",
       "_view_module_version": "^0.5.18",
       "allow_padding": false,
       "max": 1,
       "min": 0,
       "stabilized": false
      }
     },
     "a8d5646c024343a1b5dfa8e1659285ff": {
      "model_module": "bqplot",
      "model_module_version": "^0.5.18",
      "model_name": "FigureModel",
      "state": {
       "_model_module_version": "^0.5.18",
       "_view_module_version": "^0.5.18",
       "axes": [
        "IPY_MODEL_a50432e482644302bbdc9998005bd4b8",
        "IPY_MODEL_2a3d398672524caa9412b4d1b93b7921"
       ],
       "layout": "IPY_MODEL_ff4d262cb7af46ba94c0d96dd88cbbef",
       "marks": [
        "IPY_MODEL_39552743914e41ff9e580d57079affc1"
       ],
       "scale_x": "IPY_MODEL_ccd22c02ddc8409998fdc8a4a177cbab",
       "scale_y": "IPY_MODEL_32b92dd7d50748fb85c788fb0c514c3c"
      }
     },
     "a8ee4521aa234e68a3acb461311bafdb": {
      "model_module": "@jupyter-widgets/base",
      "model_module_version": "1.2.0",
      "model_name": "LayoutModel",
      "state": {}
     },
     "a92207bfcd0b47afba81669b8bf8437f": {
      "model_module": "bqplot",
      "model_module_version": "^0.5.18",
      "model_name": "LinearScaleModel",
      "state": {
       "_model_module_version": "^0.5.18",
       "_view_module_version": "^0.5.18",
       "stabilized": false
      }
     },
     "a9e7e614214244e59fe1f22a004df479": {
      "model_module": "@jupyter-widgets/base",
      "model_module_version": "1.2.0",
      "model_name": "LayoutModel",
      "state": {}
     },
     "aa01fd4f86994b629c1279fd95cbecba": {
      "model_module": "@jupyter-widgets/base",
      "model_module_version": "1.2.0",
      "model_name": "LayoutModel",
      "state": {}
     },
     "aa468c20b6494cb7b1216ad52f4aa6c8": {
      "model_module": "@jupyter-widgets/base",
      "model_module_version": "1.2.0",
      "model_name": "LayoutModel",
      "state": {}
     },
     "aa849f7501164ee0bbdb2ecda54e69e0": {
      "model_module": "bqplot",
      "model_module_version": "^0.5.18",
      "model_name": "LinearScaleModel",
      "state": {
       "_model_module_version": "^0.5.18",
       "_view_module_version": "^0.5.18",
       "stabilized": false
      }
     },
     "aac39a92fa34442c8e379f7477d57d90": {
      "model_module": "bqplot",
      "model_module_version": "^0.5.18",
      "model_name": "FigureModel",
      "state": {
       "_model_module_version": "^0.5.18",
       "_view_module_version": "^0.5.18",
       "layout": "IPY_MODEL_4e85b41d501c400597059637eab1cc86",
       "scale_x": "IPY_MODEL_ad53cd1707d9465db7e1dccedd200d4e",
       "scale_y": "IPY_MODEL_4dc3d9ac883b4832b829389a3744ed58"
      }
     },
     "ab0f2b45f0f644359ac2089746050079": {
      "model_module": "@jupyter-widgets/base",
      "model_module_version": "1.2.0",
      "model_name": "LayoutModel",
      "state": {}
     },
     "ab4aba0229114a50b1a8f3a6da8c7f8d": {
      "model_module": "bqplot",
      "model_module_version": "^0.5.18",
      "model_name": "AxisModel",
      "state": {
       "_model_module_version": "^0.5.18",
       "_view_module_version": "^0.5.18",
       "orientation": "vertical",
       "scale": "IPY_MODEL_09aed5cce6eb4743b29a365f67f4ee19",
       "side": "left",
       "tick_values": null
      }
     },
     "ab536b9d29d5469e8a4a305fb9b0a54f": {
      "model_module": "bqplot",
      "model_module_version": "^0.5.18",
      "model_name": "LinearScaleModel",
      "state": {
       "_model_module_version": "^0.5.18",
       "_view_module_version": "^0.5.18",
       "stabilized": false
      }
     },
     "abdfa114f274426ebbe577c1b504232a": {
      "model_module": "bqplot",
      "model_module_version": "^0.5.18",
      "model_name": "LinearScaleModel",
      "state": {
       "_model_module_version": "^0.5.18",
       "_view_module_version": "^0.5.18",
       "stabilized": false
      }
     },
     "ac212089f5174e738c0e259dba8bcf4b": {
      "model_module": "@jupyter-widgets/base",
      "model_module_version": "1.2.0",
      "model_name": "LayoutModel",
      "state": {}
     },
     "ac6a844c954c40e5a3506c3f6683dabf": {
      "model_module": "bqplot",
      "model_module_version": "^0.5.18",
      "model_name": "LinearScaleModel",
      "state": {
       "_model_module_version": "^0.5.18",
       "_view_module_version": "^0.5.18",
       "allow_padding": false,
       "max": 1,
       "min": 0,
       "stabilized": false
      }
     },
     "aca25d10b82e4d9ca4afa5f4a755f9e7": {
      "model_module": "bqplot",
      "model_module_version": "^0.5.18",
      "model_name": "LinearScaleModel",
      "state": {
       "_model_module_version": "^0.5.18",
       "_view_module_version": "^0.5.18",
       "allow_padding": false,
       "max": 1,
       "min": 0,
       "stabilized": false
      }
     },
     "ad2f5db35ebb474f99ba2355158366d5": {
      "model_module": "bqplot",
      "model_module_version": "^0.5.18",
      "model_name": "LinearScaleModel",
      "state": {
       "_model_module_version": "^0.5.18",
       "_view_module_version": "^0.5.18",
       "allow_padding": false,
       "max": 1,
       "min": 0,
       "stabilized": false
      }
     },
     "ad53cd1707d9465db7e1dccedd200d4e": {
      "model_module": "bqplot",
      "model_module_version": "^0.5.18",
      "model_name": "LinearScaleModel",
      "state": {
       "_model_module_version": "^0.5.18",
       "_view_module_version": "^0.5.18",
       "allow_padding": false,
       "max": 1,
       "min": 0,
       "stabilized": false
      }
     },
     "ad868c1cf5ac4fddaf9fef97c34a9b79": {
      "buffers": [
       {
        "data": "AAAAAAEAAAACAAAAAwAAAAQAAAAFAAAABgAAAAcAAAAIAAAACQAAAAoAAAALAAAADAAAAA0AAAAOAAAADwAAABAAAAARAAAAEgAAABMAAAAUAAAAFQAAABYAAAAXAAAAGAAAABkAAAAaAAAAGwAAABwAAAAdAAAAHgAAAB8AAAAgAAAAIQAAACIAAAAjAAAAJAAAACUAAAAmAAAAJwAAACgAAAApAAAAKgAAACsAAAAsAAAALQAAAC4AAAAvAAAAMAAAADEAAAAyAAAAMwAAADQAAAA1AAAANgAAADcAAAA4AAAAOQAAADoAAAA7AAAAPAAAAD0AAAA+AAAAPwAAAEAAAABBAAAAQgAAAEMAAABEAAAARQAAAEYAAABHAAAASAAAAEkAAABKAAAASwAAAEwAAABNAAAATgAAAE8AAABQAAAAUQAAAFIAAABTAAAAVAAAAFUAAABWAAAAVwAAAFgAAABZAAAAWgAAAFsAAABcAAAAXQAAAF4AAABfAAAAYAAAAGEAAABiAAAAYwAAAGQAAABlAAAAZgAAAGcAAABoAAAAaQAAAGoAAABrAAAAbAAAAG0AAABuAAAAbwAAAHAAAABxAAAAcgAAAHMAAAB0AAAAdQAAAHYAAAB3AAAAeAAAAHkAAAB6AAAAewAAAHwAAAB9AAAAfgAAAH8AAACAAAAAgQAAAIIAAACDAAAAhAAAAIUAAACGAAAAhwAAAIgAAACJAAAAigAAAIsAAACMAAAAjQAAAI4AAACPAAAAkAAAAJEAAACSAAAAkwAAAJQAAACVAAAAlgAAAJcAAACYAAAAmQAAAJoAAACbAAAAnAAAAJ0AAACeAAAAnwAAAKAAAAChAAAAogAAAKMAAACkAAAApQAAAKYAAACnAAAAqAAAAKkAAACqAAAAqwAAAKwAAACtAAAArgAAAA==",
        "encoding": "base64",
        "path": [
         "x",
         "value"
        ]
       },
       {
        "data": "HwAAAAcAAAAFAAAABQAAAAUAAAAEAAAABAAAAAMAAAADAAAAAwAAAAMAAAADAAAAAwAAAAMAAAACAAAAAgAAAAIAAAACAAAAAgAAAAIAAAACAAAAAgAAAAIAAAACAAAAAgAAAAIAAAACAAAAAgAAAAIAAAACAAAAAgAAAAIAAAACAAAAAgAAAAIAAAACAAAAAgAAAAEAAAABAAAAAQAAAAEAAAABAAAAAQAAAAEAAAABAAAAAQAAAAEAAAABAAAAAQAAAAEAAAABAAAAAQAAAAEAAAABAAAAAQAAAAEAAAABAAAAAQAAAAEAAAABAAAAAQAAAAEAAAABAAAAAQAAAAEAAAABAAAAAQAAAAEAAAABAAAAAQAAAAEAAAABAAAAAQAAAAEAAAABAAAAAQAAAAEAAAABAAAAAQAAAAEAAAABAAAAAQAAAAEAAAABAAAAAQAAAAEAAAABAAAAAQAAAAEAAAABAAAAAQAAAAEAAAABAAAAAQAAAAEAAAABAAAAAQAAAAEAAAABAAAAAQAAAAEAAAABAAAAAQAAAAEAAAABAAAAAQAAAAEAAAABAAAAAQAAAAEAAAABAAAAAQAAAAEAAAABAAAAAQAAAAEAAAABAAAAAQAAAAEAAAABAAAAAQAAAAEAAAABAAAAAQAAAAEAAAABAAAAAQAAAAEAAAABAAAAAQAAAAEAAAABAAAAAQAAAAEAAAABAAAAAQAAAAEAAAABAAAAAQAAAAEAAAABAAAAAQAAAAEAAAABAAAAAQAAAAEAAAABAAAAAQAAAAEAAAABAAAAAQAAAAEAAAABAAAAAQAAAAEAAAABAAAAAQAAAAEAAAABAAAAAQAAAAEAAAABAAAAAQAAAAEAAAABAAAAAQAAAAEAAAABAAAAAQAAAAEAAAABAAAAAQAAAAEAAAABAAAAAQAAAA==",
        "encoding": "base64",
        "path": [
         "y",
         "value"
        ]
       }
      ],
      "model_module": "bqplot",
      "model_module_version": "^0.5.18",
      "model_name": "LinesModel",
      "state": {
       "_model_module_version": "^0.5.18",
       "_view_module_version": "^0.5.18",
       "fill_colors": [],
       "labels": [
        "C1"
       ],
       "scales": {
        "x": "IPY_MODEL_81633a34d3b94e5f9f06b8d6bfa768f4",
        "y": "IPY_MODEL_fd5b0305e35a4f57aa7ce7055ab656a0"
       },
       "x": {
        "dtype": "int32",
        "shape": [
         175
        ],
        "type": null
       },
       "y": {
        "dtype": "int32",
        "shape": [
         175
        ],
        "type": null
       }
      }
     },
     "ae63e9289d424f9e81b860dee2368f4c": {
      "model_module": "bqplot",
      "model_module_version": "^0.5.18",
      "model_name": "AxisModel",
      "state": {
       "_model_module_version": "^0.5.18",
       "_view_module_version": "^0.5.18",
       "scale": "IPY_MODEL_285ec1d16aa54f7cb79b9da9c42aae81",
       "side": "bottom",
       "tick_values": null
      }
     },
     "aed08846c8d5466890bacccc82941785": {
      "model_module": "@jupyter-widgets/base",
      "model_module_version": "1.2.0",
      "model_name": "LayoutModel",
      "state": {}
     },
     "af705733afee4788884b79c2860ea09d": {
      "model_module": "@jupyter-widgets/controls",
      "model_module_version": "1.5.0",
      "model_name": "VBoxModel",
      "state": {
       "children": [
        "IPY_MODEL_f65696424837410bae6617d74e91531b",
        "IPY_MODEL_e757466990f9470b8cb5dd83f742b624"
       ],
       "layout": "IPY_MODEL_705291f453f745e3b0a2e66bb28d189d"
      }
     },
     "afa6a574170645b09147a86f2b3bb366": {
      "model_module": "bqplot",
      "model_module_version": "^0.5.18",
      "model_name": "LinearScaleModel",
      "state": {
       "_model_module_version": "^0.5.18",
       "_view_module_version": "^0.5.18",
       "allow_padding": false,
       "max": 1,
       "min": 0,
       "stabilized": false
      }
     },
     "b0466d62846241d486b985f72fae2b71": {
      "model_module": "bqplot",
      "model_module_version": "^0.5.18",
      "model_name": "AxisModel",
      "state": {
       "_model_module_version": "^0.5.18",
       "_view_module_version": "^0.5.18",
       "orientation": "vertical",
       "scale": "IPY_MODEL_fd5b0305e35a4f57aa7ce7055ab656a0",
       "side": "left",
       "tick_values": null
      }
     },
     "b0d19cf2fb004890877a9e1368ec3d56": {
      "model_module": "bqplot",
      "model_module_version": "^0.5.18",
      "model_name": "LinearScaleModel",
      "state": {
       "_model_module_version": "^0.5.18",
       "_view_module_version": "^0.5.18",
       "allow_padding": false,
       "max": 1,
       "min": 0,
       "stabilized": false
      }
     },
     "b11bcca57dbc4dbe992e4fd8ae7ac64d": {
      "model_module": "@jupyter-widgets/base",
      "model_module_version": "1.2.0",
      "model_name": "LayoutModel",
      "state": {}
     },
     "b2290c1a11df4687a20d352185bd6b05": {
      "model_module": "bqplot",
      "model_module_version": "^0.5.18",
      "model_name": "OrdinalScaleModel",
      "state": {
       "_model_module_version": "^0.5.18",
       "_view_module_version": "^0.5.18"
      }
     },
     "b2a3aac93c804497a7898b72db88a929": {
      "model_module": "bqplot",
      "model_module_version": "^0.5.18",
      "model_name": "LinearScaleModel",
      "state": {
       "_model_module_version": "^0.5.18",
       "_view_module_version": "^0.5.18",
       "stabilized": false
      }
     },
     "b2df7d44abf24f059aeb11d0407e7b26": {
      "model_module": "bqplot",
      "model_module_version": "^0.5.18",
      "model_name": "LinearScaleModel",
      "state": {
       "_model_module_version": "^0.5.18",
       "_view_module_version": "^0.5.18",
       "allow_padding": false,
       "max": 1,
       "min": 0,
       "stabilized": false
      }
     },
     "b36b896c64c94e68b19eccd2b1056900": {
      "buffers": [
       {
        "data": "HwAAAAcAAAAFAAAABQAAAAUAAAAEAAAABAAAAAMAAAADAAAAAwAAAAMAAAADAAAAAwAAAAMAAAACAAAAAgAAAAIAAAACAAAAAgAAAAIAAAACAAAAAgAAAAIAAAACAAAAAgAAAAIAAAACAAAAAgAAAAIAAAACAAAAAgAAAAIAAAACAAAAAgAAAAIAAAACAAAAAgAAAAEAAAABAAAAAQAAAAEAAAABAAAAAQAAAAEAAAABAAAAAQAAAAEAAAABAAAAAQAAAAEAAAABAAAAAQAAAAEAAAABAAAAAQAAAAEAAAABAAAAAQAAAAEAAAABAAAAAQAAAAEAAAABAAAAAQAAAAEAAAABAAAAAQAAAAEAAAABAAAAAQAAAAEAAAABAAAAAQAAAAEAAAABAAAAAQAAAAEAAAABAAAAAQAAAAEAAAABAAAAAQAAAAEAAAABAAAAAQAAAAEAAAABAAAAAQAAAAEAAAABAAAAAQAAAAEAAAABAAAAAQAAAAEAAAABAAAAAQAAAAEAAAABAAAAAQAAAAEAAAABAAAAAQAAAAEAAAABAAAAAQAAAAEAAAABAAAAAQAAAAEAAAABAAAAAQAAAAEAAAABAAAAAQAAAAEAAAABAAAAAQAAAAEAAAABAAAAAQAAAAEAAAABAAAAAQAAAAEAAAABAAAAAQAAAAEAAAABAAAAAQAAAAEAAAABAAAAAQAAAAEAAAABAAAAAQAAAAEAAAABAAAAAQAAAAEAAAABAAAAAQAAAAEAAAABAAAAAQAAAAEAAAABAAAAAQAAAAEAAAABAAAAAQAAAAEAAAABAAAAAQAAAAEAAAABAAAAAQAAAAEAAAABAAAAAQAAAAEAAAABAAAAAQAAAAEAAAABAAAAAQAAAAEAAAABAAAAAQAAAAEAAAABAAAAAQAAAAEAAAABAAAAAQAAAA==",
        "encoding": "base64",
        "path": [
         "y",
         "value"
        ]
       }
      ],
      "model_module": "bqplot",
      "model_module_version": "^0.5.18",
      "model_name": "BarsModel",
      "state": {
       "_model_module_version": "^0.5.18",
       "_view_module_version": "^0.5.18",
       "label_font_style": {},
       "orientation": "horizontal",
       "scales": {
        "x": "IPY_MODEL_b70c5d03388b4951b2251f431fff8cf7",
        "y": "IPY_MODEL_aa849f7501164ee0bbdb2ecda54e69e0"
       },
       "scales_metadata": {
        "x": {
         "dimension": "x",
         "orientation": "vertical"
        },
        "y": {
         "dimension": "y",
         "orientation": "horizontal"
        }
       },
       "x": [
        "Various speakers",
        "Facundo Batista",
        "Juan Pedro Fisanotti",
        "Roberto Alsina",
        "Claudio Freire",
        "Damián Avila",
        "Hugo Ruscitti",
        "Alejandro J. Cura",
        "Various Speakers",
        "Diego Sarmentero",
        "Natalia Bidart",
        "Martin Alderete",
        "Rafael Carrascosa",
        "Gabriel Genellina",
        "Ricardo Kirkner",
        "Martín Gaitán",
        "Alejandro Cura",
        "Manuel Quiñones",
        "Diego Cañizares",
        "Massimo Di Pierro",
        "Craig Kerstiens",
        "Luciano Rossi",
        "Ariel Rossanigo",
        "Andrea Gavana",
        "Nicolás Demarchi",
        "Felipe Lerena",
        "Daniel F. Moisset",
        "Matías Bordese",
        "Berenice Larsen Pereyra",
        "Brett Cannon",
        "Javier Mansilla",
        "Sebastián Marró",
        "Emiliano Dalla Verde Marcozzi",
        "Manuel Kaufmann",
        "Sofía Denner",
        "Pedro Ignacio Guridi",
        "Christophe Pettus",
        "Ezequiel Gutesman",
        "Brandon Rhodes",
        "Javier Der Derian",
        "Wesley Chun",
        "Luciano Serruya Aloisi",
        "Carol Willing",
        "Cynthia Monastirsky",
        "Vinicius Feitosa Pacheco",
        "María Andrea Vignau",
        "Sebastian Brachi",
        "Martin Volpe",
        "Ramiro Morales",
        "Sebastián Kennedy",
        "Andrés Riancho",
        "Joaquín Sorianello",
        "David Litvak Bruno",
        "Leonardo Lazzaro",
        "Paola Katherine",
        "Nicolas Quiroz",
        "Flor Novidelsky",
        "Fernando Schapachnik",
        "Juan Manuel Schillaci",
        "Silvestre Huens",
        "Joaquin Sorianello",
        "Dino Viehland",
        "Emilio Crudele",
        "Juan Manuel Santos",
        "Federico Martinez y Santiago Avendaño",
        "Estefania Miguel",
        "Sofia Martin",
        "Ariel Farkas",
        "Alfonso de la Guarda Reyes",
        "Federico Brest",
        "Lucía García Itzigsohn",
        "A. Garassino",
        "Miguel Felipe Duarte",
        "Dave Weil",
        "dax",
        "Matias Barriento",
        "Angel J. Lopez",
        "Tomas Zulberti",
        "Valeria Rocha",
        "Juan Carlos Abdala",
        "Johanna Caterina Faliero",
        "D. Nohales",
        "Carlos de la Torre",
        "Leonardo Morales",
        "Martín Miranda",
        "Aylen Bombelli",
        "Hernan Wilkinson",
        "Martin Riva",
        "Tati Al-Chueyr",
        "Daniel Espinoza",
        "Martin Ribelotta",
        "Lucio Delelis",
        "Diego Diez",
        "Ana Laura Almada",
        "Sofía Martin",
        "Juan Pablo Giménez",
        "Martin Elias Costa",
        "N. Demarchi",
        "Gustavo Garcia Craia",
        "Manuel de la Peña",
        "Javier Derderyan",
        "Valentín Spurchisi",
        "Sebastian Bassi",
        "Jose Morales",
        "Celia Cintas",
        "Pablo Cruz Casas",
        "Augusto Coto",
        "Carolina Maristany",
        "Sergio Schvezov",
        "Angel Freire",
        "Laureano Kloss",
        "Alexis Jawtuschenko",
        "L. Torre",
        "Juan Bagnera",
        "Diego Mascialino",
        "Mariano Guerra",
        "Damian Avila",
        "Cecilia Jarne",
        "Ignacio Heredia",
        "Erico Ándrei",
        "Ana Velez Rueda",
        "Maciej Fijalkowski",
        "Ana Almada",
        "Diego G. Cañizares",
        "David Garoz",
        "Alan Runyan",
        "Eduardo Casarero",
        "Juan E. D.",
        "Mariano Reingart",
        "Héctor Sanchez Gonzalo Odiard",
        "Javyer Der Derian",
        "Emanuel Sartor",
        "Franco Mariluis",
        "Alejandro Pereira",
        "Alejandro Garcia",
        "Erico Andrei",
        "Adriana Aiassa",
        "Pablo Alcain",
        "Robert M Lefkowitz",
        "Matias Lang",
        "Fernando Masanori",
        "Matias Bordese",
        "German Bourdin",
        "Alejandro Zamora Fonseca",
        "Angel Lopez",
        "Simon Willison",
        "M. Quiñones",
        "Mário Sérgio",
        "Francisco Capdevila",
        "Carlos Matías de la Torre",
        "Leandro Ucciferri",
        "Marcelo Fernández",
        "Matias Varela",
        "Ángel Medinilla",
        "Jim Fulton",
        "Mariela Osete",
        "Katherine Jenkins",
        "Nahuel Lascano",
        "Diego Ramirez",
        "Franco Nicolas Bellomo",
        "Andrés Snitcofsky",
        "Mariano Lambir",
        "Rodrigo Lugones",
        "Graciela Molina",
        "Ignacio Fiorentino",
        "Federico Gonzalez (FedeG)",
        "Jeannette Torrez",
        "Victoria Martinez de la Cruz",
        "Thiago Avelino",
        "Álvaro Justen",
        "Alexis Ferreyra",
        "Juan Bautista Cabral",
        "Yonatan Romero",
        "Javier Ayres",
        "Pablo Toledo Margalef"
       ],
       "y": {
        "dtype": "int32",
        "shape": [
         175
        ],
        "type": null
       }
      }
     },
     "b4e28c1f0a914c348768ca694c27de95": {
      "model_module": "bqplot",
      "model_module_version": "^0.5.18",
      "model_name": "LinearScaleModel",
      "state": {
       "_model_module_version": "^0.5.18",
       "_view_module_version": "^0.5.18",
       "stabilized": false
      }
     },
     "b566bf4458544d0fb17374ec4096d221": {
      "model_module": "bqplot",
      "model_module_version": "^0.5.18",
      "model_name": "LinearScaleModel",
      "state": {
       "_model_module_version": "^0.5.18",
       "_view_module_version": "^0.5.18",
       "allow_padding": false,
       "max": 1,
       "min": 0,
       "stabilized": false
      }
     },
     "b589a390be924e049639c66635e8187e": {
      "model_module": "bqplot",
      "model_module_version": "^0.5.18",
      "model_name": "FigureModel",
      "state": {
       "_model_module_version": "^0.5.18",
       "_view_module_version": "^0.5.18",
       "axes": [
        "IPY_MODEL_ca4be53f245e42afb9a7eba503cd27b2",
        "IPY_MODEL_2300d64edf3245b59c0dd2941c38d93d"
       ],
       "layout": "IPY_MODEL_7f2f4fb016d647c38183e32f06357038",
       "marks": [
        "IPY_MODEL_248f09231fb24b6fab3a677ed34a605c"
       ],
       "scale_x": "IPY_MODEL_573e101fd7804c2dae3bed2c53d4a074",
       "scale_y": "IPY_MODEL_30adb8ffeb5546bca0ed9890110424c3"
      }
     },
     "b5adb7d76b2640559f21ad4b8d37ad40": {
      "model_module": "@jupyter-widgets/base",
      "model_module_version": "1.2.0",
      "model_name": "LayoutModel",
      "state": {}
     },
     "b63cf02918044cc9be9d2078b514b97b": {
      "model_module": "bqplot",
      "model_module_version": "^0.5.18",
      "model_name": "FigureModel",
      "state": {
       "_model_module_version": "^0.5.18",
       "_view_module_version": "^0.5.18",
       "axes": [
        "IPY_MODEL_eaec5c1010a74a7a88f82739399e84d0",
        "IPY_MODEL_9cc183a2bb794371a1adcd564b124302"
       ],
       "layout": "IPY_MODEL_8484e99ba41f4e5293af2d80080ccd09",
       "marks": [
        "IPY_MODEL_c94e4edd55c54d68978ce9207592d889"
       ],
       "scale_x": "IPY_MODEL_a818c76c7437463f9fd10c3fc38d3801",
       "scale_y": "IPY_MODEL_a59f081ee37640f7b29bbfa3b82abccb"
      }
     },
     "b6c3e676a1774add86bfeb05e651d988": {
      "model_module": "bqplot",
      "model_module_version": "^0.5.18",
      "model_name": "LinearScaleModel",
      "state": {
       "_model_module_version": "^0.5.18",
       "_view_module_version": "^0.5.18",
       "allow_padding": false,
       "max": 1,
       "min": 0,
       "stabilized": false
      }
     },
     "b6d82db987494094a0a2510ffb23e1aa": {
      "model_module": "bqplot",
      "model_module_version": "^0.5.18",
      "model_name": "FigureModel",
      "state": {
       "_model_module_version": "^0.5.18",
       "_view_module_version": "^0.5.18",
       "layout": "IPY_MODEL_d8f6e53e521d48d5bc735b853254b244",
       "scale_x": "IPY_MODEL_de7c0263c4b94de49a4e512fbc90a6d1",
       "scale_y": "IPY_MODEL_48d8be9176e243768c65ad36a9c4a431"
      }
     },
     "b708ecaef61b46898b099a23782d4411": {
      "model_module": "bqplot",
      "model_module_version": "^0.5.18",
      "model_name": "LinearScaleModel",
      "state": {
       "_model_module_version": "^0.5.18",
       "_view_module_version": "^0.5.18",
       "allow_padding": false,
       "max": 1,
       "min": 0,
       "stabilized": false
      }
     },
     "b70c5d03388b4951b2251f431fff8cf7": {
      "model_module": "bqplot",
      "model_module_version": "^0.5.18",
      "model_name": "OrdinalScaleModel",
      "state": {
       "_model_module_version": "^0.5.18",
       "_view_module_version": "^0.5.18"
      }
     },
     "b712d833a4ad463193b071b39fb883a3": {
      "model_module": "bqplot",
      "model_module_version": "^0.5.18",
      "model_name": "LinearScaleModel",
      "state": {
       "_model_module_version": "^0.5.18",
       "_view_module_version": "^0.5.18",
       "stabilized": false
      }
     },
     "b7d2d09fad494b1fa6c962eb6ec4132f": {
      "model_module": "bqplot",
      "model_module_version": "^0.5.18",
      "model_name": "LinearScaleModel",
      "state": {
       "_model_module_version": "^0.5.18",
       "_view_module_version": "^0.5.18",
       "stabilized": false
      }
     },
     "b83730d50f5b432b831d7b5afeed19b1": {
      "model_module": "bqplot",
      "model_module_version": "^0.5.18",
      "model_name": "LinearScaleModel",
      "state": {
       "_model_module_version": "^0.5.18",
       "_view_module_version": "^0.5.18",
       "allow_padding": false,
       "max": 1,
       "min": 0,
       "stabilized": false
      }
     },
     "b8a4b65151af4464a0692a0b42c43889": {
      "model_module": "@jupyter-widgets/base",
      "model_module_version": "1.2.0",
      "model_name": "LayoutModel",
      "state": {}
     },
     "b9aac867ae674251bcfc0937d76f94cb": {
      "model_module": "@jupyter-widgets/base",
      "model_module_version": "1.2.0",
      "model_name": "LayoutModel",
      "state": {}
     },
     "ba8c5e0398f04126a5e44ee6e19d471c": {
      "model_module": "bqplot",
      "model_module_version": "^0.5.18",
      "model_name": "LinearScaleModel",
      "state": {
       "_model_module_version": "^0.5.18",
       "_view_module_version": "^0.5.18",
       "stabilized": false
      }
     },
     "baba91a3e7ef4bdda7c64b97f4744ac2": {
      "model_module": "bqplot",
      "model_module_version": "^0.5.18",
      "model_name": "AxisModel",
      "state": {
       "_model_module_version": "^0.5.18",
       "_view_module_version": "^0.5.18",
       "scale": "IPY_MODEL_79d4fee25e864853a89d60224dcb045d",
       "side": "bottom",
       "tick_values": null
      }
     },
     "bb18642b348643f1826fa0bb0a7d3d40": {
      "model_module": "bqplot",
      "model_module_version": "^0.5.18",
      "model_name": "LinearScaleModel",
      "state": {
       "_model_module_version": "^0.5.18",
       "_view_module_version": "^0.5.18",
       "stabilized": false
      }
     },
     "bb9f4aa868aa4bec99848c3ce9145e24": {
      "model_module": "bqplot",
      "model_module_version": "^0.5.18",
      "model_name": "ToolbarModel",
      "state": {
       "_model_module_version": "^0.5.18",
       "_view_module_version": "^0.5.18",
       "figure": "IPY_MODEL_4003fba24cb74d96bb0bed4dfaa36454",
       "layout": "IPY_MODEL_dd412cb30bbf4eb8b8b3b46ae976d025"
      }
     },
     "bbc8318262c7454f84cea2ee9951d086": {
      "model_module": "bqplot",
      "model_module_version": "^0.5.18",
      "model_name": "LinearScaleModel",
      "state": {
       "_model_module_version": "^0.5.18",
       "_view_module_version": "^0.5.18",
       "stabilized": false
      }
     },
     "bc274e07a3c74148b54fc5e632c5a00a": {
      "model_module": "@jupyter-widgets/controls",
      "model_module_version": "1.5.0",
      "model_name": "VBoxModel",
      "state": {
       "children": [
        "IPY_MODEL_2a1d8bf6154a463aabf9f0e1a16ce5ca",
        "IPY_MODEL_e857f094f39a437ebcc7ff73bb7394ae"
       ],
       "layout": "IPY_MODEL_f2a3951dfd8b48539ebd6754c41b4f5e"
      }
     },
     "bc3cfa8f76b54cc1aa41456f42496496": {
      "model_module": "bqplot",
      "model_module_version": "^0.5.18",
      "model_name": "OrdinalScaleModel",
      "state": {
       "_model_module_version": "^0.5.18",
       "_view_module_version": "^0.5.18"
      }
     },
     "bc64c9f4263b44158949732e5c769449": {
      "model_module": "bqplot",
      "model_module_version": "^0.5.18",
      "model_name": "LinearScaleModel",
      "state": {
       "_model_module_version": "^0.5.18",
       "_view_module_version": "^0.5.18",
       "stabilized": false
      }
     },
     "bc8aa9abfc114eceacbeaa6c16c2f468": {
      "model_module": "bqplot",
      "model_module_version": "^0.5.18",
      "model_name": "LinearScaleModel",
      "state": {
       "_model_module_version": "^0.5.18",
       "_view_module_version": "^0.5.18",
       "allow_padding": false,
       "max": 1,
       "min": 0,
       "stabilized": false
      }
     },
     "bcb8e3c4e33e4bd28662d82057a82fa4": {
      "model_module": "@jupyter-widgets/base",
      "model_module_version": "1.2.0",
      "model_name": "LayoutModel",
      "state": {}
     },
     "bcd19dabc20045d2b2238e7e601be58c": {
      "model_module": "bqplot",
      "model_module_version": "^0.5.18",
      "model_name": "LinearScaleModel",
      "state": {
       "_model_module_version": "^0.5.18",
       "_view_module_version": "^0.5.18",
       "stabilized": false
      }
     },
     "bd049f1853174c75899c4e3678cad291": {
      "model_module": "bqplot",
      "model_module_version": "^0.5.18",
      "model_name": "AxisModel",
      "state": {
       "_model_module_version": "^0.5.18",
       "_view_module_version": "^0.5.18",
       "orientation": "vertical",
       "scale": "IPY_MODEL_804fbe60a5dc4216a6782cb26507d553",
       "side": "left",
       "tick_values": null
      }
     },
     "bd538bab01504b3a9b40b0aab40521bc": {
      "model_module": "bqplot",
      "model_module_version": "^0.5.18",
      "model_name": "LinearScaleModel",
      "state": {
       "_model_module_version": "^0.5.18",
       "_view_module_version": "^0.5.18",
       "stabilized": false
      }
     },
     "bddcd32f61a54cac97c7eedb89461857": {
      "model_module": "@jupyter-widgets/base",
      "model_module_version": "1.2.0",
      "model_name": "LayoutModel",
      "state": {}
     },
     "be20bf6a088540299337b44e8eafff61": {
      "buffers": [
       {
        "data": "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",
        "encoding": "base64",
        "path": [
         "x",
         "value"
        ]
       },
       {
        "data": "OAAAADQAAAAwAAAALgAAAB4AAAAcAAAAHAAAABwAAAAbAAAAGwAAABoAAAAYAAAAFwAAABMAAAARAAAADwAAAA4AAAANAAAADAAAAAwAAAAKAAAACgAAAAkAAAAJAAAACQAAAAgAAAAIAAAABwAAAAcAAAAGAAAABgAAAAUAAAAFAAAABQAAAAUAAAAFAAAABQAAAAUAAAAFAAAABQAAAAQAAAAEAAAABAAAAAQAAAAEAAAABAAAAAQAAAAEAAAABAAAAAQAAAAEAAAABAAAAAQAAAAEAAAABAAAAAQAAAAEAAAAAwAAAAMAAAADAAAAAwAAAAMAAAADAAAAAwAAAAMAAAADAAAAAwAAAAMAAAADAAAAAwAAAAMAAAADAAAAAwAAAAMAAAADAAAAAwAAAAMAAAADAAAAAwAAAAMAAAADAAAAAwAAAAMAAAADAAAAAwAAAAMAAAADAAAAAwAAAAMAAAADAAAAAwAAAAMAAAADAAAAAwAAAAIAAAACAAAAAgAAAAIAAAACAAAAAgAAAAIAAAACAAAAAgAAAAIAAAACAAAAAgAAAAIAAAACAAAAAgAAAAIAAAACAAAAAgAAAAIAAAACAAAAAgAAAAIAAAACAAAAAgAAAAIAAAACAAAAAgAAAAIAAAACAAAAAgAAAAIAAAACAAAAAgAAAAIAAAACAAAAAgAAAAIAAAACAAAAAgAAAAIAAAACAAAAAgAAAAIAAAACAAAAAgAAAAIAAAACAAAAAgAAAAIAAAACAAAAAgAAAAIAAAACAAAAAgAAAAIAAAACAAAAAgAAAAIAAAACAAAAAgAAAAIAAAACAAAAAgAAAAIAAAACAAAAAgAAAAIAAAACAAAAAgAAAAIAAAACAAAAAgAAAAIAAAACAAAAAgAAAAIAAAACAAAAAgAAAAIAAAACAAAAAQAAAAEAAAABAAAAAQAAAAEAAAABAAAAAQAAAAEAAAABAAAAAQAAAAEAAAABAAAAAQAAAAEAAAABAAAAAQAAAAEAAAABAAAAAQAAAAEAAAABAAAAAQAAAAEAAAABAAAAAQAAAAEAAAABAAAAAQAAAAEAAAABAAAAAQAAAAEAAAABAAAAAQAAAAEAAAABAAAAAQAAAAEAAAABAAAAAQAAAAEAAAABAAAAAQAAAAEAAAABAAAAAQAAAAEAAAABAAAAAQAAAAEAAAABAAAAAQAAAAEAAAABAAAAAQAAAAEAAAABAAAAAQAAAAEAAAABAAAAAQAAAAEAAAABAAAAAQAAAAEAAAABAAAAAQAAAAEAAAABAAAAAQAAAAEAAAABAAAAAQAAAAEAAAABAAAAAQAAAAEAAAABAAAAAQAAAAEAAAABAAAAAQAAAAEAAAABAAAAAQAAAAEAAAABAAAAAQAAAAEAAAABAAAAAQAAAAEAAAABAAAAAQAAAAEAAAABAAAAAQAAAAEAAAABAAAAAQAAAAEAAAABAAAAAQAAAAEAAAABAAAAAQAAAAEAAAABAAAAAQAAAAEAAAABAAAAAQAAAAEAAAABAAAAAQAAAAEAAAABAAAAAQAAAAEAAAABAAAAAQAAAAEAAAABAAAAAQAAAAEAAAABAAAAAQAAAAEAAAABAAAAAQAAAAEAAAABAAAAAQAAAAEAAAABAAAAAQAAAAEAAAABAAAAAQAAAAEAAAABAAAAAQAAAAEAAAABAAAAAQAAAAEAAAABAAAAAQAAAAEAAAABAAAAAQAAAAEAAAABAAAAAQAAAAEAAAABAAAAAQAAAAEAAAABAAAAAQAAAAEAAAABAAAAAQAAAAEAAAABAAAAAQAAAAEAAAABAAAAAQAAAAEAAAABAAAAAQAAAAEAAAABAAAAAQAAAAEAAAABAAAAAQAAAAEAAAABAAAAAQAAAAEAAAABAAAAAQAAAAEAAAABAAAAAQAAAAEAAAABAAAAAQAAAAEAAAABAAAAAQAAAAEAAAABAAAAAQAAAAEAAAABAAAAAQAAAAEAAAABAAAAAQAAAAEAAAABAAAAAQAAAAEAAAABAAAAAQAAAAEAAAABAAAAAQAAAAEAAAABAAAAAQAAAAEAAAABAAAAAQAAAAEAAAABAAAAAQAAAAEAAAABAAAAAQAAAAEAAAABAAAAAQAAAAEAAAABAAAAAQAAAAEAAAABAAAAAQAAAAEAAAABAAAAAQAAAAEAAAABAAAAAQAAAAEAAAABAAAAAQAAAAEAAAABAAAAAQAAAAEAAAABAAAAAQAAAAEAAAABAAAAAQAAAAEAAAABAAAAAQAAAAEAAAABAAAAAQAAAAEAAAABAAAAAQAAAAEAAAABAAAAAQAAAAEAAAABAAAAAQAAAAEAAAABAAAAAQAAAAEAAAABAAAAAQAAAAEAAAABAAAAAQAAAAEAAAABAAAAAQAAAAEAAAABAAAAAQAAAAEAAAABAAAAAQAAAAEAAAABAAAAAQAAAAEAAAABAAAAAQAAAAEAAAABAAAAAQAAAAEAAAABAAAAAQAAAAEAAAABAAAAAQAAAAEAAAABAAAAAQAAAAEAAAABAAAAAQAAAAEAAAABAAAAAQAAAAEAAAABAAAAAQAAAAEAAAABAAAAAQAAAAEAAAABAAAAAQAAAAEAAAABAAAAAQAAAAEAAAABAAAAAQAAAAEAAAABAAAAAQAAAAEAAAABAAAAAQAAAAEAAAABAAAAAQAAAAEAAAABAAAAAQAAAAEAAAABAAAAAQAAAAEAAAABAAAAAQAAAAEAAAABAAAAAQAAAAEAAAABAAAAAQAAAAEAAAABAAAAAQAAAAEAAAABAAAAAQAAAAEAAAABAAAAAQAAAAEAAAABAAAAAQAAAAEAAAABAAAAAQAAAAEAAAABAAAAAQAAAAEAAAABAAAAAQAAAAEAAAABAAAAAQAAAAEAAAABAAAAAQAAAAEAAAABAAAAAQAAAAEAAAABAAAAAQAAAAEAAAABAAAAAQAAAAEAAAABAAAAAQAAAAEAAAABAAAAAQAAAAEAAAABAAAAAQAAAAEAAAABAAAAAQAAAAEAAAABAAAAAQAAAAEAAAABAAAAAQAAAAEAAAABAAAAAQAAAAEAAAABAAAAAQAAAAEAAAABAAAAAQAAAAEAAAABAAAAAQAAAAEAAAABAAAAAQAAAAEAAAABAAAAAQAAAAEAAAABAAAAAQAAAAEAAAABAAAAAQAAAAEAAAABAAAAAQAAAAEAAAABAAAAAQAAAAEAAAABAAAAAQAAAAEAAAABAAAAAQAAAAEAAAABAAAAAQAAAAEAAAABAAAAAQAAAAEAAAABAAAAAQAAAAEAAAABAAAAAQAAAAEAAAABAAAAAQAAAAEAAAABAAAAAQAAAAEAAAABAAAAAQAAAAEAAAABAAAAAQAAAAEAAAABAAAAAQAAAAEAAAABAAAAAQAAAAEAAAABAAAAAQAAAAEAAAABAAAAAQAAAAEAAAABAAAAAQAAAAEAAAABAAAAAQAAAAEAAAABAAAAAQAAAAEAAAABAAAAAQAAAAEAAAABAAAAAQAAAAEAAAABAAAAAQAAAAEAAAABAAAAAQAAAAEAAAABAAAAAQAAAAEAAAABAAAAAQAAAAEAAAABAAAAAQAAAAEAAAABAAAAAQAAAAEAAAABAAAAAQAAAAEAAAABAAAAAQAAAAEAAAABAAAAAQAAAAEAAAABAAAAAQAAAAEAAAABAAAAAQAAAAEAAAABAAAAAQAAAAEAAAABAAAAAQAAAAEAAAABAAAAAQAAAAEAAAABAAAAAQAAAAEAAAABAAAAAQAAAAEAAAABAAAAAQAAAAEAAAABAAAAAQAAAAEAAAA=",
        "encoding": "base64",
        "path": [
         "y",
         "value"
        ]
       }
      ],
      "model_module": "bqplot",
      "model_module_version": "^0.5.18",
      "model_name": "ScatterModel",
      "state": {
       "_model_module_version": "^0.5.18",
       "_view_module_version": "^0.5.18",
       "default_opacities": {
        "dtype": "float64",
        "shape": [
         1
        ],
        "type": null,
        "value": {}
       },
       "label_display_horizontal_offset": 0,
       "label_display_vertical_offset": 0,
       "names": null,
       "scales": {
        "x": "IPY_MODEL_7efb21418ac44ca4890bb04d4d5796cd",
        "y": "IPY_MODEL_ec676c33c3504b31addf34157786c674"
       },
       "scales_metadata": {
        "color": {
         "dimension": "color"
        },
        "opacity": {
         "dimension": "opacity"
        },
        "rotation": {
         "dimension": "rotation"
        },
        "size": {
         "dimension": "size"
        },
        "skew": {
         "dimension": "skew"
        },
        "x": {
         "dimension": "x",
         "orientation": "horizontal"
        },
        "y": {
         "dimension": "y",
         "orientation": "vertical"
        }
       },
       "x": {
        "dtype": "int32",
        "shape": [
         716
        ],
        "type": null
       },
       "y": {
        "dtype": "int32",
        "shape": [
         716
        ],
        "type": null
       }
      }
     },
     "be747da23a8e4b9691b091b02ac4d329": {
      "model_module": "@jupyter-widgets/base",
      "model_module_version": "1.2.0",
      "model_name": "LayoutModel",
      "state": {}
     },
     "bea17fc84219400ca31eef7dd9964d52": {
      "model_module": "@jupyter-widgets/base",
      "model_module_version": "1.2.0",
      "model_name": "LayoutModel",
      "state": {}
     },
     "bea4c6ba6d4a47b69ac242ad59ed700e": {
      "model_module": "bqplot",
      "model_module_version": "^0.5.18",
      "model_name": "FigureModel",
      "state": {
       "_model_module_version": "^0.5.18",
       "_view_module_version": "^0.5.18",
       "axes": [
        "IPY_MODEL_0e1fe3601d89428aba8456038065b468",
        "IPY_MODEL_d547df2654b3405488ec3b5bf0912d8c"
       ],
       "layout": "IPY_MODEL_f7fa4e76678d479ea250e516e8005fa9",
       "marks": [
        "IPY_MODEL_caa2e28a719e42329c67f524aba277c6"
       ],
       "scale_x": "IPY_MODEL_a5a161a174e547d3a9eadc66e885e01d",
       "scale_y": "IPY_MODEL_581457d431b14016b97c63df81cfe2aa"
      }
     },
     "bf27c457be634cc68427d37a79be3df1": {
      "model_module": "@jupyter-widgets/controls",
      "model_module_version": "1.5.0",
      "model_name": "VBoxModel",
      "state": {
       "children": [
        "IPY_MODEL_9a31bb394f6744ee88d4382245710910",
        "IPY_MODEL_f062f320060448a99383d4f576166565"
       ],
       "layout": "IPY_MODEL_2fabf57b09b743c1bb0631748f6bad35"
      }
     },
     "bfe365b450b44d10a2439428b5d583f6": {
      "model_module": "@jupyter-widgets/base",
      "model_module_version": "1.2.0",
      "model_name": "LayoutModel",
      "state": {}
     },
     "bff3cccec1334202b05617a7cedf503c": {
      "model_module": "bqplot",
      "model_module_version": "^0.5.18",
      "model_name": "LinearScaleModel",
      "state": {
       "_model_module_version": "^0.5.18",
       "_view_module_version": "^0.5.18",
       "stabilized": false
      }
     },
     "c15ac9f30e8f4853a1e8652016f276b8": {
      "model_module": "@jupyter-widgets/controls",
      "model_module_version": "1.5.0",
      "model_name": "VBoxModel",
      "state": {
       "children": [
        "IPY_MODEL_6fa7e645415146548853750ce24b4034",
        "IPY_MODEL_2a41dde1d3f944a5a467ba25c0da6942"
       ],
       "layout": "IPY_MODEL_8456fdc22202416d94fdaf1a78bb0092"
      }
     },
     "c1c095cd38344373bd37e8c386bef595": {
      "model_module": "@jupyter-widgets/controls",
      "model_module_version": "1.5.0",
      "model_name": "VBoxModel",
      "state": {
       "children": [
        "IPY_MODEL_7f3a25eb74b442489d575a0fe195e5f0",
        "IPY_MODEL_949d0a21f89f430db9f7c0a9ea8274f8"
       ],
       "layout": "IPY_MODEL_c5f894dc8cd6423489723015a9d72144"
      }
     },
     "c1eb9ce16e9547d5bcb2fb9c08d369b0": {
      "model_module": "@jupyter-widgets/base",
      "model_module_version": "1.2.0",
      "model_name": "LayoutModel",
      "state": {}
     },
     "c1fa7a0e06f6454aafd1afb2e52dc96d": {
      "model_module": "bqplot",
      "model_module_version": "^0.5.18",
      "model_name": "AxisModel",
      "state": {
       "_model_module_version": "^0.5.18",
       "_view_module_version": "^0.5.18",
       "scale": "IPY_MODEL_0a768a38b88246fa9b888838deca7064",
       "side": "bottom",
       "tick_values": null
      }
     },
     "c228048f57c34348bd0e8f3041315cdc": {
      "model_module": "bqplot",
      "model_module_version": "^0.5.18",
      "model_name": "LinearScaleModel",
      "state": {
       "_model_module_version": "^0.5.18",
       "_view_module_version": "^0.5.18",
       "allow_padding": false,
       "max": 1,
       "min": 0,
       "stabilized": false
      }
     },
     "c2cfd83c9e5c4cd8a7e7295bc1a2c033": {
      "model_module": "bqplot",
      "model_module_version": "^0.5.18",
      "model_name": "AxisModel",
      "state": {
       "_model_module_version": "^0.5.18",
       "_view_module_version": "^0.5.18",
       "orientation": "vertical",
       "scale": "IPY_MODEL_71ef62f5174a48288ce47fe5efd107e2",
       "side": "left",
       "tick_values": null
      }
     },
     "c3094eb858dc46f99f8ef6a789a2b2d4": {
      "model_module": "bqplot",
      "model_module_version": "^0.5.18",
      "model_name": "LinearScaleModel",
      "state": {
       "_model_module_version": "^0.5.18",
       "_view_module_version": "^0.5.18",
       "allow_padding": false,
       "max": 1,
       "min": 0,
       "stabilized": false
      }
     },
     "c43dbece7647443b99a067e66f4c7099": {
      "model_module": "bqplot",
      "model_module_version": "^0.5.18",
      "model_name": "ToolbarModel",
      "state": {
       "_model_module_version": "^0.5.18",
       "_view_module_version": "^0.5.18",
       "figure": "IPY_MODEL_f1b8fe1fb2034b0091d49b424e27854d",
       "layout": "IPY_MODEL_f6eaed9c6bef4880b2d0c85c7999c0cf"
      }
     },
     "c45d587b9d5c48789351bd41f8386b03": {
      "model_module": "@jupyter-widgets/base",
      "model_module_version": "1.2.0",
      "model_name": "LayoutModel",
      "state": {}
     },
     "c46ac891dc5e41c4b1077abe9ab81a6b": {
      "model_module": "bqplot",
      "model_module_version": "^0.5.18",
      "model_name": "FigureModel",
      "state": {
       "_model_module_version": "^0.5.18",
       "_view_module_version": "^0.5.18",
       "layout": "IPY_MODEL_31a8a5fb7b4141ee969638fa68b4b4b1",
       "scale_x": "IPY_MODEL_d8d21cb6c97d413a8cd60ddce55e39c5",
       "scale_y": "IPY_MODEL_cf77c9286e624bf484a3261198d4c018"
      }
     },
     "c4b264ee6d964d67bcf99d2831d23a71": {
      "model_module": "bqplot",
      "model_module_version": "^0.5.18",
      "model_name": "AxisModel",
      "state": {
       "_model_module_version": "^0.5.18",
       "_view_module_version": "^0.5.18",
       "orientation": "vertical",
       "scale": "IPY_MODEL_bff3cccec1334202b05617a7cedf503c",
       "side": "left",
       "tick_values": null
      }
     },
     "c4c99372d4fe4c1fa7af2256ecc47d01": {
      "model_module": "bqplot",
      "model_module_version": "^0.5.18",
      "model_name": "FigureModel",
      "state": {
       "_model_module_version": "^0.5.18",
       "_view_module_version": "^0.5.18",
       "layout": "IPY_MODEL_299d49eb83ba49f995f8b20e31fe59eb",
       "scale_x": "IPY_MODEL_87f673bf704f4a0d925ae4001cc2d069",
       "scale_y": "IPY_MODEL_034c2d14b4ae427ba71543e4e8916742"
      }
     },
     "c50c133829b94c9ba5ddf9eb4c83f6de": {
      "model_module": "@jupyter-widgets/base",
      "model_module_version": "1.2.0",
      "model_name": "LayoutModel",
      "state": {}
     },
     "c51ebd994de5490b8d436809ddfc731c": {
      "model_module": "@jupyter-widgets/base",
      "model_module_version": "1.2.0",
      "model_name": "LayoutModel",
      "state": {}
     },
     "c5ed0eab3d39475e8021248d51d2ce18": {
      "model_module": "bqplot",
      "model_module_version": "^0.5.18",
      "model_name": "AxisModel",
      "state": {
       "_model_module_version": "^0.5.18",
       "_view_module_version": "^0.5.18",
       "orientation": "vertical",
       "scale": "IPY_MODEL_007528f904ca45b6abf7afb5967a907e",
       "side": "left",
       "tick_values": null
      }
     },
     "c5f894dc8cd6423489723015a9d72144": {
      "model_module": "@jupyter-widgets/base",
      "model_module_version": "1.2.0",
      "model_name": "LayoutModel",
      "state": {}
     },
     "c64ba8ea58fa420e9f53c7f2abc036ce": {
      "model_module": "@jupyter-widgets/base",
      "model_module_version": "1.2.0",
      "model_name": "LayoutModel",
      "state": {}
     },
     "c665904bb65a44f98a67fdb9e7a058a6": {
      "model_module": "bqplot",
      "model_module_version": "^0.5.18",
      "model_name": "LinearScaleModel",
      "state": {
       "_model_module_version": "^0.5.18",
       "_view_module_version": "^0.5.18",
       "allow_padding": false,
       "max": 1,
       "min": 0,
       "stabilized": false
      }
     },
     "c6b234d6c0094331957c89a19f8984d4": {
      "model_module": "bqplot",
      "model_module_version": "^0.5.18",
      "model_name": "LinearScaleModel",
      "state": {
       "_model_module_version": "^0.5.18",
       "_view_module_version": "^0.5.18",
       "allow_padding": false,
       "max": 1,
       "min": 0,
       "stabilized": false
      }
     },
     "c77f77b97acf4f8ca0e017c92e9d291f": {
      "model_module": "bqplot",
      "model_module_version": "^0.5.18",
      "model_name": "AxisModel",
      "state": {
       "_model_module_version": "^0.5.18",
       "_view_module_version": "^0.5.18",
       "scale": "IPY_MODEL_40b5edd184f34cb58d2b5c5a84778781",
       "side": "bottom",
       "tick_values": null
      }
     },
     "c88147aedaaf420ead220049955e6779": {
      "model_module": "bqplot",
      "model_module_version": "^0.5.18",
      "model_name": "LinearScaleModel",
      "state": {
       "_model_module_version": "^0.5.18",
       "_view_module_version": "^0.5.18",
       "allow_padding": false,
       "max": 1,
       "min": 0,
       "stabilized": false
      }
     },
     "c905a3370d87416999c3772aab03966a": {
      "model_module": "bqplot",
      "model_module_version": "^0.5.18",
      "model_name": "LinearScaleModel",
      "state": {
       "_model_module_version": "^0.5.18",
       "_view_module_version": "^0.5.18",
       "allow_padding": false,
       "max": 1,
       "min": 0,
       "stabilized": false
      }
     },
     "c9457cd18d244f93b7a460ba0c58eb14": {
      "model_module": "@jupyter-widgets/base",
      "model_module_version": "1.2.0",
      "model_name": "LayoutModel",
      "state": {}
     },
     "c94e4edd55c54d68978ce9207592d889": {
      "buffers": [
       {
        "data": "BwAAAAUAAAAFAAAABQAAAAQAAAAEAAAAAwAAAAMAAAADAAAAAwAAAAMAAAADAAAAAwAAAAIAAAACAAAAAgAAAAIAAAACAAAAAgAAAAIAAAACAAAAAgAAAAIAAAACAAAAAgAAAAIAAAACAAAAAgAAAAIAAAACAAAAAgAAAAIAAAACAAAAAgAAAAIAAAACAAAA",
        "encoding": "base64",
        "path": [
         "y",
         "value"
        ]
       }
      ],
      "model_module": "bqplot",
      "model_module_version": "^0.5.18",
      "model_name": "BarsModel",
      "state": {
       "_model_module_version": "^0.5.18",
       "_view_module_version": "^0.5.18",
       "label_font_style": {},
       "orientation": "horizontal",
       "scales": {
        "x": "IPY_MODEL_2bcf0ffa5e314e5ba37b82777d1b1eba",
        "y": "IPY_MODEL_b2a3aac93c804497a7898b72db88a929"
       },
       "scales_metadata": {
        "x": {
         "dimension": "x",
         "orientation": "vertical"
        },
        "y": {
         "dimension": "y",
         "orientation": "horizontal"
        }
       },
       "x": [
        "Facundo Batista",
        "Juan Pedro Fisanotti",
        "Roberto Alsina",
        "Claudio Freire",
        "Damián Avila",
        "Hugo Ruscitti",
        "Alejandro J. Cura",
        "Various Speakers",
        "Diego Sarmentero",
        "Natalia Bidart",
        "Martin Alderete",
        "Rafael Carrascosa",
        "Gabriel Genellina",
        "Ricardo Kirkner",
        "Martín Gaitán",
        "Alejandro Cura",
        "Manuel Quiñones",
        "Diego Cañizares",
        "Massimo Di Pierro",
        "Craig Kerstiens",
        "Luciano Rossi",
        "Ariel Rossanigo",
        "Andrea Gavana",
        "Nicolás Demarchi",
        "Felipe Lerena",
        "Daniel F. Moisset",
        "Matías Bordese",
        "Berenice Larsen Pereyra",
        "Brett Cannon",
        "Javier Mansilla",
        "Sebastián Marró",
        "Emiliano Dalla Verde Marcozzi",
        "Manuel Kaufmann",
        "Sofía Denner",
        "Pedro Ignacio Guridi",
        "Christophe Pettus"
       ],
       "y": {
        "dtype": "int32",
        "shape": [
         36
        ],
        "type": null
       }
      }
     },
     "ca23c4f66740417597895bdaf4128ed7": {
      "model_module": "@jupyter-widgets/base",
      "model_module_version": "1.2.0",
      "model_name": "LayoutModel",
      "state": {}
     },
     "ca4be53f245e42afb9a7eba503cd27b2": {
      "model_module": "bqplot",
      "model_module_version": "^0.5.18",
      "model_name": "AxisModel",
      "state": {
       "_model_module_version": "^0.5.18",
       "_view_module_version": "^0.5.18",
       "orientation": "vertical",
       "scale": "IPY_MODEL_06fc3e340b064fd6a864587e0cf0dd44",
       "side": "left",
       "tick_values": null
      }
     },
     "ca76f489ad5a41bcba92ec714e6de665": {
      "model_module": "@jupyter-widgets/base",
      "model_module_version": "1.2.0",
      "model_name": "LayoutModel",
      "state": {}
     },
     "caa2e28a719e42329c67f524aba277c6": {
      "buffers": [
       {
        "data": "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",
        "encoding": "base64",
        "path": [
         "x",
         "value"
        ]
       },
       {
        "data": "OAAAADQAAAAwAAAALgAAAB4AAAAcAAAAHAAAABwAAAAbAAAAGwAAABoAAAAYAAAAFwAAABMAAAARAAAADwAAAA4AAAANAAAADAAAAAwAAAAKAAAACgAAAAkAAAAJAAAACQAAAAgAAAAIAAAABwAAAAcAAAAGAAAABgAAAAUAAAAFAAAABQAAAAUAAAAFAAAABQAAAAUAAAAFAAAABQAAAAQAAAAEAAAABAAAAAQAAAAEAAAABAAAAAQAAAAEAAAABAAAAAQAAAAEAAAABAAAAAQAAAAEAAAABAAAAAQAAAAEAAAAAwAAAAMAAAADAAAAAwAAAAMAAAADAAAAAwAAAAMAAAADAAAAAwAAAAMAAAADAAAAAwAAAAMAAAADAAAAAwAAAAMAAAADAAAAAwAAAAMAAAADAAAAAwAAAAMAAAADAAAAAwAAAAMAAAADAAAAAwAAAAMAAAADAAAAAwAAAAMAAAADAAAAAwAAAAMAAAADAAAAAwAAAAIAAAACAAAAAgAAAAIAAAACAAAAAgAAAAIAAAACAAAAAgAAAAIAAAACAAAAAgAAAAIAAAACAAAAAgAAAAIAAAACAAAAAgAAAAIAAAACAAAAAgAAAAIAAAACAAAAAgAAAAIAAAACAAAAAgAAAAIAAAACAAAAAgAAAAIAAAACAAAAAgAAAAIAAAACAAAAAgAAAAIAAAACAAAAAgAAAAIAAAACAAAAAgAAAAIAAAACAAAAAgAAAAIAAAACAAAAAgAAAAIAAAACAAAAAgAAAAIAAAACAAAAAgAAAAIAAAACAAAAAgAAAAIAAAACAAAAAgAAAAIAAAACAAAAAgAAAAIAAAACAAAAAgAAAAIAAAACAAAAAgAAAAIAAAACAAAAAgAAAAIAAAACAAAAAgAAAAIAAAACAAAAAgAAAAIAAAACAAAAAQAAAAEAAAABAAAAAQAAAAEAAAABAAAAAQAAAAEAAAABAAAAAQAAAAEAAAABAAAAAQAAAAEAAAABAAAAAQAAAAEAAAABAAAAAQAAAAEAAAABAAAAAQAAAAEAAAABAAAAAQAAAAEAAAABAAAAAQAAAAEAAAABAAAAAQAAAAEAAAABAAAAAQAAAAEAAAABAAAAAQAAAAEAAAABAAAAAQAAAAEAAAABAAAAAQAAAAEAAAABAAAAAQAAAAEAAAABAAAAAQAAAAEAAAABAAAAAQAAAAEAAAABAAAAAQAAAAEAAAABAAAAAQAAAAEAAAABAAAAAQAAAAEAAAABAAAAAQAAAAEAAAABAAAAAQAAAAEAAAABAAAAAQAAAAEAAAABAAAAAQAAAAEAAAABAAAAAQAAAAEAAAABAAAAAQAAAAEAAAABAAAAAQAAAAEAAAABAAAAAQAAAAEAAAABAAAAAQAAAAEAAAABAAAAAQAAAAEAAAABAAAAAQAAAAEAAAABAAAAAQAAAAEAAAABAAAAAQAAAAEAAAABAAAAAQAAAAEAAAABAAAAAQAAAAEAAAABAAAAAQAAAAEAAAABAAAAAQAAAAEAAAABAAAAAQAAAAEAAAABAAAAAQAAAAEAAAABAAAAAQAAAAEAAAABAAAAAQAAAAEAAAABAAAAAQAAAAEAAAABAAAAAQAAAAEAAAABAAAAAQAAAAEAAAABAAAAAQAAAAEAAAABAAAAAQAAAAEAAAABAAAAAQAAAAEAAAABAAAAAQAAAAEAAAABAAAAAQAAAAEAAAABAAAAAQAAAAEAAAABAAAAAQAAAAEAAAABAAAAAQAAAAEAAAABAAAAAQAAAAEAAAABAAAAAQAAAAEAAAABAAAAAQAAAAEAAAABAAAAAQAAAAEAAAABAAAAAQAAAAEAAAABAAAAAQAAAAEAAAABAAAAAQAAAAEAAAABAAAAAQAAAAEAAAABAAAAAQAAAAEAAAABAAAAAQAAAAEAAAABAAAAAQAAAAEAAAABAAAAAQAAAAEAAAABAAAAAQAAAAEAAAABAAAAAQAAAAEAAAABAAAAAQAAAAEAAAABAAAAAQAAAAEAAAABAAAAAQAAAAEAAAABAAAAAQAAAAEAAAABAAAAAQAAAAEAAAABAAAAAQAAAAEAAAABAAAAAQAAAAEAAAABAAAAAQAAAAEAAAABAAAAAQAAAAEAAAABAAAAAQAAAAEAAAABAAAAAQAAAAEAAAABAAAAAQAAAAEAAAABAAAAAQAAAAEAAAABAAAAAQAAAAEAAAABAAAAAQAAAAEAAAABAAAAAQAAAAEAAAABAAAAAQAAAAEAAAABAAAAAQAAAAEAAAABAAAAAQAAAAEAAAABAAAAAQAAAAEAAAABAAAAAQAAAAEAAAABAAAAAQAAAAEAAAABAAAAAQAAAAEAAAABAAAAAQAAAAEAAAABAAAAAQAAAAEAAAABAAAAAQAAAAEAAAABAAAAAQAAAAEAAAABAAAAAQAAAAEAAAABAAAAAQAAAAEAAAABAAAAAQAAAAEAAAABAAAAAQAAAAEAAAABAAAAAQAAAAEAAAABAAAAAQAAAAEAAAABAAAAAQAAAAEAAAABAAAAAQAAAAEAAAABAAAAAQAAAAEAAAABAAAAAQAAAAEAAAABAAAAAQAAAAEAAAABAAAAAQAAAAEAAAABAAAAAQAAAAEAAAABAAAAAQAAAAEAAAABAAAAAQAAAAEAAAABAAAAAQAAAAEAAAABAAAAAQAAAAEAAAABAAAAAQAAAAEAAAABAAAAAQAAAAEAAAABAAAAAQAAAAEAAAABAAAAAQAAAAEAAAABAAAAAQAAAAEAAAABAAAAAQAAAAEAAAABAAAAAQAAAAEAAAABAAAAAQAAAAEAAAABAAAAAQAAAAEAAAABAAAAAQAAAAEAAAABAAAAAQAAAAEAAAABAAAAAQAAAAEAAAABAAAAAQAAAAEAAAABAAAAAQAAAAEAAAABAAAAAQAAAAEAAAABAAAAAQAAAAEAAAABAAAAAQAAAAEAAAABAAAAAQAAAAEAAAABAAAAAQAAAAEAAAABAAAAAQAAAAEAAAABAAAAAQAAAAEAAAABAAAAAQAAAAEAAAABAAAAAQAAAAEAAAABAAAAAQAAAAEAAAABAAAAAQAAAAEAAAABAAAAAQAAAAEAAAABAAAAAQAAAAEAAAABAAAAAQAAAAEAAAABAAAAAQAAAAEAAAABAAAAAQAAAAEAAAABAAAAAQAAAAEAAAABAAAAAQAAAAEAAAABAAAAAQAAAAEAAAABAAAAAQAAAAEAAAABAAAAAQAAAAEAAAABAAAAAQAAAAEAAAABAAAAAQAAAAEAAAABAAAAAQAAAAEAAAABAAAAAQAAAAEAAAABAAAAAQAAAAEAAAABAAAAAQAAAAEAAAABAAAAAQAAAAEAAAABAAAAAQAAAAEAAAABAAAAAQAAAAEAAAABAAAAAQAAAAEAAAABAAAAAQAAAAEAAAABAAAAAQAAAAEAAAABAAAAAQAAAAEAAAABAAAAAQAAAAEAAAABAAAAAQAAAAEAAAABAAAAAQAAAAEAAAABAAAAAQAAAAEAAAABAAAAAQAAAAEAAAABAAAAAQAAAAEAAAABAAAAAQAAAAEAAAABAAAAAQAAAAEAAAABAAAAAQAAAAEAAAABAAAAAQAAAAEAAAABAAAAAQAAAAEAAAABAAAAAQAAAAEAAAABAAAAAQAAAAEAAAABAAAAAQAAAAEAAAABAAAAAQAAAAEAAAABAAAAAQAAAAEAAAABAAAAAQAAAAEAAAABAAAAAQAAAAEAAAABAAAAAQAAAAEAAAABAAAAAQAAAAEAAAABAAAAAQAAAAEAAAABAAAAAQAAAAEAAAA=",
        "encoding": "base64",
        "path": [
         "y",
         "value"
        ]
       }
      ],
      "model_module": "bqplot",
      "model_module_version": "^0.5.18",
      "model_name": "ScatterModel",
      "state": {
       "_model_module_version": "^0.5.18",
       "_view_module_version": "^0.5.18",
       "colors": [
        "dodgerblue"
       ],
       "default_opacities": {
        "dtype": "float64",
        "shape": [
         1
        ],
        "type": null,
        "value": {}
       },
       "label_display_horizontal_offset": 0,
       "label_display_vertical_offset": 0,
       "names": null,
       "scales": {
        "x": "IPY_MODEL_fdbf3739edd6405588e347203d8f1865",
        "y": "IPY_MODEL_47c2d7dce5bd45999c043c8287fd7e6a"
       },
       "scales_metadata": {
        "color": {
         "dimension": "color"
        },
        "opacity": {
         "dimension": "opacity"
        },
        "rotation": {
         "dimension": "rotation"
        },
        "size": {
         "dimension": "size"
        },
        "skew": {
         "dimension": "skew"
        },
        "x": {
         "dimension": "x",
         "orientation": "horizontal"
        },
        "y": {
         "dimension": "y",
         "orientation": "vertical"
        }
       },
       "stroke": "black",
       "tooltip": "IPY_MODEL_93b19edc90a9448caccc9d4f66fc8502",
       "unhovered_style": {
        "opacity": 0.5
       },
       "x": {
        "dtype": "int32",
        "shape": [
         716
        ],
        "type": null
       },
       "y": {
        "dtype": "int32",
        "shape": [
         716
        ],
        "type": null
       }
      }
     },
     "cb9c4fd768454f64acc8125f96db6e87": {
      "model_module": "bqplot",
      "model_module_version": "^0.5.18",
      "model_name": "AxisModel",
      "state": {
       "_model_module_version": "^0.5.18",
       "_view_module_version": "^0.5.18",
       "scale": "IPY_MODEL_7b827002acc7407dbebb687a50079e69",
       "side": "bottom",
       "tick_values": null
      }
     },
     "ccbbec7cfe30474f8b30982588911eb4": {
      "model_module": "bqplot",
      "model_module_version": "^0.5.18",
      "model_name": "FigureModel",
      "state": {
       "_model_module_version": "^0.5.18",
       "_view_module_version": "^0.5.18",
       "axes": [
        "IPY_MODEL_46e63a3cdaf04947b4af94da6a97d136",
        "IPY_MODEL_d69a38cba6c449f29cb9592c754a81ab"
       ],
       "layout": "IPY_MODEL_589ee6f233414a118c61adc7da8e5697",
       "marks": [
        "IPY_MODEL_7f5da0ba8ddd4382b602135aab4174c2"
       ],
       "scale_x": "IPY_MODEL_c228048f57c34348bd0e8f3041315cdc",
       "scale_y": "IPY_MODEL_6ab929be96b14947924a2eed4e59d945"
      }
     },
     "ccd22c02ddc8409998fdc8a4a177cbab": {
      "model_module": "bqplot",
      "model_module_version": "^0.5.18",
      "model_name": "LinearScaleModel",
      "state": {
       "_model_module_version": "^0.5.18",
       "_view_module_version": "^0.5.18",
       "allow_padding": false,
       "max": 1,
       "min": 0,
       "stabilized": false
      }
     },
     "ce0860e6fffb4f40bc89250097f7b075": {
      "model_module": "@jupyter-widgets/controls",
      "model_module_version": "1.5.0",
      "model_name": "VBoxModel",
      "state": {
       "children": [
        "IPY_MODEL_b589a390be924e049639c66635e8187e",
        "IPY_MODEL_e7ab3c664d41423bb74a9da791ee5641"
       ],
       "layout": "IPY_MODEL_360df4a4ead3476a8188d318461b5e19"
      }
     },
     "cf77c9286e624bf484a3261198d4c018": {
      "model_module": "bqplot",
      "model_module_version": "^0.5.18",
      "model_name": "LinearScaleModel",
      "state": {
       "_model_module_version": "^0.5.18",
       "_view_module_version": "^0.5.18",
       "allow_padding": false,
       "max": 1,
       "min": 0,
       "stabilized": false
      }
     },
     "cfb9f9c84db74b858f05e2e2cbef26b9": {
      "model_module": "@jupyter-widgets/base",
      "model_module_version": "1.2.0",
      "model_name": "LayoutModel",
      "state": {}
     },
     "d02f55bf9ee7483c983e4b88da02d9e4": {
      "model_module": "bqplot",
      "model_module_version": "^0.5.18",
      "model_name": "LinearScaleModel",
      "state": {
       "_model_module_version": "^0.5.18",
       "_view_module_version": "^0.5.18",
       "allow_padding": false,
       "max": 1,
       "min": 0,
       "stabilized": false
      }
     },
     "d0b8a85de14a48468be1574ec769ac6b": {
      "model_module": "bqplot",
      "model_module_version": "^0.5.18",
      "model_name": "ToolbarModel",
      "state": {
       "_model_module_version": "^0.5.18",
       "_view_module_version": "^0.5.18",
       "figure": "IPY_MODEL_bea4c6ba6d4a47b69ac242ad59ed700e",
       "layout": "IPY_MODEL_13a5378a75494eab8d0f5665ac1e3a76"
      }
     },
     "d15429cf4c1f49c9a74c34bd6f3846fb": {
      "model_module": "@jupyter-widgets/base",
      "model_module_version": "1.2.0",
      "model_name": "LayoutModel",
      "state": {}
     },
     "d24ef0c5878e42c094ca66e7d9913a94": {
      "model_module": "bqplot",
      "model_module_version": "^0.5.18",
      "model_name": "LinearScaleModel",
      "state": {
       "_model_module_version": "^0.5.18",
       "_view_module_version": "^0.5.18",
       "stabilized": false
      }
     },
     "d254ef57986d49b1aafca5b90a400945": {
      "model_module": "@jupyter-widgets/base",
      "model_module_version": "1.2.0",
      "model_name": "LayoutModel",
      "state": {}
     },
     "d2af6dde11804e4595fa802517e72439": {
      "model_module": "@jupyter-widgets/base",
      "model_module_version": "1.2.0",
      "model_name": "LayoutModel",
      "state": {}
     },
     "d2be6a6cc6cf4589b673bf9ce6cb7e3d": {
      "model_module": "bqplot",
      "model_module_version": "^0.5.18",
      "model_name": "FigureModel",
      "state": {
       "_model_module_version": "^0.5.18",
       "_view_module_version": "^0.5.18",
       "axes": [
        "IPY_MODEL_ee156d7d2ed440e49e981ba7d49a9839",
        "IPY_MODEL_3d68f79735234997a1ea74f03f21d0f2"
       ],
       "layout": "IPY_MODEL_b11bcca57dbc4dbe992e4fd8ae7ac64d",
       "marks": [
        "IPY_MODEL_4419098f08fd4dc7ba888693fb4fdc0c"
       ],
       "scale_x": "IPY_MODEL_426c4b5de0eb4e70bf1eb1cb6cec1db5",
       "scale_y": "IPY_MODEL_b2df7d44abf24f059aeb11d0407e7b26"
      }
     },
     "d45c043c9ac84a4b889ea6169359b325": {
      "model_module": "bqplot",
      "model_module_version": "^0.5.18",
      "model_name": "LinearScaleModel",
      "state": {
       "_model_module_version": "^0.5.18",
       "_view_module_version": "^0.5.18",
       "stabilized": false
      }
     },
     "d547df2654b3405488ec3b5bf0912d8c": {
      "model_module": "bqplot",
      "model_module_version": "^0.5.18",
      "model_name": "AxisModel",
      "state": {
       "_model_module_version": "^0.5.18",
       "_view_module_version": "^0.5.18",
       "orientation": "vertical",
       "scale": "IPY_MODEL_47c2d7dce5bd45999c043c8287fd7e6a",
       "side": "left",
       "tick_values": null
      }
     },
     "d69a38cba6c449f29cb9592c754a81ab": {
      "model_module": "bqplot",
      "model_module_version": "^0.5.18",
      "model_name": "AxisModel",
      "state": {
       "_model_module_version": "^0.5.18",
       "_view_module_version": "^0.5.18",
       "orientation": "vertical",
       "scale": "IPY_MODEL_b712d833a4ad463193b071b39fb883a3",
       "side": "left",
       "tick_values": null
      }
     },
     "d6a59c34cad34940a8d7eb1015125f71": {
      "model_module": "bqplot",
      "model_module_version": "^0.5.18",
      "model_name": "LinearScaleModel",
      "state": {
       "_model_module_version": "^0.5.18",
       "_view_module_version": "^0.5.18",
       "allow_padding": false,
       "max": 1,
       "min": 0,
       "stabilized": false
      }
     },
     "d7b7092506aa41b9af568d188c587614": {
      "model_module": "@jupyter-widgets/base",
      "model_module_version": "1.2.0",
      "model_name": "LayoutModel",
      "state": {}
     },
     "d80973090d724361b7de17f874b90103": {
      "model_module": "bqplot",
      "model_module_version": "^0.5.18",
      "model_name": "AxisModel",
      "state": {
       "_model_module_version": "^0.5.18",
       "_view_module_version": "^0.5.18",
       "scale": "IPY_MODEL_2641f7e7a5e84d03a53075d96dfe0008",
       "side": "bottom",
       "tick_values": null
      }
     },
     "d82fb04aa5d14d888e32c990cd115bca": {
      "model_module": "bqplot",
      "model_module_version": "^0.5.18",
      "model_name": "FigureModel",
      "state": {
       "_model_module_version": "^0.5.18",
       "_view_module_version": "^0.5.18",
       "axes": [
        "IPY_MODEL_97178fc1eb6144669c67e3c388edb17a",
        "IPY_MODEL_28d500614bf44ff58b7867518ee73409"
       ],
       "layout": "IPY_MODEL_7057f38341104de093e69f02f6223407",
       "marks": [
        "IPY_MODEL_47abab0107b8403b8588f6e35d39880a"
       ],
       "scale_x": "IPY_MODEL_bc8aa9abfc114eceacbeaa6c16c2f468",
       "scale_y": "IPY_MODEL_0981ea4ffca64878bd1d5006960f215c"
      }
     },
     "d8d21cb6c97d413a8cd60ddce55e39c5": {
      "model_module": "bqplot",
      "model_module_version": "^0.5.18",
      "model_name": "LinearScaleModel",
      "state": {
       "_model_module_version": "^0.5.18",
       "_view_module_version": "^0.5.18",
       "allow_padding": false,
       "max": 1,
       "min": 0,
       "stabilized": false
      }
     },
     "d8f6e53e521d48d5bc735b853254b244": {
      "model_module": "@jupyter-widgets/base",
      "model_module_version": "1.2.0",
      "model_name": "LayoutModel",
      "state": {}
     },
     "d9d164a995b64953bf1ce290bfeb45e1": {
      "model_module": "bqplot",
      "model_module_version": "^0.5.18",
      "model_name": "TooltipModel",
      "state": {
       "_model_module_version": "^0.5.18",
       "_view_module_version": "^0.5.18",
       "fields": [
        "x",
        "y",
        "palabra"
       ],
       "formats": [
        "",
        ".2f",
        ""
       ],
       "layout": "IPY_MODEL_319a15cc5a344b1fac437600879e6956"
      }
     },
     "da0b2022b6464fef989627025f0bb615": {
      "model_module": "@jupyter-widgets/controls",
      "model_module_version": "1.5.0",
      "model_name": "VBoxModel",
      "state": {
       "children": [
        "IPY_MODEL_a8d5646c024343a1b5dfa8e1659285ff",
        "IPY_MODEL_f230cc903369460e96b41496c0b33810"
       ],
       "layout": "IPY_MODEL_90f56d93e5af481c87b653c02d2fe201"
      }
     },
     "da19d1901f7e4666b039282212e87d2f": {
      "model_module": "bqplot",
      "model_module_version": "^0.5.18",
      "model_name": "LinearScaleModel",
      "state": {
       "_model_module_version": "^0.5.18",
       "_view_module_version": "^0.5.18",
       "allow_padding": false,
       "max": 1,
       "min": 0,
       "stabilized": false
      }
     },
     "da8f96e075d74cb08b41f083750de296": {
      "model_module": "bqplot",
      "model_module_version": "^0.5.18",
      "model_name": "TooltipModel",
      "state": {
       "_model_module_version": "^0.5.18",
       "_view_module_version": "^0.5.18",
       "fields": [
        "x",
        "y",
        "palabra"
       ],
       "formats": [
        "",
        ".2f",
        ""
       ],
       "layout": "IPY_MODEL_8bedba83a18c4221864403d9867bae10"
      }
     },
     "da96d7261f944d6884b12c0e12f4eefa": {
      "model_module": "bqplot",
      "model_module_version": "^0.5.18",
      "model_name": "FigureModel",
      "state": {
       "_model_module_version": "^0.5.18",
       "_view_module_version": "^0.5.18",
       "axes": [
        "IPY_MODEL_ae63e9289d424f9e81b860dee2368f4c",
        "IPY_MODEL_3231a41f37c94fbc9741152398ef2872"
       ],
       "layout": "IPY_MODEL_bcb8e3c4e33e4bd28662d82057a82fa4",
       "marks": [
        "IPY_MODEL_ec0651e05b934a5d90cc993cbc1f76b5"
       ],
       "scale_x": "IPY_MODEL_a8b820dabb664b3aa4468fb8338367a4",
       "scale_y": "IPY_MODEL_ffb8da82da7f43ecb85d4b62f99047f3"
      }
     },
     "db2b312947394d4082f858ce5b942a66": {
      "model_module": "bqplot",
      "model_module_version": "^0.5.18",
      "model_name": "FigureModel",
      "state": {
       "_model_module_version": "^0.5.18",
       "_view_module_version": "^0.5.18",
       "layout": "IPY_MODEL_175fd6bb2f4a4043803ebfd7ba39db94",
       "scale_x": "IPY_MODEL_f9a4c84cf8de4486b244647500ed29c2",
       "scale_y": "IPY_MODEL_4376bc778c00426eb4472027458bd0e7"
      }
     },
     "dc4598f6626b4d70a5ba8bdf8aa0065e": {
      "model_module": "bqplot",
      "model_module_version": "^0.5.18",
      "model_name": "OrdinalScaleModel",
      "state": {
       "_model_module_version": "^0.5.18",
       "_view_module_version": "^0.5.18"
      }
     },
     "dc4a2f5589b14f67ac3fd8f6a67f3a94": {
      "model_module": "bqplot",
      "model_module_version": "^0.5.18",
      "model_name": "LinearScaleModel",
      "state": {
       "_model_module_version": "^0.5.18",
       "_view_module_version": "^0.5.18",
       "allow_padding": false,
       "max": 1,
       "min": 0,
       "stabilized": false
      }
     },
     "dd1b5a6da41e40d899cf14dc9c30c058": {
      "model_module": "bqplot",
      "model_module_version": "^0.5.18",
      "model_name": "LinearScaleModel",
      "state": {
       "_model_module_version": "^0.5.18",
       "_view_module_version": "^0.5.18",
       "allow_padding": false,
       "max": 1,
       "min": 0,
       "stabilized": false
      }
     },
     "dd412cb30bbf4eb8b8b3b46ae976d025": {
      "model_module": "@jupyter-widgets/base",
      "model_module_version": "1.2.0",
      "model_name": "LayoutModel",
      "state": {}
     },
     "ddfdbcd474ad490695c6dac4c3758977": {
      "model_module": "bqplot",
      "model_module_version": "^0.5.18",
      "model_name": "FigureModel",
      "state": {
       "_model_module_version": "^0.5.18",
       "_view_module_version": "^0.5.18",
       "axes": [
        "IPY_MODEL_5bfd448a48c44710a444e8fc96505138",
        "IPY_MODEL_ec71a82305e74c5daa52579ae60c84c9"
       ],
       "layout": "IPY_MODEL_eac8cb801e9c47c4af258fbbc37fb24c",
       "marks": [
        "IPY_MODEL_6feaa25428d746089f882872bb1bba29"
       ],
       "scale_x": "IPY_MODEL_10a6a55523b345d2b53c3dc194d84697",
       "scale_y": "IPY_MODEL_7c1663ebf4ad4db69b5d753ca46cf646"
      }
     },
     "de07c195442947f79d29663486f0af5c": {
      "buffers": [
       {
        "data": "3AcAAOIHAADgBwAA3QcAANsHAADeBwAA3wcAAA==",
        "encoding": "base64",
        "path": [
         "x",
         "value"
        ]
       },
       {
        "data": "SwAAAD0AAAAkAAAAHAAAABoAAAAKAAAAAQAAAA==",
        "encoding": "base64",
        "path": [
         "y",
         "value"
        ]
       }
      ],
      "model_module": "bqplot",
      "model_module_version": "^0.5.18",
      "model_name": "ScatterModel",
      "state": {
       "_model_module_version": "^0.5.18",
       "_view_module_version": "^0.5.18",
       "default_opacities": {
        "dtype": "float64",
        "shape": [
         1
        ],
        "type": null,
        "value": {}
       },
       "label_display_horizontal_offset": 0,
       "label_display_vertical_offset": 0,
       "names": null,
       "scales": {
        "x": "IPY_MODEL_85a99cc84b0244778380ec1d9a3f966e",
        "y": "IPY_MODEL_8b2289e840f64860b6722c5f210e46b9"
       },
       "scales_metadata": {
        "color": {
         "dimension": "color"
        },
        "opacity": {
         "dimension": "opacity"
        },
        "rotation": {
         "dimension": "rotation"
        },
        "size": {
         "dimension": "size"
        },
        "skew": {
         "dimension": "skew"
        },
        "x": {
         "dimension": "x",
         "orientation": "horizontal"
        },
        "y": {
         "dimension": "y",
         "orientation": "vertical"
        }
       },
       "x": {
        "dtype": "int32",
        "shape": [
         7
        ],
        "type": null
       },
       "y": {
        "dtype": "int32",
        "shape": [
         7
        ],
        "type": null
       }
      }
     },
     "de1b88070b4c42b48961ed3fc23430fc": {
      "buffers": [
       {
        "data": "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",
        "encoding": "base64",
        "path": [
         "x",
         "value"
        ]
       },
       {
        "data": "OAAAADQAAAAwAAAALgAAAB4AAAAcAAAAHAAAABwAAAAbAAAAGwAAABoAAAAYAAAAFwAAABMAAAARAAAADwAAAA4AAAANAAAADAAAAAwAAAAKAAAACgAAAAkAAAAJAAAACQAAAAgAAAAIAAAABwAAAAcAAAAGAAAABgAAAAUAAAAFAAAABQAAAAUAAAAFAAAABQAAAAUAAAAFAAAABQAAAAQAAAAEAAAABAAAAAQAAAAEAAAABAAAAAQAAAAEAAAABAAAAAQAAAAEAAAABAAAAAQAAAAEAAAABAAAAAQAAAAEAAAAAwAAAAMAAAADAAAAAwAAAAMAAAADAAAAAwAAAAMAAAADAAAAAwAAAAMAAAADAAAAAwAAAAMAAAADAAAAAwAAAAMAAAADAAAAAwAAAAMAAAADAAAAAwAAAAMAAAADAAAAAwAAAAMAAAADAAAAAwAAAAMAAAADAAAAAwAAAAMAAAADAAAAAwAAAAMAAAADAAAAAwAAAAIAAAACAAAAAgAAAAIAAAACAAAAAgAAAAIAAAACAAAAAgAAAAIAAAACAAAAAgAAAAIAAAACAAAAAgAAAAIAAAACAAAAAgAAAAIAAAACAAAAAgAAAAIAAAACAAAAAgAAAAIAAAACAAAAAgAAAAIAAAACAAAAAgAAAAIAAAACAAAAAgAAAAIAAAACAAAAAgAAAAIAAAACAAAAAgAAAAIAAAACAAAAAgAAAAIAAAACAAAAAgAAAAIAAAACAAAAAgAAAAIAAAACAAAAAgAAAAIAAAACAAAAAgAAAAIAAAACAAAAAgAAAAIAAAACAAAAAgAAAAIAAAACAAAAAgAAAAIAAAACAAAAAgAAAAIAAAACAAAAAgAAAAIAAAACAAAAAgAAAAIAAAACAAAAAgAAAAIAAAACAAAAAgAAAAIAAAACAAAAAQAAAAEAAAABAAAAAQAAAAEAAAABAAAAAQAAAAEAAAABAAAAAQAAAAEAAAABAAAAAQAAAAEAAAABAAAAAQAAAAEAAAABAAAAAQAAAAEAAAABAAAAAQAAAAEAAAABAAAAAQAAAAEAAAABAAAAAQAAAAEAAAABAAAAAQAAAAEAAAABAAAAAQAAAAEAAAABAAAAAQAAAAEAAAABAAAAAQAAAAEAAAABAAAAAQAAAAEAAAABAAAAAQAAAAEAAAABAAAAAQAAAAEAAAABAAAAAQAAAAEAAAABAAAAAQAAAAEAAAABAAAAAQAAAAEAAAABAAAAAQAAAAEAAAABAAAAAQAAAAEAAAABAAAAAQAAAAEAAAABAAAAAQAAAAEAAAABAAAAAQAAAAEAAAABAAAAAQAAAAEAAAABAAAAAQAAAAEAAAABAAAAAQAAAAEAAAABAAAAAQAAAAEAAAABAAAAAQAAAAEAAAABAAAAAQAAAAEAAAABAAAAAQAAAAEAAAABAAAAAQAAAAEAAAABAAAAAQAAAAEAAAABAAAAAQAAAAEAAAABAAAAAQAAAAEAAAABAAAAAQAAAAEAAAABAAAAAQAAAAEAAAABAAAAAQAAAAEAAAABAAAAAQAAAAEAAAABAAAAAQAAAAEAAAABAAAAAQAAAAEAAAABAAAAAQAAAAEAAAABAAAAAQAAAAEAAAABAAAAAQAAAAEAAAABAAAAAQAAAAEAAAABAAAAAQAAAAEAAAABAAAAAQAAAAEAAAABAAAAAQAAAAEAAAABAAAAAQAAAAEAAAABAAAAAQAAAAEAAAABAAAAAQAAAAEAAAABAAAAAQAAAAEAAAABAAAAAQAAAAEAAAABAAAAAQAAAAEAAAABAAAAAQAAAAEAAAABAAAAAQAAAAEAAAABAAAAAQAAAAEAAAABAAAAAQAAAAEAAAABAAAAAQAAAAEAAAABAAAAAQAAAAEAAAABAAAAAQAAAAEAAAABAAAAAQAAAAEAAAABAAAAAQAAAAEAAAABAAAAAQAAAAEAAAABAAAAAQAAAAEAAAABAAAAAQAAAAEAAAABAAAAAQAAAAEAAAABAAAAAQAAAAEAAAABAAAAAQAAAAEAAAABAAAAAQAAAAEAAAABAAAAAQAAAAEAAAABAAAAAQAAAAEAAAABAAAAAQAAAAEAAAABAAAAAQAAAAEAAAABAAAAAQAAAAEAAAABAAAAAQAAAAEAAAABAAAAAQAAAAEAAAABAAAAAQAAAAEAAAABAAAAAQAAAAEAAAABAAAAAQAAAAEAAAABAAAAAQAAAAEAAAABAAAAAQAAAAEAAAABAAAAAQAAAAEAAAABAAAAAQAAAAEAAAABAAAAAQAAAAEAAAABAAAAAQAAAAEAAAABAAAAAQAAAAEAAAABAAAAAQAAAAEAAAABAAAAAQAAAAEAAAABAAAAAQAAAAEAAAABAAAAAQAAAAEAAAABAAAAAQAAAAEAAAABAAAAAQAAAAEAAAABAAAAAQAAAAEAAAABAAAAAQAAAAEAAAABAAAAAQAAAAEAAAABAAAAAQAAAAEAAAABAAAAAQAAAAEAAAABAAAAAQAAAAEAAAABAAAAAQAAAAEAAAABAAAAAQAAAAEAAAABAAAAAQAAAAEAAAABAAAAAQAAAAEAAAABAAAAAQAAAAEAAAABAAAAAQAAAAEAAAABAAAAAQAAAAEAAAABAAAAAQAAAAEAAAABAAAAAQAAAAEAAAABAAAAAQAAAAEAAAABAAAAAQAAAAEAAAABAAAAAQAAAAEAAAABAAAAAQAAAAEAAAABAAAAAQAAAAEAAAABAAAAAQAAAAEAAAABAAAAAQAAAAEAAAABAAAAAQAAAAEAAAABAAAAAQAAAAEAAAABAAAAAQAAAAEAAAABAAAAAQAAAAEAAAABAAAAAQAAAAEAAAABAAAAAQAAAAEAAAABAAAAAQAAAAEAAAABAAAAAQAAAAEAAAABAAAAAQAAAAEAAAABAAAAAQAAAAEAAAABAAAAAQAAAAEAAAABAAAAAQAAAAEAAAABAAAAAQAAAAEAAAABAAAAAQAAAAEAAAABAAAAAQAAAAEAAAABAAAAAQAAAAEAAAABAAAAAQAAAAEAAAABAAAAAQAAAAEAAAABAAAAAQAAAAEAAAABAAAAAQAAAAEAAAABAAAAAQAAAAEAAAABAAAAAQAAAAEAAAABAAAAAQAAAAEAAAABAAAAAQAAAAEAAAABAAAAAQAAAAEAAAABAAAAAQAAAAEAAAABAAAAAQAAAAEAAAABAAAAAQAAAAEAAAABAAAAAQAAAAEAAAABAAAAAQAAAAEAAAABAAAAAQAAAAEAAAABAAAAAQAAAAEAAAABAAAAAQAAAAEAAAABAAAAAQAAAAEAAAABAAAAAQAAAAEAAAABAAAAAQAAAAEAAAABAAAAAQAAAAEAAAABAAAAAQAAAAEAAAABAAAAAQAAAAEAAAABAAAAAQAAAAEAAAABAAAAAQAAAAEAAAABAAAAAQAAAAEAAAABAAAAAQAAAAEAAAABAAAAAQAAAAEAAAABAAAAAQAAAAEAAAABAAAAAQAAAAEAAAABAAAAAQAAAAEAAAABAAAAAQAAAAEAAAABAAAAAQAAAAEAAAABAAAAAQAAAAEAAAABAAAAAQAAAAEAAAABAAAAAQAAAAEAAAABAAAAAQAAAAEAAAABAAAAAQAAAAEAAAABAAAAAQAAAAEAAAABAAAAAQAAAAEAAAABAAAAAQAAAAEAAAABAAAAAQAAAAEAAAABAAAAAQAAAAEAAAABAAAAAQAAAAEAAAABAAAAAQAAAAEAAAABAAAAAQAAAAEAAAABAAAAAQAAAAEAAAABAAAAAQAAAAEAAAABAAAAAQAAAAEAAAA=",
        "encoding": "base64",
        "path": [
         "y",
         "value"
        ]
       }
      ],
      "model_module": "bqplot",
      "model_module_version": "^0.5.18",
      "model_name": "ScatterModel",
      "state": {
       "_model_module_version": "^0.5.18",
       "_view_module_version": "^0.5.18",
       "colors": [
        "dodgerblue"
       ],
       "default_opacities": {
        "dtype": "float64",
        "shape": [
         1
        ],
        "type": null,
        "value": {}
       },
       "label_display_horizontal_offset": 0,
       "label_display_vertical_offset": 0,
       "names": null,
       "scales": {
        "x": "IPY_MODEL_e1d6c435dfc44b2e8afbf8a97d2c0db6",
        "y": "IPY_MODEL_8d275eb0d88840448f5e292939b0a1fb"
       },
       "scales_metadata": {
        "color": {
         "dimension": "color"
        },
        "opacity": {
         "dimension": "opacity"
        },
        "rotation": {
         "dimension": "rotation"
        },
        "size": {
         "dimension": "size"
        },
        "skew": {
         "dimension": "skew"
        },
        "x": {
         "dimension": "x",
         "orientation": "horizontal"
        },
        "y": {
         "dimension": "y",
         "orientation": "vertical"
        }
       },
       "stroke": "black",
       "tooltip": "IPY_MODEL_6fa8be083cac4e13bd39e4a5cc60e724",
       "unhovered_style": {
        "opacity": 0.5
       },
       "x": {
        "dtype": "int32",
        "shape": [
         716
        ],
        "type": null
       },
       "y": {
        "dtype": "int32",
        "shape": [
         716
        ],
        "type": null
       }
      }
     },
     "de4976326b70496cbc76139174cab534": {
      "model_module": "bqplot",
      "model_module_version": "^0.5.18",
      "model_name": "ToolbarModel",
      "state": {
       "_model_module_version": "^0.5.18",
       "_view_module_version": "^0.5.18",
       "figure": "IPY_MODEL_15c37e0a577d41d1800fb70f1889201b",
       "layout": "IPY_MODEL_a55593b407f34febb3afff60011199aa"
      }
     },
     "de7c0263c4b94de49a4e512fbc90a6d1": {
      "model_module": "bqplot",
      "model_module_version": "^0.5.18",
      "model_name": "LinearScaleModel",
      "state": {
       "_model_module_version": "^0.5.18",
       "_view_module_version": "^0.5.18",
       "allow_padding": false,
       "max": 1,
       "min": 0,
       "stabilized": false
      }
     },
     "df14377b8757472184382d163a59ba89": {
      "model_module": "@jupyter-widgets/base",
      "model_module_version": "1.2.0",
      "model_name": "LayoutModel",
      "state": {}
     },
     "dfb3c8a116904187911c1cf917bcf276": {
      "model_module": "bqplot",
      "model_module_version": "^0.5.18",
      "model_name": "FigureModel",
      "state": {
       "_model_module_version": "^0.5.18",
       "_view_module_version": "^0.5.18",
       "axes": [
        "IPY_MODEL_3f9015e65ab1477993d1e9226de2e2f2",
        "IPY_MODEL_78a71cf5147a41d8bf9ed4e5f43ef1f6"
       ],
       "layout": "IPY_MODEL_edc659fa5b3f46ce9881825a3dbd0f31",
       "marks": [
        "IPY_MODEL_7c2b2b6c33df4586ab83789541528ab0"
       ],
       "scale_x": "IPY_MODEL_6a468d53a0f44a50acc06a3bcbb18d3b",
       "scale_y": "IPY_MODEL_20987ee7cc0f401f951fcd438edc37dc"
      }
     },
     "e0075863d1644303b0b38b883737c4aa": {
      "model_module": "bqplot",
      "model_module_version": "^0.5.18",
      "model_name": "LinearScaleModel",
      "state": {
       "_model_module_version": "^0.5.18",
       "_view_module_version": "^0.5.18",
       "allow_padding": false,
       "max": 1,
       "min": 0,
       "stabilized": false
      }
     },
     "e03dbbcf68794e41a95615cbd4f1aaed": {
      "model_module": "bqplot",
      "model_module_version": "^0.5.18",
      "model_name": "AxisModel",
      "state": {
       "_model_module_version": "^0.5.18",
       "_view_module_version": "^0.5.18",
       "scale": "IPY_MODEL_aa849f7501164ee0bbdb2ecda54e69e0",
       "side": "bottom",
       "tick_values": null
      }
     },
     "e080f2e6d3154f7886b4ae722232b694": {
      "model_module": "@jupyter-widgets/base",
      "model_module_version": "1.2.0",
      "model_name": "LayoutModel",
      "state": {}
     },
     "e1304e8c8037415386c77589bd41f1ec": {
      "model_module": "bqplot",
      "model_module_version": "^0.5.18",
      "model_name": "OrdinalScaleModel",
      "state": {
       "_model_module_version": "^0.5.18",
       "_view_module_version": "^0.5.18"
      }
     },
     "e17252e994c64957bdb3d7e108fa3413": {
      "model_module": "bqplot",
      "model_module_version": "^0.5.18",
      "model_name": "OrdinalScaleModel",
      "state": {
       "_model_module_version": "^0.5.18",
       "_view_module_version": "^0.5.18"
      }
     },
     "e1d6c435dfc44b2e8afbf8a97d2c0db6": {
      "model_module": "bqplot",
      "model_module_version": "^0.5.18",
      "model_name": "LinearScaleModel",
      "state": {
       "_model_module_version": "^0.5.18",
       "_view_module_version": "^0.5.18",
       "stabilized": false
      }
     },
     "e47f43935f8f44eca1a7218d419ed879": {
      "model_module": "bqplot",
      "model_module_version": "^0.5.18",
      "model_name": "AxisModel",
      "state": {
       "_model_module_version": "^0.5.18",
       "_view_module_version": "^0.5.18",
       "scale": "IPY_MODEL_0c55aed1904941c39d7c0452d2331922",
       "side": "bottom",
       "tick_values": null
      }
     },
     "e4b5dad50fd3491eadc7bb660a9788b1": {
      "model_module": "bqplot",
      "model_module_version": "^0.5.18",
      "model_name": "LinearScaleModel",
      "state": {
       "_model_module_version": "^0.5.18",
       "_view_module_version": "^0.5.18",
       "allow_padding": false,
       "max": 1,
       "min": 0,
       "stabilized": false
      }
     },
     "e4b99e94a075477d93d79ba89bfcd6c9": {
      "model_module": "bqplot",
      "model_module_version": "^0.5.18",
      "model_name": "ToolbarModel",
      "state": {
       "_model_module_version": "^0.5.18",
       "_view_module_version": "^0.5.18",
       "figure": "IPY_MODEL_880a7ada5d084533aad4e328de1a25f9",
       "layout": "IPY_MODEL_fbfdac5dcb1d48b1b9381576c4f0c11e"
      }
     },
     "e55b0e37ba524be39780af4e3c05ea09": {
      "model_module": "bqplot",
      "model_module_version": "^0.5.18",
      "model_name": "LinearScaleModel",
      "state": {
       "_model_module_version": "^0.5.18",
       "_view_module_version": "^0.5.18",
       "allow_padding": false,
       "max": 1,
       "min": 0,
       "stabilized": false
      }
     },
     "e61422b0f6b0461c85f82b46b5216511": {
      "model_module": "bqplot",
      "model_module_version": "^0.5.18",
      "model_name": "LinearScaleModel",
      "state": {
       "_model_module_version": "^0.5.18",
       "_view_module_version": "^0.5.18",
       "allow_padding": false,
       "max": 1,
       "min": 0,
       "stabilized": false
      }
     },
     "e757466990f9470b8cb5dd83f742b624": {
      "model_module": "bqplot",
      "model_module_version": "^0.5.18",
      "model_name": "ToolbarModel",
      "state": {
       "_model_module_version": "^0.5.18",
       "_view_module_version": "^0.5.18",
       "figure": "IPY_MODEL_f65696424837410bae6617d74e91531b",
       "layout": "IPY_MODEL_4a3f3ce31a8c479a801457afa0cc5bcf"
      }
     },
     "e7ab3c664d41423bb74a9da791ee5641": {
      "model_module": "bqplot",
      "model_module_version": "^0.5.18",
      "model_name": "ToolbarModel",
      "state": {
       "_model_module_version": "^0.5.18",
       "_view_module_version": "^0.5.18",
       "figure": "IPY_MODEL_b589a390be924e049639c66635e8187e",
       "layout": "IPY_MODEL_6b0e7ffc49244d5eb9ebe64949de6a1b"
      }
     },
     "e7aee2ee61984e13a008522026a495b8": {
      "buffers": [
       {
        "data": "AAAAAAEAAAACAAAAAwAAAAQAAAAFAAAABgAAAAcAAAAIAAAACQAAAAoAAAALAAAADAAAAA0AAAAOAAAADwAAABAAAAARAAAAEgAAABMAAAAUAAAAFQAAABYAAAAXAAAAGAAAABkAAAAaAAAAGwAAABwAAAAdAAAAHgAAAB8AAAAgAAAAIQAAACIAAAAjAAAAJAAAACUAAAAmAAAAJwAAACgAAAApAAAAKgAAACsAAAAsAAAALQAAAC4AAAAvAAAAMAAAADEAAAAyAAAAMwAAADQAAAA1AAAANgAAADcAAAA4AAAAOQAAADoAAAA7AAAAPAAAAD0AAAA+AAAAPwAAAEAAAABBAAAAQgAAAEMAAABEAAAARQAAAEYAAABHAAAASAAAAEkAAABKAAAASwAAAEwAAABNAAAATgAAAE8AAABQAAAAUQAAAFIAAABTAAAAVAAAAFUAAABWAAAAVwAAAFgAAABZAAAAWgAAAFsAAABcAAAAXQAAAF4AAABfAAAAYAAAAGEAAABiAAAAYwAAAGQAAABlAAAAZgAAAGcAAABoAAAAaQAAAGoAAABrAAAAbAAAAG0AAABuAAAAbwAAAHAAAABxAAAAcgAAAHMAAAB0AAAAdQAAAHYAAAB3AAAAeAAAAHkAAAB6AAAAewAAAHwAAAB9AAAAfgAAAH8AAACAAAAAgQAAAIIAAACDAAAAhAAAAIUAAACGAAAAhwAAAIgAAACJAAAAigAAAIsAAACMAAAAjQAAAI4AAACPAAAAkAAAAJEAAACSAAAAkwAAAJQAAACVAAAAlgAAAJcAAACYAAAAmQAAAJoAAACbAAAAnAAAAJ0AAACeAAAAnwAAAKAAAAChAAAAogAAAKMAAACkAAAApQAAAKYAAACnAAAAqAAAAKkAAACqAAAAqwAAAKwAAACtAAAArgAAAK8AAACwAAAAsQAAALIAAACzAAAAtAAAALUAAAC2AAAAtwAAALgAAAC5AAAAugAAALsAAAC8AAAAvQAAAL4AAAC/AAAAwAAAAMEAAADCAAAAwwAAAMQAAADFAAAAxgAAAMcAAADIAAAAyQAAAMoAAADLAAAAzAAAAM0AAADOAAAAzwAAANAAAADRAAAA0gAAANMAAADUAAAA1QAAANYAAADXAAAA2AAAANkAAADaAAAA2wAAANwAAADdAAAA3gAAAN8AAADgAAAA4QAAAOIAAADjAAAA5AAAAOUAAADmAAAA5wAAAOgAAADpAAAA6gAAAOsAAADsAAAA",
        "encoding": "base64",
        "path": [
         "x",
         "value"
        ]
       },
       {
        "data": "AAAAAAAAAAAAAAAAAAAAAAEAAAABAAAAAQAAAAEAAAABAAAAAQAAAAEAAAABAAAAAQAAAAEAAAABAAAAAQAAAAEAAAABAAAAAQAAAAEAAAABAAAAAQAAAAEAAAABAAAAAQAAAAEAAAABAAAAAQAAAAEAAAABAAAAAQAAAAEAAAABAAAAAQAAAAEAAAABAAAAAQAAAAEAAAABAAAAAQAAAAEAAAABAAAAAQAAAAEAAAABAAAAAQAAAAEAAAABAAAAAQAAAAEAAAABAAAAAQAAAAEAAAABAAAAAQAAAAEAAAABAAAAAQAAAAEAAAABAAAAAQAAAAEAAAABAAAAAQAAAAEAAAABAAAAAQAAAAEAAAABAAAAAQAAAAEAAAABAAAAAQAAAAEAAAABAAAAAQAAAAEAAAABAAAAAQAAAAEAAAABAAAAAQAAAAEAAAABAAAAAQAAAAEAAAABAAAAAQAAAAEAAAABAAAAAQAAAAEAAAABAAAAAQAAAAEAAAABAAAAAQAAAAEAAAABAAAAAQAAAAEAAAABAAAAAQAAAAEAAAABAAAAAQAAAAEAAAABAAAAAQAAAAEAAAABAAAAAQAAAAEAAAABAAAAAQAAAAEAAAABAAAAAQAAAAEAAAABAAAAAQAAAAEAAAABAAAAAQAAAAEAAAABAAAAAQAAAAEAAAABAAAAAQAAAAEAAAABAAAAAQAAAAEAAAABAAAAAQAAAAEAAAABAAAAAQAAAAEAAAABAAAAAQAAAAEAAAABAAAAAQAAAAEAAAABAAAAAQAAAAEAAAABAAAAAQAAAAEAAAABAAAAAQAAAAEAAAABAAAAAQAAAAEAAAABAAAAAQAAAAEAAAABAAAAAQAAAAEAAAABAAAAAQAAAAEAAAABAAAAAQAAAAEAAAABAAAAAQAAAAEAAAABAAAAAQAAAAEAAAABAAAAAQAAAAEAAAABAAAAAQAAAAEAAAABAAAAAQAAAAEAAAABAAAAAQAAAAEAAAABAAAAAQAAAAEAAAABAAAAAQAAAAEAAAABAAAAAQAAAAEAAAABAAAAAQAAAAEAAAABAAAAAQAAAAEAAAABAAAAAQAAAAEAAAABAAAAAQAAAAEAAAABAAAAAgAAAAIAAAACAAAAAgAAAAIAAAACAAAAAgAAAAIAAAACAAAAAgAAAAIAAAACAAAAAgAAAAIAAAACAAAAAgAAAAIAAAACAAAAAgAAAAIAAAACAAAAAgAAAAIAAAACAAAAAwAAAAQAAAAFAAAA",
        "encoding": "base64",
        "path": [
         "y",
         "value"
        ]
       }
      ],
      "model_module": "bqplot",
      "model_module_version": "^0.5.18",
      "model_name": "LinesModel",
      "state": {
       "_model_module_version": "^0.5.18",
       "_view_module_version": "^0.5.18",
       "fill_colors": [],
       "labels": [
        "C1"
       ],
       "scales": {
        "x": "IPY_MODEL_2a944ac647684872bc7fa22c4687c44d",
        "y": "IPY_MODEL_2f15896a9e124b9fb214f31f94c3fe97"
       },
       "x": {
        "dtype": "int32",
        "shape": [
         237
        ],
        "type": null
       },
       "y": {
        "dtype": "int32",
        "shape": [
         237
        ],
        "type": null
       }
      }
     },
     "e857f094f39a437ebcc7ff73bb7394ae": {
      "model_module": "bqplot",
      "model_module_version": "^0.5.18",
      "model_name": "ToolbarModel",
      "state": {
       "_model_module_version": "^0.5.18",
       "_view_module_version": "^0.5.18",
       "figure": "IPY_MODEL_2a1d8bf6154a463aabf9f0e1a16ce5ca",
       "layout": "IPY_MODEL_6ecf70db993c48c49e864dad3078339b"
      }
     },
     "e8938d2fe55f4431925daf1912f02c19": {
      "model_module": "bqplot",
      "model_module_version": "^0.5.18",
      "model_name": "AxisModel",
      "state": {
       "_model_module_version": "^0.5.18",
       "_view_module_version": "^0.5.18",
       "scale": "IPY_MODEL_99526f3b5fe34f63b9171c668c061920",
       "side": "bottom",
       "tick_values": null
      }
     },
     "e9d3cfad7a114d198e2c76102b3eec4f": {
      "buffers": [
       {
        "data": "3AcAAOIHAADgBwAA3QcAANsHAADeBwAA3wcAAA==",
        "encoding": "base64",
        "path": [
         "x",
         "value"
        ]
       },
       {
        "data": "SwAAAD0AAAAkAAAAHAAAABoAAAAKAAAAAQAAAA==",
        "encoding": "base64",
        "path": [
         "y",
         "value"
        ]
       }
      ],
      "model_module": "bqplot",
      "model_module_version": "^0.5.18",
      "model_name": "ScatterModel",
      "state": {
       "_model_module_version": "^0.5.18",
       "_view_module_version": "^0.5.18",
       "default_opacities": {
        "dtype": "float64",
        "shape": [
         1
        ],
        "type": null,
        "value": {}
       },
       "label_display_horizontal_offset": 0,
       "label_display_vertical_offset": 0,
       "names": null,
       "scales": {
        "x": "IPY_MODEL_2641f7e7a5e84d03a53075d96dfe0008",
        "y": "IPY_MODEL_ab536b9d29d5469e8a4a305fb9b0a54f"
       },
       "scales_metadata": {
        "color": {
         "dimension": "color"
        },
        "opacity": {
         "dimension": "opacity"
        },
        "rotation": {
         "dimension": "rotation"
        },
        "size": {
         "dimension": "size"
        },
        "skew": {
         "dimension": "skew"
        },
        "x": {
         "dimension": "x",
         "orientation": "horizontal"
        },
        "y": {
         "dimension": "y",
         "orientation": "vertical"
        }
       },
       "x": {
        "dtype": "int32",
        "shape": [
         7
        ],
        "type": null
       },
       "y": {
        "dtype": "int32",
        "shape": [
         7
        ],
        "type": null
       }
      }
     },
     "ea4e2cef03c6460b88b0afbe329aba64": {
      "model_module": "@jupyter-widgets/controls",
      "model_module_version": "1.5.0",
      "model_name": "VBoxModel",
      "state": {
       "children": [
        "IPY_MODEL_543b554d3f5747ecaa877b3f557a7bd0",
        "IPY_MODEL_a604c2aee1364465b1a2d227f0ed82a1"
       ],
       "layout": "IPY_MODEL_b9aac867ae674251bcfc0937d76f94cb"
      }
     },
     "eac8cb801e9c47c4af258fbbc37fb24c": {
      "model_module": "@jupyter-widgets/base",
      "model_module_version": "1.2.0",
      "model_name": "LayoutModel",
      "state": {}
     },
     "eaec5c1010a74a7a88f82739399e84d0": {
      "model_module": "bqplot",
      "model_module_version": "^0.5.18",
      "model_name": "AxisModel",
      "state": {
       "_model_module_version": "^0.5.18",
       "_view_module_version": "^0.5.18",
       "orientation": "vertical",
       "scale": "IPY_MODEL_2bcf0ffa5e314e5ba37b82777d1b1eba",
       "side": "left",
       "tick_values": null
      }
     },
     "eb0c42858b7c499dbdbb394322fe0000": {
      "model_module": "bqplot",
      "model_module_version": "^0.5.18",
      "model_name": "TooltipModel",
      "state": {
       "_model_module_version": "^0.5.18",
       "_view_module_version": "^0.5.18",
       "fields": [
        "x",
        "y",
        "label"
       ],
       "formats": [
        "",
        ".2f",
        ""
       ],
       "layout": "IPY_MODEL_d2af6dde11804e4595fa802517e72439"
      }
     },
     "eb9e8fa8891d414d8dc6bfa0a17a7c17": {
      "model_module": "@jupyter-widgets/controls",
      "model_module_version": "1.5.0",
      "model_name": "VBoxModel",
      "state": {
       "children": [
        "IPY_MODEL_90418e9ec0014650ad847cbe5aa6f8d5",
        "IPY_MODEL_8a4c6bab8ea1480aa816982e2007f98c"
       ],
       "layout": "IPY_MODEL_054729a2681b427cbae3c1b88bbb5d81"
      }
     },
     "ec0651e05b934a5d90cc993cbc1f76b5": {
      "buffers": [
       {
        "data": "AAAAAAEAAAACAAAAAwAAAAQAAAAFAAAABgAAAAcAAAAIAAAACQAAAAoAAAALAAAADAAAAA==",
        "encoding": "base64",
        "path": [
         "x",
         "value"
        ]
       },
       {
        "data": "PAAAACoAAAAkAAAAIAAAABwAAAAaAAAABgAAAAIAAAABAAAAAQAAAAEAAAABAAAAAQAAAA==",
        "encoding": "base64",
        "path": [
         "y",
         "value"
        ]
       }
      ],
      "model_module": "bqplot",
      "model_module_version": "^0.5.18",
      "model_name": "LinesModel",
      "state": {
       "_model_module_version": "^0.5.18",
       "_view_module_version": "^0.5.18",
       "fill_colors": [],
       "labels": [
        "C1"
       ],
       "scales": {
        "x": "IPY_MODEL_285ec1d16aa54f7cb79b9da9c42aae81",
        "y": "IPY_MODEL_37c1c7b7aa914db5bd1df492448d240c"
       },
       "x": {
        "dtype": "int32",
        "shape": [
         13
        ],
        "type": null
       },
       "y": {
        "dtype": "int32",
        "shape": [
         13
        ],
        "type": null
       }
      }
     },
     "ec676c33c3504b31addf34157786c674": {
      "model_module": "bqplot",
      "model_module_version": "^0.5.18",
      "model_name": "LinearScaleModel",
      "state": {
       "_model_module_version": "^0.5.18",
       "_view_module_version": "^0.5.18",
       "stabilized": false
      }
     },
     "ec71a82305e74c5daa52579ae60c84c9": {
      "model_module": "bqplot",
      "model_module_version": "^0.5.18",
      "model_name": "AxisModel",
      "state": {
       "_model_module_version": "^0.5.18",
       "_view_module_version": "^0.5.18",
       "scale": "IPY_MODEL_a5fa10f8bd95425a938b7ced76b537a7",
       "side": "bottom",
       "tick_values": null
      }
     },
     "edc659fa5b3f46ce9881825a3dbd0f31": {
      "model_module": "@jupyter-widgets/base",
      "model_module_version": "1.2.0",
      "model_name": "LayoutModel",
      "state": {}
     },
     "ee156d7d2ed440e49e981ba7d49a9839": {
      "model_module": "bqplot",
      "model_module_version": "^0.5.18",
      "model_name": "AxisModel",
      "state": {
       "_model_module_version": "^0.5.18",
       "_view_module_version": "^0.5.18",
       "scale": "IPY_MODEL_0722f26402f745e884d687c60b575b60",
       "side": "bottom",
       "tick_values": null
      }
     },
     "eee53170c59844529542e4790146c71a": {
      "model_module": "@jupyter-widgets/base",
      "model_module_version": "1.2.0",
      "model_name": "LayoutModel",
      "state": {}
     },
     "ef3be9fd65a44fd68358c7e36c0c1f90": {
      "model_module": "@jupyter-widgets/controls",
      "model_module_version": "1.5.0",
      "model_name": "VBoxModel",
      "state": {
       "children": [
        "IPY_MODEL_973c6750bbed4bdbbba32bc2acf0bf2f",
        "IPY_MODEL_20a49efb4dcb43f1a92e9b15dd77d413"
       ],
       "layout": "IPY_MODEL_790064c95dc64b9da9e16f6c9e34df2e"
      }
     },
     "ef640482c4784ff3880e54ddf2e75309": {
      "model_module": "@jupyter-widgets/base",
      "model_module_version": "1.2.0",
      "model_name": "LayoutModel",
      "state": {}
     },
     "efbc464c930f4f02a27423c535ed073c": {
      "model_module": "bqplot",
      "model_module_version": "^0.5.18",
      "model_name": "AxisModel",
      "state": {
       "_model_module_version": "^0.5.18",
       "_view_module_version": "^0.5.18",
       "orientation": "vertical",
       "scale": "IPY_MODEL_53dd6639236845628bede5bae445fc63",
       "side": "left",
       "tick_values": null
      }
     },
     "efc34c225c084c5a942f97400d518bf9": {
      "model_module": "bqplot",
      "model_module_version": "^0.5.18",
      "model_name": "LinearScaleModel",
      "state": {
       "_model_module_version": "^0.5.18",
       "_view_module_version": "^0.5.18",
       "allow_padding": false,
       "max": 1,
       "min": 0,
       "stabilized": false
      }
     },
     "f062f320060448a99383d4f576166565": {
      "model_module": "bqplot",
      "model_module_version": "^0.5.18",
      "model_name": "ToolbarModel",
      "state": {
       "_model_module_version": "^0.5.18",
       "_view_module_version": "^0.5.18",
       "figure": "IPY_MODEL_9a31bb394f6744ee88d4382245710910",
       "layout": "IPY_MODEL_5ddcc86b88da4e3fad1a5cb1d7f85487"
      }
     },
     "f0a3adb5548d4ac7a1a4c64b934069d2": {
      "model_module": "@jupyter-widgets/controls",
      "model_module_version": "1.5.0",
      "model_name": "VBoxModel",
      "state": {
       "children": [
        "IPY_MODEL_28e43afe41a248aea319bcda695e368f",
        "IPY_MODEL_63c9f3d47e774bd7b35c0f6b19f54577"
       ],
       "layout": "IPY_MODEL_71445f7d303f46cbac0fc04e165ef1d1"
      }
     },
     "f0f97ed7663c43f898d444fc303d0ad4": {
      "model_module": "bqplot",
      "model_module_version": "^0.5.18",
      "model_name": "LinearScaleModel",
      "state": {
       "_model_module_version": "^0.5.18",
       "_view_module_version": "^0.5.18",
       "stabilized": false
      }
     },
     "f1b8fe1fb2034b0091d49b424e27854d": {
      "model_module": "bqplot",
      "model_module_version": "^0.5.18",
      "model_name": "FigureModel",
      "state": {
       "_model_module_version": "^0.5.18",
       "_view_module_version": "^0.5.18",
       "axes": [
        "IPY_MODEL_292fd88a95874eb1910890308dd7fb79",
        "IPY_MODEL_5c6894aa89a04905afb38aa2c3f98e16"
       ],
       "layout": "IPY_MODEL_ca23c4f66740417597895bdaf4128ed7",
       "marks": [
        "IPY_MODEL_4ac84b9292874ed5abf3df8852a376f3"
       ],
       "scale_x": "IPY_MODEL_b6c3e676a1774add86bfeb05e651d988",
       "scale_y": "IPY_MODEL_c88147aedaaf420ead220049955e6779"
      }
     },
     "f1d2cec018e34a0c918f48f4bef7d79d": {
      "model_module": "bqplot",
      "model_module_version": "^0.5.18",
      "model_name": "LinearScaleModel",
      "state": {
       "_model_module_version": "^0.5.18",
       "_view_module_version": "^0.5.18",
       "stabilized": false
      }
     },
     "f230cc903369460e96b41496c0b33810": {
      "model_module": "bqplot",
      "model_module_version": "^0.5.18",
      "model_name": "ToolbarModel",
      "state": {
       "_model_module_version": "^0.5.18",
       "_view_module_version": "^0.5.18",
       "figure": "IPY_MODEL_a8d5646c024343a1b5dfa8e1659285ff",
       "layout": "IPY_MODEL_96cd41360e554990999326d5e0b814e9"
      }
     },
     "f295ef6002cd4a8fb21bed7c96297052": {
      "model_module": "bqplot",
      "model_module_version": "^0.5.18",
      "model_name": "ToolbarModel",
      "state": {
       "_model_module_version": "^0.5.18",
       "_view_module_version": "^0.5.18",
       "figure": "IPY_MODEL_d82fb04aa5d14d888e32c990cd115bca",
       "layout": "IPY_MODEL_b8a4b65151af4464a0692a0b42c43889"
      }
     },
     "f2a3951dfd8b48539ebd6754c41b4f5e": {
      "model_module": "@jupyter-widgets/base",
      "model_module_version": "1.2.0",
      "model_name": "LayoutModel",
      "state": {}
     },
     "f2f950f505b44f20b13b7cc64b20629d": {
      "buffers": [
       {
        "data": "AAAAAAEAAAACAAAAAwAAAAQAAAAFAAAABgAAAAcAAAAIAAAACQAAAAoAAAALAAAADAAAAA0AAAAOAAAADwAAABAAAAARAAAAEgAAABMAAAAUAAAAFQAAABYAAAAXAAAAGAAAABkAAAAaAAAAGwAAABwAAAAdAAAAHgAAAB8AAAAgAAAAIQAAACIAAAAjAAAAJAAAACUAAAAmAAAAJwAAACgAAAApAAAAKgAAACsAAAAsAAAALQAAAC4AAAAvAAAAMAAAADEAAAAyAAAAMwAAADQAAAA1AAAANgAAADcAAAA4AAAAOQAAADoAAAA7AAAAPAAAAD0AAAA+AAAAPwAAAEAAAABBAAAAQgAAAEMAAABEAAAARQAAAEYAAABHAAAASAAAAEkAAABKAAAASwAAAEwAAABNAAAATgAAAE8AAABQAAAAUQAAAFIAAABTAAAAVAAAAFUAAABWAAAAVwAAAFgAAABZAAAAWgAAAFsAAABcAAAAXQAAAF4AAABfAAAAYAAAAGEAAABiAAAAYwAAAGQAAABlAAAAZgAAAGcAAABoAAAAaQAAAGoAAABrAAAAbAAAAG0AAABuAAAAbwAAAHAAAABxAAAAcgAAAHMAAAB0AAAAdQAAAHYAAAB3AAAAeAAAAHkAAAB6AAAAewAAAHwAAAB9AAAAfgAAAH8AAACAAAAAgQAAAIIAAACDAAAAhAAAAIUAAACGAAAAhwAAAIgAAACJAAAAigAAAIsAAACMAAAAjQAAAI4AAACPAAAAkAAAAJEAAACSAAAAkwAAAJQAAACVAAAAlgAAAJcAAACYAAAAmQAAAJoAAACbAAAAnAAAAJ0AAACeAAAAnwAAAKAAAAChAAAAogAAAKMAAACkAAAApQAAAKYAAACnAAAAqAAAAKkAAACqAAAAqwAAAKwAAACtAAAArgAAAA==",
        "encoding": "base64",
        "path": [
         "x",
         "value"
        ]
       },
       {
        "data": "HwAAAAcAAAAFAAAABQAAAAUAAAAEAAAABAAAAAMAAAADAAAAAwAAAAMAAAADAAAAAwAAAAMAAAACAAAAAgAAAAIAAAACAAAAAgAAAAIAAAACAAAAAgAAAAIAAAACAAAAAgAAAAIAAAACAAAAAgAAAAIAAAACAAAAAgAAAAIAAAACAAAAAgAAAAIAAAACAAAAAgAAAAEAAAABAAAAAQAAAAEAAAABAAAAAQAAAAEAAAABAAAAAQAAAAEAAAABAAAAAQAAAAEAAAABAAAAAQAAAAEAAAABAAAAAQAAAAEAAAABAAAAAQAAAAEAAAABAAAAAQAAAAEAAAABAAAAAQAAAAEAAAABAAAAAQAAAAEAAAABAAAAAQAAAAEAAAABAAAAAQAAAAEAAAABAAAAAQAAAAEAAAABAAAAAQAAAAEAAAABAAAAAQAAAAEAAAABAAAAAQAAAAEAAAABAAAAAQAAAAEAAAABAAAAAQAAAAEAAAABAAAAAQAAAAEAAAABAAAAAQAAAAEAAAABAAAAAQAAAAEAAAABAAAAAQAAAAEAAAABAAAAAQAAAAEAAAABAAAAAQAAAAEAAAABAAAAAQAAAAEAAAABAAAAAQAAAAEAAAABAAAAAQAAAAEAAAABAAAAAQAAAAEAAAABAAAAAQAAAAEAAAABAAAAAQAAAAEAAAABAAAAAQAAAAEAAAABAAAAAQAAAAEAAAABAAAAAQAAAAEAAAABAAAAAQAAAAEAAAABAAAAAQAAAAEAAAABAAAAAQAAAAEAAAABAAAAAQAAAAEAAAABAAAAAQAAAAEAAAABAAAAAQAAAAEAAAABAAAAAQAAAAEAAAABAAAAAQAAAAEAAAABAAAAAQAAAAEAAAABAAAAAQAAAAEAAAABAAAAAQAAAAEAAAABAAAAAQAAAAEAAAABAAAAAQAAAA==",
        "encoding": "base64",
        "path": [
         "y",
         "value"
        ]
       }
      ],
      "model_module": "bqplot",
      "model_module_version": "^0.5.18",
      "model_name": "LinesModel",
      "state": {
       "_model_module_version": "^0.5.18",
       "_view_module_version": "^0.5.18",
       "fill_colors": [],
       "labels": [
        "C1"
       ],
       "scales": {
        "x": "IPY_MODEL_56b8daf8204d4f2b8963797c68e0cc60",
        "y": "IPY_MODEL_2f8f6c2abca644cfa8770be19e2e799c"
       },
       "x": {
        "dtype": "int32",
        "shape": [
         175
        ],
        "type": null
       },
       "y": {
        "dtype": "int32",
        "shape": [
         175
        ],
        "type": null
       }
      }
     },
     "f54ea9d9d53840b2bbef7a06a42660f8": {
      "model_module": "bqplot",
      "model_module_version": "^0.5.18",
      "model_name": "LinearScaleModel",
      "state": {
       "_model_module_version": "^0.5.18",
       "_view_module_version": "^0.5.18",
       "allow_padding": false,
       "max": 1,
       "min": 0,
       "stabilized": false
      }
     },
     "f64beac8f5d44a239e57457fd94847f4": {
      "model_module": "bqplot",
      "model_module_version": "^0.5.18",
      "model_name": "FigureModel",
      "state": {
       "_model_module_version": "^0.5.18",
       "_view_module_version": "^0.5.18",
       "layout": "IPY_MODEL_f98df6c5286549f1a5d613457fdd6491",
       "scale_x": "IPY_MODEL_09a1ce0232304723844de9db9832cae7",
       "scale_y": "IPY_MODEL_e55b0e37ba524be39780af4e3c05ea09"
      }
     },
     "f65696424837410bae6617d74e91531b": {
      "model_module": "bqplot",
      "model_module_version": "^0.5.18",
      "model_name": "FigureModel",
      "state": {
       "_model_module_version": "^0.5.18",
       "_view_module_version": "^0.5.18",
       "axes": [
        "IPY_MODEL_65f6c000ceb34185a52ef7e0c0897091",
        "IPY_MODEL_bd049f1853174c75899c4e3678cad291"
       ],
       "layout": "IPY_MODEL_c64ba8ea58fa420e9f53c7f2abc036ce",
       "marks": [
        "IPY_MODEL_a05126d267824b7b848e2c2c3813f231"
       ],
       "scale_x": "IPY_MODEL_b0d19cf2fb004890877a9e1368ec3d56",
       "scale_y": "IPY_MODEL_e4b5dad50fd3491eadc7bb660a9788b1"
      }
     },
     "f66dc8c67f9f439c855b47a6af9b0de0": {
      "model_module": "bqplot",
      "model_module_version": "^0.5.18",
      "model_name": "AxisModel",
      "state": {
       "_model_module_version": "^0.5.18",
       "_view_module_version": "^0.5.18",
       "orientation": "vertical",
       "scale": "IPY_MODEL_2f15896a9e124b9fb214f31f94c3fe97",
       "side": "left",
       "tick_values": null
      }
     },
     "f6eaed9c6bef4880b2d0c85c7999c0cf": {
      "model_module": "@jupyter-widgets/base",
      "model_module_version": "1.2.0",
      "model_name": "LayoutModel",
      "state": {}
     },
     "f7c2c26cdb3a454bbc6a4527feb29087": {
      "model_module": "@jupyter-widgets/base",
      "model_module_version": "1.2.0",
      "model_name": "LayoutModel",
      "state": {}
     },
     "f7e21426ae60493ab4658efcb401c48d": {
      "model_module": "@jupyter-widgets/base",
      "model_module_version": "1.2.0",
      "model_name": "LayoutModel",
      "state": {}
     },
     "f7fa4e76678d479ea250e516e8005fa9": {
      "model_module": "@jupyter-widgets/base",
      "model_module_version": "1.2.0",
      "model_name": "LayoutModel",
      "state": {}
     },
     "f83ba0a814b248a6bbb5ecc014de31d3": {
      "model_module": "bqplot",
      "model_module_version": "^0.5.18",
      "model_name": "LinearScaleModel",
      "state": {
       "_model_module_version": "^0.5.18",
       "_view_module_version": "^0.5.18",
       "allow_padding": false,
       "max": 1,
       "min": 0,
       "stabilized": false
      }
     },
     "f8dc9081cb3743bd88192a85ef5853dd": {
      "model_module": "bqplot",
      "model_module_version": "^0.5.18",
      "model_name": "OrdinalScaleModel",
      "state": {
       "_model_module_version": "^0.5.18",
       "_view_module_version": "^0.5.18"
      }
     },
     "f914344d8b6b47648fab5c091d20a3f0": {
      "model_module": "@jupyter-widgets/controls",
      "model_module_version": "1.5.0",
      "model_name": "VBoxModel",
      "state": {
       "children": [
        "IPY_MODEL_bea4c6ba6d4a47b69ac242ad59ed700e",
        "IPY_MODEL_d0b8a85de14a48468be1574ec769ac6b"
       ],
       "layout": "IPY_MODEL_568c72cb7a9c4944b6c03b1c79f80ffe"
      }
     },
     "f93edc1b05e64fc983d9ba7f6ffbf3d6": {
      "model_module": "@jupyter-widgets/controls",
      "model_module_version": "1.5.0",
      "model_name": "VBoxModel",
      "state": {
       "children": [
        "IPY_MODEL_8b1e812ad55f4a6ab14f76e4714d1c5b",
        "IPY_MODEL_7ad8a7a06b42446199273d401ca9d5c7"
       ],
       "layout": "IPY_MODEL_538980f6b55a469fb7747d5200dacc07"
      }
     },
     "f962d22923fd4b7b929ee96b5824d4bd": {
      "model_module": "bqplot",
      "model_module_version": "^0.5.18",
      "model_name": "LinearScaleModel",
      "state": {
       "_model_module_version": "^0.5.18",
       "_view_module_version": "^0.5.18",
       "allow_padding": false,
       "max": 1,
       "min": 0,
       "stabilized": false
      }
     },
     "f98df6c5286549f1a5d613457fdd6491": {
      "model_module": "@jupyter-widgets/base",
      "model_module_version": "1.2.0",
      "model_name": "LayoutModel",
      "state": {}
     },
     "f9a4c84cf8de4486b244647500ed29c2": {
      "model_module": "bqplot",
      "model_module_version": "^0.5.18",
      "model_name": "LinearScaleModel",
      "state": {
       "_model_module_version": "^0.5.18",
       "_view_module_version": "^0.5.18",
       "allow_padding": false,
       "max": 1,
       "min": 0,
       "stabilized": false
      }
     },
     "f9c96e278c814976aa09f86ba2524639": {
      "model_module": "bqplot",
      "model_module_version": "^0.5.18",
      "model_name": "ToolbarModel",
      "state": {
       "_model_module_version": "^0.5.18",
       "_view_module_version": "^0.5.18",
       "figure": "IPY_MODEL_87a57f069a0247b392e8533389288c8f",
       "layout": "IPY_MODEL_76d06ec3ad6a4c018b925c53dd7bb594"
      }
     },
     "faedde937fec4d0fba31d2fa8d9b60c3": {
      "model_module": "bqplot",
      "model_module_version": "^0.5.18",
      "model_name": "FigureModel",
      "state": {
       "_model_module_version": "^0.5.18",
       "_view_module_version": "^0.5.18",
       "layout": "IPY_MODEL_00d966f730594248bf7e79b5f3887474",
       "scale_x": "IPY_MODEL_a39de8fb17f74e18a8453c14e881c7b2",
       "scale_y": "IPY_MODEL_87aeadc0f43a45bda302d7af87633190"
      }
     },
     "fb4b1f97bbf9415c88afdc767d81789e": {
      "model_module": "bqplot",
      "model_module_version": "^0.5.18",
      "model_name": "LinearScaleModel",
      "state": {
       "_model_module_version": "^0.5.18",
       "_view_module_version": "^0.5.18",
       "allow_padding": false,
       "max": 1,
       "min": 0,
       "stabilized": false
      }
     },
     "fbfdac5dcb1d48b1b9381576c4f0c11e": {
      "model_module": "@jupyter-widgets/base",
      "model_module_version": "1.2.0",
      "model_name": "LayoutModel",
      "state": {}
     },
     "fc99daa313094d5784e6f4df47234f05": {
      "buffers": [
       {
        "data": "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",
        "encoding": "base64",
        "path": [
         "x",
         "value"
        ]
       },
       {
        "data": "OAAAADQAAAAwAAAALgAAAB4AAAAcAAAAHAAAABwAAAAbAAAAGwAAABoAAAAYAAAAFwAAABMAAAARAAAADwAAAA4AAAANAAAADAAAAAwAAAAKAAAACgAAAAkAAAAJAAAACQAAAAgAAAAIAAAABwAAAAcAAAAGAAAABgAAAAUAAAAFAAAABQAAAAUAAAAFAAAABQAAAAUAAAAFAAAABQAAAAQAAAAEAAAABAAAAAQAAAAEAAAABAAAAAQAAAAEAAAABAAAAAQAAAAEAAAABAAAAAQAAAAEAAAABAAAAAQAAAAEAAAAAwAAAAMAAAADAAAAAwAAAAMAAAADAAAAAwAAAAMAAAADAAAAAwAAAAMAAAADAAAAAwAAAAMAAAADAAAAAwAAAAMAAAADAAAAAwAAAAMAAAADAAAAAwAAAAMAAAADAAAAAwAAAAMAAAADAAAAAwAAAAMAAAADAAAAAwAAAAMAAAADAAAAAwAAAAMAAAADAAAAAwAAAAIAAAACAAAAAgAAAAIAAAACAAAAAgAAAAIAAAACAAAAAgAAAAIAAAACAAAAAgAAAAIAAAACAAAAAgAAAAIAAAACAAAAAgAAAAIAAAACAAAAAgAAAAIAAAACAAAAAgAAAAIAAAACAAAAAgAAAAIAAAACAAAAAgAAAAIAAAACAAAAAgAAAAIAAAACAAAAAgAAAAIAAAACAAAAAgAAAAIAAAACAAAAAgAAAAIAAAACAAAAAgAAAAIAAAACAAAAAgAAAAIAAAACAAAAAgAAAAIAAAACAAAAAgAAAAIAAAACAAAAAgAAAAIAAAACAAAAAgAAAAIAAAACAAAAAgAAAAIAAAACAAAAAgAAAAIAAAACAAAAAgAAAAIAAAACAAAAAgAAAAIAAAACAAAAAgAAAAIAAAACAAAAAgAAAAIAAAACAAAAAQAAAAEAAAABAAAAAQAAAAEAAAABAAAAAQAAAAEAAAABAAAAAQAAAAEAAAABAAAAAQAAAAEAAAABAAAAAQAAAAEAAAABAAAAAQAAAAEAAAABAAAAAQAAAAEAAAABAAAAAQAAAAEAAAABAAAAAQAAAAEAAAABAAAAAQAAAAEAAAABAAAAAQAAAAEAAAABAAAAAQAAAAEAAAABAAAAAQAAAAEAAAABAAAAAQAAAAEAAAABAAAAAQAAAAEAAAABAAAAAQAAAAEAAAABAAAAAQAAAAEAAAABAAAAAQAAAAEAAAABAAAAAQAAAAEAAAABAAAAAQAAAAEAAAABAAAAAQAAAAEAAAABAAAAAQAAAAEAAAABAAAAAQAAAAEAAAABAAAAAQAAAAEAAAABAAAAAQAAAAEAAAABAAAAAQAAAAEAAAABAAAAAQAAAAEAAAABAAAAAQAAAAEAAAABAAAAAQAAAAEAAAABAAAAAQAAAAEAAAABAAAAAQAAAAEAAAABAAAAAQAAAAEAAAABAAAAAQAAAAEAAAABAAAAAQAAAAEAAAABAAAAAQAAAAEAAAABAAAAAQAAAAEAAAABAAAAAQAAAAEAAAABAAAAAQAAAAEAAAABAAAAAQAAAAEAAAABAAAAAQAAAAEAAAABAAAAAQAAAAEAAAABAAAAAQAAAAEAAAABAAAAAQAAAAEAAAABAAAAAQAAAAEAAAABAAAAAQAAAAEAAAABAAAAAQAAAAEAAAABAAAAAQAAAAEAAAABAAAAAQAAAAEAAAABAAAAAQAAAAEAAAABAAAAAQAAAAEAAAABAAAAAQAAAAEAAAABAAAAAQAAAAEAAAABAAAAAQAAAAEAAAABAAAAAQAAAAEAAAABAAAAAQAAAAEAAAABAAAAAQAAAAEAAAABAAAAAQAAAAEAAAABAAAAAQAAAAEAAAABAAAAAQAAAAEAAAABAAAAAQAAAAEAAAABAAAAAQAAAAEAAAABAAAAAQAAAAEAAAABAAAAAQAAAAEAAAABAAAAAQAAAAEAAAABAAAAAQAAAAEAAAABAAAAAQAAAAEAAAABAAAAAQAAAAEAAAABAAAAAQAAAAEAAAABAAAAAQAAAAEAAAABAAAAAQAAAAEAAAABAAAAAQAAAAEAAAABAAAAAQAAAAEAAAABAAAAAQAAAAEAAAABAAAAAQAAAAEAAAABAAAAAQAAAAEAAAABAAAAAQAAAAEAAAABAAAAAQAAAAEAAAABAAAAAQAAAAEAAAABAAAAAQAAAAEAAAABAAAAAQAAAAEAAAABAAAAAQAAAAEAAAABAAAAAQAAAAEAAAABAAAAAQAAAAEAAAABAAAAAQAAAAEAAAABAAAAAQAAAAEAAAABAAAAAQAAAAEAAAABAAAAAQAAAAEAAAABAAAAAQAAAAEAAAABAAAAAQAAAAEAAAABAAAAAQAAAAEAAAABAAAAAQAAAAEAAAABAAAAAQAAAAEAAAABAAAAAQAAAAEAAAABAAAAAQAAAAEAAAABAAAAAQAAAAEAAAABAAAAAQAAAAEAAAABAAAAAQAAAAEAAAABAAAAAQAAAAEAAAABAAAAAQAAAAEAAAABAAAAAQAAAAEAAAABAAAAAQAAAAEAAAABAAAAAQAAAAEAAAABAAAAAQAAAAEAAAABAAAAAQAAAAEAAAABAAAAAQAAAAEAAAABAAAAAQAAAAEAAAABAAAAAQAAAAEAAAABAAAAAQAAAAEAAAABAAAAAQAAAAEAAAABAAAAAQAAAAEAAAABAAAAAQAAAAEAAAABAAAAAQAAAAEAAAABAAAAAQAAAAEAAAABAAAAAQAAAAEAAAABAAAAAQAAAAEAAAABAAAAAQAAAAEAAAABAAAAAQAAAAEAAAABAAAAAQAAAAEAAAABAAAAAQAAAAEAAAABAAAAAQAAAAEAAAABAAAAAQAAAAEAAAABAAAAAQAAAAEAAAABAAAAAQAAAAEAAAABAAAAAQAAAAEAAAABAAAAAQAAAAEAAAABAAAAAQAAAAEAAAABAAAAAQAAAAEAAAABAAAAAQAAAAEAAAABAAAAAQAAAAEAAAABAAAAAQAAAAEAAAABAAAAAQAAAAEAAAABAAAAAQAAAAEAAAABAAAAAQAAAAEAAAABAAAAAQAAAAEAAAABAAAAAQAAAAEAAAABAAAAAQAAAAEAAAABAAAAAQAAAAEAAAABAAAAAQAAAAEAAAABAAAAAQAAAAEAAAABAAAAAQAAAAEAAAABAAAAAQAAAAEAAAABAAAAAQAAAAEAAAABAAAAAQAAAAEAAAABAAAAAQAAAAEAAAABAAAAAQAAAAEAAAABAAAAAQAAAAEAAAABAAAAAQAAAAEAAAABAAAAAQAAAAEAAAABAAAAAQAAAAEAAAABAAAAAQAAAAEAAAABAAAAAQAAAAEAAAABAAAAAQAAAAEAAAABAAAAAQAAAAEAAAABAAAAAQAAAAEAAAABAAAAAQAAAAEAAAABAAAAAQAAAAEAAAABAAAAAQAAAAEAAAABAAAAAQAAAAEAAAABAAAAAQAAAAEAAAABAAAAAQAAAAEAAAABAAAAAQAAAAEAAAABAAAAAQAAAAEAAAABAAAAAQAAAAEAAAABAAAAAQAAAAEAAAABAAAAAQAAAAEAAAABAAAAAQAAAAEAAAABAAAAAQAAAAEAAAABAAAAAQAAAAEAAAABAAAAAQAAAAEAAAABAAAAAQAAAAEAAAABAAAAAQAAAAEAAAABAAAAAQAAAAEAAAABAAAAAQAAAAEAAAABAAAAAQAAAAEAAAABAAAAAQAAAAEAAAABAAAAAQAAAAEAAAABAAAAAQAAAAEAAAABAAAAAQAAAAEAAAABAAAAAQAAAAEAAAABAAAAAQAAAAEAAAA=",
        "encoding": "base64",
        "path": [
         "y",
         "value"
        ]
       }
      ],
      "model_module": "bqplot",
      "model_module_version": "^0.5.18",
      "model_name": "ScatterModel",
      "state": {
       "_model_module_version": "^0.5.18",
       "_view_module_version": "^0.5.18",
       "colors": [
        "dodgerblue"
       ],
       "default_opacities": {
        "dtype": "float64",
        "shape": [
         1
        ],
        "type": null,
        "value": {}
       },
       "label_display_horizontal_offset": 0,
       "label_display_vertical_offset": 0,
       "names": [
        "de",
        "python",
        "",
        "con",
        "11",
        "lightning",
        "en",
        "talk",
        "2012",
        "a",
        "y",
        "la",
        "el",
        "para",
        "17",
        "18",
        "introduccion",
        "un",
        "django",
        "16",
        "no",
        "19",
        "aplicaciones",
        "al",
        "que",
        "las",
        "como",
        "charlas",
        "web",
        "24",
        "del",
        "haciendo",
        "keynote",
        "me",
        "to",
        "2",
        "datos",
        "una",
        "learning",
        "por",
        "machine",
        "3",
        "open",
        "usando",
        "aprendizaje",
        "relampago",
        "o",
        "lo",
        "juegos",
        "import",
        "00",
        "pilas",
        "c",
        "programacion",
        "argentina",
        "engine",
        "desarrollo",
        "sin",
        "arguments",
        "sistemas",
        "default",
        "libre",
        "proyectos",
        "procesamiento",
        "optimizando",
        "quilom",
        "entendiendo",
        "codigo",
        "todo",
        "otros",
        "arduino",
        "40",
        "10",
        "mutable",
        "pypy",
        "20",
        "2018",
        "analisis",
        "lenguaje",
        "software",
        "dia",
        "how",
        "poco",
        "48",
        "bindings",
        "tryton",
        "14",
        "rapidas",
        "heroku",
        "is",
        "with",
        "detalles",
        "desde",
        "framework",
        "google",
        "42",
        "platform",
        "mas",
        "keras",
        "web2py",
        "asterisk",
        "redes",
        "metodos",
        "it",
        "diversidad",
        "sus",
        "usar",
        "micropython",
        "cientifico",
        "sabado",
        "data",
        "jupyter",
        "comunidad",
        "tus",
        "javascript",
        "brazil",
        "camino",
        "06",
        "development",
        "minutos",
        "mejor",
        "twisted",
        "videojuegos",
        "asyncio",
        "and",
        "50",
        "rest",
        "desarrollar",
        "unicode",
        "humanos",
        "hacer",
        "pandas",
        "neuronales",
        "paso",
        "automatico",
        "plone",
        "notebook",
        "microframework",
        "28",
        "guia",
        "29",
        "services",
        "implementando",
        "ultima",
        "by",
        "morir",
        "building",
        "testing",
        "electromecanicos",
        "flask",
        "ser",
        "programando",
        "engineering",
        "digital",
        "1",
        "es",
        "conectando",
        "utilizando",
        "tu",
        "voip",
        "desarrollando",
        "pycon",
        "saber",
        "bots",
        "brasil",
        "amazon",
        "30",
        "apps",
        "los",
        "produccion",
        "source",
        "microservices",
        "app",
        "infinitos",
        "medio",
        "better",
        "compartiendo",
        "secuencias",
        "despliegue",
        "ponty",
        "perspective",
        "nacion",
        "otro",
        "cruz",
        "peirceana",
        "loads",
        "movil",
        "autopsias",
        "activation",
        "diagnostico",
        "attributeerror",
        "conocido",
        "aproximar",
        "sharing",
        "justicia",
        "deberia",
        "alto",
        "works",
        "7",
        "merleau",
        "little",
        "controlando",
        "55",
        "lidiando",
        "so",
        "silicio",
        "ast",
        "lean",
        "esperabas",
        "possible",
        "iterando",
        "solucion",
        "gov",
        "mil",
        "poniendonos",
        "pyopencl",
        "accesibilidad",
        "puede",
        "docs",
        "lados",
        "programar",
        "visualizacion",
        "perfiles",
        "mantener",
        "adaptando",
        "than",
        "queres",
        "multijugador",
        "tiempo",
        "aima",
        "are",
        "viernes",
        "3d",
        "nuestra",
        "git",
        "power",
        "scikit",
        "orm",
        "170",
        "version",
        "pajar",
        "react",
        "00027_720i_fast",
        "destruyendo",
        "conocer",
        "xxi",
        "servicio",
        "00022_720i_fast",
        "schapachnik",
        "inferencia",
        "escafandra",
        "geopandas",
        "what",
        "arte",
        "00030_720i_fast",
        "tour",
        "necesario",
        "pytonico",
        "00005_720i_fast",
        "primera",
        "todes",
        "objetos",
        "geneticos",
        "much",
        "importa",
        "nunca",
        "generacion",
        "from",
        "va",
        "practicas",
        "edu",
        "25",
        "toda",
        "experiencias",
        "meetup",
        "concurrencia",
        "gamificacion",
        "versatil",
        "estampidas",
        "voy",
        "london",
        "00038_720i_fast",
        "qutebrowser",
        "traerla",
        "moving",
        "pie",
        "robotica",
        "job",
        "async",
        "charlatanes",
        "diferenciales",
        "armemos",
        "start",
        "area",
        "telegram",
        "educativo",
        "ceder",
        "rehusarse",
        "tamano",
        "parser",
        "pregunta",
        "e",
        "instalado",
        "datawarehousing",
        "computacion",
        "medicina",
        "boton",
        "medinilla",
        "52",
        "sleeping",
        "maxima",
        "palo",
        "pythonica",
        "migrating",
        "build",
        "that",
        "alguien",
        "__init__",
        "00034_720i_fast",
        "gui2py",
        "nbconversion",
        "geek",
        "experimentos",
        "estandarizar",
        "yatel",
        "game",
        "debe",
        "trucos",
        "openid",
        "entorno",
        "transaccion",
        "raspberrypi",
        "cv",
        "inclusion",
        "proxies",
        "desafios",
        "gil",
        "modding",
        "sleepy",
        "pyjustice",
        "apertura",
        "scenes",
        "gevent",
        "deuda",
        "sugar",
        "cortaste",
        "blender",
        "sobreviviendo",
        "twitter",
        "recorriendo",
        "convivencia",
        "test",
        "inteligencia",
        "d",
        "instrumento",
        "malas",
        "dask",
        "sindrome",
        "panel",
        "reusar",
        "poliedrales",
        "games",
        "swag",
        "linux",
        "08",
        "paralelo",
        "please",
        "00002_720i_fast",
        "coccion",
        "mallas",
        "mining",
        "industriales",
        "derechos",
        "observabilidad",
        "46",
        "cualquier",
        "entre",
        "mi",
        "estilo",
        "layer",
        "controlar",
        "iteradores",
        "02",
        "inclusiva",
        "sueno",
        "enfoque",
        "rhodes",
        "memoria",
        "formatos",
        "torrent",
        "multiprocessing",
        "trabajo",
        "talks",
        "angel",
        "browser",
        "extendiendo",
        "refuerzo",
        "revoluciona",
        "pattern",
        "corren",
        "lineas",
        "programador",
        "peor",
        "aprendiendo",
        "cliente",
        "channels",
        "gtk",
        "always",
        "desempolvando",
        "attribute",
        "monitoreo",
        "t",
        "laboratorios",
        "derecho",
        "willing",
        "sho",
        "gui",
        "health",
        "rapido",
        "magicos",
        "openerp",
        "wx",
        "00001_720i_fast",
        "sorpresa",
        "buscando",
        "analiza",
        "aguja",
        "presentacion",
        "zmq",
        "haystack",
        "bot",
        "spark",
        "lambda",
        "kivy",
        "ponele",
        "0",
        "buenas",
        "adn",
        "oily",
        "semantica",
        "00032_720i_fast",
        "don",
        "ingenieria",
        "00031_720i_fast",
        "ciaa",
        "00029_720i_fast",
        "menos",
        "01",
        "machismo",
        "caching",
        "premios",
        "magico",
        "gnu",
        "visuales",
        "deferreds",
        "security",
        "ecuaciones",
        "things",
        "mvc",
        "has",
        "seres",
        "00006_720i_fast",
        "fortran",
        "martinez",
        "native",
        "exprimir",
        "siglo",
        "desempeno",
        "mundo",
        "support",
        "12",
        "brandon",
        "infraestrucura",
        "programadores",
        "manana",
        "object",
        "option",
        "massive",
        "your",
        "natural",
        "defendiendo",
        "provider",
        "trampa",
        "bytecode",
        "gente",
        "patterns",
        "programming",
        "s",
        "necesitas",
        "behind",
        "funcional",
        "spaces",
        "reverse",
        "obras",
        "00024_720i_fast",
        "video",
        "proceso",
        "comunicando",
        "desktop",
        "ideas",
        "fu",
        "cerrar",
        "uses",
        "tal",
        "debugger",
        "rol",
        "educacion",
        "grok",
        "egov",
        "when",
        "gauchito",
        "learn",
        "snake",
        "mongodb",
        "59",
        "segundos",
        "gis",
        "maybe",
        "35",
        "ponete",
        "escuela",
        "32",
        "mineria",
        "buildout",
        "00004_720i_fast",
        "multiprocesamiento",
        "nameko",
        "br",
        "unidades",
        "45",
        "feas",
        "seguridad",
        "toca",
        "pyqt",
        "connect",
        "snakes",
        "quick",
        "cadenas",
        "vinculando",
        "cuando",
        "56",
        "cifrado",
        "congreso",
        "rosario",
        "recurso",
        "under",
        "site",
        "procesos",
        "makes",
        "tarde",
        "the",
        "todos",
        "deconstrui",
        "mejores",
        "hordas",
        "00007_720i_fast",
        "informaticas",
        "serio",
        "era",
        "colaborar",
        "literacy",
        "interactivo",
        "introduction",
        "portar",
        "sistema",
        "science",
        "entrega",
        "90",
        "eventbrite",
        "perlas",
        "contributions",
        "be",
        "http",
        "2013",
        "pythonicidad",
        "dbus",
        "ipython",
        "texto",
        "api",
        "logica",
        "nodos",
        "obvia",
        "html5",
        "bulding",
        "up",
        "05",
        "herramientas",
        "psycoanalisis",
        "fabric",
        "00026_720i_fast",
        "vieja",
        "looz",
        "at",
        "cython",
        "destruir",
        "myhdl",
        "4",
        "should",
        "help",
        "ambiente",
        "futuro",
        "streaming",
        "issues",
        "eficientemente",
        "docker",
        "nation",
        "mediante",
        "momentos",
        "cierre",
        "infraestructrura",
        "cientificos",
        "viajes",
        "escritorio",
        "parciales",
        "segundo",
        "automatizando",
        "energy",
        "bloqueantes",
        "victoria",
        "36",
        "evento",
        "nuestros",
        "jugando",
        "telefonia",
        "procesando",
        "03",
        "forense",
        "07",
        "genero",
        "docopt",
        "00023_720i_fast",
        "not",
        "legal",
        "revolucion",
        "documentacion",
        "still",
        "hagamos",
        "opencl",
        "00009_720i_fast",
        "navegando",
        "blockchain",
        "partes",
        "reservoir",
        "00010_720i_fast",
        "erp",
        "vida",
        "powered",
        "maravillas",
        "00003_720i_fast",
        "tale",
        "00008_720i_fast",
        "gran",
        "suenos",
        "pybr12",
        "tenes",
        "design",
        "15",
        "wins",
        "geneticas",
        "poniendole",
        "ayuda",
        "spdy",
        "raspnier",
        "red",
        "call",
        "derivadas",
        "enfrentamos",
        "armar",
        "54",
        "deep",
        "00021_720i_fast",
        "00036_720i_fast",
        "ui",
        "postgresql",
        "pygtk",
        "00033_720i_fast",
        "tiene",
        "mal",
        "bioinformatica",
        "fenotipicos",
        "cross",
        "tecnica",
        "44",
        "laburo",
        "socioeconomicos",
        "propio",
        "ordenando",
        "title",
        "vim",
        "exploracion",
        "00020_720i_fast",
        "androide",
        "flatpak",
        "00028_720i_fast",
        "57",
        "tipos",
        "carol",
        "easy",
        "application",
        "of",
        "trust",
        "distro",
        "neverending",
        "fernando",
        "sobre",
        "empecemos",
        "kinect",
        "soluciones",
        "apis",
        "sale",
        "deploy",
        "paralela",
        "intento",
        "artificial",
        "durar",
        "00025_720i_fast"
       ],
       "scales": {
        "x": "IPY_MODEL_bd538bab01504b3a9b40b0aab40521bc",
        "y": "IPY_MODEL_f0f97ed7663c43f898d444fc303d0ad4"
       },
       "scales_metadata": {
        "color": {
         "dimension": "color"
        },
        "opacity": {
         "dimension": "opacity"
        },
        "rotation": {
         "dimension": "rotation"
        },
        "size": {
         "dimension": "size"
        },
        "skew": {
         "dimension": "skew"
        },
        "x": {
         "dimension": "x",
         "orientation": "horizontal"
        },
        "y": {
         "dimension": "y",
         "orientation": "vertical"
        }
       },
       "stroke": "black",
       "tooltip": "IPY_MODEL_66fac80b65364d81942dffceb0efc0d9",
       "unhovered_style": {
        "opacity": 0.5
       },
       "x": {
        "dtype": "int32",
        "shape": [
         716
        ],
        "type": null
       },
       "y": {
        "dtype": "int32",
        "shape": [
         716
        ],
        "type": null
       }
      }
     },
     "fd5b0305e35a4f57aa7ce7055ab656a0": {
      "model_module": "bqplot",
      "model_module_version": "^0.5.18",
      "model_name": "LinearScaleModel",
      "state": {
       "_model_module_version": "^0.5.18",
       "_view_module_version": "^0.5.18",
       "stabilized": false
      }
     },
     "fdbf3739edd6405588e347203d8f1865": {
      "model_module": "bqplot",
      "model_module_version": "^0.5.18",
      "model_name": "LinearScaleModel",
      "state": {
       "_model_module_version": "^0.5.18",
       "_view_module_version": "^0.5.18",
       "stabilized": false
      }
     },
     "fdfe0cf087004e6c9db283921dc192d6": {
      "model_module": "bqplot",
      "model_module_version": "^0.5.18",
      "model_name": "AxisModel",
      "state": {
       "_model_module_version": "^0.5.18",
       "_view_module_version": "^0.5.18",
       "orientation": "vertical",
       "scale": "IPY_MODEL_8b2289e840f64860b6722c5f210e46b9",
       "side": "left",
       "tick_values": null
      }
     },
     "fe334c49a5db4c06857115d900334953": {
      "model_module": "bqplot",
      "model_module_version": "^0.5.18",
      "model_name": "LinearScaleModel",
      "state": {
       "_model_module_version": "^0.5.18",
       "_view_module_version": "^0.5.18",
       "allow_padding": false,
       "max": 1,
       "min": 0,
       "stabilized": false
      }
     },
     "ff4d262cb7af46ba94c0d96dd88cbbef": {
      "model_module": "@jupyter-widgets/base",
      "model_module_version": "1.2.0",
      "model_name": "LayoutModel",
      "state": {}
     },
     "ff549ea6002340cdaba305091ba71231": {
      "model_module": "bqplot",
      "model_module_version": "^0.5.18",
      "model_name": "AxisModel",
      "state": {
       "_model_module_version": "^0.5.18",
       "_view_module_version": "^0.5.18",
       "scale": "IPY_MODEL_bc3cfa8f76b54cc1aa41456f42496496",
       "side": "bottom",
       "tick_values": null
      }
     },
     "ffb8da82da7f43ecb85d4b62f99047f3": {
      "model_module": "bqplot",
      "model_module_version": "^0.5.18",
      "model_name": "LinearScaleModel",
      "state": {
       "_model_module_version": "^0.5.18",
       "_view_module_version": "^0.5.18",
       "allow_padding": false,
       "max": 1,
       "min": 0,
       "stabilized": false
      }
     }
    },
    "version_major": 2,
    "version_minor": 0
   }
  }
 },
 "nbformat": 4,
 "nbformat_minor": 4
}

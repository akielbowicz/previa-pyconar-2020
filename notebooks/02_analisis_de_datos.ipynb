{
 "cells": [
  {
   "cell_type": "markdown",
   "metadata": {},
   "source": [
    "# Como realizar el analisis de datos en Jupyter "
   ]
  },
  {
   "cell_type": "markdown",
   "metadata": {},
   "source": [
    "[PyCon Ar en PyVideo.org](https://pyvideo.org/events/pycon-ar-2011.html)"
   ]
  },
  {
   "cell_type": "markdown",
   "metadata": {},
   "source": [
    "- Explorar los datos"
   ]
  },
  {
   "cell_type": "code",
   "execution_count": 19,
   "metadata": {},
   "outputs": [],
   "source": [
    "import pathlib\n",
    "\n",
    "carpeta_datos = pathlib.Path('./datos')"
   ]
  },
  {
   "cell_type": "code",
   "execution_count": 33,
   "metadata": {},
   "outputs": [],
   "source": [
    "archivos = [ elemento for elemento in carpeta_datos.glob('*/videos/*.json') ]"
   ]
  },
  {
   "cell_type": "code",
   "execution_count": 34,
   "metadata": {},
   "outputs": [
    {
     "data": {
      "text/plain": [
       "237"
      ]
     },
     "execution_count": 34,
     "metadata": {},
     "output_type": "execute_result"
    }
   ],
   "source": [
    "len(archivos)"
   ]
  },
  {
   "cell_type": "code",
   "execution_count": 35,
   "metadata": {},
   "outputs": [
    {
     "data": {
      "text/plain": [
       "{'.json'}"
      ]
     },
     "execution_count": 35,
     "metadata": {},
     "output_type": "execute_result"
    }
   ],
   "source": [
    "{archivo.suffix for archivo in archivos }"
   ]
  },
  {
   "cell_type": "code",
   "execution_count": 31,
   "metadata": {},
   "outputs": [
    {
     "data": {
      "text/plain": [
       "''"
      ]
     },
     "execution_count": 31,
     "metadata": {},
     "output_type": "execute_result"
    }
   ],
   "source": [
    "archivos[0].suffix"
   ]
  },
  {
   "cell_type": "markdown",
   "metadata": {},
   "source": [
    "- Importar los datos con pandas"
   ]
  },
  {
   "cell_type": "code",
   "execution_count": 36,
   "metadata": {},
   "outputs": [],
   "source": [
    "import pandas"
   ]
  },
  {
   "cell_type": "code",
   "execution_count": 58,
   "metadata": {},
   "outputs": [],
   "source": [
    "def safe_df(archivo):\n",
    "    try:\n",
    "        df = pandas.read_json(archivo,typ='series')\n",
    "    except ValueError as err:\n",
    "        df = pandas.DataFrame()\n",
    "        print('Fallo al cargar: ', archivo)\n",
    "    return df"
   ]
  },
  {
   "cell_type": "code",
   "execution_count": 59,
   "metadata": {},
   "outputs": [],
   "source": [
    "series = [ safe_df(archivo) for archivo in archivos ]"
   ]
  },
  {
   "cell_type": "code",
   "execution_count": 69,
   "metadata": {},
   "outputs": [],
   "source": [
    "df = pandas.concat(series,axis=1).T"
   ]
  },
  {
   "cell_type": "code",
   "execution_count": 73,
   "metadata": {},
   "outputs": [],
   "source": [
    "speakers = df.speakers.explode()"
   ]
  },
  {
   "cell_type": "code",
   "execution_count": 82,
   "metadata": {},
   "outputs": [],
   "source": [
    "import bqplot.pyplot as plt\n",
    "\n",
    "pandas.set_option('plotting.backend', 'bqplot.pyplot')"
   ]
  },
  {
   "cell_type": "code",
   "execution_count": 83,
   "metadata": {},
   "outputs": [
    {
     "data": {
      "application/vnd.jupyter.widget-view+json": {
       "model_id": "eb9e8fa8891d414d8dc6bfa0a17a7c17",
       "version_major": 2,
       "version_minor": 0
      },
      "text/plain": [
       "VBox(children=(Figure(axes=[Axis(scale=LinearScale(), side='bottom'), Axis(orientation='vertical', scale=Linea…"
      ]
     },
     "metadata": {},
     "output_type": "display_data"
    }
   ],
   "source": [
    "df.speakers.apply(len).sort_values().plot()\n",
    "plt.show()"
   ]
  },
  {
   "cell_type": "code",
   "execution_count": 108,
   "metadata": {},
   "outputs": [
    {
     "ename": "IndexError",
     "evalue": "list index out of range",
     "output_type": "error",
     "traceback": [
      "\u001b[1;31m---------------------------------------------------------------------------\u001b[0m",
      "\u001b[1;31mIndexError\u001b[0m                                Traceback (most recent call last)",
      "\u001b[1;32m<ipython-input-108-edfd8a244b36>\u001b[0m in \u001b[0;36m<module>\u001b[1;34m\u001b[0m\n\u001b[0;32m      1\u001b[0m \u001b[0mx\u001b[0m\u001b[1;33m=\u001b[0m\u001b[0mdf\u001b[0m\u001b[1;33m.\u001b[0m\u001b[0mspeakers\u001b[0m\u001b[1;33m.\u001b[0m\u001b[0mexplode\u001b[0m\u001b[1;33m(\u001b[0m\u001b[1;33m)\u001b[0m\u001b[1;33m.\u001b[0m\u001b[0mvalue_counts\u001b[0m\u001b[1;33m(\u001b[0m\u001b[1;33m)\u001b[0m\u001b[1;33m\u001b[0m\u001b[1;33m\u001b[0m\u001b[0m\n\u001b[0;32m      2\u001b[0m \u001b[0mplt\u001b[0m\u001b[1;33m.\u001b[0m\u001b[0mfigure\u001b[0m\u001b[1;33m(\u001b[0m\u001b[1;33m)\u001b[0m\u001b[1;33m\u001b[0m\u001b[1;33m\u001b[0m\u001b[0m\n\u001b[1;32m----> 3\u001b[1;33m \u001b[0mplt\u001b[0m\u001b[1;33m.\u001b[0m\u001b[0mbar\u001b[0m\u001b[1;33m(\u001b[0m\u001b[0mx\u001b[0m\u001b[1;33m=\u001b[0m\u001b[0mx\u001b[0m\u001b[1;33m.\u001b[0m\u001b[0mindex\u001b[0m\u001b[1;33m.\u001b[0m\u001b[0mvalues\u001b[0m\u001b[1;33m,\u001b[0m\u001b[0my\u001b[0m\u001b[1;33m=\u001b[0m\u001b[0mx\u001b[0m\u001b[1;33m.\u001b[0m\u001b[0mvalues\u001b[0m\u001b[1;33m)\u001b[0m\u001b[1;33m\u001b[0m\u001b[1;33m\u001b[0m\u001b[0m\n\u001b[0m\u001b[0;32m      4\u001b[0m \u001b[0mplt\u001b[0m\u001b[1;33m.\u001b[0m\u001b[0mshow\u001b[0m\u001b[1;33m(\u001b[0m\u001b[1;33m)\u001b[0m\u001b[1;33m\u001b[0m\u001b[1;33m\u001b[0m\u001b[0m\n",
      "\u001b[1;32m~\\Miniconda3\\envs\\previa-pyconar\\lib\\site-packages\\bqplot\\pyplot.py\u001b[0m in \u001b[0;36m_mark_with_data\u001b[1;34m(*args, **kwargs)\u001b[0m\n\u001b[0;32m    248\u001b[0m             \u001b[0mdata\u001b[0m \u001b[1;33m=\u001b[0m \u001b[0mkwargs\u001b[0m\u001b[1;33m.\u001b[0m\u001b[0mpop\u001b[0m\u001b[1;33m(\u001b[0m\u001b[1;34m'data'\u001b[0m\u001b[1;33m,\u001b[0m \u001b[1;32mNone\u001b[0m\u001b[1;33m)\u001b[0m\u001b[1;33m\u001b[0m\u001b[1;33m\u001b[0m\u001b[0m\n\u001b[0;32m    249\u001b[0m             \u001b[1;32mif\u001b[0m \u001b[0mdata\u001b[0m \u001b[1;32mis\u001b[0m \u001b[1;32mNone\u001b[0m\u001b[1;33m:\u001b[0m\u001b[1;33m\u001b[0m\u001b[1;33m\u001b[0m\u001b[0m\n\u001b[1;32m--> 250\u001b[1;33m                 \u001b[1;32mreturn\u001b[0m \u001b[0mfunc\u001b[0m\u001b[1;33m(\u001b[0m\u001b[1;33m*\u001b[0m\u001b[0margs\u001b[0m\u001b[1;33m,\u001b[0m \u001b[1;33m**\u001b[0m\u001b[0mkwargs\u001b[0m\u001b[1;33m)\u001b[0m\u001b[1;33m\u001b[0m\u001b[1;33m\u001b[0m\u001b[0m\n\u001b[0m\u001b[0;32m    251\u001b[0m             \u001b[1;32melse\u001b[0m\u001b[1;33m:\u001b[0m\u001b[1;33m\u001b[0m\u001b[1;33m\u001b[0m\u001b[0m\n\u001b[0;32m    252\u001b[0m                 \u001b[0mdata_args\u001b[0m \u001b[1;33m=\u001b[0m \u001b[1;33m[\u001b[0m\u001b[0mdata\u001b[0m\u001b[1;33m[\u001b[0m\u001b[0mi\u001b[0m\u001b[1;33m]\u001b[0m \u001b[1;32mif\u001b[0m \u001b[0mhashable\u001b[0m\u001b[1;33m(\u001b[0m\u001b[0mdata\u001b[0m\u001b[1;33m,\u001b[0m \u001b[0mi\u001b[0m\u001b[1;33m)\u001b[0m \u001b[1;32melse\u001b[0m \u001b[0mi\u001b[0m \u001b[1;32mfor\u001b[0m \u001b[0mi\u001b[0m \u001b[1;32min\u001b[0m \u001b[0margs\u001b[0m\u001b[1;33m]\u001b[0m\u001b[1;33m\u001b[0m\u001b[1;33m\u001b[0m\u001b[0m\n",
      "\u001b[1;32m~\\Miniconda3\\envs\\previa-pyconar\\lib\\site-packages\\bqplot\\pyplot.py\u001b[0m in \u001b[0;36mbar\u001b[1;34m(x, y, **kwargs)\u001b[0m\n\u001b[0;32m    931\u001b[0m     \u001b[0mkwargs\u001b[0m\u001b[1;33m[\u001b[0m\u001b[1;34m'x'\u001b[0m\u001b[1;33m]\u001b[0m \u001b[1;33m=\u001b[0m \u001b[0mx\u001b[0m\u001b[1;33m\u001b[0m\u001b[1;33m\u001b[0m\u001b[0m\n\u001b[0;32m    932\u001b[0m     \u001b[0mkwargs\u001b[0m\u001b[1;33m[\u001b[0m\u001b[1;34m'y'\u001b[0m\u001b[1;33m]\u001b[0m \u001b[1;33m=\u001b[0m \u001b[0my\u001b[0m\u001b[1;33m\u001b[0m\u001b[1;33m\u001b[0m\u001b[0m\n\u001b[1;32m--> 933\u001b[1;33m     \u001b[1;32mreturn\u001b[0m \u001b[0m_draw_mark\u001b[0m\u001b[1;33m(\u001b[0m\u001b[0mBars\u001b[0m\u001b[1;33m,\u001b[0m \u001b[1;33m**\u001b[0m\u001b[0mkwargs\u001b[0m\u001b[1;33m)\u001b[0m\u001b[1;33m\u001b[0m\u001b[1;33m\u001b[0m\u001b[0m\n\u001b[0m\u001b[0;32m    934\u001b[0m \u001b[1;33m\u001b[0m\u001b[0m\n\u001b[0;32m    935\u001b[0m \u001b[1;33m\u001b[0m\u001b[0m\n",
      "\u001b[1;32m~\\Miniconda3\\envs\\previa-pyconar\\lib\\site-packages\\bqplot\\pyplot.py\u001b[0m in \u001b[0;36m_draw_mark\u001b[1;34m(mark_type, options, axes_options, **kwargs)\u001b[0m\n\u001b[0;32m    642\u001b[0m             sorted_scales = sorted(compat_scale_types,\n\u001b[0;32m    643\u001b[0m                                    key=lambda x: x.precedence)\n\u001b[1;32m--> 644\u001b[1;33m             \u001b[0mscales\u001b[0m\u001b[1;33m[\u001b[0m\u001b[0mname\u001b[0m\u001b[1;33m]\u001b[0m \u001b[1;33m=\u001b[0m \u001b[0msorted_scales\u001b[0m\u001b[1;33m[\u001b[0m\u001b[1;33m-\u001b[0m\u001b[1;36m1\u001b[0m\u001b[1;33m]\u001b[0m\u001b[1;33m(\u001b[0m\u001b[1;33m**\u001b[0m\u001b[0moptions\u001b[0m\u001b[1;33m.\u001b[0m\u001b[0mget\u001b[0m\u001b[1;33m(\u001b[0m\u001b[0mname\u001b[0m\u001b[1;33m,\u001b[0m \u001b[1;33m{\u001b[0m\u001b[1;33m}\u001b[0m\u001b[1;33m)\u001b[0m\u001b[1;33m)\u001b[0m\u001b[1;33m\u001b[0m\u001b[1;33m\u001b[0m\u001b[0m\n\u001b[0m\u001b[0;32m    645\u001b[0m             \u001b[1;31m# Adding the scale to the context scales\u001b[0m\u001b[1;33m\u001b[0m\u001b[1;33m\u001b[0m\u001b[1;33m\u001b[0m\u001b[0m\n\u001b[0;32m    646\u001b[0m             \u001b[1;32mif\u001b[0m \u001b[0mupdate_context\u001b[0m\u001b[1;33m:\u001b[0m\u001b[1;33m\u001b[0m\u001b[1;33m\u001b[0m\u001b[0m\n",
      "\u001b[1;31mIndexError\u001b[0m: list index out of range"
     ]
    }
   ],
   "source": [
    "x=df.speakers.explode().value_counts()\n",
    "plt.figure()\n",
    "plt.bar(x=x.index.values,y=x.values)\n",
    "plt.show()"
   ]
  },
  {
   "cell_type": "code",
   "execution_count": 107,
   "metadata": {},
   "outputs": [
    {
     "data": {
      "text/plain": [
       "array(['Various speakers', 'Facundo Batista', 'Juan Pedro Fisanotti',\n",
       "       'Roberto Alsina', 'Claudio Freire', 'Damián Avila',\n",
       "       'Hugo Ruscitti', 'Alejandro J. Cura', 'Various Speakers',\n",
       "       'Diego Sarmentero', 'Natalia Bidart', 'Martin Alderete',\n",
       "       'Rafael Carrascosa', 'Gabriel Genellina', 'Ricardo Kirkner',\n",
       "       'Martín Gaitán', 'Alejandro Cura', 'Manuel Quiñones',\n",
       "       'Diego Cañizares', 'Massimo Di Pierro', 'Craig Kerstiens',\n",
       "       'Luciano Rossi', 'Ariel Rossanigo', 'Andrea Gavana',\n",
       "       'Nicolás Demarchi', 'Felipe Lerena', 'Daniel F. Moisset',\n",
       "       'Matías Bordese', 'Berenice Larsen Pereyra', 'Brett Cannon',\n",
       "       'Javier Mansilla', 'Sebastián Marró',\n",
       "       'Emiliano Dalla Verde Marcozzi', 'Manuel Kaufmann', 'Sofía Denner',\n",
       "       'Pedro Ignacio Guridi', 'Christophe Pettus', 'Ezequiel Gutesman',\n",
       "       'Brandon Rhodes', 'Javier Der Derian', 'Wesley Chun',\n",
       "       'Luciano Serruya Aloisi', 'Carol Willing', 'Cynthia Monastirsky',\n",
       "       'Vinicius Feitosa Pacheco', 'María Andrea Vignau',\n",
       "       'Sebastian Brachi', 'Martin Volpe', 'Ramiro Morales',\n",
       "       'Sebastián Kennedy', 'Andrés Riancho', 'Joaquín Sorianello',\n",
       "       'David Litvak Bruno', 'Leonardo Lazzaro', 'Paola Katherine',\n",
       "       'Nicolas Quiroz', 'Flor Novidelsky', 'Fernando Schapachnik',\n",
       "       'Juan Manuel Schillaci', 'Silvestre Huens', 'Joaquin Sorianello',\n",
       "       'Dino Viehland', 'Emilio Crudele', 'Juan Manuel Santos',\n",
       "       'Federico Martinez y Santiago Avendaño', 'Estefania Miguel',\n",
       "       'Sofia Martin', 'Ariel Farkas', 'Alfonso de la Guarda Reyes',\n",
       "       'Federico Brest', 'Lucía García Itzigsohn', 'A. Garassino',\n",
       "       'Miguel Felipe Duarte', 'Dave Weil', 'dax', 'Matias Barriento',\n",
       "       'Angel J. Lopez', 'Tomas Zulberti', 'Valeria Rocha',\n",
       "       'Juan Carlos Abdala', 'Johanna Caterina Faliero', 'D. Nohales',\n",
       "       'Carlos de la Torre', 'Leonardo Morales', 'Martín Miranda',\n",
       "       'Aylen Bombelli', 'Hernan Wilkinson', 'Martin Riva',\n",
       "       'Tati Al-Chueyr', 'Daniel Espinoza', 'Martin Ribelotta',\n",
       "       'Lucio Delelis', 'Diego Diez', 'Ana Laura Almada', 'Sofía Martin',\n",
       "       'Juan Pablo Giménez', 'Martin Elias Costa', 'N. Demarchi',\n",
       "       'Gustavo Garcia Craia', 'Manuel de la Peña', 'Javier Derderyan',\n",
       "       'Valentín Spurchisi', 'Sebastian Bassi', 'Jose Morales',\n",
       "       'Celia Cintas', 'Pablo Cruz Casas', 'Augusto Coto',\n",
       "       'Carolina Maristany', 'Sergio Schvezov', 'Angel Freire',\n",
       "       'Laureano Kloss', 'Alexis Jawtuschenko', 'L. Torre',\n",
       "       'Juan Bagnera', 'Diego Mascialino', 'Mariano Guerra',\n",
       "       'Damian Avila', 'Cecilia Jarne', 'Ignacio Heredia', 'Erico Ándrei',\n",
       "       'Ana Velez Rueda', 'Maciej Fijalkowski', 'Ana Almada',\n",
       "       'Diego G. Cañizares', 'David Garoz', 'Alan Runyan',\n",
       "       'Eduardo Casarero', 'Juan E. D.', 'Mariano Reingart',\n",
       "       'Héctor Sanchez Gonzalo Odiard', 'Javyer Der Derian',\n",
       "       'Emanuel Sartor', 'Franco Mariluis', 'Alejandro Pereira',\n",
       "       'Alejandro Garcia', 'Erico Andrei', 'Adriana Aiassa',\n",
       "       'Pablo Alcain', 'Robert M Lefkowitz', 'Matias Lang',\n",
       "       'Fernando Masanori', 'Matias Bordese', 'German Bourdin',\n",
       "       'Alejandro Zamora Fonseca', 'Angel Lopez', 'Simon Willison',\n",
       "       'M. Quiñones', 'Mário Sérgio', 'Francisco Capdevila',\n",
       "       'Carlos Matías de la Torre', 'Leandro Ucciferri',\n",
       "       'Marcelo Fernández', 'Matias Varela', 'Ángel Medinilla',\n",
       "       'Jim Fulton', 'Mariela Osete', 'Katherine Jenkins',\n",
       "       'Nahuel Lascano', 'Diego Ramirez', 'Franco Nicolas Bellomo',\n",
       "       'Andrés Snitcofsky', 'Mariano Lambir', 'Rodrigo Lugones',\n",
       "       'Graciela Molina', 'Ignacio Fiorentino',\n",
       "       'Federico Gonzalez (FedeG)', 'Jeannette Torrez',\n",
       "       'Victoria Martinez de la Cruz', 'Thiago Avelino', 'Álvaro Justen',\n",
       "       'Alexis Ferreyra', 'Juan Bautista Cabral', 'Yonatan Romero',\n",
       "       'Javier Ayres', 'Pablo Toledo Margalef'], dtype=object)"
      ]
     },
     "execution_count": 107,
     "metadata": {},
     "output_type": "execute_result"
    }
   ],
   "source": [
    "x.index.values"
   ]
  },
  {
   "cell_type": "markdown",
   "metadata": {},
   "source": [
    "- Realizar graficos"
   ]
  }
 ],
 "metadata": {
  "kernelspec": {
   "display_name": "Python 3",
   "language": "python",
   "name": "python3"
  },
  "language_info": {
   "codemirror_mode": {
    "name": "ipython",
    "version": 3
   },
   "file_extension": ".py",
   "mimetype": "text/x-python",
   "name": "python",
   "nbconvert_exporter": "python",
   "pygments_lexer": "ipython3",
   "version": "3.8.6"
  },
  "widgets": {
   "application/vnd.jupyter.widget-state+json": {
    "state": {
     "034c2d14b4ae427ba71543e4e8916742": {
      "model_module": "bqplot",
      "model_module_version": "^0.5.18",
      "model_name": "LinearScaleModel",
      "state": {
       "_model_module_version": "^0.5.18",
       "_view_module_version": "^0.5.18",
       "allow_padding": false,
       "max": 1,
       "min": 0,
       "stabilized": false
      }
     },
     "054729a2681b427cbae3c1b88bbb5d81": {
      "model_module": "@jupyter-widgets/base",
      "model_module_version": "1.2.0",
      "model_name": "LayoutModel",
      "state": {}
     },
     "0f0d73466f924b469f54272af2eb544c": {
      "model_module": "bqplot",
      "model_module_version": "^0.5.18",
      "model_name": "LinearScaleModel",
      "state": {
       "_model_module_version": "^0.5.18",
       "_view_module_version": "^0.5.18",
       "allow_padding": false,
       "max": 1,
       "min": 0,
       "stabilized": false
      }
     },
     "12c151223eb04b1fa1f7506182540023": {
      "model_module": "bqplot",
      "model_module_version": "^0.5.18",
      "model_name": "LinearScaleModel",
      "state": {
       "_model_module_version": "^0.5.18",
       "_view_module_version": "^0.5.18",
       "allow_padding": false,
       "max": 1,
       "min": 0,
       "stabilized": false
      }
     },
     "1622501b3c3b4845a533a14690f0fc48": {
      "model_module": "bqplot",
      "model_module_version": "^0.5.18",
      "model_name": "LinearScaleModel",
      "state": {
       "_model_module_version": "^0.5.18",
       "_view_module_version": "^0.5.18",
       "allow_padding": false,
       "max": 1,
       "min": 0,
       "stabilized": false
      }
     },
     "1b81e8d7747f4ade8732069e28ac2b79": {
      "buffers": [
       {
        "data": "AAAAAAEAAAACAAAAAwAAAAQAAAAFAAAABgAAAAcAAAAIAAAACQAAAAoAAAALAAAADAAAAA0AAAAOAAAADwAAABAAAAARAAAAEgAAABMAAAAUAAAAFQAAABYAAAAXAAAAGAAAABkAAAAaAAAAGwAAABwAAAAdAAAAHgAAAB8AAAAgAAAAIQAAACIAAAAjAAAAJAAAACUAAAAmAAAAJwAAACgAAAApAAAAKgAAACsAAAAsAAAALQAAAC4AAAAvAAAAMAAAADEAAAAyAAAAMwAAADQAAAA1AAAANgAAADcAAAA4AAAAOQAAADoAAAA7AAAAPAAAAD0AAAA+AAAAPwAAAEAAAABBAAAAQgAAAEMAAABEAAAARQAAAEYAAABHAAAASAAAAEkAAABKAAAASwAAAEwAAABNAAAATgAAAE8AAABQAAAAUQAAAFIAAABTAAAAVAAAAFUAAABWAAAAVwAAAFgAAABZAAAAWgAAAFsAAABcAAAAXQAAAF4AAABfAAAAYAAAAGEAAABiAAAAYwAAAGQAAABlAAAAZgAAAGcAAABoAAAAaQAAAGoAAABrAAAAbAAAAG0AAABuAAAAbwAAAHAAAABxAAAAcgAAAHMAAAB0AAAAdQAAAHYAAAB3AAAAeAAAAHkAAAB6AAAAewAAAHwAAAB9AAAAfgAAAH8AAACAAAAAgQAAAIIAAACDAAAAhAAAAIUAAACGAAAAhwAAAIgAAACJAAAAigAAAIsAAACMAAAAjQAAAI4AAACPAAAAkAAAAJEAAACSAAAAkwAAAJQAAACVAAAAlgAAAJcAAACYAAAAmQAAAJoAAACbAAAAnAAAAJ0AAACeAAAAnwAAAKAAAAChAAAAogAAAKMAAACkAAAApQAAAKYAAACnAAAAqAAAAKkAAACqAAAAqwAAAKwAAACtAAAArgAAAK8AAACwAAAAsQAAALIAAACzAAAAtAAAALUAAAC2AAAAtwAAALgAAAC5AAAAugAAALsAAAC8AAAAvQAAAL4AAAC/AAAAwAAAAMEAAADCAAAAwwAAAMQAAADFAAAAxgAAAMcAAADIAAAAyQAAAMoAAADLAAAAzAAAAM0AAADOAAAAzwAAANAAAADRAAAA0gAAANMAAADUAAAA1QAAANYAAADXAAAA2AAAANkAAADaAAAA2wAAANwAAADdAAAA3gAAAN8AAADgAAAA4QAAAOIAAADjAAAA5AAAAOUAAADmAAAA5wAAAOgAAADpAAAA6gAAAOsAAADsAAAA",
        "encoding": "base64",
        "path": [
         "x",
         "value"
        ]
       },
       {
        "data": "AAAAAAAAAAAAAAAAAAAAAAEAAAABAAAAAQAAAAEAAAABAAAAAQAAAAEAAAABAAAAAQAAAAEAAAABAAAAAQAAAAEAAAABAAAAAQAAAAEAAAABAAAAAQAAAAEAAAABAAAAAQAAAAEAAAABAAAAAQAAAAEAAAABAAAAAQAAAAEAAAABAAAAAQAAAAEAAAABAAAAAQAAAAEAAAABAAAAAQAAAAEAAAABAAAAAQAAAAEAAAABAAAAAQAAAAEAAAABAAAAAQAAAAEAAAABAAAAAQAAAAEAAAABAAAAAQAAAAEAAAABAAAAAQAAAAEAAAABAAAAAQAAAAEAAAABAAAAAQAAAAEAAAABAAAAAQAAAAEAAAABAAAAAQAAAAEAAAABAAAAAQAAAAEAAAABAAAAAQAAAAEAAAABAAAAAQAAAAEAAAABAAAAAQAAAAEAAAABAAAAAQAAAAEAAAABAAAAAQAAAAEAAAABAAAAAQAAAAEAAAABAAAAAQAAAAEAAAABAAAAAQAAAAEAAAABAAAAAQAAAAEAAAABAAAAAQAAAAEAAAABAAAAAQAAAAEAAAABAAAAAQAAAAEAAAABAAAAAQAAAAEAAAABAAAAAQAAAAEAAAABAAAAAQAAAAEAAAABAAAAAQAAAAEAAAABAAAAAQAAAAEAAAABAAAAAQAAAAEAAAABAAAAAQAAAAEAAAABAAAAAQAAAAEAAAABAAAAAQAAAAEAAAABAAAAAQAAAAEAAAABAAAAAQAAAAEAAAABAAAAAQAAAAEAAAABAAAAAQAAAAEAAAABAAAAAQAAAAEAAAABAAAAAQAAAAEAAAABAAAAAQAAAAEAAAABAAAAAQAAAAEAAAABAAAAAQAAAAEAAAABAAAAAQAAAAEAAAABAAAAAQAAAAEAAAABAAAAAQAAAAEAAAABAAAAAQAAAAEAAAABAAAAAQAAAAEAAAABAAAAAQAAAAEAAAABAAAAAQAAAAEAAAABAAAAAQAAAAEAAAABAAAAAQAAAAEAAAABAAAAAQAAAAEAAAABAAAAAQAAAAEAAAABAAAAAQAAAAEAAAABAAAAAQAAAAEAAAABAAAAAQAAAAEAAAABAAAAAQAAAAEAAAABAAAAAgAAAAIAAAACAAAAAgAAAAIAAAACAAAAAgAAAAIAAAACAAAAAgAAAAIAAAACAAAAAgAAAAIAAAACAAAAAgAAAAIAAAACAAAAAgAAAAIAAAACAAAAAgAAAAIAAAACAAAAAwAAAAQAAAAFAAAA",
        "encoding": "base64",
        "path": [
         "y",
         "value"
        ]
       }
      ],
      "model_module": "bqplot",
      "model_module_version": "^0.5.18",
      "model_name": "LinesModel",
      "state": {
       "_model_module_version": "^0.5.18",
       "_view_module_version": "^0.5.18",
       "fill_colors": [],
       "labels": [
        "C1"
       ],
       "scales": {
        "x": "IPY_MODEL_2a944ac647684872bc7fa22c4687c44d",
        "y": "IPY_MODEL_2f15896a9e124b9fb214f31f94c3fe97"
       },
       "x": {
        "dtype": "int32",
        "shape": [
         237
        ],
        "type": null
       },
       "y": {
        "dtype": "int32",
        "shape": [
         237
        ],
        "type": null
       }
      }
     },
     "1f5c21cad4174148a5616bb3c8378ff4": {
      "model_module": "@jupyter-widgets/controls",
      "model_module_version": "1.5.0",
      "model_name": "VBoxModel",
      "state": {
       "children": [
        "IPY_MODEL_4003fba24cb74d96bb0bed4dfaa36454",
        "IPY_MODEL_bb9f4aa868aa4bec99848c3ce9145e24"
       ],
       "layout": "IPY_MODEL_689e981cebe64abf97c6fbf71d670b46"
      }
     },
     "22f76f4a9af549fe80b9cd1e26125f93": {
      "model_module": "bqplot",
      "model_module_version": "^0.5.18",
      "model_name": "FigureModel",
      "state": {
       "_model_module_version": "^0.5.18",
       "_view_module_version": "^0.5.18",
       "layout": "IPY_MODEL_9881848cb7db40369cf9ef74c1e640b2",
       "scale_x": "IPY_MODEL_fb4b1f97bbf9415c88afdc767d81789e",
       "scale_y": "IPY_MODEL_c665904bb65a44f98a67fdb9e7a058a6"
      }
     },
     "278d7232300a4281a89a20529a97c346": {
      "model_module": "bqplot",
      "model_module_version": "^0.5.18",
      "model_name": "AxisModel",
      "state": {
       "_model_module_version": "^0.5.18",
       "_view_module_version": "^0.5.18",
       "scale": "IPY_MODEL_2a944ac647684872bc7fa22c4687c44d",
       "side": "bottom",
       "tick_values": null
      }
     },
     "28e43afe41a248aea319bcda695e368f": {
      "model_module": "bqplot",
      "model_module_version": "^0.5.18",
      "model_name": "FigureModel",
      "state": {
       "_model_module_version": "^0.5.18",
       "_view_module_version": "^0.5.18",
       "axes": [
        "IPY_MODEL_5c11f99877da4d2889b517faf4432a68",
        "IPY_MODEL_2a1a4d682a7d42339f0f01bcede56d8b"
       ],
       "layout": "IPY_MODEL_91ef7837efcb4720819ef2c93f32a9c9",
       "marks": [
        "IPY_MODEL_f2f950f505b44f20b13b7cc64b20629d"
       ],
       "scale_x": "IPY_MODEL_12c151223eb04b1fa1f7506182540023",
       "scale_y": "IPY_MODEL_2b894d4ee5aa4def8f95f47d6691e216"
      }
     },
     "299d49eb83ba49f995f8b20e31fe59eb": {
      "model_module": "@jupyter-widgets/base",
      "model_module_version": "1.2.0",
      "model_name": "LayoutModel",
      "state": {}
     },
     "2a1a4d682a7d42339f0f01bcede56d8b": {
      "model_module": "bqplot",
      "model_module_version": "^0.5.18",
      "model_name": "AxisModel",
      "state": {
       "_model_module_version": "^0.5.18",
       "_view_module_version": "^0.5.18",
       "orientation": "vertical",
       "scale": "IPY_MODEL_2f8f6c2abca644cfa8770be19e2e799c",
       "side": "left",
       "tick_values": null
      }
     },
     "2a3d398672524caa9412b4d1b93b7921": {
      "model_module": "bqplot",
      "model_module_version": "^0.5.18",
      "model_name": "AxisModel",
      "state": {
       "_model_module_version": "^0.5.18",
       "_view_module_version": "^0.5.18",
       "orientation": "vertical",
       "scale": "IPY_MODEL_500cb05e3f464fdbb21893c51bea1d62",
       "side": "left",
       "tick_values": null
      }
     },
     "2a944ac647684872bc7fa22c4687c44d": {
      "model_module": "bqplot",
      "model_module_version": "^0.5.18",
      "model_name": "LinearScaleModel",
      "state": {
       "_model_module_version": "^0.5.18",
       "_view_module_version": "^0.5.18",
       "stabilized": false
      }
     },
     "2b894d4ee5aa4def8f95f47d6691e216": {
      "model_module": "bqplot",
      "model_module_version": "^0.5.18",
      "model_name": "LinearScaleModel",
      "state": {
       "_model_module_version": "^0.5.18",
       "_view_module_version": "^0.5.18",
       "allow_padding": false,
       "max": 1,
       "min": 0,
       "stabilized": false
      }
     },
     "2f15896a9e124b9fb214f31f94c3fe97": {
      "model_module": "bqplot",
      "model_module_version": "^0.5.18",
      "model_name": "LinearScaleModel",
      "state": {
       "_model_module_version": "^0.5.18",
       "_view_module_version": "^0.5.18",
       "stabilized": false
      }
     },
     "2f8f6c2abca644cfa8770be19e2e799c": {
      "model_module": "bqplot",
      "model_module_version": "^0.5.18",
      "model_name": "LinearScaleModel",
      "state": {
       "_model_module_version": "^0.5.18",
       "_view_module_version": "^0.5.18",
       "stabilized": false
      }
     },
     "3129d10c6cd740b7ab7745bb6361896b": {
      "model_module": "@jupyter-widgets/base",
      "model_module_version": "1.2.0",
      "model_name": "LayoutModel",
      "state": {}
     },
     "31a8a5fb7b4141ee969638fa68b4b4b1": {
      "model_module": "@jupyter-widgets/base",
      "model_module_version": "1.2.0",
      "model_name": "LayoutModel",
      "state": {}
     },
     "32b92dd7d50748fb85c788fb0c514c3c": {
      "model_module": "bqplot",
      "model_module_version": "^0.5.18",
      "model_name": "LinearScaleModel",
      "state": {
       "_model_module_version": "^0.5.18",
       "_view_module_version": "^0.5.18",
       "allow_padding": false,
       "max": 1,
       "min": 0,
       "stabilized": false
      }
     },
     "39552743914e41ff9e580d57079affc1": {
      "buffers": [
       {
        "data": "HwAAAAcAAAAFAAAABQAAAAUAAAAEAAAABAAAAAMAAAADAAAAAwAAAAMAAAADAAAAAwAAAAMAAAACAAAAAgAAAAIAAAACAAAAAgAAAAIAAAACAAAAAgAAAAIAAAACAAAAAgAAAAIAAAACAAAAAgAAAAIAAAACAAAAAgAAAAIAAAACAAAAAgAAAAIAAAACAAAAAgAAAAEAAAABAAAAAQAAAAEAAAABAAAAAQAAAAEAAAABAAAAAQAAAAEAAAABAAAAAQAAAAEAAAABAAAAAQAAAAEAAAABAAAAAQAAAAEAAAABAAAAAQAAAAEAAAABAAAAAQAAAAEAAAABAAAAAQAAAAEAAAABAAAAAQAAAAEAAAABAAAAAQAAAAEAAAABAAAAAQAAAAEAAAABAAAAAQAAAAEAAAABAAAAAQAAAAEAAAABAAAAAQAAAAEAAAABAAAAAQAAAAEAAAABAAAAAQAAAAEAAAABAAAAAQAAAAEAAAABAAAAAQAAAAEAAAABAAAAAQAAAAEAAAABAAAAAQAAAAEAAAABAAAAAQAAAAEAAAABAAAAAQAAAAEAAAABAAAAAQAAAAEAAAABAAAAAQAAAAEAAAABAAAAAQAAAAEAAAABAAAAAQAAAAEAAAABAAAAAQAAAAEAAAABAAAAAQAAAAEAAAABAAAAAQAAAAEAAAABAAAAAQAAAAEAAAABAAAAAQAAAAEAAAABAAAAAQAAAAEAAAABAAAAAQAAAAEAAAABAAAAAQAAAAEAAAABAAAAAQAAAAEAAAABAAAAAQAAAAEAAAABAAAAAQAAAAEAAAABAAAAAQAAAAEAAAABAAAAAQAAAAEAAAABAAAAAQAAAAEAAAABAAAAAQAAAAEAAAABAAAAAQAAAAEAAAABAAAAAQAAAAEAAAABAAAAAQAAAAEAAAABAAAAAQAAAA==",
        "encoding": "base64",
        "path": [
         "x",
         "value"
        ]
       },
       {
        "data": "HwAAAAcAAAAFAAAABQAAAAUAAAAEAAAABAAAAAMAAAADAAAAAwAAAAMAAAADAAAAAwAAAAMAAAACAAAAAgAAAAIAAAACAAAAAgAAAAIAAAACAAAAAgAAAAIAAAACAAAAAgAAAAIAAAACAAAAAgAAAAIAAAACAAAAAgAAAAIAAAACAAAAAgAAAAIAAAACAAAAAgAAAAEAAAABAAAAAQAAAAEAAAABAAAAAQAAAAEAAAABAAAAAQAAAAEAAAABAAAAAQAAAAEAAAABAAAAAQAAAAEAAAABAAAAAQAAAAEAAAABAAAAAQAAAAEAAAABAAAAAQAAAAEAAAABAAAAAQAAAAEAAAABAAAAAQAAAAEAAAABAAAAAQAAAAEAAAABAAAAAQAAAAEAAAABAAAAAQAAAAEAAAABAAAAAQAAAAEAAAABAAAAAQAAAAEAAAABAAAAAQAAAAEAAAABAAAAAQAAAAEAAAABAAAAAQAAAAEAAAABAAAAAQAAAAEAAAABAAAAAQAAAAEAAAABAAAAAQAAAAEAAAABAAAAAQAAAAEAAAABAAAAAQAAAAEAAAABAAAAAQAAAAEAAAABAAAAAQAAAAEAAAABAAAAAQAAAAEAAAABAAAAAQAAAAEAAAABAAAAAQAAAAEAAAABAAAAAQAAAAEAAAABAAAAAQAAAAEAAAABAAAAAQAAAAEAAAABAAAAAQAAAAEAAAABAAAAAQAAAAEAAAABAAAAAQAAAAEAAAABAAAAAQAAAAEAAAABAAAAAQAAAAEAAAABAAAAAQAAAAEAAAABAAAAAQAAAAEAAAABAAAAAQAAAAEAAAABAAAAAQAAAAEAAAABAAAAAQAAAAEAAAABAAAAAQAAAAEAAAABAAAAAQAAAAEAAAABAAAAAQAAAAEAAAABAAAAAQAAAAEAAAABAAAAAQAAAA==",
        "encoding": "base64",
        "path": [
         "y",
         "value"
        ]
       }
      ],
      "model_module": "bqplot",
      "model_module_version": "^0.5.18",
      "model_name": "BarsModel",
      "state": {
       "_model_module_version": "^0.5.18",
       "_view_module_version": "^0.5.18",
       "label_font_style": {},
       "scales": {
        "x": "IPY_MODEL_abdfa114f274426ebbe577c1b504232a",
        "y": "IPY_MODEL_500cb05e3f464fdbb21893c51bea1d62"
       },
       "x": {
        "dtype": "int32",
        "shape": [
         175
        ],
        "type": null
       },
       "y": {
        "dtype": "int32",
        "shape": [
         175
        ],
        "type": null
       }
      }
     },
     "3eb6168c4b154d3caf6e2b7e1ce7e016": {
      "model_module": "bqplot",
      "model_module_version": "^0.5.18",
      "model_name": "FigureModel",
      "state": {
       "_model_module_version": "^0.5.18",
       "_view_module_version": "^0.5.18",
       "layout": "IPY_MODEL_92215d385a744580a400fb07b63f30bd",
       "scale_x": "IPY_MODEL_6614dbd3c82c4f77aff943d71de8c93e",
       "scale_y": "IPY_MODEL_f83ba0a814b248a6bbb5ecc014de31d3"
      }
     },
     "4003fba24cb74d96bb0bed4dfaa36454": {
      "model_module": "bqplot",
      "model_module_version": "^0.5.18",
      "model_name": "FigureModel",
      "state": {
       "_model_module_version": "^0.5.18",
       "_view_module_version": "^0.5.18",
       "axes": [
        "IPY_MODEL_791bfc2e1a324ea38a4ac301918e49f4",
        "IPY_MODEL_b0466d62846241d486b985f72fae2b71"
       ],
       "layout": "IPY_MODEL_a8ee4521aa234e68a3acb461311bafdb",
       "marks": [
        "IPY_MODEL_ad868c1cf5ac4fddaf9fef97c34a9b79",
        "IPY_MODEL_4e5d0539b1e9401a99c6b40f2bdf4dd6"
       ],
       "scale_x": "IPY_MODEL_7c7b0782a3914d34a0bf07ece360a573",
       "scale_y": "IPY_MODEL_6c694b17049d46ea95b3bc3ec3abb092"
      }
     },
     "4e5d0539b1e9401a99c6b40f2bdf4dd6": {
      "buffers": [
       {
        "data": "AAAAAAEAAAACAAAAAwAAAAQAAAAFAAAABgAAAAcAAAAIAAAACQAAAAoAAAALAAAADAAAAA0AAAAOAAAADwAAABAAAAARAAAAEgAAABMAAAAUAAAAFQAAABYAAAAXAAAAGAAAABkAAAAaAAAAGwAAABwAAAAdAAAAHgAAAB8AAAAgAAAAIQAAACIAAAAjAAAAJAAAACUAAAAmAAAAJwAAACgAAAApAAAAKgAAACsAAAAsAAAALQAAAC4AAAAvAAAAMAAAADEAAAAyAAAAMwAAADQAAAA1AAAANgAAADcAAAA4AAAAOQAAADoAAAA7AAAAPAAAAD0AAAA+AAAAPwAAAEAAAABBAAAAQgAAAEMAAABEAAAARQAAAEYAAABHAAAASAAAAEkAAABKAAAASwAAAEwAAABNAAAATgAAAE8AAABQAAAAUQAAAFIAAABTAAAAVAAAAFUAAABWAAAAVwAAAFgAAABZAAAAWgAAAFsAAABcAAAAXQAAAF4AAABfAAAAYAAAAGEAAABiAAAAYwAAAGQAAABlAAAAZgAAAGcAAABoAAAAaQAAAGoAAABrAAAAbAAAAG0AAABuAAAAbwAAAHAAAABxAAAAcgAAAHMAAAB0AAAAdQAAAHYAAAB3AAAAeAAAAHkAAAB6AAAAewAAAHwAAAB9AAAAfgAAAH8AAACAAAAAgQAAAIIAAACDAAAAhAAAAIUAAACGAAAAhwAAAIgAAACJAAAAigAAAIsAAACMAAAAjQAAAI4AAACPAAAAkAAAAJEAAACSAAAAkwAAAJQAAACVAAAAlgAAAJcAAACYAAAAmQAAAJoAAACbAAAAnAAAAJ0AAACeAAAAnwAAAKAAAAChAAAAogAAAKMAAACkAAAApQAAAKYAAACnAAAAqAAAAKkAAACqAAAAqwAAAKwAAACtAAAArgAAAA==",
        "encoding": "base64",
        "path": [
         "x",
         "value"
        ]
       },
       {
        "data": "HwAAAAcAAAAFAAAABQAAAAUAAAAEAAAABAAAAAMAAAADAAAAAwAAAAMAAAADAAAAAwAAAAMAAAACAAAAAgAAAAIAAAACAAAAAgAAAAIAAAACAAAAAgAAAAIAAAACAAAAAgAAAAIAAAACAAAAAgAAAAIAAAACAAAAAgAAAAIAAAACAAAAAgAAAAIAAAACAAAAAgAAAAEAAAABAAAAAQAAAAEAAAABAAAAAQAAAAEAAAABAAAAAQAAAAEAAAABAAAAAQAAAAEAAAABAAAAAQAAAAEAAAABAAAAAQAAAAEAAAABAAAAAQAAAAEAAAABAAAAAQAAAAEAAAABAAAAAQAAAAEAAAABAAAAAQAAAAEAAAABAAAAAQAAAAEAAAABAAAAAQAAAAEAAAABAAAAAQAAAAEAAAABAAAAAQAAAAEAAAABAAAAAQAAAAEAAAABAAAAAQAAAAEAAAABAAAAAQAAAAEAAAABAAAAAQAAAAEAAAABAAAAAQAAAAEAAAABAAAAAQAAAAEAAAABAAAAAQAAAAEAAAABAAAAAQAAAAEAAAABAAAAAQAAAAEAAAABAAAAAQAAAAEAAAABAAAAAQAAAAEAAAABAAAAAQAAAAEAAAABAAAAAQAAAAEAAAABAAAAAQAAAAEAAAABAAAAAQAAAAEAAAABAAAAAQAAAAEAAAABAAAAAQAAAAEAAAABAAAAAQAAAAEAAAABAAAAAQAAAAEAAAABAAAAAQAAAAEAAAABAAAAAQAAAAEAAAABAAAAAQAAAAEAAAABAAAAAQAAAAEAAAABAAAAAQAAAAEAAAABAAAAAQAAAAEAAAABAAAAAQAAAAEAAAABAAAAAQAAAAEAAAABAAAAAQAAAAEAAAABAAAAAQAAAAEAAAABAAAAAQAAAAEAAAABAAAAAQAAAAEAAAABAAAAAQAAAA==",
        "encoding": "base64",
        "path": [
         "y",
         "value"
        ]
       }
      ],
      "model_module": "bqplot",
      "model_module_version": "^0.5.18",
      "model_name": "LinesModel",
      "state": {
       "_model_module_version": "^0.5.18",
       "_view_module_version": "^0.5.18",
       "fill_colors": [],
       "labels": [
        "C1"
       ],
       "scales": {
        "x": "IPY_MODEL_81633a34d3b94e5f9f06b8d6bfa768f4",
        "y": "IPY_MODEL_fd5b0305e35a4f57aa7ce7055ab656a0"
       },
       "x": {
        "dtype": "int32",
        "shape": [
         175
        ],
        "type": null
       },
       "y": {
        "dtype": "int32",
        "shape": [
         175
        ],
        "type": null
       }
      }
     },
     "500cb05e3f464fdbb21893c51bea1d62": {
      "model_module": "bqplot",
      "model_module_version": "^0.5.18",
      "model_name": "LinearScaleModel",
      "state": {
       "_model_module_version": "^0.5.18",
       "_view_module_version": "^0.5.18",
       "stabilized": false
      }
     },
     "50fbf221fcc14a9e988433709560d955": {
      "model_module": "bqplot",
      "model_module_version": "^0.5.18",
      "model_name": "LinearScaleModel",
      "state": {
       "_model_module_version": "^0.5.18",
       "_view_module_version": "^0.5.18",
       "allow_padding": false,
       "max": 1,
       "min": 0,
       "stabilized": false
      }
     },
     "56b8daf8204d4f2b8963797c68e0cc60": {
      "model_module": "bqplot",
      "model_module_version": "^0.5.18",
      "model_name": "LinearScaleModel",
      "state": {
       "_model_module_version": "^0.5.18",
       "_view_module_version": "^0.5.18",
       "stabilized": false
      }
     },
     "5c11f99877da4d2889b517faf4432a68": {
      "model_module": "bqplot",
      "model_module_version": "^0.5.18",
      "model_name": "AxisModel",
      "state": {
       "_model_module_version": "^0.5.18",
       "_view_module_version": "^0.5.18",
       "scale": "IPY_MODEL_56b8daf8204d4f2b8963797c68e0cc60",
       "side": "bottom",
       "tick_values": null
      }
     },
     "5fe26208d7fb423186ae03302671623d": {
      "buffers": [
       {
        "data": "AAAAAAEAAAACAAAAAwAAAAQAAAAFAAAABgAAAAcAAAAIAAAACQAAAAoAAAALAAAADAAAAA0AAAAOAAAADwAAABAAAAARAAAAEgAAABMAAAAUAAAAFQAAABYAAAAXAAAAGAAAABkAAAAaAAAAGwAAABwAAAAdAAAAHgAAAB8AAAAgAAAAIQAAACIAAAAjAAAAJAAAACUAAAAmAAAAJwAAACgAAAApAAAAKgAAACsAAAAsAAAALQAAAC4AAAAvAAAAMAAAADEAAAAyAAAAMwAAADQAAAA1AAAANgAAADcAAAA4AAAAOQAAADoAAAA7AAAAPAAAAD0AAAA+AAAAPwAAAEAAAABBAAAAQgAAAEMAAABEAAAARQAAAEYAAABHAAAASAAAAEkAAABKAAAASwAAAEwAAABNAAAATgAAAE8AAABQAAAAUQAAAFIAAABTAAAAVAAAAFUAAABWAAAAVwAAAFgAAABZAAAAWgAAAFsAAABcAAAAXQAAAF4AAABfAAAAYAAAAGEAAABiAAAAYwAAAGQAAABlAAAAZgAAAGcAAABoAAAAaQAAAGoAAABrAAAAbAAAAG0AAABuAAAAbwAAAHAAAABxAAAAcgAAAHMAAAB0AAAAdQAAAHYAAAB3AAAAeAAAAHkAAAB6AAAAewAAAHwAAAB9AAAAfgAAAH8AAACAAAAAgQAAAIIAAACDAAAAhAAAAIUAAACGAAAAhwAAAIgAAACJAAAAigAAAIsAAACMAAAAjQAAAI4AAACPAAAAkAAAAJEAAACSAAAAkwAAAJQAAACVAAAAlgAAAJcAAACYAAAAmQAAAJoAAACbAAAAnAAAAJ0AAACeAAAAnwAAAKAAAAChAAAAogAAAKMAAACkAAAApQAAAKYAAACnAAAAqAAAAKkAAACqAAAAqwAAAKwAAACtAAAArgAAAA==",
        "encoding": "base64",
        "path": [
         "x",
         "value"
        ]
       },
       {
        "data": "HwAAAAcAAAAFAAAABQAAAAUAAAAEAAAABAAAAAMAAAADAAAAAwAAAAMAAAADAAAAAwAAAAMAAAACAAAAAgAAAAIAAAACAAAAAgAAAAIAAAACAAAAAgAAAAIAAAACAAAAAgAAAAIAAAACAAAAAgAAAAIAAAACAAAAAgAAAAIAAAACAAAAAgAAAAIAAAACAAAAAgAAAAEAAAABAAAAAQAAAAEAAAABAAAAAQAAAAEAAAABAAAAAQAAAAEAAAABAAAAAQAAAAEAAAABAAAAAQAAAAEAAAABAAAAAQAAAAEAAAABAAAAAQAAAAEAAAABAAAAAQAAAAEAAAABAAAAAQAAAAEAAAABAAAAAQAAAAEAAAABAAAAAQAAAAEAAAABAAAAAQAAAAEAAAABAAAAAQAAAAEAAAABAAAAAQAAAAEAAAABAAAAAQAAAAEAAAABAAAAAQAAAAEAAAABAAAAAQAAAAEAAAABAAAAAQAAAAEAAAABAAAAAQAAAAEAAAABAAAAAQAAAAEAAAABAAAAAQAAAAEAAAABAAAAAQAAAAEAAAABAAAAAQAAAAEAAAABAAAAAQAAAAEAAAABAAAAAQAAAAEAAAABAAAAAQAAAAEAAAABAAAAAQAAAAEAAAABAAAAAQAAAAEAAAABAAAAAQAAAAEAAAABAAAAAQAAAAEAAAABAAAAAQAAAAEAAAABAAAAAQAAAAEAAAABAAAAAQAAAAEAAAABAAAAAQAAAAEAAAABAAAAAQAAAAEAAAABAAAAAQAAAAEAAAABAAAAAQAAAAEAAAABAAAAAQAAAAEAAAABAAAAAQAAAAEAAAABAAAAAQAAAAEAAAABAAAAAQAAAAEAAAABAAAAAQAAAAEAAAABAAAAAQAAAAEAAAABAAAAAQAAAAEAAAABAAAAAQAAAAEAAAABAAAAAQAAAA==",
        "encoding": "base64",
        "path": [
         "y",
         "value"
        ]
       }
      ],
      "model_module": "bqplot",
      "model_module_version": "^0.5.18",
      "model_name": "LinesModel",
      "state": {
       "_model_module_version": "^0.5.18",
       "_view_module_version": "^0.5.18",
       "fill_colors": [],
       "labels": [
        "C1"
       ],
       "scales": {
        "x": "IPY_MODEL_2a944ac647684872bc7fa22c4687c44d",
        "y": "IPY_MODEL_2f15896a9e124b9fb214f31f94c3fe97"
       },
       "x": {
        "dtype": "int32",
        "shape": [
         175
        ],
        "type": null
       },
       "y": {
        "dtype": "int32",
        "shape": [
         175
        ],
        "type": null
       }
      }
     },
     "63c9f3d47e774bd7b35c0f6b19f54577": {
      "model_module": "bqplot",
      "model_module_version": "^0.5.18",
      "model_name": "ToolbarModel",
      "state": {
       "_model_module_version": "^0.5.18",
       "_view_module_version": "^0.5.18",
       "figure": "IPY_MODEL_28e43afe41a248aea319bcda695e368f",
       "layout": "IPY_MODEL_aed08846c8d5466890bacccc82941785"
      }
     },
     "6614dbd3c82c4f77aff943d71de8c93e": {
      "model_module": "bqplot",
      "model_module_version": "^0.5.18",
      "model_name": "LinearScaleModel",
      "state": {
       "_model_module_version": "^0.5.18",
       "_view_module_version": "^0.5.18",
       "allow_padding": false,
       "max": 1,
       "min": 0,
       "stabilized": false
      }
     },
     "689e981cebe64abf97c6fbf71d670b46": {
      "model_module": "@jupyter-widgets/base",
      "model_module_version": "1.2.0",
      "model_name": "LayoutModel",
      "state": {}
     },
     "6c694b17049d46ea95b3bc3ec3abb092": {
      "model_module": "bqplot",
      "model_module_version": "^0.5.18",
      "model_name": "LinearScaleModel",
      "state": {
       "_model_module_version": "^0.5.18",
       "_view_module_version": "^0.5.18",
       "allow_padding": false,
       "max": 1,
       "min": 0,
       "stabilized": false
      }
     },
     "71445f7d303f46cbac0fc04e165ef1d1": {
      "model_module": "@jupyter-widgets/base",
      "model_module_version": "1.2.0",
      "model_name": "LayoutModel",
      "state": {}
     },
     "791bfc2e1a324ea38a4ac301918e49f4": {
      "model_module": "bqplot",
      "model_module_version": "^0.5.18",
      "model_name": "AxisModel",
      "state": {
       "_model_module_version": "^0.5.18",
       "_view_module_version": "^0.5.18",
       "scale": "IPY_MODEL_81633a34d3b94e5f9f06b8d6bfa768f4",
       "side": "bottom",
       "tick_values": null
      }
     },
     "79e58475e2c64581adeadfa40471b92b": {
      "model_module": "bqplot",
      "model_module_version": "^0.5.18",
      "model_name": "LinearScaleModel",
      "state": {
       "_model_module_version": "^0.5.18",
       "_view_module_version": "^0.5.18",
       "allow_padding": false,
       "max": 1,
       "min": 0,
       "stabilized": false
      }
     },
     "7bdb19ab63c64f44b2979cd28fd92f7f": {
      "buffers": [
       {
        "data": "AAAAAAEAAAACAAAAAwAAAAQAAAAFAAAABgAAAAcAAAAIAAAACQAAAAoAAAALAAAADAAAAA0AAAAOAAAADwAAABAAAAARAAAAEgAAABMAAAAUAAAAFQAAABYAAAAXAAAAGAAAABkAAAAaAAAAGwAAABwAAAAdAAAAHgAAAB8AAAAgAAAAIQAAACIAAAAjAAAAJAAAACUAAAAmAAAAJwAAACgAAAApAAAAKgAAACsAAAAsAAAALQAAAC4AAAAvAAAAMAAAADEAAAAyAAAAMwAAADQAAAA1AAAANgAAADcAAAA4AAAAOQAAADoAAAA7AAAAPAAAAD0AAAA+AAAAPwAAAEAAAABBAAAAQgAAAEMAAABEAAAARQAAAEYAAABHAAAASAAAAEkAAABKAAAASwAAAEwAAABNAAAATgAAAE8AAABQAAAAUQAAAFIAAABTAAAAVAAAAFUAAABWAAAAVwAAAFgAAABZAAAAWgAAAFsAAABcAAAAXQAAAF4AAABfAAAAYAAAAGEAAABiAAAAYwAAAGQAAABlAAAAZgAAAGcAAABoAAAAaQAAAGoAAABrAAAAbAAAAG0AAABuAAAAbwAAAHAAAABxAAAAcgAAAHMAAAB0AAAAdQAAAHYAAAB3AAAAeAAAAHkAAAB6AAAAewAAAHwAAAB9AAAAfgAAAH8AAACAAAAAgQAAAIIAAACDAAAAhAAAAIUAAACGAAAAhwAAAIgAAACJAAAAigAAAIsAAACMAAAAjQAAAI4AAACPAAAAkAAAAJEAAACSAAAAkwAAAJQAAACVAAAAlgAAAJcAAACYAAAAmQAAAJoAAACbAAAAnAAAAJ0AAACeAAAAnwAAAKAAAAChAAAAogAAAKMAAACkAAAApQAAAKYAAACnAAAAqAAAAKkAAACqAAAAqwAAAKwAAACtAAAArgAAAA==",
        "encoding": "base64",
        "path": [
         "x",
         "value"
        ]
       },
       {
        "data": "HwAAAAcAAAAFAAAABQAAAAUAAAAEAAAABAAAAAMAAAADAAAAAwAAAAMAAAADAAAAAwAAAAMAAAACAAAAAgAAAAIAAAACAAAAAgAAAAIAAAACAAAAAgAAAAIAAAACAAAAAgAAAAIAAAACAAAAAgAAAAIAAAACAAAAAgAAAAIAAAACAAAAAgAAAAIAAAACAAAAAgAAAAEAAAABAAAAAQAAAAEAAAABAAAAAQAAAAEAAAABAAAAAQAAAAEAAAABAAAAAQAAAAEAAAABAAAAAQAAAAEAAAABAAAAAQAAAAEAAAABAAAAAQAAAAEAAAABAAAAAQAAAAEAAAABAAAAAQAAAAEAAAABAAAAAQAAAAEAAAABAAAAAQAAAAEAAAABAAAAAQAAAAEAAAABAAAAAQAAAAEAAAABAAAAAQAAAAEAAAABAAAAAQAAAAEAAAABAAAAAQAAAAEAAAABAAAAAQAAAAEAAAABAAAAAQAAAAEAAAABAAAAAQAAAAEAAAABAAAAAQAAAAEAAAABAAAAAQAAAAEAAAABAAAAAQAAAAEAAAABAAAAAQAAAAEAAAABAAAAAQAAAAEAAAABAAAAAQAAAAEAAAABAAAAAQAAAAEAAAABAAAAAQAAAAEAAAABAAAAAQAAAAEAAAABAAAAAQAAAAEAAAABAAAAAQAAAAEAAAABAAAAAQAAAAEAAAABAAAAAQAAAAEAAAABAAAAAQAAAAEAAAABAAAAAQAAAAEAAAABAAAAAQAAAAEAAAABAAAAAQAAAAEAAAABAAAAAQAAAAEAAAABAAAAAQAAAAEAAAABAAAAAQAAAAEAAAABAAAAAQAAAAEAAAABAAAAAQAAAAEAAAABAAAAAQAAAAEAAAABAAAAAQAAAAEAAAABAAAAAQAAAAEAAAABAAAAAQAAAAEAAAABAAAAAQAAAA==",
        "encoding": "base64",
        "path": [
         "y",
         "value"
        ]
       }
      ],
      "model_module": "bqplot",
      "model_module_version": "^0.5.18",
      "model_name": "LinesModel",
      "state": {
       "_model_module_version": "^0.5.18",
       "_view_module_version": "^0.5.18",
       "fill_colors": [],
       "labels": [
        "C1"
       ],
       "scales": {
        "x": "IPY_MODEL_2a944ac647684872bc7fa22c4687c44d",
        "y": "IPY_MODEL_2f15896a9e124b9fb214f31f94c3fe97"
       },
       "x": {
        "dtype": "int32",
        "shape": [
         175
        ],
        "type": null
       },
       "y": {
        "dtype": "int32",
        "shape": [
         175
        ],
        "type": null
       }
      }
     },
     "7c7b0782a3914d34a0bf07ece360a573": {
      "model_module": "bqplot",
      "model_module_version": "^0.5.18",
      "model_name": "LinearScaleModel",
      "state": {
       "_model_module_version": "^0.5.18",
       "_view_module_version": "^0.5.18",
       "allow_padding": false,
       "max": 1,
       "min": 0,
       "stabilized": false
      }
     },
     "81633a34d3b94e5f9f06b8d6bfa768f4": {
      "model_module": "bqplot",
      "model_module_version": "^0.5.18",
      "model_name": "LinearScaleModel",
      "state": {
       "_model_module_version": "^0.5.18",
       "_view_module_version": "^0.5.18",
       "stabilized": false
      }
     },
     "8369804c718b4936a34f90d5fad339f8": {
      "model_module": "bqplot",
      "model_module_version": "^0.5.18",
      "model_name": "FigureModel",
      "state": {
       "_model_module_version": "^0.5.18",
       "_view_module_version": "^0.5.18",
       "layout": "IPY_MODEL_90b19b83707541f18691134a1e4b89a4",
       "scale_x": "IPY_MODEL_79e58475e2c64581adeadfa40471b92b",
       "scale_y": "IPY_MODEL_50fbf221fcc14a9e988433709560d955"
      }
     },
     "87f673bf704f4a0d925ae4001cc2d069": {
      "model_module": "bqplot",
      "model_module_version": "^0.5.18",
      "model_name": "LinearScaleModel",
      "state": {
       "_model_module_version": "^0.5.18",
       "_view_module_version": "^0.5.18",
       "allow_padding": false,
       "max": 1,
       "min": 0,
       "stabilized": false
      }
     },
     "8a1b830b36d24a8480ff9c28a945a043": {
      "model_module": "@jupyter-widgets/base",
      "model_module_version": "1.2.0",
      "model_name": "LayoutModel",
      "state": {}
     },
     "8a4c6bab8ea1480aa816982e2007f98c": {
      "model_module": "bqplot",
      "model_module_version": "^0.5.18",
      "model_name": "ToolbarModel",
      "state": {
       "_model_module_version": "^0.5.18",
       "_view_module_version": "^0.5.18",
       "figure": "IPY_MODEL_90418e9ec0014650ad847cbe5aa6f8d5",
       "layout": "IPY_MODEL_8a1b830b36d24a8480ff9c28a945a043"
      }
     },
     "90418e9ec0014650ad847cbe5aa6f8d5": {
      "model_module": "bqplot",
      "model_module_version": "^0.5.18",
      "model_name": "FigureModel",
      "state": {
       "_model_module_version": "^0.5.18",
       "_view_module_version": "^0.5.18",
       "axes": [
        "IPY_MODEL_278d7232300a4281a89a20529a97c346",
        "IPY_MODEL_f66dc8c67f9f439c855b47a6af9b0de0"
       ],
       "layout": "IPY_MODEL_3129d10c6cd740b7ab7745bb6361896b",
       "marks": [
        "IPY_MODEL_1b81e8d7747f4ade8732069e28ac2b79",
        "IPY_MODEL_e7aee2ee61984e13a008522026a495b8",
        "IPY_MODEL_5fe26208d7fb423186ae03302671623d",
        "IPY_MODEL_7bdb19ab63c64f44b2979cd28fd92f7f"
       ],
       "scale_x": "IPY_MODEL_0f0d73466f924b469f54272af2eb544c",
       "scale_y": "IPY_MODEL_1622501b3c3b4845a533a14690f0fc48"
      }
     },
     "90b19b83707541f18691134a1e4b89a4": {
      "model_module": "@jupyter-widgets/base",
      "model_module_version": "1.2.0",
      "model_name": "LayoutModel",
      "state": {}
     },
     "90f56d93e5af481c87b653c02d2fe201": {
      "model_module": "@jupyter-widgets/base",
      "model_module_version": "1.2.0",
      "model_name": "LayoutModel",
      "state": {}
     },
     "91ef7837efcb4720819ef2c93f32a9c9": {
      "model_module": "@jupyter-widgets/base",
      "model_module_version": "1.2.0",
      "model_name": "LayoutModel",
      "state": {}
     },
     "92215d385a744580a400fb07b63f30bd": {
      "model_module": "@jupyter-widgets/base",
      "model_module_version": "1.2.0",
      "model_name": "LayoutModel",
      "state": {}
     },
     "96cd41360e554990999326d5e0b814e9": {
      "model_module": "@jupyter-widgets/base",
      "model_module_version": "1.2.0",
      "model_name": "LayoutModel",
      "state": {}
     },
     "9881848cb7db40369cf9ef74c1e640b2": {
      "model_module": "@jupyter-widgets/base",
      "model_module_version": "1.2.0",
      "model_name": "LayoutModel",
      "state": {}
     },
     "a50432e482644302bbdc9998005bd4b8": {
      "model_module": "bqplot",
      "model_module_version": "^0.5.18",
      "model_name": "AxisModel",
      "state": {
       "_model_module_version": "^0.5.18",
       "_view_module_version": "^0.5.18",
       "scale": "IPY_MODEL_abdfa114f274426ebbe577c1b504232a",
       "side": "bottom",
       "tick_values": null
      }
     },
     "a8d5646c024343a1b5dfa8e1659285ff": {
      "model_module": "bqplot",
      "model_module_version": "^0.5.18",
      "model_name": "FigureModel",
      "state": {
       "_model_module_version": "^0.5.18",
       "_view_module_version": "^0.5.18",
       "axes": [
        "IPY_MODEL_a50432e482644302bbdc9998005bd4b8",
        "IPY_MODEL_2a3d398672524caa9412b4d1b93b7921"
       ],
       "layout": "IPY_MODEL_ff4d262cb7af46ba94c0d96dd88cbbef",
       "marks": [
        "IPY_MODEL_39552743914e41ff9e580d57079affc1"
       ],
       "scale_x": "IPY_MODEL_ccd22c02ddc8409998fdc8a4a177cbab",
       "scale_y": "IPY_MODEL_32b92dd7d50748fb85c788fb0c514c3c"
      }
     },
     "a8ee4521aa234e68a3acb461311bafdb": {
      "model_module": "@jupyter-widgets/base",
      "model_module_version": "1.2.0",
      "model_name": "LayoutModel",
      "state": {}
     },
     "abdfa114f274426ebbe577c1b504232a": {
      "model_module": "bqplot",
      "model_module_version": "^0.5.18",
      "model_name": "LinearScaleModel",
      "state": {
       "_model_module_version": "^0.5.18",
       "_view_module_version": "^0.5.18",
       "stabilized": false
      }
     },
     "ad868c1cf5ac4fddaf9fef97c34a9b79": {
      "buffers": [
       {
        "data": "AAAAAAEAAAACAAAAAwAAAAQAAAAFAAAABgAAAAcAAAAIAAAACQAAAAoAAAALAAAADAAAAA0AAAAOAAAADwAAABAAAAARAAAAEgAAABMAAAAUAAAAFQAAABYAAAAXAAAAGAAAABkAAAAaAAAAGwAAABwAAAAdAAAAHgAAAB8AAAAgAAAAIQAAACIAAAAjAAAAJAAAACUAAAAmAAAAJwAAACgAAAApAAAAKgAAACsAAAAsAAAALQAAAC4AAAAvAAAAMAAAADEAAAAyAAAAMwAAADQAAAA1AAAANgAAADcAAAA4AAAAOQAAADoAAAA7AAAAPAAAAD0AAAA+AAAAPwAAAEAAAABBAAAAQgAAAEMAAABEAAAARQAAAEYAAABHAAAASAAAAEkAAABKAAAASwAAAEwAAABNAAAATgAAAE8AAABQAAAAUQAAAFIAAABTAAAAVAAAAFUAAABWAAAAVwAAAFgAAABZAAAAWgAAAFsAAABcAAAAXQAAAF4AAABfAAAAYAAAAGEAAABiAAAAYwAAAGQAAABlAAAAZgAAAGcAAABoAAAAaQAAAGoAAABrAAAAbAAAAG0AAABuAAAAbwAAAHAAAABxAAAAcgAAAHMAAAB0AAAAdQAAAHYAAAB3AAAAeAAAAHkAAAB6AAAAewAAAHwAAAB9AAAAfgAAAH8AAACAAAAAgQAAAIIAAACDAAAAhAAAAIUAAACGAAAAhwAAAIgAAACJAAAAigAAAIsAAACMAAAAjQAAAI4AAACPAAAAkAAAAJEAAACSAAAAkwAAAJQAAACVAAAAlgAAAJcAAACYAAAAmQAAAJoAAACbAAAAnAAAAJ0AAACeAAAAnwAAAKAAAAChAAAAogAAAKMAAACkAAAApQAAAKYAAACnAAAAqAAAAKkAAACqAAAAqwAAAKwAAACtAAAArgAAAA==",
        "encoding": "base64",
        "path": [
         "x",
         "value"
        ]
       },
       {
        "data": "HwAAAAcAAAAFAAAABQAAAAUAAAAEAAAABAAAAAMAAAADAAAAAwAAAAMAAAADAAAAAwAAAAMAAAACAAAAAgAAAAIAAAACAAAAAgAAAAIAAAACAAAAAgAAAAIAAAACAAAAAgAAAAIAAAACAAAAAgAAAAIAAAACAAAAAgAAAAIAAAACAAAAAgAAAAIAAAACAAAAAgAAAAEAAAABAAAAAQAAAAEAAAABAAAAAQAAAAEAAAABAAAAAQAAAAEAAAABAAAAAQAAAAEAAAABAAAAAQAAAAEAAAABAAAAAQAAAAEAAAABAAAAAQAAAAEAAAABAAAAAQAAAAEAAAABAAAAAQAAAAEAAAABAAAAAQAAAAEAAAABAAAAAQAAAAEAAAABAAAAAQAAAAEAAAABAAAAAQAAAAEAAAABAAAAAQAAAAEAAAABAAAAAQAAAAEAAAABAAAAAQAAAAEAAAABAAAAAQAAAAEAAAABAAAAAQAAAAEAAAABAAAAAQAAAAEAAAABAAAAAQAAAAEAAAABAAAAAQAAAAEAAAABAAAAAQAAAAEAAAABAAAAAQAAAAEAAAABAAAAAQAAAAEAAAABAAAAAQAAAAEAAAABAAAAAQAAAAEAAAABAAAAAQAAAAEAAAABAAAAAQAAAAEAAAABAAAAAQAAAAEAAAABAAAAAQAAAAEAAAABAAAAAQAAAAEAAAABAAAAAQAAAAEAAAABAAAAAQAAAAEAAAABAAAAAQAAAAEAAAABAAAAAQAAAAEAAAABAAAAAQAAAAEAAAABAAAAAQAAAAEAAAABAAAAAQAAAAEAAAABAAAAAQAAAAEAAAABAAAAAQAAAAEAAAABAAAAAQAAAAEAAAABAAAAAQAAAAEAAAABAAAAAQAAAAEAAAABAAAAAQAAAAEAAAABAAAAAQAAAAEAAAABAAAAAQAAAA==",
        "encoding": "base64",
        "path": [
         "y",
         "value"
        ]
       }
      ],
      "model_module": "bqplot",
      "model_module_version": "^0.5.18",
      "model_name": "LinesModel",
      "state": {
       "_model_module_version": "^0.5.18",
       "_view_module_version": "^0.5.18",
       "fill_colors": [],
       "labels": [
        "C1"
       ],
       "scales": {
        "x": "IPY_MODEL_81633a34d3b94e5f9f06b8d6bfa768f4",
        "y": "IPY_MODEL_fd5b0305e35a4f57aa7ce7055ab656a0"
       },
       "x": {
        "dtype": "int32",
        "shape": [
         175
        ],
        "type": null
       },
       "y": {
        "dtype": "int32",
        "shape": [
         175
        ],
        "type": null
       }
      }
     },
     "aed08846c8d5466890bacccc82941785": {
      "model_module": "@jupyter-widgets/base",
      "model_module_version": "1.2.0",
      "model_name": "LayoutModel",
      "state": {}
     },
     "b0466d62846241d486b985f72fae2b71": {
      "model_module": "bqplot",
      "model_module_version": "^0.5.18",
      "model_name": "AxisModel",
      "state": {
       "_model_module_version": "^0.5.18",
       "_view_module_version": "^0.5.18",
       "orientation": "vertical",
       "scale": "IPY_MODEL_fd5b0305e35a4f57aa7ce7055ab656a0",
       "side": "left",
       "tick_values": null
      }
     },
     "bb9f4aa868aa4bec99848c3ce9145e24": {
      "model_module": "bqplot",
      "model_module_version": "^0.5.18",
      "model_name": "ToolbarModel",
      "state": {
       "_model_module_version": "^0.5.18",
       "_view_module_version": "^0.5.18",
       "figure": "IPY_MODEL_4003fba24cb74d96bb0bed4dfaa36454",
       "layout": "IPY_MODEL_dd412cb30bbf4eb8b8b3b46ae976d025"
      }
     },
     "c46ac891dc5e41c4b1077abe9ab81a6b": {
      "model_module": "bqplot",
      "model_module_version": "^0.5.18",
      "model_name": "FigureModel",
      "state": {
       "_model_module_version": "^0.5.18",
       "_view_module_version": "^0.5.18",
       "layout": "IPY_MODEL_31a8a5fb7b4141ee969638fa68b4b4b1",
       "scale_x": "IPY_MODEL_d8d21cb6c97d413a8cd60ddce55e39c5",
       "scale_y": "IPY_MODEL_cf77c9286e624bf484a3261198d4c018"
      }
     },
     "c4c99372d4fe4c1fa7af2256ecc47d01": {
      "model_module": "bqplot",
      "model_module_version": "^0.5.18",
      "model_name": "FigureModel",
      "state": {
       "_model_module_version": "^0.5.18",
       "_view_module_version": "^0.5.18",
       "layout": "IPY_MODEL_299d49eb83ba49f995f8b20e31fe59eb",
       "scale_x": "IPY_MODEL_87f673bf704f4a0d925ae4001cc2d069",
       "scale_y": "IPY_MODEL_034c2d14b4ae427ba71543e4e8916742"
      }
     },
     "c665904bb65a44f98a67fdb9e7a058a6": {
      "model_module": "bqplot",
      "model_module_version": "^0.5.18",
      "model_name": "LinearScaleModel",
      "state": {
       "_model_module_version": "^0.5.18",
       "_view_module_version": "^0.5.18",
       "allow_padding": false,
       "max": 1,
       "min": 0,
       "stabilized": false
      }
     },
     "ccd22c02ddc8409998fdc8a4a177cbab": {
      "model_module": "bqplot",
      "model_module_version": "^0.5.18",
      "model_name": "LinearScaleModel",
      "state": {
       "_model_module_version": "^0.5.18",
       "_view_module_version": "^0.5.18",
       "allow_padding": false,
       "max": 1,
       "min": 0,
       "stabilized": false
      }
     },
     "cf77c9286e624bf484a3261198d4c018": {
      "model_module": "bqplot",
      "model_module_version": "^0.5.18",
      "model_name": "LinearScaleModel",
      "state": {
       "_model_module_version": "^0.5.18",
       "_view_module_version": "^0.5.18",
       "allow_padding": false,
       "max": 1,
       "min": 0,
       "stabilized": false
      }
     },
     "d8d21cb6c97d413a8cd60ddce55e39c5": {
      "model_module": "bqplot",
      "model_module_version": "^0.5.18",
      "model_name": "LinearScaleModel",
      "state": {
       "_model_module_version": "^0.5.18",
       "_view_module_version": "^0.5.18",
       "allow_padding": false,
       "max": 1,
       "min": 0,
       "stabilized": false
      }
     },
     "da0b2022b6464fef989627025f0bb615": {
      "model_module": "@jupyter-widgets/controls",
      "model_module_version": "1.5.0",
      "model_name": "VBoxModel",
      "state": {
       "children": [
        "IPY_MODEL_a8d5646c024343a1b5dfa8e1659285ff",
        "IPY_MODEL_f230cc903369460e96b41496c0b33810"
       ],
       "layout": "IPY_MODEL_90f56d93e5af481c87b653c02d2fe201"
      }
     },
     "dd412cb30bbf4eb8b8b3b46ae976d025": {
      "model_module": "@jupyter-widgets/base",
      "model_module_version": "1.2.0",
      "model_name": "LayoutModel",
      "state": {}
     },
     "e7aee2ee61984e13a008522026a495b8": {
      "buffers": [
       {
        "data": "AAAAAAEAAAACAAAAAwAAAAQAAAAFAAAABgAAAAcAAAAIAAAACQAAAAoAAAALAAAADAAAAA0AAAAOAAAADwAAABAAAAARAAAAEgAAABMAAAAUAAAAFQAAABYAAAAXAAAAGAAAABkAAAAaAAAAGwAAABwAAAAdAAAAHgAAAB8AAAAgAAAAIQAAACIAAAAjAAAAJAAAACUAAAAmAAAAJwAAACgAAAApAAAAKgAAACsAAAAsAAAALQAAAC4AAAAvAAAAMAAAADEAAAAyAAAAMwAAADQAAAA1AAAANgAAADcAAAA4AAAAOQAAADoAAAA7AAAAPAAAAD0AAAA+AAAAPwAAAEAAAABBAAAAQgAAAEMAAABEAAAARQAAAEYAAABHAAAASAAAAEkAAABKAAAASwAAAEwAAABNAAAATgAAAE8AAABQAAAAUQAAAFIAAABTAAAAVAAAAFUAAABWAAAAVwAAAFgAAABZAAAAWgAAAFsAAABcAAAAXQAAAF4AAABfAAAAYAAAAGEAAABiAAAAYwAAAGQAAABlAAAAZgAAAGcAAABoAAAAaQAAAGoAAABrAAAAbAAAAG0AAABuAAAAbwAAAHAAAABxAAAAcgAAAHMAAAB0AAAAdQAAAHYAAAB3AAAAeAAAAHkAAAB6AAAAewAAAHwAAAB9AAAAfgAAAH8AAACAAAAAgQAAAIIAAACDAAAAhAAAAIUAAACGAAAAhwAAAIgAAACJAAAAigAAAIsAAACMAAAAjQAAAI4AAACPAAAAkAAAAJEAAACSAAAAkwAAAJQAAACVAAAAlgAAAJcAAACYAAAAmQAAAJoAAACbAAAAnAAAAJ0AAACeAAAAnwAAAKAAAAChAAAAogAAAKMAAACkAAAApQAAAKYAAACnAAAAqAAAAKkAAACqAAAAqwAAAKwAAACtAAAArgAAAK8AAACwAAAAsQAAALIAAACzAAAAtAAAALUAAAC2AAAAtwAAALgAAAC5AAAAugAAALsAAAC8AAAAvQAAAL4AAAC/AAAAwAAAAMEAAADCAAAAwwAAAMQAAADFAAAAxgAAAMcAAADIAAAAyQAAAMoAAADLAAAAzAAAAM0AAADOAAAAzwAAANAAAADRAAAA0gAAANMAAADUAAAA1QAAANYAAADXAAAA2AAAANkAAADaAAAA2wAAANwAAADdAAAA3gAAAN8AAADgAAAA4QAAAOIAAADjAAAA5AAAAOUAAADmAAAA5wAAAOgAAADpAAAA6gAAAOsAAADsAAAA",
        "encoding": "base64",
        "path": [
         "x",
         "value"
        ]
       },
       {
        "data": "AAAAAAAAAAAAAAAAAAAAAAEAAAABAAAAAQAAAAEAAAABAAAAAQAAAAEAAAABAAAAAQAAAAEAAAABAAAAAQAAAAEAAAABAAAAAQAAAAEAAAABAAAAAQAAAAEAAAABAAAAAQAAAAEAAAABAAAAAQAAAAEAAAABAAAAAQAAAAEAAAABAAAAAQAAAAEAAAABAAAAAQAAAAEAAAABAAAAAQAAAAEAAAABAAAAAQAAAAEAAAABAAAAAQAAAAEAAAABAAAAAQAAAAEAAAABAAAAAQAAAAEAAAABAAAAAQAAAAEAAAABAAAAAQAAAAEAAAABAAAAAQAAAAEAAAABAAAAAQAAAAEAAAABAAAAAQAAAAEAAAABAAAAAQAAAAEAAAABAAAAAQAAAAEAAAABAAAAAQAAAAEAAAABAAAAAQAAAAEAAAABAAAAAQAAAAEAAAABAAAAAQAAAAEAAAABAAAAAQAAAAEAAAABAAAAAQAAAAEAAAABAAAAAQAAAAEAAAABAAAAAQAAAAEAAAABAAAAAQAAAAEAAAABAAAAAQAAAAEAAAABAAAAAQAAAAEAAAABAAAAAQAAAAEAAAABAAAAAQAAAAEAAAABAAAAAQAAAAEAAAABAAAAAQAAAAEAAAABAAAAAQAAAAEAAAABAAAAAQAAAAEAAAABAAAAAQAAAAEAAAABAAAAAQAAAAEAAAABAAAAAQAAAAEAAAABAAAAAQAAAAEAAAABAAAAAQAAAAEAAAABAAAAAQAAAAEAAAABAAAAAQAAAAEAAAABAAAAAQAAAAEAAAABAAAAAQAAAAEAAAABAAAAAQAAAAEAAAABAAAAAQAAAAEAAAABAAAAAQAAAAEAAAABAAAAAQAAAAEAAAABAAAAAQAAAAEAAAABAAAAAQAAAAEAAAABAAAAAQAAAAEAAAABAAAAAQAAAAEAAAABAAAAAQAAAAEAAAABAAAAAQAAAAEAAAABAAAAAQAAAAEAAAABAAAAAQAAAAEAAAABAAAAAQAAAAEAAAABAAAAAQAAAAEAAAABAAAAAQAAAAEAAAABAAAAAQAAAAEAAAABAAAAAQAAAAEAAAABAAAAAQAAAAEAAAABAAAAAQAAAAEAAAABAAAAAgAAAAIAAAACAAAAAgAAAAIAAAACAAAAAgAAAAIAAAACAAAAAgAAAAIAAAACAAAAAgAAAAIAAAACAAAAAgAAAAIAAAACAAAAAgAAAAIAAAACAAAAAgAAAAIAAAACAAAAAwAAAAQAAAAFAAAA",
        "encoding": "base64",
        "path": [
         "y",
         "value"
        ]
       }
      ],
      "model_module": "bqplot",
      "model_module_version": "^0.5.18",
      "model_name": "LinesModel",
      "state": {
       "_model_module_version": "^0.5.18",
       "_view_module_version": "^0.5.18",
       "fill_colors": [],
       "labels": [
        "C1"
       ],
       "scales": {
        "x": "IPY_MODEL_2a944ac647684872bc7fa22c4687c44d",
        "y": "IPY_MODEL_2f15896a9e124b9fb214f31f94c3fe97"
       },
       "x": {
        "dtype": "int32",
        "shape": [
         237
        ],
        "type": null
       },
       "y": {
        "dtype": "int32",
        "shape": [
         237
        ],
        "type": null
       }
      }
     },
     "eb9e8fa8891d414d8dc6bfa0a17a7c17": {
      "model_module": "@jupyter-widgets/controls",
      "model_module_version": "1.5.0",
      "model_name": "VBoxModel",
      "state": {
       "children": [
        "IPY_MODEL_90418e9ec0014650ad847cbe5aa6f8d5",
        "IPY_MODEL_8a4c6bab8ea1480aa816982e2007f98c"
       ],
       "layout": "IPY_MODEL_054729a2681b427cbae3c1b88bbb5d81"
      }
     },
     "f0a3adb5548d4ac7a1a4c64b934069d2": {
      "model_module": "@jupyter-widgets/controls",
      "model_module_version": "1.5.0",
      "model_name": "VBoxModel",
      "state": {
       "children": [
        "IPY_MODEL_28e43afe41a248aea319bcda695e368f",
        "IPY_MODEL_63c9f3d47e774bd7b35c0f6b19f54577"
       ],
       "layout": "IPY_MODEL_71445f7d303f46cbac0fc04e165ef1d1"
      }
     },
     "f230cc903369460e96b41496c0b33810": {
      "model_module": "bqplot",
      "model_module_version": "^0.5.18",
      "model_name": "ToolbarModel",
      "state": {
       "_model_module_version": "^0.5.18",
       "_view_module_version": "^0.5.18",
       "figure": "IPY_MODEL_a8d5646c024343a1b5dfa8e1659285ff",
       "layout": "IPY_MODEL_96cd41360e554990999326d5e0b814e9"
      }
     },
     "f2f950f505b44f20b13b7cc64b20629d": {
      "buffers": [
       {
        "data": "AAAAAAEAAAACAAAAAwAAAAQAAAAFAAAABgAAAAcAAAAIAAAACQAAAAoAAAALAAAADAAAAA0AAAAOAAAADwAAABAAAAARAAAAEgAAABMAAAAUAAAAFQAAABYAAAAXAAAAGAAAABkAAAAaAAAAGwAAABwAAAAdAAAAHgAAAB8AAAAgAAAAIQAAACIAAAAjAAAAJAAAACUAAAAmAAAAJwAAACgAAAApAAAAKgAAACsAAAAsAAAALQAAAC4AAAAvAAAAMAAAADEAAAAyAAAAMwAAADQAAAA1AAAANgAAADcAAAA4AAAAOQAAADoAAAA7AAAAPAAAAD0AAAA+AAAAPwAAAEAAAABBAAAAQgAAAEMAAABEAAAARQAAAEYAAABHAAAASAAAAEkAAABKAAAASwAAAEwAAABNAAAATgAAAE8AAABQAAAAUQAAAFIAAABTAAAAVAAAAFUAAABWAAAAVwAAAFgAAABZAAAAWgAAAFsAAABcAAAAXQAAAF4AAABfAAAAYAAAAGEAAABiAAAAYwAAAGQAAABlAAAAZgAAAGcAAABoAAAAaQAAAGoAAABrAAAAbAAAAG0AAABuAAAAbwAAAHAAAABxAAAAcgAAAHMAAAB0AAAAdQAAAHYAAAB3AAAAeAAAAHkAAAB6AAAAewAAAHwAAAB9AAAAfgAAAH8AAACAAAAAgQAAAIIAAACDAAAAhAAAAIUAAACGAAAAhwAAAIgAAACJAAAAigAAAIsAAACMAAAAjQAAAI4AAACPAAAAkAAAAJEAAACSAAAAkwAAAJQAAACVAAAAlgAAAJcAAACYAAAAmQAAAJoAAACbAAAAnAAAAJ0AAACeAAAAnwAAAKAAAAChAAAAogAAAKMAAACkAAAApQAAAKYAAACnAAAAqAAAAKkAAACqAAAAqwAAAKwAAACtAAAArgAAAA==",
        "encoding": "base64",
        "path": [
         "x",
         "value"
        ]
       },
       {
        "data": "HwAAAAcAAAAFAAAABQAAAAUAAAAEAAAABAAAAAMAAAADAAAAAwAAAAMAAAADAAAAAwAAAAMAAAACAAAAAgAAAAIAAAACAAAAAgAAAAIAAAACAAAAAgAAAAIAAAACAAAAAgAAAAIAAAACAAAAAgAAAAIAAAACAAAAAgAAAAIAAAACAAAAAgAAAAIAAAACAAAAAgAAAAEAAAABAAAAAQAAAAEAAAABAAAAAQAAAAEAAAABAAAAAQAAAAEAAAABAAAAAQAAAAEAAAABAAAAAQAAAAEAAAABAAAAAQAAAAEAAAABAAAAAQAAAAEAAAABAAAAAQAAAAEAAAABAAAAAQAAAAEAAAABAAAAAQAAAAEAAAABAAAAAQAAAAEAAAABAAAAAQAAAAEAAAABAAAAAQAAAAEAAAABAAAAAQAAAAEAAAABAAAAAQAAAAEAAAABAAAAAQAAAAEAAAABAAAAAQAAAAEAAAABAAAAAQAAAAEAAAABAAAAAQAAAAEAAAABAAAAAQAAAAEAAAABAAAAAQAAAAEAAAABAAAAAQAAAAEAAAABAAAAAQAAAAEAAAABAAAAAQAAAAEAAAABAAAAAQAAAAEAAAABAAAAAQAAAAEAAAABAAAAAQAAAAEAAAABAAAAAQAAAAEAAAABAAAAAQAAAAEAAAABAAAAAQAAAAEAAAABAAAAAQAAAAEAAAABAAAAAQAAAAEAAAABAAAAAQAAAAEAAAABAAAAAQAAAAEAAAABAAAAAQAAAAEAAAABAAAAAQAAAAEAAAABAAAAAQAAAAEAAAABAAAAAQAAAAEAAAABAAAAAQAAAAEAAAABAAAAAQAAAAEAAAABAAAAAQAAAAEAAAABAAAAAQAAAAEAAAABAAAAAQAAAAEAAAABAAAAAQAAAAEAAAABAAAAAQAAAAEAAAABAAAAAQAAAA==",
        "encoding": "base64",
        "path": [
         "y",
         "value"
        ]
       }
      ],
      "model_module": "bqplot",
      "model_module_version": "^0.5.18",
      "model_name": "LinesModel",
      "state": {
       "_model_module_version": "^0.5.18",
       "_view_module_version": "^0.5.18",
       "fill_colors": [],
       "labels": [
        "C1"
       ],
       "scales": {
        "x": "IPY_MODEL_56b8daf8204d4f2b8963797c68e0cc60",
        "y": "IPY_MODEL_2f8f6c2abca644cfa8770be19e2e799c"
       },
       "x": {
        "dtype": "int32",
        "shape": [
         175
        ],
        "type": null
       },
       "y": {
        "dtype": "int32",
        "shape": [
         175
        ],
        "type": null
       }
      }
     },
     "f66dc8c67f9f439c855b47a6af9b0de0": {
      "model_module": "bqplot",
      "model_module_version": "^0.5.18",
      "model_name": "AxisModel",
      "state": {
       "_model_module_version": "^0.5.18",
       "_view_module_version": "^0.5.18",
       "orientation": "vertical",
       "scale": "IPY_MODEL_2f15896a9e124b9fb214f31f94c3fe97",
       "side": "left",
       "tick_values": null
      }
     },
     "f83ba0a814b248a6bbb5ecc014de31d3": {
      "model_module": "bqplot",
      "model_module_version": "^0.5.18",
      "model_name": "LinearScaleModel",
      "state": {
       "_model_module_version": "^0.5.18",
       "_view_module_version": "^0.5.18",
       "allow_padding": false,
       "max": 1,
       "min": 0,
       "stabilized": false
      }
     },
     "fb4b1f97bbf9415c88afdc767d81789e": {
      "model_module": "bqplot",
      "model_module_version": "^0.5.18",
      "model_name": "LinearScaleModel",
      "state": {
       "_model_module_version": "^0.5.18",
       "_view_module_version": "^0.5.18",
       "allow_padding": false,
       "max": 1,
       "min": 0,
       "stabilized": false
      }
     },
     "fd5b0305e35a4f57aa7ce7055ab656a0": {
      "model_module": "bqplot",
      "model_module_version": "^0.5.18",
      "model_name": "LinearScaleModel",
      "state": {
       "_model_module_version": "^0.5.18",
       "_view_module_version": "^0.5.18",
       "stabilized": false
      }
     },
     "ff4d262cb7af46ba94c0d96dd88cbbef": {
      "model_module": "@jupyter-widgets/base",
      "model_module_version": "1.2.0",
      "model_name": "LayoutModel",
      "state": {}
     }
    },
    "version_major": 2,
    "version_minor": 0
   }
  }
 },
 "nbformat": 4,
 "nbformat_minor": 4
}

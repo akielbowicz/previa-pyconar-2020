{
 "cells": [
  {
   "cell_type": "markdown",
   "metadata": {},
   "source": [
    "# Como realizar el analisis de datos en Jupyter "
   ]
  },
  {
   "cell_type": "markdown",
   "metadata": {},
   "source": [
    "[PyCon Ar en PyVideo.org](https://pyvideo.org/events/pycon-ar-2011.html)"
   ]
  },
  {
   "cell_type": "markdown",
   "metadata": {},
   "source": [
    "- Explorar los datos"
   ]
  },
  {
   "cell_type": "code",
   "execution_count": 19,
   "metadata": {},
   "outputs": [],
   "source": [
    "import pathlib\n",
    "\n",
    "carpeta_datos = pathlib.Path('./datos')"
   ]
  },
  {
   "cell_type": "code",
   "execution_count": 25,
   "metadata": {},
   "outputs": [
    {
     "data": {
      "text/plain": [
       "[WindowsPath('datos/pycon-ar-2011/category.json'),\n",
       " WindowsPath('datos/pycon-ar-2011/videos'),\n",
       " WindowsPath('datos/pycon-ar-2012/category.json'),\n",
       " WindowsPath('datos/pycon-ar-2012/videos'),\n",
       " WindowsPath('datos/pycon-ar-2013/category.json'),\n",
       " WindowsPath('datos/pycon-ar-2013/videos'),\n",
       " WindowsPath('datos/pycon-ar-2014/category.json'),\n",
       " WindowsPath('datos/pycon-ar-2014/videos'),\n",
       " WindowsPath('datos/pycon-ar-2015/category.json'),\n",
       " WindowsPath('datos/pycon-ar-2015/videos'),\n",
       " WindowsPath('datos/pycon-ar-2016/category.json'),\n",
       " WindowsPath('datos/pycon-ar-2016/videos'),\n",
       " WindowsPath('datos/pycon-ar-2018/category.json'),\n",
       " WindowsPath('datos/pycon-ar-2018/videos')]"
      ]
     },
     "execution_count": 25,
     "metadata": {},
     "output_type": "execute_result"
    }
   ],
   "source": [
    "[ elemento for elemento in carpeta_datos.glob('*/*')]"
   ]
  },
  {
   "cell_type": "markdown",
   "metadata": {},
   "source": [
    "- Importar los datos con pandas"
   ]
  },
  {
   "cell_type": "code",
   "execution_count": null,
   "metadata": {},
   "outputs": [],
   "source": []
  },
  {
   "cell_type": "markdown",
   "metadata": {},
   "source": [
    "- Realizar graficos"
   ]
  }
 ],
 "metadata": {
  "kernelspec": {
   "display_name": "Python 3",
   "language": "python",
   "name": "python3"
  },
  "language_info": {
   "codemirror_mode": {
    "name": "ipython",
    "version": 3
   },
   "file_extension": ".py",
   "mimetype": "text/x-python",
   "name": "python",
   "nbconvert_exporter": "python",
   "pygments_lexer": "ipython3",
   "version": "3.8.6"
  }
 },
 "nbformat": 4,
 "nbformat_minor": 4
}

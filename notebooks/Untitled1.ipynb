{
 "cells": [
  {
   "cell_type": "code",
   "execution_count": 4,
   "metadata": {},
   "outputs": [],
   "source": [
    "# Hola "
   ]
  },
  {
   "cell_type": "markdown",
   "metadata": {},
   "source": [
    "# Hola Mundo Python\n",
    "\n",
    "- 1\n",
    "- 2\n",
    "- 3 "
   ]
  },
  {
   "cell_type": "code",
   "execution_count": 10,
   "metadata": {},
   "outputs": [
    {
     "name": "stdout",
     "output_type": "stream",
     "text": [
      " Volume in drive C is Windows8_OS\n",
      " Volume Serial Number is A81D-30BB\n",
      "\n",
      " Directory of C:\\Users\\pc\\Documents\\Code\\previa-pyconar-2020\\notebooks\n",
      "\n",
      "2020-11-12  19:29    <DIR>          .\n",
      "2020-11-12  19:29    <DIR>          ..\n",
      "2020-11-12  19:25    <DIR>          .ipynb_checkpoints\n",
      "2020-11-12  19:23               695 Untitled.ipynb\n",
      "2020-11-12  19:29             1,317 Untitled1.ipynb\n",
      "               2 File(s)          2,012 bytes\n",
      "               3 Dir(s)  128,300,744,704 bytes free\n"
     ]
    }
   ],
   "source": [
    "%ls "
   ]
  },
  {
   "cell_type": "code",
   "execution_count": 13,
   "metadata": {},
   "outputs": [],
   "source": [
    "# %load misDatos.py\n",
    "import this "
   ]
  },
  {
   "cell_type": "code",
   "execution_count": null,
   "metadata": {},
   "outputs": [],
   "source": [
    "%save otrosDatos.py\n",
    "for i in range(10):\n",
    "    print()"
   ]
  }
 ],
 "metadata": {
  "kernelspec": {
   "display_name": "Python 3",
   "language": "python",
   "name": "python3"
  },
  "language_info": {
   "codemirror_mode": {
    "name": "ipython",
    "version": 3
   },
   "file_extension": ".py",
   "mimetype": "text/x-python",
   "name": "python",
   "nbconvert_exporter": "python",
   "pygments_lexer": "ipython3",
   "version": "3.8.6"
  },
  "widgets": {
   "application/vnd.jupyter.widget-state+json": {
    "state": {},
    "version_major": 2,
    "version_minor": 0
   }
  }
 },
 "nbformat": 4,
 "nbformat_minor": 4
}
